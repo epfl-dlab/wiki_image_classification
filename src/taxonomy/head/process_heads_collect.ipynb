{
 "cells": [
  {
   "cell_type": "markdown",
   "metadata": {},
   "source": [
    "## Imports"
   ]
  },
  {
   "cell_type": "code",
   "execution_count": 1,
   "metadata": {},
   "outputs": [],
   "source": [
    "import numpy as np\n",
    "import pandas as pd\n",
    "import networkx as nx\n",
    "import pickle\n",
    "from tqdm import tqdm\n",
    "tqdm.pandas()\n",
    "\n",
    "import sys\n",
    "sys.path.append(\"../../../\")\n",
    "from src.taxonomy.taxonomy import Taxonomy\n",
    "from src.config import *"
   ]
  },
  {
   "cell_type": "markdown",
   "metadata": {},
   "source": [
    "## Collect heads"
   ]
  },
  {
   "cell_type": "markdown",
   "metadata": {},
   "source": [
    "Heads are collected merging all the chunks. We verify that the extraction + matching process worked, with only few mismatches due to special characters."
   ]
  },
  {
   "cell_type": "code",
   "execution_count": 54,
   "metadata": {},
   "outputs": [
    {
     "name": "stderr",
     "output_type": "stream",
     "text": [
      "100%|██████████| 20/20 [00:35<00:00,  1.79s/it]\n"
     ]
    }
   ],
   "source": [
    "n_chunks = 20\n",
    "heads_dict = {}\n",
    "for chunk in tqdm(range(n_chunks)):\n",
    "    with open(HEADS_PATH + f'chunk{chunk}.pkl', 'rb') as fp:\n",
    "            heads_dict.update(pickle.load(fp))"
   ]
  },
  {
   "cell_type": "code",
   "execution_count": 55,
   "metadata": {},
   "outputs": [],
   "source": [
    "heads_list = list(heads_dict.items())"
   ]
  },
  {
   "cell_type": "code",
   "execution_count": 56,
   "metadata": {},
   "outputs": [],
   "source": [
    "sames = np.array(list(map(lambda x: x[1].replace(' ', '').lower() in x[0].replace(' ', '').lower(), heads_list)))"
   ]
  },
  {
   "cell_type": "code",
   "execution_count": 57,
   "metadata": {},
   "outputs": [
    {
     "data": {
      "text/plain": [
       "11198638"
      ]
     },
     "execution_count": 57,
     "metadata": {},
     "output_type": "execute_result"
    }
   ],
   "source": [
    "len(sames)"
   ]
  },
  {
   "cell_type": "code",
   "execution_count": 58,
   "metadata": {},
   "outputs": [
    {
     "data": {
      "text/plain": [
       "11198582"
      ]
     },
     "execution_count": 58,
     "metadata": {},
     "output_type": "execute_result"
    }
   ],
   "source": [
    "sames.sum()"
   ]
  },
  {
   "cell_type": "code",
   "execution_count": 59,
   "metadata": {},
   "outputs": [
    {
     "data": {
      "text/plain": [
       "[('Ligature \"ﬃ\"', 'Ffi'),\n",
       " ('Ligature \"ſch\"', 'Sch'),\n",
       " ('Ligature \"ſti\"', 'Sti'),\n",
       " ('Yallı', 'I'),\n",
       " ('Ligature \"ſſ\"', 'S'),\n",
       " ('ΤΗΣ letter combinations', 'Της letter combinations'),\n",
       " ('Ligature \"ﬄ\"', 'Ffl'),\n",
       " ('Ligature \"ſh\"', 'Sh'),\n",
       " ('Ligature \"ﬀ\"', 'Ff'),\n",
       " ('Ligature \"ſi\"', 'Si'),\n",
       " ('Ligature \"ſſi\"', 'Sſi'),\n",
       " ('ΣΣΣ letter combinations', 'Σσς letter combinations'),\n",
       " ('Ligature \"ſj\"', 'Sj'),\n",
       " ('Ligature \"ſſk\"', 'Sſk'),\n",
       " ('Ligature \"ſp\"', 'S p'),\n",
       " ('ΣΣ letter combinations', 'Σς letter combinations'),\n",
       " ('Ligature \"ſk\"', 'Sk'),\n",
       " ('Α.Ο ΑΡΓΟΝΑΥΤΗΣ', 'Αργοναυτη σ'),\n",
       " ('ΣΔΣ letter combinations', 'Σδς letter combinations'),\n",
       " ('Letter \"ß\" as \"β\"', 'Ss'),\n",
       " ('Ligature \"ſz\"', 'Sz'),\n",
       " ('Ligature \"ſſt\"', 'Sſt'),\n",
       " ('Ligature \"ſb\"', 'S b'),\n",
       " ('Ligature \"ſſl\"', 'Sſl'),\n",
       " ('Ligature \"ﬂ\"', 'Fl'),\n",
       " ('ΠΟΙΗΤΗΣ', 'Ποιητη σ'),\n",
       " ('Ligature \"ſl\"', 'Sl'),\n",
       " ('Ligature \"ſʒ\"', 'S'),\n",
       " ('ΣΑΣ letter combinations', 'Σας letter combinations'),\n",
       " ('Letter \"ß\"', 'Ss'),\n",
       " ('Ligature \"ﬁ\"', 'Fi'),\n",
       " ('Ligature \"ſs\"', 'Ss'),\n",
       " ('Ligature \"ﬅ\"', 'St'),\n",
       " ('Ligature \"ﬆ\"', 'St'),\n",
       " ('Ligature \"ſt\"', 'St'),\n",
       " ('ΕΥΣ letter combinations', 'Ευς letter combinations'),\n",
       " ('Ligature \"ſtr\"', 'Str'),\n",
       " ('Toyota city\\u3000library', 'Toyota city library'),\n",
       " ('BMW M49\\u3000engine', 'Bmw m49 engine'),\n",
       " ('Motomachi\\u3000Park\\u3000(Hakodate)', 'Motomachi park'),\n",
       " ('Italian\\xa0Partisans\\xa0Brigade', 'Partisans brigade'),\n",
       " ('Deutz C\\xa0V', 'Deutz c v'),\n",
       " ('KVP\\xa0members of the Senate of the Netherlands', 'Kvp members'),\n",
       " ('Paryžskaj Kamuny\\xa0 Square', 'Paryžskaj kamuny square'),\n",
       " ('Rihga\\u3000Royal Hotels', 'Rihga royal hotels'),\n",
       " ('Salmon\\u3000dishes', 'Salmon dishes'),\n",
       " ('Fujiwara\\u3000clan', 'Fujiwara clan'),\n",
       " ('GABAA\\xa0receptor antagonists', 'Gabaa receptor antagonists'),\n",
       " ('Gyeongbu\\u3000Line', 'Gyeongbu line'),\n",
       " ('Super\\u3000Formula drivers', 'Super formula drivers'),\n",
       " ('Deutz C\\xa0XIV\\xa0R', 'Deutz c xiv'),\n",
       " ('Orix\\u3000Buffaloes players', 'Orix buffaloes'),\n",
       " ('Aichikōgen\\u3000Quasi-National Park', 'Aichikōgen quasi-national park'),\n",
       " ('Newspaper\\xa0publishers\\xa0from\\xa0France', 'Newspaper publishers'),\n",
       " ('Sendero PR\\u202fLP\\u202f13', 'Sendero pr lp'),\n",
       " ('Mahilioŭ\\xa0State University', 'Mahilioŭ state university')]"
      ]
     },
     "execution_count": 59,
     "metadata": {},
     "output_type": "execute_result"
    }
   ],
   "source": [
    "mismatches = [heads_list[i[0]] for i in np.argwhere(sames == False)]\n",
    "mismatches"
   ]
  },
  {
   "cell_type": "markdown",
   "metadata": {},
   "source": [
    "## Enriched graph"
   ]
  },
  {
   "cell_type": "code",
   "execution_count": null,
   "metadata": {},
   "outputs": [],
   "source": [
    "taxonomy = Taxonomy()\n",
    "taxonomy.load_graph(GRAPH_PATH)\n",
    "categories = list(taxonomy.G.nodes)"
   ]
  },
  {
   "cell_type": "code",
   "execution_count": 71,
   "metadata": {},
   "outputs": [
    {
     "data": {
      "text/plain": [
       "{'id': 157066, 'hiddencat': False, 'depth': 9}"
      ]
     },
     "execution_count": 71,
     "metadata": {},
     "output_type": "execute_result"
    }
   ],
   "source": [
    "taxonomy.G.nodes['Chairs']"
   ]
  },
  {
   "cell_type": "code",
   "execution_count": 74,
   "metadata": {},
   "outputs": [],
   "source": [
    "nx.set_node_attributes(taxonomy.G, heads_dict, name='head')"
   ]
  },
  {
   "cell_type": "code",
   "execution_count": 75,
   "metadata": {},
   "outputs": [
    {
     "data": {
      "text/plain": [
       "{'id': 157066, 'hiddencat': False, 'depth': 9, 'head': 'Chairs'}"
      ]
     },
     "execution_count": 75,
     "metadata": {},
     "output_type": "execute_result"
    }
   ],
   "source": [
    "taxonomy.G.nodes['Chairs']"
   ]
  },
  {
   "cell_type": "code",
   "execution_count": 77,
   "metadata": {},
   "outputs": [
    {
     "data": {
      "text/plain": [
       "11198638"
      ]
     },
     "execution_count": 77,
     "metadata": {},
     "output_type": "execute_result"
    }
   ],
   "source": [
    "len(taxonomy.G.nodes)"
   ]
  },
  {
   "cell_type": "code",
   "execution_count": 78,
   "metadata": {},
   "outputs": [
    {
     "data": {
      "text/plain": [
       "11198638"
      ]
     },
     "execution_count": 78,
     "metadata": {},
     "output_type": "execute_result"
    }
   ],
   "source": [
    "len(nx.get_node_attributes(taxonomy.G, 'head'))"
   ]
  },
  {
   "cell_type": "code",
   "execution_count": 82,
   "metadata": {},
   "outputs": [],
   "source": [
    "taxonomy.dump_graph(HGRAPH_PATH)"
   ]
  }
 ],
 "metadata": {
  "interpreter": {
   "hash": "dc92df283937ef36370237e39fdb0bb4b37629c0e4d30a20eedd9585f01f8390"
  },
  "kernelspec": {
   "display_name": "Python 3.10.4 ('taxonomy': conda)",
   "language": "python",
   "name": "python3"
  },
  "language_info": {
   "codemirror_mode": {
    "name": "ipython",
    "version": 3
   },
   "file_extension": ".py",
   "mimetype": "text/x-python",
   "name": "python",
   "nbconvert_exporter": "python",
   "pygments_lexer": "ipython3",
   "version": "3.10.4"
  },
  "orig_nbformat": 4
 },
 "nbformat": 4,
 "nbformat_minor": 2
}
