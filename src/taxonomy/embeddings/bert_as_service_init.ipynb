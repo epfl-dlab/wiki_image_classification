{
 "cells": [
  {
   "cell_type": "markdown",
   "metadata": {},
   "source": [
    "## Init"
   ]
  },
  {
   "cell_type": "markdown",
   "metadata": {},
   "source": [
    "**WARNING: For the server, only tensorflow 1.x is supported!!**\n"
   ]
  },
  {
   "cell_type": "code",
   "execution_count": 2,
   "metadata": {},
   "outputs": [
    {
     "name": "stdout",
     "output_type": "stream",
     "text": [
      "Defaulting to user installation because normal site-packages is not writeable\n",
      "Looking in indexes: https://pypi.org/simple, https://packagecloud.io/github/git-lfs/pypi/simple\n",
      "Requirement already satisfied: bert-serving-client in /home/salvi/.local/lib/python3.7/site-packages (1.10.0)\n",
      "Requirement already satisfied: pyzmq>=17.1.0 in /opt/anaconda3/lib/python3.7/site-packages (from bert-serving-client) (18.1.1)\n",
      "Requirement already satisfied: numpy in /opt/anaconda3/lib/python3.7/site-packages (from bert-serving-client) (1.18.1)\n",
      "Defaulting to user installation because normal site-packages is not writeable\n",
      "Looking in indexes: https://pypi.org/simple, https://packagecloud.io/github/git-lfs/pypi/simple\n",
      "\u001b[33mWARNING: Keyring is skipped due to an exception: Failed to create the collection: Prompt dismissed..\u001b[0m\n",
      "\u001b[33mWARNING: Keyring is skipped due to an exception: Failed to create the collection: Prompt dismissed..\u001b[0m\n",
      "\u001b[33mWARNING: Keyring is skipped due to an exception: Failed to create the collection: Prompt dismissed..\u001b[0m\n",
      "\u001b[33mWARNING: Keyring is skipped due to an exception: Failed to create the collection: Prompt dismissed..\u001b[0m\n",
      "Requirement already up-to-date: bert-serving-server[http] in /home/salvi/.local/lib/python3.7/site-packages (1.10.0)\n",
      "Requirement already satisfied, skipping upgrade: GPUtil>=1.3.0 in /home/salvi/.local/lib/python3.7/site-packages (from bert-serving-server[http]) (1.4.0)\n",
      "Requirement already satisfied, skipping upgrade: termcolor>=1.1 in /home/salvi/.local/lib/python3.7/site-packages (from bert-serving-server[http]) (2.0.1)\n",
      "Requirement already satisfied, skipping upgrade: numpy in /opt/anaconda3/lib/python3.7/site-packages (from bert-serving-server[http]) (1.18.1)\n",
      "Requirement already satisfied, skipping upgrade: six in /opt/anaconda3/lib/python3.7/site-packages (from bert-serving-server[http]) (1.14.0)\n",
      "Requirement already satisfied, skipping upgrade: pyzmq>=17.1.0 in /opt/anaconda3/lib/python3.7/site-packages (from bert-serving-server[http]) (18.1.1)\n",
      "Requirement already satisfied, skipping upgrade: bert-serving-client; extra == \"http\" in /home/salvi/.local/lib/python3.7/site-packages (from bert-serving-server[http]) (1.10.0)\n",
      "Requirement already satisfied, skipping upgrade: flask-cors; extra == \"http\" in /home/salvi/.local/lib/python3.7/site-packages (from bert-serving-server[http]) (3.0.10)\n",
      "Requirement already satisfied, skipping upgrade: flask-compress; extra == \"http\" in /home/salvi/.local/lib/python3.7/site-packages (from bert-serving-server[http]) (1.13)\n",
      "Requirement already satisfied, skipping upgrade: flask-json; extra == \"http\" in /home/salvi/.local/lib/python3.7/site-packages (from bert-serving-server[http]) (0.3.4)\n",
      "Requirement already satisfied, skipping upgrade: flask; extra == \"http\" in /opt/anaconda3/lib/python3.7/site-packages (from bert-serving-server[http]) (1.1.1)\n",
      "Requirement already satisfied, skipping upgrade: brotli in /home/salvi/.local/lib/python3.7/site-packages (from flask-compress; extra == \"http\"->bert-serving-server[http]) (1.0.9)\n",
      "Requirement already satisfied, skipping upgrade: Werkzeug>=0.15 in /opt/anaconda3/lib/python3.7/site-packages (from flask; extra == \"http\"->bert-serving-server[http]) (1.0.0)\n",
      "Requirement already satisfied, skipping upgrade: Jinja2>=2.10.1 in /opt/anaconda3/lib/python3.7/site-packages (from flask; extra == \"http\"->bert-serving-server[http]) (2.11.1)\n",
      "Requirement already satisfied, skipping upgrade: itsdangerous>=0.24 in /opt/anaconda3/lib/python3.7/site-packages (from flask; extra == \"http\"->bert-serving-server[http]) (1.1.0)\n",
      "Requirement already satisfied, skipping upgrade: click>=5.1 in /opt/anaconda3/lib/python3.7/site-packages (from flask; extra == \"http\"->bert-serving-server[http]) (7.0)\n",
      "Requirement already satisfied, skipping upgrade: MarkupSafe>=0.23 in /opt/anaconda3/lib/python3.7/site-packages (from Jinja2>=2.10.1->flask; extra == \"http\"->bert-serving-server[http]) (1.1.1)\n"
     ]
    }
   ],
   "source": [
    "!pip install bert-serving-client\n",
    "!pip install -U bert-serving-server[http]"
   ]
  },
  {
   "cell_type": "code",
   "execution_count": 1,
   "metadata": {},
   "outputs": [],
   "source": [
    "import os\n",
    "\n",
    "from bert_serving.client import BertClient"
   ]
  },
  {
   "cell_type": "code",
   "execution_count": 12,
   "metadata": {},
   "outputs": [
    {
     "name": "stdout",
     "output_type": "stream",
     "text": [
      "--2022-10-25 20:32:16--  https://storage.googleapis.com/bert_models/2018_10_18/uncased_L-12_H-768_A-12.zip\n",
      "Resolving storage.googleapis.com (storage.googleapis.com)... 216.58.215.240, 172.217.168.48, 172.217.168.16, ...\n",
      "Connecting to storage.googleapis.com (storage.googleapis.com)|216.58.215.240|:443... connected.\n",
      "HTTP request sent, awaiting response... 200 OK\n",
      "Length: 407727028 (389M) [application/zip]\n",
      "Saving to: 'uncased_L-12_H-768_A-12.zip'\n",
      "\n",
      "uncased_L-12_H-768_ 100%[===================>] 388.84M   104MB/s    in 3.8s    \n",
      "\n",
      "2022-10-25 20:32:20 (104 MB/s) - 'uncased_L-12_H-768_A-12.zip' saved [407727028/407727028]\n",
      "\n",
      "Archive:  uncased_L-12_H-768_A-12.zip\n",
      "   creating: uncased_L-12_H-768_A-12/\n",
      "  inflating: uncased_L-12_H-768_A-12/bert_model.ckpt.meta  \n",
      "  inflating: uncased_L-12_H-768_A-12/bert_model.ckpt.data-00000-of-00001  \n",
      "  inflating: uncased_L-12_H-768_A-12/vocab.txt  \n",
      "  inflating: uncased_L-12_H-768_A-12/bert_model.ckpt.index  \n",
      "  inflating: uncased_L-12_H-768_A-12/bert_config.json  \n"
     ]
    }
   ],
   "source": [
    "init = 1\n",
    "\n",
    "# Large: https://storage.googleapis.com/bert_models/2018_10_18/uncased_L-24_H-1024_A-16.zip\n",
    "# Base: https://storage.googleapis.com/bert_models/2018_10_18/uncased_L-12_H-768_A-12.zip\n",
    "link = (\n",
    "    \"https://storage.googleapis.com/bert_models/2018_10_18/uncased_L-12_H-768_A-12.zip\"\n",
    ")\n",
    "path = \"/scratch/WikipediaImagesTaxonomy/embeddings/\"\n",
    "curr_path = os.getcwd()\n",
    "\n",
    "if init:\n",
    "\n",
    "    os.chdir(path)\n",
    "    !wget {link}\n",
    "    !unzip {link.split(\"/\")[-1].split(\".\")[0]}\n",
    "    !rm {link.split(\"/\")[-1]}\n",
    "    os.chdir(curr_path)"
   ]
  },
  {
   "cell_type": "code",
   "execution_count": 15,
   "metadata": {},
   "outputs": [
    {
     "name": "stdout",
     "output_type": "stream",
     "text": [
      "nohup bert-serving-start -model_dir=/scratch/WikipediaImagesTaxonomy/embeddings/uncased_L-12_H-768_A-12 -max_seq_len=512 > bert_server.log 2>&1 &\n"
     ]
    }
   ],
   "source": [
    "# !nohup bert-serving-start -model_dir={path + link.split(\"/\")[-1].split(\".\")[0]} -max_seq_len=512 > bert_server_log.file 2>&1 &\n",
    "\n",
    "# Command to execute in an environment with tensorflow 1.x\n",
    "print(\n",
    "    f'nohup bert-serving-start -model_dir={path + link.split(\"/\")[-1].split(\".\")[0]} -max_seq_len=512 > bert_server.log 2>&1 &'\n",
    ")"
   ]
  },
  {
   "cell_type": "markdown",
   "metadata": {},
   "source": [
    "## Test"
   ]
  },
  {
   "cell_type": "code",
   "execution_count": 22,
   "metadata": {},
   "outputs": [],
   "source": [
    "bc = BertClient()"
   ]
  },
  {
   "cell_type": "code",
   "execution_count": 17,
   "metadata": {},
   "outputs": [
    {
     "data": {
      "text/plain": [
       "array([[ 0.21223839,  0.3963629 ,  0.18777731, ..., -0.34814426,\n",
       "         0.01989033,  0.2920837 ],\n",
       "       [ 0.00231424,  0.32675627, -0.16526939, ..., -0.28342417,\n",
       "        -0.08130819,  0.2145305 ],\n",
       "       [ 0.27074087, -0.02507309,  0.34614998, ..., -0.3749927 ,\n",
       "        -0.65026706,  1.1105642 ],\n",
       "       [-0.06408317, -0.12897359,  0.17251775, ..., -0.33599234,\n",
       "        -0.7614141 ,  1.1481148 ]], dtype=float32)"
      ]
     },
     "execution_count": 17,
     "metadata": {},
     "output_type": "execute_result"
    }
   ],
   "source": [
    "sentence1 = \"\"\"The Coca-Cola Company's formula for Coca-Cola syrup, which bottlers combine with carbonated \n",
    "water to create the company's flagship cola soft drink, is a closely guarded trade secret.\"\"\"\n",
    "sentence2 = \"\"\"Dr Pepper is a carbonated soft drink. It was created in the 1880s by pharmacist Charles Alderton in Waco, \n",
    "Texas, and first served around 1885.\"\"\"\n",
    "sentence3 = \"\"\"A vector space (also called a linear space) is a set of objects called vectors, \n",
    "which may be added together and multiplied (\"scaled\") by numbers, called scalars.\"\"\"\n",
    "sentence4 = \"\"\"In mathematics, specifically abstract algebra, an integral domain is a \n",
    "nonzero commutative ring in which the product of any two nonzero elements is nonzero.\"\"\"\n",
    "\n",
    "vectors = bc.encode([sentence1, sentence2, sentence3, sentence4])\n",
    "vectors"
   ]
  },
  {
   "cell_type": "code",
   "execution_count": 18,
   "metadata": {},
   "outputs": [
    {
     "name": "stdout",
     "output_type": "stream",
     "text": [
      "Distance between sentence1 and sentence1 == 0\n",
      "Distance between sentence1 and sentence2 == 0.21456605195999146\n",
      "Distance between sentence1 and sentence3 == 0.4746311902999878\n",
      "Distance between sentence1 and sentence4 == 0.6466650664806366\n",
      "Distance between sentence2 and sentence2 == 0\n",
      "Distance between sentence2 and sentence3 == 0.48074793815612793\n",
      "Distance between sentence2 and sentence4 == 0.6145219206809998\n",
      "Distance between sentence3 and sentence3 == 0\n",
      "Distance between sentence3 and sentence4 == 0.20339584350585938\n",
      "Distance between sentence4 and sentence4 == 0\n"
     ]
    }
   ],
   "source": [
    "from scipy import spatial\n",
    "\n",
    "for a in range(len(vectors)):\n",
    "    for b in range(a, len(vectors)):\n",
    "        print(\n",
    "            \"Distance between sentence{} and sentence{} == {}\".format(\n",
    "                a + 1, b + 1, spatial.distance.cosine(vectors[a], vectors[b])\n",
    "            )\n",
    "        )"
   ]
  },
  {
   "cell_type": "code",
   "execution_count": 23,
   "metadata": {},
   "outputs": [
    {
     "data": {
      "text/plain": [
       "array([[-0.3564243 , -0.38662854, -0.33100328, ..., -0.02123652,\n",
       "        -0.01991034,  0.22340636],\n",
       "       [-0.45478043, -0.5048582 , -0.43433663, ..., -0.17134349,\n",
       "        -0.12261462,  0.18812723],\n",
       "       [-0.14301233,  0.44115624,  0.01763745, ..., -0.17991972,\n",
       "        -0.4929944 , -0.12789269],\n",
       "       [-0.13638987,  0.01003768, -0.48937917, ..., -0.37142923,\n",
       "        -0.14123178,  0.08776691]], dtype=float32)"
      ]
     },
     "execution_count": 23,
     "metadata": {},
     "output_type": "execute_result"
    }
   ],
   "source": [
    "sentence1 = \"\"\"Nature\"\"\"\n",
    "sentence2 = \"\"\"Society\"\"\"\n",
    "sentence3 = \"\"\"Plants\"\"\"\n",
    "sentence4 = \"\"\"History\"\"\"\n",
    "\n",
    "vectors = bc.encode([sentence1, sentence2, sentence3, sentence4])\n",
    "vectors"
   ]
  },
  {
   "cell_type": "code",
   "execution_count": 24,
   "metadata": {},
   "outputs": [
    {
     "name": "stdout",
     "output_type": "stream",
     "text": [
      "Distance between sentence1 and sentence1 == 0\n",
      "Distance between sentence1 and sentence2 == 0.20644283294677734\n",
      "Distance between sentence1 and sentence3 == 0.3565189242362976\n",
      "Distance between sentence1 and sentence4 == 0.3293205499649048\n",
      "Distance between sentence2 and sentence2 == 0\n",
      "Distance between sentence2 and sentence3 == 0.36850881576538086\n",
      "Distance between sentence2 and sentence4 == 0.3361852765083313\n",
      "Distance between sentence3 and sentence3 == 0\n",
      "Distance between sentence3 and sentence4 == 0.3378022313117981\n",
      "Distance between sentence4 and sentence4 == 0\n"
     ]
    }
   ],
   "source": [
    "from scipy import spatial\n",
    "\n",
    "for a in range(len(vectors)):\n",
    "    for b in range(a, len(vectors)):\n",
    "        print(\n",
    "            \"Distance between sentence{} and sentence{} == {}\".format(\n",
    "                a + 1, b + 1, spatial.distance.cosine(vectors[a], vectors[b])\n",
    "            )\n",
    "        )"
   ]
  },
  {
   "cell_type": "code",
   "execution_count": 25,
   "metadata": {},
   "outputs": [],
   "source": [
    "bc.close()"
   ]
  }
 ],
 "metadata": {
  "kernelspec": {
   "display_name": "Python 3.10.4 ('taxonomy': conda)",
   "language": "python",
   "name": "python3"
  },
  "language_info": {
   "codemirror_mode": {
    "name": "ipython",
    "version": 3
   },
   "file_extension": ".py",
   "mimetype": "text/x-python",
   "name": "python",
   "nbconvert_exporter": "python",
   "pygments_lexer": "ipython3",
   "version": "3.10.4"
  },
  "orig_nbformat": 4,
  "vscode": {
   "interpreter": {
    "hash": "dc92df283937ef36370237e39fdb0bb4b37629c0e4d30a20eedd9585f01f8390"
   }
  }
 },
 "nbformat": 4,
 "nbformat_minor": 2
}
