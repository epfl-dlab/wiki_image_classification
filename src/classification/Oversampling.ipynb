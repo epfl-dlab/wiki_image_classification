{
 "cells": [
  {
   "cell_type": "code",
   "execution_count": 4,
   "metadata": {},
   "outputs": [
    {
     "name": "stdout",
     "output_type": "stream",
     "text": [
      "2 Physical GPUs, 1 Logical GPU\n"
     ]
    }
   ],
   "source": [
    "import sys\n",
    "sys.path.append('..')\n",
    "import json\n",
    "import help_functions as hf\n",
    "import numpy as np\n",
    "from collections import Counter\n",
    "from matplotlib import pyplot as plt\n",
    "import pandas as pd\n",
    "hf.setup_gpu(gpu_nr=1)"
   ]
  },
  {
   "cell_type": "code",
   "execution_count": null,
   "metadata": {},
   "outputs": [],
   "source": [
    "with open('training_configurations.json', 'r') as fp:\n",
    "    config = json.load(fp)[str(11)]\n",
    "\n",
    "train, train_df = hf.get_flow(df_file=config['data_folder'] + '/test_df.json.bz2',\n",
    "                   nr_classes=config['nr_classes'],\n",
    "                   batch_size=config['batch_size'],\n",
    "                   image_dimension=config['image_dimension'])\n",
    "y_true = hf.get_y_true(shape=(train.samples, len(train.class_indices)), classes=train.classes)\n",
    "label_names = list(train.class_indices.keys())"
   ]
  },
  {
   "cell_type": "code",
   "execution_count": null,
   "metadata": {},
   "outputs": [],
   "source": [
    "duplicate_indices_dict = hf.oversample(y_true, list(train.class_indices.keys()), 0.2, config['results_folder'])"
   ]
  },
  {
   "cell_type": "code",
   "execution_count": null,
   "metadata": {},
   "outputs": [],
   "source": []
  },
  {
   "cell_type": "code",
   "execution_count": null,
   "metadata": {},
   "outputs": [],
   "source": [
    "for index_to_duplicate in duplicate_indices_dict:\n",
    "    times_to_duplicate = duplicate_indices_dict[index_to_duplicate]\n",
    "    train_df = train_df.append([train_df.iloc[index_to_duplicate]] * times_to_duplicate, ignore_index=False)\n",
    "train_df = train_df.reset_index() # not necessary but why not\n"
   ]
  },
  {
   "cell_type": "code",
   "execution_count": 18,
   "metadata": {},
   "outputs": [
    {
     "data": {
      "text/html": [
       "<div>\n",
       "<style scoped>\n",
       "    .dataframe tbody tr th:only-of-type {\n",
       "        vertical-align: middle;\n",
       "    }\n",
       "\n",
       "    .dataframe tbody tr th {\n",
       "        vertical-align: top;\n",
       "    }\n",
       "\n",
       "    .dataframe thead th {\n",
       "        text-align: right;\n",
       "    }\n",
       "</style>\n",
       "<table border=\"1\" class=\"dataframe\">\n",
       "  <thead>\n",
       "    <tr style=\"text-align: right;\">\n",
       "      <th></th>\n",
       "      <th>index</th>\n",
       "      <th>id</th>\n",
       "      <th>title</th>\n",
       "      <th>url</th>\n",
       "      <th>categories</th>\n",
       "      <th>labels</th>\n",
       "      <th>naive_labels</th>\n",
       "    </tr>\n",
       "  </thead>\n",
       "  <tbody>\n",
       "    <tr>\n",
       "      <th>0</th>\n",
       "      <td>1596792</td>\n",
       "      <td>3915827</td>\n",
       "      <td>Paysage avec deux hommes assis près d'un taill...</td>\n",
       "      <td>a/a8/Paysage_avec_deux_hommes_assis_prÃ¨s_d'un...</td>\n",
       "      <td>[Italian drawings in the Louvre, Everhard Jabach]</td>\n",
       "      <td>[People, Culture, Society]</td>\n",
       "      <td>[Culture, Places]</td>\n",
       "    </tr>\n",
       "    <tr>\n",
       "      <th>1</th>\n",
       "      <td>992788</td>\n",
       "      <td>22139193</td>\n",
       "      <td>Bregoc.JPG</td>\n",
       "      <td>5/55/Bregoc.JPG</td>\n",
       "      <td>[Zelengora]</td>\n",
       "      <td>[Places]</td>\n",
       "      <td>[Places]</td>\n",
       "    </tr>\n",
       "    <tr>\n",
       "      <th>2</th>\n",
       "      <td>1117505</td>\n",
       "      <td>67569422</td>\n",
       "      <td>U.S. Ordnance Corps Wall Plaque.jpg</td>\n",
       "      <td>e/e4/U.S._Ordnance_Corps_Wall_Plaque.jpg</td>\n",
       "      <td>[US Army Combat Service and Support Regimental...</td>\n",
       "      <td>[Culture, Objects, Society]</td>\n",
       "      <td>[Culture, Society]</td>\n",
       "    </tr>\n",
       "    <tr>\n",
       "      <th>3</th>\n",
       "      <td>221886</td>\n",
       "      <td>45083649</td>\n",
       "      <td>Józef Rapacki - W kawiarni - Ziemiańska.jpg</td>\n",
       "      <td>c/c6/JÃ³zef_Rapacki_-_W_kawiarni_-_ZiemiaÅska...</td>\n",
       "      <td>[Pastel paintings by Józef Rapacki in the Nati...</td>\n",
       "      <td>[Places, Culture, Events]</td>\n",
       "      <td>[Culture, Events, History, Places]</td>\n",
       "    </tr>\n",
       "    <tr>\n",
       "      <th>4</th>\n",
       "      <td>214316</td>\n",
       "      <td>8467579</td>\n",
       "      <td>Ompah ON.JPG</td>\n",
       "      <td>f/fa/Ompah_ON.JPG</td>\n",
       "      <td>[Signs in Ontario, Shop signs in Canada, North...</td>\n",
       "      <td>[Places, Technology, Culture, Objects]</td>\n",
       "      <td>[Culture, History, Places, Society]</td>\n",
       "    </tr>\n",
       "    <tr>\n",
       "      <th>...</th>\n",
       "      <td>...</td>\n",
       "      <td>...</td>\n",
       "      <td>...</td>\n",
       "      <td>...</td>\n",
       "      <td>...</td>\n",
       "      <td>...</td>\n",
       "      <td>...</td>\n",
       "    </tr>\n",
       "    <tr>\n",
       "      <th>59412</th>\n",
       "      <td>663094</td>\n",
       "      <td>16484402</td>\n",
       "      <td>View from Lipan Point.jpg</td>\n",
       "      <td>e/ea/View_from_Lipan_Point.jpg</td>\n",
       "      <td>[Views from Lipan Point, Views of Kaibab Plate...</td>\n",
       "      <td>[History, Nature, Places, Landscapes, Objects,...</td>\n",
       "      <td>[Culture, History, Nature, Places, Science]</td>\n",
       "    </tr>\n",
       "    <tr>\n",
       "      <th>59413</th>\n",
       "      <td>663094</td>\n",
       "      <td>16484402</td>\n",
       "      <td>View from Lipan Point.jpg</td>\n",
       "      <td>e/ea/View_from_Lipan_Point.jpg</td>\n",
       "      <td>[Views from Lipan Point, Views of Kaibab Plate...</td>\n",
       "      <td>[History, Nature, Places, Landscapes, Objects,...</td>\n",
       "      <td>[Culture, History, Nature, Places, Science]</td>\n",
       "    </tr>\n",
       "    <tr>\n",
       "      <th>59414</th>\n",
       "      <td>663094</td>\n",
       "      <td>16484402</td>\n",
       "      <td>View from Lipan Point.jpg</td>\n",
       "      <td>e/ea/View_from_Lipan_Point.jpg</td>\n",
       "      <td>[Views from Lipan Point, Views of Kaibab Plate...</td>\n",
       "      <td>[History, Nature, Places, Landscapes, Objects,...</td>\n",
       "      <td>[Culture, History, Nature, Places, Science]</td>\n",
       "    </tr>\n",
       "    <tr>\n",
       "      <th>59415</th>\n",
       "      <td>663094</td>\n",
       "      <td>16484402</td>\n",
       "      <td>View from Lipan Point.jpg</td>\n",
       "      <td>e/ea/View_from_Lipan_Point.jpg</td>\n",
       "      <td>[Views from Lipan Point, Views of Kaibab Plate...</td>\n",
       "      <td>[History, Nature, Places, Landscapes, Objects,...</td>\n",
       "      <td>[Culture, History, Nature, Places, Science]</td>\n",
       "    </tr>\n",
       "    <tr>\n",
       "      <th>59416</th>\n",
       "      <td>663094</td>\n",
       "      <td>16484402</td>\n",
       "      <td>View from Lipan Point.jpg</td>\n",
       "      <td>e/ea/View_from_Lipan_Point.jpg</td>\n",
       "      <td>[Views from Lipan Point, Views of Kaibab Plate...</td>\n",
       "      <td>[History, Nature, Places, Landscapes, Objects,...</td>\n",
       "      <td>[Culture, History, Nature, Places, Science]</td>\n",
       "    </tr>\n",
       "  </tbody>\n",
       "</table>\n",
       "<p>59417 rows × 7 columns</p>\n",
       "</div>"
      ],
      "text/plain": [
       "         index        id                                              title  \\\n",
       "0      1596792   3915827  Paysage avec deux hommes assis près d'un taill...   \n",
       "1       992788  22139193                                         Bregoc.JPG   \n",
       "2      1117505  67569422                U.S. Ordnance Corps Wall Plaque.jpg   \n",
       "3       221886  45083649        Józef Rapacki - W kawiarni - Ziemiańska.jpg   \n",
       "4       214316   8467579                                       Ompah ON.JPG   \n",
       "...        ...       ...                                                ...   \n",
       "59412   663094  16484402                          View from Lipan Point.jpg   \n",
       "59413   663094  16484402                          View from Lipan Point.jpg   \n",
       "59414   663094  16484402                          View from Lipan Point.jpg   \n",
       "59415   663094  16484402                          View from Lipan Point.jpg   \n",
       "59416   663094  16484402                          View from Lipan Point.jpg   \n",
       "\n",
       "                                                     url  \\\n",
       "0      a/a8/Paysage_avec_deux_hommes_assis_prÃ¨s_d'un...   \n",
       "1                                        5/55/Bregoc.JPG   \n",
       "2               e/e4/U.S._Ordnance_Corps_Wall_Plaque.jpg   \n",
       "3      c/c6/JÃ³zef_Rapacki_-_W_kawiarni_-_ZiemiaÅska...   \n",
       "4                                      f/fa/Ompah_ON.JPG   \n",
       "...                                                  ...   \n",
       "59412                     e/ea/View_from_Lipan_Point.jpg   \n",
       "59413                     e/ea/View_from_Lipan_Point.jpg   \n",
       "59414                     e/ea/View_from_Lipan_Point.jpg   \n",
       "59415                     e/ea/View_from_Lipan_Point.jpg   \n",
       "59416                     e/ea/View_from_Lipan_Point.jpg   \n",
       "\n",
       "                                              categories  \\\n",
       "0      [Italian drawings in the Louvre, Everhard Jabach]   \n",
       "1                                            [Zelengora]   \n",
       "2      [US Army Combat Service and Support Regimental...   \n",
       "3      [Pastel paintings by Józef Rapacki in the Nati...   \n",
       "4      [Signs in Ontario, Shop signs in Canada, North...   \n",
       "...                                                  ...   \n",
       "59412  [Views from Lipan Point, Views of Kaibab Plate...   \n",
       "59413  [Views from Lipan Point, Views of Kaibab Plate...   \n",
       "59414  [Views from Lipan Point, Views of Kaibab Plate...   \n",
       "59415  [Views from Lipan Point, Views of Kaibab Plate...   \n",
       "59416  [Views from Lipan Point, Views of Kaibab Plate...   \n",
       "\n",
       "                                                  labels  \\\n",
       "0                             [People, Culture, Society]   \n",
       "1                                               [Places]   \n",
       "2                            [Culture, Objects, Society]   \n",
       "3                              [Places, Culture, Events]   \n",
       "4                 [Places, Technology, Culture, Objects]   \n",
       "...                                                  ...   \n",
       "59412  [History, Nature, Places, Landscapes, Objects,...   \n",
       "59413  [History, Nature, Places, Landscapes, Objects,...   \n",
       "59414  [History, Nature, Places, Landscapes, Objects,...   \n",
       "59415  [History, Nature, Places, Landscapes, Objects,...   \n",
       "59416  [History, Nature, Places, Landscapes, Objects,...   \n",
       "\n",
       "                                      naive_labels  \n",
       "0                                [Culture, Places]  \n",
       "1                                         [Places]  \n",
       "2                               [Culture, Society]  \n",
       "3               [Culture, Events, History, Places]  \n",
       "4              [Culture, History, Places, Society]  \n",
       "...                                            ...  \n",
       "59412  [Culture, History, Nature, Places, Science]  \n",
       "59413  [Culture, History, Nature, Places, Science]  \n",
       "59414  [Culture, History, Nature, Places, Science]  \n",
       "59415  [Culture, History, Nature, Places, Science]  \n",
       "59416  [Culture, History, Nature, Places, Science]  \n",
       "\n",
       "[59417 rows x 7 columns]"
      ]
     },
     "execution_count": 18,
     "metadata": {},
     "output_type": "execute_result"
    }
   ],
   "source": [
    "train_df"
   ]
  },
  {
   "cell_type": "code",
   "execution_count": 6,
   "metadata": {},
   "outputs": [
    {
     "name": "stdout",
     "output_type": "stream",
     "text": [
      "Found 59417 non-validated image filenames belonging to 20 classes.\n",
      "Found 59417 validated image filenames belonging to 20 classes.\n"
     ]
    }
   ],
   "source": [
    "train, _ = hf.get_flow(df=train_df,\n",
    "                    nr_classes=config['nr_classes'],\n",
    "                    image_dimension=config['image_dimension'])"
   ]
  },
  {
   "cell_type": "code",
   "execution_count": 33,
   "metadata": {},
   "outputs": [],
   "source": [
    "def oversample(y_true, label_names, add_pctg, image_path):\n",
    "    \"\"\"\n",
    "    Lets each image have a reward (reward := sum of label rewards in the image, where \n",
    "    label_reward := BIG_NUMBER / label_samples). An image will have high reward when \n",
    "    it has rare labels, and small rewards when it has frequent labels.\n",
    "\n",
    "    Output:\n",
    "        - indices_to_add: a list of the indices to be duplicated and the amount of times \n",
    "    \"\"\"\n",
    "\n",
    "    add_pctg = 0.2\n",
    "    mean_ir_original, dict_ir_original = hf.mean_imbalance_ratio(y_true=y_true, class_names=label_names)\n",
    "\n",
    "    original_nr_rows = y_true.shape[0]\n",
    "    nr_labels = y_true.shape[1]\n",
    "    y_true_copy = np.copy(y_true)\n",
    "    indices_to_add = []\n",
    "\n",
    "    BIG_NUMBER = 40_000\n",
    "    label_rewards = BIG_NUMBER / y_true_copy.sum(axis=0)\n",
    "    row_rewards = (label_rewards * y_true_copy).sum(axis=1)\n",
    "\n",
    "    while y_true_copy.shape[0] < original_nr_rows * (1 + add_pctg):\n",
    "        best_row = y_true_copy[np.argmax(row_rewards), :].reshape(1, nr_labels)\n",
    "        y_true_copy = np.append(y_true_copy, best_row, axis=0)\n",
    "        label_rewards = BIG_NUMBER / y_true_copy.sum(axis=0)\n",
    "        row_rewards = (label_rewards * y_true_copy).sum(axis=1)\n",
    "        idx_to_add = np.where((y_true == best_row).all(axis=1))[0]\n",
    "        indices_to_add.append(idx_to_add)\n",
    "\n",
    "    mean_ir_heuristics, dict_ir_heuristics = hf.mean_imbalance_ratio(y_true=y_true_copy, class_names=label_names)\n",
    "\n",
    "    plt.figure(figsize=(12, 6))\n",
    "    x_axis = np.arange(len(dict_ir_original.keys()))\n",
    "    plt.bar(x_axis-0.1, dict_ir_original.values(), width=0.2, label=f'Original; macro-avg: {np.round(mean_ir_original, 1)}')\n",
    "    plt.bar(x_axis+0.1, dict_ir_heuristics.values(), width=0.2, label=f'Undersampled, macro-avg: {np.round(mean_ir_heuristics, 2)}')\n",
    "    plt.legend(fontsize=12)\n",
    "    _ = plt.xticks(x_axis, dict_ir_heuristics.keys(), rotation=75, fontsize=14)\n",
    "    plt.title('Mean imbalance ratio per label')\n",
    "    plt.ylabel('Imbalance ratio')\n",
    "    plt.xlabel('Label')\n",
    "    hf.save_img(image_path + '/imbalance_ratios.png')\n",
    "\n",
    "    indices_to_add_hashable = [tuple(el) for el in indices_to_add]\n",
    "    duplicate_indices_dict = dict(Counter(indices_to_add_hashable))\n",
    "    duplicate_indices_dict = dict((key[0], value) for (key, value) in duplicate_indices_dict.items())    \n",
    "    return duplicate_indices_dict"
   ]
  },
  {
   "cell_type": "code",
   "execution_count": null,
   "metadata": {},
   "outputs": [],
   "source": [
    "duplicate_indices_dict = oversample(y_true, label_names, 0.2, '')"
   ]
  },
  {
   "cell_type": "code",
   "execution_count": 36,
   "metadata": {},
   "outputs": [
    {
     "name": "stdout",
     "output_type": "stream",
     "text": [
      "Found 50000 non-validated image filenames belonging to 40 classes.\n"
     ]
    },
    {
     "name": "stderr",
     "output_type": "stream",
     "text": [
      "/home/matvieir/wiki_image_classification/src/classification/help_functions.py:264: SettingWithCopyWarning: \n",
      "A value is trying to be set on a copy of a slice from a DataFrame.\n",
      "Try using .loc[row_indexer,col_indexer] = value instead\n",
      "\n",
      "See the caveats in the documentation: https://pandas.pydata.org/pandas-docs/stable/user_guide/indexing.html#returning-a-view-versus-a-copy\n",
      "  df_x_labels['labels'] = df['labels'].apply(lambda labels_list: [label for label in labels_list if label in top_classes])\n"
     ]
    }
   ],
   "source": [
    "df = hf.clean_df_and_keep_top_classes(config['data_folder'] + '/test_df.json.bz2', config['nr_classes']).reset_index()"
   ]
  },
  {
   "cell_type": "code",
   "execution_count": null,
   "metadata": {},
   "outputs": [],
   "source": [
    "for index_to_duplicate in duplicate_indices_dict:\n",
    "    times_to_duplicate = duplicate_indices_dict[index_to_duplicate]\n",
    "    # print(f'index_to_duplicate: {index_to_duplicate};\\n times_to_duplicate: {times_to_duplicate}')\n",
    "    df = df.append([df.loc[index_to_duplicate]] * times_to_duplicate, ignore_index=False)\n"
   ]
  }
 ],
 "metadata": {
  "kernelspec": {
   "display_name": "Python 3.8.2 ('base')",
   "language": "python",
   "name": "python3"
  },
  "language_info": {
   "codemirror_mode": {
    "name": "ipython",
    "version": 3
   },
   "file_extension": ".py",
   "mimetype": "text/x-python",
   "name": "python",
   "nbconvert_exporter": "python",
   "pygments_lexer": "ipython3",
   "version": "3.8.2"
  },
  "orig_nbformat": 4,
  "vscode": {
   "interpreter": {
    "hash": "b7f323a1c2c8b3d38dc94a01188981c510c9b5df10e2cc2d7fa4f2b45d318cbd"
   }
  }
 },
 "nbformat": 4,
 "nbformat_minor": 2
}
