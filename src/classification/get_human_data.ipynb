{
 "cells": [
  {
   "attachments": {},
   "cell_type": "markdown",
   "metadata": {},
   "source": [
    "Here, we want to get the heuristic labels for the images that humans labeled."
   ]
  },
  {
   "cell_type": "code",
   "execution_count": 1,
   "metadata": {},
   "outputs": [
    {
     "name": "stderr",
     "output_type": "stream",
     "text": [
      "Using TensorFlow backend.\n"
     ]
    }
   ],
   "source": [
    "import pandas as pd\n",
    "import urllib.parse\n",
    "import os\n",
    "from tqdm import tqdm\n",
    "import help_functions as hf\n",
    "import PIL\n",
    "from PIL import Image\n",
    "from sklearn.model_selection import train_test_split\n",
    "import sys\n",
    "sys.path.append('../')\n",
    "from config import FILES_ANNOTATED_PATH, EVALUATION_PATH\n",
    "tqdm.pandas()"
   ]
  },
  {
   "cell_type": "code",
   "execution_count": 2,
   "metadata": {},
   "outputs": [
    {
     "name": "stdout",
     "output_type": "stream",
     "text": [
      "(3891446, 5)\n"
     ]
    },
    {
     "data": {
      "text/html": [
       "<div>\n",
       "<style scoped>\n",
       "    .dataframe tbody tr th:only-of-type {\n",
       "        vertical-align: middle;\n",
       "    }\n",
       "\n",
       "    .dataframe tbody tr th {\n",
       "        vertical-align: top;\n",
       "    }\n",
       "\n",
       "    .dataframe thead th {\n",
       "        text-align: right;\n",
       "    }\n",
       "</style>\n",
       "<table border=\"1\" class=\"dataframe\">\n",
       "  <thead>\n",
       "    <tr style=\"text-align: right;\">\n",
       "      <th></th>\n",
       "      <th>id</th>\n",
       "      <th>title</th>\n",
       "      <th>url</th>\n",
       "      <th>categories</th>\n",
       "      <th>labels</th>\n",
       "    </tr>\n",
       "  </thead>\n",
       "  <tbody>\n",
       "    <tr>\n",
       "      <th>0</th>\n",
       "      <td>80902489</td>\n",
       "      <td>\"A Gathering of Court Women\", Folio from the D...</td>\n",
       "      <td>c/c1/%22A_Gathering_of_Court_Women%22%2C_Folio...</td>\n",
       "      <td>[Department of Islamic Art, Metropolitan Museu...</td>\n",
       "      <td>[Art, Culture]</td>\n",
       "    </tr>\n",
       "    <tr>\n",
       "      <th>1</th>\n",
       "      <td>53631642</td>\n",
       "      <td>\"Akdeniz\" - Aliağa, 2016.jpg</td>\n",
       "      <td>f/f8/%22Akdeniz%22_-_Alia%C4%9Fa%2C_2016.jpg</td>\n",
       "      <td>[Akdeniz (ship, 1955), Aliağa ship-breaking yard]</td>\n",
       "      <td>[]</td>\n",
       "    </tr>\n",
       "    <tr>\n",
       "      <th>2</th>\n",
       "      <td>74785910</td>\n",
       "      <td>\"Carnevale di Torino\". Felice Cerruti - f.lli ...</td>\n",
       "      <td>1/13/%22Carnevale_di_Torino%22._Felice_Cerruti...</td>\n",
       "      <td>[Felice Cerruti Bauduc, Victor Emmanuel II of ...</td>\n",
       "      <td>[Culture, Society, People, Places, Art]</td>\n",
       "    </tr>\n",
       "    <tr>\n",
       "      <th>3</th>\n",
       "      <td>14890941</td>\n",
       "      <td>\"Escena de playa con figura\".jpg</td>\n",
       "      <td>c/c2/%22Escena_de_playa_con_figura%22.jpg</td>\n",
       "      <td>[Pedro Lira, People with dogs in art]</td>\n",
       "      <td>[Art, People, Culture, Society]</td>\n",
       "    </tr>\n",
       "    <tr>\n",
       "      <th>4</th>\n",
       "      <td>17828296</td>\n",
       "      <td>\"Florero con plátanos, limones y libros\", Juan...</td>\n",
       "      <td>d/da/%22Florero_con_pl%C3%A1tanos%2C_limones_y...</td>\n",
       "      <td>[Works by Juan de Echevarría, Still-life paint...</td>\n",
       "      <td>[Art, Culture]</td>\n",
       "    </tr>\n",
       "  </tbody>\n",
       "</table>\n",
       "</div>"
      ],
      "text/plain": [
       "         id                                              title  \\\n",
       "0  80902489  \"A Gathering of Court Women\", Folio from the D...   \n",
       "1  53631642                       \"Akdeniz\" - Aliağa, 2016.jpg   \n",
       "2  74785910  \"Carnevale di Torino\". Felice Cerruti - f.lli ...   \n",
       "3  14890941                   \"Escena de playa con figura\".jpg   \n",
       "4  17828296  \"Florero con plátanos, limones y libros\", Juan...   \n",
       "\n",
       "                                                 url  \\\n",
       "0  c/c1/%22A_Gathering_of_Court_Women%22%2C_Folio...   \n",
       "1       f/f8/%22Akdeniz%22_-_Alia%C4%9Fa%2C_2016.jpg   \n",
       "2  1/13/%22Carnevale_di_Torino%22._Felice_Cerruti...   \n",
       "3          c/c2/%22Escena_de_playa_con_figura%22.jpg   \n",
       "4  d/da/%22Florero_con_pl%C3%A1tanos%2C_limones_y...   \n",
       "\n",
       "                                          categories  \\\n",
       "0  [Department of Islamic Art, Metropolitan Museu...   \n",
       "1  [Akdeniz (ship, 1955), Aliağa ship-breaking yard]   \n",
       "2  [Felice Cerruti Bauduc, Victor Emmanuel II of ...   \n",
       "3              [Pedro Lira, People with dogs in art]   \n",
       "4  [Works by Juan de Echevarría, Still-life paint...   \n",
       "\n",
       "                                    labels  \n",
       "0                           [Art, Culture]  \n",
       "1                                       []  \n",
       "2  [Culture, Society, People, Places, Art]  \n",
       "3          [Art, People, Culture, Society]  \n",
       "4                           [Art, Culture]  "
      ]
     },
     "execution_count": 2,
     "metadata": {},
     "output_type": "execute_result"
    }
   ],
   "source": [
    "# Input files --> update this to the latest data file generated with Francesco's taxonomy in get_labels.ipynb\n",
    "# LABELS_PATH = 'data/commonswiki-221218-files-hierarchical-labels.json.bz2'\n",
    "LABELS_PATH = FILES_ANNOTATED_PATH\n",
    "\n",
    "# Output files --> choose \n",
    "CLEANED_LABELS_PATH = 'data/commonswiki-230412-clean-labels.json.bz2'\n",
    "SPLIT_DATA_PATH = 'data/split_data_230412'\n",
    "\n",
    "labels = pd.read_parquet(LABELS_PATH).rename(columns={'labels_pred': 'labels'})\n",
    "print(labels.shape)\n",
    "labels.head()"
   ]
  },
  {
   "cell_type": "code",
   "execution_count": 3,
   "metadata": {},
   "outputs": [
    {
     "name": "stdout",
     "output_type": "stream",
     "text": [
      "(1087, 5)\n"
     ]
    }
   ],
   "source": [
    "EVALUATION_PATH = '../../data/evaluation/'\n",
    "held_out_test = pd.read_parquet(EVALUATION_PATH + \"annotated_test.parquet\")\n",
    "held_out_val = pd.read_parquet(EVALUATION_PATH + \"annotated_validation.parquet\")\n",
    "held_out_set = pd.concat([held_out_test, held_out_val])\n",
    "print(held_out_set.shape)"
   ]
  },
  {
   "cell_type": "code",
   "execution_count": 4,
   "metadata": {},
   "outputs": [
    {
     "name": "stdout",
     "output_type": "stream",
     "text": [
      "(327, 5)\n"
     ]
    },
    {
     "data": {
      "text/html": [
       "<div>\n",
       "<style scoped>\n",
       "    .dataframe tbody tr th:only-of-type {\n",
       "        vertical-align: middle;\n",
       "    }\n",
       "\n",
       "    .dataframe tbody tr th {\n",
       "        vertical-align: top;\n",
       "    }\n",
       "\n",
       "    .dataframe thead th {\n",
       "        text-align: right;\n",
       "    }\n",
       "</style>\n",
       "<table border=\"1\" class=\"dataframe\">\n",
       "  <thead>\n",
       "    <tr style=\"text-align: right;\">\n",
       "      <th></th>\n",
       "      <th>title</th>\n",
       "      <th>id</th>\n",
       "      <th>url</th>\n",
       "      <th>categories</th>\n",
       "      <th>labels</th>\n",
       "    </tr>\n",
       "  </thead>\n",
       "  <tbody>\n",
       "    <tr>\n",
       "      <th>1</th>\n",
       "      <td>Figure-8---Creme-Angelique,-Illustration.png</td>\n",
       "      <td>30561758</td>\n",
       "      <td>https://upload.wikimedia.org/wikipedia/commons...</td>\n",
       "      <td>[Washington W. Sheffield]</td>\n",
       "      <td>[STEM, Medicine &amp; Health]</td>\n",
       "    </tr>\n",
       "    <tr>\n",
       "      <th>2</th>\n",
       "      <td>0 Dréhance - Château de Walzin (1).jpg</td>\n",
       "      <td>16644463</td>\n",
       "      <td>https://upload.wikimedia.org/wikipedia/commons...</td>\n",
       "      <td>[Château de Walzin, 2006 in Dinant, Lesse (riv...</td>\n",
       "      <td>[Places, STEM, Landscapes, Nature, Plants]</td>\n",
       "    </tr>\n",
       "    <tr>\n",
       "      <th>3</th>\n",
       "      <td>Douglas geologic map.PNG</td>\n",
       "      <td>48442260</td>\n",
       "      <td>https://upload.wikimedia.org/wikipedia/commons...</td>\n",
       "      <td>[Douglas Island, The Juneau Gold Belt, Alaska ...</td>\n",
       "      <td>[Places, Maps &amp; Flags]</td>\n",
       "    </tr>\n",
       "    <tr>\n",
       "      <th>4</th>\n",
       "      <td>Cryptochiton stelleri.jpg</td>\n",
       "      <td>9554405</td>\n",
       "      <td>https://upload.wikimedia.org/wikipedia/commons...</td>\n",
       "      <td>[Cryptochiton stelleri]</td>\n",
       "      <td>[STEM, Animals, Nature]</td>\n",
       "    </tr>\n",
       "    <tr>\n",
       "      <th>5</th>\n",
       "      <td>Bydg ul Gdańska - koszary.jpg</td>\n",
       "      <td>23997615</td>\n",
       "      <td>https://upload.wikimedia.org/wikipedia/commons...</td>\n",
       "      <td>[Gdańska 147-161 Koszary, Zawisza (Bydgoszcz)]</td>\n",
       "      <td>[Architecture, Places]</td>\n",
       "    </tr>\n",
       "  </tbody>\n",
       "</table>\n",
       "</div>"
      ],
      "text/plain": [
       "                                          title        id  \\\n",
       "1  Figure-8---Creme-Angelique,-Illustration.png  30561758   \n",
       "2        0 Dréhance - Château de Walzin (1).jpg  16644463   \n",
       "3                      Douglas geologic map.PNG  48442260   \n",
       "4                     Cryptochiton stelleri.jpg   9554405   \n",
       "5                 Bydg ul Gdańska - koszary.jpg  23997615   \n",
       "\n",
       "                                                 url  \\\n",
       "1  https://upload.wikimedia.org/wikipedia/commons...   \n",
       "2  https://upload.wikimedia.org/wikipedia/commons...   \n",
       "3  https://upload.wikimedia.org/wikipedia/commons...   \n",
       "4  https://upload.wikimedia.org/wikipedia/commons...   \n",
       "5  https://upload.wikimedia.org/wikipedia/commons...   \n",
       "\n",
       "                                          categories  \\\n",
       "1                          [Washington W. Sheffield]   \n",
       "2  [Château de Walzin, 2006 in Dinant, Lesse (riv...   \n",
       "3  [Douglas Island, The Juneau Gold Belt, Alaska ...   \n",
       "4                            [Cryptochiton stelleri]   \n",
       "5     [Gdańska 147-161 Koszary, Zawisza (Bydgoszcz)]   \n",
       "\n",
       "                                       labels  \n",
       "1                   [STEM, Medicine & Health]  \n",
       "2  [Places, STEM, Landscapes, Nature, Plants]  \n",
       "3                      [Places, Maps & Flags]  \n",
       "4                     [STEM, Animals, Nature]  \n",
       "5                      [Architecture, Places]  "
      ]
     },
     "execution_count": 4,
     "metadata": {},
     "output_type": "execute_result"
    }
   ],
   "source": [
    "print(held_out_val.shape)\n",
    "held_out_val.head()"
   ]
  },
  {
   "cell_type": "code",
   "execution_count": 8,
   "metadata": {},
   "outputs": [
    {
     "name": "stdout",
     "output_type": "stream",
     "text": [
      "(327, 5)\n"
     ]
    },
    {
     "data": {
      "text/html": [
       "<div>\n",
       "<style scoped>\n",
       "    .dataframe tbody tr th:only-of-type {\n",
       "        vertical-align: middle;\n",
       "    }\n",
       "\n",
       "    .dataframe tbody tr th {\n",
       "        vertical-align: top;\n",
       "    }\n",
       "\n",
       "    .dataframe thead th {\n",
       "        text-align: right;\n",
       "    }\n",
       "</style>\n",
       "<table border=\"1\" class=\"dataframe\">\n",
       "  <thead>\n",
       "    <tr style=\"text-align: right;\">\n",
       "      <th></th>\n",
       "      <th>id</th>\n",
       "      <th>title</th>\n",
       "      <th>url</th>\n",
       "      <th>categories</th>\n",
       "      <th>labels</th>\n",
       "    </tr>\n",
       "  </thead>\n",
       "  <tbody>\n",
       "    <tr>\n",
       "      <th>15831</th>\n",
       "      <td>90932216</td>\n",
       "      <td>Silverdale War Memorial.jpg</td>\n",
       "      <td>b/b0/Silverdale_War_Memorial.jpg</td>\n",
       "      <td>[War memorials in New Zealand, Silverdale, Auc...</td>\n",
       "      <td>[History, Monuments &amp; Memorials, Culture, Soci...</td>\n",
       "    </tr>\n",
       "    <tr>\n",
       "      <th>22859</th>\n",
       "      <td>5431865</td>\n",
       "      <td>Bundesarchiv Bild 183-90569-0001, Berlin, Vors...</td>\n",
       "      <td>6/6c/Bundesarchiv_Bild_183-90569-0001%2C_Berli...</td>\n",
       "      <td>[1962 in Mitte (district of Berlin), Changing ...</td>\n",
       "      <td>[Culture, Society, Art, STEM, Medicine &amp; Health]</td>\n",
       "    </tr>\n",
       "    <tr>\n",
       "      <th>22912</th>\n",
       "      <td>23997615</td>\n",
       "      <td>Bydg ul Gdańska - koszary.jpg</td>\n",
       "      <td>3/3c/Bydg_ul_Gda%C5%84ska_-_koszary.jpg</td>\n",
       "      <td>[Gdańska 147-161 Koszary, Zawisza (Bydgoszcz)]</td>\n",
       "      <td>[Architecture, Places]</td>\n",
       "    </tr>\n",
       "    <tr>\n",
       "      <th>62065</th>\n",
       "      <td>44722339</td>\n",
       "      <td>Cedar Point Pink's Hot Dogs (14669390970).jpg</td>\n",
       "      <td>3/37/Cedar_Point_Pink%27s_Hot_Dogs_%2814669390...</td>\n",
       "      <td>[Food at Cedar Point, July 2014 in Ohio, Cedar...</td>\n",
       "      <td>[Food, Culture, Society]</td>\n",
       "    </tr>\n",
       "    <tr>\n",
       "      <th>71525</th>\n",
       "      <td>19914023</td>\n",
       "      <td>Pelorus River from Pelorus Bridge.jpg</td>\n",
       "      <td>5/51/Pelorus_River_from_Pelorus_Bridge.jpg</td>\n",
       "      <td>[Pelorus River, Pelorus Bridge]</td>\n",
       "      <td>[Nature, Society, Places, STEM]</td>\n",
       "    </tr>\n",
       "  </tbody>\n",
       "</table>\n",
       "</div>"
      ],
      "text/plain": [
       "             id                                              title  \\\n",
       "15831  90932216                        Silverdale War Memorial.jpg   \n",
       "22859   5431865  Bundesarchiv Bild 183-90569-0001, Berlin, Vors...   \n",
       "22912  23997615                      Bydg ul Gdańska - koszary.jpg   \n",
       "62065  44722339      Cedar Point Pink's Hot Dogs (14669390970).jpg   \n",
       "71525  19914023              Pelorus River from Pelorus Bridge.jpg   \n",
       "\n",
       "                                                     url  \\\n",
       "15831                   b/b0/Silverdale_War_Memorial.jpg   \n",
       "22859  6/6c/Bundesarchiv_Bild_183-90569-0001%2C_Berli...   \n",
       "22912            3/3c/Bydg_ul_Gda%C5%84ska_-_koszary.jpg   \n",
       "62065  3/37/Cedar_Point_Pink%27s_Hot_Dogs_%2814669390...   \n",
       "71525         5/51/Pelorus_River_from_Pelorus_Bridge.jpg   \n",
       "\n",
       "                                              categories  \\\n",
       "15831  [War memorials in New Zealand, Silverdale, Auc...   \n",
       "22859  [1962 in Mitte (district of Berlin), Changing ...   \n",
       "22912     [Gdańska 147-161 Koszary, Zawisza (Bydgoszcz)]   \n",
       "62065  [Food at Cedar Point, July 2014 in Ohio, Cedar...   \n",
       "71525                    [Pelorus River, Pelorus Bridge]   \n",
       "\n",
       "                                                  labels  \n",
       "15831  [History, Monuments & Memorials, Culture, Soci...  \n",
       "22859   [Culture, Society, Art, STEM, Medicine & Health]  \n",
       "22912                             [Architecture, Places]  \n",
       "62065                           [Food, Culture, Society]  \n",
       "71525                    [Nature, Society, Places, STEM]  "
      ]
     },
     "execution_count": 8,
     "metadata": {},
     "output_type": "execute_result"
    }
   ],
   "source": [
    "human_labeled_data_with_heuristic_labels = labels[labels['title'].isin(held_out_val['title'])]\n",
    "print(human_labeled_data_with_heuristic_labels.shape)\n",
    "human_labeled_data_with_heuristic_labels.to_json('human_labeled_data_with_heuristic_labels.json.bz2')\n",
    "human_labeled_data_with_heuristic_labels.head()"
   ]
  },
  {
   "attachments": {},
   "cell_type": "markdown",
   "metadata": {},
   "source": [
    "ok, now i have the heuristic predicted labels. Now, i want to predict metrics for them using the model weights we have and predict them graph"
   ]
  }
 ],
 "metadata": {
  "kernelspec": {
   "display_name": "base",
   "language": "python",
   "name": "python3"
  },
  "language_info": {
   "codemirror_mode": {
    "name": "ipython",
    "version": 3
   },
   "file_extension": ".py",
   "mimetype": "text/x-python",
   "name": "python",
   "nbconvert_exporter": "python",
   "pygments_lexer": "ipython3",
   "version": "3.8.2"
  },
  "orig_nbformat": 4
 },
 "nbformat": 4,
 "nbformat_minor": 2
}
