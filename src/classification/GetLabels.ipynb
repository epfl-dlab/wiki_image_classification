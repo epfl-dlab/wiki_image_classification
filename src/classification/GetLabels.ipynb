{
 "cells": [
  {
   "cell_type": "code",
   "execution_count": 5,
   "metadata": {},
   "outputs": [],
   "source": [
    "import pandas as pd\n",
    "from pyspark.sql import *\n",
    "from pyspark.sql.functions import *\n",
    "import sys\n",
    "sys.path.append('../taxonomy/')\n",
    "from taxonomy import Taxonomy\n",
    "from tqdm import tqdm\n",
    "tqdm.pandas()"
   ]
  },
  {
   "cell_type": "code",
   "execution_count": 7,
   "metadata": {},
   "outputs": [
    {
     "ename": "AttributeError",
     "evalue": "'list' object has no attribute 'categories'",
     "output_type": "error",
     "traceback": [
      "\u001b[0;31m---------------------------------------------------------------------------\u001b[0m",
      "\u001b[0;31mAttributeError\u001b[0m                            Traceback (most recent call last)",
      "\u001b[0;32m<ipython-input-7-baa5809038b3>\u001b[0m in \u001b[0;36m<module>\u001b[0;34m\u001b[0m\n\u001b[0;32m----> 1\u001b[0;31m \u001b[0mtaxonomy\u001b[0m \u001b[0;34m=\u001b[0m \u001b[0mTaxonomy\u001b[0m\u001b[0;34m(\u001b[0m\u001b[0mversion\u001b[0m\u001b[0;34m=\u001b[0m\u001b[0;34m'v1.1'\u001b[0m\u001b[0;34m)\u001b[0m\u001b[0;34m\u001b[0m\u001b[0;34m\u001b[0m\u001b[0m\n\u001b[0m",
      "\u001b[0;32m~/wiki_image_classification/src/taxonomy/taxonomy.py\u001b[0m in \u001b[0;36m__init__\u001b[0;34m(self, version)\u001b[0m\n\u001b[1;32m     24\u001b[0m         \u001b[0;32mif\u001b[0m \u001b[0mversion\u001b[0m\u001b[0;34m:\u001b[0m\u001b[0;34m\u001b[0m\u001b[0;34m\u001b[0m\u001b[0m\n\u001b[1;32m     25\u001b[0m             \u001b[0mself\u001b[0m\u001b[0;34m.\u001b[0m\u001b[0mversion\u001b[0m \u001b[0;34m=\u001b[0m \u001b[0mversion\u001b[0m\u001b[0;34m\u001b[0m\u001b[0;34m\u001b[0m\u001b[0m\n\u001b[0;32m---> 26\u001b[0;31m             \u001b[0mself\u001b[0m\u001b[0;34m.\u001b[0m\u001b[0mset_taxonomy\u001b[0m\u001b[0;34m(\u001b[0m\u001b[0mversion\u001b[0m\u001b[0;34m)\u001b[0m\u001b[0;34m\u001b[0m\u001b[0;34m\u001b[0m\u001b[0m\n\u001b[0m\u001b[1;32m     27\u001b[0m \u001b[0;34m\u001b[0m\u001b[0m\n\u001b[1;32m     28\u001b[0m     \u001b[0;32mdef\u001b[0m \u001b[0mset_taxonomy\u001b[0m\u001b[0;34m(\u001b[0m\u001b[0mself\u001b[0m\u001b[0;34m,\u001b[0m \u001b[0mversion\u001b[0m\u001b[0;34m)\u001b[0m\u001b[0;34m:\u001b[0m\u001b[0;34m\u001b[0m\u001b[0;34m\u001b[0m\u001b[0m\n",
      "\u001b[0;32m~/wiki_image_classification/src/taxonomy/taxonomy.py\u001b[0m in \u001b[0;36mset_taxonomy\u001b[0;34m(self, version)\u001b[0m\n\u001b[1;32m    115\u001b[0m             \u001b[0mself\u001b[0m\u001b[0;34m.\u001b[0m\u001b[0mtaxonomy\u001b[0m \u001b[0;34m=\u001b[0m \u001b[0mLabel\u001b[0m\u001b[0;34m(\u001b[0m\u001b[0;34m\"All\"\u001b[0m\u001b[0;34m,\u001b[0m \u001b[0;34m[\u001b[0m\u001b[0;34m]\u001b[0m\u001b[0;34m)\u001b[0m\u001b[0;34m\u001b[0m\u001b[0;34m\u001b[0m\u001b[0m\n\u001b[1;32m    116\u001b[0m             \u001b[0mculture\u001b[0m \u001b[0;34m=\u001b[0m \u001b[0mLabel\u001b[0m\u001b[0;34m(\u001b[0m\u001b[0;34m\"Culture\"\u001b[0m\u001b[0;34m,\u001b[0m \u001b[0;34m[\u001b[0m\u001b[0;34m\"Culture\"\u001b[0m\u001b[0;34m]\u001b[0m\u001b[0;34m)\u001b[0m\u001b[0;34m\u001b[0m\u001b[0;34m\u001b[0m\u001b[0m\n\u001b[0;32m--> 117\u001b[0;31m             culture.add_childrens(\n\u001b[0m\u001b[1;32m    118\u001b[0m                 [\n\u001b[1;32m    119\u001b[0m                     \u001b[0mLabel\u001b[0m\u001b[0;34m(\u001b[0m\u001b[0;34m\"History\"\u001b[0m\u001b[0;34m,\u001b[0m \u001b[0;34m[\u001b[0m\u001b[0;34m\"History\"\u001b[0m\u001b[0;34m]\u001b[0m\u001b[0;34m)\u001b[0m\u001b[0;34m,\u001b[0m\u001b[0;34m\u001b[0m\u001b[0;34m\u001b[0m\u001b[0m\n",
      "\u001b[0;32m~/wiki_image_classification/src/taxonomy/taxonomy.py\u001b[0m in \u001b[0;36madd_children\u001b[0;34m(self, children)\u001b[0m\n\u001b[1;32m     10\u001b[0m         \u001b[0;32mwhile\u001b[0m \u001b[0mqueue\u001b[0m\u001b[0;34m:\u001b[0m\u001b[0;34m\u001b[0m\u001b[0;34m\u001b[0m\u001b[0m\n\u001b[1;32m     11\u001b[0m             \u001b[0mcurr\u001b[0m \u001b[0;34m=\u001b[0m \u001b[0mqueue\u001b[0m\u001b[0;34m.\u001b[0m\u001b[0mpop\u001b[0m\u001b[0;34m(\u001b[0m\u001b[0;34m)\u001b[0m\u001b[0;34m\u001b[0m\u001b[0;34m\u001b[0m\u001b[0m\n\u001b[0;32m---> 12\u001b[0;31m             \u001b[0mself\u001b[0m\u001b[0;34m.\u001b[0m\u001b[0mcategories\u001b[0m \u001b[0;34m+=\u001b[0m \u001b[0mcurr\u001b[0m\u001b[0;34m.\u001b[0m\u001b[0mcategories\u001b[0m\u001b[0;34m\u001b[0m\u001b[0;34m\u001b[0m\u001b[0m\n\u001b[0m\u001b[1;32m     13\u001b[0m             \u001b[0mqueue\u001b[0m\u001b[0;34m.\u001b[0m\u001b[0mextend\u001b[0m\u001b[0;34m(\u001b[0m\u001b[0mcurr\u001b[0m\u001b[0;34m.\u001b[0m\u001b[0mchildrens\u001b[0m\u001b[0;34m)\u001b[0m\u001b[0;34m\u001b[0m\u001b[0;34m\u001b[0m\u001b[0m\n\u001b[1;32m     14\u001b[0m \u001b[0;34m\u001b[0m\u001b[0m\n",
      "\u001b[0;31mAttributeError\u001b[0m: 'list' object has no attribute 'categories'"
     ]
    }
   ],
   "source": [
    "taxonomy = Taxonomy(version='v1.1')"
   ]
  },
  {
   "cell_type": "code",
   "execution_count": 2,
   "metadata": {},
   "outputs": [],
   "source": [
    "FILES_PATH = '/scratch/WikipediaImagesTaxonomy/commonswiki-20220220-files.parquet'\n",
    "CATEGORIES_PATH = '/scratch/WikipediaImagesTaxonomy/commonswiki-20220220-category-network.parquet'\n",
    "LGRAPH_PATH = '/scratch/WikipediaImagesTaxonomy/20220220-category-graph-wlabels_heuristics_simple_v1.0.pkl.bz2'\n",
    "LGRAPH_H_PATH = '/scratch/WikipediaImagesTaxonomy/20220220-clean-graph-wlabels_heuristics_simple_v1.0.pkl.bz2'"
   ]
  },
  {
   "cell_type": "code",
   "execution_count": 3,
   "metadata": {},
   "outputs": [],
   "source": [
    "files = pd.read_parquet(FILES_PATH)"
   ]
  },
  {
   "cell_type": "code",
   "execution_count": 4,
   "metadata": {},
   "outputs": [
    {
     "name": "stdout",
     "output_type": "stream",
     "text": [
      "(3891446, 4)\n"
     ]
    },
    {
     "data": {
      "text/html": [
       "<div>\n",
       "<style scoped>\n",
       "    .dataframe tbody tr th:only-of-type {\n",
       "        vertical-align: middle;\n",
       "    }\n",
       "\n",
       "    .dataframe tbody tr th {\n",
       "        vertical-align: top;\n",
       "    }\n",
       "\n",
       "    .dataframe thead th {\n",
       "        text-align: right;\n",
       "    }\n",
       "</style>\n",
       "<table border=\"1\" class=\"dataframe\">\n",
       "  <thead>\n",
       "    <tr style=\"text-align: right;\">\n",
       "      <th></th>\n",
       "      <th>id</th>\n",
       "      <th>title</th>\n",
       "      <th>url</th>\n",
       "      <th>categories</th>\n",
       "    </tr>\n",
       "  </thead>\n",
       "  <tbody>\n",
       "    <tr>\n",
       "      <th>0</th>\n",
       "      <td>80902489</td>\n",
       "      <td>\"A Gathering of Court Women\", Folio from the D...</td>\n",
       "      <td>c/c1/%22A_Gathering_of_Court_Women%22%2C_Folio...</td>\n",
       "      <td>[Department of Islamic Art, Metropolitan Museu...</td>\n",
       "    </tr>\n",
       "    <tr>\n",
       "      <th>1</th>\n",
       "      <td>53631642</td>\n",
       "      <td>\"Akdeniz\" - Aliağa, 2016.jpg</td>\n",
       "      <td>f/f8/%22Akdeniz%22_-_Alia%C4%9Fa%2C_2016.jpg</td>\n",
       "      <td>[Akdeniz (ship, 1955), Aliağa ship-breaking yard]</td>\n",
       "    </tr>\n",
       "    <tr>\n",
       "      <th>2</th>\n",
       "      <td>74785910</td>\n",
       "      <td>\"Carnevale di Torino\". Felice Cerruti - f.lli ...</td>\n",
       "      <td>1/13/%22Carnevale_di_Torino%22._Felice_Cerruti...</td>\n",
       "      <td>[Felice Cerruti Bauduc, Victor Emmanuel II of ...</td>\n",
       "    </tr>\n",
       "    <tr>\n",
       "      <th>3</th>\n",
       "      <td>14890941</td>\n",
       "      <td>\"Escena de playa con figura\".jpg</td>\n",
       "      <td>c/c2/%22Escena_de_playa_con_figura%22.jpg</td>\n",
       "      <td>[Pedro Lira, People with dogs in art]</td>\n",
       "    </tr>\n",
       "    <tr>\n",
       "      <th>4</th>\n",
       "      <td>17828296</td>\n",
       "      <td>\"Florero con plátanos, limones y libros\", Juan...</td>\n",
       "      <td>d/da/%22Florero_con_pl%C3%A1tanos%2C_limones_y...</td>\n",
       "      <td>[Works by Juan de Echevarría, Still-life paint...</td>\n",
       "    </tr>\n",
       "  </tbody>\n",
       "</table>\n",
       "</div>"
      ],
      "text/plain": [
       "         id                                              title  \\\n",
       "0  80902489  \"A Gathering of Court Women\", Folio from the D...   \n",
       "1  53631642                       \"Akdeniz\" - Aliağa, 2016.jpg   \n",
       "2  74785910  \"Carnevale di Torino\". Felice Cerruti - f.lli ...   \n",
       "3  14890941                   \"Escena de playa con figura\".jpg   \n",
       "4  17828296  \"Florero con plátanos, limones y libros\", Juan...   \n",
       "\n",
       "                                                 url  \\\n",
       "0  c/c1/%22A_Gathering_of_Court_Women%22%2C_Folio...   \n",
       "1       f/f8/%22Akdeniz%22_-_Alia%C4%9Fa%2C_2016.jpg   \n",
       "2  1/13/%22Carnevale_di_Torino%22._Felice_Cerruti...   \n",
       "3          c/c2/%22Escena_de_playa_con_figura%22.jpg   \n",
       "4  d/da/%22Florero_con_pl%C3%A1tanos%2C_limones_y...   \n",
       "\n",
       "                                          categories  \n",
       "0  [Department of Islamic Art, Metropolitan Museu...  \n",
       "1  [Akdeniz (ship, 1955), Aliağa ship-breaking yard]  \n",
       "2  [Felice Cerruti Bauduc, Victor Emmanuel II of ...  \n",
       "3              [Pedro Lira, People with dogs in art]  \n",
       "4  [Works by Juan de Echevarría, Still-life paint...  "
      ]
     },
     "execution_count": 4,
     "metadata": {},
     "output_type": "execute_result"
    }
   ],
   "source": [
    "print(files.shape)\n",
    "files.head(5)"
   ]
  },
  {
   "cell_type": "code",
   "execution_count": 5,
   "metadata": {},
   "outputs": [],
   "source": [
    "categories = pd.read_parquet(CATEGORIES_PATH)"
   ]
  },
  {
   "cell_type": "code",
   "execution_count": 6,
   "metadata": {},
   "outputs": [
    {
     "data": {
      "text/html": [
       "<div>\n",
       "<style scoped>\n",
       "    .dataframe tbody tr th:only-of-type {\n",
       "        vertical-align: middle;\n",
       "    }\n",
       "\n",
       "    .dataframe tbody tr th {\n",
       "        vertical-align: top;\n",
       "    }\n",
       "\n",
       "    .dataframe thead th {\n",
       "        text-align: right;\n",
       "    }\n",
       "</style>\n",
       "<table border=\"1\" class=\"dataframe\">\n",
       "  <thead>\n",
       "    <tr style=\"text-align: right;\">\n",
       "      <th></th>\n",
       "      <th>id</th>\n",
       "      <th>title</th>\n",
       "      <th>parents</th>\n",
       "      <th>hiddencat</th>\n",
       "      <th>childs</th>\n",
       "    </tr>\n",
       "  </thead>\n",
       "  <tbody>\n",
       "    <tr>\n",
       "      <th>0</th>\n",
       "      <td>51586720</td>\n",
       "      <td>'s-Gravelandse Veer 9, Amsterdam</td>\n",
       "      <td>['s-Gravelandseveer, Amsterdam, Rijksmonumente...</td>\n",
       "      <td>False</td>\n",
       "      <td>None</td>\n",
       "    </tr>\n",
       "    <tr>\n",
       "      <th>1</th>\n",
       "      <td>76297768</td>\n",
       "      <td>'s-Gravenhekje 2, Amsterdam</td>\n",
       "      <td>[Rijksmonumenten in Amsterdam-Centrum, 's-Grav...</td>\n",
       "      <td>False</td>\n",
       "      <td>None</td>\n",
       "    </tr>\n",
       "    <tr>\n",
       "      <th>2</th>\n",
       "      <td>11456822</td>\n",
       "      <td>'t Oude Huis Zoetermeer</td>\n",
       "      <td>[Buildings in Zoetermeer, Rijksmonumenten in Z...</td>\n",
       "      <td>False</td>\n",
       "      <td>None</td>\n",
       "    </tr>\n",
       "    <tr>\n",
       "      <th>3</th>\n",
       "      <td>75625387</td>\n",
       "      <td>(315898) 2008 QD4</td>\n",
       "      <td>[Centaurs (minor planets)]</td>\n",
       "      <td>False</td>\n",
       "      <td>None</td>\n",
       "    </tr>\n",
       "    <tr>\n",
       "      <th>4</th>\n",
       "      <td>106082675</td>\n",
       "      <td>(an) Schloßstraße 17 (Ruppertsberg)</td>\n",
       "      <td>[Cultural heritage monuments in Ruppertsberg, ...</td>\n",
       "      <td>False</td>\n",
       "      <td>None</td>\n",
       "    </tr>\n",
       "  </tbody>\n",
       "</table>\n",
       "</div>"
      ],
      "text/plain": [
       "          id                                title  \\\n",
       "0   51586720     's-Gravelandse Veer 9, Amsterdam   \n",
       "1   76297768          's-Gravenhekje 2, Amsterdam   \n",
       "2   11456822              't Oude Huis Zoetermeer   \n",
       "3   75625387                    (315898) 2008 QD4   \n",
       "4  106082675  (an) Schloßstraße 17 (Ruppertsberg)   \n",
       "\n",
       "                                             parents  hiddencat childs  \n",
       "0  ['s-Gravelandseveer, Amsterdam, Rijksmonumente...      False   None  \n",
       "1  [Rijksmonumenten in Amsterdam-Centrum, 's-Grav...      False   None  \n",
       "2  [Buildings in Zoetermeer, Rijksmonumenten in Z...      False   None  \n",
       "3                         [Centaurs (minor planets)]      False   None  \n",
       "4  [Cultural heritage monuments in Ruppertsberg, ...      False   None  "
      ]
     },
     "execution_count": 6,
     "metadata": {},
     "output_type": "execute_result"
    }
   ],
   "source": [
    "categories.head(5)"
   ]
  },
  {
   "cell_type": "code",
   "execution_count": 7,
   "metadata": {},
   "outputs": [],
   "source": [
    "taxonomy = Taxonomy()\n",
    "taxonomy.load_graph(LGRAPH_PATH)\n",
    "taxonomy.load_graph(LGRAPH_H_PATH, clean=True)"
   ]
  },
  {
   "cell_type": "code",
   "execution_count": 8,
   "metadata": {},
   "outputs": [],
   "source": [
    "def queryFile(file, how='heuristics_simple'):\n",
    "    '''\n",
    "    Given one file, a row of the files DataFrame, queries recursively all\n",
    "    the categories and returns the final labels.\n",
    "    '''\n",
    "\n",
    "    labels = set()\n",
    "    for category in file.categories:\n",
    "        cat_labels = taxonomy.get_label(category, how=how)\n",
    "        labels |= cat_labels\n",
    "    return labels"
   ]
  },
  {
   "cell_type": "code",
   "execution_count": 9,
   "metadata": {},
   "outputs": [
    {
     "name": "stderr",
     "output_type": "stream",
     "text": [
      "100%|██████████| 3891446/3891446 [01:50<00:00, 35280.43it/s]\n"
     ]
    }
   ],
   "source": [
    "files['labels'] = files.progress_apply(lambda x: queryFile(x), axis=1)"
   ]
  },
  {
   "cell_type": "code",
   "execution_count": 10,
   "metadata": {},
   "outputs": [],
   "source": [
    "files.to_json('data/commonswiki-20220914-files-heuristic-labels.json.bz2')"
   ]
  },
  {
   "cell_type": "code",
   "execution_count": 12,
   "metadata": {},
   "outputs": [
    {
     "name": "stdout",
     "output_type": "stream",
     "text": [
      "(3891446, 5)\n"
     ]
    },
    {
     "data": {
      "text/html": [
       "<div>\n",
       "<style scoped>\n",
       "    .dataframe tbody tr th:only-of-type {\n",
       "        vertical-align: middle;\n",
       "    }\n",
       "\n",
       "    .dataframe tbody tr th {\n",
       "        vertical-align: top;\n",
       "    }\n",
       "\n",
       "    .dataframe thead th {\n",
       "        text-align: right;\n",
       "    }\n",
       "</style>\n",
       "<table border=\"1\" class=\"dataframe\">\n",
       "  <thead>\n",
       "    <tr style=\"text-align: right;\">\n",
       "      <th></th>\n",
       "      <th>id</th>\n",
       "      <th>title</th>\n",
       "      <th>url</th>\n",
       "      <th>categories</th>\n",
       "      <th>labels</th>\n",
       "    </tr>\n",
       "  </thead>\n",
       "  <tbody>\n",
       "    <tr>\n",
       "      <th>0</th>\n",
       "      <td>80902489</td>\n",
       "      <td>\"A Gathering of Court Women\", Folio from the D...</td>\n",
       "      <td>c/c1/%22A_Gathering_of_Court_Women%22%2C_Folio...</td>\n",
       "      <td>[Department of Islamic Art, Metropolitan Museu...</td>\n",
       "      <td>{Art, Culture}</td>\n",
       "    </tr>\n",
       "    <tr>\n",
       "      <th>1</th>\n",
       "      <td>53631642</td>\n",
       "      <td>\"Akdeniz\" - Aliağa, 2016.jpg</td>\n",
       "      <td>f/f8/%22Akdeniz%22_-_Alia%C4%9Fa%2C_2016.jpg</td>\n",
       "      <td>[Akdeniz (ship, 1955), Aliağa ship-breaking yard]</td>\n",
       "      <td>{}</td>\n",
       "    </tr>\n",
       "    <tr>\n",
       "      <th>2</th>\n",
       "      <td>74785910</td>\n",
       "      <td>\"Carnevale di Torino\". Felice Cerruti - f.lli ...</td>\n",
       "      <td>1/13/%22Carnevale_di_Torino%22._Felice_Cerruti...</td>\n",
       "      <td>[Felice Cerruti Bauduc, Victor Emmanuel II of ...</td>\n",
       "      <td>{Places, Art, People, Culture}</td>\n",
       "    </tr>\n",
       "    <tr>\n",
       "      <th>3</th>\n",
       "      <td>14890941</td>\n",
       "      <td>\"Escena de playa con figura\".jpg</td>\n",
       "      <td>c/c2/%22Escena_de_playa_con_figura%22.jpg</td>\n",
       "      <td>[Pedro Lira, People with dogs in art]</td>\n",
       "      <td>{People}</td>\n",
       "    </tr>\n",
       "    <tr>\n",
       "      <th>4</th>\n",
       "      <td>17828296</td>\n",
       "      <td>\"Florero con plátanos, limones y libros\", Juan...</td>\n",
       "      <td>d/da/%22Florero_con_pl%C3%A1tanos%2C_limones_y...</td>\n",
       "      <td>[Works by Juan de Echevarría, Still-life paint...</td>\n",
       "      <td>{Art, Culture}</td>\n",
       "    </tr>\n",
       "  </tbody>\n",
       "</table>\n",
       "</div>"
      ],
      "text/plain": [
       "         id                                              title  \\\n",
       "0  80902489  \"A Gathering of Court Women\", Folio from the D...   \n",
       "1  53631642                       \"Akdeniz\" - Aliağa, 2016.jpg   \n",
       "2  74785910  \"Carnevale di Torino\". Felice Cerruti - f.lli ...   \n",
       "3  14890941                   \"Escena de playa con figura\".jpg   \n",
       "4  17828296  \"Florero con plátanos, limones y libros\", Juan...   \n",
       "\n",
       "                                                 url  \\\n",
       "0  c/c1/%22A_Gathering_of_Court_Women%22%2C_Folio...   \n",
       "1       f/f8/%22Akdeniz%22_-_Alia%C4%9Fa%2C_2016.jpg   \n",
       "2  1/13/%22Carnevale_di_Torino%22._Felice_Cerruti...   \n",
       "3          c/c2/%22Escena_de_playa_con_figura%22.jpg   \n",
       "4  d/da/%22Florero_con_pl%C3%A1tanos%2C_limones_y...   \n",
       "\n",
       "                                          categories  \\\n",
       "0  [Department of Islamic Art, Metropolitan Museu...   \n",
       "1  [Akdeniz (ship, 1955), Aliağa ship-breaking yard]   \n",
       "2  [Felice Cerruti Bauduc, Victor Emmanuel II of ...   \n",
       "3              [Pedro Lira, People with dogs in art]   \n",
       "4  [Works by Juan de Echevarría, Still-life paint...   \n",
       "\n",
       "                           labels  \n",
       "0                  {Art, Culture}  \n",
       "1                              {}  \n",
       "2  {Places, Art, People, Culture}  \n",
       "3                        {People}  \n",
       "4                  {Art, Culture}  "
      ]
     },
     "execution_count": 12,
     "metadata": {},
     "output_type": "execute_result"
    }
   ],
   "source": [
    "print(files.shape)\n",
    "files.head()"
   ]
  }
 ],
 "metadata": {
  "kernelspec": {
   "display_name": "Python 3.8.2 ('base')",
   "language": "python",
   "name": "python3"
  },
  "language_info": {
   "codemirror_mode": {
    "name": "ipython",
    "version": 3
   },
   "file_extension": ".py",
   "mimetype": "text/x-python",
   "name": "python",
   "nbconvert_exporter": "python",
   "pygments_lexer": "ipython3",
   "version": "3.8.2"
  },
  "orig_nbformat": 4,
  "vscode": {
   "interpreter": {
    "hash": "b7f323a1c2c8b3d38dc94a01188981c510c9b5df10e2cc2d7fa4f2b45d318cbd"
   }
  }
 },
 "nbformat": 4,
 "nbformat_minor": 2
}
