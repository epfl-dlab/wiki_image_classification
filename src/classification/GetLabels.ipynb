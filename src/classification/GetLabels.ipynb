{
 "cells": [
  {
   "cell_type": "markdown",
   "metadata": {},
   "source": [
    "#### Get labels from Heustistics\n",
    "In this file, we use Taxonomy v1.3 and use it to get labels for the images. We save the dataframe containing all the image-label correspondencies in /data folder (not trackable).\n",
    "\n",
    "After generating the OUTPUT_FILE, we go on and pre-process it and split it in CleanAndSplitData.ipynb."
   ]
  },
  {
   "cell_type": "code",
   "execution_count": 1,
   "metadata": {},
   "outputs": [],
   "source": [
    "OUTPUT_FILE = 'data/commonswiki-221218-files-hierarchical-labels.json.bz2'"
   ]
  },
  {
   "cell_type": "code",
   "execution_count": 2,
   "metadata": {},
   "outputs": [],
   "source": [
    "import pandas as pd\n",
    "import sys\n",
    "sys.path.append('../')\n",
    "from taxonomy.heuristics import Heuristics\n",
    "from config import *\n",
    "from tqdm import tqdm\n",
    "\n",
    "tqdm.pandas()"
   ]
  },
  {
   "cell_type": "code",
   "execution_count": 3,
   "metadata": {},
   "outputs": [],
   "source": [
    "heuristics = Heuristics()\n",
    "heuristics.load_graph(HGRAPH_PATH)\n",
    "heuristics.set_taxonomy(taxonomy_version=\"v1.3\", hierarchical=True)\n",
    "heuristics.set_heuristics(heuristics_version=\"headJ+depth\")"
   ]
  },
  {
   "cell_type": "code",
   "execution_count": 4,
   "metadata": {},
   "outputs": [],
   "source": [
    "files = pd.read_parquet(FILES_PATH)"
   ]
  },
  {
   "cell_type": "code",
   "execution_count": 5,
   "metadata": {},
   "outputs": [
    {
     "name": "stdout",
     "output_type": "stream",
     "text": [
      "(3891446, 4)\n"
     ]
    },
    {
     "data": {
      "text/html": [
       "<div>\n",
       "<style scoped>\n",
       "    .dataframe tbody tr th:only-of-type {\n",
       "        vertical-align: middle;\n",
       "    }\n",
       "\n",
       "    .dataframe tbody tr th {\n",
       "        vertical-align: top;\n",
       "    }\n",
       "\n",
       "    .dataframe thead th {\n",
       "        text-align: right;\n",
       "    }\n",
       "</style>\n",
       "<table border=\"1\" class=\"dataframe\">\n",
       "  <thead>\n",
       "    <tr style=\"text-align: right;\">\n",
       "      <th></th>\n",
       "      <th>id</th>\n",
       "      <th>title</th>\n",
       "      <th>url</th>\n",
       "      <th>categories</th>\n",
       "    </tr>\n",
       "  </thead>\n",
       "  <tbody>\n",
       "    <tr>\n",
       "      <th>0</th>\n",
       "      <td>80902489</td>\n",
       "      <td>\"A Gathering of Court Women\", Folio from the D...</td>\n",
       "      <td>c/c1/%22A_Gathering_of_Court_Women%22%2C_Folio...</td>\n",
       "      <td>[Department of Islamic Art, Metropolitan Museu...</td>\n",
       "    </tr>\n",
       "    <tr>\n",
       "      <th>1</th>\n",
       "      <td>53631642</td>\n",
       "      <td>\"Akdeniz\" - Aliağa, 2016.jpg</td>\n",
       "      <td>f/f8/%22Akdeniz%22_-_Alia%C4%9Fa%2C_2016.jpg</td>\n",
       "      <td>[Akdeniz (ship, 1955), Aliağa ship-breaking yard]</td>\n",
       "    </tr>\n",
       "    <tr>\n",
       "      <th>2</th>\n",
       "      <td>74785910</td>\n",
       "      <td>\"Carnevale di Torino\". Felice Cerruti - f.lli ...</td>\n",
       "      <td>1/13/%22Carnevale_di_Torino%22._Felice_Cerruti...</td>\n",
       "      <td>[Felice Cerruti Bauduc, Victor Emmanuel II of ...</td>\n",
       "    </tr>\n",
       "    <tr>\n",
       "      <th>3</th>\n",
       "      <td>14890941</td>\n",
       "      <td>\"Escena de playa con figura\".jpg</td>\n",
       "      <td>c/c2/%22Escena_de_playa_con_figura%22.jpg</td>\n",
       "      <td>[Pedro Lira, People with dogs in art]</td>\n",
       "    </tr>\n",
       "    <tr>\n",
       "      <th>4</th>\n",
       "      <td>17828296</td>\n",
       "      <td>\"Florero con plátanos, limones y libros\", Juan...</td>\n",
       "      <td>d/da/%22Florero_con_pl%C3%A1tanos%2C_limones_y...</td>\n",
       "      <td>[Works by Juan de Echevarría, Still-life paint...</td>\n",
       "    </tr>\n",
       "  </tbody>\n",
       "</table>\n",
       "</div>"
      ],
      "text/plain": [
       "         id                                              title  \\\n",
       "0  80902489  \"A Gathering of Court Women\", Folio from the D...   \n",
       "1  53631642                       \"Akdeniz\" - Aliağa, 2016.jpg   \n",
       "2  74785910  \"Carnevale di Torino\". Felice Cerruti - f.lli ...   \n",
       "3  14890941                   \"Escena de playa con figura\".jpg   \n",
       "4  17828296  \"Florero con plátanos, limones y libros\", Juan...   \n",
       "\n",
       "                                                 url  \\\n",
       "0  c/c1/%22A_Gathering_of_Court_Women%22%2C_Folio...   \n",
       "1       f/f8/%22Akdeniz%22_-_Alia%C4%9Fa%2C_2016.jpg   \n",
       "2  1/13/%22Carnevale_di_Torino%22._Felice_Cerruti...   \n",
       "3          c/c2/%22Escena_de_playa_con_figura%22.jpg   \n",
       "4  d/da/%22Florero_con_pl%C3%A1tanos%2C_limones_y...   \n",
       "\n",
       "                                          categories  \n",
       "0  [Department of Islamic Art, Metropolitan Museu...  \n",
       "1  [Akdeniz (ship, 1955), Aliağa ship-breaking yard]  \n",
       "2  [Felice Cerruti Bauduc, Victor Emmanuel II of ...  \n",
       "3              [Pedro Lira, People with dogs in art]  \n",
       "4  [Works by Juan de Echevarría, Still-life paint...  "
      ]
     },
     "execution_count": 5,
     "metadata": {},
     "output_type": "execute_result"
    }
   ],
   "source": [
    "print(files.shape)\n",
    "files.head(5)"
   ]
  },
  {
   "cell_type": "code",
   "execution_count": 6,
   "metadata": {},
   "outputs": [
    {
     "name": "stderr",
     "output_type": "stream",
     "text": [
      "100%|██████████| 3891446/3891446 [06:38<00:00, 9765.49it/s] \n"
     ]
    }
   ],
   "source": [
    "files['labels'] = files.progress_apply(lambda x: heuristics.queryFile(x), axis=1)"
   ]
  },
  {
   "cell_type": "code",
   "execution_count": 7,
   "metadata": {},
   "outputs": [
    {
     "data": {
      "text/html": [
       "<div>\n",
       "<style scoped>\n",
       "    .dataframe tbody tr th:only-of-type {\n",
       "        vertical-align: middle;\n",
       "    }\n",
       "\n",
       "    .dataframe tbody tr th {\n",
       "        vertical-align: top;\n",
       "    }\n",
       "\n",
       "    .dataframe thead th {\n",
       "        text-align: right;\n",
       "    }\n",
       "</style>\n",
       "<table border=\"1\" class=\"dataframe\">\n",
       "  <thead>\n",
       "    <tr style=\"text-align: right;\">\n",
       "      <th></th>\n",
       "      <th>id</th>\n",
       "      <th>title</th>\n",
       "      <th>url</th>\n",
       "      <th>categories</th>\n",
       "      <th>labels</th>\n",
       "    </tr>\n",
       "  </thead>\n",
       "  <tbody>\n",
       "    <tr>\n",
       "      <th>0</th>\n",
       "      <td>80902489</td>\n",
       "      <td>\"A Gathering of Court Women\", Folio from the D...</td>\n",
       "      <td>c/c1/%22A_Gathering_of_Court_Women%22%2C_Folio...</td>\n",
       "      <td>[Department of Islamic Art, Metropolitan Museu...</td>\n",
       "      <td>({Culture, Art}, None)</td>\n",
       "    </tr>\n",
       "    <tr>\n",
       "      <th>1</th>\n",
       "      <td>53631642</td>\n",
       "      <td>\"Akdeniz\" - Aliağa, 2016.jpg</td>\n",
       "      <td>f/f8/%22Akdeniz%22_-_Alia%C4%9Fa%2C_2016.jpg</td>\n",
       "      <td>[Akdeniz (ship, 1955), Aliağa ship-breaking yard]</td>\n",
       "      <td>({}, None)</td>\n",
       "    </tr>\n",
       "    <tr>\n",
       "      <th>2</th>\n",
       "      <td>74785910</td>\n",
       "      <td>\"Carnevale di Torino\". Felice Cerruti - f.lli ...</td>\n",
       "      <td>1/13/%22Carnevale_di_Torino%22._Felice_Cerruti...</td>\n",
       "      <td>[Felice Cerruti Bauduc, Victor Emmanuel II of ...</td>\n",
       "      <td>({People, Society, Art, Places, Culture}, None)</td>\n",
       "    </tr>\n",
       "    <tr>\n",
       "      <th>3</th>\n",
       "      <td>14890941</td>\n",
       "      <td>\"Escena de playa con figura\".jpg</td>\n",
       "      <td>c/c2/%22Escena_de_playa_con_figura%22.jpg</td>\n",
       "      <td>[Pedro Lira, People with dogs in art]</td>\n",
       "      <td>({People, Society}, None)</td>\n",
       "    </tr>\n",
       "    <tr>\n",
       "      <th>4</th>\n",
       "      <td>17828296</td>\n",
       "      <td>\"Florero con plátanos, limones y libros\", Juan...</td>\n",
       "      <td>d/da/%22Florero_con_pl%C3%A1tanos%2C_limones_y...</td>\n",
       "      <td>[Works by Juan de Echevarría, Still-life paint...</td>\n",
       "      <td>({Culture, Art}, None)</td>\n",
       "    </tr>\n",
       "  </tbody>\n",
       "</table>\n",
       "</div>"
      ],
      "text/plain": [
       "         id                                              title  \\\n",
       "0  80902489  \"A Gathering of Court Women\", Folio from the D...   \n",
       "1  53631642                       \"Akdeniz\" - Aliağa, 2016.jpg   \n",
       "2  74785910  \"Carnevale di Torino\". Felice Cerruti - f.lli ...   \n",
       "3  14890941                   \"Escena de playa con figura\".jpg   \n",
       "4  17828296  \"Florero con plátanos, limones y libros\", Juan...   \n",
       "\n",
       "                                                 url  \\\n",
       "0  c/c1/%22A_Gathering_of_Court_Women%22%2C_Folio...   \n",
       "1       f/f8/%22Akdeniz%22_-_Alia%C4%9Fa%2C_2016.jpg   \n",
       "2  1/13/%22Carnevale_di_Torino%22._Felice_Cerruti...   \n",
       "3          c/c2/%22Escena_de_playa_con_figura%22.jpg   \n",
       "4  d/da/%22Florero_con_pl%C3%A1tanos%2C_limones_y...   \n",
       "\n",
       "                                          categories  \\\n",
       "0  [Department of Islamic Art, Metropolitan Museu...   \n",
       "1  [Akdeniz (ship, 1955), Aliağa ship-breaking yard]   \n",
       "2  [Felice Cerruti Bauduc, Victor Emmanuel II of ...   \n",
       "3              [Pedro Lira, People with dogs in art]   \n",
       "4  [Works by Juan de Echevarría, Still-life paint...   \n",
       "\n",
       "                                            labels  \n",
       "0                           ({Culture, Art}, None)  \n",
       "1                                       ({}, None)  \n",
       "2  ({People, Society, Art, Places, Culture}, None)  \n",
       "3                        ({People, Society}, None)  \n",
       "4                           ({Culture, Art}, None)  "
      ]
     },
     "execution_count": 7,
     "metadata": {},
     "output_type": "execute_result"
    }
   ],
   "source": [
    "files.head()"
   ]
  },
  {
   "cell_type": "markdown",
   "metadata": {},
   "source": [
    "For some reason, the labels are a tuple with \"None\" as the second element. Fix that."
   ]
  },
  {
   "cell_type": "code",
   "execution_count": 8,
   "metadata": {},
   "outputs": [
    {
     "name": "stderr",
     "output_type": "stream",
     "text": [
      "100%|██████████| 3891446/3891446 [01:09<00:00, 55689.87it/s]\n"
     ]
    }
   ],
   "source": [
    "files['labels'] = files.progress_apply(lambda x: x.labels[0], axis=1)"
   ]
  },
  {
   "cell_type": "code",
   "execution_count": 9,
   "metadata": {},
   "outputs": [
    {
     "data": {
      "text/html": [
       "<div>\n",
       "<style scoped>\n",
       "    .dataframe tbody tr th:only-of-type {\n",
       "        vertical-align: middle;\n",
       "    }\n",
       "\n",
       "    .dataframe tbody tr th {\n",
       "        vertical-align: top;\n",
       "    }\n",
       "\n",
       "    .dataframe thead th {\n",
       "        text-align: right;\n",
       "    }\n",
       "</style>\n",
       "<table border=\"1\" class=\"dataframe\">\n",
       "  <thead>\n",
       "    <tr style=\"text-align: right;\">\n",
       "      <th></th>\n",
       "      <th>id</th>\n",
       "      <th>title</th>\n",
       "      <th>url</th>\n",
       "      <th>categories</th>\n",
       "      <th>labels</th>\n",
       "    </tr>\n",
       "  </thead>\n",
       "  <tbody>\n",
       "    <tr>\n",
       "      <th>0</th>\n",
       "      <td>80902489</td>\n",
       "      <td>\"A Gathering of Court Women\", Folio from the D...</td>\n",
       "      <td>c/c1/%22A_Gathering_of_Court_Women%22%2C_Folio...</td>\n",
       "      <td>[Department of Islamic Art, Metropolitan Museu...</td>\n",
       "      <td>{Culture, Art}</td>\n",
       "    </tr>\n",
       "    <tr>\n",
       "      <th>1</th>\n",
       "      <td>53631642</td>\n",
       "      <td>\"Akdeniz\" - Aliağa, 2016.jpg</td>\n",
       "      <td>f/f8/%22Akdeniz%22_-_Alia%C4%9Fa%2C_2016.jpg</td>\n",
       "      <td>[Akdeniz (ship, 1955), Aliağa ship-breaking yard]</td>\n",
       "      <td>{}</td>\n",
       "    </tr>\n",
       "    <tr>\n",
       "      <th>2</th>\n",
       "      <td>74785910</td>\n",
       "      <td>\"Carnevale di Torino\". Felice Cerruti - f.lli ...</td>\n",
       "      <td>1/13/%22Carnevale_di_Torino%22._Felice_Cerruti...</td>\n",
       "      <td>[Felice Cerruti Bauduc, Victor Emmanuel II of ...</td>\n",
       "      <td>{People, Society, Art, Places, Culture}</td>\n",
       "    </tr>\n",
       "    <tr>\n",
       "      <th>3</th>\n",
       "      <td>14890941</td>\n",
       "      <td>\"Escena de playa con figura\".jpg</td>\n",
       "      <td>c/c2/%22Escena_de_playa_con_figura%22.jpg</td>\n",
       "      <td>[Pedro Lira, People with dogs in art]</td>\n",
       "      <td>{People, Society}</td>\n",
       "    </tr>\n",
       "    <tr>\n",
       "      <th>4</th>\n",
       "      <td>17828296</td>\n",
       "      <td>\"Florero con plátanos, limones y libros\", Juan...</td>\n",
       "      <td>d/da/%22Florero_con_pl%C3%A1tanos%2C_limones_y...</td>\n",
       "      <td>[Works by Juan de Echevarría, Still-life paint...</td>\n",
       "      <td>{Culture, Art}</td>\n",
       "    </tr>\n",
       "  </tbody>\n",
       "</table>\n",
       "</div>"
      ],
      "text/plain": [
       "         id                                              title  \\\n",
       "0  80902489  \"A Gathering of Court Women\", Folio from the D...   \n",
       "1  53631642                       \"Akdeniz\" - Aliağa, 2016.jpg   \n",
       "2  74785910  \"Carnevale di Torino\". Felice Cerruti - f.lli ...   \n",
       "3  14890941                   \"Escena de playa con figura\".jpg   \n",
       "4  17828296  \"Florero con plátanos, limones y libros\", Juan...   \n",
       "\n",
       "                                                 url  \\\n",
       "0  c/c1/%22A_Gathering_of_Court_Women%22%2C_Folio...   \n",
       "1       f/f8/%22Akdeniz%22_-_Alia%C4%9Fa%2C_2016.jpg   \n",
       "2  1/13/%22Carnevale_di_Torino%22._Felice_Cerruti...   \n",
       "3          c/c2/%22Escena_de_playa_con_figura%22.jpg   \n",
       "4  d/da/%22Florero_con_pl%C3%A1tanos%2C_limones_y...   \n",
       "\n",
       "                                          categories  \\\n",
       "0  [Department of Islamic Art, Metropolitan Museu...   \n",
       "1  [Akdeniz (ship, 1955), Aliağa ship-breaking yard]   \n",
       "2  [Felice Cerruti Bauduc, Victor Emmanuel II of ...   \n",
       "3              [Pedro Lira, People with dogs in art]   \n",
       "4  [Works by Juan de Echevarría, Still-life paint...   \n",
       "\n",
       "                                    labels  \n",
       "0                           {Culture, Art}  \n",
       "1                                       {}  \n",
       "2  {People, Society, Art, Places, Culture}  \n",
       "3                        {People, Society}  \n",
       "4                           {Culture, Art}  "
      ]
     },
     "execution_count": 9,
     "metadata": {},
     "output_type": "execute_result"
    }
   ],
   "source": [
    "files.head()"
   ]
  },
  {
   "cell_type": "code",
   "execution_count": 10,
   "metadata": {},
   "outputs": [
    {
     "data": {
      "text/plain": [
       "(3891446, 5)"
      ]
     },
     "execution_count": 10,
     "metadata": {},
     "output_type": "execute_result"
    }
   ],
   "source": [
    "files.shape"
   ]
  },
  {
   "cell_type": "code",
   "execution_count": 11,
   "metadata": {},
   "outputs": [],
   "source": [
    "files.to_json(OUTPUT_FILE)"
   ]
  }
 ],
 "metadata": {
  "kernelspec": {
   "display_name": "Python 3.8.2 ('base')",
   "language": "python",
   "name": "python3"
  },
  "language_info": {
   "codemirror_mode": {
    "name": "ipython",
    "version": 3
   },
   "file_extension": ".py",
   "mimetype": "text/x-python",
   "name": "python",
   "nbconvert_exporter": "python",
   "pygments_lexer": "ipython3",
   "version": "3.8.2"
  },
  "orig_nbformat": 4,
  "vscode": {
   "interpreter": {
    "hash": "b7f323a1c2c8b3d38dc94a01188981c510c9b5df10e2cc2d7fa4f2b45d318cbd"
   }
  }
 },
 "nbformat": 4,
 "nbformat_minor": 2
}
