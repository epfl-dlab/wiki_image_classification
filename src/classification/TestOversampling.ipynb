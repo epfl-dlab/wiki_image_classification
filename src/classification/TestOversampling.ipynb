{
 "cells": [
  {
   "cell_type": "code",
   "execution_count": 1,
   "metadata": {},
   "outputs": [
    {
     "name": "stdout",
     "output_type": "stream",
     "text": [
      "2 Physical GPUs, 1 Logical GPU\n"
     ]
    }
   ],
   "source": [
    "import sys\n",
    "sys.path.append('..')\n",
    "import json\n",
    "import help_functions as hf\n",
    "import numpy as np\n",
    "from collections import Counter\n",
    "from matplotlib import pyplot as plt\n",
    "import pandas as pd\n",
    "hf.setup_gpu(gpu_nr=1)"
   ]
  },
  {
   "cell_type": "code",
   "execution_count": 2,
   "metadata": {},
   "outputs": [
    {
     "name": "stdout",
     "output_type": "stream",
     "text": [
      "Found 50000 non-validated image filenames belonging to 40 classes.\n"
     ]
    },
    {
     "name": "stderr",
     "output_type": "stream",
     "text": [
      "/home/matvieir/wiki_image_classification/src/classification/help_functions.py:267: SettingWithCopyWarning: \n",
      "A value is trying to be set on a copy of a slice from a DataFrame.\n",
      "Try using .loc[row_indexer,col_indexer] = value instead\n",
      "\n",
      "See the caveats in the documentation: https://pandas.pydata.org/pandas-docs/stable/user_guide/indexing.html#returning-a-view-versus-a-copy\n",
      "  df_x_labels['labels'] = df['labels'].apply(lambda labels_list: [label for label in labels_list if label in top_classes])\n"
     ]
    },
    {
     "name": "stdout",
     "output_type": "stream",
     "text": [
      "Found 49514 validated image filenames belonging to 20 classes.\n"
     ]
    }
   ],
   "source": [
    "with open('training_configurations.json', 'r') as fp:\n",
    "    config = json.load(fp)[str(11)]\n",
    "\n",
    "train, train_df = hf.get_flow(df_file=config['data_folder'] + '/test_df.json.bz2',\n",
    "                   nr_classes=config['nr_classes'],\n",
    "                   batch_size=config['batch_size'],\n",
    "                   image_dimension=config['image_dimension'])\n",
    "y_true = hf.get_y_true(shape=(train.samples, len(train.class_indices)), classes=train.classes)\n",
    "label_names = list(train.class_indices.keys())"
   ]
  },
  {
   "cell_type": "code",
   "execution_count": 3,
   "metadata": {},
   "outputs": [
    {
     "data": {
      "text/plain": [
       "{0: 3.0414004914004913,\n",
       " 1: 1.651567711807872,\n",
       " 2: 5.825176470588235,\n",
       " 3: 0.19865992617557374,\n",
       " 4: 1.308509513742072,\n",
       " 5: 0.8130377668308703,\n",
       " 6: 0.28404084442404776,\n",
       " 7: 7.594171779141104,\n",
       " 8: 2.3137383177570094,\n",
       " 9: 5.770862470862471,\n",
       " 10: 0.3117617428535449,\n",
       " 11: 0.23768241167434717,\n",
       " 12: 0.23627600687154038,\n",
       " 13: 0.12418861299222474,\n",
       " 14: 3.541773962804006,\n",
       " 15: 0.981252477209671,\n",
       " 16: 5.501555555555556,\n",
       " 17: 0.14122646891043925,\n",
       " 18: 1.0712678494158372,\n",
       " 19: 1.0175503493629263}"
      ]
     },
     "execution_count": 3,
     "metadata": {},
     "output_type": "execute_result"
    }
   ],
   "source": [
    "hf.compute_class_weights(y_true)"
   ]
  },
  {
   "cell_type": "code",
   "execution_count": 4,
   "metadata": {},
   "outputs": [],
   "source": [
    "name_id_map = train.class_indices\n",
    "class_names = len(name_id_map)*[0]\n",
    "for k in name_id_map.keys():\n",
    "    class_names[name_id_map[k]] = k"
   ]
  },
  {
   "cell_type": "code",
   "execution_count": 5,
   "metadata": {},
   "outputs": [],
   "source": [
    "weights = train_df[[\"labels\", \"title\"]].explode(\"labels\")\\\n",
    "            .groupby(\"labels\").agg(\"count\").reset_index()\n",
    "total = weights.title.sum()\n",
    "weights['proportion'] = weights.title.apply(lambda r: r/total)\n",
    "weights['weight'] = weights.title.apply(lambda r: (1/r)*(total/41)) # \n",
    "# weights['weight'] = weights.page_title.apply(lambda r: np.log((1/r)*(total/2)))\n",
    "weights = weights[['labels', 'proportion', 'weight']]\n",
    "class_weight = {}\n",
    "for l in name_id_map.keys():\n",
    "    w = weights[weights.labels==l].weight.iloc[0]\n",
    "    class_weight[train.class_indices[l]] = w\n"
   ]
  },
  {
   "cell_type": "code",
   "execution_count": 6,
   "metadata": {},
   "outputs": [
    {
     "data": {
      "text/plain": [
       "{0: 3.1579672799184992,\n",
       " 1: 1.7148668217836278,\n",
       " 2: 6.048436154949784,\n",
       " 3: 0.20627390193016035,\n",
       " 4: 1.3586603413602847,\n",
       " 5: 0.8441988065200849,\n",
       " 6: 0.2949271874545271,\n",
       " 7: 7.88523118360018,\n",
       " 8: 2.4024162297697744,\n",
       " 9: 5.9920404798453575,\n",
       " 10: 0.32371053593422217,\n",
       " 11: 0.246791989809299,\n",
       " 12: 0.24533168217729132,\n",
       " 13: 0.1289483504315856,\n",
       " 14: 3.677518406085348,\n",
       " 15: 1.0188606285587232,\n",
       " 16: 5.712411924119241,\n",
       " 17: 0.14663921083021442,\n",
       " 18: 1.112325991282414,\n",
       " 19: 1.0565496777039287}"
      ]
     },
     "execution_count": 6,
     "metadata": {},
     "output_type": "execute_result"
    }
   ],
   "source": [
    "class_weight"
   ]
  },
  {
   "cell_type": "code",
   "execution_count": 59,
   "metadata": {},
   "outputs": [
    {
     "name": "stdout",
     "output_type": "stream",
     "text": [
      "mean_ir_original: 16.55546720387189\n"
     ]
    }
   ],
   "source": [
    "mean_ir_original, dict_ir_original = hf.mean_imbalance_ratio(y_true=y_true, class_names=label_names)\n",
    "print(f'mean_ir_original: {mean_ir_original}')\n",
    "\n",
    "original_nr_rows = y_true.shape[0]\n",
    "nr_labels = y_true.shape[1]\n",
    "y_true_copy = np.copy(y_true)\n",
    "indices_to_add = []"
   ]
  },
  {
   "cell_type": "code",
   "execution_count": 60,
   "metadata": {},
   "outputs": [],
   "source": [
    "BIG_NUMBER = 10_000\n",
    "label_rewards = BIG_NUMBER / y_true_copy.sum(axis=0)\n",
    "row_rewards = (label_rewards * y_true_copy).sum(axis=1)\n"
   ]
  },
  {
   "cell_type": "code",
   "execution_count": 62,
   "metadata": {},
   "outputs": [],
   "source": [
    "reps = 50\n",
    "while y_true_copy.shape[0] < original_nr_rows * (1 + add_pctg):\n",
    "    \n",
    "    best_row = y_true_copy[np.argmax(row_rewards), :].reshape(1, nr_labels) # 1.5 ms on average\n",
    "    y_true_copy = np.append(y_true_copy, np.tile(best_row, (reps, 1)), axis=0) # 50 ms on average\n",
    "\n",
    "    label_rewards = BIG_NUMBER / y_true_copy.sum(axis=0) # 20 ms on average\n",
    "    row_rewards = (label_rewards * y_true_copy).sum(axis=1) # 80 ms on average\n",
    "\n",
    "    idx_to_add = np.where((y_true == best_row).all(axis=1))[0] # 40 ms on average\n",
    "    for _ in range(reps):\n",
    "        indices_to_add.append(idx_to_add[0]) # 0.05 ms on average\n",
    "\n",
    "mean_ir_heuristics, dict_ir_heuristics = hf.mean_imbalance_ratio(y_true=y_true_copy, class_names=label_names)"
   ]
  },
  {
   "cell_type": "code",
   "execution_count": 63,
   "metadata": {},
   "outputs": [
    {
     "data": {
      "image/png": "[encoded data removed]",
      "text/plain": [
       "<Figure size 864x432 with 1 Axes>"
      ]
     },
     "metadata": {
      "needs_background": "light"
     },
     "output_type": "display_data"
    }
   ],
   "source": [
    "\n",
    "plt.figure(figsize=(12, 6))\n",
    "x_axis = np.arange(len(dict_ir_original.keys()))\n",
    "plt.bar(x_axis-0.1, dict_ir_original.values(), width=0.2, label=f'Original; MeanIR: {np.round(mean_ir_original, 1)}')\n",
    "plt.bar(x_axis+0.1, dict_ir_heuristics.values(), width=0.2, label=f'Oversampled, MeanIR: {np.round(mean_ir_heuristics, 2)}')\n",
    "plt.legend(fontsize=12)\n",
    "_ = plt.xticks(x_axis, dict_ir_heuristics.keys(), rotation=75, fontsize=14)\n",
    "plt.title('Mean imbalance ratio per label')\n",
    "plt.ylabel('Imbalance ratio')\n",
    "plt.xlabel('Label')\n",
    "plt.show()\n",
    "# hf.save_img(image_path + '/oversampled_imbalance_ratios.png')"
   ]
  },
  {
   "cell_type": "code",
   "execution_count": 84,
   "metadata": {},
   "outputs": [],
   "source": [
    "indices_to_add_hashable = [tuple([el]) for el in indices_to_add]\n",
    "duplicate_indices_dict = dict(Counter(indices_to_add_hashable))"
   ]
  },
  {
   "cell_type": "code",
   "execution_count": 89,
   "metadata": {},
   "outputs": [
    {
     "name": "stdout",
     "output_type": "stream",
     "text": [
      "(21659,)\n",
      "(479325,)\n",
      "(267699,)\n",
      "(30992,)\n",
      "(199574,)\n",
      "(184219,)\n",
      "(560944,)\n",
      "(579772,)\n",
      "(574684,)\n",
      "(439750,)\n",
      "(281554,)\n"
     ]
    }
   ],
   "source": [
    "for index_to_duplicate in duplicate_indices_dict:\n",
    "    print(index_to_duplicate)\n",
    "    times_to_duplicate = duplicate_indices_dict[index_to_duplicate]\n",
    "    train_df = pd.concat([train_df, pd.DataFrame([train_df.iloc[index_to_duplicate]] * times_to_duplicate)], axis=0, ignore_index=True)\n"
   ]
  },
  {
   "cell_type": "code",
   "execution_count": 6,
   "metadata": {},
   "outputs": [
    {
     "name": "stdout",
     "output_type": "stream",
     "text": [
      "Found 59417 non-validated image filenames belonging to 20 classes.\n",
      "Found 59417 validated image filenames belonging to 20 classes.\n"
     ]
    }
   ],
   "source": [
    "train, _ = hf.get_flow(df=train_df,\n",
    "                    nr_classes=config['nr_classes'],\n",
    "                    image_dimension=config['image_dimension'])"
   ]
  }
 ],
 "metadata": {
  "kernelspec": {
   "display_name": "Python 3.8.2 ('base')",
   "language": "python",
   "name": "python3"
  },
  "language_info": {
   "codemirror_mode": {
    "name": "ipython",
    "version": 3
   },
   "file_extension": ".py",
   "mimetype": "text/x-python",
   "name": "python",
   "nbconvert_exporter": "python",
   "pygments_lexer": "ipython3",
   "version": "3.8.2"
  },
  "orig_nbformat": 4,
  "vscode": {
   "interpreter": {
    "hash": "b7f323a1c2c8b3d38dc94a01188981c510c9b5df10e2cc2d7fa4f2b45d318cbd"
   }
  }
 },
 "nbformat": 4,
 "nbformat_minor": 2
}
