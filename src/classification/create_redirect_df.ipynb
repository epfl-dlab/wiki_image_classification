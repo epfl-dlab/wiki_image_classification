{
 "cells": [
  {
   "cell_type": "code",
   "execution_count": 13,
   "metadata": {},
   "outputs": [],
   "source": [
    "import pandas as pd\n",
    "import hashlib\n",
    "import urllib\n",
    "\n",
    "def save_df_of_redirects(file_ending):\n",
    "    \"\"\"\n",
    "    Save df of redirects based on either of two logs: gif or svg.\n",
    "    The saved df has three columns: original_image_name, redirect_image_name, redirect_url. \n",
    "    The redirect_url is created similarly as done in /scratch/WIT_Dataset/CollectImagesSVG.py.\n",
    "    \"\"\"\n",
    "\n",
    "    if file_ending == 'svg':\n",
    "        log_file = '/scratch/WIT_Dataset/log_of_redirects.txt'\n",
    "    elif file_ending == 'gif':\n",
    "        log_file = '/scratch/WIT_Dataset/log_of_redirects_gif.txt'\n",
    "    else:\n",
    "        print(f'ERROR: File ending {file_ending} does not have a log file of redirects under /scratch/.')\n",
    "        return\n",
    "\n",
    "    # Read the log file\n",
    "    with open(log_file, 'r') as file:\n",
    "        log_lines = file.readlines()\n",
    "\n",
    "    # Initialize an empty list to store the extracted data\n",
    "    data = []\n",
    "\n",
    "    # Iterate over the log lines\n",
    "    for line in log_lines:\n",
    "        if line.startswith('WARN: Possible redirect'):\n",
    "            # Extract the original and redirect links\n",
    "            parts = line.split(' to ')\n",
    "            original_link = parts[0].split()[-1]\n",
    "            redirect_link = parts[1].strip()\n",
    "            # Get the image hash and get the new url\n",
    "            image_name = urllib.parse.unquote(redirect_link)\n",
    "            # Generate an MD5 hash of the image_name\n",
    "            img_hash = hashlib.md5(image_name.encode('utf-8')).hexdigest()\n",
    "            # Construct the final image URL using the hash and other components\n",
    "            path = f'{img_hash[0]}/{img_hash[:2]}/{redirect_link}'\n",
    "            # Append the extracted data as a dictionary to the list\n",
    "            data.append({'original_title': urllib.parse.unquote(original_link).encode().decode('unicode_escape'), \n",
    "                         'redirect_title': redirect_link, \n",
    "                         'redirect_url': path})\n",
    "    # Create a dataframe from the extracted data\n",
    "    df_of_redirects = pd.DataFrame(data)\n",
    "    df_of_redirects = df_of_redirects.drop_duplicates(ignore_index=True)\n",
    "    print(f'Shape of redirects df {file_ending}: {df_of_redirects.shape}')\n",
    "    # Save dataframe\n",
    "    df_of_redirects.to_json(f'data/df_of_redirects_{file_ending}.json.bz2')"
   ]
  },
  {
   "cell_type": "code",
   "execution_count": 14,
   "metadata": {},
   "outputs": [
    {
     "name": "stdout",
     "output_type": "stream",
     "text": [
      "Shape of redirects df svg: (5650, 3)\n"
     ]
    }
   ],
   "source": [
    "save_df_of_redirects('svg')"
   ]
  },
  {
   "cell_type": "code",
   "execution_count": 15,
   "metadata": {},
   "outputs": [
    {
     "name": "stdout",
     "output_type": "stream",
     "text": [
      "Shape of redirects df gif: (163, 3)\n"
     ]
    }
   ],
   "source": [
    "save_df_of_redirects('gif')"
   ]
  }
 ],
 "metadata": {
  "kernelspec": {
   "display_name": "base",
   "language": "python",
   "name": "python3"
  },
  "language_info": {
   "codemirror_mode": {
    "name": "ipython",
    "version": 3
   },
   "file_extension": ".py",
   "mimetype": "text/x-python",
   "name": "python",
   "nbconvert_exporter": "python",
   "pygments_lexer": "ipython3",
   "version": "3.8.2"
  },
  "orig_nbformat": 4
 },
 "nbformat": 4,
 "nbformat_minor": 2
}
