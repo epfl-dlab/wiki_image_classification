{
 "cells": [
  {
   "cell_type": "code",
   "execution_count": 1,
   "id": "9020661d",
   "metadata": {},
   "outputs": [
    {
     "name": "stdout",
     "output_type": "stream",
     "text": [
      "2 Physical GPUs, 1 Logical GPU\n"
     ]
    }
   ],
   "source": [
    "import os\n",
    "import json\n",
    "import pandas as pd\n",
    "import tensorflow as tf\n",
    "import numpy as np\n",
    "import help_functions as hf\n",
    "from matplotlib import pyplot as plt\n",
    "from functools import partial\n",
    "import albumentations as A\n",
    "AUTOTUNE = tf.data.experimental.AUTOTUNE\n",
    "\n",
    "hf.setup_gpu(gpu_nr=1)"
   ]
  },
  {
   "cell_type": "markdown",
   "id": "6f51dcd9",
   "metadata": {},
   "source": [
    "Hyper parameters"
   ]
  },
  {
   "cell_type": "code",
   "execution_count": 2,
   "id": "5081dab5",
   "metadata": {},
   "outputs": [
    {
     "name": "stdout",
     "output_type": "stream",
     "text": [
      "Found 50000 non-validated image filenames belonging to 40 classes.\n"
     ]
    },
    {
     "name": "stderr",
     "output_type": "stream",
     "text": [
      "/home/matvieir/wiki_image_classification/src/classification/help_functions.py:269: SettingWithCopyWarning: \n",
      "A value is trying to be set on a copy of a slice from a DataFrame.\n",
      "Try using .loc[row_indexer,col_indexer] = value instead\n",
      "\n",
      "See the caveats in the documentation: https://pandas.pydata.org/pandas-docs/stable/user_guide/indexing.html#returning-a-view-versus-a-copy\n",
      "  df_x_labels['labels'] = df['labels'].apply(lambda labels_list: [label for label in labels_list if label in top_classes])\n"
     ]
    },
    {
     "name": "stdout",
     "output_type": "stream",
     "text": [
      "Found 42671 validated image filenames belonging to 5 classes.\n"
     ]
    }
   ],
   "source": [
    "with open('training_configurations.json', 'r') as fp:\n",
    "    config = json.load(fp)[str(11)]\n",
    "config['nr_classes'] = 5\n",
    "config['batch_size'] = 512\n",
    "train, train_df = hf.get_flow(df_file=config['data_folder'] + '/test_df.json.bz2',\n",
    "                   nr_classes=config['nr_classes'],\n",
    "                   batch_size=config['batch_size'],\n",
    "                   image_dimension=config['image_dimension'])\n",
    "idx_2_label_dict = {v: k for k, v in train.class_indices.items()}"
   ]
  },
  {
   "cell_type": "markdown",
   "id": "e25babbe",
   "metadata": {},
   "source": [
    "Loading datasets and augmentation"
   ]
  },
  {
   "cell_type": "code",
   "execution_count": 3,
   "id": "99a9477a",
   "metadata": {},
   "outputs": [
    {
     "name": "stdout",
     "output_type": "stream",
     "text": [
      "Found 50000 non-validated image filenames belonging to 40 classes.\n"
     ]
    },
    {
     "name": "stderr",
     "output_type": "stream",
     "text": [
      "/home/matvieir/wiki_image_classification/src/classification/help_functions.py:269: SettingWithCopyWarning: \n",
      "A value is trying to be set on a copy of a slice from a DataFrame.\n",
      "Try using .loc[row_indexer,col_indexer] = value instead\n",
      "\n",
      "See the caveats in the documentation: https://pandas.pydata.org/pandas-docs/stable/user_guide/indexing.html#returning-a-view-versus-a-copy\n",
      "  df_x_labels['labels'] = df['labels'].apply(lambda labels_list: [label for label in labels_list if label in top_classes])\n"
     ]
    },
    {
     "name": "stdout",
     "output_type": "stream",
     "text": [
      "Found 42671 validated image filenames belonging to 5 classes.\n",
      "hola\n",
      "process_data (512, 5)\n"
     ]
    }
   ],
   "source": [
    "train, _ = hf.get_flow(df_file=config['data_folder'] + '/test_df.json.bz2',\n",
    "                    batch_size=config['batch_size'],\n",
    "                    nr_classes=config['nr_classes'],\n",
    "                    image_dimension=config['image_dimension'])\n",
    "\n",
    "train_ds = tf.data.Dataset.from_generator(\n",
    "    lambda: train, \n",
    "    output_types=(tf.float32, tf.float32), \n",
    "    output_shapes=((config['batch_size'], config['image_dimension'], config['image_dimension'], 3), \n",
    "                   (config['batch_size'], config['nr_classes'])), \n",
    ")\n",
    "def augment_train_data(ds):\n",
    "\n",
    "    minority_labels = ['People', 'Culture']\n",
    "\n",
    "    transforms = A.Compose([\n",
    "            A.Transpose(always_apply=True),\n",
    "            A.HorizontalFlip(always_apply=True),\n",
    "            A.VerticalFlip(always_apply=True),\n",
    "            A.ShiftScaleRotate(always_apply=True), \n",
    "            # A.HueSaturationValue(hue_shift_limit=0.2, sat_shift_limit=0.2, val_shift_limit=0.2, always_apply=True), # gives black images\n",
    "            # A.RandomBrightnessContrast(brightness_limit=(-0.1, 0.1), contrast_limit=(-0.1, 0.1), always_apply=True), # gives black images\n",
    "            A.CoarseDropout(max_height=4, max_width=4),\n",
    "            ])\n",
    "    \n",
    "    def aug_fn(images, labels):\n",
    "        # data = {\"images\": images}\n",
    "        all_label_names = np.array(list(train.class_indices.keys()))\n",
    "        aug_imgs = np.zeros((images.shape))\n",
    "        for img_idx in range(images.shape[0]):\n",
    "            img = images[img_idx, :, :, :]\n",
    "            img_label_names = all_label_names[labels[img_idx].astype(bool)]\n",
    "            if any(label in img_label_names for label in minority_labels):\n",
    "                img = transforms(image=img)['image']\n",
    "            aug_imgs[img_idx, :, :, :] = img\n",
    "            \n",
    "        # aug_data = transforms(**data)\n",
    "        # aug_img = aug_data[\"image\"]\n",
    "        aug_imgs = tf.cast(aug_imgs, tf.float32)\n",
    "        # aug_img = tf.image.resize(aug_img, size=[config['image_dimension'], config['image_dimension']]) # doesn't do anything. aug_img.shape = (512, 64, 64, 3) before and after\n",
    "        return aug_imgs\n",
    "\n",
    "    def process_data(image, label):\n",
    "        \"\"\"\"\n",
    "        Here, we we call the augmentation function if the image has any of the minority labels.\n",
    "        (for the moment I'm just considering [0,0,1,0,0] as a minority label to test)\n",
    "        \"\"\"\n",
    "        print('hola')\n",
    "        print(f'process_data {label.shape}')\n",
    "        # if tf.equal(tf.constant(label[2], dtype=tf.float32), tf.constant(1, dtype=tf.float32)):\n",
    "        #     print('there is people here')\n",
    "        image = tf.numpy_function(func=aug_fn, inp=[image, label], Tout=tf.float32)\n",
    "        return image, label\n",
    "    \n",
    "    def set_shapes(img, label, img_shape=(config['image_dimension'], config['image_dimension'], 3)):\n",
    "        print(f'set_shapes {img.shape}') # <unknown>\n",
    "        img.set_shape(img_shape)\n",
    "        print(f'set_shapes {img.shape}') # (64,64,3)\n",
    "        label.set_shape([])\n",
    "        return img, label\n",
    "    \n",
    "    ds_alb = (\n",
    "            ds\n",
    "            # .map(partial(process_data))\n",
    "            .map(partial(process_data), num_parallel_calls=AUTOTUNE)\n",
    "            .prefetch(AUTOTUNE)\n",
    "        )\n",
    "    # ds_alb = (\n",
    "    #         ds_alb\n",
    "    #         .map(set_shapes, \n",
    "    #         # num_parallel_calls=AUTOTUNE\n",
    "    #         )\n",
    "    #     )\n",
    "    # ds_alb = ds_alb.repeat() # what is the reason of this?\n",
    "    return ds_alb\n",
    "train_alb = augment_train_data(train_ds)\n"
   ]
  }
 ],
 "metadata": {
  "interpreter": {
   "hash": "b7f323a1c2c8b3d38dc94a01188981c510c9b5df10e2cc2d7fa4f2b45d318cbd"
  },
  "kernelspec": {
   "display_name": "Python 3.8.2 ('base')",
   "language": "python",
   "name": "python3"
  },
  "language_info": {
   "codemirror_mode": {
    "name": "ipython",
    "version": 3
   },
   "file_extension": ".py",
   "mimetype": "text/x-python",
   "name": "python",
   "nbconvert_exporter": "python",
   "pygments_lexer": "ipython3",
   "version": "3.8.2"
  }
 },
 "nbformat": 4,
 "nbformat_minor": 5
}
