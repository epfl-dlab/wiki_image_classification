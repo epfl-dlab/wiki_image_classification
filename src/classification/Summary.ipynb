{
 "cells": [
  {
   "cell_type": "markdown",
   "metadata": {},
   "source": [
    "## Summary of results"
   ]
  },
  {
   "cell_type": "markdown",
   "metadata": {},
   "source": [
    "- Number of classes: 10, 20, 30, 40\n",
    "- Basemodel: EfficientNetB0, EfficientNetB1, Xception\n",
    "- Class weights: true/false\n",
    "- Number of training data\n",
    "- Naive labels vs ORES labels\n",
    "- Affine augmentations of training set\n",
    "<!-- - Dimension to which image is reduced (now 32x32) -->\n",
    "<!-- - Unfrozen layers -->"
   ]
  },
  {
   "cell_type": "code",
   "execution_count": 1,
   "metadata": {},
   "outputs": [],
   "source": [
    "import json\n",
    "import os"
   ]
  },
  {
   "cell_type": "code",
   "execution_count": 2,
   "metadata": {},
   "outputs": [
    {
     "name": "stdout",
     "output_type": "stream",
     "text": [
      "Creating file...\n"
     ]
    }
   ],
   "source": [
    "if os.path.isfile('training_configurations.json'):\n",
    "    print('Opening existing file...')\n",
    "    with open('training_configurations.json', 'r') as fp:\n",
    "        training_configurations = json.load(fp)\n",
    "else:\n",
    "    print('Creating file...')\n",
    "    training_configurations = dict()\n",
    "    \n",
    "def create_training_entry(i, labels, number_trainable_layers, augment, class_weights, basemodel, nr_classes, image_dimension=64):\n",
    "    print(f'Creating {i}th entry in the training_configurations dictionary.')\n",
    "    training_configurations[i] = dict()\n",
    "    training_configurations[i]['nr_classes'] = nr_classes\n",
    "    training_configurations[i]['number_trainable_layers'] = number_trainable_layers\n",
    "    training_configurations[i]['class_weights'] = class_weights\n",
    "    training_configurations[i]['augment'] = augment\n",
    "    training_configurations[i]['basemodel'] = basemodel\n",
    "    training_configurations[i]['image_dimension'] = image_dimension\n",
    "    training_configurations[i]['results_and_checkpoints_folder'] = f'thesis_experiments/{i}_{number_trainable_layers}layers_{labels}_{nr_classes}classes_{basemodel}'\n",
    "    training_configurations[i]['data_folder'] = 'data/split_dataframes_heuristic_labels_20220914'\n"
   ]
  },
  {
   "cell_type": "code",
   "execution_count": 3,
   "metadata": {},
   "outputs": [
    {
     "name": "stdout",
     "output_type": "stream",
     "text": [
      "Creating 0th entry in the training_configurations dictionary.\n",
      "Creating 1th entry in the training_configurations dictionary.\n",
      "Creating 2th entry in the training_configurations dictionary.\n",
      "Creating 3th entry in the training_configurations dictionary.\n",
      "Creating 4th entry in the training_configurations dictionary.\n"
     ]
    }
   ],
   "source": [
    "create_training_entry(i=0, \n",
    "                      number_trainable_layers=0,    \n",
    "                      augment=False,\n",
    "                      class_weights=False, \n",
    "                      labels='algo',\n",
    "                      nr_classes=20, \n",
    "                      basemodel='EfficientNetB2')\n",
    "\n",
    "create_training_entry(i=1, \n",
    "                      number_trainable_layers=3,   \n",
    "                      augment=False,\n",
    "                      class_weights=False, \n",
    "                      nr_classes=20, \n",
    "                      labels='algo',\n",
    "                      basemodel='EfficientNetB2')\n",
    "\n",
    "create_training_entry(i=2, \n",
    "                      number_trainable_layers=10,    \n",
    "                      augment=False,\n",
    "                      class_weights=False, \n",
    "                      nr_classes=20, \n",
    "                      labels='algo',\n",
    "                      basemodel='EfficientNetB2')\n",
    "\n",
    "create_training_entry(i=3, \n",
    "                      number_trainable_layers=70,    \n",
    "                      augment=False,\n",
    "                      class_weights=False, \n",
    "                      nr_classes=20, \n",
    "                      labels='algo',\n",
    "                      basemodel='EfficientNetB2')\n",
    "\n",
    "create_training_entry(i=4, \n",
    "                      number_trainable_layers=100,    \n",
    "                      augment=False,\n",
    "                      class_weights=False, \n",
    "                      nr_classes=20, \n",
    "                      labels='algo',\n",
    "                      basemodel='EfficientNetB2')\n",
    "\n",
    "\n",
    "\n",
    "\n",
    "with open('training_configurations.json', 'w') as fp:\n",
    "    json.dump(training_configurations, fp)"
   ]
  },
  {
   "cell_type": "code",
   "execution_count": null,
   "metadata": {},
   "outputs": [],
   "source": []
  }
 ],
 "metadata": {
  "interpreter": {
   "hash": "b7f323a1c2c8b3d38dc94a01188981c510c9b5df10e2cc2d7fa4f2b45d318cbd"
  },
  "kernelspec": {
   "display_name": "Python 3.8.2 ('base')",
   "language": "python",
   "name": "python3"
  },
  "language_info": {
   "codemirror_mode": {
    "name": "ipython",
    "version": 3
   },
   "file_extension": ".py",
   "mimetype": "text/x-python",
   "name": "python",
   "nbconvert_exporter": "python",
   "pygments_lexer": "ipython3",
   "version": "3.8.2"
  },
  "orig_nbformat": 4
 },
 "nbformat": 4,
 "nbformat_minor": 2
}
