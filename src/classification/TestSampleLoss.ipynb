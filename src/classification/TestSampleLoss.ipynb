{
 "cells": [
  {
   "cell_type": "code",
   "execution_count": 1,
   "metadata": {},
   "outputs": [
    {
     "name": "stderr",
     "output_type": "stream",
     "text": [
      "Using TensorFlow backend.\n"
     ]
    }
   ],
   "source": [
    "import os\n",
    "import sys\n",
    "import json\n",
    "import time\n",
    "import numpy as np\n",
    "import pandas as pd\n",
    "import tensorflow as tf\n",
    "import help_functions as hf\n",
    "from matplotlib import pyplot as plt\n",
    "\n",
    "from CustomBCE import get_custom_loss\n"
   ]
  },
  {
   "cell_type": "code",
   "execution_count": 2,
   "metadata": {},
   "outputs": [],
   "source": [
    "i = 100\n",
    "with open('training_configurations.json', 'r') as fp:\n",
    "    config = json.load(fp)[str(i)]\n",
    "config['batch_size'] = 32"
   ]
  },
  {
   "cell_type": "code",
   "execution_count": 3,
   "metadata": {},
   "outputs": [
    {
     "name": "stdout",
     "output_type": "stream",
     "text": [
      "Found 50000 validated image filenames belonging to 31 classes.\n"
     ]
    }
   ],
   "source": [
    "train, train_df = hf.get_flow(df_file=config['data_folder'] + '/test_df.json.bz2',\n",
    "                    batch_size=config['batch_size'],\n",
    "                    nr_classes=config['nr_classes'],\n",
    "                    image_dimension=config['image_dimension'])\n",
    "y_true = hf.get_y_true(shape=(train.samples, len(train.class_indices)), classes=train.classes)\n"
   ]
  },
  {
   "cell_type": "code",
   "execution_count": 4,
   "metadata": {},
   "outputs": [],
   "source": [
    "positive_samples_per_class = np.sum(y_true, axis=0)\n",
    "negative_samples_per_class = y_true.shape[0] - positive_samples_per_class\n",
    "alpha_weights = negative_samples_per_class / positive_samples_per_class\n",
    "alpha_weights = tf.cast(alpha_weights, tf.float32)"
   ]
  },
  {
   "cell_type": "code",
   "execution_count": 5,
   "metadata": {},
   "outputs": [
    {
     "data": {
      "text/plain": [
       "<tf.Tensor: shape=(31,), dtype=float32, numpy=\n",
       "array([4.1566666e+02, 4.9454086e+01, 3.6369209e+01, 2.4999000e+04,\n",
       "       1.5573981e+02, 9.4239624e+02, 1.9366851e+00, 1.9220769e+03,\n",
       "       2.6901785e+01, 1.8223375e+01, 1.2499000e+04, 3.5871222e+02,\n",
       "       6.4172974e+00, 2.6215790e+02, 4.3003448e+02, 6.7119888e+01,\n",
       "       2.9401765e+03, 2.6808676e+01, 1.5672871e+02, 5.9454093e+00,\n",
       "       3.9353468e+00, 4.4945044e+02, 1.5721488e+00, 8.7967972e+01,\n",
       "       1.7860807e+01, 3.2992260e+00, 8.5935813e-01, 8.4645764e+02,\n",
       "       1.5501650e+01, 1.7288223e+01, 4.3923630e+01], dtype=float32)>"
      ]
     },
     "execution_count": 5,
     "metadata": {},
     "output_type": "execute_result"
    }
   ],
   "source": [
    "alpha_weights"
   ]
  },
  {
   "cell_type": "code",
   "execution_count": 6,
   "metadata": {},
   "outputs": [],
   "source": [
    "from tensorflow.keras.applications import EfficientNetB2\n",
    "from tensorflow.keras import layers\n",
    "from tensorflow.keras.models import Sequential\n",
    "base_model = EfficientNetB2(include_top=False, \n",
    "                                    weights='imagenet', \n",
    "                                    classes=31,\n",
    "                                    input_shape=(64, 64, 3))\n",
    "model = Sequential([\n",
    "        base_model,\n",
    "        layers.Flatten(),\n",
    "        layers.Dense(128, activation='relu'),\n",
    "        layers.Dense(31, activation='sigmoid')\n",
    "    ])\n",
    "\n",
    "model.compile(optimizer=tf.keras.optimizers.Adam(),\n",
    "            loss=get_custom_loss(alpha_weights),\n",
    "            metrics=[\n",
    "                tf.keras.metrics.BinaryAccuracy(name='binary_accuracy', threshold=0.5),\n",
    "                tf.keras.metrics.Precision(name='precision'),\n",
    "                tf.keras.metrics.Recall(name='recall'),\n",
    "                tf.keras.metrics.AUC(num_thresholds=50, curve='PR', name='pr_auc', multi_label=True),\n",
    "                tf.keras.metrics.AUC(num_thresholds=50, curve='ROC', name='roc_auc', multi_label=True)\n",
    "            ])"
   ]
  },
  {
   "cell_type": "code",
   "execution_count": null,
   "metadata": {},
   "outputs": [],
   "source": [
    "model.fit(train, verbose=1, epochs=5)"
   ]
  }
 ],
 "metadata": {
  "kernelspec": {
   "display_name": "base",
   "language": "python",
   "name": "python3"
  },
  "language_info": {
   "codemirror_mode": {
    "name": "ipython",
    "version": 3
   },
   "file_extension": ".py",
   "mimetype": "text/x-python",
   "name": "python",
   "nbconvert_exporter": "python",
   "pygments_lexer": "ipython3",
   "version": "3.8.2"
  },
  "orig_nbformat": 4,
  "vscode": {
   "interpreter": {
    "hash": "b7f323a1c2c8b3d38dc94a01188981c510c9b5df10e2cc2d7fa4f2b45d318cbd"
   }
  }
 },
 "nbformat": 4,
 "nbformat_minor": 2
}
