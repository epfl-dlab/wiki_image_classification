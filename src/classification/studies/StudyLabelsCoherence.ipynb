{
 "cells": [
  {
   "cell_type": "markdown",
   "metadata": {},
   "source": [
    "#### Study the dataset's meanIR, IRLbl and SCUMBLE metrics\n",
    "Use the metrics implementet according Charte et al. -- which are used to implement undersampling and oversampling -- to get a better feeling for the label distribution."
   ]
  },
  {
   "cell_type": "code",
   "execution_count": 1,
   "metadata": {},
   "outputs": [
    {
     "name": "stderr",
     "output_type": "stream",
     "text": [
      "Using TensorFlow backend.\n"
     ]
    },
    {
     "name": "stdout",
     "output_type": "stream",
     "text": [
      "2 Physical GPUs, 1 Logical GPU\n"
     ]
    }
   ],
   "source": [
    "import sys\n",
    "sys.path.append('..')\n",
    "import json\n",
    "import help_functions as hf\n",
    "import numpy as np\n",
    "hf.setup_gpu(gpu_nr=1)"
   ]
  },
  {
   "cell_type": "markdown",
   "metadata": {},
   "source": [
    "Use the test set for faster computations as its distribution follows the same distribution as the whole data."
   ]
  },
  {
   "cell_type": "code",
   "execution_count": 2,
   "metadata": {},
   "outputs": [
    {
     "name": "stdout",
     "output_type": "stream",
     "text": [
      "Found 773500 validated image filenames belonging to 31 classes.\n"
     ]
    }
   ],
   "source": [
    "with open('../training_configurations.json', 'r') as fp:\n",
    "    config = json.load(fp)[str(112)]\n",
    "\n",
    "test, _ = hf.get_flow(df_file='../' + config['data_folder'] + '/train_df.json.bz2',\n",
    "                      nr_classes=config['nr_classes'],\n",
    "                      batch_size=config['batch_size'],\n",
    "                      image_dimension=config['image_dimension'])\n",
    "y_true = hf.get_y_true(shape=(test.samples, len(test.class_indices)), classes=test.classes)"
   ]
  },
  {
   "cell_type": "markdown",
   "metadata": {},
   "source": [
    "Imbalance ratio per label (IRLbl)"
   ]
  },
  {
   "cell_type": "code",
   "execution_count": 3,
   "metadata": {},
   "outputs": [
    {
     "data": {
      "text/plain": [
       "94086.33333333333"
      ]
     },
     "execution_count": 3,
     "metadata": {},
     "output_type": "execute_result"
    }
   ],
   "source": [
    "IRLbl = hf.imbalance_ratio_per_label(y_true)\n",
    "np.max(IRLbl)"
   ]
  },
  {
   "cell_type": "code",
   "execution_count": 4,
   "metadata": {},
   "outputs": [
    {
     "data": {
      "text/plain": [
       "58.791710060404085"
      ]
     },
     "execution_count": 4,
     "metadata": {},
     "output_type": "execute_result"
    }
   ],
   "source": [
    "np.median(IRLbl)"
   ]
  },
  {
   "attachments": {},
   "cell_type": "markdown",
   "metadata": {},
   "source": [
    "Ratio of positive samples"
   ]
  },
  {
   "cell_type": "code",
   "execution_count": 5,
   "metadata": {},
   "outputs": [
    {
     "data": {
      "text/plain": [
       "0.05706812352732656"
      ]
     },
     "execution_count": 5,
     "metadata": {},
     "output_type": "execute_result"
    }
   ],
   "source": [
    "np.sum(y_true) / (y_true.shape[0] * y_true.shape[1])"
   ]
  },
  {
   "cell_type": "markdown",
   "metadata": {},
   "source": [
    "Mean imbalance ratio (meanIR)"
   ]
  },
  {
   "cell_type": "code",
   "execution_count": 6,
   "metadata": {},
   "outputs": [
    {
     "name": "stdout",
     "output_type": "stream",
     "text": [
      "Mean imbalance ratio (meanIR): (3907.9257696640116, {'Animals': 166.72, 'Architecture': 17.94, 'Art': 13.44, 'Belief': 18817.27, 'Chemistry': 317.86, 'Culture': 1.47, 'Diagrams': 146.7, 'Events': 6.96, 'Food': 4552.56, 'Fossils': 130.13, 'Geology': 68.18, 'History': 2.77, 'Landscapes': 88.04, 'Literature': 156.2, 'Logos & Symbols': 138.16, 'Maps & Flags': 25.35, 'Mathematics': 1493.43, 'Medicine & Health': 319.3, 'Monuments & Memorials': 209.86, 'Music': 58.79, 'Nature': 2.67, 'People': 1.64, 'Places': 1.0, 'Plants': 33.7, 'Politics': 6.73, 'STEM': 94086.33, 'Society': 1.17, 'Space': 252.47, 'Sports': 6.0, 'Technology & Engineering': 6.63, 'Transportation': 16.22})\n"
     ]
    }
   ],
   "source": [
    "meanIR = hf.mean_imbalance_ratio(y_true, class_names=test.class_indices)\n",
    "print(f'Mean imbalance ratio (meanIR): {meanIR}')"
   ]
  },
  {
   "cell_type": "markdown",
   "metadata": {},
   "source": [
    "SCUMBLE (Score of ConcUrrence among iMBalanced LabEls)"
   ]
  },
  {
   "cell_type": "code",
   "execution_count": 7,
   "metadata": {},
   "outputs": [
    {
     "name": "stdout",
     "output_type": "stream",
     "text": [
      "0.4326354825386076\n"
     ]
    }
   ],
   "source": [
    "scumble_dataset, scumble_samples = hf.scumble(y_true)\n",
    "print(scumble_dataset)"
   ]
  },
  {
   "cell_type": "markdown",
   "metadata": {},
   "source": [
    "Study the labels' entangleness/coherence (TODO: better visualization)"
   ]
  },
  {
   "cell_type": "code",
   "execution_count": 6,
   "metadata": {},
   "outputs": [
    {
     "data": {
      "text/plain": [
       "{'Animals': 0,\n",
       " 'Architecture': 1,\n",
       " 'Art': 2,\n",
       " 'Belief': 3,\n",
       " 'Chemistry': 4,\n",
       " 'Culture': 5,\n",
       " 'Diagrams': 6,\n",
       " 'Events': 7,\n",
       " 'Food': 8,\n",
       " 'Fossils': 9,\n",
       " 'Geology': 10,\n",
       " 'History': 11,\n",
       " 'Landscapes': 12,\n",
       " 'Literature': 13,\n",
       " 'Logos & Symbols': 14,\n",
       " 'Maps & Flags': 15,\n",
       " 'Mathematics': 16,\n",
       " 'Medicine & Health': 17,\n",
       " 'Monuments & Memorials': 18,\n",
       " 'Music': 19,\n",
       " 'Nature': 20,\n",
       " 'People': 21,\n",
       " 'Places': 22,\n",
       " 'Plants': 23,\n",
       " 'Politics': 24,\n",
       " 'STEM': 25,\n",
       " 'Society': 26,\n",
       " 'Space': 27,\n",
       " 'Sports': 28,\n",
       " 'Technology & Engineering': 29,\n",
       " 'Transportation': 30}"
      ]
     },
     "execution_count": 6,
     "metadata": {},
     "output_type": "execute_result"
    }
   ],
   "source": [
    "test.class_indices"
   ]
  },
  {
   "cell_type": "code",
   "execution_count": 64,
   "metadata": {},
   "outputs": [
    {
     "data": {
      "text/plain": [
       "<matplotlib.legend.Legend at 0x7f3053ef7fd0>"
      ]
     },
     "execution_count": 64,
     "metadata": {},
     "output_type": "execute_result"
    },
    {
     "data": {
      "image/png": "[encoded data removed]",
      "text/plain": [
       "<Figure size 432x288 with 1 Axes>"
      ]
     },
     "metadata": {
      "needs_background": "light"
     },
     "output_type": "display_data"
    }
   ],
   "source": [
    "from matplotlib import pyplot as plt\n",
    "\n",
    "plt.plot(np.linspace(0, 1), np.linspace(0, 1))\n",
    "plt.plot(np.linspace(0, 1), np.repeat(0.35, repeats=50), '--r', label='Random')\n",
    "plt.text(-0.09, 0.35, 'P/n', fontsize=12)\n",
    "plt.xticks(np.arange(0, 1.5, step=0.5), np.arange(0, 1.5, step=0.5))\n",
    "plt.yticks(np.arange(0, 1.5, step=0.5), np.arange(0, 1.5, step=0.5))\n",
    "plt.xlim([-0.02, 1.02])\n",
    "plt.ylim([-0.02, 1.02])\n",
    "plt.legend()"
   ]
  }
 ],
 "metadata": {
  "kernelspec": {
   "display_name": "Python 3.8.2 ('base')",
   "language": "python",
   "name": "python3"
  },
  "language_info": {
   "codemirror_mode": {
    "name": "ipython",
    "version": 3
   },
   "file_extension": ".py",
   "mimetype": "text/x-python",
   "name": "python",
   "nbconvert_exporter": "python",
   "pygments_lexer": "ipython3",
   "version": "3.8.2"
  },
  "orig_nbformat": 4,
  "vscode": {
   "interpreter": {
    "hash": "b7f323a1c2c8b3d38dc94a01188981c510c9b5df10e2cc2d7fa4f2b45d318cbd"
   }
  }
 },
 "nbformat": 4,
 "nbformat_minor": 2
}
