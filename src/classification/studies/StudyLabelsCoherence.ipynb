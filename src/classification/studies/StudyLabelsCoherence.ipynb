{
 "cells": [
  {
   "cell_type": "markdown",
   "metadata": {},
   "source": [
    "#### Study the dataset's meanIR, IRLbl and SCUMBLE metrics\n",
    "Use the metrics implementet according Charte et al. -- which are used to implement undersampling and oversampling -- to get a better feeling for the label distribution."
   ]
  },
  {
   "cell_type": "code",
   "execution_count": 1,
   "metadata": {},
   "outputs": [
    {
     "name": "stdout",
     "output_type": "stream",
     "text": [
      "2 Physical GPUs, 1 Logical GPU\n"
     ]
    }
   ],
   "source": [
    "import sys\n",
    "sys.path.append('..')\n",
    "import json\n",
    "import help_functions as hf\n",
    "import numpy as np\n",
    "hf.setup_gpu(gpu_nr=1)"
   ]
  },
  {
   "cell_type": "markdown",
   "metadata": {},
   "source": [
    "Use the test set for faster computations as its distribution follows the same distribution as the whole data."
   ]
  },
  {
   "cell_type": "code",
   "execution_count": 2,
   "metadata": {},
   "outputs": [
    {
     "name": "stdout",
     "output_type": "stream",
     "text": [
      "Found 50000 non-validated image filenames belonging to 40 classes.\n"
     ]
    },
    {
     "name": "stderr",
     "output_type": "stream",
     "text": [
      "../help_functions.py:285: SettingWithCopyWarning: \n",
      "A value is trying to be set on a copy of a slice from a DataFrame.\n",
      "Try using .loc[row_indexer,col_indexer] = value instead\n",
      "\n",
      "See the caveats in the documentation: https://pandas.pydata.org/pandas-docs/stable/user_guide/indexing.html#returning-a-view-versus-a-copy\n",
      "  df_x_labels['labels'] = df['labels'].apply(lambda labels_list: [label for label in labels_list if label in top_classes])\n"
     ]
    },
    {
     "name": "stdout",
     "output_type": "stream",
     "text": [
      "Found 49514 validated image filenames belonging to 20 classes.\n"
     ]
    }
   ],
   "source": [
    "with open('../training_configurations.json', 'r') as fp:\n",
    "    config = json.load(fp)[str(1)]\n",
    "\n",
    "config['batch_size'] = 32\n",
    "config['nr_classes'] = 20\n",
    "test = hf.get_flow(df_file='../' + config['data_folder'] + '/test_df.json.bz2',\n",
    "                   nr_classes=config['nr_classes'],\n",
    "                   batch_size=config['batch_size'],\n",
    "                   image_dimension=config['image_dimension'])\n",
    "y_true_test = hf.get_y_true(shape=(test.samples, len(test.class_indices)), classes=test.classes)"
   ]
  },
  {
   "cell_type": "markdown",
   "metadata": {},
   "source": [
    "Imbalance ratio per label (IRLbl)"
   ]
  },
  {
   "cell_type": "code",
   "execution_count": 3,
   "metadata": {},
   "outputs": [
    {
     "data": {
      "text/plain": [
       "array([24.49017199, 13.29886591, 46.90588235,  1.59966298, 10.53646934,\n",
       "        6.54679803,  2.28717302, 61.15030675, 18.63084112, 46.46853147,\n",
       "        2.51038912,  1.91388249,  1.90255774,  1.        , 28.5193133 ,\n",
       "        7.90130797, 44.3       ,  1.13719338,  8.62613587,  8.19358816])"
      ]
     },
     "execution_count": 3,
     "metadata": {},
     "output_type": "execute_result"
    }
   ],
   "source": [
    "IRLbl = hf.imbalance_ratio_per_label(y_true_test)\n",
    "IRLbl"
   ]
  },
  {
   "cell_type": "markdown",
   "metadata": {},
   "source": [
    "Mean imbalance ratio (meanIR)"
   ]
  },
  {
   "cell_type": "code",
   "execution_count": 4,
   "metadata": {},
   "outputs": [
    {
     "name": "stdout",
     "output_type": "stream",
     "text": [
      "{'Architecture': 24.49, 'Art': 13.3, 'Biology': 46.91, 'Culture': 1.6, 'Entertainment': 10.54, 'Events': 6.55, 'History': 2.29, 'Landscapes': 61.15, 'Language': 18.63, 'Music': 46.47, 'Nature': 2.51, 'Objects': 1.91, 'People': 1.9, 'Places': 1.0, 'Plants': 28.52, 'Politics': 7.9, 'Science': 44.3, 'Society': 1.14, 'Sports': 8.63, 'Technology': 8.19}\n",
      "Mean imbalance ratio (meanIR): 16.89595354970558\n"
     ]
    }
   ],
   "source": [
    "meanIR = hf.mean_imbalance_ratio(y_true_test, class_names=test.class_indices)\n",
    "print(f'Mean imbalance ratio (meanIR): {meanIR}')"
   ]
  },
  {
   "cell_type": "markdown",
   "metadata": {},
   "source": [
    "SCUMBLE (Score of ConcUrrence among iMBalanced LabEls)"
   ]
  },
  {
   "cell_type": "code",
   "execution_count": 5,
   "metadata": {},
   "outputs": [
    {
     "name": "stdout",
     "output_type": "stream",
     "text": [
      "0.4355578321363583\n"
     ]
    }
   ],
   "source": [
    "scumble_dataset, scumble_samples = hf.scumble(y_true_test)\n",
    "print(scumble_dataset)"
   ]
  },
  {
   "cell_type": "markdown",
   "metadata": {},
   "source": [
    "Study the labels' entangleness/coherence (TODO: better visualization)"
   ]
  },
  {
   "cell_type": "code",
   "execution_count": 7,
   "metadata": {},
   "outputs": [
    {
     "data": {
      "text/plain": [
       "{'Architecture': 0,\n",
       " 'Art': 1,\n",
       " 'Biology': 2,\n",
       " 'Culture': 3,\n",
       " 'Entertainment': 4,\n",
       " 'Events': 5,\n",
       " 'History': 6,\n",
       " 'Landscapes': 7,\n",
       " 'Language': 8,\n",
       " 'Music': 9,\n",
       " 'Nature': 10,\n",
       " 'Objects': 11,\n",
       " 'People': 12,\n",
       " 'Places': 13,\n",
       " 'Plants': 14,\n",
       " 'Politics': 15,\n",
       " 'Science': 16,\n",
       " 'Society': 17,\n",
       " 'Sports': 18,\n",
       " 'Technology': 19}"
      ]
     },
     "execution_count": 7,
     "metadata": {},
     "output_type": "execute_result"
    }
   ],
   "source": [
    "test.class_indices"
   ]
  },
  {
   "cell_type": "code",
   "execution_count": 9,
   "metadata": {},
   "outputs": [
    {
     "data": {
      "text/plain": [
       "[((13,), 6675),\n",
       " ((17,), 2342),\n",
       " ((10,), 2134),\n",
       " ((3,), 1943),\n",
       " ((12,), 1515),\n",
       " ((6,), 1299),\n",
       " ((13, 17), 1267),\n",
       " ((11,), 1243),\n",
       " ((11, 13), 1184),\n",
       " ((10, 13), 896),\n",
       " ((12, 17), 863),\n",
       " ((3, 13), 742),\n",
       " ((3, 17), 652),\n",
       " ((6, 13), 614),\n",
       " ((3, 12, 17), 581),\n",
       " ((10, 17), 553),\n",
       " ((3, 12), 488),\n",
       " ((11, 17), 481),\n",
       " ((5,), 434),\n",
       " ((10, 13, 17), 415),\n",
       " ((6, 11, 13), 413),\n",
       " ((11, 13, 17), 374),\n",
       " ((3, 11), 358),\n",
       " ((6, 11), 348),\n",
       " ((6, 17), 338)]"
      ]
     },
     "execution_count": 9,
     "metadata": {},
     "output_type": "execute_result"
    }
   ],
   "source": [
    "from collections import Counter\n",
    "np.array(test.classes).sort()\n",
    "asd = np.array([np.sort(np.array(el)) for el in np.array(test.classes)])\n",
    "asd_tuple = [tuple(row) for row in asd]\n",
    "Counter(asd_tuple).most_common(25)"
   ]
  }
 ],
 "metadata": {
  "kernelspec": {
   "display_name": "Python 3.8.2 ('base')",
   "language": "python",
   "name": "python3"
  },
  "language_info": {
   "codemirror_mode": {
    "name": "ipython",
    "version": 3
   },
   "file_extension": ".py",
   "mimetype": "text/x-python",
   "name": "python",
   "nbconvert_exporter": "python",
   "pygments_lexer": "ipython3",
   "version": "3.8.2"
  },
  "orig_nbformat": 4,
  "vscode": {
   "interpreter": {
    "hash": "b7f323a1c2c8b3d38dc94a01188981c510c9b5df10e2cc2d7fa4f2b45d318cbd"
   }
  }
 },
 "nbformat": 4,
 "nbformat_minor": 2
}
