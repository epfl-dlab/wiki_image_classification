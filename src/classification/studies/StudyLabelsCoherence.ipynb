{
 "cells": [
  {
   "cell_type": "markdown",
   "metadata": {},
   "source": [
    "#### Study the dataset's meanIR, IRLbl and SCUMBLE metrics\n",
    "Use the metrics implementet according Charte et al. -- which are used to implement undersampling and oversampling -- to get a better feeling for the label distribution."
   ]
  },
  {
   "cell_type": "code",
   "execution_count": 1,
   "metadata": {},
   "outputs": [
    {
     "name": "stdout",
     "output_type": "stream",
     "text": [
      "2 Physical GPUs, 1 Logical GPU\n"
     ]
    }
   ],
   "source": [
    "import sys\n",
    "sys.path.append('..')\n",
    "import json\n",
    "import help_functions as hf\n",
    "import numpy as np\n",
    "hf.setup_gpu(gpu_nr=1)"
   ]
  },
  {
   "cell_type": "markdown",
   "metadata": {},
   "source": [
    "Use the test set for faster computations as its distribution follows the same distribution as the whole data."
   ]
  },
  {
   "cell_type": "code",
   "execution_count": 2,
   "metadata": {},
   "outputs": [
    {
     "name": "stdout",
     "output_type": "stream",
     "text": [
      "Found 50000 validated image filenames belonging to 31 classes.\n"
     ]
    }
   ],
   "source": [
    "with open('../training_configurations.json', 'r') as fp:\n",
    "    config = json.load(fp)[str(109)]\n",
    "\n",
    "test, _ = hf.get_flow(df_file='../' + config['data_folder'] + '/test_df.json.bz2',\n",
    "                      nr_classes=config['nr_classes'],\n",
    "                      batch_size=config['batch_size'],\n",
    "                      image_dimension=config['image_dimension'])\n",
    "y_true = hf.get_y_true(shape=(test.samples, len(test.class_indices)), classes=test.classes)"
   ]
  },
  {
   "cell_type": "markdown",
   "metadata": {},
   "source": [
    "Imbalance ratio per label (IRLbl)"
   ]
  },
  {
   "cell_type": "code",
   "execution_count": 6,
   "metadata": {},
   "outputs": [
    {
     "data": {
      "text/plain": [
       "13445.5"
      ]
     },
     "execution_count": 6,
     "metadata": {},
     "output_type": "execute_result"
    }
   ],
   "source": [
    "IRLbl = hf.imbalance_ratio_per_label(y_true)\n",
    "np.max(IRLbl)"
   ]
  },
  {
   "cell_type": "markdown",
   "metadata": {},
   "source": [
    "Mean imbalance ratio (meanIR)"
   ]
  },
  {
   "cell_type": "code",
   "execution_count": 4,
   "metadata": {},
   "outputs": [
    {
     "name": "stdout",
     "output_type": "stream",
     "text": [
      "Mean imbalance ratio (meanIR): (812.6283633040346, {'Animals': 224.09, 'Architecture': 27.14, 'Art': 20.1, 'Belief': 13445.5, 'Biology': 84.3, 'Chemistry': 507.38, 'Culture': 1.58, 'Earth & Environment': 1034.27, 'Entertainment': 15.01, 'Events': 10.34, 'Food': 6722.75, 'Fossils': 193.46, 'History': 3.99, 'Landscapes': 141.53, 'Literature': 231.82, 'Maps & Flags': 36.64, 'Mathematics': 1581.82, 'Medicine & Health': 14.96, 'Music': 84.83, 'Nature': 3.74, 'People': 2.65, 'Physics': 242.26, 'Places': 1.38, 'Plants': 47.85, 'Politics': 10.14, 'STEM': 2.31, 'Society': 1.0, 'Space': 455.78, 'Sports': 8.87, 'Technology & Engineering': 9.84, 'Transportation': 24.16})\n"
     ]
    }
   ],
   "source": [
    "meanIR = hf.mean_imbalance_ratio(y_true, class_names=test.class_indices)\n",
    "print(f'Mean imbalance ratio (meanIR): {meanIR}')"
   ]
  },
  {
   "cell_type": "markdown",
   "metadata": {},
   "source": [
    "SCUMBLE (Score of ConcUrrence among iMBalanced LabEls)"
   ]
  },
  {
   "cell_type": "code",
   "execution_count": 5,
   "metadata": {},
   "outputs": [
    {
     "name": "stdout",
     "output_type": "stream",
     "text": [
      "0.5193685551438725\n"
     ]
    }
   ],
   "source": [
    "scumble_dataset, scumble_samples = hf.scumble(y_true)\n",
    "print(scumble_dataset)"
   ]
  },
  {
   "cell_type": "markdown",
   "metadata": {},
   "source": [
    "Study the labels' entangleness/coherence (TODO: better visualization)"
   ]
  },
  {
   "cell_type": "code",
   "execution_count": 7,
   "metadata": {},
   "outputs": [
    {
     "data": {
      "text/plain": [
       "{'Architecture': 0,\n",
       " 'Art': 1,\n",
       " 'Biology': 2,\n",
       " 'Culture': 3,\n",
       " 'Entertainment': 4,\n",
       " 'Events': 5,\n",
       " 'History': 6,\n",
       " 'Landscapes': 7,\n",
       " 'Language': 8,\n",
       " 'Music': 9,\n",
       " 'Nature': 10,\n",
       " 'Objects': 11,\n",
       " 'People': 12,\n",
       " 'Places': 13,\n",
       " 'Plants': 14,\n",
       " 'Politics': 15,\n",
       " 'Science': 16,\n",
       " 'Society': 17,\n",
       " 'Sports': 18,\n",
       " 'Technology': 19}"
      ]
     },
     "execution_count": 7,
     "metadata": {},
     "output_type": "execute_result"
    }
   ],
   "source": [
    "test.class_indices"
   ]
  }
 ],
 "metadata": {
  "kernelspec": {
   "display_name": "Python 3.8.2 ('base')",
   "language": "python",
   "name": "python3"
  },
  "language_info": {
   "codemirror_mode": {
    "name": "ipython",
    "version": 3
   },
   "file_extension": ".py",
   "mimetype": "text/x-python",
   "name": "python",
   "nbconvert_exporter": "python",
   "pygments_lexer": "ipython3",
   "version": "3.8.2"
  },
  "orig_nbformat": 4,
  "vscode": {
   "interpreter": {
    "hash": "b7f323a1c2c8b3d38dc94a01188981c510c9b5df10e2cc2d7fa4f2b45d318cbd"
   }
  }
 },
 "nbformat": 4,
 "nbformat_minor": 2
}
