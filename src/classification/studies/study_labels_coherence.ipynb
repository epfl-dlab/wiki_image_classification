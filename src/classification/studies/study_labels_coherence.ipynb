{
 "cells": [
  {
   "cell_type": "markdown",
   "metadata": {},
   "source": [
    "#### Study the dataset's meanIR, IRLbl and SCUMBLE metrics\n",
    "Use the metrics implementet according Charte et al. -- which are used to implement undersampling and oversampling -- to get a better feeling for the label distribution."
   ]
  },
  {
   "cell_type": "code",
   "execution_count": 1,
   "metadata": {},
   "outputs": [
    {
     "name": "stderr",
     "output_type": "stream",
     "text": [
      "Using TensorFlow backend.\n"
     ]
    },
    {
     "name": "stdout",
     "output_type": "stream",
     "text": [
      "2 Physical GPUs, 1 Logical GPU\n"
     ]
    }
   ],
   "source": [
    "import sys\n",
    "sys.path.append('..')\n",
    "import json\n",
    "import help_functions as hf\n",
    "import numpy as np\n",
    "hf.setup_gpu(gpu_nr=1)"
   ]
  },
  {
   "cell_type": "markdown",
   "metadata": {},
   "source": [
    "Use the test set for faster computations as its distribution follows the same distribution as the whole data."
   ]
  },
  {
   "cell_type": "code",
   "execution_count": 2,
   "metadata": {},
   "outputs": [
    {
     "name": "stdout",
     "output_type": "stream",
     "text": [
      "Found 773500 validated image filenames belonging to 31 classes.\n"
     ]
    }
   ],
   "source": [
    "with open('../training_configurations.json', 'r') as fp:\n",
    "    config = json.load(fp)[str(112)]\n",
    "\n",
    "test, _ = hf.get_flow(df_file='../' + config['data_folder'] + '/train_df.json.bz2',\n",
    "                      batch_size=config['batch_size'],\n",
    "                      image_dimension=config['image_dimension'])\n",
    "y_true = hf.get_y_true(shape=(test.samples, len(test.class_indices)), classes=test.classes)"
   ]
  },
  {
   "cell_type": "markdown",
   "metadata": {},
   "source": [
    "Imbalance ratio per label (IRLbl)"
   ]
  },
  {
   "cell_type": "code",
   "execution_count": 3,
   "metadata": {},
   "outputs": [
    {
     "data": {
      "text/plain": [
       "94086.33333333333"
      ]
     },
     "execution_count": 3,
     "metadata": {},
     "output_type": "execute_result"
    }
   ],
   "source": [
    "IRLbl = hf.imbalance_ratio_per_label(y_true)\n",
    "np.max(IRLbl)"
   ]
  },
  {
   "cell_type": "code",
   "execution_count": 4,
   "metadata": {},
   "outputs": [
    {
     "data": {
      "text/plain": [
       "58.791710060404085"
      ]
     },
     "execution_count": 4,
     "metadata": {},
     "output_type": "execute_result"
    }
   ],
   "source": [
    "np.median(IRLbl)"
   ]
  },
  {
   "attachments": {},
   "cell_type": "markdown",
   "metadata": {},
   "source": [
    "Ratio of positive samples"
   ]
  },
  {
   "cell_type": "code",
   "execution_count": 5,
   "metadata": {},
   "outputs": [
    {
     "data": {
      "text/plain": [
       "0.05706812352732656"
      ]
     },
     "execution_count": 5,
     "metadata": {},
     "output_type": "execute_result"
    }
   ],
   "source": [
    "np.sum(y_true) / (y_true.shape[0] * y_true.shape[1])"
   ]
  },
  {
   "cell_type": "markdown",
   "metadata": {},
   "source": [
    "Mean imbalance ratio (meanIR)"
   ]
  },
  {
   "cell_type": "code",
   "execution_count": 6,
   "metadata": {},
   "outputs": [
    {
     "name": "stdout",
     "output_type": "stream",
     "text": [
      "Mean imbalance ratio (meanIR): (3907.9257696640116, {'Animals': 166.72, 'Architecture': 17.94, 'Art': 13.44, 'Belief': 18817.27, 'Chemistry': 317.86, 'Culture': 1.47, 'Diagrams': 146.7, 'Events': 6.96, 'Food': 4552.56, 'Fossils': 130.13, 'Geology': 68.18, 'History': 2.77, 'Landscapes': 88.04, 'Literature': 156.2, 'Logos & Symbols': 138.16, 'Maps & Flags': 25.35, 'Mathematics': 1493.43, 'Medicine & Health': 319.3, 'Monuments & Memorials': 209.86, 'Music': 58.79, 'Nature': 2.67, 'People': 1.64, 'Places': 1.0, 'Plants': 33.7, 'Politics': 6.73, 'STEM': 94086.33, 'Society': 1.17, 'Space': 252.47, 'Sports': 6.0, 'Technology & Engineering': 6.63, 'Transportation': 16.22})\n"
     ]
    }
   ],
   "source": [
    "meanIR = hf.mean_imbalance_ratio(y_true, class_names=test.class_indices)\n",
    "print(f'Mean imbalance ratio (meanIR): {meanIR}')"
   ]
  },
  {
   "cell_type": "markdown",
   "metadata": {},
   "source": [
    "SCUMBLE (Score of ConcUrrence among iMBalanced LabEls)"
   ]
  },
  {
   "cell_type": "code",
   "execution_count": 7,
   "metadata": {},
   "outputs": [
    {
     "name": "stdout",
     "output_type": "stream",
     "text": [
      "0.4326354825386076\n"
     ]
    }
   ],
   "source": [
    "scumble_dataset, scumble_samples = hf.scumble(y_true)\n",
    "print(scumble_dataset)"
   ]
  }
 ],
 "metadata": {
  "kernelspec": {
   "display_name": "Python 3.8.2 ('base')",
   "language": "python",
   "name": "python3"
  },
  "language_info": {
   "codemirror_mode": {
    "name": "ipython",
    "version": 3
   },
   "file_extension": ".py",
   "mimetype": "text/x-python",
   "name": "python",
   "nbconvert_exporter": "python",
   "pygments_lexer": "ipython3",
   "version": "3.8.2 (default, Mar 26 2020, 15:53:00) \n[GCC 7.3.0]"
  },
  "orig_nbformat": 4,
  "vscode": {
   "interpreter": {
    "hash": "b7f323a1c2c8b3d38dc94a01188981c510c9b5df10e2cc2d7fa4f2b45d318cbd"
   }
  }
 },
 "nbformat": 4,
 "nbformat_minor": 2
}
