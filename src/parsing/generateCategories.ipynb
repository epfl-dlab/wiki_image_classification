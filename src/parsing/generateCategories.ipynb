{
 "cells": [
  {
   "cell_type": "markdown",
   "id": "be6877c6",
   "metadata": {},
   "source": [
    "## Imports"
   ]
  },
  {
   "cell_type": "code",
   "execution_count": 1,
   "id": "da7e81ce",
   "metadata": {},
   "outputs": [],
   "source": [
    "import sys\n",
    "\n",
    "sys.path.append(\"../../\")\n",
    "\n",
    "from src.config import *\n",
    "from src.utilities import normalize_title"
   ]
  },
  {
   "cell_type": "code",
   "execution_count": null,
   "id": "76c4818f-bded-4947-87c0-960bfe19575b",
   "metadata": {},
   "outputs": [],
   "source": [
    "import os\n",
    "import pickle\n",
    "import re\n",
    "import shutil\n",
    "from collections import defaultdict\n",
    "\n",
    "import numpy as np\n",
    "import pandas as pd\n",
    "import pyspark\n",
    "from pyspark.accumulators import AccumulatorParam\n",
    "from pyspark.sql import *\n",
    "from pyspark.sql.functions import *\n",
    "from pyspark.sql.types import (\n",
    "    ArrayType,\n",
    "    BooleanType,\n",
    "    IntegerType,\n",
    "    StringType,\n",
    "    StructField,\n",
    "    StructType,\n",
    ")\n",
    "\n",
    "conf = (\n",
    "    pyspark.SparkConf()\n",
    "    .setMaster(\"local[10]\")\n",
    "    .setAll(\n",
    "        [\n",
    "            (\"spark.jars.packages\", \"com.databricks:spark-xml_2.12:0.8.0\"),\n",
    "            (\"spark.executor.memory\", \"4g\"),\n",
    "            (\"spark.driver.memory\", \"5g\"),\n",
    "            (\"spark.driver.maxResultSize\", \"20G\"),\n",
    "            (\"spark.executor.heartbeatInterval\", \"60s\"),\n",
    "            (\"spark.network.timeout\", \"61s\"),\n",
    "        ]\n",
    "    )\n",
    ")\n",
    "# create the session\n",
    "spark = SparkSession.builder.config(conf=conf).getOrCreate()\n",
    "\n",
    "# create the context\n",
    "sc = spark.sparkContext"
   ]
  },
  {
   "cell_type": "code",
   "execution_count": 2,
   "id": "5cb00d2f",
   "metadata": {},
   "outputs": [],
   "source": [
    "# sc.setLogLevel('DEBUG')"
   ]
  },
  {
   "cell_type": "code",
   "execution_count": 3,
   "id": "b3decbae-9d5d-44e5-8c4c-2f145f01b90e",
   "metadata": {},
   "outputs": [
    {
     "data": {
      "text/html": [
       "\n",
       "            <div>\n",
       "                <p><b>SparkSession - in-memory</b></p>\n",
       "                \n",
       "        <div>\n",
       "            <p><b>SparkContext</b></p>\n",
       "\n",
       "            <p><a href=\"http://10.90.38.15:4041\">Spark UI</a></p>\n",
       "\n",
       "            <dl>\n",
       "              <dt>Version</dt>\n",
       "                <dd><code>v3.2.1</code></dd>\n",
       "              <dt>Master</dt>\n",
       "                <dd><code>local[10]</code></dd>\n",
       "              <dt>AppName</dt>\n",
       "                <dd><code>pyspark-shell</code></dd>\n",
       "            </dl>\n",
       "        </div>\n",
       "        \n",
       "            </div>\n",
       "        "
      ],
      "text/plain": [
       "<pyspark.sql.session.SparkSession at 0x7f95b0de1580>"
      ]
     },
     "execution_count": 3,
     "metadata": {},
     "output_type": "execute_result"
    }
   ],
   "source": [
    "spark"
   ]
  },
  {
   "cell_type": "markdown",
   "id": "1ff9e356-a201-4e56-af32-15d5908a6e40",
   "metadata": {},
   "source": [
    "## Categories"
   ]
  },
  {
   "cell_type": "code",
   "execution_count": null,
   "id": "5ba4845f-bf35-4e09-9408-400b9e571eb6",
   "metadata": {},
   "outputs": [],
   "source": [
    "commons_categories_raw = (\n",
    "    spark.read.format(\"com.databricks.spark.xml\")\n",
    "    .options(rowTag=\"page\")\n",
    "    .load(COMMONS_DUMP)\n",
    "    .filter(\"ns = '14'\")\n",
    ")\n",
    "# commons_categories_raw.persist()"
   ]
  },
  {
   "cell_type": "code",
   "execution_count": 7,
   "id": "b404d1e2-de8b-4aff-92e4-da006ea15a87",
   "metadata": {},
   "outputs": [
    {
     "name": "stdout",
     "output_type": "stream",
     "text": [
      "root\n",
      " |-- id: long (nullable = true)\n",
      " |-- ns: long (nullable = true)\n",
      " |-- redirect: struct (nullable = true)\n",
      " |    |-- _VALUE: string (nullable = true)\n",
      " |    |-- _title: string (nullable = true)\n",
      " |-- revision: struct (nullable = true)\n",
      " |    |-- comment: struct (nullable = true)\n",
      " |    |    |-- _VALUE: string (nullable = true)\n",
      " |    |    |-- _deleted: string (nullable = true)\n",
      " |    |-- contributor: struct (nullable = true)\n",
      " |    |    |-- _VALUE: string (nullable = true)\n",
      " |    |    |-- _deleted: string (nullable = true)\n",
      " |    |    |-- id: long (nullable = true)\n",
      " |    |    |-- ip: string (nullable = true)\n",
      " |    |    |-- username: string (nullable = true)\n",
      " |    |-- format: string (nullable = true)\n",
      " |    |-- id: long (nullable = true)\n",
      " |    |-- minor: string (nullable = true)\n",
      " |    |-- model: string (nullable = true)\n",
      " |    |-- parentid: long (nullable = true)\n",
      " |    |-- sha1: string (nullable = true)\n",
      " |    |-- text: struct (nullable = true)\n",
      " |    |    |-- _VALUE: string (nullable = true)\n",
      " |    |    |-- _bytes: long (nullable = true)\n",
      " |    |    |-- _xml:space: string (nullable = true)\n",
      " |    |-- timestamp: string (nullable = true)\n",
      " |-- title: string (nullable = true)\n",
      "\n"
     ]
    }
   ],
   "source": [
    "commons_categories_raw.printSchema()"
   ]
  },
  {
   "cell_type": "code",
   "execution_count": 10,
   "id": "91f5c8bf",
   "metadata": {},
   "outputs": [
    {
     "name": "stderr",
     "output_type": "stream",
     "text": [
      "                                                                                \r"
     ]
    }
   ],
   "source": [
    "commons_categories_raw.write.mode(\"overwrite\").parquet(CATEGORIES_DUMP)"
   ]
  },
  {
   "cell_type": "code",
   "execution_count": 73,
   "id": "46d117ea",
   "metadata": {},
   "outputs": [],
   "source": [
    "commons_categories_raw = spark.read.parquet(CATEGORIES_DUMP)"
   ]
  },
  {
   "cell_type": "code",
   "execution_count": 6,
   "id": "4e7fac7b",
   "metadata": {},
   "outputs": [
    {
     "name": "stderr",
     "output_type": "stream",
     "text": [
      "                                                                                \r"
     ]
    },
    {
     "data": {
      "text/plain": [
       "751"
      ]
     },
     "execution_count": 6,
     "metadata": {},
     "output_type": "execute_result"
    }
   ],
   "source": [
    "# Build a dictionary of redirects (old_title -> redirect_title)\n",
    "category_redirects = {\n",
    "    normalize_title(r.title): normalize_title(r.redirect._title)\n",
    "    for r in commons_categories_raw.filter(\"redirect is not null\").collect()\n",
    "}\n",
    "len(category_redirects)"
   ]
  },
  {
   "cell_type": "code",
   "execution_count": 7,
   "id": "5ef081ed",
   "metadata": {},
   "outputs": [],
   "source": [
    "categories_regex = re.compile(\n",
    "    \"(?<!wpTextbox1\\.value\\+=')(?<!wpTextbox1\\.value=')\\[\\[([cC]ategory:[^\\|]*?)(?:\\|.*?)*\\]\\]\"\n",
    ")\n",
    "hiddencat_regex = re.compile(\n",
    "    \"__HIDDENCAT__\"\n",
    "    + \"|\\{\\{[hH]iddencat\\}\\}\"\n",
    "    + \"|\\{\\{[uU]ser category.*?\\}\\}\"\n",
    "    + \"|\\{\\{[dD]isambig.*?\\}\\}\"\n",
    "    + \"|\\{\\{[gG]lobal maintenance category\\}\\}\"\n",
    "    + \"|\\[\\[([cC]ategory:Categories for discussion[^\\|]*?)(?:\\|.*?)*\\]\\]\"\n",
    "    + \"|\\[\\[([cC]ategory:Media contributed by[^\\|]*?)(?:\\|.*?)*\\]\\]\"\n",
    ")"
   ]
  },
  {
   "cell_type": "code",
   "execution_count": 8,
   "id": "55b6d41d-d11d-4ff8-ad2c-ba7f2c431073",
   "metadata": {},
   "outputs": [],
   "source": [
    "class ChildsAccumulator(AccumulatorParam):\n",
    "    \"\"\"\n",
    "    Accumulator for childs: a dictionary mapping each category to its childs\n",
    "    \"\"\"\n",
    "\n",
    "    def zero(self, value):\n",
    "        return defaultdict(list)\n",
    "\n",
    "    def addInPlace(self, val1, val2):\n",
    "        for key, value in val2.items():\n",
    "            val1[key] += value\n",
    "        return val1"
   ]
  },
  {
   "cell_type": "code",
   "execution_count": 9,
   "id": "03bf2dad-11f8-4400-8304-7d767b297193",
   "metadata": {
    "tags": []
   },
   "outputs": [],
   "source": [
    "def extract_category(row):\n",
    "    \"\"\"\n",
    "    Extract the details of a category\n",
    "    \"\"\"\n",
    "    title = normalize_title(row.title)\n",
    "    text = row.revision.text._VALUE\n",
    "\n",
    "    parents = re.findall(categories_regex, text) if text else []\n",
    "    parents = [\n",
    "        category_redirects[normalize_title(parent)]\n",
    "        if normalize_title(parent) in category_redirects.keys()\n",
    "        else normalize_title(parent)\n",
    "        for parent in parents\n",
    "    ]\n",
    "    global acc\n",
    "    if parents:\n",
    "        acc += {parent: [title] for parent in parents}\n",
    "    return Row(\n",
    "        id=row.id,\n",
    "        title=title,\n",
    "        parents=parents,\n",
    "        hiddencat=re.search(hiddencat_regex, text) is not None if text else False,\n",
    "    )"
   ]
  },
  {
   "cell_type": "code",
   "execution_count": 10,
   "id": "562fa86b-1ed3-4d36-84cc-76d3d16a79b8",
   "metadata": {},
   "outputs": [],
   "source": [
    "# Schema of the processed categories DataFrame\n",
    "schema_cat = StructType(\n",
    "    [\n",
    "        StructField(\"id\", IntegerType(), True),\n",
    "        StructField(\"title\", StringType(), True),\n",
    "        StructField(\"parents\", ArrayType(StringType()), True),\n",
    "        StructField(\"hiddencat\", BooleanType(), True),\n",
    "    ]\n",
    ")"
   ]
  },
  {
   "cell_type": "code",
   "execution_count": 12,
   "id": "fd88f17e-9c3a-432a-bd73-8e10848623e4",
   "metadata": {},
   "outputs": [],
   "source": [
    "# We ignore redirect categories, eventually remapping parents to their redirects\n",
    "acc = sc.accumulator(defaultdict(list), ChildsAccumulator())\n",
    "categories_clean = spark.createDataFrame(\n",
    "    commons_categories_raw.filter(\"redirect is null\")\n",
    "    .rdd.map(extract_category)\n",
    "    .filter(lambda r: r is not None),\n",
    "    schema=schema_cat,\n",
    ")\n",
    "\n",
    "# commons_categories_raw.unpersist()\n",
    "# categories_clean.persist();"
   ]
  },
  {
   "cell_type": "code",
   "execution_count": 13,
   "id": "9160c232",
   "metadata": {},
   "outputs": [
    {
     "name": "stderr",
     "output_type": "stream",
     "text": [
      "                                                                                \r"
     ]
    }
   ],
   "source": [
    "# Workaround for the fact that the value of acc is used before it is filled\n",
    "\n",
    "TEMP_PATH = \"../../dump.xml\"\n",
    "\n",
    "categories_clean.write.format(\"com.databricks.spark.xml\").mode(\"overwrite\").options(\n",
    "    rowTag=\"page\", rootTag=\"pages\"\n",
    ").save(TEMP_PATH)\n",
    "\n",
    "# Remove files\n",
    "shutil.rmtree(TEMP_PATH)"
   ]
  },
  {
   "cell_type": "code",
   "execution_count": 14,
   "id": "2ca709dc-e7d5-4391-98ea-6dbc6c69888d",
   "metadata": {},
   "outputs": [],
   "source": [
    "schema_childs = StructType(\n",
    "    [\n",
    "        StructField(\"title\", StringType(), True),\n",
    "        StructField(\"childs\", ArrayType(StringType(), True), True),\n",
    "    ]\n",
    ")"
   ]
  },
  {
   "cell_type": "code",
   "execution_count": 15,
   "id": "0b54405a-86cc-4617-a770-75987e4f0415",
   "metadata": {},
   "outputs": [],
   "source": [
    "childs_df = spark.createDataFrame(acc.value.items(), schema=schema_childs)"
   ]
  },
  {
   "cell_type": "code",
   "execution_count": 17,
   "id": "1291a1a4-a05f-4480-b23a-24971a5f82a6",
   "metadata": {},
   "outputs": [],
   "source": [
    "categories = (\n",
    "    categories_clean.alias(\"c\")\n",
    "    .join(childs_df, categories_clean.title == childs_df.title, how=\"left\")\n",
    "    .select(\"c.*\", \"childs\")\n",
    ")"
   ]
  },
  {
   "cell_type": "code",
   "execution_count": 18,
   "id": "6ee01b91",
   "metadata": {},
   "outputs": [
    {
     "name": "stderr",
     "output_type": "stream",
     "text": [
      "22/05/02 17:23:47 WARN TaskSetManager: Stage 4 contains a task of very large size (251897 KiB). The maximum recommended task size is 1000 KiB.\n",
      "                                                                                \r"
     ]
    }
   ],
   "source": [
    "categories.write.mode(\"overwrite\").parquet(CATEGORIES_PATH)"
   ]
  },
  {
   "cell_type": "code",
   "execution_count": 74,
   "id": "8dba6f37",
   "metadata": {},
   "outputs": [],
   "source": [
    "categories = spark.read.parquet(CATEGORIES_PATH)"
   ]
  },
  {
   "cell_type": "code",
   "execution_count": 12,
   "id": "2104faf9",
   "metadata": {},
   "outputs": [
    {
     "name": "stdout",
     "output_type": "stream",
     "text": [
      "+--------------------+---------+--------------------+---------+------+----------+\n",
      "|               title|       id|             parents|hiddencat|childs|in_en_wiki|\n",
      "+--------------------+---------+--------------------+---------+------+----------+\n",
      "|\"Bioagra\" plant i...| 37673751|[Goświnowice, Fac...|    false|  null|     false|\n",
      "|\"Dancing Dervishe...|113462211|[Kamal-ud-din Bih...|    false|  null|      true|\n",
      "|\"Dardanelles\", Po...| 33938219|[Polkemmet collie...|    false|  null|      true|\n",
      "|\"Der Verwalter\", ...| 12707820|[Buildings in Dor...|    false|  null|      true|\n",
      "|\"Doktorhaus\" (Got...|112648762|[Cultural propert...|    false|  null|     false|\n",
      "|\"Evaluarea impact...|102833104|[Photos from Parl...|    false|  null|     false|\n",
      "|\"Forever alive\" m...| 66089937|                  []|    false|  null|     false|\n",
      "|\"Gracias\" rainbow...| 89849682|[Rainbows, COVID-19]|    false|  null|     false|\n",
      "|\"Kniende\" (Karl T...| 18536700|[Statues in Berli...|    false|  null|     false|\n",
      "|     \"Krym\" roadster|109840454|[Roadsters by brand]|    false|  null|     false|\n",
      "|\"La Villa\", Schwe...| 88168182|[Houses in Schwei...|    false|  null|     false|\n",
      "|     \"Lewis Ferrero\"|108271202|[Finds Liaison Of...|    false|  null|     false|\n",
      "|\"Los Amantes\" de ...|107451142|[Statues in Acapu...|    false|  null|     false|\n",
      "|\"Los árboles muer...| 83406893|[Baltisky Dom The...|    false|  null|     false|\n",
      "|\"Partea Cneazului...| 70246386|[Geological and p...|    false|  null|     false|\n",
      "|\"Philibert de l'O...| 24295120|[\"Philibert de l'...|    false|  null|     false|\n",
      "|\"Propellers of th...| 69676289|[Sculptures in Su...|    false|  null|     false|\n",
      "|\"The XII Sacred P...| 52656265|[Photographs by A...|    false|  null|     false|\n",
      "|\"The treasure sta...| 46870143|[1899 books from ...|    false|  null|     false|\n",
      "|\"Uncontrollably F...| 62715557|[Uses of Wikidata...|    false|  null|      true|\n",
      "+--------------------+---------+--------------------+---------+------+----------+\n",
      "only showing top 20 rows\n",
      "\n"
     ]
    }
   ],
   "source": [
    "categories.show()"
   ]
  },
  {
   "cell_type": "code",
   "execution_count": 13,
   "id": "388964ef",
   "metadata": {},
   "outputs": [
    {
     "data": {
      "text/plain": [
       "11029650"
      ]
     },
     "execution_count": 13,
     "metadata": {},
     "output_type": "execute_result"
    }
   ],
   "source": [
    "categories.count()"
   ]
  },
  {
   "cell_type": "code",
   "execution_count": 14,
   "id": "8aaa645e-3028-4e98-a1da-0010cdbb4aa8",
   "metadata": {},
   "outputs": [
    {
     "name": "stderr",
     "output_type": "stream",
     "text": [
      "                                                                                \r"
     ]
    }
   ],
   "source": [
    "hidden_categories = (\n",
    "    categories.filter(\"hiddencat is True\")\n",
    "    .select(\"title\")\n",
    "    .rdd.flatMap(lambda x: x)\n",
    "    .collect()\n",
    ")"
   ]
  },
  {
   "cell_type": "code",
   "execution_count": 15,
   "id": "105b43b1-da14-42e7-b0a3-71562e36f974",
   "metadata": {},
   "outputs": [
    {
     "data": {
      "text/plain": [
       "137448"
      ]
     },
     "execution_count": 15,
     "metadata": {},
     "output_type": "execute_result"
    }
   ],
   "source": [
    "len(hidden_categories)"
   ]
  },
  {
   "cell_type": "markdown",
   "id": "56cba5ca-1e47-4740-beb3-7cd854dd3cde",
   "metadata": {},
   "source": [
    "## Files"
   ]
  },
  {
   "cell_type": "code",
   "execution_count": 76,
   "id": "ae495bfe-99a2-4735-b105-cfc50d424494",
   "metadata": {},
   "outputs": [],
   "source": [
    "commons_files_raw = (\n",
    "    spark.read.format(\"com.databricks.spark.xml\")\n",
    "    .option(\"inferSchema\", \"false\")\n",
    "    .schema(commons_categories_raw.schema)\n",
    "    .options(rowTag=\"page\")\n",
    "    .load(COMMONS_DUMP)\n",
    "    .filter(\"ns = '6'\")\n",
    ")\n",
    "# commons_files_raw.persist();"
   ]
  },
  {
   "cell_type": "code",
   "execution_count": null,
   "id": "9567b5ef",
   "metadata": {},
   "outputs": [],
   "source": [
    "# Build a dictionary of redirects\n",
    "file_redirects = {\n",
    "    normalize_title(r.title): normalize_title(r.redirect._title)\n",
    "    for r in commons_files_raw.filter(\"redirect is not null\").collect()\n",
    "}"
   ]
  },
  {
   "cell_type": "code",
   "execution_count": 28,
   "id": "543993ec",
   "metadata": {},
   "outputs": [],
   "source": [
    "with open(FILE_REDIRECTS, \"wb\") as f:\n",
    "    pickle.dump(file_redirects, f)"
   ]
  },
  {
   "cell_type": "code",
   "execution_count": 77,
   "id": "c5b947c1",
   "metadata": {},
   "outputs": [],
   "source": [
    "with open(FILE_REDIRECTS, \"rb\") as f:\n",
    "    file_redirects = pickle.load(f)"
   ]
  },
  {
   "cell_type": "code",
   "execution_count": 78,
   "id": "7b90c33c",
   "metadata": {},
   "outputs": [
    {
     "data": {
      "text/plain": [
       "1903071"
      ]
     },
     "execution_count": 78,
     "metadata": {},
     "output_type": "execute_result"
    }
   ],
   "source": [
    "len(file_redirects)"
   ]
  },
  {
   "cell_type": "markdown",
   "id": "1a698ca9-9a92-40ec-8d44-0148c12050f5",
   "metadata": {},
   "source": [
    "For now, we consider only the images that appear in en.wikipedia, discarding all the others. We can also ignore redirects."
   ]
  },
  {
   "cell_type": "code",
   "execution_count": 31,
   "id": "5126042f",
   "metadata": {},
   "outputs": [
    {
     "name": "stdout",
     "output_type": "stream",
     "text": [
      "Processing chunk 0...\n",
      "Processing chunk 1...\n",
      "Processing chunk 2...\n",
      "Processing chunk 3...\n",
      "Processing chunk 4...\n",
      "Processing chunk 5...\n",
      "Processing chunk 6...\n",
      "Processing chunk 7...\n",
      "Processing chunk 8...\n",
      "Processing chunk 9...\n"
     ]
    }
   ],
   "source": [
    "wit_images = pd.DataFrame()\n",
    "\n",
    "# Filter for images in english, normalizing titles and remapping redirects\n",
    "for i, wit_chunk in enumerate(WIT_DATASET):\n",
    "    print(f\"Processing chunk {i}...\")\n",
    "    wit_images = pd.concat(\n",
    "        [\n",
    "            wit_images,\n",
    "            pd.read_csv(wit_chunk, sep=\"\\t\")\n",
    "            .query(\n",
    "                \"language == 'en' and image_url.str.contains('/commons/')\",\n",
    "                engine=\"python\",\n",
    "            )\n",
    "            .image_url.apply(\n",
    "                lambda x: pd.Series(\n",
    "                    {\n",
    "                        \"image_path\": x.split(\"commons/\")[1],\n",
    "                        \"title\": file_redirects[name]\n",
    "                        if (name := normalize_title(x.split(\"/\")[-1], False))\n",
    "                        in file_redirects.keys()\n",
    "                        else name,\n",
    "                    }\n",
    "                )\n",
    "            ),\n",
    "        ]\n",
    "    )"
   ]
  },
  {
   "cell_type": "code",
   "execution_count": 34,
   "id": "af0dd89e",
   "metadata": {},
   "outputs": [],
   "source": [
    "# Keep only unique titles\n",
    "wit_images.drop_duplicates(subset=\"title\", inplace=True)"
   ]
  },
  {
   "cell_type": "code",
   "execution_count": 36,
   "id": "5606b057",
   "metadata": {},
   "outputs": [],
   "source": [
    "wit_images_df = spark.createDataFrame(\n",
    "    wit_images,\n",
    "    StructType(\n",
    "        [\n",
    "            StructField(\"image_path\", StringType(), True),\n",
    "            StructField(\"title\", StringType(), True),\n",
    "        ]\n",
    "    ),\n",
    ")"
   ]
  },
  {
   "cell_type": "code",
   "execution_count": 43,
   "id": "14929c42",
   "metadata": {},
   "outputs": [
    {
     "name": "stderr",
     "output_type": "stream",
     "text": [
      "22/05/08 17:29:28 WARN TaskSetManager: Stage 2 contains a task of very large size (32447 KiB). The maximum recommended task size is 1000 KiB.\n",
      "                                                                                \r"
     ]
    }
   ],
   "source": [
    "wit_images_df.write.mode(\"overwrite\").parquet(WIT_NAMES_PATH)"
   ]
  },
  {
   "cell_type": "code",
   "execution_count": 79,
   "id": "fa842e05",
   "metadata": {},
   "outputs": [],
   "source": [
    "wit_images_df = spark.read.parquet(WIT_NAMES_PATH)"
   ]
  },
  {
   "cell_type": "code",
   "execution_count": 80,
   "id": "95268e0f",
   "metadata": {},
   "outputs": [
    {
     "data": {
      "text/plain": [
       "3915597"
      ]
     },
     "execution_count": 80,
     "metadata": {},
     "output_type": "execute_result"
    }
   ],
   "source": [
    "wit_images_df.count()"
   ]
  },
  {
   "cell_type": "code",
   "execution_count": 81,
   "id": "325e6918",
   "metadata": {},
   "outputs": [],
   "source": [
    "# Filter only files contained in WIT\n",
    "normalize_title_udf = udf(lambda r: normalize_title(r))\n",
    "wit_files_raw = commons_files_raw.withColumn(\n",
    "    \"title_norm\", normalize_title_udf(commons_files_raw.title)\n",
    ").join(wit_images_df, col(\"title_norm\") == wit_images_df.title)"
   ]
  },
  {
   "cell_type": "code",
   "execution_count": 82,
   "id": "6412de9f-8ad7-4c82-b49f-2599081fc790",
   "metadata": {},
   "outputs": [],
   "source": [
    "def extract_file(row):\n",
    "    \"\"\"\n",
    "    Extract the details of a file\n",
    "    \"\"\"\n",
    "    text = row.revision.text._VALUE\n",
    "\n",
    "    categories = re.findall(categories_regex, text) if text else []\n",
    "\n",
    "    # No way to do this with a list comprehension (nested conditions work only if there is always an else)\n",
    "    # Remap categories to their redirect and filter hidden categories\n",
    "    categories_nohidd = []\n",
    "    for category in categories:\n",
    "        category_norm = normalize_title(category)\n",
    "        if category_norm not in hidden_categories:\n",
    "            if category_norm in category_redirects.keys():\n",
    "                if (c := category_redirects[category_norm]) not in hidden_categories:\n",
    "                    categories_nohidd.append(c)\n",
    "            else:\n",
    "                categories_nohidd.append(category_norm)\n",
    "\n",
    "    return Row(\n",
    "        id=row.id,\n",
    "        title=normalize_title(row.title),\n",
    "        url=row.image_path,\n",
    "        categories=categories_nohidd,\n",
    "    )"
   ]
  },
  {
   "cell_type": "code",
   "execution_count": 83,
   "id": "d08b05a6-7d88-4dfb-a937-2387898b8002",
   "metadata": {},
   "outputs": [],
   "source": [
    "# Schema of the processed files DataFrame\n",
    "schema_files = StructType(\n",
    "    [\n",
    "        StructField(\"id\", IntegerType(), True),\n",
    "        StructField(\"title\", StringType(), True),\n",
    "        StructField(\"url\", StringType(), True),\n",
    "        StructField(\"categories\", ArrayType(StringType()), True),\n",
    "    ]\n",
    ")"
   ]
  },
  {
   "cell_type": "code",
   "execution_count": 84,
   "id": "206c57d8",
   "metadata": {},
   "outputs": [
    {
     "name": "stderr",
     "output_type": "stream",
     "text": [
      "[Stage 7:======================================================>(550 + 1) / 551]\r"
     ]
    }
   ],
   "source": [
    "# Also for files, we ignore redirects\n",
    "wit_files = spark.createDataFrame(\n",
    "    wit_files_raw.filter(\"redirect is null\")\n",
    "    .rdd.map(extract_file)\n",
    "    .filter(lambda r: r is not None),\n",
    "    schema=schema_files,\n",
    ")"
   ]
  },
  {
   "cell_type": "code",
   "execution_count": 85,
   "id": "71f1a788",
   "metadata": {},
   "outputs": [
    {
     "name": "stderr",
     "output_type": "stream",
     "text": [
      "                                                                                \r"
     ]
    }
   ],
   "source": [
    "wit_files.write.mode(\"overwrite\").parquet(FILES_PATH)"
   ]
  },
  {
   "cell_type": "code",
   "execution_count": 86,
   "id": "1d237794",
   "metadata": {},
   "outputs": [],
   "source": [
    "wit_files = spark.read.parquet(FILES_PATH)"
   ]
  },
  {
   "cell_type": "code",
   "execution_count": 87,
   "id": "1b67dc79",
   "metadata": {},
   "outputs": [
    {
     "name": "stdout",
     "output_type": "stream",
     "text": [
      "+--------+--------------------+--------------------+--------------------+\n",
      "|      id|               title|                 url|          categories|\n",
      "+--------+--------------------+--------------------+--------------------+\n",
      "|41179998|\" Moyan di mandi\"...|b/b4/%22_Moyan_di...|    [Anandpur Sahib]|\n",
      "|21613157|\"1zetem\" Chocianó...|7/77/%221zetem%22...|[Historic urban l...|\n",
      "|58385806|\"A Yellow Room\" b...|8/89/%22A_Yellow_...|[William Bruce El...|\n",
      "| 2554419|\"Baron Renfrew\" 1...|4/45/%22Baron_Ren...|[Baron of Renfrew...|\n",
      "|54619021|\"Big John\" Helper...|9/9e/%22Big_John%...|[Big John (Muffle...|\n",
      "| 5653154|\"Blue condominium...|5/51/%22Blue_cond...|[Apartment buildi...|\n",
      "|17065596|\"Cheyenne, Wyo., ...|5/5a/%22Cheyenne%...|[Cheyenne, Wyomin...|\n",
      "|28832857|\"Fuente de los Cá...|f/f3/%22Fuente_de...|[Fuente de los Cá...|\n",
      "|57969172|\"Harewood,\" Samue...|d/da/%22Harewood%...|[Photographs by F...|\n",
      "|91404757|\"Island Number Te...|1/19/%22Island_Nu...|[Abraham Lincoln ...|\n",
      "|17073306|\"Kelly Miller\" - ...|2/2c/%22Kelly_Mil...|[Art of the Unite...|\n",
      "|21724440|\"Mandapam of Nara...|5/5e/%22Mandapam_...|[Sri Narasimha Sw...|\n",
      "|43037211|\"New York, from C...|4/4f/%22New_York%...|[New York City in...|\n",
      "|22351596|\"Newington\" (3841...|5/52/%22Newington...| [Newington College]|\n",
      "|29925971|\"Reine in Lofoten...|1/14/%22Reine_in_...|[Reine, Paintings...|\n",
      "|43722543|\"Round the world....|b/bc/%22Round_the...|[\"Round the world...|\n",
      "|74996259|\"Sheikhupura City...|7/77/%22Sheikhupu...|  [Qila Sheikhupura]|\n",
      "|79702048|\"Stratostat\" Volg...|6/64/%22Stratosta...|[Balloon gondolas...|\n",
      "|92654608|\"Поколения\" - Доб...|e/e8/%22%D0%9F%D0...| [Dobromir Slavchev]|\n",
      "|40192208|''The Little Vint...|5/55/%27%27The_Li...|[Princeton Battle...|\n",
      "+--------+--------------------+--------------------+--------------------+\n",
      "only showing top 20 rows\n",
      "\n"
     ]
    }
   ],
   "source": [
    "wit_files.show()"
   ]
  },
  {
   "cell_type": "code",
   "execution_count": 88,
   "id": "9bdd401b",
   "metadata": {},
   "outputs": [
    {
     "data": {
      "text/plain": [
       "3891446"
      ]
     },
     "execution_count": 88,
     "metadata": {},
     "output_type": "execute_result"
    }
   ],
   "source": [
    "wit_files.count()"
   ]
  },
  {
   "cell_type": "markdown",
   "id": "a257d802",
   "metadata": {},
   "source": [
    "## Categories/2"
   ]
  },
  {
   "cell_type": "code",
   "execution_count": 41,
   "id": "428a4d7f",
   "metadata": {},
   "outputs": [
    {
     "name": "stderr",
     "output_type": "stream",
     "text": [
      "                                                                                \r"
     ]
    }
   ],
   "source": [
    "# List of categories that appear in en.wikipedia\n",
    "categories_in_wikipedia = (\n",
    "    wit_files.rdd.flatMap(lambda x: x.categories).distinct().map(Row(\"title\")).toDF()\n",
    ")\n",
    "categories_in_wikipedia = categories_in_wikipedia.withColumn(\"in_en_wiki\", lit(True))"
   ]
  },
  {
   "cell_type": "code",
   "execution_count": 42,
   "id": "fbdec4f8",
   "metadata": {},
   "outputs": [
    {
     "name": "stdout",
     "output_type": "stream",
     "text": [
      "+--------------------+----------+\n",
      "|               title|in_en_wiki|\n",
      "+--------------------+----------+\n",
      "|        John McLenan|      true|\n",
      "|Postcards of brid...|      true|\n",
      "|    Mortier (organs)|      true|\n",
      "|  2000s black sedans|      true|\n",
      "|Rail transport ma...|      true|\n",
      "+--------------------+----------+\n",
      "only showing top 5 rows\n",
      "\n"
     ]
    },
    {
     "name": "stderr",
     "output_type": "stream",
     "text": [
      "                                                                                \r"
     ]
    }
   ],
   "source": [
    "categories_in_wikipedia.show(5)"
   ]
  },
  {
   "cell_type": "code",
   "execution_count": 43,
   "id": "ef66f2a5",
   "metadata": {},
   "outputs": [
    {
     "name": "stderr",
     "output_type": "stream",
     "text": [
      "                                                                                \r"
     ]
    },
    {
     "data": {
      "text/plain": [
       "2983495"
      ]
     },
     "execution_count": 43,
     "metadata": {},
     "output_type": "execute_result"
    }
   ],
   "source": [
    "categories_in_wikipedia.count()"
   ]
  },
  {
   "cell_type": "code",
   "execution_count": 49,
   "id": "4e455be7",
   "metadata": {},
   "outputs": [
    {
     "name": "stderr",
     "output_type": "stream",
     "text": [
      "                                                                                \r"
     ]
    },
    {
     "name": "stdout",
     "output_type": "stream",
     "text": [
      "62091\n"
     ]
    },
    {
     "name": "stderr",
     "output_type": "stream",
     "text": [
      "                                                                                \r"
     ]
    },
    {
     "data": {
      "text/plain": [
       "[Row(title='(145453) 2005 RR43', in_en_wiki=True),\n",
       " Row(title='(275809) 2001 QY297', in_en_wiki=True),\n",
       " Row(title='(416400) 2003 UZ117', in_en_wiki=True),\n",
       " Row(title='100.000 dollari per Ringo', in_en_wiki=True),\n",
       " Row(title='1000 Islands', in_en_wiki=True),\n",
       " Row(title='104 in logos', in_en_wiki=True),\n",
       " Row(title='1079 in art', in_en_wiki=True),\n",
       " Row(title='1252 in Genoa', in_en_wiki=True),\n",
       " Row(title='12th Night', in_en_wiki=True),\n",
       " Row(title='13-023', in_en_wiki=True)]"
      ]
     },
     "execution_count": 49,
     "metadata": {},
     "output_type": "execute_result"
    }
   ],
   "source": [
    "# Not all categories find within files are existing categories - Red links\n",
    "red_links = categories_in_wikipedia.join(categories, \"title\", \"left_anti\")\n",
    "print(red_links.count())\n",
    "\n",
    "red_links.take(10)"
   ]
  },
  {
   "cell_type": "code",
   "execution_count": 50,
   "id": "251f82a7",
   "metadata": {},
   "outputs": [],
   "source": [
    "categories = (\n",
    "    categories.alias(\"c\")\n",
    "    .join(categories_in_wikipedia, \"title\", \"left\")\n",
    "    .select(\"c.*\", categories_in_wikipedia.in_en_wiki)\n",
    ")\n",
    "categories = categories.na.fill(False, subset=[\"in_en_wiki\"])"
   ]
  },
  {
   "cell_type": "code",
   "execution_count": 51,
   "id": "481d61c7",
   "metadata": {},
   "outputs": [
    {
     "name": "stderr",
     "output_type": "stream",
     "text": [
      "                                                                                \r"
     ]
    },
    {
     "data": {
      "text/plain": [
       "2921404"
      ]
     },
     "execution_count": 51,
     "metadata": {},
     "output_type": "execute_result"
    }
   ],
   "source": [
    "categories.filter(\"in_en_wiki == True\").count()"
   ]
  },
  {
   "cell_type": "code",
   "execution_count": 52,
   "id": "f0bfff9f",
   "metadata": {},
   "outputs": [
    {
     "name": "stderr",
     "output_type": "stream",
     "text": [
      "                                                                                \r"
     ]
    },
    {
     "data": {
      "text/plain": [
       "11029650"
      ]
     },
     "execution_count": 52,
     "metadata": {},
     "output_type": "execute_result"
    }
   ],
   "source": [
    "categories.count()"
   ]
  },
  {
   "cell_type": "code",
   "execution_count": 53,
   "id": "e8214b6f",
   "metadata": {},
   "outputs": [
    {
     "name": "stderr",
     "output_type": "stream",
     "text": [
      "                                                                                \r"
     ]
    }
   ],
   "source": [
    "temp_path = \".\".join(CATEGORIES_PATH.split(\".\")[:-1]) + \"-temp.parquet\"\n",
    "categories.write.mode(\"overwrite\").parquet(temp_path)\n",
    "\n",
    "shutil.rmtree(CATEGORIES_PATH)\n",
    "os.rename(temp_path, CATEGORIES_PATH)"
   ]
  },
  {
   "cell_type": "markdown",
   "id": "6c3db6c0-c58e-4aac-89f7-c661bb1ead51",
   "metadata": {},
   "source": [
    "## Close"
   ]
  },
  {
   "cell_type": "code",
   "execution_count": 70,
   "id": "7b371038-b617-4b6c-93b9-caa9a61f82d1",
   "metadata": {},
   "outputs": [],
   "source": [
    "spark.stop()"
   ]
  }
 ],
 "metadata": {
  "kernelspec": {
   "display_name": "Python 3.10.4 ('taxonomy': conda)",
   "language": "python",
   "name": "python3"
  },
  "language_info": {
   "codemirror_mode": {
    "name": "ipython",
    "version": 3
   },
   "file_extension": ".py",
   "mimetype": "text/x-python",
   "name": "python",
   "nbconvert_exporter": "python",
   "pygments_lexer": "ipython3",
   "version": "3.10.4"
  },
  "vscode": {
   "interpreter": {
    "hash": "dc92df283937ef36370237e39fdb0bb4b37629c0e4d30a20eedd9585f01f8390"
   }
  }
 },
 "nbformat": 4,
 "nbformat_minor": 5
}
