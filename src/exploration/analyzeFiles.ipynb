{
 "cells": [
  {
   "cell_type": "code",
   "execution_count": 1,
   "metadata": {},
   "outputs": [],
   "source": [
    "import numpy as np\n",
    "import pandas as pd\n",
    "import matplotlib.pyplot as plt\n",
    "import seaborn as sns\n",
    "from tqdm import tqdm\n",
    "tqdm.pandas()\n",
    "\n",
    "import sys\n",
    "sys.path.append(\"../../\")\n",
    "from src.taxonomy.taxonomy import Taxonomy\n",
    "from src.utilities import printt"
   ]
  },
  {
   "cell_type": "code",
   "execution_count": 2,
   "metadata": {},
   "outputs": [],
   "source": [
    "FILES_PATH = '/scratch/WikipediaImagesTaxonomy/commonswiki-20220220-files.parquet'\n",
    "LGRAPH_PATH = '/scratch/WikipediaImagesTaxonomy/20220220-category-graph-wlabels_heuristics_simple_v1.0.pkl.bz2'\n",
    "LGRAPH_H_PATH = '/scratch/WikipediaImagesTaxonomy/20220220-clean-graph-wlabels_heuristics_simple_v1.0.pkl.bz2'"
   ]
  },
  {
   "cell_type": "code",
   "execution_count": 3,
   "metadata": {},
   "outputs": [],
   "source": [
    "files = pd.read_parquet(FILES_PATH)"
   ]
  },
  {
   "cell_type": "code",
   "execution_count": 4,
   "metadata": {},
   "outputs": [
    {
     "name": "stdout",
     "output_type": "stream",
     "text": [
      "16:01:54    Loading graph...\n"
     ]
    }
   ],
   "source": [
    "printt('Loading graph...')\n",
    "taxonomy = Taxonomy()\n",
    "taxonomy.load_graph(LGRAPH_PATH)\n",
    "taxonomy.load_graph(LGRAPH_H_PATH, clean=True)"
   ]
  },
  {
   "cell_type": "code",
   "execution_count": 5,
   "metadata": {},
   "outputs": [],
   "source": [
    "def queryFile(file, how='heuristics_simple'):\n",
    "    '''\n",
    "    Given one file, a row of the files DataFrame, queries recursively all\n",
    "    the categories and returns the final labels.\n",
    "    '''\n",
    "\n",
    "    labels = set()\n",
    "    for category in file.categories:\n",
    "        cat_labels = taxonomy.get_label(category, how=how)\n",
    "        labels |= cat_labels\n",
    "    return labels"
   ]
  },
  {
   "cell_type": "code",
   "execution_count": 6,
   "metadata": {},
   "outputs": [
    {
     "name": "stderr",
     "output_type": "stream",
     "text": [
      "100%|██████████| 3891446/3891446 [02:44<00:00, 23694.51it/s]\n"
     ]
    }
   ],
   "source": [
    "files['labels'] = files.progress_apply(lambda x: queryFile(x), axis=1)"
   ]
  },
  {
   "cell_type": "code",
   "execution_count": 7,
   "metadata": {},
   "outputs": [],
   "source": [
    "nb_labels_per_file = files.labels.apply(lambda x: len(x)).values"
   ]
  },
  {
   "cell_type": "code",
   "execution_count": 10,
   "metadata": {},
   "outputs": [
    {
     "data": {
      "text/plain": [
       "count    3.891446e+06\n",
       "mean     1.523626e+00\n",
       "std      1.233752e+00\n",
       "min      0.000000e+00\n",
       "25%      1.000000e+00\n",
       "50%      1.000000e+00\n",
       "75%      2.000000e+00\n",
       "max      1.100000e+01\n",
       "dtype: float64"
      ]
     },
     "execution_count": 10,
     "metadata": {},
     "output_type": "execute_result"
    }
   ],
   "source": [
    "pd.Series(nb_labels_per_file).describe()"
   ]
  },
  {
   "cell_type": "code",
   "execution_count": 11,
   "metadata": {},
   "outputs": [
    {
     "data": {
      "text/plain": [
       "0     0.174733\n",
       "1     0.424596\n",
       "2     0.215027\n",
       "3     0.110834\n",
       "4     0.048578\n",
       "5     0.018109\n",
       "6     0.005879\n",
       "7     0.001731\n",
       "8     0.000415\n",
       "9     0.000080\n",
       "10    0.000016\n",
       "11    0.000003\n",
       "dtype: float64"
      ]
     },
     "execution_count": 11,
     "metadata": {},
     "output_type": "execute_result"
    }
   ],
   "source": [
    "pd.Series(nb_labels_per_file).value_counts(normalize=True).sort_index()"
   ]
  },
  {
   "cell_type": "code",
   "execution_count": 14,
   "metadata": {},
   "outputs": [
    {
     "data": {
      "text/plain": [
       "0.9918765415220974"
      ]
     },
     "execution_count": 14,
     "metadata": {},
     "output_type": "execute_result"
    }
   ],
   "source": [
    "pd.Series(nb_labels_per_file).value_counts(normalize=True).sort_index()[0:6].sum()"
   ]
  },
  {
   "cell_type": "code",
   "execution_count": 15,
   "metadata": {},
   "outputs": [
    {
     "data": {
      "image/png": "[encoded data removed]",
      "text/plain": [
       "<Figure size 432x288 with 1 Axes>"
      ]
     },
     "metadata": {
      "needs_background": "light"
     },
     "output_type": "display_data"
    }
   ],
   "source": [
    "sns.countplot(x=nb_labels_per_file)\n",
    "plt.xlabel('Number of labels per file')\n",
    "plt.show()"
   ]
  },
  {
   "cell_type": "code",
   "execution_count": 16,
   "metadata": {},
   "outputs": [],
   "source": [
    "labels_exploded = files.labels.apply(lambda x: list(x)).explode().values"
   ]
  },
  {
   "cell_type": "code",
   "execution_count": 17,
   "metadata": {},
   "outputs": [
    {
     "data": {
      "text/plain": [
       "Places               1190819\n",
       "Society               997846\n",
       "Culture               661949\n",
       "Objects               598750\n",
       "People                590892\n",
       "Nature                385957\n",
       "History               367499\n",
       "Sports                174802\n",
       "Technology            159489\n",
       "Politics              157146\n",
       "Events                145907\n",
       "Entertainment         105276\n",
       "Art                    75398\n",
       "Language               67056\n",
       "Architecture           45306\n",
       "Plants                 27715\n",
       "Science                25970\n",
       "Biology                22799\n",
       "Music                  22102\n",
       "Civil eng              21296\n",
       "Flags                  18229\n",
       "Landscapes             11500\n",
       "Physics                 9162\n",
       "Fossils                 8743\n",
       "Chemistry               8652\n",
       "Literature              7238\n",
       "Animals                 6841\n",
       "Astronomy               4550\n",
       "Mathematics             3762\n",
       "Earth sciences          1838\n",
       "Engineering             1241\n",
       "Marine organisms         965\n",
       "Electrical eng           774\n",
       "Mechanical eng           700\n",
       "Food                     243\n",
       "Medicine                 228\n",
       "Process eng              219\n",
       "Environmental eng        129\n",
       "Belief                    73\n",
       "Chemical eng              19\n",
       "Weather                   15\n",
       "Geophysical eng           13\n",
       "dtype: int64"
      ]
     },
     "execution_count": 17,
     "metadata": {},
     "output_type": "execute_result"
    }
   ],
   "source": [
    "counts = pd.Series(labels_exploded).value_counts()\n",
    "counts"
   ]
  },
  {
   "cell_type": "code",
   "execution_count": 18,
   "metadata": {},
   "outputs": [
    {
     "data": {
      "text/html": [
       "<div>\n",
       "<style scoped>\n",
       "    .dataframe tbody tr th:only-of-type {\n",
       "        vertical-align: middle;\n",
       "    }\n",
       "\n",
       "    .dataframe tbody tr th {\n",
       "        vertical-align: top;\n",
       "    }\n",
       "\n",
       "    .dataframe thead th {\n",
       "        text-align: right;\n",
       "    }\n",
       "</style>\n",
       "<table border=\"1\" class=\"dataframe\">\n",
       "  <thead>\n",
       "    <tr style=\"text-align: right;\">\n",
       "      <th></th>\n",
       "      <th>order</th>\n",
       "      <th>Group</th>\n",
       "      <th>name</th>\n",
       "      <th>count</th>\n",
       "    </tr>\n",
       "  </thead>\n",
       "  <tbody>\n",
       "    <tr>\n",
       "      <th>0</th>\n",
       "      <td>0</td>\n",
       "      <td>Nature</td>\n",
       "      <td>Nature</td>\n",
       "      <td>385957</td>\n",
       "    </tr>\n",
       "    <tr>\n",
       "      <th>5</th>\n",
       "      <td>0</td>\n",
       "      <td>Nature</td>\n",
       "      <td>Plants</td>\n",
       "      <td>27715</td>\n",
       "    </tr>\n",
       "    <tr>\n",
       "      <th>3</th>\n",
       "      <td>0</td>\n",
       "      <td>Nature</td>\n",
       "      <td>Landscapes</td>\n",
       "      <td>11500</td>\n",
       "    </tr>\n",
       "    <tr>\n",
       "      <th>2</th>\n",
       "      <td>0</td>\n",
       "      <td>Nature</td>\n",
       "      <td>Fossils</td>\n",
       "      <td>8743</td>\n",
       "    </tr>\n",
       "    <tr>\n",
       "      <th>1</th>\n",
       "      <td>0</td>\n",
       "      <td>Nature</td>\n",
       "      <td>Animals</td>\n",
       "      <td>6841</td>\n",
       "    </tr>\n",
       "  </tbody>\n",
       "</table>\n",
       "</div>"
      ],
      "text/plain": [
       "   order   Group        name   count\n",
       "0      0  Nature      Nature  385957\n",
       "5      0  Nature      Plants   27715\n",
       "3      0  Nature  Landscapes   11500\n",
       "2      0  Nature     Fossils    8743\n",
       "1      0  Nature     Animals    6841"
      ]
     },
     "execution_count": 18,
     "metadata": {},
     "output_type": "execute_result"
    }
   ],
   "source": [
    "groups = pd.Series({'Nature': ['Nature', 'Animals', 'Fossils', 'Landscapes', 'Marine organisms', 'Plants', 'Weather'],\n",
    "                    'Society/Culture': ['Society', 'Culture', 'Art', 'Belief', 'Entertainment', 'Events', 'Flags', 'Food', 'History', \n",
    "                    'Language', 'Literature', 'Music', 'Objects', 'People', 'Places', 'Politics', 'Sports'],\n",
    "                    'Science': ['Science', 'Astronomy', 'Biology', 'Chemistry', 'Earth sciences', 'Mathematics',\n",
    "                    'Medicine', 'Physics', 'Technology'],\n",
    "                    'Engineering': ['Engineering', 'Architecture', 'Chemical eng', 'Civil eng', 'Electrical eng',\n",
    "                      'Environmental eng', 'Geophysical eng', 'Mechanical eng', 'Process eng']})\n",
    "groups = groups.reset_index().explode(column=0).reset_index().rename({'level_0': 'order', 'index': 'Group', 0: 'name'}, axis=1)#.set_index('name')\n",
    "groups['count'] = counts.loc[groups.name.values].values\n",
    "groups = groups.sort_values(by=['order', 'count'], ascending=[True, False])\n",
    "groups.head()"
   ]
  },
  {
   "cell_type": "code",
   "execution_count": 30,
   "metadata": {},
   "outputs": [
    {
     "data": {
      "image/png": "[encoded data removed]",
      "text/plain": [
       "<Figure size 504x792 with 1 Axes>"
      ]
     },
     "metadata": {
      "needs_background": "light"
     },
     "output_type": "display_data"
    }
   ],
   "source": [
    "plt.rcParams.update({'font.size': 12})\n",
    "fig = plt.figure(figsize=(7, 11))\n",
    "sns.barplot(y='name', x='count', hue='Group', data=groups, dodge=False, palette=\"tab10\")\n",
    "plt.xscale('log')\n",
    "plt.xlabel('Counts')\n",
    "plt.ylabel('Label')\n",
    "plt.legend(loc='upper left', prop={'size': 12}, bbox_to_anchor=(-0.22, -0.055), ncol=4, handletextpad=0.5, columnspacing=1)\n",
    "plt.tight_layout()\n",
    "plt.savefig('plots/class-predictions.pdf')\n",
    "# plt.show()"
   ]
  }
 ],
 "metadata": {
  "interpreter": {
   "hash": "dc92df283937ef36370237e39fdb0bb4b37629c0e4d30a20eedd9585f01f8390"
  },
  "kernelspec": {
   "display_name": "Python 3.10.4 ('taxonomy': conda)",
   "language": "python",
   "name": "python3"
  },
  "language_info": {
   "codemirror_mode": {
    "name": "ipython",
    "version": 3
   },
   "file_extension": ".py",
   "mimetype": "text/x-python",
   "name": "python",
   "nbconvert_exporter": "python",
   "pygments_lexer": "ipython3",
   "version": "3.10.4"
  },
  "orig_nbformat": 4
 },
 "nbformat": 4,
 "nbformat_minor": 2
}
