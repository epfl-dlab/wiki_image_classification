{
 "cells": [
  {
   "cell_type": "code",
   "execution_count": 1,
   "metadata": {},
   "outputs": [],
   "source": [
    "from collections import Counter\n",
    "\n",
    "import matplotlib.pyplot as plt\n",
    "import networkx as nx\n",
    "import numpy as np\n",
    "import pandas as pd\n",
    "import seaborn as sns"
   ]
  },
  {
   "cell_type": "code",
   "execution_count": 1,
   "metadata": {},
   "outputs": [],
   "source": [
    "import sys\n",
    "\n",
    "sys.path.append(\"../../\")\n",
    "from src.config import *"
   ]
  },
  {
   "cell_type": "code",
   "execution_count": 6,
   "metadata": {},
   "outputs": [],
   "source": [
    "def build_category_graph(categories):\n",
    "    \"\"\"\n",
    "    Build the category graph, starting from the DataFrame extracted by processing dumps\n",
    "    \"\"\"\n",
    "    categories = categories.set_index(\"title\")\n",
    "    # Build DiGraph from adjacency matrix\n",
    "    G = nx.DiGraph(categories.parents.to_dict())\n",
    "    nx.set_node_attributes(\n",
    "        G,\n",
    "        dict(\n",
    "            zip(\n",
    "                categories.index,\n",
    "                categories[[\"id\", \"hiddencat\"]].to_dict(orient=\"records\"),\n",
    "            )\n",
    "        ),\n",
    "    )\n",
    "    depth = {\n",
    "        node: len(sps)\n",
    "        for node, sps in nx.shortest_path(G, target=\"CommonsRoot\").items()\n",
    "    }\n",
    "    nx.set_node_attributes(G, depth, name=\"depth\")\n",
    "    return G"
   ]
  },
  {
   "cell_type": "code",
   "execution_count": 4,
   "metadata": {},
   "outputs": [
    {
     "data": {
      "text/html": [
       "<div>\n",
       "<style scoped>\n",
       "    .dataframe tbody tr th:only-of-type {\n",
       "        vertical-align: middle;\n",
       "    }\n",
       "\n",
       "    .dataframe tbody tr th {\n",
       "        vertical-align: top;\n",
       "    }\n",
       "\n",
       "    .dataframe thead th {\n",
       "        text-align: right;\n",
       "    }\n",
       "</style>\n",
       "<table border=\"1\" class=\"dataframe\">\n",
       "  <thead>\n",
       "    <tr style=\"text-align: right;\">\n",
       "      <th></th>\n",
       "      <th>id</th>\n",
       "      <th>title</th>\n",
       "      <th>parents</th>\n",
       "      <th>hiddencat</th>\n",
       "      <th>childs</th>\n",
       "    </tr>\n",
       "  </thead>\n",
       "  <tbody>\n",
       "    <tr>\n",
       "      <th>0</th>\n",
       "      <td>51586720</td>\n",
       "      <td>'s-Gravelandse Veer 9, Amsterdam</td>\n",
       "      <td>['s-Gravelandseveer, Amsterdam, Rijksmonumente...</td>\n",
       "      <td>False</td>\n",
       "      <td>None</td>\n",
       "    </tr>\n",
       "    <tr>\n",
       "      <th>1</th>\n",
       "      <td>76297768</td>\n",
       "      <td>'s-Gravenhekje 2, Amsterdam</td>\n",
       "      <td>[Rijksmonumenten in Amsterdam-Centrum, 's-Grav...</td>\n",
       "      <td>False</td>\n",
       "      <td>None</td>\n",
       "    </tr>\n",
       "    <tr>\n",
       "      <th>2</th>\n",
       "      <td>11456822</td>\n",
       "      <td>'t Oude Huis Zoetermeer</td>\n",
       "      <td>[Buildings in Zoetermeer, Rijksmonumenten in Z...</td>\n",
       "      <td>False</td>\n",
       "      <td>None</td>\n",
       "    </tr>\n",
       "    <tr>\n",
       "      <th>3</th>\n",
       "      <td>75625387</td>\n",
       "      <td>(315898) 2008 QD4</td>\n",
       "      <td>[Centaurs (minor planets)]</td>\n",
       "      <td>False</td>\n",
       "      <td>None</td>\n",
       "    </tr>\n",
       "    <tr>\n",
       "      <th>4</th>\n",
       "      <td>106082675</td>\n",
       "      <td>(an) Schloßstraße 17 (Ruppertsberg)</td>\n",
       "      <td>[Cultural heritage monuments in Ruppertsberg, ...</td>\n",
       "      <td>False</td>\n",
       "      <td>None</td>\n",
       "    </tr>\n",
       "  </tbody>\n",
       "</table>\n",
       "</div>"
      ],
      "text/plain": [
       "          id                                title  \\\n",
       "0   51586720     's-Gravelandse Veer 9, Amsterdam   \n",
       "1   76297768          's-Gravenhekje 2, Amsterdam   \n",
       "2   11456822              't Oude Huis Zoetermeer   \n",
       "3   75625387                    (315898) 2008 QD4   \n",
       "4  106082675  (an) Schloßstraße 17 (Ruppertsberg)   \n",
       "\n",
       "                                             parents  hiddencat childs  \n",
       "0  ['s-Gravelandseveer, Amsterdam, Rijksmonumente...      False   None  \n",
       "1  [Rijksmonumenten in Amsterdam-Centrum, 's-Grav...      False   None  \n",
       "2  [Buildings in Zoetermeer, Rijksmonumenten in Z...      False   None  \n",
       "3                         [Centaurs (minor planets)]      False   None  \n",
       "4  [Cultural heritage monuments in Ruppertsberg, ...      False   None  "
      ]
     },
     "execution_count": 4,
     "metadata": {},
     "output_type": "execute_result"
    }
   ],
   "source": [
    "categories = pd.read_parquet(CATEGORIES_PATH)\n",
    "categories.head()"
   ]
  },
  {
   "cell_type": "code",
   "execution_count": 7,
   "metadata": {},
   "outputs": [],
   "source": [
    "G = build_category_graph(categories)"
   ]
  },
  {
   "cell_type": "code",
   "execution_count": 8,
   "metadata": {},
   "outputs": [
    {
     "name": "stderr",
     "output_type": "stream",
     "text": [
      "/tmp/ipykernel_1779420/1064119803.py:1: DeprecationWarning: info is deprecated and will be removed in version 3.0.\n",
      "\n",
      "  nx.info(G)\n"
     ]
    },
    {
     "data": {
      "text/plain": [
       "'DiGraph with 11198639 nodes and 25056545 edges'"
      ]
     },
     "execution_count": 8,
     "metadata": {},
     "output_type": "execute_result"
    }
   ],
   "source": [
    "nx.info(G)"
   ]
  },
  {
   "cell_type": "code",
   "execution_count": 9,
   "metadata": {},
   "outputs": [
    {
     "name": "stdout",
     "output_type": "stream",
     "text": [
      "There are 137449 identified hidden categories, corresponding to the 1.23% of all categories\n"
     ]
    }
   ],
   "source": [
    "hiddencats = [\n",
    "    node\n",
    "    for node, hiddencat in nx.get_node_attributes(G, \"hiddencat\").items()\n",
    "    if hiddencat\n",
    "]\n",
    "print(\n",
    "    f\"There are {len(hiddencats)} identified hidden categories, corresponding to the \"\n",
    "    + f\"{len(hiddencats) / G.number_of_nodes() * 100 :.2f}% of all categories\"\n",
    ")"
   ]
  },
  {
   "cell_type": "code",
   "execution_count": 10,
   "metadata": {},
   "outputs": [
    {
     "name": "stdout",
     "output_type": "stream",
     "text": [
      "There are 0 categories with images appearing in en.wiki, corresponding to the 0.00% of all categories\n"
     ]
    }
   ],
   "source": [
    "in_wiki_cats = [\n",
    "    node for node, in_wiki in nx.get_node_attributes(G, \"in_en_wiki\").items() if in_wiki\n",
    "]\n",
    "print(\n",
    "    f\"There are {len(in_wiki_cats)} categories with images appearing in en.wiki, corresponding to the \"\n",
    "    + f\"{len(in_wiki_cats) / G.number_of_nodes() * 100 :.2f}% of all categories\"\n",
    ")"
   ]
  },
  {
   "cell_type": "code",
   "execution_count": 11,
   "metadata": {},
   "outputs": [],
   "source": [
    "depth = nx.get_node_attributes(G, \"depth\")"
   ]
  },
  {
   "cell_type": "code",
   "execution_count": 12,
   "metadata": {},
   "outputs": [
    {
     "name": "stdout",
     "output_type": "stream",
     "text": [
      "There are 8643203 nodes connected to CommonsRoot, corresponding to the 77.18% of all categories\n"
     ]
    }
   ],
   "source": [
    "print(\n",
    "    f\"There are {len(depth)} nodes connected to CommonsRoot, corresponding to the \"\n",
    "    + f\"{len(depth) / G.number_of_nodes() * 100 :.2f}% of all categories\"\n",
    ")"
   ]
  },
  {
   "cell_type": "code",
   "execution_count": 13,
   "metadata": {},
   "outputs": [
    {
     "data": {
      "text/plain": [
       "[(1, 1),\n",
       " (2, 7),\n",
       " (3, 124),\n",
       " (4, 2970),\n",
       " (5, 200265),\n",
       " (6, 461658),\n",
       " (7, 1310077),\n",
       " (8, 2166280),\n",
       " (9, 2398036),\n",
       " (10, 1344399),\n",
       " (11, 493516),\n",
       " (12, 101010),\n",
       " (13, 27143),\n",
       " (14, 17819),\n",
       " (15, 17315),\n",
       " (16, 21900),\n",
       " (17, 25093),\n",
       " (18, 16345),\n",
       " (19, 17992),\n",
       " (20, 10133),\n",
       " (21, 1830),\n",
       " (22, 1390),\n",
       " (23, 1913),\n",
       " (24, 1602),\n",
       " (25, 2686),\n",
       " (26, 838),\n",
       " (27, 578),\n",
       " (28, 258),\n",
       " (29, 10),\n",
       " (30, 10),\n",
       " (31, 5)]"
      ]
     },
     "execution_count": 13,
     "metadata": {},
     "output_type": "execute_result"
    }
   ],
   "source": [
    "sorted(Counter(depth.values()).items(), key=lambda x: x[0])"
   ]
  },
  {
   "cell_type": "code",
   "execution_count": 46,
   "metadata": {},
   "outputs": [
    {
     "data": {
      "text/plain": [
       "count    8.643203e+06\n",
       "mean     8.641837e+00\n",
       "std      1.830149e+00\n",
       "min      1.000000e+00\n",
       "25%      8.000000e+00\n",
       "50%      9.000000e+00\n",
       "75%      9.000000e+00\n",
       "max      3.100000e+01\n",
       "dtype: float64"
      ]
     },
     "execution_count": 46,
     "metadata": {},
     "output_type": "execute_result"
    }
   ],
   "source": [
    "pd.Series(depth).describe()"
   ]
  },
  {
   "cell_type": "code",
   "execution_count": 53,
   "metadata": {},
   "outputs": [
    {
     "data": {
      "text/plain": [
       "0.9805671578001812"
      ]
     },
     "execution_count": 53,
     "metadata": {},
     "output_type": "execute_result"
    }
   ],
   "source": [
    "counts.sort_index().loc[5:12].sum()"
   ]
  },
  {
   "cell_type": "code",
   "execution_count": 47,
   "metadata": {},
   "outputs": [
    {
     "data": {
      "image/png": "[encoded data removed]",
      "text/plain": [
       "<Figure size 504x360 with 1 Axes>"
      ]
     },
     "metadata": {
      "needs_background": "light"
     },
     "output_type": "display_data"
    }
   ],
   "source": [
    "fig = plt.figure(figsize=(7, 5))\n",
    "counts = pd.Series(depth).value_counts(sort=False, normalize=True)\n",
    "sns.barplot(x=counts.index, y=counts.values)\n",
    "plt.xlabel(\"Distance from the root\")\n",
    "plt.ylabel(\"Frequency\")\n",
    "plt.show()"
   ]
  },
  {
   "cell_type": "code",
   "execution_count": 19,
   "metadata": {},
   "outputs": [],
   "source": [
    "not_connected_nodes = set(G.nodes) - set(depth.keys())"
   ]
  },
  {
   "cell_type": "code",
   "execution_count": 20,
   "metadata": {},
   "outputs": [
    {
     "data": {
      "text/plain": [
       "['Music events in 1892',\n",
       " '',\n",
       " 'September 2014 Greece photographs',\n",
       " 'October 2015 in Miyagi prefecture',\n",
       " '2001 in Bremen',\n",
       " 'October 2013 in Europe',\n",
       " '1746 in Central America',\n",
       " 'War in Afghanistan (2001-present) related operations outside of Afghanistan',\n",
       " 'Military facilities of Macedonia',\n",
       " 'WLM/7831959000']"
      ]
     },
     "execution_count": 20,
     "metadata": {},
     "output_type": "execute_result"
    }
   ],
   "source": [
    "# Examples of nodes that cannot reach CommonsRoot\n",
    "list(not_connected_nodes)[:10]"
   ]
  },
  {
   "cell_type": "markdown",
   "metadata": {},
   "source": [
    "Almost all those categories in reality are connected, but they have ancestors added via templates (ex. Virginia State Route 7298 or Religious organizations established in 1123). For now, we didn't manage to get the template expansion working, so categories added through templates are not available."
   ]
  },
  {
   "cell_type": "code",
   "execution_count": 21,
   "metadata": {},
   "outputs": [
    {
     "data": {
      "text/plain": [
       "OutEdgeDataView([])"
      ]
     },
     "execution_count": 21,
     "metadata": {},
     "output_type": "execute_result"
    }
   ],
   "source": [
    "G.out_edges(\"Virginia State Route 7298\")"
   ]
  },
  {
   "cell_type": "code",
   "execution_count": 23,
   "metadata": {},
   "outputs": [
    {
     "name": "stdout",
     "output_type": "stream",
     "text": [
      "There are 6934423 leaf nodes, corresponding to the 61.92% of all categories\n"
     ]
    }
   ],
   "source": [
    "leaf_it = (x for x in G.nodes() if G.in_degree(x) == 0)\n",
    "wiki_leaf_it = (\n",
    "    x for x in G.nodes() if G.in_degree(x) == 0 and G.nodes[x].get(\"in_en_wiki\", 0)\n",
    ")\n",
    "nleaves = sum(1 for _ in leaf_it)\n",
    "nleaves_wiki = sum(1 for _ in wiki_leaf_it)\n",
    "\n",
    "print(\n",
    "    f\"There are {nleaves} leaf nodes, corresponding to the \"\n",
    "    + f\"{nleaves / G.number_of_nodes() * 100 :.2f}% of all categories\"\n",
    ")\n",
    "\n",
    "# print(f'There are {nleaves_wiki} leaf nodes containing images appearing in en.wiki, corresponding to the ' +\n",
    "#       f'{nleaves_wiki / len(in_wiki_cats) * 100 :.2f}% of categories in en.wiki, to the ' +\n",
    "#       f'{nleaves_wiki / nleaves * 100 :.2f}% of leaf nodes, and to the ' +\n",
    "#       f'{nleaves_wiki / G.number_of_nodes() * 100 :.2f}% of all categories')"
   ]
  },
  {
   "cell_type": "code",
   "execution_count": 61,
   "metadata": {},
   "outputs": [
    {
     "data": {
      "image/png": "[encoded data removed]",
      "text/plain": [
       "<Figure size 432x288 with 1 Axes>"
      ]
     },
     "metadata": {
      "needs_background": "light"
     },
     "output_type": "display_data"
    }
   ],
   "source": [
    "counts = Counter(d for n, d in G.in_degree())\n",
    "in_degree_freq = [counts.get(i, 0) for i in range(1, max(counts) + 1)]\n",
    "\n",
    "plt.loglog(range(len(in_degree_freq)), in_degree_freq)\n",
    "plt.xlabel(\"in_degree\")\n",
    "plt.ylabel(\"frequency\")\n",
    "plt.show()"
   ]
  },
  {
   "cell_type": "code",
   "execution_count": 72,
   "metadata": {},
   "outputs": [
    {
     "data": {
      "text/plain": [
       "[('Aircraft by registration', 100803),\n",
       " ('Surnames', 99634),\n",
       " ('Ships by name (flat list)', 71579),\n",
       " ('Books in Japanese', 41223),\n",
       " ('People by name', 31173),\n",
       " ('Books in Chinese', 29868),\n",
       " ('Ships by IMO number', 21943),\n",
       " ('Aircraft registered in the United States (100-999)', 13963),\n",
       " ('Male names', 12683),\n",
       " ('Graves in the Père-Lachaise Cemetery', 12536),\n",
       " ('Politicians of the United States by name', 11591),\n",
       " ('Inscriptions in the Père-Lachaise Cemetery in French', 10565),\n",
       " ('Sportspeople from the United States by name', 10550),\n",
       " ('Aircraft registered in the United Kingdom', 10446),\n",
       " ('Deaths in Paris', 10230)]"
      ]
     },
     "execution_count": 72,
     "metadata": {},
     "output_type": "execute_result"
    }
   ],
   "source": [
    "top_ideg = sorted(list(G.in_degree()), key=lambda x: x[1], reverse=True)\n",
    "top_ideg[:15]"
   ]
  },
  {
   "cell_type": "code",
   "execution_count": 63,
   "metadata": {},
   "outputs": [
    {
     "data": {
      "image/png": "[encoded data removed]",
      "text/plain": [
       "<Figure size 432x288 with 1 Axes>"
      ]
     },
     "metadata": {
      "needs_background": "light"
     },
     "output_type": "display_data"
    }
   ],
   "source": [
    "counts = Counter(d for n, d in G.out_degree())\n",
    "out_degree_freq = [counts.get(i, 0) for i in range(1, max(counts) + 1)]\n",
    "\n",
    "plt.loglog(range(len(out_degree_freq)), out_degree_freq)\n",
    "plt.xlabel(\"out_degree\")\n",
    "plt.ylabel(\"frequency\")\n",
    "plt.show()"
   ]
  },
  {
   "cell_type": "code",
   "execution_count": 71,
   "metadata": {},
   "outputs": [
    {
     "data": {
      "text/plain": [
       "[('Dodecalingual Arabic-Armenian-Chinese-Danish-Dutch-English-French-German-Greek-Hindi-Russian-Swedish signs',\n",
       "  3767),\n",
       " ('Dodecalingual Chinese-Dutch-English-French-German-Greek-Hungarian-Italian-Russian-Serbo-Croatian-Spanish-Swedish signs',\n",
       "  3365),\n",
       " ('Undecalingual Chinese-Czech-English-French-German-Hungarian-Italian-Japanese-Korean-Russian-Spanish signs',\n",
       "  1315),\n",
       " (\"Decalingual Arabic-Burmese-Chinese-French-Ge'ez-Hebrew-Hindi-Japanese-Korean-Russian signs\",\n",
       "  942),\n",
       " ('Decalingual Chinese-English-French-Georgian-German-Hebrew-Polish-Russian-Tatar-Ukrainian signs',\n",
       "  901),\n",
       " ('Decalingual Czech-Dutch-English-French-German-Italian-Polish-Russian-Slovak-Spanish signs',\n",
       "  639),\n",
       " ('Decalingual Arabic-Chinese-English-French-German-Italian-Japanese-Portuguese-Russian-Spanish signs',\n",
       "  597),\n",
       " ('Decalingual Chinese-Czech-English-French-German-Hebrew-Hungarian-Japanese-Polish-Russian signs',\n",
       "  568),\n",
       " ('Novelingual Chinese-English-Hindi-Japanese-Khmer-Korean-Spanish-Tagalog-Vietnamese signs',\n",
       "  452),\n",
       " ('Decalingual Dutch-English-French-German-Italian-Polish-Portuguese-Russian-Serbo-Croatian-Spanish signs',\n",
       "  439),\n",
       " ('Novelingual English-Finnish-French-German-Inari Sami-Northern Sami-Russian-Skolt Sami-Swedish signs',\n",
       "  377),\n",
       " ('Octolingual Dutch-English-Esperanto-Finnish-French-German-Hebrew-Serbo-Croatian signs',\n",
       "  215),\n",
       " ('Octolingual Arabic-English-Italian-Japanese-Russian-Serbo-Croatian-Slovene-Spanish signs',\n",
       "  181),\n",
       " ('Octolingual Chinese-Dutch-English-French-German-Greek-Russian-Swedish signs',\n",
       "  180),\n",
       " ('Novelingual Czech-Dutch-English-French-German-Italian-Polish-Portuguese-Serbo-Croatian signs',\n",
       "  173)]"
      ]
     },
     "execution_count": 71,
     "metadata": {},
     "output_type": "execute_result"
    }
   ],
   "source": [
    "top_odeg = sorted(list(G.out_degree()), key=lambda x: x[1], reverse=True)\n",
    "top_odeg[:15]"
   ]
  },
  {
   "cell_type": "code",
   "execution_count": 75,
   "metadata": {},
   "outputs": [
    {
     "data": {
      "image/png": "[encoded data removed]",
      "text/plain": [
       "<Figure size 504x360 with 1 Axes>"
      ]
     },
     "metadata": {
      "needs_background": "light"
     },
     "output_type": "display_data"
    }
   ],
   "source": [
    "plt.rcParams.update({\"font.size\": 22})\n",
    "\n",
    "fig = plt.figure(figsize=(7, 5))\n",
    "plt.loglog(range(len(in_degree_freq)), in_degree_freq)\n",
    "plt.loglog(range(len(out_degree_freq)), out_degree_freq)\n",
    "plt.xlabel(\"Degree\")\n",
    "plt.ylabel(\"Frequency\")\n",
    "plt.legend([\"In-degree\", \"Out-degree\"])  # , prop={'size': 15})\n",
    "plt.xlim(left=1)\n",
    "plt.savefig(\"plots/degree-distribution.pdf\")\n",
    "plt.show()"
   ]
  },
  {
   "cell_type": "code",
   "execution_count": 83,
   "metadata": {},
   "outputs": [
    {
     "data": {
      "image/png": "[encoded data removed]",
      "text/plain": [
       "<Figure size 504x360 with 1 Axes>"
      ]
     },
     "metadata": {
      "needs_background": "light"
     },
     "output_type": "display_data"
    }
   ],
   "source": [
    "plt.rcParams.update({\"font.size\": 13})\n",
    "\n",
    "fig = plt.figure(figsize=(7, 5))\n",
    "plt.loglog(range(len(in_degree_freq)), in_degree_freq)\n",
    "plt.loglog(range(len(out_degree_freq)), out_degree_freq)\n",
    "plt.xlabel(\"Degree\")\n",
    "plt.ylabel(\"Frequency\", labelpad=12)\n",
    "plt.legend([\"In-degree\", \"Out-degree\"], prop={\"size\": 15})\n",
    "plt.xlim(left=1)\n",
    "plt.savefig(\"plots/degree-distribution.pdf\")\n",
    "plt.show()"
   ]
  }
 ],
 "metadata": {
  "interpreter": {
   "hash": "dc92df283937ef36370237e39fdb0bb4b37629c0e4d30a20eedd9585f01f8390"
  },
  "kernelspec": {
   "display_name": "Python 3.10.4 ('taxonomy': conda)",
   "language": "python",
   "name": "python3"
  },
  "language_info": {
   "codemirror_mode": {
    "name": "ipython",
    "version": 3
   },
   "file_extension": ".py",
   "mimetype": "text/x-python",
   "name": "python",
   "nbconvert_exporter": "python",
   "pygments_lexer": "ipython3",
   "version": "3.10.4"
  },
  "orig_nbformat": 4
 },
 "nbformat": 4,
 "nbformat_minor": 2
}
