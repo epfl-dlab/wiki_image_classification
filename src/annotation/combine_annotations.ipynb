{
 "cells": [
  {
   "cell_type": "code",
   "execution_count": 1,
   "metadata": {},
   "outputs": [],
   "source": [
    "import os\n",
    "import sys\n",
    "\n",
    "sys.path.append(\"./\")\n",
    "sys.path.append(\"../../\")\n",
    "\n",
    "import json\n",
    "from collections import Counter\n",
    "\n",
    "import pandas as pd\n",
    "\n",
    "from src.config import *"
   ]
  },
  {
   "cell_type": "markdown",
   "metadata": {},
   "source": [
    "### Combine annotations"
   ]
  },
  {
   "cell_type": "code",
   "execution_count": 2,
   "metadata": {},
   "outputs": [],
   "source": [
    "path = \"/scratch/salvi/wiki_image_classification/\" + MTURK_PATH + \"annotated/\"\n",
    "n = 100\n",
    "seed = 1\n",
    "\n",
    "\n",
    "df_list = []\n",
    "for file in filter(\n",
    "    lambda x: x.startswith(f\"{n}_{seed}_\")\n",
    "    and x.endswith(\".json\")\n",
    "    and not \"combined\" in x,\n",
    "    os.listdir(path),\n",
    "):\n",
    "    name = file.split(\"_\")[3].split(\".\")[0].lower()\n",
    "    with open(path + file, \"r\") as f:\n",
    "        data = pd.DataFrame(json.load(f))\n",
    "        df_list.append(data[[\"labels\", \"other_text\"]].add_suffix(\"_\" + name))\n",
    "df = pd.concat(df_list, axis=1)\n",
    "df.insert(0, \"id\", data[\"id\"])"
   ]
  },
  {
   "cell_type": "code",
   "execution_count": 3,
   "metadata": {},
   "outputs": [],
   "source": [
    "df_labels = df[list(filter(lambda x: x.startswith(\"labels_\"), df.columns))]\n",
    "df_other = df[list(filter(lambda x: x.startswith(\"other_text_\"), df.columns))]\n",
    "df[\"common_labels\"] = df_labels.apply(\n",
    "    lambda x: set.intersection(*[set(l) for l in x.to_list()]), axis=1\n",
    ")\n",
    "df[\"all_labels\"] = df_labels.apply(\n",
    "    lambda x: set.union(*[set(l) for l in x.to_list()]), axis=1\n",
    ")\n",
    "df[\"all_others\"] = df_other.apply(lambda x: [el.lower() for el in x if el], axis=1)\n",
    "df[\"to_review\"] = df.apply(\n",
    "    lambda x: len(x.common_labels) != len(x.all_labels) or len(x.all_others) > 0, axis=1\n",
    ")"
   ]
  },
  {
   "cell_type": "code",
   "execution_count": 4,
   "metadata": {},
   "outputs": [],
   "source": [
    "df.to_json(path + f\"{n}_{seed}_sample_combined.json\", orient=\"records\")"
   ]
  },
  {
   "cell_type": "markdown",
   "metadata": {},
   "source": [
    "### Analyse annotations"
   ]
  },
  {
   "cell_type": "code",
   "execution_count": 5,
   "metadata": {},
   "outputs": [
    {
     "name": "stdout",
     "output_type": "stream",
     "text": [
      "Out of 100 images, 70 need to be reviewed\n"
     ]
    }
   ],
   "source": [
    "print(f\"Out of {len(df)} images, {sum(df.to_review)} need to be reviewed\")"
   ]
  },
  {
   "cell_type": "code",
   "execution_count": 6,
   "metadata": {},
   "outputs": [
    {
     "data": {
      "text/plain": [
       "[\"i really don't know! \",\n",
       " 'nothing',\n",
       " \"hahahah what i didn't know there were gifs in this!\",\n",
       " 'non-scientific diagram',\n",
       " 'military',\n",
       " 'nothing',\n",
       " \"no label. it seems he's wearing a sports shirt but...\",\n",
       " 'weird pic. composition',\n",
       " 'nothing',\n",
       " 'no label',\n",
       " 'do we need monuments/memorials?']"
      ]
     },
     "execution_count": 6,
     "metadata": {},
     "output_type": "execute_result"
    }
   ],
   "source": [
    "df.all_others.sum()"
   ]
  },
  {
   "cell_type": "code",
   "execution_count": 7,
   "metadata": {},
   "outputs": [],
   "source": [
    "conf_counter = Counter(\n",
    "    [\n",
    "        x\n",
    "        for l in df.apply(lambda x: x.all_labels - x.common_labels, axis=1).values\n",
    "        for x in l\n",
    "    ]\n",
    ")\n",
    "common_counter = Counter([x for l in df.common_labels.values for x in l])\n",
    "all_counter = Counter([x for l in df.all_labels.values for x in l])"
   ]
  },
  {
   "cell_type": "code",
   "execution_count": 8,
   "metadata": {},
   "outputs": [
    {
     "data": {
      "text/plain": [
       "[('People', 19),\n",
       " ('Architecture', 10),\n",
       " ('Landscapes', 7),\n",
       " ('Animals', 7),\n",
       " ('Transportation', 6),\n",
       " ('Events', 6),\n",
       " ('Sports', 6),\n",
       " ('Technology_Engineering', 5),\n",
       " ('History', 5),\n",
       " ('Art', 5),\n",
       " ('Urban', 4),\n",
       " ('Maps_Flags', 4),\n",
       " ('Belief', 4),\n",
       " ('Music', 3),\n",
       " ('Space', 2),\n",
       " ('Diagrams', 1),\n",
       " ('Logos', 1),\n",
       " ('Entertainment', 1),\n",
       " ('Food', 1)]"
      ]
     },
     "execution_count": 8,
     "metadata": {},
     "output_type": "execute_result"
    }
   ],
   "source": [
    "common_counter.most_common()"
   ]
  },
  {
   "cell_type": "code",
   "execution_count": 9,
   "metadata": {},
   "outputs": [
    {
     "data": {
      "text/plain": [
       "[('Architecture', 29),\n",
       " ('People', 25),\n",
       " ('History', 22),\n",
       " ('Urban', 20),\n",
       " ('Landscapes', 16),\n",
       " ('Events', 14),\n",
       " ('Transportation', 12),\n",
       " ('Technology_Engineering', 11),\n",
       " ('Belief', 11),\n",
       " ('Entertainment', 10),\n",
       " ('Animals', 10),\n",
       " ('Sports', 9),\n",
       " ('Other', 8),\n",
       " ('Biology', 7),\n",
       " ('Art', 7),\n",
       " ('Diagrams', 5),\n",
       " ('Plants', 5),\n",
       " ('Fossils', 5),\n",
       " ('Maps_Flags', 4),\n",
       " ('Music', 4),\n",
       " ('Politics', 4),\n",
       " ('Food', 3),\n",
       " ('Space', 2),\n",
       " ('Logos', 2),\n",
       " ('Physics', 1),\n",
       " ('Chemistry', 1),\n",
       " ('Earth_sciences', 1)]"
      ]
     },
     "execution_count": 9,
     "metadata": {},
     "output_type": "execute_result"
    }
   ],
   "source": [
    "all_counter.most_common()"
   ]
  },
  {
   "cell_type": "code",
   "execution_count": 38,
   "metadata": {},
   "outputs": [
    {
     "data": {
      "text/plain": [
       "[('Other', 21),\n",
       " ('History', 20),\n",
       " ('People', 20),\n",
       " ('Architecture', 14),\n",
       " ('Earth_Environment', 13),\n",
       " ('Events', 10),\n",
       " ('Art', 9),\n",
       " ('Plants', 8),\n",
       " ('Technology_Engineering', 6),\n",
       " ('Entertainment', 5),\n",
       " ('Landscapes', 4),\n",
       " ('Politics', 4),\n",
       " ('Belief', 4),\n",
       " ('Transportation', 3),\n",
       " ('Biology', 3),\n",
       " ('Animals', 2),\n",
       " ('Sports', 2),\n",
       " ('Fossils', 2),\n",
       " ('Medicine_Health', 1),\n",
       " ('Food', 1),\n",
       " ('Mathematics', 1),\n",
       " ('Space', 1),\n",
       " ('Physics', 1),\n",
       " ('Literature', 1),\n",
       " ('Music', 1)]"
      ]
     },
     "execution_count": 38,
     "metadata": {},
     "output_type": "execute_result"
    }
   ],
   "source": [
    "conf_counter.most_common()"
   ]
  }
 ],
 "metadata": {
  "kernelspec": {
   "display_name": "Python 3.10.4 ('taxonomy': conda)",
   "language": "python",
   "name": "python3"
  },
  "language_info": {
   "codemirror_mode": {
    "name": "ipython",
    "version": 3
   },
   "file_extension": ".py",
   "mimetype": "text/x-python",
   "name": "python",
   "nbconvert_exporter": "python",
   "pygments_lexer": "ipython3",
   "version": "3.10.4"
  },
  "orig_nbformat": 4,
  "vscode": {
   "interpreter": {
    "hash": "dc92df283937ef36370237e39fdb0bb4b37629c0e4d30a20eedd9585f01f8390"
   }
  }
 },
 "nbformat": 4,
 "nbformat_minor": 2
}
