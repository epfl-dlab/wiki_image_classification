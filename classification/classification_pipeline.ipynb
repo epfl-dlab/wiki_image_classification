{
 "cells": [
  {
   "cell_type": "code",
   "execution_count": 5,
   "metadata": {},
   "outputs": [
    {
     "name": "stdout",
     "output_type": "stream",
     "text": [
      "2.3.0\n"
     ]
    }
   ],
   "source": [
    "# from keras.preprocessing.image import ImageDataGenerator\n",
    "\n",
    "# TensorFlow and tf.keras\n",
    "import tensorflow as tf\n",
    "\n",
    "# Helper libraries\n",
    "import numpy as np\n",
    "import json\n",
    "import bz2\n",
    "import urllib.parse\n",
    "import pandas as pd\n",
    "import matplotlib.pyplot as plt\n",
    "import os\n",
    "\n",
    "print(tf.__version__)"
   ]
  },
  {
   "cell_type": "code",
   "execution_count": 9,
   "metadata": {},
   "outputs": [
    {
     "name": "stdout",
     "output_type": "stream",
     "text": [
      "Num GPUs Available: 2\n"
     ]
    }
   ],
   "source": [
    "print(f\"Num GPUs Available: {len(tf.config.list_physical_devices('GPU'))}\")"
   ]
  },
  {
   "cell_type": "markdown",
   "metadata": {},
   "source": [
    "Functions to be put in helpfile"
   ]
  },
  {
   "cell_type": "code",
   "execution_count": 79,
   "metadata": {},
   "outputs": [],
   "source": [
    "def get_y_true(samples, class_indices, classes):\n",
    "    y_true = np.zeros((samples, len(class_indices))) # nr_rows=nr_images; nr_columns=nr_classes\n",
    "    for row_idx, row in enumerate(classes):\n",
    "        for idx in row:\n",
    "            y_true[row_idx, idx] = 1\n",
    "    return y_true\n",
    "\n",
    "# def get_y_true(classes, preset_nr_classes=0):\n",
    "#     \"\"\"Gets one-hot encoded matrix of format (nr_images)x(nr_classes).\"\"\"\n",
    "#     nr_images = len(classes)\n",
    "#     if not preset_nr_classes:\n",
    "#         nr_classes = len(set([item for sublist in classes for item in sublist]))\n",
    "#     else:\n",
    "#         nr_classes = preset_nr_classes\n",
    "#     y_true = np.zeros((nr_images, nr_classes))\n",
    "#     for row_idx, row in enumerate(classes):\n",
    "#         for idx in row:\n",
    "#             y_true[row_idx, idx] = 1\n",
    "#     return y_true\n",
    "\n",
    "def balance_test(classes, class_names, test_df):\n",
    "        \"\"\" \n",
    "        Constructs a sort of more balanced test set in a dummy way by adding to it only the images that contain \n",
    "        the - for the moment - most uncommon class.\n",
    "        Inputs:\n",
    "            - classes: [[]]\n",
    "            - class_names: list with all labels: \n",
    "            - test_df: dataframe with rows containing image files and labels\n",
    "        \"\"\"\n",
    "        y_true = get_y_true(classes)\n",
    "        sorted_indices = np.argsort(np.sum(y_true, axis=0))\n",
    "        sorted_class_names = np.array(list(class_names))[sorted_indices]\n",
    "        least_common_class = sorted_class_names[0]\n",
    "        balanced_classes = []\n",
    "        row_ids = []\n",
    "        counter = 0 \n",
    "        for index, row in test_df.iterrows():\n",
    "            counter += 1\n",
    "            if counter % 10 == 0:\n",
    "                y_true = get_y_true(balanced_classes, 40)\n",
    "                sorted_indices = np.argsort(np.sum(y_true, axis=0))\n",
    "                sorted_class_names = np.array(class_names)[sorted_indices]\n",
    "                least_common_class = sorted_class_names[0]\n",
    "            if least_common_class in row.labels:\n",
    "                balanced_classes.append(row.labels)\n",
    "                row_ids.append(index)\n",
    "\n",
    "        return test_df.loc[row_ids, :]\n",
    "    \n",
    "def plot_distribution(classes, class_names=[], description='None', plot_log=False, lims=()):\n",
    "    y_true = get_y_true(classes)\n",
    "    sorted_indices = np.argsort(np.sum(y_true, axis=0))\n",
    "    sorted_images_per_class = y_true.sum(axis=0)[sorted_indices]\n",
    "    plt.figure(figsize=(12, 15))\n",
    "    plt.title('Number of images per class' + description)\n",
    "    if plot_log:\n",
    "        plt.xscale('log')\n",
    "    if lims:\n",
    "        plt.xlim(lims)\n",
    "    plt.xlabel('Count')\n",
    "    plt.grid(True)\n",
    "    plt.barh(np.array(range(y_true.shape[1])), sorted_images_per_class, color='blue', alpha=0.65)\n",
    "    if class_names:\n",
    "        plt.yticks(range(y_true.shape[1]), np.array(list(class_names))[sorted_indices])\n"
   ]
  },
  {
   "cell_type": "markdown",
   "metadata": {},
   "source": [
    "### Hyperparameters"
   ]
  },
  {
   "cell_type": "code",
   "execution_count": 76,
   "metadata": {},
   "outputs": [],
   "source": [
    "from PIL import PngImagePlugin  \n",
    "\n",
    "EPOCHS = 15\n",
    "IMAGE_DIMENSION = 64\n",
    "MINIMAL_NR_IMAGES = 1_000\n",
    "LARGE_ENOUGH_NUMBER = 100\n",
    "PngImagePlugin.MAX_TEXT_CHUNK = LARGE_ENOUGH_NUMBER * (1024**2) # to avoid corrupted .png images"
   ]
  },
  {
   "cell_type": "markdown",
   "metadata": {},
   "source": [
    "## 1. Read, clean and split data"
   ]
  },
  {
   "cell_type": "markdown",
   "metadata": {},
   "source": [
    "### Import data"
   ]
  },
  {
   "cell_type": "code",
   "execution_count": 29,
   "metadata": {},
   "outputs": [
    {
     "name": "stdout",
     "output_type": "stream",
     "text": [
      "Total number of files: 2008312.\n",
      "Total number of files that can be opened: 1817975.\n",
      "(1817975, 6)\n"
     ]
    },
    {
     "data": {
      "text/html": [
       "<div>\n",
       "<style scoped>\n",
       "    .dataframe tbody tr th:only-of-type {\n",
       "        vertical-align: middle;\n",
       "    }\n",
       "\n",
       "    .dataframe tbody tr th {\n",
       "        vertical-align: top;\n",
       "    }\n",
       "\n",
       "    .dataframe thead th {\n",
       "        text-align: right;\n",
       "    }\n",
       "</style>\n",
       "<table border=\"1\" class=\"dataframe\">\n",
       "  <thead>\n",
       "    <tr style=\"text-align: right;\">\n",
       "      <th></th>\n",
       "      <th>id</th>\n",
       "      <th>title</th>\n",
       "      <th>url</th>\n",
       "      <th>categories</th>\n",
       "      <th>labels</th>\n",
       "      <th>can_be_opened</th>\n",
       "    </tr>\n",
       "  </thead>\n",
       "  <tbody>\n",
       "    <tr>\n",
       "      <th>0</th>\n",
       "      <td>74785910</td>\n",
       "      <td>\"Carnevale di Torino\". Felice Cerruti - f.lli ...</td>\n",
       "      <td>1/13/\"Carnevale_di_Torino\"._Felice_Cerruti_-_f...</td>\n",
       "      <td>[Felice Cerruti Bauduc, Victor Emmanuel II of ...</td>\n",
       "      <td>[Places, Society]</td>\n",
       "      <td>True</td>\n",
       "    </tr>\n",
       "    <tr>\n",
       "      <th>1</th>\n",
       "      <td>14890941</td>\n",
       "      <td>\"Escena de playa con figura\".jpg</td>\n",
       "      <td>c/c2/\"Escena_de_playa_con_figura\".jpg</td>\n",
       "      <td>[Pedro Lira, People with dogs in art]</td>\n",
       "      <td>[Culture, Entertainment]</td>\n",
       "      <td>True</td>\n",
       "    </tr>\n",
       "    <tr>\n",
       "      <th>2</th>\n",
       "      <td>17073242</td>\n",
       "      <td>\"Mary Holiday\" - NARA - 559051.jpg</td>\n",
       "      <td>0/02/\"Mary_Holiday\"_-_NARA_-_559051.jpg</td>\n",
       "      <td>[Art of the United States, Harmon Foundation, ...</td>\n",
       "      <td>[Culture, History, Society]</td>\n",
       "      <td>True</td>\n",
       "    </tr>\n",
       "    <tr>\n",
       "      <th>3</th>\n",
       "      <td>5259480</td>\n",
       "      <td>\"The End of the 'Forty Five' Rebellion\".jpg</td>\n",
       "      <td>c/c7/\"The_End_of_the_'Forty_Five'_Rebellion\".jpg</td>\n",
       "      <td>[Battle of Culloden, 1882 engravings, Wounded ...</td>\n",
       "      <td>[Culture, History]</td>\n",
       "      <td>True</td>\n",
       "    </tr>\n",
       "    <tr>\n",
       "      <th>4</th>\n",
       "      <td>67898619</td>\n",
       "      <td>\"Woman are too sentimental for jury duty\" -Ant...</td>\n",
       "      <td>f/f0/\"Woman_are_too_sentimental_for_jury_duty\"...</td>\n",
       "      <td>[Pro-suffrage cartoons, Kenneth R. Chamberlain...</td>\n",
       "      <td>[Culture, Politics, Society]</td>\n",
       "      <td>True</td>\n",
       "    </tr>\n",
       "  </tbody>\n",
       "</table>\n",
       "</div>"
      ],
      "text/plain": [
       "         id                                              title  \\\n",
       "0  74785910  \"Carnevale di Torino\". Felice Cerruti - f.lli ...   \n",
       "1  14890941                   \"Escena de playa con figura\".jpg   \n",
       "2  17073242                 \"Mary Holiday\" - NARA - 559051.jpg   \n",
       "3   5259480        \"The End of the 'Forty Five' Rebellion\".jpg   \n",
       "4  67898619  \"Woman are too sentimental for jury duty\" -Ant...   \n",
       "\n",
       "                                                 url  \\\n",
       "0  1/13/\"Carnevale_di_Torino\"._Felice_Cerruti_-_f...   \n",
       "1              c/c2/\"Escena_de_playa_con_figura\".jpg   \n",
       "2            0/02/\"Mary_Holiday\"_-_NARA_-_559051.jpg   \n",
       "3   c/c7/\"The_End_of_the_'Forty_Five'_Rebellion\".jpg   \n",
       "4  f/f0/\"Woman_are_too_sentimental_for_jury_duty\"...   \n",
       "\n",
       "                                          categories  \\\n",
       "0  [Felice Cerruti Bauduc, Victor Emmanuel II of ...   \n",
       "1              [Pedro Lira, People with dogs in art]   \n",
       "2  [Art of the United States, Harmon Foundation, ...   \n",
       "3  [Battle of Culloden, 1882 engravings, Wounded ...   \n",
       "4  [Pro-suffrage cartoons, Kenneth R. Chamberlain...   \n",
       "\n",
       "                         labels  can_be_opened  \n",
       "0             [Places, Society]           True  \n",
       "1      [Culture, Entertainment]           True  \n",
       "2   [Culture, History, Society]           True  \n",
       "3            [Culture, History]           True  \n",
       "4  [Culture, Politics, Society]           True  "
      ]
     },
     "execution_count": 29,
     "metadata": {},
     "output_type": "execute_result"
    }
   ],
   "source": [
    "NAIVE_LABELS_PATH = 'data/commonswiki-20220220-files-naive-labels.json.bz2'\n",
    "naive_labels = pd.read_json(NAIVE_LABELS_PATH)\n",
    "\n",
    "# With this \"better_url\" only 190k images aren't found, while with \"url\" 790k aren't found\n",
    "naive_labels['url'] = naive_labels['url'].apply(lambda encoded_filename : urllib.parse.unquote(encoded_filename).encode().decode('unicode-escape'))\n",
    "naive_labels['can_be_opened'] = naive_labels['url'].apply(lambda url : os.path.isfile('/scratch/WIT_Dataset/images/' + url))\n",
    "naive_labels.rename(columns={'new_labels': 'labels'}, inplace=True)\n",
    "print(f'Total number of files: {naive_labels.shape[0]}.')\n",
    "\n",
    "# Only keep the files that can be opened\n",
    "naive_labels = naive_labels.loc[naive_labels.can_be_opened == True].reset_index(drop=True)\n",
    "\n",
    "print(f'Total number of files that can be opened: {naive_labels.shape[0]}.')\n",
    "\n",
    "print(naive_labels.shape)\n",
    "naive_labels.head()"
   ]
  },
  {
   "cell_type": "markdown",
   "metadata": {},
   "source": [
    "### Remove classes with less than $10^4$ images"
   ]
  },
  {
   "cell_type": "code",
   "execution_count": 30,
   "metadata": {},
   "outputs": [
    {
     "name": "stdout",
     "output_type": "stream",
     "text": [
      "Found 1817975 non-validated image filenames belonging to 42 classes.\n"
     ]
    }
   ],
   "source": [
    "_generator = ImageDataGenerator() \n",
    "_data = _generator.flow_from_dataframe(dataframe=naive_labels, \n",
    "                                       directory='/scratch/WIT_Dataset/images', \n",
    "                                       x_col='url', \n",
    "                                       y_col='labels', \n",
    "                                       class_mode='categorical', \n",
    "                                       validate_filenames=False)\n",
    "\n",
    "y_true = get_y_true(_data.samples, _data.class_indices, _data.classes)"
   ]
  },
  {
   "cell_type": "markdown",
   "metadata": {},
   "source": [
    "Plot distribution of images per category."
   ]
  },
  {
   "cell_type": "code",
   "execution_count": 31,
   "metadata": {},
   "outputs": [
    {
     "data": {
      "text/plain": [
       "<matplotlib.legend.Legend at 0x7fb5236d0e20>"
      ]
     },
     "execution_count": 31,
     "metadata": {},
     "output_type": "execute_result"
    },
    {
     "data": {
      "image/png": "[encoded data removed]",
      "text/plain": [
       "<Figure size 864x648 with 1 Axes>"
      ]
     },
     "metadata": {
      "needs_background": "light"
     },
     "output_type": "display_data"
    }
   ],
   "source": [
    "sorted_indices = np.argsort(np.sum(y_true, axis=0))\n",
    "sorted_images_per_class = y_true.sum(axis=0)[sorted_indices]\n",
    "\n",
    "mask_kept = y_true.sum(axis=0)[sorted_indices] > MINIMAL_NR_IMAGES\n",
    "mask_removed = y_true.sum(axis=0)[sorted_indices] < MINIMAL_NR_IMAGES\n",
    "\n",
    "_ = plt.figure(figsize=(12, 9))\n",
    "_ = plt.title('Number of times a label is assigned to image (log-scale x-axis)')\n",
    "\n",
    "_ = plt.barh(np.array(range(y_true.shape[1]))[mask_kept], sorted_images_per_class[mask_kept], color='blue', alpha=0.6)\n",
    "_ = plt.barh(np.array(range(y_true.shape[1]))[mask_removed], sorted_images_per_class[mask_removed], color='red', alpha=0.6)\n",
    "\n",
    "_ = plt.yticks(range(y_true.shape[1]), np.array(list(_data.class_indices.keys()))[sorted_indices])\n",
    "_ = plt.xscale('log')\n",
    "_ = plt.xlabel('Count')\n",
    "_ = plt.ylabel('Naive labels')\n",
    "_ = plt.grid(True)\n",
    "\n",
    "plt.legend(['Kept', 'Removed'], loc='upper right')"
   ]
  },
  {
   "cell_type": "markdown",
   "metadata": {},
   "source": [
    "Now, remove these labels from the naive_labels, and remove the images that were only belonging to these labels from the naive_labels dataframe."
   ]
  },
  {
   "cell_type": "code",
   "execution_count": 32,
   "metadata": {},
   "outputs": [
    {
     "name": "stdout",
     "output_type": "stream",
     "text": [
      "Removed 774 images that were only labeled as the removed labels. Left with 1.82 M images.\n"
     ]
    }
   ],
   "source": [
    "indices_of_classes_to_remove = np.where(np.sum(y_true, axis=0) < MINIMAL_NR_IMAGES)\n",
    "classes_to_remove = np.array(list(_data.class_indices.keys()))[indices_of_classes_to_remove]\n",
    "\n",
    "naive_labels['labels'] = naive_labels['labels'].apply(lambda labels: [el for el in labels if el not in classes_to_remove])\n",
    "naive_labels_clean = naive_labels[naive_labels['labels'].str.len() != 0]\n",
    "print(f'Removed {naive_labels.shape[0] - naive_labels_clean.shape[0]} images that were only labeled as the removed labels. Left with {naive_labels_clean.shape[0]/1e6:.2f} M images.')"
   ]
  },
  {
   "cell_type": "markdown",
   "metadata": {},
   "source": [
    "### Split data and create generators with augmentations"
   ]
  },
  {
   "cell_type": "code",
   "execution_count": 33,
   "metadata": {},
   "outputs": [
    {
     "name": "stdout",
     "output_type": "stream",
     "text": [
      "Train set: 1726340 images (0.95%)\n",
      "Test set:  90861  images (0.05%)\n"
     ]
    }
   ],
   "source": [
    "from sklearn.model_selection import train_test_split\n",
    "split = False\n",
    "\n",
    "if split:\n",
    "    train_df, test_df = train_test_split(naive_labels_clean, test_size=0.05, random_state=17)\n",
    "\n",
    "    print(f'Train set: {train_df.shape[0]} images ({train_df.shape[0] / naive_labels.shape[0]:.2f}%)')\n",
    "    print(f'Test set:  {test_df.shape[0]}  images ({test_df.shape[0] / naive_labels.shape[0]:.2f}%)')\n",
    "\n",
    "    train_df.to_json('data/splitted_dfs_20220528/train_df.json.bz2', compression='bz2')\n",
    "    test_df.to_json('data/splitted_dfs_20220528/test_df.json.bz2', compression='bz2')\n",
    "else:\n",
    "    train_df = pd.read_json('data/splitted_dfs_20220528/train_df.json.bz2', compression='bz2')\n",
    "    test_df = pd.read_json('data/splitted_dfs_20220528/test_df.json.bz2', compression='bz2')"
   ]
  },
  {
   "cell_type": "markdown",
   "metadata": {},
   "source": [
    "Divide dataset into train and validation sets"
   ]
  },
  {
   "cell_type": "code",
   "execution_count": 88,
   "metadata": {},
   "outputs": [
    {
     "name": "stdout",
     "output_type": "stream",
     "text": [
      "\n",
      "----------- Train images -----------\n"
     ]
    },
    {
     "name": "stderr",
     "output_type": "stream",
     "text": [
      "/home/matvieir/anaconda3/lib/python3.8/site-packages/keras_preprocessing/image/dataframe_iterator.py:279: UserWarning: Found 8286 invalid image filename(s) in x_col=\"url\". These filename(s) will be ignored.\n",
      "  warnings.warn(\n"
     ]
    },
    {
     "name": "stdout",
     "output_type": "stream",
     "text": [
      "Found 1632152 validated image filenames belonging to 26 classes.\n",
      "\n",
      "----------- Validation images -----------\n"
     ]
    },
    {
     "name": "stderr",
     "output_type": "stream",
     "text": [
      "/home/matvieir/anaconda3/lib/python3.8/site-packages/keras_preprocessing/image/dataframe_iterator.py:279: UserWarning: Found 8286 invalid image filename(s) in x_col=\"url\". These filename(s) will be ignored.\n",
      "  warnings.warn(\n"
     ]
    },
    {
     "name": "stdout",
     "output_type": "stream",
     "text": [
      "Found 85902 validated image filenames belonging to 26 classes.\n",
      "\n",
      "----------- Test images -----------\n"
     ]
    },
    {
     "name": "stderr",
     "output_type": "stream",
     "text": [
      "/home/matvieir/anaconda3/lib/python3.8/site-packages/keras_preprocessing/image/dataframe_iterator.py:279: UserWarning: Found 439 invalid image filename(s) in x_col=\"url\". These filename(s) will be ignored.\n",
      "  warnings.warn(\n"
     ]
    },
    {
     "name": "stdout",
     "output_type": "stream",
     "text": [
      "Found 90422 validated image filenames belonging to 26 classes.\n"
     ]
    }
   ],
   "source": [
    "# Data generator for training and validation sets, performs data augmentations\n",
    "train_generator = ImageDataGenerator(validation_split=0.05, \n",
    "                                     rotation_range=40,\n",
    "                                     width_shift_range=0.2,\n",
    "                                     height_shift_range=0.2,\n",
    "                                     shear_range=0.2,\n",
    "                                     zoom_range=0.2,\n",
    "                                     horizontal_flip=True,\n",
    "                                     fill_mode='nearest') \n",
    "\n",
    "print('\\n----------- Train images -----------')\n",
    "train = train_generator.flow_from_dataframe(dataframe=train_df, \n",
    "                                            directory='/scratch/WIT_Dataset/images', \n",
    "                                            x_col='url', \n",
    "                                            y_col='labels', \n",
    "                                            class_mode='categorical',\n",
    "                                            subset='training',\n",
    "                                            batch_size=32,\n",
    "                                            validate_filenames=True,\n",
    "                                            target_size=(IMAGE_DIMENSION, IMAGE_DIMENSION))\n",
    "\n",
    "print('\\n----------- Validation images -----------')          \n",
    "val = train_generator.flow_from_dataframe(dataframe=train_df, \n",
    "                                          directory='/scratch/WIT_Dataset/images', \n",
    "                                          x_col='url', \n",
    "                                          y_col='labels', \n",
    "                                          class_mode='categorical',\n",
    "                                          subset='validation',\n",
    "                                          validate_filenames=True,\n",
    "                                          target_size=(IMAGE_DIMENSION, IMAGE_DIMENSION))\n",
    "\n",
    "# Data generator for test set\n",
    "test_generator = ImageDataGenerator() \n",
    "print('\\n----------- Test images -----------')          \n",
    "test = test_generator.flow_from_dataframe(dataframe=test_df,\n",
    "                                          directory='/scratch/WIT_Dataset/images',\n",
    "                                          x_col='url', \n",
    "                                          y_col='labels', \n",
    "                                          class_mode='categorical',\n",
    "                                          validate_filenames=True,\n",
    "                                          target_size=(IMAGE_DIMENSION, IMAGE_DIMENSION))"
   ]
  },
  {
   "cell_type": "markdown",
   "metadata": {},
   "source": [
    "### 2. Construct and train model\n",
    "Here, we construct a model where the first layers are EfficientNetB0 pre-trained on ImageNet-1k(https://keras.io/api/applications/efficientnet/) with added layers to the end, and train these final end layers with our training data."
   ]
  },
  {
   "cell_type": "code",
   "execution_count": 91,
   "metadata": {},
   "outputs": [
    {
     "name": "stdout",
     "output_type": "stream",
     "text": [
      "Model: \"sequential_1\"\n",
      "_________________________________________________________________\n",
      "Layer (type)                 Output Shape              Param #   \n",
      "=================================================================\n",
      "efficientnetb0 (Functional)  (None, 2, 2, 1280)        4049571   \n",
      "_________________________________________________________________\n",
      "flatten_1 (Flatten)          (None, 5120)              0         \n",
      "_________________________________________________________________\n",
      "dense_2 (Dense)              (None, 128)               655488    \n",
      "_________________________________________________________________\n",
      "dense_3 (Dense)              (None, 26)                3354      \n",
      "=================================================================\n",
      "Total params: 4,708,413\n",
      "Trainable params: 658,842\n",
      "Non-trainable params: 4,049,571\n",
      "_________________________________________________________________\n"
     ]
    }
   ],
   "source": [
    "from tensorflow.keras.applications import EfficientNetB0\n",
    "from tensorflow.keras.layers import GlobalAveragePooling2D, Dense, Dropout\n",
    "from tensorflow.keras.preprocessing.image import ImageDataGenerator\n",
    "from tensorflow.keras import optimizers\n",
    "from tensorflow.keras.callbacks import ModelCheckpoint\n",
    "from tensorflow import keras\n",
    "from tensorflow.keras import layers\n",
    "from tensorflow.keras.models import Sequential\n",
    "\n",
    "N_LABELS = len(train.class_indices)\n",
    "\n",
    "def create_model():\n",
    "    \"\"\"Take efficientnet pre-trained on imagenet-1k, not including the last layer.\"\"\"\n",
    "    efficient_net = EfficientNetB0(include_top=False, \n",
    "                                   weights='imagenet', \n",
    "                                   classes=N_LABELS,\n",
    "                                   input_shape=(IMAGE_DIMENSION, IMAGE_DIMENSION, 3))\n",
    "    efficient_net.trainable=False\n",
    "\n",
    "    model = Sequential([\n",
    "        efficient_net,\n",
    "        layers.Flatten(),\n",
    "        layers.Dense(128, activation='relu'),\n",
    "        layers.Dense(N_CLASSES, activation='sigmoid')\n",
    "    ])\n",
    "\n",
    "    model.compile(optimizer=tf.keras.optimizers.Adam(),\n",
    "                  loss='binary_crossentropy',\n",
    "                  metrics=['accuracy'])\n",
    "\n",
    "    model.summary()\n",
    "    return model\n",
    "\n",
    "model = create_model()"
   ]
  },
  {
   "cell_type": "code",
   "execution_count": 86,
   "metadata": {},
   "outputs": [],
   "source": [
    "# y_true = get_y_true(train.samples, train.class_indices, train.classes)\n",
    "\n",
    "# def compute_class_weights(y_true):\n",
    "#     \"\"\"\n",
    "#     Computes class_weights to compensate imbalanced classes. Inspired in \n",
    "#     'https://towardsdatascience.com/dealing-with-imbalanced-data-in-tensorflow-class-weights-60f876911f99'.\n",
    "#     Dictionary mapping class indices (integers) to a weight (float) value, \n",
    "#     used for weighting the loss function (during training only).\n",
    "#     \"\"\"\n",
    "#     class_count = y_true.sum(axis=0)\n",
    "#     n_samples = y_true.shape[0] \n",
    "#     n_classes = y_true.shape[1]\n",
    "\n",
    "#     # Compute class weights using balanced method\n",
    "#     class_weights = [n_samples / (n_classes * freq) if freq > 0 else 1 for freq in class_count]\n",
    "#     class_labels = range(len(class_weights))\n",
    "#     return dict(zip(class_labels, class_weights))\n",
    "\n",
    "# class_weights = compute_class_weights(y_true)#dict(enumerate(y_true.sum().sum() / y_true.sum(axis=0)))\n",
    "# print(class_weights)"
   ]
  },
  {
   "cell_type": "code",
   "execution_count": null,
   "metadata": {},
   "outputs": [
    {
     "name": "stdout",
     "output_type": "stream",
     "text": [
      "Epoch 1/15\n",
      "  247/51005 [..............................] - ETA: 6:49:57 - loss: 0.1725 - accuracy: 0.2661"
     ]
    }
   ],
   "source": [
    "# Save the weights using the `checkpoint_path` format\n",
    "checkpoint_path = \"checkpoints/naive_26_labels_no_weights_20220528/cp-{epoch:04d}.ckpt\"\n",
    "checkpoint_dir = os.path.dirname(checkpoint_path)\n",
    "cp_callback = tf.keras.callbacks.ModelCheckpoint(filepath=checkpoint_path, save_weights_only=True, verbose=1)\n",
    "model.save_weights(checkpoint_path.format(epoch=0))\n",
    "\n",
    "history = model.fit(train, \n",
    "                    epochs=EPOCHS, \n",
    "                    validation_data=val,\n",
    "                    verbose=1,\n",
    "                    callbacks=[cp_callback],\n",
    "                    # class_weight=class_weights,\n",
    "                   )\n",
    "                    "
   ]
  },
  {
   "cell_type": "markdown",
   "metadata": {},
   "source": [
    "Plot training vs validation accuracy and loss"
   ]
  },
  {
   "cell_type": "code",
   "execution_count": 19,
   "metadata": {},
   "outputs": [
    {
     "data": {
      "image/png": "[encoded data removed]",
      "text/plain": [
       "<Figure size 864x360 with 2 Axes>"
      ]
     },
     "metadata": {
      "needs_background": "light"
     },
     "output_type": "display_data"
    }
   ],
   "source": [
    "acc = history.history['accuracy']\n",
    "val_acc = history.history['val_accuracy']\n",
    "\n",
    "cat_acc = history.history['categorical_accuracy']\n",
    "val_cat_acc = history.history['val_categorical_accuracy']\n",
    "\n",
    "loss = history.history['loss']\n",
    "val_loss = history.history['val_loss']\n",
    "\n",
    "epochs_range = range(EPOCHS)\n",
    "\n",
    "plt.figure(figsize=(12, 5))\n",
    "\n",
    "plt.subplot(1, 2, 1)\n",
    "plt.xlabel('Epoch')\n",
    "plt.ylim(-0.01, 0.5)\n",
    "plt.grid(True)\n",
    "plt.plot(epochs_range, acc, label='Training Accuracy')\n",
    "plt.plot(epochs_range, val_acc, label='Validation Accuracy')\n",
    "plt.legend(loc='upper right')\n",
    "plt.title('Training and Validation Accuracy')\n",
    "\n",
    "plt.subplot(1, 3, 2)\n",
    "plt.plot(epochs_range, cat_acc, label='Training Accuracy')\n",
    "plt.plot(epochs_range, val_cat_acc, label='Validation Accuracy')\n",
    "plt.legend(loc='lower right')\n",
    "plt.title('Training and Validation Categorical Accuracy')\n",
    "\n",
    "plt.subplot(1, 2, 2)\n",
    "plt.xlabel('Epoch')\n",
    "plt.ylim(0, 0.5)\n",
    "plt.grid(True)\n",
    "plt.plot(epochs_range, loss, label='Training Loss')\n",
    "plt.plot(epochs_range, val_loss, label='Validation Loss')\n",
    "plt.legend(loc='upper right')\n",
    "plt.title('Training and Validation Loss')\n",
    "plt.show()"
   ]
  },
  {
   "cell_type": "markdown",
   "metadata": {},
   "source": [
    "### 3. Evaluation metrics\n",
    "Here, we evaluate the trained model on the test set and take out classification metrics (precision & recall) for each of the individual 64 classes."
   ]
  },
  {
   "cell_type": "code",
   "execution_count": 70,
   "metadata": {},
   "outputs": [],
   "source": [
    "# y_true_test = get_y_true(test.samples, test.class_indices, test.classes)\n",
    "\n",
    "# sorted_indices = np.argsort(np.sum(y_true_test, axis=0))\n",
    "# sorted_images_per_class = y_true_test.sum(axis=0)[sorted_indices]\n",
    "\n",
    "# # mask_kept = y_true.sum(axis=0)[sorted_indices] > MINIMAL_NR_IMAGES\n",
    "# # mask_removed = y_true.sum(axis=0)[sorted_indices] < MINIMAL_NR_IMAGES\n",
    "\n",
    "# _ = plt.figure(figsize=(12, 15))\n",
    "# _ = plt.title('Number of times a label is assigned to image (log-scale x-axis)')\n",
    "\n",
    "# _ = plt.barh(np.array(range(y_true_test.shape[1])), sorted_images_per_class, color='blue', alpha=0.6)\n",
    "# # _ = plt.barh(np.array(range(y_true.shape[1])), sorted_images_per_class, color='red', alpha=0.6)\n",
    "\n",
    "# _ = plt.yticks(range(y_true_test.shape[1]), np.array(list(_data.class_indices.keys()))[sorted_indices])\n",
    "# _ = plt.xscale('log')\n",
    "# _ = plt.xlabel('Count')\n",
    "# _ = plt.grid(True)\n",
    "# balance_test(test.classes, list(test.class_indices.keys()), test_df)\n",
    "# classes = test.classes\n",
    "# class_names = list(test.class_indices.keys())\n",
    "\n",
    "# y_true = get_y_true(classes)\n",
    "\n",
    "# sorted_indices = np.argsort(np.sum(y_true, axis=0))\n",
    "# sorted_class_names = np.array(list(class_names))[sorted_indices]\n",
    "# least_common_class = sorted_class_names[0]\n",
    "# balanced_classes = []\n",
    "# row_ids = []\n",
    "\n",
    "# counter = 0 \n",
    "# for index, row in test_df.iterrows():\n",
    "#     counter += 1\n",
    "#     print(counter)\n",
    "#     if counter % 10 == 0:\n",
    "#         print(f'hej{balanced_classes}')\n",
    "#         y_true = get_y_true(balanced_classes, 40)\n",
    "#         print(y_true)\n",
    "#         sorted_indices = np.argsort(np.sum(y_true, axis=0))\n",
    "# #         print(sorted_indices)\n",
    "#         sorted_class_names = np.array(class_names)[sorted_indices]\n",
    "#         least_common_class = sorted_class_names[0]\n",
    "#     if least_common_class in row.labels:\n",
    "#         balanced_classes.append(row.labels)\n",
    "#         row_ids.append(index)\n",
    "\n",
    "# test_df.loc[row_ids, :]"
   ]
  },
  {
   "cell_type": "code",
   "execution_count": 5,
   "metadata": {},
   "outputs": [
    {
     "name": "stderr",
     "output_type": "stream",
     "text": [
      "/home/matvieir/anaconda3/lib/python3.8/site-packages/keras_preprocessing/image/dataframe_iterator.py:279: UserWarning: Found 15694 invalid image filename(s) in x_col=\"image_path\". These filename(s) will be ignored.\n",
      "  warnings.warn(\n"
     ]
    },
    {
     "name": "stdout",
     "output_type": "stream",
     "text": [
      "Found 86423 validated image filenames belonging to 40 classes.\n"
     ]
    }
   ],
   "source": [
    "IMAGE_DIMENSION = 64\n",
    "test_df = pd.read_json('data/test_df.json.bz2', compression='bz2')\n",
    "test_generator = ImageDataGenerator(rescale=1/255) \n",
    "test = test_generator.flow_from_dataframe(dataframe=test_df, directory='/scratch/WIT_Dataset/images',\n",
    "                                                  x_col='image_path', y_col='taxo_labels', \n",
    "                                                  class_mode='categorical', validate_filenames=True,\n",
    "                                                  target_size=(IMAGE_DIMENSION, IMAGE_DIMENSION))\n"
   ]
  },
  {
   "cell_type": "code",
   "execution_count": 3,
   "metadata": {},
   "outputs": [],
   "source": [
    "model = tf.keras.models.load_model('saved_model/my_model')"
   ]
  },
  {
   "cell_type": "code",
   "execution_count": 6,
   "metadata": {},
   "outputs": [
    {
     "name": "stderr",
     "output_type": "stream",
     "text": [
      "/home/matvieir/anaconda3/lib/python3.8/site-packages/PIL/Image.py:962: UserWarning: Palette images with Transparency expressed in bytes should be converted to RGBA images\n",
      "  warnings.warn(\n"
     ]
    }
   ],
   "source": [
    "predictions = model.predict(test)"
   ]
  },
  {
   "cell_type": "code",
   "execution_count": 8,
   "metadata": {},
   "outputs": [
    {
     "data": {
      "text/plain": [
       "array([[0.25024658, 0.0389429 , 0.01601201, ..., 0.23332831, 0.0126566 ,\n",
       "        0.0201067 ],\n",
       "       [0.25054488, 0.03894585, 0.01600251, ..., 0.23355052, 0.01266322,\n",
       "        0.02005428],\n",
       "       [0.25082082, 0.03893194, 0.01597461, ..., 0.23321131, 0.01266599,\n",
       "        0.02014324],\n",
       "       ...,\n",
       "       [0.2506966 , 0.03900784, 0.01602477, ..., 0.23370165, 0.0126873 ,\n",
       "        0.02007321],\n",
       "       [0.25063866, 0.03892347, 0.0159682 , ..., 0.23319528, 0.01264963,\n",
       "        0.02010173],\n",
       "       [0.2506582 , 0.03898385, 0.01597679, ..., 0.23311535, 0.01264817,\n",
       "        0.02009624]], dtype=float32)"
      ]
     },
     "execution_count": 8,
     "metadata": {},
     "output_type": "execute_result"
    }
   ],
   "source": [
    "predictions"
   ]
  },
  {
   "cell_type": "code",
   "execution_count": 13,
   "metadata": {},
   "outputs": [],
   "source": [
    "threshold = 0.2\n",
    "y_pred = 1 * (predictions > threshold)\n",
    "# with open('checkpoints/y_pred', 'rb') as f:\n",
    "#     y_pred = np.load(f) "
   ]
  },
  {
   "cell_type": "code",
   "execution_count": 15,
   "metadata": {},
   "outputs": [
    {
     "name": "stdout",
     "output_type": "stream",
     "text": [
      "[[1 0 0 ... 1 0 0]\n",
      " [1 0 0 ... 1 0 0]\n",
      " [1 0 0 ... 1 0 0]\n",
      " ...\n",
      " [1 0 0 ... 1 0 0]\n",
      " [1 0 0 ... 1 0 0]\n",
      " [1 0 0 ... 1 0 0]]\n"
     ]
    }
   ],
   "source": [
    "print(y_pred)"
   ]
  },
  {
   "cell_type": "code",
   "execution_count": 16,
   "metadata": {},
   "outputs": [],
   "source": [
    "# Transform 'test.classes' to a one-hot encoded matrix, y_true\n",
    "y_true = np.zeros(y_pred.shape)\n",
    "for row_idx, row in enumerate(test.classes):\n",
    "    for idx in row:\n",
    "        y_true[row_idx, idx] = 1"
   ]
  },
  {
   "cell_type": "markdown",
   "metadata": {},
   "source": [
    "Make predictions on the test set and then get classification metrics"
   ]
  },
  {
   "cell_type": "code",
   "execution_count": 21,
   "metadata": {},
   "outputs": [
    {
     "data": {
      "text/plain": [
       "0.5"
      ]
     },
     "execution_count": 21,
     "metadata": {},
     "output_type": "execute_result"
    }
   ],
   "source": [
    "from sklearn.metrics import average_precision_score, accuracy_score, roc_auc_score\n",
    "\n",
    "# micro, samples, weighted, macro\n",
    "# accuracy_score(y_true, y_pred)\n",
    "roc_auc_score(y_true, y_pred)\n"
   ]
  },
  {
   "cell_type": "code",
   "execution_count": 22,
   "metadata": {},
   "outputs": [
    {
     "name": "stderr",
     "output_type": "stream",
     "text": [
      "/home/matvieir/anaconda3/lib/python3.8/site-packages/sklearn/metrics/_classification.py:1245: UndefinedMetricWarning: Precision and F-score are ill-defined and being set to 0.0 in labels with no predicted samples. Use `zero_division` parameter to control this behavior.\n",
      "  _warn_prf(average, modifier, msg_start, len(result))\n"
     ]
    },
    {
     "data": {
      "text/html": [
       "<div>\n",
       "<style scoped>\n",
       "    .dataframe tbody tr th:only-of-type {\n",
       "        vertical-align: middle;\n",
       "    }\n",
       "\n",
       "    .dataframe tbody tr th {\n",
       "        vertical-align: top;\n",
       "    }\n",
       "\n",
       "    .dataframe thead th {\n",
       "        text-align: right;\n",
       "    }\n",
       "</style>\n",
       "<table border=\"1\" class=\"dataframe\">\n",
       "  <thead>\n",
       "    <tr style=\"text-align: right;\">\n",
       "      <th></th>\n",
       "      <th>precision</th>\n",
       "      <th>recall</th>\n",
       "      <th>f1-score</th>\n",
       "      <th>support</th>\n",
       "      <th>index</th>\n",
       "    </tr>\n",
       "  </thead>\n",
       "  <tbody>\n",
       "    <tr>\n",
       "      <th>Culture.Biography.Biography*</th>\n",
       "      <td>0.260232</td>\n",
       "      <td>1.000000</td>\n",
       "      <td>0.412990</td>\n",
       "      <td>22490.0</td>\n",
       "      <td>0</td>\n",
       "    </tr>\n",
       "    <tr>\n",
       "      <th>Culture.Biography.Women</th>\n",
       "      <td>0.000000</td>\n",
       "      <td>0.000000</td>\n",
       "      <td>0.000000</td>\n",
       "      <td>3605.0</td>\n",
       "      <td>1</td>\n",
       "    </tr>\n",
       "    <tr>\n",
       "      <th>Culture.Food and drink</th>\n",
       "      <td>0.000000</td>\n",
       "      <td>0.000000</td>\n",
       "      <td>0.000000</td>\n",
       "      <td>1133.0</td>\n",
       "      <td>2</td>\n",
       "    </tr>\n",
       "    <tr>\n",
       "      <th>Culture.Literature</th>\n",
       "      <td>0.000000</td>\n",
       "      <td>0.000000</td>\n",
       "      <td>0.000000</td>\n",
       "      <td>1905.0</td>\n",
       "      <td>3</td>\n",
       "    </tr>\n",
       "    <tr>\n",
       "      <th>Culture.Media.Media*</th>\n",
       "      <td>0.000000</td>\n",
       "      <td>0.000000</td>\n",
       "      <td>0.000000</td>\n",
       "      <td>5886.0</td>\n",
       "      <td>4</td>\n",
       "    </tr>\n",
       "    <tr>\n",
       "      <th>Culture.Media.Music</th>\n",
       "      <td>0.000000</td>\n",
       "      <td>0.000000</td>\n",
       "      <td>0.000000</td>\n",
       "      <td>2931.0</td>\n",
       "      <td>5</td>\n",
       "    </tr>\n",
       "    <tr>\n",
       "      <th>Culture.Philosophy and religion</th>\n",
       "      <td>0.000000</td>\n",
       "      <td>0.000000</td>\n",
       "      <td>0.000000</td>\n",
       "      <td>3201.0</td>\n",
       "      <td>6</td>\n",
       "    </tr>\n",
       "    <tr>\n",
       "      <th>Culture.Sports</th>\n",
       "      <td>0.000000</td>\n",
       "      <td>0.000000</td>\n",
       "      <td>0.000000</td>\n",
       "      <td>7307.0</td>\n",
       "      <td>7</td>\n",
       "    </tr>\n",
       "    <tr>\n",
       "      <th>Culture.Visual arts.Architecture</th>\n",
       "      <td>0.000000</td>\n",
       "      <td>0.000000</td>\n",
       "      <td>0.000000</td>\n",
       "      <td>5371.0</td>\n",
       "      <td>8</td>\n",
       "    </tr>\n",
       "    <tr>\n",
       "      <th>Culture.Visual arts.Visual arts*</th>\n",
       "      <td>0.000000</td>\n",
       "      <td>0.000000</td>\n",
       "      <td>0.000000</td>\n",
       "      <td>7965.0</td>\n",
       "      <td>9</td>\n",
       "    </tr>\n",
       "    <tr>\n",
       "      <th>Geography.Geographical</th>\n",
       "      <td>0.000000</td>\n",
       "      <td>0.000000</td>\n",
       "      <td>0.000000</td>\n",
       "      <td>9229.0</td>\n",
       "      <td>10</td>\n",
       "    </tr>\n",
       "    <tr>\n",
       "      <th>Geography.Regions.Africa.Africa*</th>\n",
       "      <td>0.000000</td>\n",
       "      <td>0.000000</td>\n",
       "      <td>0.000000</td>\n",
       "      <td>1450.0</td>\n",
       "      <td>11</td>\n",
       "    </tr>\n",
       "    <tr>\n",
       "      <th>Geography.Regions.Americas.North America</th>\n",
       "      <td>0.000000</td>\n",
       "      <td>0.000000</td>\n",
       "      <td>0.000000</td>\n",
       "      <td>14198.0</td>\n",
       "      <td>12</td>\n",
       "    </tr>\n",
       "    <tr>\n",
       "      <th>Geography.Regions.Americas.South America</th>\n",
       "      <td>0.000000</td>\n",
       "      <td>0.000000</td>\n",
       "      <td>0.000000</td>\n",
       "      <td>1919.0</td>\n",
       "      <td>13</td>\n",
       "    </tr>\n",
       "    <tr>\n",
       "      <th>Geography.Regions.Asia.Asia*</th>\n",
       "      <td>0.000000</td>\n",
       "      <td>0.000000</td>\n",
       "      <td>0.000000</td>\n",
       "      <td>9577.0</td>\n",
       "      <td>14</td>\n",
       "    </tr>\n",
       "    <tr>\n",
       "      <th>Geography.Regions.Asia.East Asia</th>\n",
       "      <td>0.000000</td>\n",
       "      <td>0.000000</td>\n",
       "      <td>0.000000</td>\n",
       "      <td>3110.0</td>\n",
       "      <td>15</td>\n",
       "    </tr>\n",
       "    <tr>\n",
       "      <th>Geography.Regions.Asia.North Asia</th>\n",
       "      <td>0.000000</td>\n",
       "      <td>0.000000</td>\n",
       "      <td>0.000000</td>\n",
       "      <td>1247.0</td>\n",
       "      <td>16</td>\n",
       "    </tr>\n",
       "    <tr>\n",
       "      <th>Geography.Regions.Asia.South Asia</th>\n",
       "      <td>0.000000</td>\n",
       "      <td>0.000000</td>\n",
       "      <td>0.000000</td>\n",
       "      <td>2091.0</td>\n",
       "      <td>17</td>\n",
       "    </tr>\n",
       "    <tr>\n",
       "      <th>Geography.Regions.Asia.Southeast Asia</th>\n",
       "      <td>0.000000</td>\n",
       "      <td>0.000000</td>\n",
       "      <td>0.000000</td>\n",
       "      <td>1611.0</td>\n",
       "      <td>18</td>\n",
       "    </tr>\n",
       "    <tr>\n",
       "      <th>Geography.Regions.Asia.West Asia</th>\n",
       "      <td>0.000000</td>\n",
       "      <td>0.000000</td>\n",
       "      <td>0.000000</td>\n",
       "      <td>1649.0</td>\n",
       "      <td>19</td>\n",
       "    </tr>\n",
       "    <tr>\n",
       "      <th>Geography.Regions.Europe.Eastern Europe</th>\n",
       "      <td>0.000000</td>\n",
       "      <td>0.000000</td>\n",
       "      <td>0.000000</td>\n",
       "      <td>4470.0</td>\n",
       "      <td>20</td>\n",
       "    </tr>\n",
       "    <tr>\n",
       "      <th>Geography.Regions.Europe.Europe*</th>\n",
       "      <td>0.380165</td>\n",
       "      <td>1.000000</td>\n",
       "      <td>0.550898</td>\n",
       "      <td>32855.0</td>\n",
       "      <td>21</td>\n",
       "    </tr>\n",
       "    <tr>\n",
       "      <th>Geography.Regions.Europe.Northern Europe</th>\n",
       "      <td>0.000000</td>\n",
       "      <td>0.000000</td>\n",
       "      <td>0.000000</td>\n",
       "      <td>8689.0</td>\n",
       "      <td>22</td>\n",
       "    </tr>\n",
       "    <tr>\n",
       "      <th>Geography.Regions.Europe.Southern Europe</th>\n",
       "      <td>0.000000</td>\n",
       "      <td>0.000000</td>\n",
       "      <td>0.000000</td>\n",
       "      <td>6177.0</td>\n",
       "      <td>23</td>\n",
       "    </tr>\n",
       "    <tr>\n",
       "      <th>Geography.Regions.Europe.Western Europe</th>\n",
       "      <td>0.000000</td>\n",
       "      <td>0.000000</td>\n",
       "      <td>0.000000</td>\n",
       "      <td>14209.0</td>\n",
       "      <td>24</td>\n",
       "    </tr>\n",
       "    <tr>\n",
       "      <th>Geography.Regions.Oceania</th>\n",
       "      <td>0.000000</td>\n",
       "      <td>0.000000</td>\n",
       "      <td>0.000000</td>\n",
       "      <td>2687.0</td>\n",
       "      <td>25</td>\n",
       "    </tr>\n",
       "    <tr>\n",
       "      <th>History and Society.Business and economics</th>\n",
       "      <td>0.000000</td>\n",
       "      <td>0.000000</td>\n",
       "      <td>0.000000</td>\n",
       "      <td>3502.0</td>\n",
       "      <td>26</td>\n",
       "    </tr>\n",
       "    <tr>\n",
       "      <th>History and Society.Education</th>\n",
       "      <td>0.000000</td>\n",
       "      <td>0.000000</td>\n",
       "      <td>0.000000</td>\n",
       "      <td>1219.0</td>\n",
       "      <td>27</td>\n",
       "    </tr>\n",
       "    <tr>\n",
       "      <th>History and Society.History</th>\n",
       "      <td>0.000000</td>\n",
       "      <td>0.000000</td>\n",
       "      <td>0.000000</td>\n",
       "      <td>4290.0</td>\n",
       "      <td>28</td>\n",
       "    </tr>\n",
       "    <tr>\n",
       "      <th>History and Society.Military and warfare</th>\n",
       "      <td>0.000000</td>\n",
       "      <td>0.000000</td>\n",
       "      <td>0.000000</td>\n",
       "      <td>5502.0</td>\n",
       "      <td>29</td>\n",
       "    </tr>\n",
       "    <tr>\n",
       "      <th>History and Society.Politics and government</th>\n",
       "      <td>0.000000</td>\n",
       "      <td>0.000000</td>\n",
       "      <td>0.000000</td>\n",
       "      <td>5196.0</td>\n",
       "      <td>30</td>\n",
       "    </tr>\n",
       "    <tr>\n",
       "      <th>History and Society.Society</th>\n",
       "      <td>0.000000</td>\n",
       "      <td>0.000000</td>\n",
       "      <td>0.000000</td>\n",
       "      <td>2652.0</td>\n",
       "      <td>31</td>\n",
       "    </tr>\n",
       "    <tr>\n",
       "      <th>History and Society.Transportation</th>\n",
       "      <td>0.000000</td>\n",
       "      <td>0.000000</td>\n",
       "      <td>0.000000</td>\n",
       "      <td>6707.0</td>\n",
       "      <td>32</td>\n",
       "    </tr>\n",
       "    <tr>\n",
       "      <th>STEM.Biology</th>\n",
       "      <td>0.000000</td>\n",
       "      <td>0.000000</td>\n",
       "      <td>0.000000</td>\n",
       "      <td>10271.0</td>\n",
       "      <td>33</td>\n",
       "    </tr>\n",
       "    <tr>\n",
       "      <th>STEM.Earth and environment</th>\n",
       "      <td>0.000000</td>\n",
       "      <td>0.000000</td>\n",
       "      <td>0.000000</td>\n",
       "      <td>1489.0</td>\n",
       "      <td>34</td>\n",
       "    </tr>\n",
       "    <tr>\n",
       "      <th>STEM.Engineering</th>\n",
       "      <td>0.000000</td>\n",
       "      <td>0.000000</td>\n",
       "      <td>0.000000</td>\n",
       "      <td>3837.0</td>\n",
       "      <td>35</td>\n",
       "    </tr>\n",
       "    <tr>\n",
       "      <th>STEM.Medicine &amp; Health</th>\n",
       "      <td>0.000000</td>\n",
       "      <td>0.000000</td>\n",
       "      <td>0.000000</td>\n",
       "      <td>949.0</td>\n",
       "      <td>36</td>\n",
       "    </tr>\n",
       "    <tr>\n",
       "      <th>STEM.STEM*</th>\n",
       "      <td>0.220497</td>\n",
       "      <td>1.000000</td>\n",
       "      <td>0.361323</td>\n",
       "      <td>19056.0</td>\n",
       "      <td>37</td>\n",
       "    </tr>\n",
       "    <tr>\n",
       "      <th>STEM.Space</th>\n",
       "      <td>0.000000</td>\n",
       "      <td>0.000000</td>\n",
       "      <td>0.000000</td>\n",
       "      <td>1268.0</td>\n",
       "      <td>38</td>\n",
       "    </tr>\n",
       "    <tr>\n",
       "      <th>STEM.Technology</th>\n",
       "      <td>0.000000</td>\n",
       "      <td>0.000000</td>\n",
       "      <td>0.000000</td>\n",
       "      <td>1760.0</td>\n",
       "      <td>39</td>\n",
       "    </tr>\n",
       "    <tr>\n",
       "      <th>micro avg</th>\n",
       "      <td>0.286965</td>\n",
       "      <td>0.304100</td>\n",
       "      <td>0.295284</td>\n",
       "      <td>244660.0</td>\n",
       "      <td>None</td>\n",
       "    </tr>\n",
       "    <tr>\n",
       "      <th>macro avg</th>\n",
       "      <td>0.021522</td>\n",
       "      <td>0.075000</td>\n",
       "      <td>0.033130</td>\n",
       "      <td>244660.0</td>\n",
       "      <td>None</td>\n",
       "    </tr>\n",
       "    <tr>\n",
       "      <th>weighted avg</th>\n",
       "      <td>0.092147</td>\n",
       "      <td>0.304100</td>\n",
       "      <td>0.140085</td>\n",
       "      <td>244660.0</td>\n",
       "      <td>None</td>\n",
       "    </tr>\n",
       "    <tr>\n",
       "      <th>samples avg</th>\n",
       "      <td>0.286965</td>\n",
       "      <td>0.317758</td>\n",
       "      <td>0.286126</td>\n",
       "      <td>244660.0</td>\n",
       "      <td>None</td>\n",
       "    </tr>\n",
       "  </tbody>\n",
       "</table>\n",
       "</div>"
      ],
      "text/plain": [
       "                                             precision    recall  f1-score  \\\n",
       "Culture.Biography.Biography*                  0.260232  1.000000  0.412990   \n",
       "Culture.Biography.Women                       0.000000  0.000000  0.000000   \n",
       "Culture.Food and drink                        0.000000  0.000000  0.000000   \n",
       "Culture.Literature                            0.000000  0.000000  0.000000   \n",
       "Culture.Media.Media*                          0.000000  0.000000  0.000000   \n",
       "Culture.Media.Music                           0.000000  0.000000  0.000000   \n",
       "Culture.Philosophy and religion               0.000000  0.000000  0.000000   \n",
       "Culture.Sports                                0.000000  0.000000  0.000000   \n",
       "Culture.Visual arts.Architecture              0.000000  0.000000  0.000000   \n",
       "Culture.Visual arts.Visual arts*              0.000000  0.000000  0.000000   \n",
       "Geography.Geographical                        0.000000  0.000000  0.000000   \n",
       "Geography.Regions.Africa.Africa*              0.000000  0.000000  0.000000   \n",
       "Geography.Regions.Americas.North America      0.000000  0.000000  0.000000   \n",
       "Geography.Regions.Americas.South America      0.000000  0.000000  0.000000   \n",
       "Geography.Regions.Asia.Asia*                  0.000000  0.000000  0.000000   \n",
       "Geography.Regions.Asia.East Asia              0.000000  0.000000  0.000000   \n",
       "Geography.Regions.Asia.North Asia             0.000000  0.000000  0.000000   \n",
       "Geography.Regions.Asia.South Asia             0.000000  0.000000  0.000000   \n",
       "Geography.Regions.Asia.Southeast Asia         0.000000  0.000000  0.000000   \n",
       "Geography.Regions.Asia.West Asia              0.000000  0.000000  0.000000   \n",
       "Geography.Regions.Europe.Eastern Europe       0.000000  0.000000  0.000000   \n",
       "Geography.Regions.Europe.Europe*              0.380165  1.000000  0.550898   \n",
       "Geography.Regions.Europe.Northern Europe      0.000000  0.000000  0.000000   \n",
       "Geography.Regions.Europe.Southern Europe      0.000000  0.000000  0.000000   \n",
       "Geography.Regions.Europe.Western Europe       0.000000  0.000000  0.000000   \n",
       "Geography.Regions.Oceania                     0.000000  0.000000  0.000000   \n",
       "History and Society.Business and economics    0.000000  0.000000  0.000000   \n",
       "History and Society.Education                 0.000000  0.000000  0.000000   \n",
       "History and Society.History                   0.000000  0.000000  0.000000   \n",
       "History and Society.Military and warfare      0.000000  0.000000  0.000000   \n",
       "History and Society.Politics and government   0.000000  0.000000  0.000000   \n",
       "History and Society.Society                   0.000000  0.000000  0.000000   \n",
       "History and Society.Transportation            0.000000  0.000000  0.000000   \n",
       "STEM.Biology                                  0.000000  0.000000  0.000000   \n",
       "STEM.Earth and environment                    0.000000  0.000000  0.000000   \n",
       "STEM.Engineering                              0.000000  0.000000  0.000000   \n",
       "STEM.Medicine & Health                        0.000000  0.000000  0.000000   \n",
       "STEM.STEM*                                    0.220497  1.000000  0.361323   \n",
       "STEM.Space                                    0.000000  0.000000  0.000000   \n",
       "STEM.Technology                               0.000000  0.000000  0.000000   \n",
       "micro avg                                     0.286965  0.304100  0.295284   \n",
       "macro avg                                     0.021522  0.075000  0.033130   \n",
       "weighted avg                                  0.092147  0.304100  0.140085   \n",
       "samples avg                                   0.286965  0.317758  0.286126   \n",
       "\n",
       "                                              support index  \n",
       "Culture.Biography.Biography*                  22490.0     0  \n",
       "Culture.Biography.Women                        3605.0     1  \n",
       "Culture.Food and drink                         1133.0     2  \n",
       "Culture.Literature                             1905.0     3  \n",
       "Culture.Media.Media*                           5886.0     4  \n",
       "Culture.Media.Music                            2931.0     5  \n",
       "Culture.Philosophy and religion                3201.0     6  \n",
       "Culture.Sports                                 7307.0     7  \n",
       "Culture.Visual arts.Architecture               5371.0     8  \n",
       "Culture.Visual arts.Visual arts*               7965.0     9  \n",
       "Geography.Geographical                         9229.0    10  \n",
       "Geography.Regions.Africa.Africa*               1450.0    11  \n",
       "Geography.Regions.Americas.North America      14198.0    12  \n",
       "Geography.Regions.Americas.South America       1919.0    13  \n",
       "Geography.Regions.Asia.Asia*                   9577.0    14  \n",
       "Geography.Regions.Asia.East Asia               3110.0    15  \n",
       "Geography.Regions.Asia.North Asia              1247.0    16  \n",
       "Geography.Regions.Asia.South Asia              2091.0    17  \n",
       "Geography.Regions.Asia.Southeast Asia          1611.0    18  \n",
       "Geography.Regions.Asia.West Asia               1649.0    19  \n",
       "Geography.Regions.Europe.Eastern Europe        4470.0    20  \n",
       "Geography.Regions.Europe.Europe*              32855.0    21  \n",
       "Geography.Regions.Europe.Northern Europe       8689.0    22  \n",
       "Geography.Regions.Europe.Southern Europe       6177.0    23  \n",
       "Geography.Regions.Europe.Western Europe       14209.0    24  \n",
       "Geography.Regions.Oceania                      2687.0    25  \n",
       "History and Society.Business and economics     3502.0    26  \n",
       "History and Society.Education                  1219.0    27  \n",
       "History and Society.History                    4290.0    28  \n",
       "History and Society.Military and warfare       5502.0    29  \n",
       "History and Society.Politics and government    5196.0    30  \n",
       "History and Society.Society                    2652.0    31  \n",
       "History and Society.Transportation             6707.0    32  \n",
       "STEM.Biology                                  10271.0    33  \n",
       "STEM.Earth and environment                     1489.0    34  \n",
       "STEM.Engineering                               3837.0    35  \n",
       "STEM.Medicine & Health                          949.0    36  \n",
       "STEM.STEM*                                    19056.0    37  \n",
       "STEM.Space                                     1268.0    38  \n",
       "STEM.Technology                                1760.0    39  \n",
       "micro avg                                    244660.0  None  \n",
       "macro avg                                    244660.0  None  \n",
       "weighted avg                                 244660.0  None  \n",
       "samples avg                                  244660.0  None  "
      ]
     },
     "execution_count": 22,
     "metadata": {},
     "output_type": "execute_result"
    }
   ],
   "source": [
    "from sklearn.metrics import classification_report\n",
    "N_CLASSES = y_true.shape[1]\n",
    "metrics_df = pd.DataFrame(classification_report(y_true, y_pred, target_names=list(test.class_indices), output_dict=True)).transpose()\n",
    "metrics_df['index'] = np.concatenate((np.arange(start=0, stop=N_CLASSES), [None, None, None, None]))\n",
    "metrics_df"
   ]
  },
  {
   "cell_type": "markdown",
   "metadata": {},
   "source": [
    "Precision & recall metrics for each class"
   ]
  },
  {
   "cell_type": "code",
   "execution_count": 23,
   "metadata": {},
   "outputs": [
    {
     "data": {
      "image/png": "[encoded data removed]",
      "text/plain": [
       "<Figure size 864x864 with 2 Axes>"
      ]
     },
     "metadata": {
      "needs_background": "light"
     },
     "output_type": "display_data"
    }
   ],
   "source": [
    "fig, axs = plt.subplots(1, 2, figsize=(12,12))\n",
    "\n",
    "# Precision\n",
    "sorted_indices_precision = np.argsort(metrics_df.precision[0:N_CLASSES])\n",
    "sorted_precisions_per_class = metrics_df.precision[0:N_CLASSES][sorted_indices_precision]\n",
    "# Recall\n",
    "sorted_indices_recall = np.argsort(metrics_df.recall[0:N_CLASSES])\n",
    "sorted_recalls_per_class = metrics_df.recall[0:N_CLASSES][sorted_indices_recall]\n",
    "\n",
    "axs[0].set_title('Precision per class')\n",
    "axs[0].barh(range(y_true.shape[1]), sorted_precisions_per_class, color='blue', alpha=0.6)\n",
    "axs[0].set_yticks(range(N_CLASSES))\n",
    "axs[0].set_yticklabels(np.array(list(test.class_indices.keys()))[sorted_indices_precision])\n",
    "axs[0].set_xlabel('Precision')\n",
    "axs[0].grid(True)\n",
    "\n",
    "\n",
    "axs[1].set_title('Recall per class')\n",
    "axs[1].barh(range(y_true.shape[1]), sorted_recalls_per_class, color='blue', alpha=0.6)\n",
    "axs[1].set_yticks(range(N_CLASSES))\n",
    "axs[1].set_yticklabels([])\n",
    "axs[1].set_xlabel('Recall')\n",
    "axs[1].grid(True)"
   ]
  }
 ],
 "metadata": {
  "interpreter": {
   "hash": "b7f323a1c2c8b3d38dc94a01188981c510c9b5df10e2cc2d7fa4f2b45d318cbd"
  },
  "kernelspec": {
   "display_name": "Python 3",
   "language": "python",
   "name": "python3"
  }
 },
 "nbformat": 4,
 "nbformat_minor": 2
}
