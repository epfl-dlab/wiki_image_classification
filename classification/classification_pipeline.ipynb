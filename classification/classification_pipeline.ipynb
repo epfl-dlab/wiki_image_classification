{
 "cells": [
  {
   "cell_type": "code",
   "execution_count": 47,
   "metadata": {},
   "outputs": [
    {
     "name": "stdout",
     "output_type": "stream",
     "text": [
      "2.3.0\n"
     ]
    }
   ],
   "source": [
    "# TensorFlow and tf.keras\n",
    "import tensorflow as tf\n",
    "\n",
    "# Helper libraries\n",
    "import numpy as np\n",
    "import json\n",
    "import bz2\n",
    "import urllib.parse\n",
    "import pandas as pd\n",
    "import matplotlib.pyplot as plt\n",
    "import os\n",
    "\n",
    "from tensorflow import keras \n",
    "from tensorflow.keras.preprocessing.image import ImageDataGenerator\n",
    "\n",
    "print(tf.__version__)"
   ]
  },
  {
   "cell_type": "code",
   "execution_count": 48,
   "metadata": {},
   "outputs": [
    {
     "name": "stdout",
     "output_type": "stream",
     "text": [
      "Num GPUs Available: 2\n"
     ]
    }
   ],
   "source": [
    "print(f\"Num GPUs Available: {len(tf.config.list_physical_devices('GPU'))}\")"
   ]
  },
  {
   "cell_type": "markdown",
   "metadata": {},
   "source": [
    "Functions to be put in helpfile"
   ]
  },
  {
   "cell_type": "code",
   "execution_count": 12,
   "metadata": {},
   "outputs": [],
   "source": [
    "def get_y_true(samples, class_indices, classes):\n",
    "    y_true = np.zeros((samples, len(class_indices))) # nr_rows=nr_images; nr_columns=nr_classes\n",
    "    for row_idx, row in enumerate(classes):\n",
    "        for idx in row:\n",
    "            y_true[row_idx, idx] = 1\n",
    "    return y_true\n",
    "\n",
    "# def get_y_true(classes, preset_nr_classes=0):\n",
    "#     \"\"\"Gets one-hot encoded matrix of format (nr_images)x(nr_classes).\"\"\"\n",
    "#     nr_images = len(classes)\n",
    "#     if not preset_nr_classes:\n",
    "#         nr_classes = len(set([item for sublist in classes for item in sublist]))\n",
    "#     else:\n",
    "#         nr_classes = preset_nr_classes\n",
    "#     y_true = np.zeros((nr_images, nr_classes))\n",
    "#     for row_idx, row in enumerate(classes):\n",
    "#         for idx in row:\n",
    "#             y_true[row_idx, idx] = 1\n",
    "#     return y_true\n",
    "\n",
    "def balance_test(classes, class_names, test_df):\n",
    "        \"\"\" \n",
    "        Constructs a sort of more balanced test set in a dummy way by adding to it only the images that contain \n",
    "        the - for the moment - most uncommon class.\n",
    "        Inputs:\n",
    "            - classes: [[]]\n",
    "            - class_names: list with all labels: \n",
    "            - test_df: dataframe with rows containing image files and labels\n",
    "        \"\"\"\n",
    "        y_true = get_y_true(classes)\n",
    "        sorted_indices = np.argsort(np.sum(y_true, axis=0))\n",
    "        sorted_class_names = np.array(list(class_names))[sorted_indices]\n",
    "        least_common_class = sorted_class_names[0]\n",
    "        balanced_classes = []\n",
    "        row_ids = []\n",
    "        counter = 0 \n",
    "        for index, row in test_df.iterrows():\n",
    "            counter += 1\n",
    "            if counter % 10 == 0:\n",
    "                y_true = get_y_true(balanced_classes, 40)\n",
    "                sorted_indices = np.argsort(np.sum(y_true, axis=0))\n",
    "                sorted_class_names = np.array(class_names)[sorted_indices]\n",
    "                least_common_class = sorted_class_names[0]\n",
    "            if least_common_class in row.labels:\n",
    "                balanced_classes.append(row.labels)\n",
    "                row_ids.append(index)\n",
    "\n",
    "        return test_df.loc[row_ids, :]\n",
    "    \n",
    "def plot_distribution(classes, class_names=[], description='None', plot_log=False, lims=()):\n",
    "    y_true = get_y_true(classes)\n",
    "    sorted_indices = np.argsort(np.sum(y_true, axis=0))\n",
    "    sorted_images_per_class = y_true.sum(axis=0)[sorted_indices]\n",
    "    plt.figure(figsize=(12, 15))\n",
    "    plt.title('Number of images per class' + description)\n",
    "    if plot_log:\n",
    "        plt.xscale('log')\n",
    "    if lims:\n",
    "        plt.xlim(lims)\n",
    "    plt.xlabel('Count')\n",
    "    plt.grid(True)\n",
    "    plt.barh(np.array(range(y_true.shape[1])), sorted_images_per_class, color='blue', alpha=0.65)\n",
    "    if class_names:\n",
    "        plt.yticks(range(y_true.shape[1]), np.array(list(class_names))[sorted_indices])\n"
   ]
  },
  {
   "cell_type": "markdown",
   "metadata": {},
   "source": [
    "### Hyperparameters"
   ]
  },
  {
   "cell_type": "code",
   "execution_count": 49,
   "metadata": {},
   "outputs": [],
   "source": [
    "from PIL import PngImagePlugin  \n",
    "\n",
    "EPOCHS = 15\n",
    "IMAGE_DIMENSION = 64\n",
    "MINIMAL_NR_IMAGES = 1_000\n",
    "LARGE_ENOUGH_NUMBER = 100\n",
    "PngImagePlugin.MAX_TEXT_CHUNK = LARGE_ENOUGH_NUMBER * (1024**2) # to avoid corrupted .png images"
   ]
  },
  {
   "cell_type": "markdown",
   "metadata": {},
   "source": [
    "## 1. Load train and test dataframes"
   ]
  },
  {
   "cell_type": "code",
   "execution_count": null,
   "metadata": {},
   "outputs": [],
   "source": [
    "train_df = pd.from_json('data/splitted_dfs_20220531/train_df.json.bz2', compression='bz2')\n",
    "test_df = pd.from_json('data/splitted_dfs_20220531/test_df.json.bz2', compression='bz2')"
   ]
  },
  {
   "cell_type": "markdown",
   "metadata": {},
   "source": [
    "### Create generators with augmentations"
   ]
  },
  {
   "cell_type": "code",
   "execution_count": 50,
   "metadata": {},
   "outputs": [],
   "source": [
    "# Data generator for training and validation sets, performs data augmentations\n",
    "train_generator = ImageDataGenerator(validation_split=0.05, \n",
    "                                     rotation_range=40,\n",
    "                                     width_shift_range=0.2,\n",
    "                                     height_shift_range=0.2,\n",
    "                                     shear_range=0.2,\n",
    "                                     zoom_range=0.2,\n",
    "                                     horizontal_flip=True,\n",
    "                                     fill_mode='nearest') \n",
    "\n",
    "print('\\n----------- Train images -----------')\n",
    "train = train_generator.flow_from_dataframe(dataframe=train_df, \n",
    "                                            directory='/scratch/WIT_Dataset/images', \n",
    "                                            x_col='url', \n",
    "                                            y_col='labels', \n",
    "                                            class_mode='categorical',\n",
    "                                            subset='training',\n",
    "                                            batch_size=32,\n",
    "                                            validate_filenames=True,\n",
    "                                            target_size=(IMAGE_DIMENSION, IMAGE_DIMENSION))\n",
    "\n",
    "print('\\n----------- Validation images -----------')          \n",
    "val = train_generator.flow_from_dataframe(dataframe=train_df, \n",
    "                                          directory='/scratch/WIT_Dataset/images', \n",
    "                                          x_col='url', \n",
    "                                          y_col='labels', \n",
    "                                          class_mode='categorical',\n",
    "                                          subset='validation',\n",
    "                                          validate_filenames=True,\n",
    "                                          target_size=(IMAGE_DIMENSION, IMAGE_DIMENSION))\n",
    "\n",
    "# Data generator for test set\n",
    "test_generator = ImageDataGenerator() \n",
    "print('\\n----------- Test images -----------')          \n",
    "test = test_generator.flow_from_dataframe(dataframe=test_df,\n",
    "                                          directory='/scratch/WIT_Dataset/images',\n",
    "                                          x_col='url', \n",
    "                                          y_col='labels', \n",
    "                                          batch_size=32,\n",
    "                                          class_mode='categorical',\n",
    "                                          validate_filenames=True,\n",
    "                                          target_size=(IMAGE_DIMENSION, IMAGE_DIMENSION))\n",
    "\n",
    "N_LABELS = len(train.class_indices)"
   ]
  },
  {
   "cell_type": "markdown",
   "metadata": {},
   "source": [
    "## 2. Construct and train model\n",
    "Here, we construct a model where the first layers are EfficientNetB0 pre-trained on ImageNet-1k(https://keras.io/api/applications/efficientnet/) with added layers to the end, and train these final end layers with our training data."
   ]
  },
  {
   "cell_type": "code",
   "execution_count": 51,
   "metadata": {},
   "outputs": [],
   "source": [
    "from tensorflow.keras.applications import EfficientNetB0\n",
    "from tensorflow.keras.layers import GlobalAveragePooling2D, Dense, Dropout\n",
    "from tensorflow.keras.preprocessing.image import ImageDataGenerator\n",
    "from tensorflow.keras import optimizers\n",
    "from tensorflow.keras.callbacks import ModelCheckpoint\n",
    "from tensorflow import keras\n",
    "from tensorflow.keras import layers\n",
    "from tensorflow.keras.models import Sequential\n",
    "\n",
    "\n",
    "def create_model():\n",
    "    \"\"\"Take efficientnet pre-trained on imagenet-1k, not including the last layer.\"\"\"\n",
    "    efficient_net = EfficientNetB0(include_top=False, \n",
    "                                   weights='imagenet', \n",
    "                                   classes=N_LABELS,\n",
    "                                   input_shape=(IMAGE_DIMENSION, IMAGE_DIMENSION, 3))\n",
    "    efficient_net.trainable=False\n",
    "\n",
    "    model = Sequential([\n",
    "        efficient_net,\n",
    "        layers.Flatten(),\n",
    "        layers.Dense(128, activation='relu'),\n",
    "        layers.Dense(N_LABELS, activation='sigmoid')\n",
    "    ])\n",
    "\n",
    "    model.compile(optimizer=tf.keras.optimizers.Adam(),\n",
    "                  loss='binary_crossentropy',\n",
    "                  metrics=['accuracy'])\n",
    "\n",
    "    model.summary()\n",
    "    return model\n",
    "\n",
    "model = create_model()"
   ]
  },
  {
   "cell_type": "code",
   "execution_count": 86,
   "metadata": {},
   "outputs": [],
   "source": [
    "# y_true = get_y_true(train.samples, train.class_indices, train.classes)\n",
    "\n",
    "# def compute_class_weights(y_true):\n",
    "#     \"\"\"\n",
    "#     Computes class_weights to compensate imbalanced classes. Inspired in \n",
    "#     'https://towardsdatascience.com/dealing-with-imbalanced-data-in-tensorflow-class-weights-60f876911f99'.\n",
    "#     Dictionary mapping class indices (integers) to a weight (float) value, \n",
    "#     used for weighting the loss function (during training only).\n",
    "#     \"\"\"\n",
    "#     class_count = y_true.sum(axis=0)\n",
    "#     n_samples = y_true.shape[0] \n",
    "#     n_classes = y_true.shape[1]\n",
    "\n",
    "#     # Compute class weights using balanced method\n",
    "#     class_weights = [n_samples / (n_classes * freq) if freq > 0 else 1 for freq in class_count]\n",
    "#     class_labels = range(len(class_weights))\n",
    "#     return dict(zip(class_labels, class_weights))\n",
    "\n",
    "# class_weights = compute_class_weights(y_true)#dict(enumerate(y_true.sum().sum() / y_true.sum(axis=0)))\n",
    "# print(class_weights)"
   ]
  },
  {
   "cell_type": "code",
   "execution_count": null,
   "metadata": {},
   "outputs": [
    {
     "name": "stdout",
     "output_type": "stream",
     "text": [
      "Epoch 1/15\n",
      "38551/51005 [=====================>........] - ETA: 1:50:04 - loss: 0.1479 - accuracy: 0.3282"
     ]
    }
   ],
   "source": [
    "# Save the weights using the `checkpoint_path` format\n",
    "# https://www.youtube.com/watch?v=HxtBIwfy0kM\n",
    "# https://www.tensorflow.org/tutorials/keras/save_and_load#checkpoint_callback_usage\n",
    "checkpoint_path = \"checkpoints/naive_26_labels_weights_20220531/cp-{epoch:04d}.ckpt\"\n",
    "checkpoint_dir = os.path.dirname(checkpoint_path)\n",
    "cp_callback = tf.keras.callbacks.ModelCheckpoint(filepath=checkpoint_path, \n",
    "                                                 save_weights_only=False, \n",
    "                                                 save_freq='epoch' # save after each epoch\n",
    "                                                 verbose=1)\n",
    "# https://stackoverflow.com/questions/41061457/keras-how-to-save-the-training-history-attribute-of-the-history-object\n",
    "history_callback = tf.keras.callbacks.CSVLogger('checkpoints/naive_26_labels_weights_20220531/history.csv', \n",
    "                                                separator=',', \n",
    "                                                append=True)\n",
    "\n",
    "model.save(checkpoint_path.format(epoch=0))\n",
    "\n",
    "history = model.fit(train, \n",
    "                    epochs=EPOCHS, \n",
    "                    validation_data=val,\n",
    "                    verbose=1,\n",
    "                    callbacks=[cp_callback, history_callback],\n",
    "                    # class_weight=class_weights,\n",
    "                   )\n",
    "                    "
   ]
  },
  {
   "cell_type": "markdown",
   "metadata": {},
   "source": [
    "Plot training vs validation accuracy and loss"
   ]
  },
  {
   "cell_type": "code",
   "execution_count": 1,
   "metadata": {},
   "outputs": [
    {
     "ename": "NameError",
     "evalue": "name 'history' is not defined",
     "output_type": "error",
     "traceback": [
      "\u001b[0;31m---------------------------------------------------------------------------\u001b[0m",
      "\u001b[0;31mNameError\u001b[0m                                 Traceback (most recent call last)",
      "\u001b[0;32m<ipython-input-1-6195d2d8781b>\u001b[0m in \u001b[0;36m<module>\u001b[0;34m\u001b[0m\n\u001b[0;32m----> 1\u001b[0;31m \u001b[0macc\u001b[0m \u001b[0;34m=\u001b[0m \u001b[0mhistory\u001b[0m\u001b[0;34m.\u001b[0m\u001b[0mhistory\u001b[0m\u001b[0;34m[\u001b[0m\u001b[0;34m'accuracy'\u001b[0m\u001b[0;34m]\u001b[0m\u001b[0;34m\u001b[0m\u001b[0;34m\u001b[0m\u001b[0m\n\u001b[0m\u001b[1;32m      2\u001b[0m \u001b[0mval_acc\u001b[0m \u001b[0;34m=\u001b[0m \u001b[0mhistory\u001b[0m\u001b[0;34m.\u001b[0m\u001b[0mhistory\u001b[0m\u001b[0;34m[\u001b[0m\u001b[0;34m'val_accuracy'\u001b[0m\u001b[0;34m]\u001b[0m\u001b[0;34m\u001b[0m\u001b[0;34m\u001b[0m\u001b[0m\n\u001b[1;32m      3\u001b[0m \u001b[0;34m\u001b[0m\u001b[0m\n\u001b[1;32m      4\u001b[0m \u001b[0mcat_acc\u001b[0m \u001b[0;34m=\u001b[0m \u001b[0mhistory\u001b[0m\u001b[0;34m.\u001b[0m\u001b[0mhistory\u001b[0m\u001b[0;34m[\u001b[0m\u001b[0;34m'categorical_accuracy'\u001b[0m\u001b[0;34m]\u001b[0m\u001b[0;34m\u001b[0m\u001b[0;34m\u001b[0m\u001b[0m\n\u001b[1;32m      5\u001b[0m \u001b[0mval_cat_acc\u001b[0m \u001b[0;34m=\u001b[0m \u001b[0mhistory\u001b[0m\u001b[0;34m.\u001b[0m\u001b[0mhistory\u001b[0m\u001b[0;34m[\u001b[0m\u001b[0;34m'val_categorical_accuracy'\u001b[0m\u001b[0;34m]\u001b[0m\u001b[0;34m\u001b[0m\u001b[0;34m\u001b[0m\u001b[0m\n",
      "\u001b[0;31mNameError\u001b[0m: name 'history' is not defined"
     ]
    }
   ],
   "source": [
    "# acc = history.history['accuracy']\n",
    "# val_acc = history.history['val_accuracy']\n",
    "\n",
    "# cat_acc = history.history['categorical_accuracy']\n",
    "# val_cat_acc = history.history['val_categorical_accuracy']\n",
    "\n",
    "# loss = history.history['loss']\n",
    "# val_loss = history.history['val_loss']\n",
    "\n",
    "# Read loss and accuracy values from .csv\n",
    "\n",
    "epochs_range = range(EPOCHS)\n",
    "\n",
    "plt.figure(figsize=(12, 5))\n",
    "\n",
    "plt.subplot(1, 2, 1)\n",
    "plt.xlabel('Epoch')\n",
    "plt.ylim(-0.01, 0.5)\n",
    "plt.grid(True)\n",
    "plt.plot(epochs_range, acc, label='Training Accuracy')\n",
    "plt.plot(epochs_range, val_acc, label='Validation Accuracy')\n",
    "plt.legend(loc='upper right')\n",
    "plt.title('Training and Validation Accuracy')\n",
    "\n",
    "plt.subplot(1, 3, 2)\n",
    "plt.plot(epochs_range, cat_acc, label='Training Accuracy')\n",
    "plt.plot(epochs_range, val_cat_acc, label='Validation Accuracy')\n",
    "plt.legend(loc='lower right')\n",
    "plt.title('Training and Validation Categorical Accuracy')\n",
    "\n",
    "plt.subplot(1, 2, 2)\n",
    "plt.xlabel('Epoch')\n",
    "plt.ylim(0, 0.5)\n",
    "plt.grid(True)\n",
    "plt.plot(epochs_range, loss, label='Training Loss')\n",
    "plt.plot(epochs_range, val_loss, label='Validation Loss')\n",
    "plt.legend(loc='upper right')\n",
    "plt.title('Training and Validation Loss')\n",
    "plt.show()"
   ]
  },
  {
   "cell_type": "markdown",
   "metadata": {},
   "source": [
    "### 3. Evaluation metrics\n",
    "Here, we evaluate the trained model on the test set and take out classification metrics (precision & recall) for each of the individual 64 classes."
   ]
  },
  {
   "cell_type": "code",
   "execution_count": 70,
   "metadata": {},
   "outputs": [],
   "source": [
    "# y_true_test = get_y_true(test.samples, test.class_indices, test.classes)\n",
    "\n",
    "# sorted_indices = np.argsort(np.sum(y_true_test, axis=0))\n",
    "# sorted_images_per_class = y_true_test.sum(axis=0)[sorted_indices]\n",
    "\n",
    "# # mask_kept = y_true.sum(axis=0)[sorted_indices] > MINIMAL_NR_IMAGES\n",
    "# # mask_removed = y_true.sum(axis=0)[sorted_indices] < MINIMAL_NR_IMAGES\n",
    "\n",
    "# _ = plt.figure(figsize=(12, 15))\n",
    "# _ = plt.title('Number of times a label is assigned to image (log-scale x-axis)')\n",
    "\n",
    "# _ = plt.barh(np.array(range(y_true_test.shape[1])), sorted_images_per_class, color='blue', alpha=0.6)\n",
    "# # _ = plt.barh(np.array(range(y_true.shape[1])), sorted_images_per_class, color='red', alpha=0.6)\n",
    "\n",
    "# _ = plt.yticks(range(y_true_test.shape[1]), np.array(list(_data.class_indices.keys()))[sorted_indices])\n",
    "# _ = plt.xscale('log')\n",
    "# _ = plt.xlabel('Count')\n",
    "# _ = plt.grid(True)\n",
    "# balance_test(test.classes, list(test.class_indices.keys()), test_df)\n",
    "# classes = test.classes\n",
    "# class_names = list(test.class_indices.keys())\n",
    "\n",
    "# y_true = get_y_true(classes)\n",
    "\n",
    "# sorted_indices = np.argsort(np.sum(y_true, axis=0))\n",
    "# sorted_class_names = np.array(list(class_names))[sorted_indices]\n",
    "# least_common_class = sorted_class_names[0]\n",
    "# balanced_classes = []\n",
    "# row_ids = []\n",
    "\n",
    "# counter = 0 \n",
    "# for index, row in test_df.iterrows():\n",
    "#     counter += 1\n",
    "#     print(counter)\n",
    "#     if counter % 10 == 0:\n",
    "#         print(f'hej{balanced_classes}')\n",
    "#         y_true = get_y_true(balanced_classes, 40)\n",
    "#         print(y_true)\n",
    "#         sorted_indices = np.argsort(np.sum(y_true, axis=0))\n",
    "# #         print(sorted_indices)\n",
    "#         sorted_class_names = np.array(class_names)[sorted_indices]\n",
    "#         least_common_class = sorted_class_names[0]\n",
    "#     if least_common_class in row.labels:\n",
    "#         balanced_classes.append(row.labels)\n",
    "#         row_ids.append(index)\n",
    "\n",
    "# test_df.loc[row_ids, :]"
   ]
  },
  {
   "cell_type": "code",
   "execution_count": 56,
   "metadata": {},
   "outputs": [
    {
     "name": "stderr",
     "output_type": "stream",
     "text": [
      " 25%|██▍       | 22334/90861 [00:13<00:32, 2087.54it/s]"
     ]
    },
    {
     "name": "stdout",
     "output_type": "stream",
     "text": [
      "f/f5/NASAJPLOpenSourceRover.webp\n"
     ]
    },
    {
     "name": "stderr",
     "output_type": "stream",
     "text": [
      " 41%|████      | 37080/90861 [00:20<00:28, 1862.43it/s]"
     ]
    },
    {
     "name": "stdout",
     "output_type": "stream",
     "text": [
      "d/d7/World_Scout_Jamboree_-_Punch_cartoon_-_Project_Gutenberg_eText_16628.png\n"
     ]
    },
    {
     "name": "stderr",
     "output_type": "stream",
     "text": [
      " 93%|█████████▎| 84337/90861 [01:15<00:33, 194.17it/s] "
     ]
    },
    {
     "name": "stdout",
     "output_type": "stream",
     "text": [
      "2/25/Viruses-07-02761-g001.webp\n"
     ]
    },
    {
     "name": "stderr",
     "output_type": "stream",
     "text": [
      "100%|██████████| 90861/90861 [01:26<00:00, 1048.17it/s]\n"
     ]
    }
   ],
   "source": [
    "import PIL\n",
    "from pathlib import Path\n",
    "from PIL import Image, UnidentifiedImageError\n",
    "from tqdm import tqdm\n",
    "\n",
    "for index, row in tqdm(test_df.iterrows(), total=test_df.shape[0]):\n",
    "    try:\n",
    "        img = Image.open('/scratch/WIT_Dataset/images/' + row.url)\n",
    "    except PIL.UnidentifiedImageError:\n",
    "        print(row.url)\n",
    "        test_df.at[index, 'can_be_opened'] = False"
   ]
  },
  {
   "cell_type": "code",
   "execution_count": 57,
   "metadata": {},
   "outputs": [
    {
     "name": "stderr",
     "output_type": "stream",
     "text": [
      "/home/matvieir/anaconda3/lib/python3.8/site-packages/keras_preprocessing/image/dataframe_iterator.py:279: UserWarning: Found 437 invalid image filename(s) in x_col=\"url\". These filename(s) will be ignored.\n",
      "  warnings.warn(\n"
     ]
    },
    {
     "name": "stdout",
     "output_type": "stream",
     "text": [
      "Found 90421 validated image filenames belonging to 26 classes.\n"
     ]
    }
   ],
   "source": [
    "test_df = test_df.loc[test_df.can_be_opened == True].reset_index(drop=True)\n",
    "test = test_generator.flow_from_dataframe(dataframe=test_df,\n",
    "                                          directory='/scratch/WIT_Dataset/images',\n",
    "                                          x_col='url', \n",
    "                                          y_col='labels', \n",
    "                                          batch_size=32,\n",
    "                                          class_mode='categorical',\n",
    "                                          validate_filenames=True,\n",
    "                                          target_size=(IMAGE_DIMENSION, IMAGE_DIMENSION))"
   ]
  },
  {
   "cell_type": "code",
   "execution_count": 80,
   "metadata": {},
   "outputs": [
    {
     "name": "stdout",
     "output_type": "stream",
     "text": [
      "hello 2.235\n"
     ]
    }
   ],
   "source": [
    "print('hello {}'.format(round(2.235245, 3)))"
   ]
  },
  {
   "cell_type": "code",
   "execution_count": 84,
   "metadata": {},
   "outputs": [
    {
     "name": "stdout",
     "output_type": "stream",
     "text": [
      "ROC AUC: 0.5013\n",
      "                  precision    recall  f1-score   support index\n",
      "Animals            0.003531  0.564263  0.007018     319.0     0\n",
      "Art                0.001029  0.640449  0.002054      89.0     1\n",
      "Astronomy          0.000741  0.024096  0.001437     166.0     2\n",
      "Biology            0.002532  0.502165  0.005038     231.0     3\n",
      "Chemistry          0.002217  0.144578  0.004368     249.0     4\n",
      "Culture            0.300143  0.456024  0.362016   27174.0     5\n",
      "Electrical eng     0.000480  0.630435  0.000958      46.0     6\n",
      "Entertainment      0.026141  0.105741  0.041919    2421.0     7\n",
      "Events             0.014815  0.806525  0.029095    1318.0     8\n",
      "History            0.230598  0.707660  0.347847   20784.0     9\n",
      "Language           0.008933  0.551122  0.017582     802.0    10\n",
      "Literature         0.002980  0.473451  0.005923     226.0    11\n",
      "Marine organisms   0.001114  0.729167  0.002225      96.0    12\n",
      "Mathematics        0.000974  0.790698  0.001946      86.0    13\n",
      "Music              0.003521  0.053191  0.006605     282.0    14\n",
      "Nature             0.169779  0.394687  0.237426   15435.0    15\n",
      "Objects            0.030900  0.631964  0.058920    2872.0    16\n",
      "People             0.066759  0.388908  0.113956    5968.0    17\n",
      "Physics            0.002137  0.262295  0.004239     183.0    18\n",
      "Places             0.441199  0.388671  0.413272   39720.0    19\n",
      "Plants             0.013429  0.227586  0.025361    1160.0    20\n",
      "Politics           0.039995  0.352376  0.071837    3641.0    21\n",
      "Science            0.021781  0.522889  0.041819    1966.0    22\n",
      "Society            0.221748  0.491556  0.305624   20191.0    23\n",
      "Sports             0.033070  0.813830  0.063558    3008.0    24\n",
      "Technology         0.022081  0.733734  0.042872    1998.0    25\n",
      "micro avg          0.064329  0.476438  0.113353  150431.0  None\n",
      "macro avg          0.063947  0.476464  0.085189  150431.0  None\n",
      "weighted avg       0.255935  0.476438  0.299010  150431.0  None\n",
      "samples avg        0.064126  0.468379  0.108793  150431.0  None\n",
      "\n",
      "\n",
      " ----------- PER-CLASS ACCURACY ----------- \n",
      " \n",
      "Animals 0/319 == 0.0\n",
      "Art 0/89 == 0.0\n",
      "Astronomy 0/166 == 0.0\n",
      "Biology 0/231 == 0.0\n",
      "Chemistry 0/249 == 0.0\n",
      "Culture 1934/27174 == 0.071\n",
      "Electrical eng 0/46 == 0.0\n",
      "Entertainment 3/2421 == 0.001\n",
      "Events 0/1318 == 0.0\n",
      "History 614/20784 == 0.03\n",
      "Language 0/802 == 0.0\n",
      "Literature 0/226 == 0.0\n",
      "Marine organisms 0/96 == 0.0\n",
      "Mathematics 0/86 == 0.0\n",
      "Music 0/282 == 0.0\n",
      "Nature 748/15435 == 0.048\n",
      "Objects 1/2872 == 0.0\n",
      "People 0/5968 == 0.0\n",
      "Physics 0/183 == 0.0\n",
      "Places 13896/39720 == 0.35\n",
      "Plants 1/1160 == 0.001\n",
      "Politics 1/3641 == 0.0\n",
      "Science 3/1966 == 0.002\n",
      "Society 327/20191 == 0.016\n",
      "Sports 31/3008 == 0.01\n",
      "Technology 3/1998 == 0.002\n"
     ]
    },
    {
     "data": {
      "image/png": "[encoded data removed]",
      "text/plain": [
       "<Figure size 864x864 with 2 Axes>"
      ]
     },
     "metadata": {
      "needs_background": "light"
     },
     "output_type": "display_data"
    }
   ],
   "source": [
    "from sklearn.metrics import average_precision_score, accuracy_score, roc_auc_score, classification_report\n",
    "\n",
    "# model = create_model()\n",
    "# predictions_2 = model.predict(test, verbose=1)\n",
    "# threshold = 0.5\n",
    "y_pred = 1 * (predictions_2 > threshold)\n",
    "y_true = np.zeros(y_pred.shape)\n",
    "for row_idx, row in enumerate(test.classes):\n",
    "    for idx in row:\n",
    "        y_true[row_idx, idx] = 1\n",
    "print(f'ROC AUC: {roc_auc_score(y_true, y_pred):.4f}')\n",
    "\n",
    "N_CLASSES = y_true.shape[1]\n",
    "metrics_df = pd.DataFrame(classification_report(y_true, y_pred, target_names=list(test.class_indices), output_dict=True)).transpose()\n",
    "metrics_df['index'] = np.concatenate((np.arange(start=0, stop=N_CLASSES), [None, None, None, None]))\n",
    "print(metrics_df)\n",
    "\n",
    "fig, axs = plt.subplots(1, 2, figsize=(12,12))\n",
    "\n",
    "# Precision\n",
    "sorted_indices_precision = np.argsort(metrics_df.precision[0:N_CLASSES])\n",
    "sorted_precisions_per_class = metrics_df.precision[0:N_CLASSES][sorted_indices_precision]\n",
    "# Recall\n",
    "sorted_indices_recall = np.argsort(metrics_df.recall[0:N_CLASSES])\n",
    "sorted_recalls_per_class = metrics_df.recall[0:N_CLASSES][sorted_indices_recall]\n",
    "\n",
    "print('\\n\\n ----------- PER-CLASS ACCURACY ----------- \\n ')\n",
    "# Per-class accuracy\n",
    "from collections import Counter\n",
    "total = Counter()\n",
    "correct = Counter()\n",
    "for i in range(len(test.classes)):\n",
    "    true_y = test.classes[i]\n",
    "    for l in true_y:\n",
    "        total[l]+=1\n",
    "    predicted_y = np.argwhere(predictions[i]>=0.5)\n",
    "    for p in predicted_y:\n",
    "        if p[0] in true_y:\n",
    "            correct[p[0]]+=1\n",
    "\n",
    "name_id_map = test.class_indices\n",
    "class_names = len(name_id_map)*[0]\n",
    "for k in name_id_map.keys():\n",
    "    class_names[name_id_map[k]] = k\n",
    "            \n",
    "for k in sorted(total.keys()):\n",
    "    print(class_names[k].split(\".\")[-1], \"{}/{} == {}\".format(correct[k], total[k], round(correct[k]/total[k], 3)))\n",
    "            \n",
    "# -----------------------------------------------------------\n",
    "    \n",
    "axs[0].set_title('Precision per class')\n",
    "axs[0].barh(range(y_true.shape[1]), sorted_precisions_per_class, color='blue', alpha=0.6)\n",
    "axs[0].set_yticks(range(N_CLASSES))\n",
    "axs[0].set_yticklabels(np.array(list(test.class_indices.keys()))[sorted_indices_precision])\n",
    "axs[0].set_xlabel('Precision')\n",
    "axs[0].grid(True)\n",
    "\n",
    "\n",
    "axs[1].set_title('Recall per class')\n",
    "axs[1].barh(range(y_true.shape[1]), sorted_recalls_per_class, color='blue', alpha=0.6)\n",
    "axs[1].set_yticks(range(N_CLASSES))\n",
    "axs[1].set_yticklabels([])\n",
    "axs[1].set_xlabel('Recall')\n",
    "axs[1].grid(True)"
   ]
  },
  {
   "cell_type": "markdown",
   "metadata": {},
   "source": [
    "Make predictions on the test set and then get classification metrics"
   ]
  },
  {
   "cell_type": "code",
   "execution_count": 85,
   "metadata": {},
   "outputs": [
    {
     "name": "stdout",
     "output_type": "stream",
     "text": [
      "ROC AUC: 0.5000\n"
     ]
    },
    {
     "name": "stderr",
     "output_type": "stream",
     "text": [
      "/home/matvieir/anaconda3/lib/python3.8/site-packages/sklearn/metrics/_classification.py:1245: UndefinedMetricWarning: Precision and F-score are ill-defined and being set to 0.0 in labels with no predicted samples. Use `zero_division` parameter to control this behavior.\n",
      "  _warn_prf(average, modifier, msg_start, len(result))\n",
      "/home/matvieir/anaconda3/lib/python3.8/site-packages/sklearn/metrics/_classification.py:1245: UndefinedMetricWarning: Precision and F-score are ill-defined and being set to 0.0 in samples with no predicted labels. Use `zero_division` parameter to control this behavior.\n",
      "  _warn_prf(average, modifier, msg_start, len(result))\n"
     ]
    },
    {
     "name": "stdout",
     "output_type": "stream",
     "text": [
      "                  precision    recall  f1-score   support index\n",
      "Animals            0.000000  0.000000  0.000000     319.0     0\n",
      "Art                0.000000  0.000000  0.000000      89.0     1\n",
      "Astronomy          0.000000  0.000000  0.000000     166.0     2\n",
      "Biology            0.000000  0.000000  0.000000     231.0     3\n",
      "Chemistry          0.000000  0.000000  0.000000     249.0     4\n",
      "Culture            0.290783  0.071171  0.114353   27174.0     5\n",
      "Electrical eng     0.000000  0.000000  0.000000      46.0     6\n",
      "Entertainment      0.032967  0.001239  0.002389    2421.0     7\n",
      "Events             0.000000  0.000000  0.000000    1318.0     8\n",
      "History            0.245698  0.029542  0.052742   20784.0     9\n",
      "Language           0.000000  0.000000  0.000000     802.0    10\n",
      "Literature         0.000000  0.000000  0.000000     226.0    11\n",
      "Marine organisms   0.000000  0.000000  0.000000      96.0    12\n",
      "Mathematics        0.000000  0.000000  0.000000      86.0    13\n",
      "Music              0.000000  0.000000  0.000000     282.0    14\n",
      "Nature             0.172152  0.048461  0.075632   15435.0    15\n",
      "Objects            0.250000  0.000348  0.000695    2872.0    16\n",
      "People             0.000000  0.000000  0.000000    5968.0    17\n",
      "Physics            0.000000  0.000000  0.000000     183.0    18\n",
      "Places             0.438733  0.349849  0.389282   39720.0    19\n",
      "Plants             0.003676  0.000862  0.001397    1160.0    20\n",
      "Politics           0.076923  0.000275  0.000547    3641.0    21\n",
      "Science            0.025210  0.001526  0.002878    1966.0    22\n",
      "Society            0.235083  0.016195  0.030303   20191.0    23\n",
      "Sports             0.037944  0.010306  0.016209    3008.0    24\n",
      "Technology         0.047619  0.001502  0.002911    1998.0    25\n",
      "micro avg          0.365175  0.116745  0.176927  150431.0  None\n",
      "macro avg          0.071415  0.020434  0.026513  150431.0  None\n",
      "weighted avg       0.260449  0.116745  0.143034  150431.0  None\n",
      "samples avg        0.184623  0.129759  0.143433  150431.0  None\n",
      "\n",
      "\n",
      " ----------- PER-CLASS ACCURACY ----------- \n",
      " \n",
      "Animals 0/319 == 0.0\n",
      "Art 0/89 == 0.0\n",
      "Astronomy 0/166 == 0.0\n",
      "Biology 0/231 == 0.0\n",
      "Chemistry 0/249 == 0.0\n",
      "Culture 1934/27174 == 0.071\n",
      "Electrical eng 0/46 == 0.0\n",
      "Entertainment 3/2421 == 0.001\n",
      "Events 0/1318 == 0.0\n",
      "History 614/20784 == 0.03\n",
      "Language 0/802 == 0.0\n",
      "Literature 0/226 == 0.0\n",
      "Marine organisms 0/96 == 0.0\n",
      "Mathematics 0/86 == 0.0\n",
      "Music 0/282 == 0.0\n",
      "Nature 748/15435 == 0.048\n",
      "Objects 1/2872 == 0.0\n",
      "People 0/5968 == 0.0\n",
      "Physics 0/183 == 0.0\n",
      "Places 13896/39720 == 0.35\n",
      "Plants 1/1160 == 0.001\n",
      "Politics 1/3641 == 0.0\n",
      "Science 3/1966 == 0.002\n",
      "Society 327/20191 == 0.016\n",
      "Sports 31/3008 == 0.01\n",
      "Technology 3/1998 == 0.002\n"
     ]
    },
    {
     "data": {
      "image/png": "[encoded data removed]",
      "text/plain": [
       "<Figure size 864x864 with 2 Axes>"
      ]
     },
     "metadata": {
      "needs_background": "light"
     },
     "output_type": "display_data"
    }
   ],
   "source": [
    "from sklearn.metrics import average_precision_score, accuracy_score, roc_auc_score, classification_report\n",
    "\n",
    "# QUICK: load model weights and evaluate result on test set until now\n",
    "\n",
    "# model = create_model()\n",
    "# model.load_weights('checkpoints/naive_26_labels_no_weights_20220528/cp-0008.ckpt')\n",
    "# predictions = model.predict(test, verbose=1)\n",
    "threshold = 0.5\n",
    "y_pred = 1 * (predictions > threshold)\n",
    "y_true = np.zeros(y_pred.shape)\n",
    "for row_idx, row in enumerate(test.classes):\n",
    "    for idx in row:\n",
    "        y_true[row_idx, idx] = 1\n",
    "print(f'ROC AUC: {roc_auc_score(y_true, y_pred):.4f}')\n",
    "# fig, axs = plt.subplots(1, 2, figsize=(12,12))\n",
    "\n",
    "N_CLASSES = y_true.shape[1]\n",
    "metrics_df = pd.DataFrame(classification_report(y_true, y_pred, target_names=list(test.class_indices), output_dict=True)).transpose()\n",
    "metrics_df['index'] = np.concatenate((np.arange(start=0, stop=N_CLASSES), [None, None, None, None]))\n",
    "print(metrics_df)\n",
    "\n",
    "fig, axs = plt.subplots(1, 2, figsize=(12,12))\n",
    "\n",
    "# Precision\n",
    "sorted_indices_precision = np.argsort(metrics_df.precision[0:N_CLASSES])\n",
    "sorted_precisions_per_class = metrics_df.precision[0:N_CLASSES][sorted_indices_precision]\n",
    "# Recall\n",
    "sorted_indices_recall = np.argsort(metrics_df.recall[0:N_CLASSES])\n",
    "sorted_recalls_per_class = metrics_df.recall[0:N_CLASSES][sorted_indices_recall]\n",
    "\n",
    "print('\\n\\n ----------- PER-CLASS ACCURACY ----------- \\n ')\n",
    "# Per-class accuracy\n",
    "from collections import Counter\n",
    "total = Counter()\n",
    "correct = Counter()\n",
    "for i in range(len(test.classes)):\n",
    "    true_y = test.classes[i]\n",
    "    for l in true_y:\n",
    "        total[l]+=1\n",
    "    predicted_y = np.argwhere(predictions[i]>=0.5)\n",
    "    for p in predicted_y:\n",
    "        if p[0] in true_y:\n",
    "            correct[p[0]]+=1\n",
    "            \n",
    "name_id_map = test.class_indices\n",
    "class_names = len(name_id_map)*[0]\n",
    "for k in name_id_map.keys():\n",
    "    class_names[name_id_map[k]] = k\n",
    "            \n",
    "for k in sorted(total.keys()):\n",
    "    print(class_names[k].split(\".\")[-1], \"{}/{} == {}\".format(correct[k], total[k], round(correct[k]/total[k], 3)))\n",
    "\n",
    "# -----------------------------------------------------------\n",
    "\n",
    "axs[0].set_title('Precision per class')\n",
    "axs[0].barh(range(y_true.shape[1]), sorted_precisions_per_class, color='blue', alpha=0.6)\n",
    "axs[0].set_yticks(range(N_CLASSES))\n",
    "axs[0].set_yticklabels(np.array(list(test.class_indices.keys()))[sorted_indices_precision])\n",
    "axs[0].set_xlabel('Precision')\n",
    "axs[0].grid(True)\n",
    "\n",
    "\n",
    "axs[1].set_title('Recall per class')\n",
    "axs[1].barh(range(y_true.shape[1]), sorted_recalls_per_class, color='blue', alpha=0.6)\n",
    "axs[1].set_yticks(range(N_CLASSES))\n",
    "axs[1].set_yticklabels([])\n",
    "axs[1].set_xlabel('Recall')\n",
    "axs[1].grid(True)"
   ]
  }
 ],
 "metadata": {
  "interpreter": {
   "hash": "b7f323a1c2c8b3d38dc94a01188981c510c9b5df10e2cc2d7fa4f2b45d318cbd"
  },
  "kernelspec": {
   "display_name": "Python 3",
   "language": "python",
   "name": "python3"
  },
  "language_info": {
   "codemirror_mode": {
    "name": "ipython",
    "version": 3
   },
   "file_extension": ".py",
   "mimetype": "text/x-python",
   "name": "python",
   "nbconvert_exporter": "python",
   "pygments_lexer": "ipython3",
   "version": "3.8.2"
  }
 },
 "nbformat": 4,
 "nbformat_minor": 2
}
