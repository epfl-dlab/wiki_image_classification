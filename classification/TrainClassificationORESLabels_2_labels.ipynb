{
 "cells": [
  {
   "cell_type": "code",
   "execution_count": 1,
   "id": "9020661d",
   "metadata": {},
   "outputs": [
    {
     "name": "stdout",
     "output_type": "stream",
     "text": [
      "2.3.0\n"
     ]
    }
   ],
   "source": [
    "# TensorFlow and tf.keras\n",
    "import tensorflow as tf\n",
    "\n",
    "# Helper libraries\n",
    "import numpy as np\n",
    "import json\n",
    "import bz2\n",
    "import pandas as pd\n",
    "import matplotlib.pyplot as plt\n",
    "\n",
    "print(tf.__version__)"
   ]
  },
  {
   "cell_type": "code",
   "execution_count": 2,
   "id": "509667ef",
   "metadata": {},
   "outputs": [],
   "source": [
    "from PIL import PngImagePlugin  \n",
    "LARGE_ENOUGH_NUMBER = 100\n",
    "PngImagePlugin.MAX_TEXT_CHUNK = LARGE_ENOUGH_NUMBER * (1024**2) # to avoid corrupted .png images"
   ]
  },
  {
   "cell_type": "code",
   "execution_count": 3,
   "id": "24c3daed",
   "metadata": {},
   "outputs": [
    {
     "name": "stdout",
     "output_type": "stream",
     "text": [
      "Num GPUs Available:  2\n"
     ]
    }
   ],
   "source": [
    "print(\"Num GPUs Available: \", len(tf.config.list_physical_devices('GPU')))"
   ]
  },
  {
   "cell_type": "code",
   "execution_count": 4,
   "id": "a8078d90",
   "metadata": {},
   "outputs": [],
   "source": [
    "topics = [\n",
    "  'Culture.Biography.Biography*',\n",
    " 'Culture.Food and drink',\n",
    " 'Culture.Internet culture',\n",
    " 'Culture.Linguistics',\n",
    " 'Culture.Literature',\n",
    " 'Culture.Media.Books',\n",
    " 'Culture.Media.Entertainment',\n",
    " 'Culture.Media.Films',\n",
    " 'Culture.Media.Media*',\n",
    " 'Culture.Media.Music',\n",
    " 'Culture.Media.Radio',\n",
    " 'Culture.Media.Software',\n",
    " 'Culture.Media.Television',\n",
    " 'Culture.Media.Video games',\n",
    " 'Culture.Performing arts',\n",
    " 'Culture.Philosophy and religion',\n",
    " 'Culture.Sports',\n",
    " 'Culture.Visual arts.Architecture',\n",
    " 'Culture.Visual arts.Comics and Anime',\n",
    " 'Culture.Visual arts.Fashion',\n",
    " 'Culture.Visual arts.Visual arts*',\n",
    " 'Geography.Geographical',\n",
    " 'History and Society.Business and economics',\n",
    " 'History and Society.Education',\n",
    " 'History and Society.History',\n",
    " 'History and Society.Military and warfare',\n",
    " 'History and Society.Politics and government',\n",
    " 'History and Society.Society',\n",
    " 'History and Society.Transportation',\n",
    " 'STEM.Biology',\n",
    " 'STEM.Chemistry',\n",
    " 'STEM.Computing',\n",
    " 'STEM.Earth and environment',\n",
    " 'STEM.Engineering',\n",
    " 'STEM.Libraries & Information',\n",
    " 'STEM.Mathematics',\n",
    " 'STEM.Medicine & Health',\n",
    " 'STEM.Physics',\n",
    " 'STEM.STEM*',\n",
    " 'STEM.Space',\n",
    " 'STEM.Technology']"
   ]
  },
  {
   "cell_type": "code",
   "execution_count": 23,
   "id": "466d5493",
   "metadata": {},
   "outputs": [
    {
     "data": {
      "text/html": [
       "<div>\n",
       "<style scoped>\n",
       "    .dataframe tbody tr th:only-of-type {\n",
       "        vertical-align: middle;\n",
       "    }\n",
       "\n",
       "    .dataframe tbody tr th {\n",
       "        vertical-align: top;\n",
       "    }\n",
       "\n",
       "    .dataframe thead th {\n",
       "        text-align: right;\n",
       "    }\n",
       "</style>\n",
       "<table border=\"1\" class=\"dataframe\">\n",
       "  <thead>\n",
       "    <tr style=\"text-align: right;\">\n",
       "      <th></th>\n",
       "      <th>full_path</th>\n",
       "      <th>labels</th>\n",
       "    </tr>\n",
       "  </thead>\n",
       "  <tbody>\n",
       "    <tr>\n",
       "      <th>736437</th>\n",
       "      <td>/scratch/WIT_Dataset/images/5/54/The_Return_of...</td>\n",
       "      <td>[Geography.Regions.Europe.Europe*, Geography.R...</td>\n",
       "    </tr>\n",
       "    <tr>\n",
       "      <th>20148</th>\n",
       "      <td>/scratch/WIT_Dataset/images/a/a2/PIA20862-Cere...</td>\n",
       "      <td>[STEM.Space, STEM.STEM*]</td>\n",
       "    </tr>\n",
       "    <tr>\n",
       "      <th>2770647</th>\n",
       "      <td>/scratch/WIT_Dataset/images/f/fa/Grimsby_-_The...</td>\n",
       "      <td>[Geography.Regions.Europe.Europe*, Geography.R...</td>\n",
       "    </tr>\n",
       "    <tr>\n",
       "      <th>1930902</th>\n",
       "      <td>/scratch/WIT_Dataset/images/9/93/Gisborne_nz_2...</td>\n",
       "      <td>[Geography.Regions.Oceania, Geography.Geograph...</td>\n",
       "    </tr>\n",
       "    <tr>\n",
       "      <th>1373350</th>\n",
       "      <td>/scratch/WIT_Dataset/images/1/1d/Rear_Admiral_...</td>\n",
       "      <td>[Geography.Regions.Europe.Europe*, History and...</td>\n",
       "    </tr>\n",
       "    <tr>\n",
       "      <th>...</th>\n",
       "      <td>...</td>\n",
       "      <td>...</td>\n",
       "    </tr>\n",
       "    <tr>\n",
       "      <th>1993099</th>\n",
       "      <td>/scratch/WIT_Dataset/images/5/53/VAAC_Coverage...</td>\n",
       "      <td>[Geography.Regions.Americas.South America]</td>\n",
       "    </tr>\n",
       "    <tr>\n",
       "      <th>2875995</th>\n",
       "      <td>/scratch/WIT_Dataset/images/7/7e/The_Princess_...</td>\n",
       "      <td>[History and Society.Transportation]</td>\n",
       "    </tr>\n",
       "    <tr>\n",
       "      <th>755469</th>\n",
       "      <td>/scratch/WIT_Dataset/images/7/7b/Abito_da_donn...</td>\n",
       "      <td>[Culture.Visual arts.Visual arts*, Culture.Vis...</td>\n",
       "    </tr>\n",
       "    <tr>\n",
       "      <th>146018</th>\n",
       "      <td>/scratch/WIT_Dataset/images/8/8e/9682_Chinnor_...</td>\n",
       "      <td>[Geography.Regions.Europe.Northern Europe, His...</td>\n",
       "    </tr>\n",
       "    <tr>\n",
       "      <th>3853976</th>\n",
       "      <td>/scratch/WIT_Dataset/images/7/70/Livet-sur-Aut...</td>\n",
       "      <td>[Geography.Regions.Europe.Western Europe, Geog...</td>\n",
       "    </tr>\n",
       "  </tbody>\n",
       "</table>\n",
       "<p>300000 rows × 2 columns</p>\n",
       "</div>"
      ],
      "text/plain": [
       "                                                 full_path  \\\n",
       "736437   /scratch/WIT_Dataset/images/5/54/The_Return_of...   \n",
       "20148    /scratch/WIT_Dataset/images/a/a2/PIA20862-Cere...   \n",
       "2770647  /scratch/WIT_Dataset/images/f/fa/Grimsby_-_The...   \n",
       "1930902  /scratch/WIT_Dataset/images/9/93/Gisborne_nz_2...   \n",
       "1373350  /scratch/WIT_Dataset/images/1/1d/Rear_Admiral_...   \n",
       "...                                                    ...   \n",
       "1993099  /scratch/WIT_Dataset/images/5/53/VAAC_Coverage...   \n",
       "2875995  /scratch/WIT_Dataset/images/7/7e/The_Princess_...   \n",
       "755469   /scratch/WIT_Dataset/images/7/7b/Abito_da_donn...   \n",
       "146018   /scratch/WIT_Dataset/images/8/8e/9682_Chinnor_...   \n",
       "3853976  /scratch/WIT_Dataset/images/7/70/Livet-sur-Aut...   \n",
       "\n",
       "                                                    labels  \n",
       "736437   [Geography.Regions.Europe.Europe*, Geography.R...  \n",
       "20148                             [STEM.Space, STEM.STEM*]  \n",
       "2770647  [Geography.Regions.Europe.Europe*, Geography.R...  \n",
       "1930902  [Geography.Regions.Oceania, Geography.Geograph...  \n",
       "1373350  [Geography.Regions.Europe.Europe*, History and...  \n",
       "...                                                    ...  \n",
       "1993099         [Geography.Regions.Americas.South America]  \n",
       "2875995               [History and Society.Transportation]  \n",
       "755469   [Culture.Visual arts.Visual arts*, Culture.Vis...  \n",
       "146018   [Geography.Regions.Europe.Northern Europe, His...  \n",
       "3853976  [Geography.Regions.Europe.Western Europe, Geog...  \n",
       "\n",
       "[300000 rows x 2 columns]"
      ]
     },
     "execution_count": 23,
     "metadata": {},
     "output_type": "execute_result"
    }
   ],
   "source": [
    "training_set = pd.read_pickle(\"/dlabdata1/piccardi/WikipediaImageClassification/training_set.pkl\")\\\n",
    "            .sample(300000, random_state=0)\n",
    "training_set['full_path'] = training_set.image_path.apply(lambda r: '/scratch/WIT_Dataset/images'+r)\n",
    "training_set[['full_path', 'labels']]"
   ]
  },
  {
   "cell_type": "markdown",
   "id": "1bae8a0d",
   "metadata": {},
   "source": [
    "Construct dataset that only have ['STEM.Biology', 'Culture.Sports'] or if you want to have more images ['Culture.Biography.Biography*', 'STEM.STEM*']"
   ]
  },
  {
   "cell_type": "code",
   "execution_count": 24,
   "id": "5a853f53",
   "metadata": {},
   "outputs": [
    {
     "name": "stderr",
     "output_type": "stream",
     "text": [
      "<ipython-input-24-e9767cdd2151>:7: SettingWithCopyWarning: \n",
      "A value is trying to be set on a copy of a slice from a DataFrame.\n",
      "Try using .loc[row_indexer,col_indexer] = value instead\n",
      "\n",
      "See the caveats in the documentation: https://pandas.pydata.org/pandas-docs/stable/user_guide/indexing.html#returning-a-view-versus-a-copy\n",
      "  training_set_2_labels['labels'] = training_set_2_labels['labels'].apply(lambda labels_list: [label for label in labels_list if label in ['STEM.Biology', 'Culture.Sports']])\n"
     ]
    },
    {
     "data": {
      "text/html": [
       "<div>\n",
       "<style scoped>\n",
       "    .dataframe tbody tr th:only-of-type {\n",
       "        vertical-align: middle;\n",
       "    }\n",
       "\n",
       "    .dataframe tbody tr th {\n",
       "        vertical-align: top;\n",
       "    }\n",
       "\n",
       "    .dataframe thead th {\n",
       "        text-align: right;\n",
       "    }\n",
       "</style>\n",
       "<table border=\"1\" class=\"dataframe\">\n",
       "  <thead>\n",
       "    <tr style=\"text-align: right;\">\n",
       "      <th></th>\n",
       "      <th>page_title</th>\n",
       "      <th>image_path</th>\n",
       "      <th>labels</th>\n",
       "      <th>full_path</th>\n",
       "    </tr>\n",
       "  </thead>\n",
       "  <tbody>\n",
       "    <tr>\n",
       "      <th>2615273</th>\n",
       "      <td>Otakar Německý</td>\n",
       "      <td>/3/3d/Otakar_Německý_1925_(2).jpg</td>\n",
       "      <td>[Culture.Sports]</td>\n",
       "      <td>/scratch/WIT_Dataset/images/3/3d/Otakar_Německ...</td>\n",
       "    </tr>\n",
       "    <tr>\n",
       "      <th>1834898</th>\n",
       "      <td>Electric motorcycles and scooters</td>\n",
       "      <td>/2/28/Suzuki_Burgman_Fuel_Cell_cutaway_model_2...</td>\n",
       "      <td>[Culture.Sports]</td>\n",
       "      <td>/scratch/WIT_Dataset/images/2/28/Suzuki_Burgma...</td>\n",
       "    </tr>\n",
       "    <tr>\n",
       "      <th>2688785</th>\n",
       "      <td>Roberto Boninsegna</td>\n",
       "      <td>/f/fc/Morini_Boninsegna_1973-74.jpg</td>\n",
       "      <td>[Culture.Sports]</td>\n",
       "      <td>/scratch/WIT_Dataset/images/f/fc/Morini_Bonins...</td>\n",
       "    </tr>\n",
       "    <tr>\n",
       "      <th>1823939</th>\n",
       "      <td>Boston Celtics</td>\n",
       "      <td>/b/b5/Auerbach_Lipofsky.jpg</td>\n",
       "      <td>[Culture.Sports]</td>\n",
       "      <td>/scratch/WIT_Dataset/images/b/b5/Auerbach_Lipo...</td>\n",
       "    </tr>\n",
       "    <tr>\n",
       "      <th>3842154</th>\n",
       "      <td>2016–17 North Carolina Tar Heels men's basketb...</td>\n",
       "      <td>/1/1a/20160330_MCDAAG_Tony_Bradley_Jr._attacks...</td>\n",
       "      <td>[Culture.Sports]</td>\n",
       "      <td>/scratch/WIT_Dataset/images/1/1a/20160330_MCDA...</td>\n",
       "    </tr>\n",
       "    <tr>\n",
       "      <th>...</th>\n",
       "      <td>...</td>\n",
       "      <td>...</td>\n",
       "      <td>...</td>\n",
       "      <td>...</td>\n",
       "    </tr>\n",
       "    <tr>\n",
       "      <th>3572471</th>\n",
       "      <td>Nico (gorilla)</td>\n",
       "      <td>/1/1a/Longleat_-_Nico_the_gorilla.jpg</td>\n",
       "      <td>[STEM.Biology]</td>\n",
       "      <td>/scratch/WIT_Dataset/images/1/1a/Longleat_-_Ni...</td>\n",
       "    </tr>\n",
       "    <tr>\n",
       "      <th>2124584</th>\n",
       "      <td>Robinsonia deiopea</td>\n",
       "      <td>/7/7c/Robinsonia_deiopea.JPG</td>\n",
       "      <td>[STEM.Biology]</td>\n",
       "      <td>/scratch/WIT_Dataset/images/7/7c/Robinsonia_de...</td>\n",
       "    </tr>\n",
       "    <tr>\n",
       "      <th>3603056</th>\n",
       "      <td>Paropsis charybdis</td>\n",
       "      <td>/d/d7/Charybdis_(djur)_(6469534799).jpg</td>\n",
       "      <td>[STEM.Biology]</td>\n",
       "      <td>/scratch/WIT_Dataset/images/d/d7/Charybdis_(dj...</td>\n",
       "    </tr>\n",
       "    <tr>\n",
       "      <th>3376117</th>\n",
       "      <td>Ricardo Londoño</td>\n",
       "      <td>/4/47/Ensign_N180_at_Silverstone_Classic_2012.jpg</td>\n",
       "      <td>[Culture.Sports]</td>\n",
       "      <td>/scratch/WIT_Dataset/images/4/47/Ensign_N180_a...</td>\n",
       "    </tr>\n",
       "    <tr>\n",
       "      <th>140572</th>\n",
       "      <td>Cycling in Canada</td>\n",
       "      <td>/f/f9/Dunsmuir_Separated_Bike_Lanes_103.jpg</td>\n",
       "      <td>[Culture.Sports]</td>\n",
       "      <td>/scratch/WIT_Dataset/images/f/f9/Dunsmuir_Sepa...</td>\n",
       "    </tr>\n",
       "  </tbody>\n",
       "</table>\n",
       "<p>47625 rows × 4 columns</p>\n",
       "</div>"
      ],
      "text/plain": [
       "                                                page_title  \\\n",
       "2615273                                     Otakar Německý   \n",
       "1834898                  Electric motorcycles and scooters   \n",
       "2688785                                 Roberto Boninsegna   \n",
       "1823939                                     Boston Celtics   \n",
       "3842154  2016–17 North Carolina Tar Heels men's basketb...   \n",
       "...                                                    ...   \n",
       "3572471                                     Nico (gorilla)   \n",
       "2124584                                 Robinsonia deiopea   \n",
       "3603056                                 Paropsis charybdis   \n",
       "3376117                                    Ricardo Londoño   \n",
       "140572                                   Cycling in Canada   \n",
       "\n",
       "                                                image_path            labels  \\\n",
       "2615273                  /3/3d/Otakar_Německý_1925_(2).jpg  [Culture.Sports]   \n",
       "1834898  /2/28/Suzuki_Burgman_Fuel_Cell_cutaway_model_2...  [Culture.Sports]   \n",
       "2688785                /f/fc/Morini_Boninsegna_1973-74.jpg  [Culture.Sports]   \n",
       "1823939                        /b/b5/Auerbach_Lipofsky.jpg  [Culture.Sports]   \n",
       "3842154  /1/1a/20160330_MCDAAG_Tony_Bradley_Jr._attacks...  [Culture.Sports]   \n",
       "...                                                    ...               ...   \n",
       "3572471              /1/1a/Longleat_-_Nico_the_gorilla.jpg    [STEM.Biology]   \n",
       "2124584                       /7/7c/Robinsonia_deiopea.JPG    [STEM.Biology]   \n",
       "3603056            /d/d7/Charybdis_(djur)_(6469534799).jpg    [STEM.Biology]   \n",
       "3376117  /4/47/Ensign_N180_at_Silverstone_Classic_2012.jpg  [Culture.Sports]   \n",
       "140572         /f/f9/Dunsmuir_Separated_Bike_Lanes_103.jpg  [Culture.Sports]   \n",
       "\n",
       "                                                 full_path  \n",
       "2615273  /scratch/WIT_Dataset/images/3/3d/Otakar_Německ...  \n",
       "1834898  /scratch/WIT_Dataset/images/2/28/Suzuki_Burgma...  \n",
       "2688785  /scratch/WIT_Dataset/images/f/fc/Morini_Bonins...  \n",
       "1823939  /scratch/WIT_Dataset/images/b/b5/Auerbach_Lipo...  \n",
       "3842154  /scratch/WIT_Dataset/images/1/1a/20160330_MCDA...  \n",
       "...                                                    ...  \n",
       "3572471  /scratch/WIT_Dataset/images/1/1a/Longleat_-_Ni...  \n",
       "2124584  /scratch/WIT_Dataset/images/7/7c/Robinsonia_de...  \n",
       "3603056  /scratch/WIT_Dataset/images/d/d7/Charybdis_(dj...  \n",
       "3376117  /scratch/WIT_Dataset/images/4/47/Ensign_N180_a...  \n",
       "140572   /scratch/WIT_Dataset/images/f/f9/Dunsmuir_Sepa...  \n",
       "\n",
       "[47625 rows x 4 columns]"
      ]
     },
     "execution_count": 24,
     "metadata": {},
     "output_type": "execute_result"
    }
   ],
   "source": [
    "topics = ['STEM.Biology', 'Culture.Sports']\n",
    "\n",
    "# Only keep rows which have either 'STEM.Biology' or 'Culture.Sports' as classes\n",
    "ids_biology_sports = training_set.labels.apply(lambda labels_list: ('STEM.Biology' in labels_list) or ('Culture.Sports' in labels_list))\n",
    "# Remove all other classes not in the wished two labels\n",
    "training_set_2_labels = training_set[ids_biology_sports]\n",
    "training_set_2_labels['labels'] = training_set_2_labels['labels'].apply(lambda labels_list: [label for label in labels_list if label in ['STEM.Biology', 'Culture.Sports']])\n",
    "training_set_2_labels"
   ]
  },
  {
   "cell_type": "code",
   "execution_count": 25,
   "id": "537fdbd3",
   "metadata": {},
   "outputs": [
    {
     "data": {
      "text/plain": [
       "[STEM.Biology]                    24411\n",
       "[Culture.Sports]                  22859\n",
       "[Culture.Sports, STEM.Biology]      314\n",
       "[STEM.Biology, Culture.Sports]       41\n",
       "Name: labels, dtype: int64"
      ]
     },
     "execution_count": 25,
     "metadata": {},
     "output_type": "execute_result"
    }
   ],
   "source": [
    "training_set_2_labels.labels.value_counts()"
   ]
  },
  {
   "cell_type": "code",
   "execution_count": 32,
   "id": "70d17fcc",
   "metadata": {},
   "outputs": [
    {
     "name": "stderr",
     "output_type": "stream",
     "text": [
      "/home/matvieir/anaconda3/lib/python3.8/site-packages/keras_preprocessing/image/dataframe_iterator.py:279: UserWarning: Found 2690 invalid image filename(s) in x_col=\"full_path\". These filename(s) will be ignored.\n",
      "  warnings.warn(\n"
     ]
    },
    {
     "name": "stdout",
     "output_type": "stream",
     "text": [
      "Found 42689 validated image filenames belonging to 2 classes.\n",
      "Found 2246 validated image filenames belonging to 2 classes.\n"
     ]
    },
    {
     "name": "stderr",
     "output_type": "stream",
     "text": [
      "/home/matvieir/anaconda3/lib/python3.8/site-packages/keras_preprocessing/image/dataframe_iterator.py:279: UserWarning: Found 2690 invalid image filename(s) in x_col=\"full_path\". These filename(s) will be ignored.\n",
      "  warnings.warn(\n"
     ]
    }
   ],
   "source": [
    "from tensorflow import keras \n",
    "from tensorflow.keras.preprocessing.image import ImageDataGenerator\n",
    "\n",
    "\n",
    "width, height = 64, 64\n",
    "target_size = (height, width)\n",
    "datagen = ImageDataGenerator(#rescale=1./255, \n",
    "                             rotation_range=40, \n",
    "                             width_shift_range=0.2,\n",
    "                             height_shift_range=0.2, \n",
    "                             zoom_range=0.2,\n",
    "                             horizontal_flip=True,\n",
    "                             fill_mode='nearest',\n",
    "                             validation_split=0.05, \n",
    "                             ) \n",
    "\n",
    "train_generator = datagen.flow_from_dataframe(\n",
    "        dataframe=training_set_2_labels, \n",
    "#         directory='/scratch/WIT_Dataset/images/', \n",
    "        subset='training',\n",
    "        classes=topics,\n",
    "        color_mode='rgb',\n",
    "        x_col='full_path', \n",
    "        y_col='labels', \n",
    "        class_mode='categorical', \n",
    "        batch_size=64,\n",
    "#         validate_filenames=False, \n",
    "        target_size=target_size,\n",
    "#         shuffle=False\n",
    "        )\n",
    "\n",
    "validation_generator = datagen.flow_from_dataframe(\n",
    "        dataframe=training_set_2_labels, \n",
    "#         directory='/scratch/WIT_Dataset/images/', \n",
    "        subset='validation',\n",
    "        classes=topics,\n",
    "        color_mode='rgb',\n",
    "        x_col='full_path', \n",
    "        y_col='labels', \n",
    "        class_mode='categorical', \n",
    "#         validate_filenames=False, \n",
    "        target_size=target_size,\n",
    "#         shuffle=False\n",
    "        )\n"
   ]
  },
  {
   "cell_type": "code",
   "execution_count": 33,
   "id": "c39deb98",
   "metadata": {},
   "outputs": [],
   "source": [
    "name_id_map = train_generator.class_indices\n",
    "class_names = len(name_id_map)*[0]\n",
    "for k in name_id_map.keys():\n",
    "    class_names[name_id_map[k]] = k"
   ]
  },
  {
   "cell_type": "code",
   "execution_count": 34,
   "id": "ede7c385",
   "metadata": {},
   "outputs": [],
   "source": [
    "class_indices = train_generator.class_indices\n",
    "CLASS_LABELS = list(class_indices.keys())"
   ]
  },
  {
   "cell_type": "code",
   "execution_count": 35,
   "id": "94788908",
   "metadata": {},
   "outputs": [
    {
     "name": "stdout",
     "output_type": "stream",
     "text": [
      "Model: \"sequential_3\"\n",
      "_________________________________________________________________\n",
      "Layer (type)                 Output Shape              Param #   \n",
      "=================================================================\n",
      "efficientnetb0 (Functional)  (None, 2, 2, 1280)        4049571   \n",
      "_________________________________________________________________\n",
      "flatten_3 (Flatten)          (None, 5120)              0         \n",
      "_________________________________________________________________\n",
      "dense_6 (Dense)              (None, 128)               655488    \n",
      "_________________________________________________________________\n",
      "dense_7 (Dense)              (None, 2)                 258       \n",
      "=================================================================\n",
      "Total params: 4,705,317\n",
      "Trainable params: 655,746\n",
      "Non-trainable params: 4,049,571\n",
      "_________________________________________________________________\n"
     ]
    }
   ],
   "source": [
    "from tensorflow.keras.applications import EfficientNetB0\n",
    "from tensorflow.keras.layers import GlobalAveragePooling2D, Dense, Dropout\n",
    "from tensorflow.keras.preprocessing.image import ImageDataGenerator\n",
    "from tensorflow.keras import optimizers\n",
    "from tensorflow.keras.callbacks import ModelCheckpoint\n",
    "from tensorflow import keras\n",
    "from tensorflow.keras import layers\n",
    "from tensorflow.keras.models import Sequential\n",
    "\n",
    "efficient_net = EfficientNetB0(include_top=False, weights='imagenet', classes=len(CLASS_LABELS),\n",
    "                                       input_shape=(width, height, 3))\n",
    "efficient_net.trainable = False\n",
    "\n",
    "model = Sequential([\n",
    "    efficient_net,\n",
    "    layers.Flatten(),\n",
    "    layers.Dense(128, activation='relu'),\n",
    "    layers.Dense(len(CLASS_LABELS), activation='sigmoid')\n",
    "])\n",
    "\n",
    "model.compile(optimizer=tf.keras.optimizers.Adam(),\n",
    "              loss=tf.nn.sigmoid_cross_entropy_with_logits,\n",
    "              metrics=['accuracy'])\n",
    "\n",
    "model.summary()"
   ]
  },
  {
   "cell_type": "markdown",
   "id": "53bc9724",
   "metadata": {},
   "source": [
    "To test later: train also some layers of EfficientNet. https://www.tensorflow.org/tutorials/images/transfer_learning#un-freeze_the_top_layers_of_the_model"
   ]
  },
  {
   "cell_type": "code",
   "execution_count": 36,
   "id": "ea4ea052",
   "metadata": {},
   "outputs": [],
   "source": [
    "# Let's take a look to see how many layers are in the base model\n",
    "# print(\"Number of layers in the base model: \", len(efficient_net.layers))\n",
    "\n",
    "# # Let's take a look to see how many layers are in the base model\n",
    "# print(\"Number of layers in the base model: \", len(efficient_net.layers))\n",
    "\n",
    "# # Fine-tune from this layer onwards\n",
    "# fine_tune_at = 100\n",
    "\n",
    "# # Freeze all the layers before the `fine_tune_at` layer\n",
    "# for layer in efficient_net.layers[:fine_tune_at]:\n",
    "#     layer.trainable = False"
   ]
  },
  {
   "cell_type": "code",
   "execution_count": 37,
   "id": "9f6394ed",
   "metadata": {},
   "outputs": [
    {
     "name": "stdout",
     "output_type": "stream",
     "text": [
      "Epoch 1/15\n",
      "668/668 [==============================] - 144s 215ms/step - loss: 0.5697 - accuracy: 0.8577 - val_loss: 0.5619 - val_accuracy: 0.8700\n",
      "Epoch 2/15\n",
      "668/668 [==============================] - 144s 215ms/step - loss: 0.5622 - accuracy: 0.8715 - val_loss: 0.5638 - val_accuracy: 0.8691\n",
      "Epoch 3/15\n",
      "668/668 [==============================] - 148s 221ms/step - loss: 0.5599 - accuracy: 0.8766 - val_loss: 0.5581 - val_accuracy: 0.8833\n",
      "Epoch 4/15\n",
      "668/668 [==============================] - 147s 221ms/step - loss: 0.5581 - accuracy: 0.8812 - val_loss: 0.5566 - val_accuracy: 0.8882\n",
      "Epoch 5/15\n",
      "668/668 [==============================] - 134s 201ms/step - loss: 0.5565 - accuracy: 0.8839 - val_loss: 0.5579 - val_accuracy: 0.8816\n",
      "Epoch 6/15\n",
      "668/668 [==============================] - 128s 192ms/step - loss: 0.5559 - accuracy: 0.8862 - val_loss: 0.5579 - val_accuracy: 0.8789\n",
      "Epoch 7/15\n",
      "668/668 [==============================] - 125s 187ms/step - loss: 0.5540 - accuracy: 0.8895 - val_loss: 0.5550 - val_accuracy: 0.8918\n",
      "Epoch 8/15\n",
      "668/668 [==============================] - 127s 190ms/step - loss: 0.5534 - accuracy: 0.8909 - val_loss: 0.5591 - val_accuracy: 0.8771\n",
      "Epoch 9/15\n",
      "668/668 [==============================] - 130s 195ms/step - loss: 0.5536 - accuracy: 0.8903 - val_loss: 0.5550 - val_accuracy: 0.8909\n",
      "Epoch 10/15\n",
      "668/668 [==============================] - 132s 198ms/step - loss: 0.5527 - accuracy: 0.8929 - val_loss: 0.5554 - val_accuracy: 0.8900\n",
      "Epoch 11/15\n",
      "668/668 [==============================] - 135s 202ms/step - loss: 0.5522 - accuracy: 0.8925 - val_loss: 0.5553 - val_accuracy: 0.8891\n",
      "Epoch 12/15\n",
      "668/668 [==============================] - 139s 208ms/step - loss: 0.5526 - accuracy: 0.8916 - val_loss: 0.5526 - val_accuracy: 0.8927\n",
      "Epoch 13/15\n",
      "668/668 [==============================] - 139s 209ms/step - loss: 0.5508 - accuracy: 0.8967 - val_loss: 0.5546 - val_accuracy: 0.8882\n",
      "Epoch 14/15\n",
      "668/668 [==============================] - 143s 214ms/step - loss: 0.5518 - accuracy: 0.8946 - val_loss: 0.5562 - val_accuracy: 0.8874\n",
      "Epoch 15/15\n",
      "668/668 [==============================] - 147s 220ms/step - loss: 0.5515 - accuracy: 0.8943 - val_loss: 0.5541 - val_accuracy: 0.8914\n"
     ]
    }
   ],
   "source": [
    "epochs=15\n",
    "\n",
    "history = model.fit(\n",
    "  train_generator,\n",
    "  verbose=1,\n",
    "  validation_data=validation_generator,\n",
    "  epochs=epochs,\n",
    " # class_weight=class_weight\n",
    ")"
   ]
  },
  {
   "cell_type": "code",
   "execution_count": 38,
   "id": "3ea2d882",
   "metadata": {},
   "outputs": [
    {
     "data": {
      "image/png": "[encoded data removed]",
      "text/plain": [
       "<Figure size 576x288 with 2 Axes>"
      ]
     },
     "metadata": {
      "needs_background": "light"
     },
     "output_type": "display_data"
    }
   ],
   "source": [
    "acc = history.history['accuracy']\n",
    "val_acc = history.history['val_accuracy']\n",
    "\n",
    "loss = history.history['loss']\n",
    "val_loss = history.history['val_loss']\n",
    "\n",
    "epochs_range = range(epochs)\n",
    "\n",
    "plt.figure(figsize=(8, 4))\n",
    "plt.subplot(1, 2, 1)\n",
    "plt.plot(epochs_range, acc, label='Training Accuracy')\n",
    "plt.plot(epochs_range, val_acc, label='Validation Accuracy')\n",
    "plt.legend(loc='lower right')\n",
    "plt.title('Training and Validation Accuracy')\n",
    "\n",
    "plt.subplot(1, 2, 2)\n",
    "plt.plot(epochs_range, loss, label='Training Loss')\n",
    "plt.plot(epochs_range, val_loss, label='Validation Loss')\n",
    "plt.legend(loc='upper right')\n",
    "plt.title('Training and Validation Loss')\n",
    "plt.show()"
   ]
  },
  {
   "cell_type": "code",
   "execution_count": 39,
   "id": "d51f5b71",
   "metadata": {},
   "outputs": [
    {
     "name": "stderr",
     "output_type": "stream",
     "text": [
      "/home/matvieir/anaconda3/lib/python3.8/site-packages/keras_preprocessing/image/dataframe_iterator.py:279: UserWarning: Found 24789 invalid image filename(s) in x_col=\"full_path\". These filename(s) will be ignored.\n",
      "  warnings.warn(\n"
     ]
    },
    {
     "name": "stdout",
     "output_type": "stream",
     "text": [
      "Found 2246 validated image filenames belonging to 2 classes.\n"
     ]
    }
   ],
   "source": [
    "vg = datagen.flow_from_dataframe(\n",
    "        dataframe=training_set, \n",
    "        subset='validation',\n",
    "        classes=topics,\n",
    "        color_mode='rgb',\n",
    "        x_col='full_path', \n",
    "        y_col='labels', \n",
    "        class_mode='categorical', \n",
    "        target_size=target_size,\n",
    "        shuffle=False\n",
    "        )"
   ]
  },
  {
   "cell_type": "code",
   "execution_count": 40,
   "id": "21d070a0",
   "metadata": {},
   "outputs": [
    {
     "data": {
      "text/plain": [
       "array([[1.0000000e+00, 4.8534768e-14],\n",
       "       [1.0000000e+00, 7.2841333e-38],\n",
       "       [1.0000000e+00, 4.1561452e-21],\n",
       "       ...,\n",
       "       [1.0000000e+00, 9.1753117e-19],\n",
       "       [3.6410756e-07, 9.9995470e-01],\n",
       "       [9.7161835e-01, 1.9634785e-05]], dtype=float32)"
      ]
     },
     "execution_count": 40,
     "metadata": {},
     "output_type": "execute_result"
    }
   ],
   "source": [
    "val_predictions = model.predict(vg)\n",
    "val_predictions"
   ]
  },
  {
   "cell_type": "code",
   "execution_count": 41,
   "id": "512a4078",
   "metadata": {},
   "outputs": [
    {
     "name": "stdout",
     "output_type": "stream",
     "text": [
      "Sports 946/1099 == 0.8607825295723385\n",
      "Biology 971/1158 == 0.8385146804835925\n"
     ]
    }
   ],
   "source": [
    "from collections import Counter\n",
    "\n",
    "total = Counter()\n",
    "correct = Counter()\n",
    "for i in range(len(vg.classes)):\n",
    "    true_y = vg.classes[i]\n",
    "    for l in true_y:\n",
    "        total[l]+=1\n",
    "    predicted_y = np.argwhere(val_predictions[i]>=0.5)\n",
    "    for p in predicted_y:\n",
    "        if p[0] in true_y:\n",
    "            correct[p[0]]+=1\n",
    "\n",
    "for k in sorted(total.keys()):\n",
    "    print(class_names[k].split(\".\")[-1], \"{}/{} == {}\".format(correct[k], total[k], correct[k]/total[k]))"
   ]
  },
  {
   "cell_type": "code",
   "execution_count": 42,
   "id": "6715df40",
   "metadata": {},
   "outputs": [
    {
     "data": {
      "text/plain": [
       "{'Culture.Sports': 0, 'STEM.Biology': 1}"
      ]
     },
     "execution_count": 42,
     "metadata": {},
     "output_type": "execute_result"
    }
   ],
   "source": [
    "name_id_map"
   ]
  },
  {
   "cell_type": "code",
   "execution_count": 43,
   "id": "5e33bdc3",
   "metadata": {},
   "outputs": [],
   "source": [
    "def get_y_true(classes, preset_nr_classes=0):\n",
    "    \"\"\"Gets one-hot encoded matrix of format (nr_images)x(nr_classes).\"\"\"\n",
    "    nr_images = len(classes)\n",
    "    if not preset_nr_classes:\n",
    "        nr_classes = len(set([item for sublist in classes for item in sublist]))\n",
    "    else:\n",
    "        nr_classes = preset_nr_classes\n",
    "    y_true = np.zeros((nr_images, nr_classes))\n",
    "    for row_idx, row in enumerate(classes):\n",
    "        for idx in row:\n",
    "            y_true[row_idx, idx] = 1\n",
    "    return y_true"
   ]
  },
  {
   "cell_type": "code",
   "execution_count": 47,
   "id": "ba93944c",
   "metadata": {},
   "outputs": [
    {
     "name": "stderr",
     "output_type": "stream",
     "text": [
      "/home/matvieir/anaconda3/lib/python3.8/site-packages/sklearn/metrics/_classification.py:1245: UndefinedMetricWarning: Precision and F-score are ill-defined and being set to 0.0 in samples with no predicted labels. Use `zero_division` parameter to control this behavior.\n",
      "  _warn_prf(average, modifier, msg_start, len(result))\n"
     ]
    },
    {
     "name": "stdout",
     "output_type": "stream",
     "text": [
      "\n",
      "Average precision scores (macro):\n",
      "0.8373137009889237\n",
      "\n",
      " ROC AUC score:\n",
      "0.9456582111181828\n"
     ]
    },
    {
     "data": {
      "image/png": "[encoded data removed]",
      "text/plain": [
       "<Figure size 432x144 with 2 Axes>"
      ]
     },
     "metadata": {
      "needs_background": "light"
     },
     "output_type": "display_data"
    }
   ],
   "source": [
    "from sklearn.metrics import classification_report, average_precision_score, roc_auc_score\n",
    "\n",
    "threshold = 0.2\n",
    "\n",
    "y_pred = 1 * (val_predictions > threshold)\n",
    "\n",
    "y_true = get_y_true(vg.classes)\n",
    "\n",
    "n_classes = y_true.shape[1]\n",
    "metrics_df = pd.DataFrame(classification_report(y_true, y_pred, target_names=list(vg.class_indices), output_dict=True)).transpose()\n",
    "metrics_df['index'] = np.concatenate((np.arange(start=0, stop=n_classes), [None, None, None, None]))\n",
    "\n",
    "# Output macro and micro accuracies\n",
    "# with open(f'{self.results_path}/per_class_metrics', 'w') as f:\n",
    "#     metrics_df.to_string(f)\n",
    "# print(metrics_df.tail(4))\n",
    "\n",
    "# Average precision score\n",
    "# The average_precision_score function computes the average precision (AP) from prediction scores. The value is between 0 and 1 and higher is better. With random predictions, the AP is the fraction of positive samples.\n",
    "print('\\nAverage precision scores (macro):')\n",
    "print(average_precision_score(y_true, y_pred, average='macro'))\n",
    "# print(average_precision_score(y_true, y_pred, average='weighted'))\n",
    "\n",
    "# ROC AUC score\n",
    "print('\\n ROC AUC score:')\n",
    "print(roc_auc_score(y_true, val_predictions))\n",
    "\n",
    "# Precision and recall for each class\n",
    "fig, axs = plt.subplots(1, 2, figsize=(6,2))\n",
    "\n",
    "# Precision\n",
    "sorted_indices_precision = np.argsort(metrics_df.precision[0:n_classes])\n",
    "sorted_precisions_per_class = metrics_df.precision[0:n_classes][sorted_indices_precision]\n",
    "# Recall\n",
    "sorted_indices_recall = np.argsort(metrics_df.recall[0:n_classes])\n",
    "sorted_recalls_per_class = metrics_df.recall[0:n_classes][sorted_indices_recall]\n",
    "# Plot!\n",
    "axs[0].set_title('Precision per class')\n",
    "axs[0].barh(range(y_true.shape[1]), sorted_precisions_per_class, color='blue', alpha=0.6)\n",
    "axs[0].set_yticks(range(n_classes))\n",
    "axs[0].set_yticklabels(np.array(list(vg.class_indices.keys()))[sorted_indices_precision])\n",
    "axs[0].set_xlabel('Precision')\n",
    "axs[0].grid(True)\n",
    "axs[1].set_title('Recall per class')\n",
    "axs[1].barh(range(y_true.shape[1]), sorted_recalls_per_class, color='blue', alpha=0.6)\n",
    "axs[1].set_yticks(range(n_classes))\n",
    "axs[1].set_yticklabels([])\n",
    "axs[1].set_xlabel('Recall')\n",
    "axs[1].grid(True)\n",
    "plt.savefig(f'precision_recall.png')"
   ]
  },
  {
   "cell_type": "code",
   "execution_count": null,
   "id": "91676934",
   "metadata": {},
   "outputs": [],
   "source": []
  }
 ],
 "metadata": {
  "kernelspec": {
   "display_name": "Python 3",
   "language": "python",
   "name": "python3"
  },
  "language_info": {
   "codemirror_mode": {
    "name": "ipython",
    "version": 3
   },
   "file_extension": ".py",
   "mimetype": "text/x-python",
   "name": "python",
   "nbconvert_exporter": "python",
   "pygments_lexer": "ipython3",
   "version": "3.8.2"
  }
 },
 "nbformat": 4,
 "nbformat_minor": 5
}
