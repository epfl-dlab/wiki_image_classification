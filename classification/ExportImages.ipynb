{
 "cells": [
  {
   "cell_type": "code",
   "execution_count": 13,
   "id": "a625aa3b",
   "metadata": {},
   "outputs": [],
   "source": [
    "import os\n",
    "import pandas as pd"
   ]
  },
  {
   "cell_type": "code",
   "execution_count": 14,
   "id": "8237faba",
   "metadata": {},
   "outputs": [],
   "source": [
    "train_df = pd.read_json('data/splitted_dfs_20220601/train_df.json.bz2', compression='bz2')\n",
    "test_df = pd.read_json('data/splitted_dfs_20220601/test_df.json.bz2', compression='bz2')"
   ]
  },
  {
   "cell_type": "code",
   "execution_count": 15,
   "id": "22e7f992",
   "metadata": {},
   "outputs": [
    {
     "name": "stdout",
     "output_type": "stream",
     "text": [
      "90857 images\n"
     ]
    },
    {
     "data": {
      "text/html": [
       "<div>\n",
       "<style scoped>\n",
       "    .dataframe tbody tr th:only-of-type {\n",
       "        vertical-align: middle;\n",
       "    }\n",
       "\n",
       "    .dataframe tbody tr th {\n",
       "        vertical-align: top;\n",
       "    }\n",
       "\n",
       "    .dataframe thead th {\n",
       "        text-align: right;\n",
       "    }\n",
       "</style>\n",
       "<table border=\"1\" class=\"dataframe\">\n",
       "  <thead>\n",
       "    <tr style=\"text-align: right;\">\n",
       "      <th></th>\n",
       "      <th>id</th>\n",
       "      <th>title</th>\n",
       "      <th>url</th>\n",
       "      <th>categories</th>\n",
       "      <th>labels</th>\n",
       "      <th>can_be_opened</th>\n",
       "    </tr>\n",
       "  </thead>\n",
       "  <tbody>\n",
       "    <tr>\n",
       "      <th>102299</th>\n",
       "      <td>7814956</td>\n",
       "      <td>Fletcher Christian's house.jpg</td>\n",
       "      <td>1/1f/Fletcher_Christian's_house.jpg</td>\n",
       "      <td>[Buildings in the Pitcairn Islands, History of...</td>\n",
       "      <td>[History, Places]</td>\n",
       "      <td>True</td>\n",
       "    </tr>\n",
       "    <tr>\n",
       "      <th>359226</th>\n",
       "      <td>68295865</td>\n",
       "      <td>Mel Tanner (1973).jpg</td>\n",
       "      <td>5/56/Mel_Tanner_(1973).jpg</td>\n",
       "      <td>[Artists]</td>\n",
       "      <td>[Art, Culture, People]</td>\n",
       "      <td>True</td>\n",
       "    </tr>\n",
       "  </tbody>\n",
       "</table>\n",
       "</div>"
      ],
      "text/plain": [
       "              id                           title  \\\n",
       "102299   7814956  Fletcher Christian's house.jpg   \n",
       "359226  68295865           Mel Tanner (1973).jpg   \n",
       "\n",
       "                                        url  \\\n",
       "102299  1/1f/Fletcher_Christian's_house.jpg   \n",
       "359226           5/56/Mel_Tanner_(1973).jpg   \n",
       "\n",
       "                                               categories  \\\n",
       "102299  [Buildings in the Pitcairn Islands, History of...   \n",
       "359226                                          [Artists]   \n",
       "\n",
       "                        labels  can_be_opened  \n",
       "102299       [History, Places]           True  \n",
       "359226  [Art, Culture, People]           True  "
      ]
     },
     "execution_count": 15,
     "metadata": {},
     "output_type": "execute_result"
    }
   ],
   "source": [
    "print(f'{test_df.shape[0]} images')\n",
    "test_df.head(2)"
   ]
  },
  {
   "cell_type": "code",
   "execution_count": null,
   "id": "8158b2a1",
   "metadata": {},
   "outputs": [],
   "source": [
    "# Download these images from iccluster to Drive\n",
    "from pydrive.drive import GoogleDrive\n",
    "from pydrive.auth import GoogleAuth\n",
    "\n",
    "gauth = GoogleAuth()\n",
    "  \n",
    "# Creates local webserver and auto\n",
    "# handles authentication.\n",
    "# gauth.LocalWebserverAuth()       \n",
    "drive = GoogleDrive(gauth)\n",
    "   "
   ]
  },
  {
   "cell_type": "code",
   "execution_count": null,
   "id": "cd4fd668",
   "metadata": {},
   "outputs": [],
   "source": [
    "# replace the value of this variable\n",
    "# with the absolute path of the directory\n",
    "path = r\"C:\\Games\\Battlefield\"   \n",
    "   \n",
    "# iterating thought all the files/folder\n",
    "# of the desired directory\n",
    "for x in os.listdir(path):\n",
    "   \n",
    "    f = drive.CreateFile({'title': x})\n",
    "    f.SetContentFile(os.path.join(path, x))\n",
    "    f.Upload()\n",
    "  \n",
    "    # Due to a known bug in pydrive if we \n",
    "    # don't empty the variable used to\n",
    "    # upload the files to Google Drive the\n",
    "    # file stays open in memory and causes a\n",
    "    # memory leak, therefore preventing its \n",
    "    # deletion\n",
    "    f = None"
   ]
  }
 ],
 "metadata": {
  "kernelspec": {
   "display_name": "Python 3",
   "language": "python",
   "name": "python3"
  },
  "language_info": {
   "codemirror_mode": {
    "name": "ipython",
    "version": 3
   },
   "file_extension": ".py",
   "mimetype": "text/x-python",
   "name": "python",
   "nbconvert_exporter": "python",
   "pygments_lexer": "ipython3",
   "version": "3.8.2"
  }
 },
 "nbformat": 4,
 "nbformat_minor": 5
}
