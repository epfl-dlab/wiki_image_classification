{
 "cells": [
  {
   "cell_type": "markdown",
   "metadata": {},
   "source": [
    "## Summary of results"
   ]
  },
  {
   "cell_type": "markdown",
   "metadata": {},
   "source": [
    "- Number of classes: 10, 20, 30, 40\n",
    "- Basemodel: EfficientNetB0, EfficientNetB1, Xception\n",
    "- Class weights: true/false\n",
    "- Number of training data\n",
    "- Naive labels vs ORES labels\n",
    "- Affine augmentations of training set\n",
    "<!-- - Dimension to which image is reduced (now 32x32) -->\n",
    "<!-- - Unfrozen layers -->"
   ]
  },
  {
   "cell_type": "code",
   "execution_count": 16,
   "metadata": {},
   "outputs": [],
   "source": [
    "import json\n",
    "import os"
   ]
  },
  {
   "cell_type": "code",
   "execution_count": 17,
   "metadata": {},
   "outputs": [
    {
     "name": "stdout",
     "output_type": "stream",
     "text": [
      "Creating file...\n"
     ]
    }
   ],
   "source": [
    "if os.path.isfile('training_configurations.json'):\n",
    "    print('Opening existing file...')\n",
    "    with open('training_configurations.json', 'r') as fp:\n",
    "        training_configurations = json.load(fp)\n",
    "else:\n",
    "    print('Creating file...')\n",
    "    training_configurations = dict()\n",
    "    \n",
    "def create_training_entry(i, nr_classes, labels, class_weights, basemodel, image_dimension):\n",
    "    print(f'Creating {i}th entry in the training_configurations dictionary.')\n",
    "    training_configurations[i] = dict()\n",
    "    training_configurations[i]['nr_classes'] = nr_classes\n",
    "    training_configurations[i]['labels'] = labels\n",
    "    training_configurations[i]['class_weights'] = class_weights\n",
    "    training_configurations[i]['basemodel'] = basemodel\n",
    "    training_configurations[i]['image_dimension'] = image_dimension\n",
    "    training_configurations[i]['results_and_checkpoints_folder'] = f'train/{i}_{labels}_{nr_classes}classes_{str(class_weights)}weights_{basemodel}'\n",
    "    if labels == 'naive':\n",
    "        training_configurations[i]['data_folder'] = 'data/split_dataframes_600k_33_labels_20220606'\n",
    "    elif labels == 'ores':\n",
    "        training_configurations[i]['data_folder'] = 'data/split_dataframes_600k_64_oreslabels_20220609'"
   ]
  },
  {
   "cell_type": "code",
   "execution_count": 18,
   "metadata": {},
   "outputs": [
    {
     "name": "stdout",
     "output_type": "stream",
     "text": [
      "Creating 0th entry in the training_configurations dictionary.\n",
      "Creating 1th entry in the training_configurations dictionary.\n",
      "Creating 2th entry in the training_configurations dictionary.\n",
      "Creating 20th entry in the training_configurations dictionary.\n",
      "Creating 21th entry in the training_configurations dictionary.\n",
      "Creating 22th entry in the training_configurations dictionary.\n",
      "Creating 30th entry in the training_configurations dictionary.\n",
      "Creating 31th entry in the training_configurations dictionary.\n",
      "Creating 40th entry in the training_configurations dictionary.\n",
      "Creating 41th entry in the training_configurations dictionary.\n"
     ]
    }
   ],
   "source": [
    "create_training_entry(i=0, \n",
    "                      nr_classes=10, \n",
    "                      labels='naive',\n",
    "                      class_weights=True, \n",
    "                      basemodel='EfficientNetB0',\n",
    "                      image_dimension=64)\n",
    "\n",
    "create_training_entry(i=1, \n",
    "                      nr_classes=20, \n",
    "                      labels='naive',\n",
    "                      class_weights=True, \n",
    "                      basemodel='EfficientNetB0',\n",
    "                      image_dimension=64)\n",
    "\n",
    "create_training_entry(i=2, \n",
    "                      nr_classes=30, \n",
    "                      labels='naive',\n",
    "                      class_weights=True, \n",
    "                      basemodel='EfficientNetB0',\n",
    "                      image_dimension=64)\n",
    "\n",
    "create_training_entry(i=20, \n",
    "                      nr_classes=10, \n",
    "                      labels='naive',\n",
    "                      class_weights=True, \n",
    "                      basemodel='EfficientNetB2',\n",
    "                      image_dimension=64)\n",
    "\n",
    "create_training_entry(i=21, \n",
    "                      nr_classes=20, \n",
    "                      labels='naive',\n",
    "                      class_weights=True, \n",
    "                      basemodel='EfficientNetB2',\n",
    "                      image_dimension=64)\n",
    "\n",
    "create_training_entry(i=22, \n",
    "                      nr_classes=30, \n",
    "                      labels='naive',\n",
    "                      class_weights=True, \n",
    "                      basemodel='EfficientNetB2',\n",
    "                      image_dimension=64)\n",
    "\n",
    "create_training_entry(i=30, \n",
    "                      nr_classes=10, \n",
    "                      labels='ores',\n",
    "                      class_weights=True, \n",
    "                      basemodel='EfficientNetB0',\n",
    "                      image_dimension=64)\n",
    "\n",
    "create_training_entry(i=31, \n",
    "                      nr_classes=20, \n",
    "                      labels='ores',\n",
    "                      class_weights=True, \n",
    "                      basemodel='EfficientNetB0',\n",
    "                      image_dimension=64)\n",
    "\n",
    "create_training_entry(i=40, \n",
    "                      nr_classes=10, \n",
    "                      labels='ores',\n",
    "                      class_weights=True, \n",
    "                      basemodel='EfficientNetB2',\n",
    "                      image_dimension=64)\n",
    "\n",
    "create_training_entry(i=41, \n",
    "                      nr_classes=20, \n",
    "                      labels='ores',\n",
    "                      class_weights=True, \n",
    "                      basemodel='EfficientNetB2',\n",
    "                      image_dimension=64)\n",
    "\n",
    "with open('training_configurations.json', 'w') as fp:\n",
    "    json.dump(training_configurations, fp)"
   ]
  },
  {
   "cell_type": "code",
   "execution_count": 4,
   "metadata": {},
   "outputs": [],
   "source": [
    "# create_training_entry(i=, \n",
    "#                       nr_classes=, \n",
    "#                       labels=,\n",
    "#                       class_weights=, \n",
    "#                       basemodel='EfficientNetB0', \n",
    "#                       data_folder='data/')"
   ]
  },
  {
   "cell_type": "code",
   "execution_count": 15,
   "metadata": {},
   "outputs": [
    {
     "name": "stdout",
     "output_type": "stream",
     "text": [
      "{'0': {'nr_classes': 10, 'labels': 'naive', 'class_weights': True, 'basemodel': 'EfficientNetB0', 'image_dimension': 32, 'results_and_checkpoints_folder': 'train/0_naive_10classes_Trueweights_EfficientNetB0', 'data_folder': 'data/split_dataframes_600k_33_labels_20220606'}, '1': {'nr_classes': 20, 'labels': 'naive', 'class_weights': True, 'basemodel': 'EfficientNetB0', 'image_dimension': 32, 'results_and_checkpoints_folder': 'train/1_naive_20classes_Trueweights_EfficientNetB0', 'data_folder': 'data/split_dataframes_600k_33_labels_20220606'}, '2': {'nr_classes': 30, 'labels': 'naive', 'class_weights': True, 'basemodel': 'EfficientNetB0', 'image_dimension': 32, 'results_and_checkpoints_folder': 'train/2_naive_30classes_Trueweights_EfficientNetB0', 'data_folder': 'data/split_dataframes_600k_33_labels_20220606'}, '20': {'nr_classes': 10, 'labels': 'naive', 'class_weights': True, 'basemodel': 'EfficientNetB2', 'image_dimension': 32, 'results_and_checkpoints_folder': 'train/20_naive_10classes_Trueweights_EfficientNetB2', 'data_folder': 'data/split_dataframes_600k_33_labels_20220606'}, '21': {'nr_classes': 20, 'labels': 'naive', 'class_weights': True, 'basemodel': 'EfficientNetB2', 'image_dimension': 32, 'results_and_checkpoints_folder': 'train/21_naive_20classes_Trueweights_EfficientNetB2', 'data_folder': 'data/split_dataframes_600k_33_labels_20220606'}, '22': {'nr_classes': 30, 'labels': 'naive', 'class_weights': True, 'basemodel': 'EfficientNetB2', 'image_dimension': 32, 'results_and_checkpoints_folder': 'train/22_naive_30classes_Trueweights_EfficientNetB2', 'data_folder': 'data/split_dataframes_600k_33_labels_20220606'}, '30': {'nr_classes': 10, 'labels': 'ores', 'class_weights': True, 'basemodel': 'EfficientNetB0', 'image_dimension': 32, 'results_and_checkpoints_folder': 'train/30_ores_10classes_Trueweights_EfficientNetB0', 'data_folder': 'data/split_dataframes_600k_64_oreslabels_20220609'}, '31': {'nr_classes': 20, 'labels': 'ores', 'class_weights': True, 'basemodel': 'EfficientNetB0', 'image_dimension': 32, 'results_and_checkpoints_folder': 'train/31_ores_20classes_Trueweights_EfficientNetB0', 'data_folder': 'data/split_dataframes_600k_64_oreslabels_20220609'}, '40': {'nr_classes': 10, 'labels': 'ores', 'class_weights': True, 'basemodel': 'EfficientNetB2', 'image_dimension': 32, 'results_and_checkpoints_folder': 'train/40_ores_10classes_Trueweights_EfficientNetB2', 'data_folder': 'data/split_dataframes_600k_64_oreslabels_20220609'}, '41': {'nr_classes': 20, 'labels': 'ores', 'class_weights': True, 'basemodel': 'EfficientNetB2', 'image_dimension': 32, 'results_and_checkpoints_folder': 'train/41_ores_20classes_Trueweights_EfficientNetB2', 'data_folder': 'data/split_dataframes_600k_64_oreslabels_20220609'}}\n"
     ]
    }
   ],
   "source": [
    "with open('training_configurations.json', 'r') as fp:\n",
    "    training_configurations = json.load(fp)\n",
    "    print(training_configurations)"
   ]
  },
  {
   "cell_type": "code",
   "execution_count": null,
   "metadata": {},
   "outputs": [],
   "source": []
  }
 ],
 "metadata": {
  "interpreter": {
   "hash": "b7f323a1c2c8b3d38dc94a01188981c510c9b5df10e2cc2d7fa4f2b45d318cbd"
  },
  "kernelspec": {
   "display_name": "Python 3.8.2 ('base')",
   "language": "python",
   "name": "python3"
  },
  "language_info": {
   "codemirror_mode": {
    "name": "ipython",
    "version": 3
   },
   "file_extension": ".py",
   "mimetype": "text/x-python",
   "name": "python",
   "nbconvert_exporter": "python",
   "pygments_lexer": "ipython3",
   "version": "3.8.2"
  },
  "orig_nbformat": 4
 },
 "nbformat": 4,
 "nbformat_minor": 2
}
