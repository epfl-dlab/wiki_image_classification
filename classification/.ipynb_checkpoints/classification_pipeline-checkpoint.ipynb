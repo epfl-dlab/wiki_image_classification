{
 "cells": [
  {
   "cell_type": "code",
   "execution_count": 1,
   "metadata": {},
   "outputs": [
    {
     "name": "stdout",
     "output_type": "stream",
     "text": [
      "2.3.0\n"
     ]
    }
   ],
   "source": [
    "# TensorFlow and tf.keras\n",
    "import tensorflow as tf\n",
    "\n",
    "# Helper libraries\n",
    "import numpy as np\n",
    "import json\n",
    "import bz2\n",
    "import urllib.parse\n",
    "import pandas as pd\n",
    "import matplotlib.pyplot as plt\n",
    "import os\n",
    "from help_functions import compute_class_weights, get_y_true\n",
    "\n",
    "from PIL import PngImagePlugin  \n",
    "from tensorflow import keras \n",
    "from tensorflow.keras.preprocessing.image import ImageDataGenerator\n",
    "\n",
    "print(tf.__version__)"
   ]
  },
  {
   "cell_type": "code",
   "execution_count": 2,
   "metadata": {},
   "outputs": [
    {
     "name": "stdout",
     "output_type": "stream",
     "text": [
      "Num GPUs Available: 2\n"
     ]
    }
   ],
   "source": [
    "print(f\"Num GPUs Available: {len(tf.config.list_physical_devices('GPU'))}\")"
   ]
  },
  {
   "cell_type": "markdown",
   "metadata": {},
   "source": [
    "### Hyperparameters"
   ]
  },
  {
   "cell_type": "code",
   "execution_count": 4,
   "metadata": {},
   "outputs": [],
   "source": [
    "EPOCHS = 15\n",
    "IMAGE_DIMENSION = 64\n",
    "LARGE_ENOUGH_NUMBER = 100\n",
    "PngImagePlugin.MAX_TEXT_CHUNK = LARGE_ENOUGH_NUMBER * (1024**2) # to avoid corrupted .png images"
   ]
  },
  {
   "cell_type": "markdown",
   "metadata": {},
   "source": [
    "## 1. Load train and test dataframes"
   ]
  },
  {
   "cell_type": "code",
   "execution_count": 5,
   "metadata": {},
   "outputs": [],
   "source": [
    "train_df = pd.read_json('data/splitted_dfs_500k_20220602/train_df.json.bz2', compression='bz2')\n",
    "test_df = pd.read_json('data/splitted_dfs_500k_20220602/test_df.json.bz2', compression='bz2')"
   ]
  },
  {
   "cell_type": "markdown",
   "metadata": {},
   "source": [
    "### Create generators with augmentations"
   ]
  },
  {
   "cell_type": "code",
   "execution_count": 6,
   "metadata": {},
   "outputs": [
    {
     "name": "stdout",
     "output_type": "stream",
     "text": [
      "\n",
      "----------- Train images -----------\n"
     ]
    },
    {
     "name": "stderr",
     "output_type": "stream",
     "text": [
      "/home/matvieir/anaconda3/lib/python3.8/site-packages/keras_preprocessing/image/dataframe_iterator.py:279: UserWarning: Found 1 invalid image filename(s) in x_col=\"url\". These filename(s) will be ignored.\n",
      "  warnings.warn(\n"
     ]
    },
    {
     "name": "stdout",
     "output_type": "stream",
     "text": [
      "Found 451250 validated image filenames belonging to 24 classes.\n",
      "\n",
      "----------- Validation images -----------\n"
     ]
    },
    {
     "name": "stderr",
     "output_type": "stream",
     "text": [
      "/home/matvieir/anaconda3/lib/python3.8/site-packages/keras_preprocessing/image/dataframe_iterator.py:279: UserWarning: Found 1 invalid image filename(s) in x_col=\"url\". These filename(s) will be ignored.\n",
      "  warnings.warn(\n"
     ]
    },
    {
     "name": "stdout",
     "output_type": "stream",
     "text": [
      "Found 23749 validated image filenames belonging to 24 classes.\n",
      "\n",
      "----------- Test images -----------\n",
      "Found 25000 validated image filenames belonging to 24 classes.\n"
     ]
    }
   ],
   "source": [
    "# Data generator for training and validation sets, performs data augmentations\n",
    "train_generator = ImageDataGenerator(validation_split=0.05, \n",
    "                                     rotation_range=40,\n",
    "                                     width_shift_range=0.2,\n",
    "                                     height_shift_range=0.2,\n",
    "                                     shear_range=0.2,\n",
    "                                     zoom_range=0.2,\n",
    "                                     horizontal_flip=True,\n",
    "                                     fill_mode='nearest') \n",
    "\n",
    "print('\\n----------- Train images -----------')\n",
    "train = train_generator.flow_from_dataframe(dataframe=train_df, \n",
    "                                            directory='/scratch/WIT_Dataset/images', \n",
    "                                            x_col='url', \n",
    "                                            y_col='labels', \n",
    "                                            class_mode='categorical',\n",
    "                                            subset='training',\n",
    "                                            batch_size=32,\n",
    "                                            validate_filenames=True,\n",
    "                                            target_size=(IMAGE_DIMENSION, IMAGE_DIMENSION))\n",
    "\n",
    "print('\\n----------- Validation images -----------')          \n",
    "val = train_generator.flow_from_dataframe(dataframe=train_df, \n",
    "                                          directory='/scratch/WIT_Dataset/images', \n",
    "                                          x_col='url', \n",
    "                                          y_col='labels', \n",
    "                                          class_mode='categorical',\n",
    "                                          subset='validation',\n",
    "                                          validate_filenames=True,\n",
    "                                          target_size=(IMAGE_DIMENSION, IMAGE_DIMENSION))\n",
    "\n",
    "# Data generator for test set\n",
    "test_generator = ImageDataGenerator() \n",
    "print('\\n----------- Test images -----------')          \n",
    "test = test_generator.flow_from_dataframe(dataframe=test_df,\n",
    "                                          directory='/scratch/WIT_Dataset/images',\n",
    "                                          x_col='url', \n",
    "                                          y_col='labels', \n",
    "                                          batch_size=32,\n",
    "                                          class_mode='categorical',\n",
    "                                          validate_filenames=True,\n",
    "                                          target_size=(IMAGE_DIMENSION, IMAGE_DIMENSION))\n",
    "\n",
    "N_LABELS = len(train.class_indices)"
   ]
  },
  {
   "cell_type": "markdown",
   "metadata": {},
   "source": [
    "## 2. Construct and train model\n",
    "Here, we construct a model where the first layers are EfficientNetB0 pre-trained on ImageNet-1k(https://keras.io/api/applications/efficientnet/) with added layers to the end, and train these final end layers with our training data."
   ]
  },
  {
   "cell_type": "code",
   "execution_count": 7,
   "metadata": {},
   "outputs": [],
   "source": [
    "from tensorflow.keras.applications import EfficientNetB0\n",
    "from tensorflow.keras.layers import GlobalAveragePooling2D, Dense, Dropout\n",
    "from tensorflow.keras.preprocessing.image import ImageDataGenerator\n",
    "from tensorflow.keras import optimizers\n",
    "from tensorflow.keras.callbacks import ModelCheckpoint\n",
    "from tensorflow import keras\n",
    "from tensorflow.keras import layers\n",
    "from tensorflow.keras.models import Sequential\n",
    "\n",
    "\n",
    "def create_model():\n",
    "    \"\"\"Take efficientnet pre-trained on imagenet-1k, not including the last layer.\"\"\"\n",
    "    efficient_net = EfficientNetB0(include_top=False, \n",
    "                                   weights='imagenet', \n",
    "                                   classes=N_LABELS,\n",
    "                                   input_shape=(IMAGE_DIMENSION, IMAGE_DIMENSION, 3))\n",
    "    efficient_net.trainable=False\n",
    "\n",
    "    model = Sequential([\n",
    "        efficient_net,\n",
    "        layers.Flatten(),\n",
    "        layers.Dense(128, activation='relu'),\n",
    "        layers.Dense(N_LABELS, activation='sigmoid')\n",
    "    ])\n",
    "\n",
    "    model.compile(optimizer=tf.keras.optimizers.Adam(),\n",
    "                  loss='binary_crossentropy',\n",
    "                  metrics=['accuracy'])\n",
    "\n",
    "    model.summary()\n",
    "    return model\n",
    "\n",
    "# model = create_model()"
   ]
  },
  {
   "cell_type": "code",
   "execution_count": 8,
   "metadata": {},
   "outputs": [
    {
     "ename": "NameError",
     "evalue": "name 'get_y_true' is not defined",
     "output_type": "error",
     "traceback": [
      "\u001b[0;31m---------------\u001b[0m",
      "\u001b[0;31mNameError\u001b[0mTraceback (most recent call last)",
      "\u001b[0;32m<ipython-input-8-ee5e9e9ddd78>\u001b[0m in \u001b[0;36m<module>\u001b[0;34m\u001b[0m\n\u001b[0;32m----> 1\u001b[0;31m \u001b[0my_true\u001b[0m \u001b[0;34m=\u001b[0m \u001b[0mget_y_true\u001b[0m\u001b[0;34m(\u001b[0m\u001b[0mtrain\u001b[0m\u001b[0;34m.\u001b[0m\u001b[0msamples\u001b[0m\u001b[0;34m,\u001b[0m \u001b[0mtrain\u001b[0m\u001b[0;34m.\u001b[0m\u001b[0mclass_indices\u001b[0m\u001b[0;34m,\u001b[0m \u001b[0mtrain\u001b[0m\u001b[0;34m.\u001b[0m\u001b[0mclasses\u001b[0m\u001b[0;34m)\u001b[0m\u001b[0;34m\u001b[0m\u001b[0;34m\u001b[0m\u001b[0m\n\u001b[0m\u001b[1;32m      2\u001b[0m \u001b[0mclass_weights\u001b[0m \u001b[0;34m=\u001b[0m \u001b[0mcompute_class_weights\u001b[0m\u001b[0;34m(\u001b[0m\u001b[0my_true\u001b[0m\u001b[0;34m)\u001b[0m\u001b[0;31m#dict(enumerate(y_true.sum().sum() / y_true.sum(axis=0)))\u001b[0m\u001b[0;34m\u001b[0m\u001b[0;34m\u001b[0m\u001b[0m\n\u001b[1;32m      3\u001b[0m \u001b[0mprint\u001b[0m\u001b[0;34m(\u001b[0m\u001b[0mclass_weights\u001b[0m\u001b[0;34m)\u001b[0m\u001b[0;34m\u001b[0m\u001b[0;34m\u001b[0m\u001b[0m\n",
      "\u001b[0;31mNameError\u001b[0m: name 'get_y_true' is not defined"
     ]
    }
   ],
   "source": [
    "y_true = get_y_true(train.samples, train.class_indices, train.classes)\n",
    "class_weights = compute_class_weights(y_true)#dict(enumerate(y_true.sum().sum() / y_true.sum(axis=0)))\n",
    "print(class_weights)"
   ]
  },
  {
   "cell_type": "code",
   "execution_count": null,
   "metadata": {},
   "outputs": [
    {
     "name": "stdout",
     "output_type": "stream",
     "text": [
      "INFO:tensorflow:Assets written to: checkpoints/naive_26_labels_weights_20220531/cp-0000.ckpt/assets\n",
      "Epoch 1/15\n",
      "   49/51005 [..............................] - ETA: 12:05:38 - loss: 0.2142 - accuracy: 0.1633"
     ]
    },
    {
     "name": "stderr",
     "output_type": "stream",
     "text": [
      "/home/matvieir/anaconda3/lib/python3.8/site-packages/PIL/Image.py:962: UserWarning: Palette images with Transparency expressed in bytes should be converted to RGBA images\n",
      "  warnings.warn(\n"
     ]
    },
    {
     "name": "stdout",
     "output_type": "stream",
     "text": [
      " 1698/51005 [..............................] - ETA: 8:27:47 - loss: 0.1554 - accuracy: 0.1660"
     ]
    }
   ],
   "source": [
    "# Save the weights using the `checkpoint_path` format\n",
    "# https://www.youtube.com/watch?v=HxtBIwfy0kM\n",
    "# https://www.tensorflow.org/tutorials/keras/save_and_load#checkpoint_callback_usage\n",
    "checkpoint_path = \"checkpoints/naive_26_labels_weights_20220602/cp-{epoch:04d}.ckpt\"\n",
    "checkpoint_dir = os.path.dirname(checkpoint_path)\n",
    "cp_callback = tf.keras.callbacks.ModelCheckpoint(filepath=checkpoint_path, \n",
    "                                                 save_weights_only=True, \n",
    "                                                 save_freq='epoch', # save after each epoch\n",
    "                                                 verbose=1)\n",
    "# https://stackoverflow.com/questions/41061457/keras-how-to-save-the-training-history-attribute-of-the-history-object\n",
    "history_callback = tf.keras.callbacks.CSVLogger('checkpoints/naive_26_labels_weights_20220602/history.csv', \n",
    "                                                separator=',', \n",
    "                                                append=True)\n",
    "\n",
    "model.save(checkpoint_path.format(epoch=0))\n",
    "\n",
    "history = model.fit(train, \n",
    "                    epochs=EPOCHS, \n",
    "                    validation_data=val,\n",
    "                    verbose=1,\n",
    "                    callbacks=[cp_callback, history_callback],\n",
    "                    class_weight=class_weights,\n",
    "                   )\n",
    "                    "
   ]
  },
  {
   "cell_type": "markdown",
   "metadata": {},
   "source": [
    "Plot training vs validation accuracy and loss"
   ]
  },
  {
   "cell_type": "code",
   "execution_count": 33,
   "metadata": {},
   "outputs": [
    {
     "ename": "NameError",
     "evalue": "name 'history' is not defined",
     "output_type": "error",
     "traceback": [
      "\u001b[0;31m---------------------------------------------------------------------------\u001b[0m",
      "\u001b[0;31mNameError\u001b[0m                                 Traceback (most recent call last)",
      "\u001b[0;32m<ipython-input-33-2b8d4498dd08>\u001b[0m in \u001b[0;36m<module>\u001b[0;34m\u001b[0m\n\u001b[0;32m----> 1\u001b[0;31m \u001b[0macc\u001b[0m \u001b[0;34m=\u001b[0m \u001b[0mhistory\u001b[0m\u001b[0;34m.\u001b[0m\u001b[0mhistory\u001b[0m\u001b[0;34m[\u001b[0m\u001b[0;34m'accuracy'\u001b[0m\u001b[0;34m]\u001b[0m\u001b[0;34m\u001b[0m\u001b[0;34m\u001b[0m\u001b[0m\n\u001b[0m\u001b[1;32m      2\u001b[0m \u001b[0mval_acc\u001b[0m \u001b[0;34m=\u001b[0m \u001b[0mhistory\u001b[0m\u001b[0;34m.\u001b[0m\u001b[0mhistory\u001b[0m\u001b[0;34m[\u001b[0m\u001b[0;34m'val_accuracy'\u001b[0m\u001b[0;34m]\u001b[0m\u001b[0;34m\u001b[0m\u001b[0;34m\u001b[0m\u001b[0m\n\u001b[1;32m      3\u001b[0m \u001b[0;34m\u001b[0m\u001b[0m\n\u001b[1;32m      4\u001b[0m \u001b[0mcat_acc\u001b[0m \u001b[0;34m=\u001b[0m \u001b[0mhistory\u001b[0m\u001b[0;34m.\u001b[0m\u001b[0mhistory\u001b[0m\u001b[0;34m[\u001b[0m\u001b[0;34m'categorical_accuracy'\u001b[0m\u001b[0;34m]\u001b[0m\u001b[0;34m\u001b[0m\u001b[0;34m\u001b[0m\u001b[0m\n\u001b[1;32m      5\u001b[0m \u001b[0mval_cat_acc\u001b[0m \u001b[0;34m=\u001b[0m \u001b[0mhistory\u001b[0m\u001b[0;34m.\u001b[0m\u001b[0mhistory\u001b[0m\u001b[0;34m[\u001b[0m\u001b[0;34m'val_categorical_accuracy'\u001b[0m\u001b[0;34m]\u001b[0m\u001b[0;34m\u001b[0m\u001b[0;34m\u001b[0m\u001b[0m\n",
      "\u001b[0;31mNameError\u001b[0m: name 'history' is not defined"
     ]
    }
   ],
   "source": [
    "# acc = history.history['accuracy']\n",
    "# val_acc = history.history['val_accuracy']\n",
    "\n",
    "# cat_acc = history.history['categorical_accuracy']\n",
    "# val_cat_acc = history.history['val_categorical_accuracy']\n",
    "\n",
    "# loss = history.history['loss']\n",
    "# val_loss = history.history['val_loss']\n",
    "\n",
    "# Read loss and accuracy values from .csv\n",
    "\n",
    "epochs_range = range(EPOCHS)\n",
    "\n",
    "plt.figure(figsize=(12, 5))\n",
    "\n",
    "plt.subplot(1, 2, 1)\n",
    "plt.xlabel('Epoch')\n",
    "plt.ylim(-0.01, 0.5)\n",
    "plt.grid(True)\n",
    "plt.plot(epochs_range, acc, label='Training Accuracy')\n",
    "plt.plot(epochs_range, val_acc, label='Validation Accuracy')\n",
    "plt.legend(loc='upper right')\n",
    "plt.title('Training and Validation Accuracy')\n",
    "\n",
    "plt.subplot(1, 3, 2)\n",
    "plt.plot(epochs_range, cat_acc, label='Training Accuracy')\n",
    "plt.plot(epochs_range, val_cat_acc, label='Validation Accuracy')\n",
    "plt.legend(loc='lower right')\n",
    "plt.title('Training and Validation Categorical Accuracy')\n",
    "\n",
    "plt.subplot(1, 2, 2)\n",
    "plt.xlabel('Epoch')\n",
    "plt.ylim(0, 0.5)\n",
    "plt.grid(True)\n",
    "plt.plot(epochs_range, loss, label='Training Loss')\n",
    "plt.plot(epochs_range, val_loss, label='Validation Loss')\n",
    "plt.legend(loc='upper right')\n",
    "plt.title('Training and Validation Loss')\n",
    "plt.show()"
   ]
  },
  {
   "cell_type": "markdown",
   "metadata": {},
   "source": [
    "### 3. Evaluation metrics\n",
    "Here, we evaluate the trained model on the test set and take out classification metrics (precision & recall) for each of the individual 64 classes."
   ]
  },
  {
   "cell_type": "code",
   "execution_count": 70,
   "metadata": {},
   "outputs": [],
   "source": [
    "# y_true_test = get_y_true(test.samples, test.class_indices, test.classes)\n",
    "\n",
    "# sorted_indices = np.argsort(np.sum(y_true_test, axis=0))\n",
    "# sorted_images_per_class = y_true_test.sum(axis=0)[sorted_indices]\n",
    "\n",
    "# # mask_kept = y_true.sum(axis=0)[sorted_indices] > MINIMAL_NR_IMAGES\n",
    "# # mask_removed = y_true.sum(axis=0)[sorted_indices] < MINIMAL_NR_IMAGES\n",
    "\n",
    "# _ = plt.figure(figsize=(12, 15))\n",
    "# _ = plt.title('Number of times a label is assigned to image (log-scale x-axis)')\n",
    "\n",
    "# _ = plt.barh(np.array(range(y_true_test.shape[1])), sorted_images_per_class, color='blue', alpha=0.6)\n",
    "# # _ = plt.barh(np.array(range(y_true.shape[1])), sorted_images_per_class, color='red', alpha=0.6)\n",
    "\n",
    "# _ = plt.yticks(range(y_true_test.shape[1]), np.array(list(_data.class_indices.keys()))[sorted_indices])\n",
    "# _ = plt.xscale('log')\n",
    "# _ = plt.xlabel('Count')\n",
    "# _ = plt.grid(True)\n",
    "# balance_test(test.classes, list(test.class_indices.keys()), test_df)\n",
    "# classes = test.classes\n",
    "# class_names = list(test.class_indices.keys())\n",
    "\n",
    "# y_true = get_y_true(classes)\n",
    "\n",
    "# sorted_indices = np.argsort(np.sum(y_true, axis=0))\n",
    "# sorted_class_names = np.array(list(class_names))[sorted_indices]\n",
    "# least_common_class = sorted_class_names[0]\n",
    "# balanced_classes = []\n",
    "# row_ids = []\n",
    "\n",
    "# counter = 0 \n",
    "# for index, row in test_df.iterrows():\n",
    "#     counter += 1\n",
    "#     print(counter)\n",
    "#     if counter % 10 == 0:\n",
    "#         print(f'hej{balanced_classes}')\n",
    "#         y_true = get_y_true(balanced_classes, 40)\n",
    "#         print(y_true)\n",
    "#         sorted_indices = np.argsort(np.sum(y_true, axis=0))\n",
    "# #         print(sorted_indices)\n",
    "#         sorted_class_names = np.array(class_names)[sorted_indices]\n",
    "#         least_common_class = sorted_class_names[0]\n",
    "#     if least_common_class in row.labels:\n",
    "#         balanced_classes.append(row.labels)\n",
    "#         row_ids.append(index)\n",
    "\n",
    "# test_df.loc[row_ids, :]"
   ]
  },
  {
   "cell_type": "code",
   "execution_count": 84,
   "metadata": {},
   "outputs": [
    {
     "name": "stdout",
     "output_type": "stream",
     "text": [
      "ROC AUC: 0.5013\n",
      "                  precision    recall  f1-score   support index\n",
      "Animals            0.003531  0.564263  0.007018     319.0     0\n",
      "Art                0.001029  0.640449  0.002054      89.0     1\n",
      "Astronomy          0.000741  0.024096  0.001437     166.0     2\n",
      "Biology            0.002532  0.502165  0.005038     231.0     3\n",
      "Chemistry          0.002217  0.144578  0.004368     249.0     4\n",
      "Culture            0.300143  0.456024  0.362016   27174.0     5\n",
      "Electrical eng     0.000480  0.630435  0.000958      46.0     6\n",
      "Entertainment      0.026141  0.105741  0.041919    2421.0     7\n",
      "Events             0.014815  0.806525  0.029095    1318.0     8\n",
      "History            0.230598  0.707660  0.347847   20784.0     9\n",
      "Language           0.008933  0.551122  0.017582     802.0    10\n",
      "Literature         0.002980  0.473451  0.005923     226.0    11\n",
      "Marine organisms   0.001114  0.729167  0.002225      96.0    12\n",
      "Mathematics        0.000974  0.790698  0.001946      86.0    13\n",
      "Music              0.003521  0.053191  0.006605     282.0    14\n",
      "Nature             0.169779  0.394687  0.237426   15435.0    15\n",
      "Objects            0.030900  0.631964  0.058920    2872.0    16\n",
      "People             0.066759  0.388908  0.113956    5968.0    17\n",
      "Physics            0.002137  0.262295  0.004239     183.0    18\n",
      "Places             0.441199  0.388671  0.413272   39720.0    19\n",
      "Plants             0.013429  0.227586  0.025361    1160.0    20\n",
      "Politics           0.039995  0.352376  0.071837    3641.0    21\n",
      "Science            0.021781  0.522889  0.041819    1966.0    22\n",
      "Society            0.221748  0.491556  0.305624   20191.0    23\n",
      "Sports             0.033070  0.813830  0.063558    3008.0    24\n",
      "Technology         0.022081  0.733734  0.042872    1998.0    25\n",
      "micro avg          0.064329  0.476438  0.113353  150431.0  None\n",
      "macro avg          0.063947  0.476464  0.085189  150431.0  None\n",
      "weighted avg       0.255935  0.476438  0.299010  150431.0  None\n",
      "samples avg        0.064126  0.468379  0.108793  150431.0  None\n",
      "\n",
      "\n",
      " ----------- PER-CLASS ACCURACY ----------- \n",
      " \n",
      "Animals 0/319 == 0.0\n",
      "Art 0/89 == 0.0\n",
      "Astronomy 0/166 == 0.0\n",
      "Biology 0/231 == 0.0\n",
      "Chemistry 0/249 == 0.0\n",
      "Culture 1934/27174 == 0.071\n",
      "Electrical eng 0/46 == 0.0\n",
      "Entertainment 3/2421 == 0.001\n",
      "Events 0/1318 == 0.0\n",
      "History 614/20784 == 0.03\n",
      "Language 0/802 == 0.0\n",
      "Literature 0/226 == 0.0\n",
      "Marine organisms 0/96 == 0.0\n",
      "Mathematics 0/86 == 0.0\n",
      "Music 0/282 == 0.0\n",
      "Nature 748/15435 == 0.048\n",
      "Objects 1/2872 == 0.0\n",
      "People 0/5968 == 0.0\n",
      "Physics 0/183 == 0.0\n",
      "Places 13896/39720 == 0.35\n",
      "Plants 1/1160 == 0.001\n",
      "Politics 1/3641 == 0.0\n",
      "Science 3/1966 == 0.002\n",
      "Society 327/20191 == 0.016\n",
      "Sports 31/3008 == 0.01\n",
      "Technology 3/1998 == 0.002\n"
     ]
    },
    {
     "data": {
      "image/png": "[encoded data removed]",
      "text/plain": [
       "<Figure size 864x864 with 2 Axes>"
      ]
     },
     "metadata": {
      "needs_background": "light"
     },
     "output_type": "display_data"
    }
   ],
   "source": [
    "from sklearn.metrics import average_precision_score, accuracy_score, roc_auc_score, classification_report\n",
    "\n",
    "# model = create_model()\n",
    "# predictions_2 = model.predict(test, verbose=1)\n",
    "# threshold = 0.5\n",
    "y_pred = 1 * (predictions_2 > threshold)\n",
    "y_true = np.zeros(y_pred.shape)\n",
    "for row_idx, row in enumerate(test.classes):\n",
    "    for idx in row:\n",
    "        y_true[row_idx, idx] = 1\n",
    "print(f'ROC AUC: {roc_auc_score(y_true, y_pred):.4f}')\n",
    "\n",
    "N_CLASSES = y_true.shape[1]\n",
    "metrics_df = pd.DataFrame(classification_report(y_true, y_pred, target_names=list(test.class_indices), output_dict=True)).transpose()\n",
    "metrics_df['index'] = np.concatenate((np.arange(start=0, stop=N_CLASSES), [None, None, None, None]))\n",
    "print(metrics_df)\n",
    "\n",
    "fig, axs = plt.subplots(1, 2, figsize=(12,12))\n",
    "\n",
    "# Precision\n",
    "sorted_indices_precision = np.argsort(metrics_df.precision[0:N_CLASSES])\n",
    "sorted_precisions_per_class = metrics_df.precision[0:N_CLASSES][sorted_indices_precision]\n",
    "# Recall\n",
    "sorted_indices_recall = np.argsort(metrics_df.recall[0:N_CLASSES])\n",
    "sorted_recalls_per_class = metrics_df.recall[0:N_CLASSES][sorted_indices_recall]\n",
    "\n",
    "print('\\n\\n ----------- PER-CLASS ACCURACY ----------- \\n ')\n",
    "# Per-class accuracy\n",
    "from collections import Counter\n",
    "total = Counter()\n",
    "correct = Counter()\n",
    "for i in range(len(test.classes)):\n",
    "    true_y = test.classes[i]\n",
    "    for l in true_y:\n",
    "        total[l]+=1\n",
    "    predicted_y = np.argwhere(predictions[i]>=0.5)\n",
    "    for p in predicted_y:\n",
    "        if p[0] in true_y:\n",
    "            correct[p[0]]+=1\n",
    "\n",
    "name_id_map = test.class_indices\n",
    "class_names = len(name_id_map)*[0]\n",
    "for k in name_id_map.keys():\n",
    "    class_names[name_id_map[k]] = k\n",
    "            \n",
    "for k in sorted(total.keys()):\n",
    "    print(class_names[k].split(\".\")[-1], \"{}/{} == {}\".format(correct[k], total[k], round(correct[k]/total[k], 3)))\n",
    "            \n",
    "# -----------------------------------------------------------\n",
    "    \n",
    "axs[0].set_title('Precision per class')\n",
    "axs[0].barh(range(y_true.shape[1]), sorted_precisions_per_class, color='blue', alpha=0.6)\n",
    "axs[0].set_yticks(range(N_CLASSES))\n",
    "axs[0].set_yticklabels(np.array(list(test.class_indices.keys()))[sorted_indices_precision])\n",
    "axs[0].set_xlabel('Precision')\n",
    "axs[0].grid(True)\n",
    "\n",
    "\n",
    "axs[1].set_title('Recall per class')\n",
    "axs[1].barh(range(y_true.shape[1]), sorted_recalls_per_class, color='blue', alpha=0.6)\n",
    "axs[1].set_yticks(range(N_CLASSES))\n",
    "axs[1].set_yticklabels([])\n",
    "axs[1].set_xlabel('Recall')\n",
    "axs[1].grid(True)"
   ]
  },
  {
   "cell_type": "markdown",
   "metadata": {},
   "source": [
    "Make predictions on the test set and then get classification metrics"
   ]
  },
  {
   "cell_type": "code",
   "execution_count": 85,
   "metadata": {},
   "outputs": [
    {
     "name": "stdout",
     "output_type": "stream",
     "text": [
      "ROC AUC: 0.5000\n"
     ]
    },
    {
     "name": "stderr",
     "output_type": "stream",
     "text": [
      "/home/matvieir/anaconda3/lib/python3.8/site-packages/sklearn/metrics/_classification.py:1245: UndefinedMetricWarning: Precision and F-score are ill-defined and being set to 0.0 in labels with no predicted samples. Use `zero_division` parameter to control this behavior.\n",
      "  _warn_prf(average, modifier, msg_start, len(result))\n",
      "/home/matvieir/anaconda3/lib/python3.8/site-packages/sklearn/metrics/_classification.py:1245: UndefinedMetricWarning: Precision and F-score are ill-defined and being set to 0.0 in samples with no predicted labels. Use `zero_division` parameter to control this behavior.\n",
      "  _warn_prf(average, modifier, msg_start, len(result))\n"
     ]
    },
    {
     "name": "stdout",
     "output_type": "stream",
     "text": [
      "                  precision    recall  f1-score   support index\n",
      "Animals            0.000000  0.000000  0.000000     319.0     0\n",
      "Art                0.000000  0.000000  0.000000      89.0     1\n",
      "Astronomy          0.000000  0.000000  0.000000     166.0     2\n",
      "Biology            0.000000  0.000000  0.000000     231.0     3\n",
      "Chemistry          0.000000  0.000000  0.000000     249.0     4\n",
      "Culture            0.290783  0.071171  0.114353   27174.0     5\n",
      "Electrical eng     0.000000  0.000000  0.000000      46.0     6\n",
      "Entertainment      0.032967  0.001239  0.002389    2421.0     7\n",
      "Events             0.000000  0.000000  0.000000    1318.0     8\n",
      "History            0.245698  0.029542  0.052742   20784.0     9\n",
      "Language           0.000000  0.000000  0.000000     802.0    10\n",
      "Literature         0.000000  0.000000  0.000000     226.0    11\n",
      "Marine organisms   0.000000  0.000000  0.000000      96.0    12\n",
      "Mathematics        0.000000  0.000000  0.000000      86.0    13\n",
      "Music              0.000000  0.000000  0.000000     282.0    14\n",
      "Nature             0.172152  0.048461  0.075632   15435.0    15\n",
      "Objects            0.250000  0.000348  0.000695    2872.0    16\n",
      "People             0.000000  0.000000  0.000000    5968.0    17\n",
      "Physics            0.000000  0.000000  0.000000     183.0    18\n",
      "Places             0.438733  0.349849  0.389282   39720.0    19\n",
      "Plants             0.003676  0.000862  0.001397    1160.0    20\n",
      "Politics           0.076923  0.000275  0.000547    3641.0    21\n",
      "Science            0.025210  0.001526  0.002878    1966.0    22\n",
      "Society            0.235083  0.016195  0.030303   20191.0    23\n",
      "Sports             0.037944  0.010306  0.016209    3008.0    24\n",
      "Technology         0.047619  0.001502  0.002911    1998.0    25\n",
      "micro avg          0.365175  0.116745  0.176927  150431.0  None\n",
      "macro avg          0.071415  0.020434  0.026513  150431.0  None\n",
      "weighted avg       0.260449  0.116745  0.143034  150431.0  None\n",
      "samples avg        0.184623  0.129759  0.143433  150431.0  None\n",
      "\n",
      "\n",
      " ----------- PER-CLASS ACCURACY ----------- \n",
      " \n",
      "Animals 0/319 == 0.0\n",
      "Art 0/89 == 0.0\n",
      "Astronomy 0/166 == 0.0\n",
      "Biology 0/231 == 0.0\n",
      "Chemistry 0/249 == 0.0\n",
      "Culture 1934/27174 == 0.071\n",
      "Electrical eng 0/46 == 0.0\n",
      "Entertainment 3/2421 == 0.001\n",
      "Events 0/1318 == 0.0\n",
      "History 614/20784 == 0.03\n",
      "Language 0/802 == 0.0\n",
      "Literature 0/226 == 0.0\n",
      "Marine organisms 0/96 == 0.0\n",
      "Mathematics 0/86 == 0.0\n",
      "Music 0/282 == 0.0\n",
      "Nature 748/15435 == 0.048\n",
      "Objects 1/2872 == 0.0\n",
      "People 0/5968 == 0.0\n",
      "Physics 0/183 == 0.0\n",
      "Places 13896/39720 == 0.35\n",
      "Plants 1/1160 == 0.001\n",
      "Politics 1/3641 == 0.0\n",
      "Science 3/1966 == 0.002\n",
      "Society 327/20191 == 0.016\n",
      "Sports 31/3008 == 0.01\n",
      "Technology 3/1998 == 0.002\n"
     ]
    },
    {
     "data": {
      "image/png": "[encoded data removed]",
      "text/plain": [
       "<Figure size 864x864 with 2 Axes>"
      ]
     },
     "metadata": {
      "needs_background": "light"
     },
     "output_type": "display_data"
    }
   ],
   "source": [
    "from sklearn.metrics import average_precision_score, accuracy_score, roc_auc_score, classification_report\n",
    "\n",
    "# QUICK: load model weights and evaluate result on test set until now\n",
    "\n",
    "model = create_model()\n",
    "model.load_weights('checkpoints/naive_26_labels_no_weights_20220528/cp-0008.ckpt')\n",
    "# predictions = model.predict(test, verbose=1)\n",
    "threshold = 0.5\n",
    "y_pred = 1 * (predictions > threshold)\n",
    "y_true = np.zeros(y_pred.shape)\n",
    "for row_idx, row in enumerate(test.classes):\n",
    "    for idx in row:\n",
    "        y_true[row_idx, idx] = 1\n",
    "print(f'ROC AUC: {roc_auc_score(y_true, y_pred):.4f}')\n",
    "# fig, axs = plt.subplots(1, 2, figsize=(12,12))\n",
    "\n",
    "N_CLASSES = y_true.shape[1]\n",
    "metrics_df = pd.DataFrame(classification_report(y_true, y_pred, target_names=list(test.class_indices), output_dict=True)).transpose()\n",
    "metrics_df['index'] = np.concatenate((np.arange(start=0, stop=N_CLASSES), [None, None, None, None]))\n",
    "print(metrics_df)\n",
    "\n",
    "fig, axs = plt.subplots(1, 2, figsize=(12,12))\n",
    "\n",
    "# Precision\n",
    "sorted_indices_precision = np.argsort(metrics_df.precision[0:N_CLASSES])\n",
    "sorted_precisions_per_class = metrics_df.precision[0:N_CLASSES][sorted_indices_precision]\n",
    "# Recall\n",
    "sorted_indices_recall = np.argsort(metrics_df.recall[0:N_CLASSES])\n",
    "sorted_recalls_per_class = metrics_df.recall[0:N_CLASSES][sorted_indices_recall]\n",
    "\n",
    "print('\\n\\n ----------- PER-CLASS ACCURACY ----------- \\n ')\n",
    "# Per-class accuracy\n",
    "from collections import Counter\n",
    "total = Counter()\n",
    "correct = Counter()\n",
    "for i in range(len(test.classes)):\n",
    "    true_y = test.classes[i]\n",
    "    for l in true_y:\n",
    "        total[l]+=1\n",
    "    predicted_y = np.argwhere(predictions[i]>=0.5)\n",
    "    for p in predicted_y:\n",
    "        if p[0] in true_y:\n",
    "            correct[p[0]]+=1\n",
    "            \n",
    "name_id_map = test.class_indices\n",
    "class_names = len(name_id_map)*[0]\n",
    "for k in name_id_map.keys():\n",
    "    class_names[name_id_map[k]] = k\n",
    "            \n",
    "for k in sorted(total.keys()):\n",
    "    print(class_names[k].split(\".\")[-1], \"{}/{} == {}\".format(correct[k], total[k], round(correct[k]/total[k], 3)))\n",
    "\n",
    "# -----------------------------------------------------------\n",
    "\n",
    "axs[0].set_title('Precision per class')\n",
    "axs[0].barh(range(y_true.shape[1]), sorted_precisions_per_class, color='blue', alpha=0.6)\n",
    "axs[0].set_yticks(range(N_CLASSES))\n",
    "axs[0].set_yticklabels(np.array(list(test.class_indices.keys()))[sorted_indices_precision])\n",
    "axs[0].set_xlabel('Precision')\n",
    "axs[0].grid(True)\n",
    "\n",
    "\n",
    "axs[1].set_title('Recall per class')\n",
    "axs[1].barh(range(y_true.shape[1]), sorted_recalls_per_class, color='blue', alpha=0.6)\n",
    "axs[1].set_yticks(range(N_CLASSES))\n",
    "axs[1].set_yticklabels([])\n",
    "axs[1].set_xlabel('Recall')\n",
    "axs[1].grid(True)"
   ]
  },
  {
   "cell_type": "code",
   "execution_count": 9,
   "metadata": {},
   "outputs": [
    {
     "name": "stdout",
     "output_type": "stream",
     "text": [
      "Model: \"sequential_2\"\n",
      "_________________________________________________________________\n",
      "Layer (type)                 Output Shape              Param #   \n",
      "=================================================================\n",
      "efficientnetb0 (Functional)  (None, 2, 2, 1280)        4049571   \n",
      "_________________________________________________________________\n",
      "flatten_2 (Flatten)          (None, 5120)              0         \n",
      "_________________________________________________________________\n",
      "dense_4 (Dense)              (None, 128)               655488    \n",
      "_________________________________________________________________\n",
      "dense_5 (Dense)              (None, 26)                3354      \n",
      "=================================================================\n",
      "Total params: 4,708,413\n",
      "Trainable params: 658,842\n",
      "Non-trainable params: 4,049,571\n",
      "_________________________________________________________________\n",
      "WARNING:tensorflow:Unresolved object in checkpoint: (root).optimizer.iter\n",
      "WARNING:tensorflow:Unresolved object in checkpoint: (root).optimizer.beta_1\n",
      "WARNING:tensorflow:Unresolved object in checkpoint: (root).optimizer.beta_2\n",
      "WARNING:tensorflow:Unresolved object in checkpoint: (root).optimizer.decay\n",
      "WARNING:tensorflow:Unresolved object in checkpoint: (root).optimizer.learning_rate\n",
      "WARNING:tensorflow:A checkpoint was restored (e.g. tf.train.Checkpoint.restore or tf.keras.Model.load_weights) but not all checkpointed values were used. See above for specific issues. Use expect_partial() on the load status object, e.g. tf.train.Checkpoint.restore(...).expect_partial(), to silence these warnings, or use assert_consumed() to make the check explicit. See https://www.tensorflow.org/guide/checkpoint#loading_mechanics for details.\n",
      " 199/2827 [=>............................] - ETA: 24:29"
     ]
    },
    {
     "name": "stderr",
     "output_type": "stream",
     "text": [
      "/home/matvieir/anaconda3/lib/python3.8/site-packages/PIL/Image.py:962: UserWarning: Palette images with Transparency expressed in bytes should be converted to RGBA images\n",
      "  warnings.warn(\n"
     ]
    },
    {
     "name": "stdout",
     "output_type": "stream",
     "text": [
      "2827/2827 [==============================] - 1686s 596ms/step\n",
      "ROC AUC: 0.5000\n"
     ]
    },
    {
     "name": "stderr",
     "output_type": "stream",
     "text": [
      "/home/matvieir/anaconda3/lib/python3.8/site-packages/sklearn/metrics/_classification.py:1245: UndefinedMetricWarning: Precision and F-score are ill-defined and being set to 0.0 in labels with no predicted samples. Use `zero_division` parameter to control this behavior.\n",
      "  _warn_prf(average, modifier, msg_start, len(result))\n",
      "/home/matvieir/anaconda3/lib/python3.8/site-packages/sklearn/metrics/_classification.py:1245: UndefinedMetricWarning: Precision and F-score are ill-defined and being set to 0.0 in samples with no predicted labels. Use `zero_division` parameter to control this behavior.\n",
      "  _warn_prf(average, modifier, msg_start, len(result))\n"
     ]
    },
    {
     "name": "stdout",
     "output_type": "stream",
     "text": [
      "                  precision    recall  f1-score   support index\n",
      "Animals            0.000000  0.000000  0.000000     312.0     0\n",
      "Art                0.000000  0.000000  0.000000      94.0     1\n",
      "Astronomy          0.000000  0.000000  0.000000     146.0     2\n",
      "Biology            0.000000  0.000000  0.000000     223.0     3\n",
      "Chemistry          0.000000  0.000000  0.000000     255.0     4\n",
      "Culture            0.302632  0.060801  0.101259   26858.0     5\n",
      "Electrical eng     0.000000  0.000000  0.000000      52.0     6\n",
      "Entertainment      0.130435  0.001299  0.002572    2310.0     7\n",
      "Events             0.000000  0.000000  0.000000    1286.0     8\n",
      "History            0.217141  0.029317  0.051660   20568.0     9\n",
      "Language           0.000000  0.000000  0.000000     785.0    10\n",
      "Literature         0.000000  0.000000  0.000000     199.0    11\n",
      "Marine organisms   0.000000  0.000000  0.000000      91.0    12\n",
      "Mathematics        0.000000  0.000000  0.000000      86.0    13\n",
      "Music              0.000000  0.000000  0.000000     314.0    14\n",
      "Nature             0.172676  0.033481  0.056087   15591.0    15\n",
      "Objects            0.000000  0.000000  0.000000    2761.0    16\n",
      "People             0.000000  0.000000  0.000000    5769.0    17\n",
      "Physics            0.000000  0.000000  0.000000     163.0    18\n",
      "Places             0.437605  0.369621  0.400750   39600.0    19\n",
      "Plants             0.012232  0.003393  0.005312    1179.0    20\n",
      "Politics           0.051471  0.003857  0.007176    3630.0    21\n",
      "Science            0.020921  0.002591  0.004610    1930.0    22\n",
      "Society            0.207373  0.006637  0.012863   20340.0    23\n",
      "Sports             0.035937  0.007994  0.013079    2877.0    24\n",
      "Technology         0.000000  0.000000  0.000000    1982.0    25\n",
      "micro avg          0.373275  0.117663  0.178926  149401.0  None\n",
      "macro avg          0.061093  0.019961  0.025206  149401.0  None\n",
      "weighted avg       0.250868  0.117663  0.139709  149401.0  None\n",
      "samples avg        0.185743  0.131706  0.145239  149401.0  None\n",
      "\n",
      "\n",
      " ----------- PER-CLASS ACCURACY ----------- \n",
      " \n",
      "Animals 0/312 == 0.0\n",
      "Art 0/94 == 0.0\n",
      "Astronomy 0/146 == 0.0\n",
      "Biology 0/223 == 0.0\n",
      "Chemistry 0/255 == 0.0\n",
      "Culture 1633/26858 == 0.061\n",
      "Electrical eng 0/52 == 0.0\n",
      "Entertainment 3/2310 == 0.001\n",
      "Events 0/1286 == 0.0\n",
      "History 603/20568 == 0.029\n",
      "Language 0/785 == 0.0\n",
      "Literature 0/199 == 0.0\n",
      "Marine organisms 0/91 == 0.0\n",
      "Mathematics 0/86 == 0.0\n",
      "Music 0/314 == 0.0\n",
      "Nature 522/15591 == 0.033\n",
      "Objects 0/2761 == 0.0\n",
      "People 0/5769 == 0.0\n",
      "Physics 0/163 == 0.0\n",
      "Places 14637/39600 == 0.37\n",
      "Plants 4/1179 == 0.003\n",
      "Politics 14/3630 == 0.004\n",
      "Science 5/1930 == 0.003\n",
      "Society 135/20340 == 0.007\n",
      "Sports 23/2877 == 0.008\n",
      "Technology 0/1982 == 0.0\n"
     ]
    },
    {
     "data": {
      "image/png": "[encoded data removed]",
      "text/plain": [
       "<Figure size 864x864 with 2 Axes>"
      ]
     },
     "metadata": {
      "needs_background": "light"
     },
     "output_type": "display_data"
    }
   ],
   "source": [
    "from sklearn.metrics import average_precision_score, accuracy_score, roc_auc_score, classification_report\n",
    "\n",
    "# QUICK: load model weights and evaluate result on test set until now\n",
    "\n",
    "model = create_model()\n",
    "model.load_weights('checkpoints/naive_26_labels_no_weights_20220528/cp-0007.ckpt')\n",
    "predictions = model.predict(test, verbose=1)\n",
    "threshold = 0.5\n",
    "y_pred = 1 * (predictions > threshold)\n",
    "y_true = np.zeros(y_pred.shape)\n",
    "for row_idx, row in enumerate(test.classes):\n",
    "    for idx in row:\n",
    "        y_true[row_idx, idx] = 1\n",
    "print(f'ROC AUC: {roc_auc_score(y_true, y_pred):.4f}')\n",
    "# fig, axs = plt.subplots(1, 2, figsize=(12,12))\n",
    "\n",
    "N_CLASSES = y_true.shape[1]\n",
    "metrics_df = pd.DataFrame(classification_report(y_true, y_pred, target_names=list(test.class_indices), output_dict=True)).transpose()\n",
    "metrics_df['index'] = np.concatenate((np.arange(start=0, stop=N_CLASSES), [None, None, None, None]))\n",
    "print(metrics_df)\n",
    "\n",
    "fig, axs = plt.subplots(1, 2, figsize=(12,12))\n",
    "\n",
    "# Precision\n",
    "sorted_indices_precision = np.argsort(metrics_df.precision[0:N_CLASSES])\n",
    "sorted_precisions_per_class = metrics_df.precision[0:N_CLASSES][sorted_indices_precision]\n",
    "# Recall\n",
    "sorted_indices_recall = np.argsort(metrics_df.recall[0:N_CLASSES])\n",
    "sorted_recalls_per_class = metrics_df.recall[0:N_CLASSES][sorted_indices_recall]\n",
    "\n",
    "print('\\n\\n ----------- PER-CLASS ACCURACY ----------- \\n ')\n",
    "# Per-class accuracy\n",
    "from collections import Counter\n",
    "total = Counter()\n",
    "correct = Counter()\n",
    "for i in range(len(test.classes)):\n",
    "    true_y = test.classes[i]\n",
    "    for l in true_y:\n",
    "        total[l]+=1\n",
    "    predicted_y = np.argwhere(predictions[i]>=0.5)\n",
    "    for p in predicted_y:\n",
    "        if p[0] in true_y:\n",
    "            correct[p[0]]+=1\n",
    "            \n",
    "name_id_map = test.class_indices\n",
    "class_names = len(name_id_map)*[0]\n",
    "for k in name_id_map.keys():\n",
    "    class_names[name_id_map[k]] = k\n",
    "            \n",
    "for k in sorted(total.keys()):\n",
    "    print(class_names[k].split(\".\")[-1], \"{}/{} == {}\".format(correct[k], total[k], round(correct[k]/total[k], 3)))\n",
    "\n",
    "# -----------------------------------------------------------\n",
    "\n",
    "axs[0].set_title('Precision per class')\n",
    "axs[0].barh(range(y_true.shape[1]), sorted_precisions_per_class, color='blue', alpha=0.6)\n",
    "axs[0].set_yticks(range(N_CLASSES))\n",
    "axs[0].set_yticklabels(np.array(list(test.class_indices.keys()))[sorted_indices_precision])\n",
    "axs[0].set_xlabel('Precision')\n",
    "axs[0].grid(True)\n",
    "\n",
    "\n",
    "axs[1].set_title('Recall per class')\n",
    "axs[1].barh(range(y_true.shape[1]), sorted_recalls_per_class, color='blue', alpha=0.6)\n",
    "axs[1].set_yticks(range(N_CLASSES))\n",
    "axs[1].set_yticklabels([])\n",
    "axs[1].set_xlabel('Recall')\n",
    "axs[1].grid(True)"
   ]
  }
 ],
 "metadata": {
  "interpreter": {
   "hash": "b7f323a1c2c8b3d38dc94a01188981c510c9b5df10e2cc2d7fa4f2b45d318cbd"
  },
  "kernelspec": {
   "display_name": "Python 3",
   "language": "python",
   "name": "python3"
  },
  "language_info": {
   "codemirror_mode": {
    "name": "ipython",
    "version": 3
   },
   "file_extension": ".py",
   "mimetype": "text/x-python",
   "name": "python",
   "nbconvert_exporter": "python",
   "pygments_lexer": "ipython3",
   "version": "3.8.2"
  }
 },
 "nbformat": 4,
 "nbformat_minor": 2
}
