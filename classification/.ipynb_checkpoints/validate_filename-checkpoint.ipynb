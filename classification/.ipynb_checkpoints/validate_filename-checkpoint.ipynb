{
 "cells": [
  {
   "cell_type": "code",
   "execution_count": 3,
   "metadata": {},
   "outputs": [
    {
     "ename": "FileNotFoundError",
     "evalue": "[Errno 2] No such file or directory: '/scratch/WIT_Dataset/images/7/7c/Saint-Michel-des-Andaines_-_Prieuré_Saint-Ortaire_-_Chapelle_03.jpg'",
     "output_type": "error",
     "traceback": [
      "\u001b[0;31m---------------------------------------------------------------------------\u001b[0m",
      "\u001b[0;31mFileNotFoundError\u001b[0m                         Traceback (most recent call last)",
      "\u001b[0;32m<ipython-input-3-a2f46ec2cae3>\u001b[0m in \u001b[0;36m<module>\u001b[0;34m\u001b[0m\n\u001b[1;32m      1\u001b[0m \u001b[0mfilename\u001b[0m\u001b[0;34m=\u001b[0m\u001b[0;34m\"/scratch/WIT_Dataset/images/7/7c/Saint-Michel-des-Andaines_-_Prieuré_Saint-Ortaire_-_Chapelle_03.jpg\"\u001b[0m\u001b[0;34m\u001b[0m\u001b[0;34m\u001b[0m\u001b[0m\n\u001b[1;32m      2\u001b[0m \u001b[0manother_file\u001b[0m \u001b[0;34m=\u001b[0m \u001b[0;34m\"/scratch/WIT_Dataset/images/7/7c/--GFDL--Voveraite.JPG\"\u001b[0m\u001b[0;34m\u001b[0m\u001b[0;34m\u001b[0m\u001b[0m\n\u001b[0;32m----> 3\u001b[0;31m \u001b[0;32mwith\u001b[0m \u001b[0mopen\u001b[0m\u001b[0;34m(\u001b[0m\u001b[0mfilename\u001b[0m\u001b[0;34m,\u001b[0m \u001b[0;34m\"rb\"\u001b[0m\u001b[0;34m)\u001b[0m \u001b[0;32mas\u001b[0m \u001b[0mf\u001b[0m\u001b[0;34m:\u001b[0m\u001b[0;34m\u001b[0m\u001b[0;34m\u001b[0m\u001b[0m\n\u001b[0m\u001b[1;32m      4\u001b[0m     \u001b[0mprint\u001b[0m\u001b[0;34m(\u001b[0m\u001b[0;34m\"hello\"\u001b[0m\u001b[0;34m)\u001b[0m\u001b[0;34m\u001b[0m\u001b[0;34m\u001b[0m\u001b[0m\n",
      "\u001b[0;31mFileNotFoundError\u001b[0m: [Errno 2] No such file or directory: '/scratch/WIT_Dataset/images/7/7c/Saint-Michel-des-Andaines_-_Prieuré_Saint-Ortaire_-_Chapelle_03.jpg'"
     ]
    }
   ],
   "source": [
    "filename=\"/scratch/WIT_Dataset/images/7/7c/Saint-Michel-des-Andaines_-_Prieuré_Saint-Ortaire_-_Chapelle_03.jpg\"\n",
    "# another_file = \"/scratch/WIT_Dataset/images/7/7c/--GFDL--Voveraite.JPG\"\n",
    "with open(filename, \"rb\") as f:\n",
    "    print(\"hello\")"
   ]
  },
  {
   "cell_type": "code",
   "execution_count": 10,
   "metadata": {},
   "outputs": [
    {
     "name": "stdout",
     "output_type": "stream",
     "text": [
      "ls: cannot access '/scratch/WIT_Dataset/images/7/7c/Saint-Michel-des-Andaines_-_Prieuré_Saint-Ortaire_-_Chapelle_03.jpg': No such file or directory\r\n"
     ]
    }
   ],
   "source": [
    "!ls -lh /scratch/WIT_Dataset/images/7/7c/Saint-Michel-des-Andaines_-_Prieuré_Saint-Ortaire_-_Chapelle_03.jpg"
   ]
  }
 ],
 "metadata": {
  "interpreter": {
   "hash": "916dbcbb3f70747c44a77c7bcd40155683ae19c65e1c03b4aa3499c5328201f1"
  },
  "kernelspec": {
   "display_name": "Python 3",
   "language": "python",
   "name": "python3"
  },
  "language_info": {
   "codemirror_mode": {
    "name": "ipython",
    "version": 3
   },
   "file_extension": ".py",
   "mimetype": "text/x-python",
   "name": "python",
   "nbconvert_exporter": "python",
   "pygments_lexer": "ipython3",
   "version": "3.8.8"
  }
 },
 "nbformat": 4,
 "nbformat_minor": 2
}
