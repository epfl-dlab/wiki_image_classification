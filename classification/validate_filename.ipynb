{
 "cells": [
  {
   "cell_type": "code",
   "execution_count": 14,
   "metadata": {},
   "outputs": [
    {
     "ename": "FileNotFoundError",
     "evalue": "[Errno 2] No such file or directory: '/scratch/WIT_Dataset/images/7/7c/Saint-Michel-des-Andaines_-_Prieur\\\\xc3\\\\xa9_Saint-Ortaire_-_Chapelle_03.jpg'",
     "output_type": "error",
     "traceback": [
      "\u001b[0;31m---------------------------------------------------------------------------\u001b[0m",
      "\u001b[0;31mFileNotFoundError\u001b[0m                         Traceback (most recent call last)",
      "\u001b[0;32m<ipython-input-14-a66e9304b82e>\u001b[0m in \u001b[0;36m<module>\u001b[0;34m\u001b[0m\n\u001b[1;32m      1\u001b[0m \u001b[0mfilename\u001b[0m\u001b[0;34m=\u001b[0m\u001b[0;34m'/scratch/WIT_Dataset/images/7/7c/Saint-Michel-des-Andaines_-_Prieuré_Saint-Ortaire_-_Chapelle_03.jpg'\u001b[0m\u001b[0;34m\u001b[0m\u001b[0;34m\u001b[0m\u001b[0m\n\u001b[1;32m      2\u001b[0m \u001b[0manother_file\u001b[0m \u001b[0;34m=\u001b[0m \u001b[0;34m\"/scratch/WIT_Dataset/images/7/7c/--GFDL--Voveraite.JPG\"\u001b[0m\u001b[0;34m\u001b[0m\u001b[0;34m\u001b[0m\u001b[0m\n\u001b[0;32m----> 3\u001b[0;31m \u001b[0;32mwith\u001b[0m \u001b[0mopen\u001b[0m\u001b[0;34m(\u001b[0m\u001b[0mstr\u001b[0m\u001b[0;34m(\u001b[0m\u001b[0mfilename\u001b[0m\u001b[0;34m.\u001b[0m\u001b[0mencode\u001b[0m\u001b[0;34m(\u001b[0m\u001b[0;34m)\u001b[0m\u001b[0;34m)\u001b[0m\u001b[0;34m[\u001b[0m\u001b[0;36m2\u001b[0m\u001b[0;34m:\u001b[0m\u001b[0;34m-\u001b[0m\u001b[0;36m1\u001b[0m\u001b[0;34m]\u001b[0m\u001b[0;34m,\u001b[0m \u001b[0;34m\"rb\"\u001b[0m\u001b[0;34m)\u001b[0m \u001b[0;32mas\u001b[0m \u001b[0mf\u001b[0m\u001b[0;34m:\u001b[0m\u001b[0;34m\u001b[0m\u001b[0;34m\u001b[0m\u001b[0m\n\u001b[0m\u001b[1;32m      4\u001b[0m     \u001b[0mprint\u001b[0m\u001b[0;34m(\u001b[0m\u001b[0;34m\"hgvhjgvhgvhg\"\u001b[0m\u001b[0;34m)\u001b[0m\u001b[0;34m\u001b[0m\u001b[0;34m\u001b[0m\u001b[0m\n",
      "\u001b[0;31mFileNotFoundError\u001b[0m: [Errno 2] No such file or directory: '/scratch/WIT_Dataset/images/7/7c/Saint-Michel-des-Andaines_-_Prieur\\\\xc3\\\\xa9_Saint-Ortaire_-_Chapelle_03.jpg'"
     ]
    }
   ],
   "source": [
    "filename='/scratch/WIT_Dataset/images/7/7c/Saint-Michel-des-Andaines_-_Prieuré_Saint-Ortaire_-_Chapelle_03.jpg'\n",
    "another_file = \"/scratch/WIT_Dataset/images/7/7c/--GFDL--Voveraite.JPG\"\n",
    "with open(str(filename.encode())[2:-1], \"rb\") as f:\n",
    "    print(\"hgvhjgvhgvhg\")"
   ]
  },
  {
   "cell_type": "code",
   "execution_count": 9,
   "metadata": {},
   "outputs": [
    {
     "name": "stdout",
     "output_type": "stream",
     "text": [
      "ls: cannot access '/scratch/WIT_Dataset/images/7/7c/Saint-Michel-des-Andaines_-_Prieuré_Saint-Ortaire_-_Chapelle_03.jpg': No such file or directory\r\n"
     ]
    }
   ],
   "source": [
    "!ls -lh /scratch/WIT_Dataset/images/7/7c/Saint-Michel-des-Andaines_-_Prieuré_Saint-Ortaire_-_Chapelle_03.jpg"
   ]
  },
  {
   "cell_type": "code",
   "execution_count": 16,
   "metadata": {},
   "outputs": [
    {
     "data": {
      "text/plain": [
       "'/scratch/WIT_Dataset/images/7/7c/Saint-Michel-des-Andaines_-_Prieur\\\\xc3\\\\xa9_Saint-Ortaire_-_Chapelle_03.jpg'"
      ]
     },
     "execution_count": 16,
     "metadata": {},
     "output_type": "execute_result"
    }
   ],
   "source": [
    "str(filename.encode())[2:-1]"
   ]
  },
  {
   "cell_type": "code",
   "execution_count": 65,
   "metadata": {},
   "outputs": [
    {
     "name": "stdout",
     "output_type": "stream",
     "text": [
      "afg\n"
     ]
    }
   ],
   "source": [
    "with open(\"/scratch/WIT_Dataset/images/7/7c/Saint-Michel-des-Andaines_-_Prieur\\xc3\\xa9_Saint-Ortaire_-_Chapelle_03.jpg\", \"rb\") as f:\n",
    "    print('afg')\n"
   ]
  },
  {
   "cell_type": "code",
   "execution_count": 68,
   "metadata": {},
   "outputs": [
    {
     "data": {
      "text/plain": [
       "'8xc38xa9'"
      ]
     },
     "execution_count": 68,
     "metadata": {},
     "output_type": "execute_result"
    }
   ],
   "source": [
    "str('é'.encode())[2:-1].replace(\"\\\\\", \"\\\")"
   ]
  },
  {
   "cell_type": "code",
   "execution_count": 61,
   "metadata": {},
   "outputs": [
    {
     "data": {
      "text/plain": [
       "'/scratch/WIT_Dataset/images/7/7c/Saint-Michel-des-Andaines_-_Prieur\\\\xc3\\\\xa9_Saint-Ortaire_-_Chapelle_03.jpg'"
      ]
     },
     "execution_count": 61,
     "metadata": {},
     "output_type": "execute_result"
    }
   ],
   "source": [
    "str(filename.encode())[2:-1]"
   ]
  }
 ],
 "metadata": {
  "interpreter": {
   "hash": "916dbcbb3f70747c44a77c7bcd40155683ae19c65e1c03b4aa3499c5328201f1"
  },
  "kernelspec": {
   "display_name": "Python 3",
   "language": "python",
   "name": "python3"
  },
  "language_info": {
   "codemirror_mode": {
    "name": "ipython",
    "version": 3
   },
   "file_extension": ".py",
   "mimetype": "text/x-python",
   "name": "python",
   "nbconvert_exporter": "python",
   "pygments_lexer": "ipython3",
   "version": "3.8.8"
  }
 },
 "nbformat": 4,
 "nbformat_minor": 2
}
