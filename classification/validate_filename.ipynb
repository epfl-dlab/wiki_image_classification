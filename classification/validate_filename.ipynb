{
 "cells": [
  {
   "cell_type": "code",
   "execution_count": 94,
   "metadata": {},
   "outputs": [
    {
     "name": "stdout",
     "output_type": "stream",
     "text": [
      "hgvhjgvhgvhg\n"
     ]
    }
   ],
   "source": [
    "filename='/scratch/WIT_Dataset/images/7/7c/Saint-Michel-des-Andaines_-_Prieuré_Saint-Ortaire_-_Chapelle_03.jpg'\n",
    "another_file = \"/scratch/WIT_Dataset/images/7/7c/--GFDL--Voveraite.JPG\"\n",
    "with open(filename.encode().decode('unicode-escape'), \"rb\") as f:\n",
    "    print(\"hgvhjgvhgvhg\")"
   ]
  },
  {
   "cell_type": "code",
   "execution_count": 9,
   "metadata": {},
   "outputs": [
    {
     "name": "stdout",
     "output_type": "stream",
     "text": [
      "ls: cannot access '/scratch/WIT_Dataset/images/7/7c/Saint-Michel-des-Andaines_-_Prieuré_Saint-Ortaire_-_Chapelle_03.jpg': No such file or directory\r\n"
     ]
    }
   ],
   "source": [
    "!ls -lh /scratch/WIT_Dataset/images/7/7c/Saint-Michel-des-Andaines_-_Prieuré_Saint-Ortaire_-_Chapelle_03.jpg"
   ]
  },
  {
   "cell_type": "code",
   "execution_count": 95,
   "metadata": {},
   "outputs": [
    {
     "data": {
      "text/plain": [
       "str"
      ]
     },
     "execution_count": 95,
     "metadata": {},
     "output_type": "execute_result"
    }
   ],
   "source": [
    "type(filename.encode().decode('unicode-escape'))"
   ]
  },
  {
   "cell_type": "code",
   "execution_count": 80,
   "metadata": {},
   "outputs": [
    {
     "name": "stdout",
     "output_type": "stream",
     "text": [
      "afg\n"
     ]
    }
   ],
   "source": [
    "with open(\"/scratch/WIT_Dataset/images/7/7c/Saint-Michel-des-Andaines_-_Prieur\\xc3\\xa9_Saint-Ortaire_-_Chapelle_03.jpg\", \"rb\") as f:\n",
    "    print('afg')\n"
   ]
  },
  {
   "cell_type": "code",
   "execution_count": 78,
   "metadata": {},
   "outputs": [
    {
     "data": {
      "text/plain": [
       "b'\\\\xe9'"
      ]
     },
     "execution_count": 78,
     "metadata": {},
     "output_type": "execute_result"
    }
   ],
   "source": [
    "import codecs\n",
    "codecs.encode('é', 'unicode_escape')"
   ]
  },
  {
   "cell_type": "code",
   "execution_count": 61,
   "metadata": {},
   "outputs": [
    {
     "data": {
      "text/plain": [
       "'/scratch/WIT_Dataset/images/7/7c/Saint-Michel-des-Andaines_-_Prieur\\\\xc3\\\\xa9_Saint-Ortaire_-_Chapelle_03.jpg'"
      ]
     },
     "execution_count": 61,
     "metadata": {},
     "output_type": "execute_result"
    }
   ],
   "source": [
    "str(filename.encode())[2:-1]"
   ]
  }
 ],
 "metadata": {
  "interpreter": {
   "hash": "916dbcbb3f70747c44a77c7bcd40155683ae19c65e1c03b4aa3499c5328201f1"
  },
  "kernelspec": {
   "display_name": "Python 3",
   "language": "python",
   "name": "python3"
  },
  "language_info": {
   "codemirror_mode": {
    "name": "ipython",
    "version": 3
   },
   "file_extension": ".py",
   "mimetype": "text/x-python",
   "name": "python",
   "nbconvert_exporter": "python",
   "pygments_lexer": "ipython3",
   "version": "3.8.8"
  }
 },
 "nbformat": 4,
 "nbformat_minor": 2
}
