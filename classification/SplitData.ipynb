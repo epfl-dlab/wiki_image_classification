{
 "cells": [
  {
   "cell_type": "markdown",
   "id": "d4b6e3a6",
   "metadata": {},
   "source": [
    "### Read, split and save train, validation and test dataframes"
   ]
  },
  {
   "cell_type": "code",
   "execution_count": 1,
   "id": "120f4b7e",
   "metadata": {},
   "outputs": [],
   "source": [
    "import pandas as pd\n",
    "from sklearn.model_selection import train_test_split"
   ]
  },
  {
   "cell_type": "markdown",
   "id": "c33762a6",
   "metadata": {},
   "source": [
    "Load labels."
   ]
  },
  {
   "cell_type": "code",
   "execution_count": 3,
   "id": "2e79d993",
   "metadata": {},
   "outputs": [
    {
     "name": "stdout",
     "output_type": "stream",
     "text": [
      "(2008312, 5)\n"
     ]
    },
    {
     "data": {
      "text/html": [
       "<div>\n",
       "<style scoped>\n",
       "    .dataframe tbody tr th:only-of-type {\n",
       "        vertical-align: middle;\n",
       "    }\n",
       "\n",
       "    .dataframe tbody tr th {\n",
       "        vertical-align: top;\n",
       "    }\n",
       "\n",
       "    .dataframe thead th {\n",
       "        text-align: right;\n",
       "    }\n",
       "</style>\n",
       "<table border=\"1\" class=\"dataframe\">\n",
       "  <thead>\n",
       "    <tr style=\"text-align: right;\">\n",
       "      <th></th>\n",
       "      <th>id</th>\n",
       "      <th>title</th>\n",
       "      <th>url</th>\n",
       "      <th>categories</th>\n",
       "      <th>new_labels</th>\n",
       "    </tr>\n",
       "  </thead>\n",
       "  <tbody>\n",
       "    <tr>\n",
       "      <th>0</th>\n",
       "      <td>80902489</td>\n",
       "      <td>\"A Gathering of Court Women\", Folio from the D...</td>\n",
       "      <td>c/c1/%22A_Gathering_of_Court_Women%22%2C_Folio...</td>\n",
       "      <td>[Department of Islamic Art, Metropolitan Museu...</td>\n",
       "      <td>[Culture]</td>\n",
       "    </tr>\n",
       "    <tr>\n",
       "      <th>1</th>\n",
       "      <td>74785910</td>\n",
       "      <td>\"Carnevale di Torino\". Felice Cerruti - f.lli ...</td>\n",
       "      <td>1/13/%22Carnevale_di_Torino%22._Felice_Cerruti...</td>\n",
       "      <td>[Felice Cerruti Bauduc, Victor Emmanuel II of ...</td>\n",
       "      <td>[Places, Society]</td>\n",
       "    </tr>\n",
       "    <tr>\n",
       "      <th>2</th>\n",
       "      <td>14890941</td>\n",
       "      <td>\"Escena de playa con figura\".jpg</td>\n",
       "      <td>c/c2/%22Escena_de_playa_con_figura%22.jpg</td>\n",
       "      <td>[Pedro Lira, People with dogs in art]</td>\n",
       "      <td>[Culture, Entertainment]</td>\n",
       "    </tr>\n",
       "    <tr>\n",
       "      <th>3</th>\n",
       "      <td>17073242</td>\n",
       "      <td>\"Mary Holiday\" - NARA - 559051.jpg</td>\n",
       "      <td>0/02/%22Mary_Holiday%22_-_NARA_-_559051.jpg</td>\n",
       "      <td>[Art of the United States, Harmon Foundation, ...</td>\n",
       "      <td>[Culture, History, Society]</td>\n",
       "    </tr>\n",
       "    <tr>\n",
       "      <th>4</th>\n",
       "      <td>35274773</td>\n",
       "      <td>\"Reflections\" Porcelain Substrate Tile.jpg</td>\n",
       "      <td>f/f7/%22Reflections%22_Porcelain_Substrate_Til...</td>\n",
       "      <td>[Porcelain]</td>\n",
       "      <td>[Places]</td>\n",
       "    </tr>\n",
       "  </tbody>\n",
       "</table>\n",
       "</div>"
      ],
      "text/plain": [
       "         id                                              title  \\\n",
       "0  80902489  \"A Gathering of Court Women\", Folio from the D...   \n",
       "1  74785910  \"Carnevale di Torino\". Felice Cerruti - f.lli ...   \n",
       "2  14890941                   \"Escena de playa con figura\".jpg   \n",
       "3  17073242                 \"Mary Holiday\" - NARA - 559051.jpg   \n",
       "4  35274773         \"Reflections\" Porcelain Substrate Tile.jpg   \n",
       "\n",
       "                                                 url  \\\n",
       "0  c/c1/%22A_Gathering_of_Court_Women%22%2C_Folio...   \n",
       "1  1/13/%22Carnevale_di_Torino%22._Felice_Cerruti...   \n",
       "2          c/c2/%22Escena_de_playa_con_figura%22.jpg   \n",
       "3        0/02/%22Mary_Holiday%22_-_NARA_-_559051.jpg   \n",
       "4  f/f7/%22Reflections%22_Porcelain_Substrate_Til...   \n",
       "\n",
       "                                          categories  \\\n",
       "0  [Department of Islamic Art, Metropolitan Museu...   \n",
       "1  [Felice Cerruti Bauduc, Victor Emmanuel II of ...   \n",
       "2              [Pedro Lira, People with dogs in art]   \n",
       "3  [Art of the United States, Harmon Foundation, ...   \n",
       "4                                        [Porcelain]   \n",
       "\n",
       "                    new_labels  \n",
       "0                    [Culture]  \n",
       "1            [Places, Society]  \n",
       "2     [Culture, Entertainment]  \n",
       "3  [Culture, History, Society]  \n",
       "4                     [Places]  "
      ]
     },
     "execution_count": 3,
     "metadata": {},
     "output_type": "execute_result"
    }
   ],
   "source": [
    "NAIVE_LABELS_PATH = 'data/commonswiki-20220220-files-naive-labels.json.bz2'\n",
    "naive_labels = pd.read_json(NAIVE_LABELS_PATH)\n",
    "naive_labels['better_url'] = naive_labels['url'].apply(lambda encoded_filename : urllib.parse.unquote(encoded_filename).encode().decode('unicode-escape'))\n",
    "naive_labels.reset_index(drop=True, inplace=True)\n",
    "print(naive_labels.shape)\n",
    "naive_labels.head()"
   ]
  },
  {
   "cell_type": "code",
   "execution_count": 17,
   "id": "12acafd5",
   "metadata": {},
   "outputs": [
    {
     "name": "stdout",
     "output_type": "stream",
     "text": [
      "732897\n"
     ]
    }
   ],
   "source": [
    "i=0\n",
    "for url in naive_labels.url:\n",
    "    try:\n",
    "        with open('/scratch/WIT_Dataset/images/' + url) as f:\n",
    "            pass\n",
    "    except:\n",
    "        i += 1\n",
    "print(i)"
   ]
  },
  {
   "cell_type": "code",
   "execution_count": 18,
   "id": "f293b938",
   "metadata": {},
   "outputs": [],
   "source": [
    "import urllib.parse\n",
    "\n",
    "naive_labels['new_url'] = naive_labels['url'].apply(lambda encoded_filename : urllib.parse.unquote(encoded_filename).encode().decode('unicode-escape'))"
   ]
  },
  {
   "cell_type": "code",
   "execution_count": 19,
   "id": "58e6877c",
   "metadata": {},
   "outputs": [
    {
     "name": "stdout",
     "output_type": "stream",
     "text": [
      "190337\n"
     ]
    }
   ],
   "source": [
    "i=0\n",
    "for url in naive_labels.new_url:\n",
    "    try:\n",
    "        with open('/scratch/WIT_Dataset/images/' + url) as f:\n",
    "            pass\n",
    "    except:\n",
    "        i += 1\n",
    "print(i)"
   ]
  },
  {
   "cell_type": "markdown",
   "id": "ac257318",
   "metadata": {},
   "source": [
    "Split dataset."
   ]
  },
  {
   "cell_type": "code",
   "execution_count": null,
   "id": "526a914d",
   "metadata": {},
   "outputs": [],
   "source": [
    "train_df, test_df = train_test_split(naive_labels, test_size=0.1, random_state=17)\n",
    "train_df, val_df = train_test_split(train_df, train_size=0.9, random_state=17)"
   ]
  }
 ],
 "metadata": {
  "kernelspec": {
   "display_name": "Python 3",
   "language": "python",
   "name": "python3"
  },
  "language_info": {
   "codemirror_mode": {
    "name": "ipython",
    "version": 3
   },
   "file_extension": ".py",
   "mimetype": "text/x-python",
   "name": "python",
   "nbconvert_exporter": "python",
   "pygments_lexer": "ipython3",
   "version": "3.8.2"
  }
 },
 "nbformat": 4,
 "nbformat_minor": 5
}
