{
 "cells": [
  {
   "cell_type": "markdown",
   "id": "e542baee",
   "metadata": {},
   "source": [
    "### Load, split and save train, validation and test dataframes\n",
    "As a result, the train, validation and test dataframes are saved in:\n",
    "- "
   ]
  },
  {
   "cell_type": "code",
   "execution_count": 36,
   "id": "9938b8f1",
   "metadata": {},
   "outputs": [],
   "source": [
    "import pandas as pd\n",
    "import urllib.parse\n",
    "from sklearn.model_selection import train_test_split"
   ]
  },
  {
   "cell_type": "markdown",
   "id": "63d7091a",
   "metadata": {},
   "source": [
    "Load naive labels, and pre-process urls."
   ]
  },
  {
   "cell_type": "code",
   "execution_count": 38,
   "id": "80869cc5",
   "metadata": {},
   "outputs": [
    {
     "name": "stdout",
     "output_type": "stream",
     "text": [
      "Total number of files: 2008312.\n",
      "Total number of files that can be opened: 1817975.\n",
      "(1817975, 7)\n"
     ]
    },
    {
     "data": {
      "text/html": [
       "<div>\n",
       "<style scoped>\n",
       "    .dataframe tbody tr th:only-of-type {\n",
       "        vertical-align: middle;\n",
       "    }\n",
       "\n",
       "    .dataframe tbody tr th {\n",
       "        vertical-align: top;\n",
       "    }\n",
       "\n",
       "    .dataframe thead th {\n",
       "        text-align: right;\n",
       "    }\n",
       "</style>\n",
       "<table border=\"1\" class=\"dataframe\">\n",
       "  <thead>\n",
       "    <tr style=\"text-align: right;\">\n",
       "      <th></th>\n",
       "      <th>id</th>\n",
       "      <th>title</th>\n",
       "      <th>url</th>\n",
       "      <th>categories</th>\n",
       "      <th>new_labels</th>\n",
       "      <th>better_url</th>\n",
       "      <th>can_be_opened</th>\n",
       "    </tr>\n",
       "  </thead>\n",
       "  <tbody>\n",
       "    <tr>\n",
       "      <th>0</th>\n",
       "      <td>74785910</td>\n",
       "      <td>\"Carnevale di Torino\". Felice Cerruti - f.lli ...</td>\n",
       "      <td>1/13/%22Carnevale_di_Torino%22._Felice_Cerruti...</td>\n",
       "      <td>[Felice Cerruti Bauduc, Victor Emmanuel II of ...</td>\n",
       "      <td>[Places, Society]</td>\n",
       "      <td>1/13/\"Carnevale_di_Torino\"._Felice_Cerruti_-_f...</td>\n",
       "      <td>True</td>\n",
       "    </tr>\n",
       "    <tr>\n",
       "      <th>1</th>\n",
       "      <td>14890941</td>\n",
       "      <td>\"Escena de playa con figura\".jpg</td>\n",
       "      <td>c/c2/%22Escena_de_playa_con_figura%22.jpg</td>\n",
       "      <td>[Pedro Lira, People with dogs in art]</td>\n",
       "      <td>[Culture, Entertainment]</td>\n",
       "      <td>c/c2/\"Escena_de_playa_con_figura\".jpg</td>\n",
       "      <td>True</td>\n",
       "    </tr>\n",
       "    <tr>\n",
       "      <th>2</th>\n",
       "      <td>17073242</td>\n",
       "      <td>\"Mary Holiday\" - NARA - 559051.jpg</td>\n",
       "      <td>0/02/%22Mary_Holiday%22_-_NARA_-_559051.jpg</td>\n",
       "      <td>[Art of the United States, Harmon Foundation, ...</td>\n",
       "      <td>[Culture, History, Society]</td>\n",
       "      <td>0/02/\"Mary_Holiday\"_-_NARA_-_559051.jpg</td>\n",
       "      <td>True</td>\n",
       "    </tr>\n",
       "    <tr>\n",
       "      <th>3</th>\n",
       "      <td>5259480</td>\n",
       "      <td>\"The End of the 'Forty Five' Rebellion\".jpg</td>\n",
       "      <td>c/c7/%22The_End_of_the_%27Forty_Five%27_Rebell...</td>\n",
       "      <td>[Battle of Culloden, 1882 engravings, Wounded ...</td>\n",
       "      <td>[Culture, History]</td>\n",
       "      <td>c/c7/\"The_End_of_the_'Forty_Five'_Rebellion\".jpg</td>\n",
       "      <td>True</td>\n",
       "    </tr>\n",
       "    <tr>\n",
       "      <th>4</th>\n",
       "      <td>67898619</td>\n",
       "      <td>\"Woman are too sentimental for jury duty\" -Ant...</td>\n",
       "      <td>f/f0/%22Woman_are_too_sentimental_for_jury_dut...</td>\n",
       "      <td>[Pro-suffrage cartoons, Kenneth R. Chamberlain...</td>\n",
       "      <td>[Culture, Politics, Society]</td>\n",
       "      <td>f/f0/\"Woman_are_too_sentimental_for_jury_duty\"...</td>\n",
       "      <td>True</td>\n",
       "    </tr>\n",
       "  </tbody>\n",
       "</table>\n",
       "</div>"
      ],
      "text/plain": [
       "         id                                              title  \\\n",
       "0  74785910  \"Carnevale di Torino\". Felice Cerruti - f.lli ...   \n",
       "1  14890941                   \"Escena de playa con figura\".jpg   \n",
       "2  17073242                 \"Mary Holiday\" - NARA - 559051.jpg   \n",
       "3   5259480        \"The End of the 'Forty Five' Rebellion\".jpg   \n",
       "4  67898619  \"Woman are too sentimental for jury duty\" -Ant...   \n",
       "\n",
       "                                                 url  \\\n",
       "0  1/13/%22Carnevale_di_Torino%22._Felice_Cerruti...   \n",
       "1          c/c2/%22Escena_de_playa_con_figura%22.jpg   \n",
       "2        0/02/%22Mary_Holiday%22_-_NARA_-_559051.jpg   \n",
       "3  c/c7/%22The_End_of_the_%27Forty_Five%27_Rebell...   \n",
       "4  f/f0/%22Woman_are_too_sentimental_for_jury_dut...   \n",
       "\n",
       "                                          categories  \\\n",
       "0  [Felice Cerruti Bauduc, Victor Emmanuel II of ...   \n",
       "1              [Pedro Lira, People with dogs in art]   \n",
       "2  [Art of the United States, Harmon Foundation, ...   \n",
       "3  [Battle of Culloden, 1882 engravings, Wounded ...   \n",
       "4  [Pro-suffrage cartoons, Kenneth R. Chamberlain...   \n",
       "\n",
       "                     new_labels  \\\n",
       "0             [Places, Society]   \n",
       "1      [Culture, Entertainment]   \n",
       "2   [Culture, History, Society]   \n",
       "3            [Culture, History]   \n",
       "4  [Culture, Politics, Society]   \n",
       "\n",
       "                                          better_url  can_be_opened  \n",
       "0  1/13/\"Carnevale_di_Torino\"._Felice_Cerruti_-_f...           True  \n",
       "1              c/c2/\"Escena_de_playa_con_figura\".jpg           True  \n",
       "2            0/02/\"Mary_Holiday\"_-_NARA_-_559051.jpg           True  \n",
       "3   c/c7/\"The_End_of_the_'Forty_Five'_Rebellion\".jpg           True  \n",
       "4  f/f0/\"Woman_are_too_sentimental_for_jury_duty\"...           True  "
      ]
     },
     "execution_count": 38,
     "metadata": {},
     "output_type": "execute_result"
    }
   ],
   "source": [
    "NAIVE_LABELS_PATH = 'data/commonswiki-20220220-files-naive-labels.json.bz2'\n",
    "naive_labels = pd.read_json(NAIVE_LABELS_PATH)\n",
    "\n",
    "# With this \"better_url\" only 190k images aren't found, while with \"url\" 790k aren't found\n",
    "naive_labels['better_url'] = naive_labels['url'].apply(lambda encoded_filename : urllib.parse.unquote(encoded_filename).encode().decode('unicode-escape'))\n",
    "naive_labels['can_be_opened'] = naive_labels['better_url'].apply(lambda url : os.path.isfile('/scratch/WIT_Dataset/images/' + url))\n",
    "print(f'Total number of files: {naive_labels.shape[0]}.')\n",
    "\n",
    "# Only keep the files that can be opened\n",
    "naive_labels = naive_labels.loc[naive_labels.can_be_opened == True].reset_index(drop=True)\n",
    "\n",
    "print(f'Total number of files that can be opened: {naive_labels.shape[0]}.')\n",
    "\n",
    "print(naive_labels.shape)\n",
    "naive_labels.head()"
   ]
  },
  {
   "cell_type": "markdown",
   "id": "0dcce7d9",
   "metadata": {},
   "source": [
    "Split dataset and save so the same training, validation and test sets are used throughout."
   ]
  },
  {
   "cell_type": "code",
   "execution_count": 48,
   "id": "0cb5084b",
   "metadata": {},
   "outputs": [
    {
     "name": "stdout",
     "output_type": "stream",
     "text": [
      "Train set: 1472559 images (0.81%)\n",
      "Val set:   181798  images (0.10%)\n",
      "Test set:  163618  images (0.09%)\n"
     ]
    }
   ],
   "source": [
    "train_df, val_df = train_test_split(naive_labels, test_size=0.1, random_state=17)\n",
    "train_df, test_df = train_test_split(train_df, train_size=0.9, random_state=17)\n",
    "\n",
    "print(f'Train set: {train_df.shape[0]} images ({train_df.shape[0] / naive_labels.shape[0]:.2f}%)')\n",
    "print(f'Val set:   {val_df.shape[0]}  images ({val_df.shape[0] / naive_labels.shape[0]:.2f}%)')\n",
    "print(f'Test set:  {test_df.shape[0]}  images ({test_df.shape[0] / naive_labels.shape[0]:.2f}%)')\n",
    "\n",
    "train_df.to_json('data/splitted_dfs_20220528/train_df.json.bz2', compression='bz2')\n",
    "val_df.to_json('data/splitted_dfs_20220528/val_df.json.bz2', compression='bz2')\n",
    "test_df.to_json('data/splitted_dfs_20220528/test_df.json.bz2', compression='bz2')"
   ]
  }
 ],
 "metadata": {
  "kernelspec": {
   "display_name": "Python 3",
   "language": "python",
   "name": "python3"
  },
  "language_info": {
   "codemirror_mode": {
    "name": "ipython",
    "version": 3
   },
   "file_extension": ".py",
   "mimetype": "text/x-python",
   "name": "python",
   "nbconvert_exporter": "python",
   "pygments_lexer": "ipython3",
   "version": "3.8.2"
  }
 },
 "nbformat": 4,
 "nbformat_minor": 5
}
