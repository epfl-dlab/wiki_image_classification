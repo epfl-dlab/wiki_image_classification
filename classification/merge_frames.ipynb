{
 "cells": [
  {
   "cell_type": "markdown",
   "metadata": {},
   "source": [
    "## Get dataframe with images and labels"
   ]
  },
  {
   "cell_type": "code",
   "execution_count": 7,
   "metadata": {},
   "outputs": [],
   "source": [
    "import pandas as pd\n",
    "import numpy as np\n",
    "import urllib\n",
    "import sys\n",
    "from tqdm import tqdm\n",
    "sys.path.append('../taxonomy')\n",
    "from streamlit_preparation import initialize, get_sample, queryFile\n",
    "from utilities import normalize_title\n",
    "from queryLabel import Taxonomy"
   ]
  },
  {
   "cell_type": "markdown",
   "metadata": {},
   "source": [
    "## Using streamlit_preaparation\n",
    "Not really working, getting error `RuntimeError: CUDA error: out of memory`"
   ]
  },
  {
   "cell_type": "code",
   "execution_count": null,
   "metadata": {},
   "outputs": [],
   "source": [
    "files, taxonomy = initialize()\n",
    "print(files.shape)\n",
    "# files.head(10)"
   ]
  },
  {
   "cell_type": "code",
   "execution_count": null,
   "metadata": {},
   "outputs": [],
   "source": [
    "n = 100_000\n",
    "seed = int(args.seed) if args.seed else 0\n",
    "files_sample = get_sample(n, seed)\n",
    "tqdm.pandas()\n",
    "files_sample[['labels', 'log']] = files_sample.progress_apply(lambda x: queryFile(x), \n",
    "                                                              axis=1, result_type=\"expand\")"
   ]
  },
  {
   "cell_type": "markdown",
   "metadata": {},
   "source": [
    "## As before\n",
    "Use the naive approach from Francesco to get the labels from the categories of the 3.9M images from English articles in Wikipedia."
   ]
  },
  {
   "cell_type": "code",
   "execution_count": 27,
   "metadata": {},
   "outputs": [
    {
     "name": "stdout",
     "output_type": "stream",
     "text": [
      "(3891446, 4)\n"
     ]
    },
    {
     "data": {
      "text/html": [
       "<div>\n",
       "<style scoped>\n",
       "    .dataframe tbody tr th:only-of-type {\n",
       "        vertical-align: middle;\n",
       "    }\n",
       "\n",
       "    .dataframe tbody tr th {\n",
       "        vertical-align: top;\n",
       "    }\n",
       "\n",
       "    .dataframe thead th {\n",
       "        text-align: right;\n",
       "    }\n",
       "</style>\n",
       "<table border=\"1\" class=\"dataframe\">\n",
       "  <thead>\n",
       "    <tr style=\"text-align: right;\">\n",
       "      <th></th>\n",
       "      <th>id</th>\n",
       "      <th>title</th>\n",
       "      <th>url</th>\n",
       "      <th>categories</th>\n",
       "    </tr>\n",
       "  </thead>\n",
       "  <tbody>\n",
       "    <tr>\n",
       "      <th>0</th>\n",
       "      <td>80902489</td>\n",
       "      <td>\"A Gathering of Court Women\", Folio from the D...</td>\n",
       "      <td>c/c1/%22A_Gathering_of_Court_Women%22%2C_Folio...</td>\n",
       "      <td>[Department of Islamic Art, Metropolitan Museu...</td>\n",
       "    </tr>\n",
       "    <tr>\n",
       "      <th>1</th>\n",
       "      <td>53631642</td>\n",
       "      <td>\"Akdeniz\" - Aliağa, 2016.jpg</td>\n",
       "      <td>f/f8/%22Akdeniz%22_-_Alia%C4%9Fa%2C_2016.jpg</td>\n",
       "      <td>[Akdeniz (ship, 1955), Aliağa ship-breaking yard]</td>\n",
       "    </tr>\n",
       "    <tr>\n",
       "      <th>2</th>\n",
       "      <td>74785910</td>\n",
       "      <td>\"Carnevale di Torino\". Felice Cerruti - f.lli ...</td>\n",
       "      <td>1/13/%22Carnevale_di_Torino%22._Felice_Cerruti...</td>\n",
       "      <td>[Felice Cerruti Bauduc, Victor Emmanuel II of ...</td>\n",
       "    </tr>\n",
       "    <tr>\n",
       "      <th>3</th>\n",
       "      <td>14890941</td>\n",
       "      <td>\"Escena de playa con figura\".jpg</td>\n",
       "      <td>c/c2/%22Escena_de_playa_con_figura%22.jpg</td>\n",
       "      <td>[Pedro Lira, People with dogs in art]</td>\n",
       "    </tr>\n",
       "    <tr>\n",
       "      <th>4</th>\n",
       "      <td>17828296</td>\n",
       "      <td>\"Florero con plátanos, limones y libros\", Juan...</td>\n",
       "      <td>d/da/%22Florero_con_pl%C3%A1tanos%2C_limones_y...</td>\n",
       "      <td>[Works by Juan de Echevarría, Still-life paint...</td>\n",
       "    </tr>\n",
       "  </tbody>\n",
       "</table>\n",
       "</div>"
      ],
      "text/plain": [
       "         id                                              title  \\\n",
       "0  80902489  \"A Gathering of Court Women\", Folio from the D...   \n",
       "1  53631642                       \"Akdeniz\" - Aliağa, 2016.jpg   \n",
       "2  74785910  \"Carnevale di Torino\". Felice Cerruti - f.lli ...   \n",
       "3  14890941                   \"Escena de playa con figura\".jpg   \n",
       "4  17828296  \"Florero con plátanos, limones y libros\", Juan...   \n",
       "\n",
       "                                                 url  \\\n",
       "0  c/c1/%22A_Gathering_of_Court_Women%22%2C_Folio...   \n",
       "1       f/f8/%22Akdeniz%22_-_Alia%C4%9Fa%2C_2016.jpg   \n",
       "2  1/13/%22Carnevale_di_Torino%22._Felice_Cerruti...   \n",
       "3          c/c2/%22Escena_de_playa_con_figura%22.jpg   \n",
       "4  d/da/%22Florero_con_pl%C3%A1tanos%2C_limones_y...   \n",
       "\n",
       "                                          categories  \n",
       "0  [Department of Islamic Art, Metropolitan Museu...  \n",
       "1  [Akdeniz (ship, 1955), Aliağa ship-breaking yard]  \n",
       "2  [Felice Cerruti Bauduc, Victor Emmanuel II of ...  \n",
       "3              [Pedro Lira, People with dogs in art]  \n",
       "4  [Works by Juan de Echevarría, Still-life paint...  "
      ]
     },
     "execution_count": 27,
     "metadata": {},
     "output_type": "execute_result"
    }
   ],
   "source": [
    "CATEGORIES_PATH = '/scratch/WikipediaImagesTaxonomy/commonswiki-20220220-category-network.parquet'\n",
    "FILES_PATH = '/scratch/WikipediaImagesTaxonomy/commonswiki-20220220-files.parquet'\n",
    "files = pd.read_parquet(FILES_PATH)\n",
    "print(files.shape)\n",
    "files.head()"
   ]
  },
  {
   "cell_type": "code",
   "execution_count": 31,
   "metadata": {},
   "outputs": [],
   "source": [
    "taxonomy = Taxonomy()\n",
    "taxonomy.load_categories(CATEGORIES_PATH)\n",
    "taxonomy.set_taxonomy(mapping='content_extended')"
   ]
  },
  {
   "cell_type": "markdown",
   "metadata": {},
   "source": [
    "Loop through all images and get their labels with the naive approach, and remove duplicate labels within the same image."
   ]
  },
  {
   "cell_type": "code",
   "execution_count": 32,
   "metadata": {},
   "outputs": [],
   "source": [
    "files['new_labels'] = files['categories'].apply(lambda categories : [taxonomy.get_label(cat, how='naive') for cat in categories])\n",
    "files['new_labels'] = files['new_labels'].apply(lambda labels : np.unique(np.array([element for items in labels for element in items])))"
   ]
  },
  {
   "cell_type": "code",
   "execution_count": 33,
   "metadata": {},
   "outputs": [
    {
     "data": {
      "text/html": [
       "<div>\n",
       "<style scoped>\n",
       "    .dataframe tbody tr th:only-of-type {\n",
       "        vertical-align: middle;\n",
       "    }\n",
       "\n",
       "    .dataframe tbody tr th {\n",
       "        vertical-align: top;\n",
       "    }\n",
       "\n",
       "    .dataframe thead th {\n",
       "        text-align: right;\n",
       "    }\n",
       "</style>\n",
       "<table border=\"1\" class=\"dataframe\">\n",
       "  <thead>\n",
       "    <tr style=\"text-align: right;\">\n",
       "      <th></th>\n",
       "      <th>id</th>\n",
       "      <th>title</th>\n",
       "      <th>url</th>\n",
       "      <th>categories</th>\n",
       "      <th>new_labels</th>\n",
       "    </tr>\n",
       "  </thead>\n",
       "  <tbody>\n",
       "    <tr>\n",
       "      <th>0</th>\n",
       "      <td>80902489</td>\n",
       "      <td>\"A Gathering of Court Women\", Folio from the D...</td>\n",
       "      <td>c/c1/%22A_Gathering_of_Court_Women%22%2C_Folio...</td>\n",
       "      <td>[Department of Islamic Art, Metropolitan Museu...</td>\n",
       "      <td>[Culture]</td>\n",
       "    </tr>\n",
       "    <tr>\n",
       "      <th>1</th>\n",
       "      <td>53631642</td>\n",
       "      <td>\"Akdeniz\" - Aliağa, 2016.jpg</td>\n",
       "      <td>f/f8/%22Akdeniz%22_-_Alia%C4%9Fa%2C_2016.jpg</td>\n",
       "      <td>[Akdeniz (ship, 1955), Aliağa ship-breaking yard]</td>\n",
       "      <td>[]</td>\n",
       "    </tr>\n",
       "    <tr>\n",
       "      <th>2</th>\n",
       "      <td>74785910</td>\n",
       "      <td>\"Carnevale di Torino\". Felice Cerruti - f.lli ...</td>\n",
       "      <td>1/13/%22Carnevale_di_Torino%22._Felice_Cerruti...</td>\n",
       "      <td>[Felice Cerruti Bauduc, Victor Emmanuel II of ...</td>\n",
       "      <td>[Places, Society]</td>\n",
       "    </tr>\n",
       "    <tr>\n",
       "      <th>3</th>\n",
       "      <td>14890941</td>\n",
       "      <td>\"Escena de playa con figura\".jpg</td>\n",
       "      <td>c/c2/%22Escena_de_playa_con_figura%22.jpg</td>\n",
       "      <td>[Pedro Lira, People with dogs in art]</td>\n",
       "      <td>[Culture, Entertainment]</td>\n",
       "    </tr>\n",
       "    <tr>\n",
       "      <th>4</th>\n",
       "      <td>17828296</td>\n",
       "      <td>\"Florero con plátanos, limones y libros\", Juan...</td>\n",
       "      <td>d/da/%22Florero_con_pl%C3%A1tanos%2C_limones_y...</td>\n",
       "      <td>[Works by Juan de Echevarría, Still-life paint...</td>\n",
       "      <td>[]</td>\n",
       "    </tr>\n",
       "  </tbody>\n",
       "</table>\n",
       "</div>"
      ],
      "text/plain": [
       "         id                                              title  \\\n",
       "0  80902489  \"A Gathering of Court Women\", Folio from the D...   \n",
       "1  53631642                       \"Akdeniz\" - Aliağa, 2016.jpg   \n",
       "2  74785910  \"Carnevale di Torino\". Felice Cerruti - f.lli ...   \n",
       "3  14890941                   \"Escena de playa con figura\".jpg   \n",
       "4  17828296  \"Florero con plátanos, limones y libros\", Juan...   \n",
       "\n",
       "                                                 url  \\\n",
       "0  c/c1/%22A_Gathering_of_Court_Women%22%2C_Folio...   \n",
       "1       f/f8/%22Akdeniz%22_-_Alia%C4%9Fa%2C_2016.jpg   \n",
       "2  1/13/%22Carnevale_di_Torino%22._Felice_Cerruti...   \n",
       "3          c/c2/%22Escena_de_playa_con_figura%22.jpg   \n",
       "4  d/da/%22Florero_con_pl%C3%A1tanos%2C_limones_y...   \n",
       "\n",
       "                                          categories                new_labels  \n",
       "0  [Department of Islamic Art, Metropolitan Museu...                 [Culture]  \n",
       "1  [Akdeniz (ship, 1955), Aliağa ship-breaking yard]                        []  \n",
       "2  [Felice Cerruti Bauduc, Victor Emmanuel II of ...         [Places, Society]  \n",
       "3              [Pedro Lira, People with dogs in art]  [Culture, Entertainment]  \n",
       "4  [Works by Juan de Echevarría, Still-life paint...                        []  "
      ]
     },
     "execution_count": 33,
     "metadata": {},
     "output_type": "execute_result"
    }
   ],
   "source": [
    "files.head()"
   ]
  },
  {
   "cell_type": "code",
   "execution_count": 34,
   "metadata": {},
   "outputs": [
    {
     "name": "stdout",
     "output_type": "stream",
     "text": [
      "(2008312, 5)\n"
     ]
    },
    {
     "data": {
      "text/html": [
       "<div>\n",
       "<style scoped>\n",
       "    .dataframe tbody tr th:only-of-type {\n",
       "        vertical-align: middle;\n",
       "    }\n",
       "\n",
       "    .dataframe tbody tr th {\n",
       "        vertical-align: top;\n",
       "    }\n",
       "\n",
       "    .dataframe thead th {\n",
       "        text-align: right;\n",
       "    }\n",
       "</style>\n",
       "<table border=\"1\" class=\"dataframe\">\n",
       "  <thead>\n",
       "    <tr style=\"text-align: right;\">\n",
       "      <th></th>\n",
       "      <th>id</th>\n",
       "      <th>title</th>\n",
       "      <th>url</th>\n",
       "      <th>categories</th>\n",
       "      <th>new_labels</th>\n",
       "    </tr>\n",
       "  </thead>\n",
       "  <tbody>\n",
       "    <tr>\n",
       "      <th>0</th>\n",
       "      <td>80902489</td>\n",
       "      <td>\"A Gathering of Court Women\", Folio from the D...</td>\n",
       "      <td>c/c1/%22A_Gathering_of_Court_Women%22%2C_Folio...</td>\n",
       "      <td>[Department of Islamic Art, Metropolitan Museu...</td>\n",
       "      <td>[Culture]</td>\n",
       "    </tr>\n",
       "    <tr>\n",
       "      <th>2</th>\n",
       "      <td>74785910</td>\n",
       "      <td>\"Carnevale di Torino\". Felice Cerruti - f.lli ...</td>\n",
       "      <td>1/13/%22Carnevale_di_Torino%22._Felice_Cerruti...</td>\n",
       "      <td>[Felice Cerruti Bauduc, Victor Emmanuel II of ...</td>\n",
       "      <td>[Places, Society]</td>\n",
       "    </tr>\n",
       "    <tr>\n",
       "      <th>3</th>\n",
       "      <td>14890941</td>\n",
       "      <td>\"Escena de playa con figura\".jpg</td>\n",
       "      <td>c/c2/%22Escena_de_playa_con_figura%22.jpg</td>\n",
       "      <td>[Pedro Lira, People with dogs in art]</td>\n",
       "      <td>[Culture, Entertainment]</td>\n",
       "    </tr>\n",
       "    <tr>\n",
       "      <th>6</th>\n",
       "      <td>17073242</td>\n",
       "      <td>\"Mary Holiday\" - NARA - 559051.jpg</td>\n",
       "      <td>0/02/%22Mary_Holiday%22_-_NARA_-_559051.jpg</td>\n",
       "      <td>[Art of the United States, Harmon Foundation, ...</td>\n",
       "      <td>[Culture, History, Society]</td>\n",
       "    </tr>\n",
       "    <tr>\n",
       "      <th>8</th>\n",
       "      <td>35274773</td>\n",
       "      <td>\"Reflections\" Porcelain Substrate Tile.jpg</td>\n",
       "      <td>f/f7/%22Reflections%22_Porcelain_Substrate_Til...</td>\n",
       "      <td>[Porcelain]</td>\n",
       "      <td>[Places]</td>\n",
       "    </tr>\n",
       "  </tbody>\n",
       "</table>\n",
       "</div>"
      ],
      "text/plain": [
       "         id                                              title  \\\n",
       "0  80902489  \"A Gathering of Court Women\", Folio from the D...   \n",
       "2  74785910  \"Carnevale di Torino\". Felice Cerruti - f.lli ...   \n",
       "3  14890941                   \"Escena de playa con figura\".jpg   \n",
       "6  17073242                 \"Mary Holiday\" - NARA - 559051.jpg   \n",
       "8  35274773         \"Reflections\" Porcelain Substrate Tile.jpg   \n",
       "\n",
       "                                                 url  \\\n",
       "0  c/c1/%22A_Gathering_of_Court_Women%22%2C_Folio...   \n",
       "2  1/13/%22Carnevale_di_Torino%22._Felice_Cerruti...   \n",
       "3          c/c2/%22Escena_de_playa_con_figura%22.jpg   \n",
       "6        0/02/%22Mary_Holiday%22_-_NARA_-_559051.jpg   \n",
       "8  f/f7/%22Reflections%22_Porcelain_Substrate_Til...   \n",
       "\n",
       "                                          categories  \\\n",
       "0  [Department of Islamic Art, Metropolitan Museu...   \n",
       "2  [Felice Cerruti Bauduc, Victor Emmanuel II of ...   \n",
       "3              [Pedro Lira, People with dogs in art]   \n",
       "6  [Art of the United States, Harmon Foundation, ...   \n",
       "8                                        [Porcelain]   \n",
       "\n",
       "                    new_labels  \n",
       "0                    [Culture]  \n",
       "2            [Places, Society]  \n",
       "3     [Culture, Entertainment]  \n",
       "6  [Culture, History, Society]  \n",
       "8                     [Places]  "
      ]
     },
     "execution_count": 34,
     "metadata": {},
     "output_type": "execute_result"
    }
   ],
   "source": [
    "non_empty_image_labels = files[files['new_labels'].str.len() != 0]\n",
    "print(non_empty_image_labels.shape)\n",
    "non_empty_image_labels.head()"
   ]
  },
  {
   "cell_type": "code",
   "execution_count": 40,
   "metadata": {},
   "outputs": [],
   "source": [
    "NAIVE_LABELS_PATH = 'data/commonswiki-20220220-files-naive-labels.json.bz2'\n",
    "non_empty_image_labels.to_json(NAIVE_LABELS_PATH, compression='bz2')"
   ]
  },
  {
   "cell_type": "markdown",
   "metadata": {},
   "source": [
    "#### Calculate distribution of labels through the images."
   ]
  },
  {
   "cell_type": "code",
   "execution_count": 41,
   "metadata": {},
   "outputs": [
    {
     "name": "stderr",
     "output_type": "stream",
     "text": [
      "100%|██████████| 2008312/2008312 [02:05<00:00, 15940.22it/s]\n"
     ]
    }
   ],
   "source": [
    "label_dict = {}\n",
    "\n",
    "for index, row in tqdm(non_empty_image_labels.iterrows(), total=non_empty_image_labels.shape[0]):\n",
    "    for label in row.new_labels:\n",
    "        if label in label_dict:\n",
    "            label_dict[label] += 1\n",
    "        else:\n",
    "            label_dict[label] = 1        "
   ]
  },
  {
   "cell_type": "code",
   "execution_count": 42,
   "metadata": {},
   "outputs": [
    {
     "name": "stdout",
     "output_type": "stream",
     "text": [
      "Unique keys: 42\n"
     ]
    },
    {
     "data": {
      "image/png": "[encoded data removed]",
      "text/plain": [
       "<Figure size 960x480 with 1 Axes>"
      ]
     },
     "metadata": {
      "needs_background": "light"
     },
     "output_type": "display_data"
    }
   ],
   "source": [
    "from matplotlib import pyplot as plt\n",
    "from matplotlib.pyplot import figure\n",
    "\n",
    "figure(figsize=(12, 6), dpi=80)\n",
    "print(f'Unique keys: {len(label_dict.keys())}')\n",
    "\n",
    "sorted_dict = dict(sorted(label_dict.items(), key=lambda item: item[1], reverse=True))\n",
    "\n",
    "_ = plt.bar(range(len(sorted_dict)), list(sorted_dict.values()), align='center')\n",
    "_ = plt.xticks(range(len(sorted_dict)), list(sorted_dict.keys()), rotation=90)\n",
    "_ = plt.yscale('log')"
   ]
  },
  {
   "cell_type": "code",
   "execution_count": 47,
   "metadata": {},
   "outputs": [
    {
     "name": "stdout",
     "output_type": "stream",
     "text": [
      "(2008312, 5)\n"
     ]
    },
    {
     "data": {
      "text/html": [
       "<div>\n",
       "<style scoped>\n",
       "    .dataframe tbody tr th:only-of-type {\n",
       "        vertical-align: middle;\n",
       "    }\n",
       "\n",
       "    .dataframe tbody tr th {\n",
       "        vertical-align: top;\n",
       "    }\n",
       "\n",
       "    .dataframe thead th {\n",
       "        text-align: right;\n",
       "    }\n",
       "</style>\n",
       "<table border=\"1\" class=\"dataframe\">\n",
       "  <thead>\n",
       "    <tr style=\"text-align: right;\">\n",
       "      <th></th>\n",
       "      <th>id</th>\n",
       "      <th>title</th>\n",
       "      <th>url</th>\n",
       "      <th>categories</th>\n",
       "      <th>new_labels</th>\n",
       "    </tr>\n",
       "  </thead>\n",
       "  <tbody>\n",
       "    <tr>\n",
       "      <th>0</th>\n",
       "      <td>80902489</td>\n",
       "      <td>\"A Gathering of Court Women\", Folio from the D...</td>\n",
       "      <td>c/c1/%22A_Gathering_of_Court_Women%22%2C_Folio...</td>\n",
       "      <td>[Department of Islamic Art, Metropolitan Museu...</td>\n",
       "      <td>[Culture]</td>\n",
       "    </tr>\n",
       "    <tr>\n",
       "      <th>1</th>\n",
       "      <td>74785910</td>\n",
       "      <td>\"Carnevale di Torino\". Felice Cerruti - f.lli ...</td>\n",
       "      <td>1/13/%22Carnevale_di_Torino%22._Felice_Cerruti...</td>\n",
       "      <td>[Felice Cerruti Bauduc, Victor Emmanuel II of ...</td>\n",
       "      <td>[Places, Society]</td>\n",
       "    </tr>\n",
       "    <tr>\n",
       "      <th>2</th>\n",
       "      <td>14890941</td>\n",
       "      <td>\"Escena de playa con figura\".jpg</td>\n",
       "      <td>c/c2/%22Escena_de_playa_con_figura%22.jpg</td>\n",
       "      <td>[Pedro Lira, People with dogs in art]</td>\n",
       "      <td>[Culture, Entertainment]</td>\n",
       "    </tr>\n",
       "    <tr>\n",
       "      <th>3</th>\n",
       "      <td>17073242</td>\n",
       "      <td>\"Mary Holiday\" - NARA - 559051.jpg</td>\n",
       "      <td>0/02/%22Mary_Holiday%22_-_NARA_-_559051.jpg</td>\n",
       "      <td>[Art of the United States, Harmon Foundation, ...</td>\n",
       "      <td>[Culture, History, Society]</td>\n",
       "    </tr>\n",
       "    <tr>\n",
       "      <th>4</th>\n",
       "      <td>35274773</td>\n",
       "      <td>\"Reflections\" Porcelain Substrate Tile.jpg</td>\n",
       "      <td>f/f7/%22Reflections%22_Porcelain_Substrate_Til...</td>\n",
       "      <td>[Porcelain]</td>\n",
       "      <td>[Places]</td>\n",
       "    </tr>\n",
       "  </tbody>\n",
       "</table>\n",
       "</div>"
      ],
      "text/plain": [
       "         id                                              title  \\\n",
       "0  80902489  \"A Gathering of Court Women\", Folio from the D...   \n",
       "1  74785910  \"Carnevale di Torino\". Felice Cerruti - f.lli ...   \n",
       "2  14890941                   \"Escena de playa con figura\".jpg   \n",
       "3  17073242                 \"Mary Holiday\" - NARA - 559051.jpg   \n",
       "4  35274773         \"Reflections\" Porcelain Substrate Tile.jpg   \n",
       "\n",
       "                                                 url  \\\n",
       "0  c/c1/%22A_Gathering_of_Court_Women%22%2C_Folio...   \n",
       "1  1/13/%22Carnevale_di_Torino%22._Felice_Cerruti...   \n",
       "2          c/c2/%22Escena_de_playa_con_figura%22.jpg   \n",
       "3        0/02/%22Mary_Holiday%22_-_NARA_-_559051.jpg   \n",
       "4  f/f7/%22Reflections%22_Porcelain_Substrate_Til...   \n",
       "\n",
       "                                          categories  \\\n",
       "0  [Department of Islamic Art, Metropolitan Museu...   \n",
       "1  [Felice Cerruti Bauduc, Victor Emmanuel II of ...   \n",
       "2              [Pedro Lira, People with dogs in art]   \n",
       "3  [Art of the United States, Harmon Foundation, ...   \n",
       "4                                        [Porcelain]   \n",
       "\n",
       "                    new_labels  \n",
       "0                    [Culture]  \n",
       "1            [Places, Society]  \n",
       "2     [Culture, Entertainment]  \n",
       "3  [Culture, History, Society]  \n",
       "4                     [Places]  "
      ]
     },
     "execution_count": 47,
     "metadata": {},
     "output_type": "execute_result"
    }
   ],
   "source": [
    "non_empty_image_labels.reset_index(drop=True, inplace=True)\n",
    "print(non_empty_image_labels.shape)\n",
    "non_empty_image_labels.head()"
   ]
  },
  {
   "cell_type": "code",
   "execution_count": 61,
   "metadata": {},
   "outputs": [
    {
     "name": "stderr",
     "output_type": "stream",
     "text": [
      "<ipython-input-61-7dbb79bdfa53>:11: MatplotlibDeprecationWarning: Passing non-integers as three-element position specification is deprecated since 3.3 and will be removed two minor releases later.\n",
      "  plt.subplot(len(random_indices.flatten()) / columns + 1, columns, i + 1)\n"
     ]
    },
    {
     "ename": "FileNotFoundError",
     "evalue": "[Errno 2] No such file or directory: '/scratch/WIT_Dataset/images/e/ee/BozemanPass1884.JPG'",
     "output_type": "error",
     "traceback": [
      "\u001b[0;31m--------------------------------------------------------------\u001b[0m",
      "\u001b[0;31mFileNotFoundError\u001b[0m            Traceback (most recent call last)",
      "\u001b[0;32m<ipython-input-61-7dbb79bdfa53>\u001b[0m in \u001b[0;36m<module>\u001b[0;34m\u001b[0m\n\u001b[1;32m      8\u001b[0m \u001b[0;32mfor\u001b[0m \u001b[0mi\u001b[0m\u001b[0;34m,\u001b[0m \u001b[0midx\u001b[0m \u001b[0;32min\u001b[0m \u001b[0menumerate\u001b[0m\u001b[0;34m(\u001b[0m\u001b[0mrandom_indices\u001b[0m\u001b[0;34m.\u001b[0m\u001b[0mflatten\u001b[0m\u001b[0;34m(\u001b[0m\u001b[0;34m)\u001b[0m\u001b[0;34m)\u001b[0m\u001b[0;34m:\u001b[0m\u001b[0;34m\u001b[0m\u001b[0;34m\u001b[0m\u001b[0m\n\u001b[1;32m      9\u001b[0m     \u001b[0mpath\u001b[0m \u001b[0;34m=\u001b[0m \u001b[0;34m'/scratch/WIT_Dataset/images/'\u001b[0m \u001b[0;34m+\u001b[0m \u001b[0mnon_empty_image_labels\u001b[0m\u001b[0;34m.\u001b[0m\u001b[0miloc\u001b[0m\u001b[0;34m[\u001b[0m\u001b[0midx\u001b[0m\u001b[0;34m,\u001b[0m \u001b[0;34m:\u001b[0m\u001b[0;34m]\u001b[0m\u001b[0;34m.\u001b[0m\u001b[0murl\u001b[0m\u001b[0;34m\u001b[0m\u001b[0;34m\u001b[0m\u001b[0m\n\u001b[0;32m---> 10\u001b[0;31m     \u001b[0mimg\u001b[0m \u001b[0;34m=\u001b[0m \u001b[0mload_img\u001b[0m\u001b[0;34m(\u001b[0m\u001b[0mpath\u001b[0m\u001b[0;34m,\u001b[0m \u001b[0mtarget_size\u001b[0m\u001b[0;34m=\u001b[0m\u001b[0;34m(\u001b[0m\u001b[0mIMAGE_DIMENSION\u001b[0m\u001b[0;34m,\u001b[0m \u001b[0mIMAGE_DIMENSION\u001b[0m\u001b[0;34m)\u001b[0m\u001b[0;34m)\u001b[0m\u001b[0;34m\u001b[0m\u001b[0;34m\u001b[0m\u001b[0m\n\u001b[0m\u001b[1;32m     11\u001b[0m     \u001b[0mplt\u001b[0m\u001b[0;34m.\u001b[0m\u001b[0msubplot\u001b[0m\u001b[0;34m(\u001b[0m\u001b[0mlen\u001b[0m\u001b[0;34m(\u001b[0m\u001b[0mrandom_indices\u001b[0m\u001b[0;34m.\u001b[0m\u001b[0mflatten\u001b[0m\u001b[0;34m(\u001b[0m\u001b[0;34m)\u001b[0m\u001b[0;34m)\u001b[0m \u001b[0;34m/\u001b[0m \u001b[0mcolumns\u001b[0m \u001b[0;34m+\u001b[0m \u001b[0;36m1\u001b[0m\u001b[0;34m,\u001b[0m \u001b[0mcolumns\u001b[0m\u001b[0;34m,\u001b[0m \u001b[0mi\u001b[0m \u001b[0;34m+\u001b[0m \u001b[0;36m1\u001b[0m\u001b[0;34m)\u001b[0m\u001b[0;34m\u001b[0m\u001b[0;34m\u001b[0m\u001b[0m\n\u001b[1;32m     12\u001b[0m     \u001b[0mplt\u001b[0m\u001b[0;34m.\u001b[0m\u001b[0mimshow\u001b[0m\u001b[0;34m(\u001b[0m\u001b[0mimg\u001b[0m\u001b[0;34m)\u001b[0m\u001b[0;34m\u001b[0m\u001b[0;34m\u001b[0m\u001b[0m\n",
      "\u001b[0;32m~/anaconda3/lib/python3.8/site-packages/tensorflow/python/keras/preprocessing/image.py\u001b[0m in \u001b[0;36mload_img\u001b[0;34m(path, grayscale, color_mode, target_size, interpolation)\u001b[0m\n\u001b[1;32m    298\u001b[0m       \u001b[0mValueError\u001b[0m\u001b[0;34m:\u001b[0m \u001b[0;32mif\u001b[0m \u001b[0minterpolation\u001b[0m \u001b[0mmethod\u001b[0m \u001b[0;32mis\u001b[0m \u001b[0;32mnot\u001b[0m \u001b[0msupported\u001b[0m\u001b[0;34m.\u001b[0m\u001b[0;34m\u001b[0m\u001b[0;34m\u001b[0m\u001b[0m\n\u001b[1;32m    299\u001b[0m   \"\"\"\n\u001b[0;32m--> 300\u001b[0;31m   return image.load_img(path, grayscale=grayscale, color_mode=color_mode,\n\u001b[0m\u001b[1;32m    301\u001b[0m                         target_size=target_size, interpolation=interpolation)\n\u001b[1;32m    302\u001b[0m \u001b[0;34m\u001b[0m\u001b[0m\n",
      "\u001b[0;32m~/anaconda3/lib/python3.8/site-packages/keras_preprocessing/image/utils.py\u001b[0m in \u001b[0;36mload_img\u001b[0;34m(path, grayscale, color_mode, target_size, interpolation)\u001b[0m\n\u001b[1;32m    111\u001b[0m         raise ImportError('Could not import PIL.Image. '\n\u001b[1;32m    112\u001b[0m                           'The use of `load_img` requires PIL.')\n\u001b[0;32m--> 113\u001b[0;31m     \u001b[0;32mwith\u001b[0m \u001b[0mopen\u001b[0m\u001b[0;34m(\u001b[0m\u001b[0mpath\u001b[0m\u001b[0;34m,\u001b[0m \u001b[0;34m'rb'\u001b[0m\u001b[0;34m)\u001b[0m \u001b[0;32mas\u001b[0m \u001b[0mf\u001b[0m\u001b[0;34m:\u001b[0m\u001b[0;34m\u001b[0m\u001b[0;34m\u001b[0m\u001b[0m\n\u001b[0m\u001b[1;32m    114\u001b[0m         \u001b[0mimg\u001b[0m \u001b[0;34m=\u001b[0m \u001b[0mpil_image\u001b[0m\u001b[0;34m.\u001b[0m\u001b[0mopen\u001b[0m\u001b[0;34m(\u001b[0m\u001b[0mio\u001b[0m\u001b[0;34m.\u001b[0m\u001b[0mBytesIO\u001b[0m\u001b[0;34m(\u001b[0m\u001b[0mf\u001b[0m\u001b[0;34m.\u001b[0m\u001b[0mread\u001b[0m\u001b[0;34m(\u001b[0m\u001b[0;34m)\u001b[0m\u001b[0;34m)\u001b[0m\u001b[0;34m)\u001b[0m\u001b[0;34m\u001b[0m\u001b[0;34m\u001b[0m\u001b[0m\n\u001b[1;32m    115\u001b[0m         \u001b[0;32mif\u001b[0m \u001b[0mcolor_mode\u001b[0m \u001b[0;34m==\u001b[0m \u001b[0;34m'grayscale'\u001b[0m\u001b[0;34m:\u001b[0m\u001b[0;34m\u001b[0m\u001b[0;34m\u001b[0m\u001b[0m\n",
      "\u001b[0;31mFileNotFoundError\u001b[0m: [Errno 2] No such file or directory: '/scratch/WIT_Dataset/images/e/ee/BozemanPass1884.JPG'"
     ]
    },
    {
     "data": {
      "image/png": "[encoded data removed]",
      "text/plain": [
       "<Figure size 1440x1440 with 2 Axes>"
      ]
     },
     "metadata": {
      "needs_background": "light"
     },
     "output_type": "display_data"
    }
   ],
   "source": [
    "from tensorflow.keras.preprocessing.image import load_img\n",
    "\n",
    "plt.figure(figsize=(20, 20))\n",
    "IMAGE_DIMENSION = 64\n",
    "columns = 2\n",
    "rows = 2\n",
    "random_indices = np.random.randint(low=0, high=1e5, size=(rows,columns))\n",
    "for i, idx in enumerate(random_indices.flatten()):\n",
    "    path = '/scratch/WIT_Dataset/images/' + non_empty_image_labels.iloc[idx, :].url\n",
    "    img = load_img(path, target_size=(IMAGE_DIMENSION, IMAGE_DIMENSION))\n",
    "    plt.subplot(len(random_indices.flatten()) / columns + 1, columns, i + 1)\n",
    "    plt.imshow(img)\n",
    "    plt.axis('off')\n",
    "    title = ''.join([label + '\\n' for label in non_empty_image_labels.iloc[idx, :].new_labels])\n",
    "    plt.title(title)\n",
    "plt.suptitle('Some images and their ground truths')"
   ]
  }
 ],
 "metadata": {
  "interpreter": {
   "hash": "b7f323a1c2c8b3d38dc94a01188981c510c9b5df10e2cc2d7fa4f2b45d318cbd"
  },
  "kernelspec": {
   "display_name": "Python 3",
   "language": "python",
   "name": "python3"
  },
  "language_info": {
   "codemirror_mode": {
    "name": "ipython",
    "version": 3
   },
   "file_extension": ".py",
   "mimetype": "text/x-python",
   "name": "python",
   "nbconvert_exporter": "python",
   "pygments_lexer": "ipython3",
   "version": "3.8.2"
  }
 },
 "nbformat": 4,
 "nbformat_minor": 2
}
