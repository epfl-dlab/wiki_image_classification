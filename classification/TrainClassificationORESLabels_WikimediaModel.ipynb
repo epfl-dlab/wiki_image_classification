{
 "cells": [
  {
   "cell_type": "code",
   "execution_count": 1,
   "id": "9020661d",
   "metadata": {},
   "outputs": [
    {
     "name": "stdout",
     "output_type": "stream",
     "text": [
      "2.3.0\n"
     ]
    }
   ],
   "source": [
    "# TensorFlow and tf.keras\n",
    "import tensorflow as tf\n",
    "\n",
    "# Helper libraries\n",
    "import numpy as np\n",
    "import json\n",
    "import bz2\n",
    "import pandas as pd\n",
    "import matplotlib.pyplot as plt\n",
    "\n",
    "print(tf.__version__)"
   ]
  },
  {
   "cell_type": "code",
   "execution_count": null,
   "id": "509667ef",
   "metadata": {},
   "outputs": [],
   "source": [
    "from PIL import PngImagePlugin  \n",
    "LARGE_ENOUGH_NUMBER = 100\n",
    "PngImagePlugin.MAX_TEXT_CHUNK = LARGE_ENOUGH_NUMBER * (1024**2) # to avoid corrupted .png images"
   ]
  },
  {
   "cell_type": "code",
   "execution_count": 30,
   "id": "24c3daed",
   "metadata": {},
   "outputs": [
    {
     "name": "stdout",
     "output_type": "stream",
     "text": [
      "Num GPUs Available:  2\n"
     ]
    }
   ],
   "source": [
    "print(\"Num GPUs Available: \", len(tf.config.list_physical_devices('GPU')))"
   ]
  },
  {
   "cell_type": "code",
   "execution_count": 7,
   "id": "a8078d90",
   "metadata": {},
   "outputs": [],
   "source": [
    "topics = [\n",
    "  'Culture.Biography.Biography*',\n",
    " 'Culture.Food and drink',\n",
    " 'Culture.Internet culture',\n",
    " 'Culture.Linguistics',\n",
    " 'Culture.Literature',\n",
    " 'Culture.Media.Books',\n",
    " 'Culture.Media.Entertainment',\n",
    " 'Culture.Media.Films',\n",
    " 'Culture.Media.Media*',\n",
    " 'Culture.Media.Music',\n",
    " 'Culture.Media.Radio',\n",
    " 'Culture.Media.Software',\n",
    " 'Culture.Media.Television',\n",
    " 'Culture.Media.Video games',\n",
    " 'Culture.Performing arts',\n",
    " 'Culture.Philosophy and religion',\n",
    " 'Culture.Sports',\n",
    " 'Culture.Visual arts.Architecture',\n",
    " 'Culture.Visual arts.Comics and Anime',\n",
    " 'Culture.Visual arts.Fashion',\n",
    " 'Culture.Visual arts.Visual arts*',\n",
    " 'Geography.Geographical',\n",
    " 'History and Society.Business and economics',\n",
    " 'History and Society.Education',\n",
    " 'History and Society.History',\n",
    " 'History and Society.Military and warfare',\n",
    " 'History and Society.Politics and government',\n",
    " 'History and Society.Society',\n",
    " 'History and Society.Transportation',\n",
    " 'STEM.Biology',\n",
    " 'STEM.Chemistry',\n",
    " 'STEM.Computing',\n",
    " 'STEM.Earth and environment',\n",
    " 'STEM.Engineering',\n",
    " 'STEM.Libraries & Information',\n",
    " 'STEM.Mathematics',\n",
    " 'STEM.Medicine & Health',\n",
    " 'STEM.Physics',\n",
    " 'STEM.STEM*',\n",
    " 'STEM.Space',\n",
    " 'STEM.Technology']"
   ]
  },
  {
   "cell_type": "code",
   "execution_count": 9,
   "id": "466d5493",
   "metadata": {},
   "outputs": [
    {
     "data": {
      "text/html": [
       "<div>\n",
       "<style scoped>\n",
       "    .dataframe tbody tr th:only-of-type {\n",
       "        vertical-align: middle;\n",
       "    }\n",
       "\n",
       "    .dataframe tbody tr th {\n",
       "        vertical-align: top;\n",
       "    }\n",
       "\n",
       "    .dataframe thead th {\n",
       "        text-align: right;\n",
       "    }\n",
       "</style>\n",
       "<table border=\"1\" class=\"dataframe\">\n",
       "  <thead>\n",
       "    <tr style=\"text-align: right;\">\n",
       "      <th></th>\n",
       "      <th>full_path</th>\n",
       "      <th>labels</th>\n",
       "    </tr>\n",
       "  </thead>\n",
       "  <tbody>\n",
       "    <tr>\n",
       "      <th>736437</th>\n",
       "      <td>/scratch/WIT_Dataset/images/5/54/The_Return_of...</td>\n",
       "      <td>[Geography.Regions.Europe.Europe*, Geography.R...</td>\n",
       "    </tr>\n",
       "    <tr>\n",
       "      <th>20148</th>\n",
       "      <td>/scratch/WIT_Dataset/images/a/a2/PIA20862-Cere...</td>\n",
       "      <td>[STEM.Space, STEM.STEM*]</td>\n",
       "    </tr>\n",
       "    <tr>\n",
       "      <th>2770647</th>\n",
       "      <td>/scratch/WIT_Dataset/images/f/fa/Grimsby_-_The...</td>\n",
       "      <td>[Geography.Regions.Europe.Europe*, Geography.R...</td>\n",
       "    </tr>\n",
       "    <tr>\n",
       "      <th>1930902</th>\n",
       "      <td>/scratch/WIT_Dataset/images/9/93/Gisborne_nz_2...</td>\n",
       "      <td>[Geography.Regions.Oceania, Geography.Geograph...</td>\n",
       "    </tr>\n",
       "    <tr>\n",
       "      <th>1373350</th>\n",
       "      <td>/scratch/WIT_Dataset/images/1/1d/Rear_Admiral_...</td>\n",
       "      <td>[Geography.Regions.Europe.Europe*, History and...</td>\n",
       "    </tr>\n",
       "    <tr>\n",
       "      <th>...</th>\n",
       "      <td>...</td>\n",
       "      <td>...</td>\n",
       "    </tr>\n",
       "    <tr>\n",
       "      <th>3700342</th>\n",
       "      <td>/scratch/WIT_Dataset/images/a/a6/Homme_Castle_...</td>\n",
       "      <td>[History and Society.Military and warfare]</td>\n",
       "    </tr>\n",
       "    <tr>\n",
       "      <th>1899595</th>\n",
       "      <td>/scratch/WIT_Dataset/images/b/bb/Dathshead_haw...</td>\n",
       "      <td>[STEM.Biology, STEM.STEM*]</td>\n",
       "    </tr>\n",
       "    <tr>\n",
       "      <th>3175173</th>\n",
       "      <td>/scratch/WIT_Dataset/images/f/f5/Ahmednagar_fo...</td>\n",
       "      <td>[Geography.Geographical, Geography.Regions.Asi...</td>\n",
       "    </tr>\n",
       "    <tr>\n",
       "      <th>3475017</th>\n",
       "      <td>/scratch/WIT_Dataset/images/c/c4/Félicien_Chap...</td>\n",
       "      <td>[Culture.Biography.Biography*]</td>\n",
       "    </tr>\n",
       "    <tr>\n",
       "      <th>3151310</th>\n",
       "      <td>/scratch/WIT_Dataset/images/c/c2/Brosen_Wawel.jpg</td>\n",
       "      <td>[History and Society.Transportation]</td>\n",
       "    </tr>\n",
       "  </tbody>\n",
       "</table>\n",
       "<p>500000 rows × 2 columns</p>\n",
       "</div>"
      ],
      "text/plain": [
       "                                                 full_path  \\\n",
       "736437   /scratch/WIT_Dataset/images/5/54/The_Return_of...   \n",
       "20148    /scratch/WIT_Dataset/images/a/a2/PIA20862-Cere...   \n",
       "2770647  /scratch/WIT_Dataset/images/f/fa/Grimsby_-_The...   \n",
       "1930902  /scratch/WIT_Dataset/images/9/93/Gisborne_nz_2...   \n",
       "1373350  /scratch/WIT_Dataset/images/1/1d/Rear_Admiral_...   \n",
       "...                                                    ...   \n",
       "3700342  /scratch/WIT_Dataset/images/a/a6/Homme_Castle_...   \n",
       "1899595  /scratch/WIT_Dataset/images/b/bb/Dathshead_haw...   \n",
       "3175173  /scratch/WIT_Dataset/images/f/f5/Ahmednagar_fo...   \n",
       "3475017  /scratch/WIT_Dataset/images/c/c4/Félicien_Chap...   \n",
       "3151310  /scratch/WIT_Dataset/images/c/c2/Brosen_Wawel.jpg   \n",
       "\n",
       "                                                    labels  \n",
       "736437   [Geography.Regions.Europe.Europe*, Geography.R...  \n",
       "20148                             [STEM.Space, STEM.STEM*]  \n",
       "2770647  [Geography.Regions.Europe.Europe*, Geography.R...  \n",
       "1930902  [Geography.Regions.Oceania, Geography.Geograph...  \n",
       "1373350  [Geography.Regions.Europe.Europe*, History and...  \n",
       "...                                                    ...  \n",
       "3700342         [History and Society.Military and warfare]  \n",
       "1899595                         [STEM.Biology, STEM.STEM*]  \n",
       "3175173  [Geography.Geographical, Geography.Regions.Asi...  \n",
       "3475017                     [Culture.Biography.Biography*]  \n",
       "3151310               [History and Society.Transportation]  \n",
       "\n",
       "[500000 rows x 2 columns]"
      ]
     },
     "execution_count": 9,
     "metadata": {},
     "output_type": "execute_result"
    }
   ],
   "source": [
    "training_set = pd.read_pickle(\"/dlabdata1/piccardi/WikipediaImageClassification/training_set.pkl\")\\\n",
    "            .sample(750000, random_state=0)\n",
    "training_set['full_path'] = training_set.image_path.apply(lambda r: '/scratch/WIT_Dataset/images'+r)\n",
    "training_set[['full_path', 'labels']]"
   ]
  },
  {
   "cell_type": "code",
   "execution_count": 44,
   "id": "70d17fcc",
   "metadata": {},
   "outputs": [
    {
     "name": "stderr",
     "output_type": "stream",
     "text": [
      "/home/matvieir/anaconda3/lib/python3.8/site-packages/keras_preprocessing/image/dataframe_iterator.py:279: UserWarning: Found 41468 invalid image filename(s) in x_col=\"full_path\". These filename(s) will be ignored.\n",
      "  warnings.warn(\n"
     ]
    },
    {
     "name": "stdout",
     "output_type": "stream",
     "text": [
      "Found 368133 validated image filenames belonging to 41 classes.\n"
     ]
    },
    {
     "name": "stderr",
     "output_type": "stream",
     "text": [
      "/home/matvieir/anaconda3/lib/python3.8/site-packages/keras_preprocessing/image/dataframe_iterator.py:279: UserWarning: Found 41468 invalid image filename(s) in x_col=\"full_path\". These filename(s) will be ignored.\n",
      "  warnings.warn(\n"
     ]
    },
    {
     "name": "stdout",
     "output_type": "stream",
     "text": [
      "Found 19375 validated image filenames belonging to 41 classes.\n"
     ]
    }
   ],
   "source": [
    "from tensorflow import keras \n",
    "from tensorflow.keras.preprocessing.image import ImageDataGenerator\n",
    "\n",
    "IMAGE_DIMENSION= 150\n",
    "target_size = (IMAGE_DIMENSION, IMAGE_DIMENSION)\n",
    "datagen = ImageDataGenerator(rescale=1./255, \n",
    "                             rotation_range=40, \n",
    "                             width_shift_range=0.2,\n",
    "                             height_shift_range=0.2, \n",
    "                             shear_range=0.2,\n",
    "                             zoom_range=0.2,\n",
    "                             horizontal_flip=True,\n",
    "                             fill_mode='nearest',\n",
    "                             validation_split=0.05, \n",
    "                             ) \n",
    "\n",
    "train_generator = datagen.flow_from_dataframe(\n",
    "        dataframe=training_set, \n",
    "#         directory='/scratch/WIT_Dataset/images/', \n",
    "        subset='training',\n",
    "        classes=topics,\n",
    "        color_mode='rgb',\n",
    "        x_col='full_path', \n",
    "        y_col='labels', \n",
    "        class_mode='categorical', \n",
    "        batch_size=120,\n",
    "#         validate_filenames=False, \n",
    "        target_size=target_size,\n",
    "        shuffle=False\n",
    "        )\n",
    "\n",
    "validation_generator = datagen.flow_from_dataframe(\n",
    "        dataframe=training_set, \n",
    "#         directory='/scratch/WIT_Dataset/images/', \n",
    "        subset='validation',\n",
    "        classes=topics,\n",
    "        color_mode='rgb',\n",
    "        x_col='full_path', \n",
    "        y_col='labels', \n",
    "        class_mode='categorical', \n",
    "        target_size=target_size,\n",
    "        shuffle=False\n",
    "        )\n"
   ]
  },
  {
   "cell_type": "code",
   "execution_count": 45,
   "id": "c39deb98",
   "metadata": {},
   "outputs": [],
   "source": [
    "class_indices = train_generator.class_indices"
   ]
  },
  {
   "cell_type": "code",
   "execution_count": 46,
   "id": "a7f14980",
   "metadata": {},
   "outputs": [],
   "source": [
    "CLASS_LABELS = list(class_indices.keys())"
   ]
  },
  {
   "cell_type": "code",
   "execution_count": 48,
   "id": "94788908",
   "metadata": {},
   "outputs": [
    {
     "name": "stdout",
     "output_type": "stream",
     "text": [
      "Model: \"functional_3\"\n",
      "_________________________________________________________________\n",
      "Layer (type)                 Output Shape              Param #   \n",
      "=================================================================\n",
      "input_9 (InputLayer)         [(None, 150, 150, 3)]     0         \n",
      "_________________________________________________________________\n",
      "normalization_4 (Normalizati (None, 150, 150, 3)       7         \n",
      "_________________________________________________________________\n",
      "xception (Functional)        (None, 5, 5, 2048)        20861480  \n",
      "_________________________________________________________________\n",
      "global_average_pooling2d_2 ( (None, 2048)              0         \n",
      "_________________________________________________________________\n",
      "dropout_2 (Dropout)          (None, 2048)              0         \n",
      "_________________________________________________________________\n",
      "dense_3 (Dense)              (None, 41)                84009     \n",
      "=================================================================\n",
      "Total params: 20,945,496\n",
      "Trainable params: 84,009\n",
      "Non-trainable params: 20,861,487\n",
      "_________________________________________________________________\n"
     ]
    }
   ],
   "source": [
    "from tensorflow.keras.applications import EfficientNetB0\n",
    "from tensorflow.keras.layers import GlobalAveragePooling2D, Dense, Dropout\n",
    "from tensorflow.keras.preprocessing.image import ImageDataGenerator\n",
    "from tensorflow.keras import optimizers\n",
    "from tensorflow.keras.callbacks import ModelCheckpoint\n",
    "from tensorflow import keras\n",
    "from tensorflow.keras import layers\n",
    "from tensorflow.keras.models import Sequential\n",
    "\n",
    "base_model = tf.keras.applications.xception.Xception(\n",
    "            weights=\"imagenet\",  # Load weights pre-trained on ImageNet.\n",
    "            input_shape=(IMAGE_DIMENSION, IMAGE_DIMENSION, 3),\n",
    "            include_top=False,\n",
    "        )  \n",
    "base_model.trainable = False\n",
    "inputs = tf.keras.Input(shape=(IMAGE_DIMENSION, IMAGE_DIMENSION, 3))\n",
    "x = inputs  # Apply random data augmentation\n",
    "norm_layer = tf.keras.layers.experimental.preprocessing.Normalization()\n",
    "mean = np.array([127.5] * 3)\n",
    "var = mean ** 2\n",
    "x = norm_layer(x)\n",
    "norm_layer.set_weights([mean, var])\n",
    "x = base_model(x, training=False)\n",
    "x = tf.keras.layers.GlobalAveragePooling2D()(x)\n",
    "x = tf.keras.layers.Dropout(0.2)(x)  # Regularize with dropout\n",
    "outputs = tf.keras.layers.Dense(len(CLASS_LABELS))(x) #Replace 1 with number of classes\n",
    "model = tf.keras.Model(inputs, outputs)\n",
    "\n",
    "# Decaying learning rate\n",
    "initial_learning_rate = 0.1\n",
    "lr_schedule = tf.keras.optimizers.schedules.ExponentialDecay(\n",
    "    initial_learning_rate,\n",
    "    decay_steps=100000,\n",
    "    decay_rate=0.96,\n",
    "    staircase=True)\n",
    "\n",
    "model.summary()\n",
    "model.compile(optimizer=tf.keras.optimizers.Adam(learning_rate=lr_schedule),\n",
    "              loss=tf.nn.sigmoid_cross_entropy_with_logits,\n",
    "              metrics=['accuracy'])"
   ]
  },
  {
   "cell_type": "code",
   "execution_count": null,
   "id": "9f6394ed",
   "metadata": {},
   "outputs": [
    {
     "name": "stdout",
     "output_type": "stream",
     "text": [
      "Epoch 1/15\n",
      "3068/3068 [==============================] - 2180s 711ms/step - loss: 0.1610 - accuracy: 0.2146 - val_loss: 0.1592 - val_accuracy: 0.2579\n",
      "Epoch 2/15\n",
      "3068/3068 [==============================] - 2181s 711ms/step - loss: 0.1594 - accuracy: 0.2072 - val_loss: 0.1585 - val_accuracy: 0.1749\n",
      "Epoch 3/15\n",
      "3068/3068 [==============================] - 2390s 779ms/step - loss: 0.1592 - accuracy: 0.2076 - val_loss: 0.1586 - val_accuracy: 0.1939\n",
      "Epoch 4/15\n",
      "3068/3068 [==============================] - 2236s 729ms/step - loss: 0.1592 - accuracy: 0.2080 - val_loss: 0.1586 - val_accuracy: 0.2476\n",
      "Epoch 5/15\n",
      "3068/3068 [==============================] - 2158s 703ms/step - loss: 0.1592 - accuracy: 0.2060 - val_loss: 0.1590 - val_accuracy: 0.1317\n",
      "Epoch 6/15\n",
      "3068/3068 [==============================] - 2172s 708ms/step - loss: 0.1592 - accuracy: 0.2058 - val_loss: 0.1586 - val_accuracy: 0.2274\n",
      "Epoch 7/15\n",
      "3068/3068 [==============================] - 2181s 711ms/step - loss: 0.1592 - accuracy: 0.2053 - val_loss: 0.1590 - val_accuracy: 0.1373\n",
      "Epoch 8/15\n",
      "3068/3068 [==============================] - 2361s 769ms/step - loss: 0.1592 - accuracy: 0.2060 - val_loss: 0.1583 - val_accuracy: 0.2340\n",
      "Epoch 9/15\n",
      "3068/3068 [==============================] - 2215s 722ms/step - loss: 0.1592 - accuracy: 0.2063 - val_loss: 0.1586 - val_accuracy: 0.1539\n",
      "Epoch 10/15\n",
      "3068/3068 [==============================] - 2757s 899ms/step - loss: 0.1592 - accuracy: 0.2065 - val_loss: 0.1584 - val_accuracy: 0.2355\n",
      "Epoch 11/15\n",
      " 548/3068 [====>.........................] - ETA: 41:34 - loss: 0.1592 - accuracy: 0.2051"
     ]
    }
   ],
   "source": [
    "epochs=15\n",
    "\n",
    "history = model.fit(\n",
    "  train_generator,\n",
    "  verbose=1,\n",
    "#   steps_per_epoch=15,\n",
    "  validation_data=validation_generator,\n",
    "  epochs=epochs,\n",
    "#   validation_steps=7,\n",
    "#   workers=2,\n",
    "#   use_multiprocessing=True,\n",
    ")"
   ]
  },
  {
   "cell_type": "code",
   "execution_count": 31,
   "id": "3ea2d882",
   "metadata": {},
   "outputs": [
    {
     "data": {
      "image/png": "[encoded data removed]",
      "text/plain": [
       "<Figure size 576x288 with 2 Axes>"
      ]
     },
     "metadata": {
      "needs_background": "light"
     },
     "output_type": "display_data"
    }
   ],
   "source": [
    "acc = history.history['accuracy']\n",
    "val_acc = history.history['val_accuracy']\n",
    "\n",
    "loss = history.history['loss']\n",
    "val_loss = history.history['val_loss']\n",
    "\n",
    "epochs_range = range(epochs)\n",
    "\n",
    "plt.figure(figsize=(8, 4))\n",
    "plt.subplot(1, 2, 1)\n",
    "plt.plot(epochs_range, acc, label='Training Accuracy')\n",
    "plt.plot(epochs_range, val_acc, label='Validation Accuracy')\n",
    "plt.legend(loc='lower right')\n",
    "plt.title('Training and Validation Accuracy')\n",
    "\n",
    "plt.subplot(1, 2, 2)\n",
    "plt.plot(epochs_range, loss, label='Training Loss')\n",
    "plt.plot(epochs_range, val_loss, label='Validation Loss')\n",
    "plt.legend(loc='upper right')\n",
    "plt.title('Training and Validation Loss')\n",
    "plt.show()"
   ]
  },
  {
   "cell_type": "code",
   "execution_count": null,
   "id": "dad30433",
   "metadata": {},
   "outputs": [],
   "source": [
    "model.save('saved_model_wikimedia')"
   ]
  },
  {
   "cell_type": "code",
   "execution_count": 32,
   "id": "650018f5",
   "metadata": {},
   "outputs": [
    {
     "name": "stderr",
     "output_type": "stream",
     "text": [
      "/home/matvieir/anaconda3/lib/python3.8/site-packages/keras_preprocessing/image/dataframe_iterator.py:279: UserWarning: Found 41468 invalid image filename(s) in x_col=\"full_path\". These filename(s) will be ignored.\n",
      "  warnings.warn(\n"
     ]
    },
    {
     "name": "stdout",
     "output_type": "stream",
     "text": [
      "Found 19375 validated image filenames belonging to 41 classes.\n"
     ]
    }
   ],
   "source": [
    "vg = datagen.flow_from_dataframe(\n",
    "        dataframe=training_set, \n",
    "        subset='validation',\n",
    "        classes=topics,\n",
    "        color_mode='rgb',\n",
    "        x_col='full_path', \n",
    "        y_col='labels', \n",
    "        class_mode='categorical', \n",
    "        target_size=target_size,\n",
    "        shuffle=False\n",
    "        )"
   ]
  },
  {
   "cell_type": "code",
   "execution_count": 33,
   "id": "bc6a09a5",
   "metadata": {},
   "outputs": [
    {
     "data": {
      "text/plain": [
       "array([[-1.6884366 , -4.016664  , -6.7662334 , ..., -1.0056901 ,\n",
       "        -3.9483628 , -4.113852  ],\n",
       "       [-1.3539528 , -3.8445323 , -6.3941107 , ..., -1.3150485 ,\n",
       "        -4.3505325 , -4.267475  ],\n",
       "       [-1.7036175 , -3.9181514 , -6.2623363 , ..., -1.4409082 ,\n",
       "        -5.2521706 , -3.9551737 ],\n",
       "       ...,\n",
       "       [-0.63245404, -3.899385  , -5.5006227 , ..., -1.2743526 ,\n",
       "        -4.357171  , -3.7367036 ],\n",
       "       [-1.7918313 , -4.49608   , -6.4092836 , ..., -1.4253566 ,\n",
       "        -4.8286886 , -3.9631584 ],\n",
       "       [-0.78355706, -3.8557003 , -5.6140833 , ..., -1.5392449 ,\n",
       "        -4.8040066 , -3.9200006 ]], dtype=float32)"
      ]
     },
     "execution_count": 33,
     "metadata": {},
     "output_type": "execute_result"
    }
   ],
   "source": [
    "val_predictions = model.predict(vg)\n",
    "val_predictions"
   ]
  },
  {
   "cell_type": "code",
   "execution_count": 35,
   "id": "c34a0d08",
   "metadata": {},
   "outputs": [],
   "source": [
    "name_id_map = train_generator.class_indices\n",
    "class_names = len(name_id_map)*[0]\n",
    "for k in name_id_map.keys():\n",
    "    class_names[name_id_map[k]] = k"
   ]
  },
  {
   "cell_type": "code",
   "execution_count": 38,
   "id": "2bb3cbf5",
   "metadata": {},
   "outputs": [
    {
     "name": "stdout",
     "output_type": "stream",
     "text": [
      "Biography* 55/5100 == 0.010784313725490196\n",
      "Food and drink 0/381 == 0.0\n",
      "Internet culture 0/55 == 0.0\n",
      "Linguistics 0/73 == 0.0\n",
      "Literature 0/457 == 0.0\n",
      "Books 0/100 == 0.0\n",
      "Entertainment 0/222 == 0.0\n",
      "Films 0/227 == 0.0\n",
      "Media* 0/1409 == 0.0\n",
      "Music 0/621 == 0.0\n",
      "Radio 0/43 == 0.0\n",
      "Software 0/18 == 0.0\n",
      "Television 0/218 == 0.0\n",
      "Video games 0/38 == 0.0\n",
      "Performing arts 0/185 == 0.0\n",
      "Philosophy and religion 0/1145 == 0.0\n",
      "Sports 0/1832 == 0.0\n",
      "Architecture 0/2563 == 0.0\n",
      "Comics and Anime 0/45 == 0.0\n",
      "Fashion 0/111 == 0.0\n",
      "Visual arts* 0/3355 == 0.0\n",
      "Geographical 0/2274 == 0.0\n",
      "Business and economics 0/783 == 0.0\n",
      "Education 0/525 == 0.0\n",
      "History 0/1411 == 0.0\n",
      "Military and warfare 0/1784 == 0.0\n",
      "Politics and government 2/1867 == 0.0010712372790573112\n",
      "Society 0/844 == 0.0\n",
      "Transportation 4/2169 == 0.0018441678192715537\n",
      "Biology 1/2026 == 0.0004935834155972359\n",
      "Chemistry 0/71 == 0.0\n",
      "Computing 0/69 == 0.0\n",
      "Earth and environment 0/453 == 0.0\n",
      "Engineering 0/947 == 0.0\n",
      "Libraries & Information 0/67 == 0.0\n",
      "Mathematics 0/9 == 0.0\n",
      "Medicine & Health 0/239 == 0.0\n",
      "Physics 0/71 == 0.0\n",
      "STEM* 12/4234 == 0.002834199338686821\n",
      "Space 0/253 == 0.0\n",
      "Technology 0/456 == 0.0\n"
     ]
    }
   ],
   "source": [
    "from collections import Counter\n",
    "\n",
    "total = Counter()\n",
    "correct = Counter()\n",
    "for i in range(len(vg.classes)):\n",
    "    true_y = vg.classes[i]\n",
    "    for l in true_y:\n",
    "        total[l]+=1\n",
    "    predicted_y = np.argwhere(val_predictions[i]>=0.2)\n",
    "    for p in predicted_y:\n",
    "        if p[0] in true_y:\n",
    "            correct[p[0]]+=1\n",
    "\n",
    "for k in sorted(total.keys()):\n",
    "    print(class_names[k].split(\".\")[-1], \"{}/{} == {}\".format(correct[k], total[k], correct[k]/total[k]))"
   ]
  },
  {
   "cell_type": "code",
   "execution_count": 37,
   "id": "1249ee32",
   "metadata": {},
   "outputs": [
    {
     "data": {
      "text/plain": [
       "{'Culture.Biography.Biography*': 0,\n",
       " 'Culture.Food and drink': 1,\n",
       " 'Culture.Internet culture': 2,\n",
       " 'Culture.Linguistics': 3,\n",
       " 'Culture.Literature': 4,\n",
       " 'Culture.Media.Books': 5,\n",
       " 'Culture.Media.Entertainment': 6,\n",
       " 'Culture.Media.Films': 7,\n",
       " 'Culture.Media.Media*': 8,\n",
       " 'Culture.Media.Music': 9,\n",
       " 'Culture.Media.Radio': 10,\n",
       " 'Culture.Media.Software': 11,\n",
       " 'Culture.Media.Television': 12,\n",
       " 'Culture.Media.Video games': 13,\n",
       " 'Culture.Performing arts': 14,\n",
       " 'Culture.Philosophy and religion': 15,\n",
       " 'Culture.Sports': 16,\n",
       " 'Culture.Visual arts.Architecture': 17,\n",
       " 'Culture.Visual arts.Comics and Anime': 18,\n",
       " 'Culture.Visual arts.Fashion': 19,\n",
       " 'Culture.Visual arts.Visual arts*': 20,\n",
       " 'Geography.Geographical': 21,\n",
       " 'History and Society.Business and economics': 22,\n",
       " 'History and Society.Education': 23,\n",
       " 'History and Society.History': 24,\n",
       " 'History and Society.Military and warfare': 25,\n",
       " 'History and Society.Politics and government': 26,\n",
       " 'History and Society.Society': 27,\n",
       " 'History and Society.Transportation': 28,\n",
       " 'STEM.Biology': 29,\n",
       " 'STEM.Chemistry': 30,\n",
       " 'STEM.Computing': 31,\n",
       " 'STEM.Earth and environment': 32,\n",
       " 'STEM.Engineering': 33,\n",
       " 'STEM.Libraries & Information': 34,\n",
       " 'STEM.Mathematics': 35,\n",
       " 'STEM.Medicine & Health': 36,\n",
       " 'STEM.Physics': 37,\n",
       " 'STEM.STEM*': 38,\n",
       " 'STEM.Space': 39,\n",
       " 'STEM.Technology': 40}"
      ]
     },
     "execution_count": 37,
     "metadata": {},
     "output_type": "execute_result"
    }
   ],
   "source": [
    "name_id_map"
   ]
  }
 ],
 "metadata": {
  "kernelspec": {
   "display_name": "Python 3",
   "language": "python",
   "name": "python3"
  },
  "language_info": {
   "codemirror_mode": {
    "name": "ipython",
    "version": 3
   },
   "file_extension": ".py",
   "mimetype": "text/x-python",
   "name": "python",
   "nbconvert_exporter": "python",
   "pygments_lexer": "ipython3",
   "version": "3.8.2"
  }
 },
 "nbformat": 4,
 "nbformat_minor": 5
}
