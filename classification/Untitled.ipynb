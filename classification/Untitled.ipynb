{
 "cells": [
  {
   "cell_type": "code",
   "execution_count": 1,
   "id": "9020661d",
   "metadata": {},
   "outputs": [
    {
     "name": "stdout",
     "output_type": "stream",
     "text": [
      "2.3.0\n"
     ]
    }
   ],
   "source": [
    "# TensorFlow and tf.keras\n",
    "import tensorflow as tf\n",
    "\n",
    "# Helper libraries\n",
    "import numpy as np\n",
    "import json\n",
    "import bz2\n",
    "import pandas as pd\n",
    "import matplotlib.pyplot as plt\n",
    "\n",
    "print(tf.__version__)"
   ]
  },
  {
   "cell_type": "code",
   "execution_count": null,
   "id": "509667ef",
   "metadata": {},
   "outputs": [],
   "source": [
    "from PIL import PngImagePlugin  \n",
    "LARGE_ENOUGH_NUMBER = 100\n",
    "PngImagePlugin.MAX_TEXT_CHUNK = LARGE_ENOUGH_NUMBER * (1024**2) # to avoid corrupted .png images"
   ]
  },
  {
   "cell_type": "code",
   "execution_count": 8,
   "id": "24c3daed",
   "metadata": {},
   "outputs": [
    {
     "name": "stdout",
     "output_type": "stream",
     "text": [
      "Num GPUs Available:  2\n"
     ]
    }
   ],
   "source": [
    "print(\"Num GPUs Available: \", len(tf.config.list_physical_devices('GPU')))"
   ]
  },
  {
   "cell_type": "code",
   "execution_count": 7,
   "id": "a8078d90",
   "metadata": {},
   "outputs": [],
   "source": [
    "topics = [\n",
    "  'Culture.Biography.Biography*',\n",
    " 'Culture.Food and drink',\n",
    " 'Culture.Internet culture',\n",
    " 'Culture.Linguistics',\n",
    " 'Culture.Literature',\n",
    " 'Culture.Media.Books',\n",
    " 'Culture.Media.Entertainment',\n",
    " 'Culture.Media.Films',\n",
    " 'Culture.Media.Media*',\n",
    " 'Culture.Media.Music',\n",
    " 'Culture.Media.Radio',\n",
    " 'Culture.Media.Software',\n",
    " 'Culture.Media.Television',\n",
    " 'Culture.Media.Video games',\n",
    " 'Culture.Performing arts',\n",
    " 'Culture.Philosophy and religion',\n",
    " 'Culture.Sports',\n",
    " 'Culture.Visual arts.Architecture',\n",
    " 'Culture.Visual arts.Comics and Anime',\n",
    " 'Culture.Visual arts.Fashion',\n",
    " 'Culture.Visual arts.Visual arts*',\n",
    " 'Geography.Geographical',\n",
    " 'History and Society.Business and economics',\n",
    " 'History and Society.Education',\n",
    " 'History and Society.History',\n",
    " 'History and Society.Military and warfare',\n",
    " 'History and Society.Politics and government',\n",
    " 'History and Society.Society',\n",
    " 'History and Society.Transportation',\n",
    " 'STEM.Biology',\n",
    " 'STEM.Chemistry',\n",
    " 'STEM.Computing',\n",
    " 'STEM.Earth and environment',\n",
    " 'STEM.Engineering',\n",
    " 'STEM.Libraries & Information',\n",
    " 'STEM.Mathematics',\n",
    " 'STEM.Medicine & Health',\n",
    " 'STEM.Physics',\n",
    " 'STEM.STEM*',\n",
    " 'STEM.Space',\n",
    " 'STEM.Technology']"
   ]
  },
  {
   "cell_type": "code",
   "execution_count": 9,
   "id": "466d5493",
   "metadata": {},
   "outputs": [
    {
     "data": {
      "text/html": [
       "<div>\n",
       "<style scoped>\n",
       "    .dataframe tbody tr th:only-of-type {\n",
       "        vertical-align: middle;\n",
       "    }\n",
       "\n",
       "    .dataframe tbody tr th {\n",
       "        vertical-align: top;\n",
       "    }\n",
       "\n",
       "    .dataframe thead th {\n",
       "        text-align: right;\n",
       "    }\n",
       "</style>\n",
       "<table border=\"1\" class=\"dataframe\">\n",
       "  <thead>\n",
       "    <tr style=\"text-align: right;\">\n",
       "      <th></th>\n",
       "      <th>full_path</th>\n",
       "      <th>labels</th>\n",
       "    </tr>\n",
       "  </thead>\n",
       "  <tbody>\n",
       "    <tr>\n",
       "      <th>736437</th>\n",
       "      <td>/scratch/WIT_Dataset/images/5/54/The_Return_of...</td>\n",
       "      <td>[Geography.Regions.Europe.Europe*, Geography.R...</td>\n",
       "    </tr>\n",
       "    <tr>\n",
       "      <th>20148</th>\n",
       "      <td>/scratch/WIT_Dataset/images/a/a2/PIA20862-Cere...</td>\n",
       "      <td>[STEM.Space, STEM.STEM*]</td>\n",
       "    </tr>\n",
       "    <tr>\n",
       "      <th>2770647</th>\n",
       "      <td>/scratch/WIT_Dataset/images/f/fa/Grimsby_-_The...</td>\n",
       "      <td>[Geography.Regions.Europe.Europe*, Geography.R...</td>\n",
       "    </tr>\n",
       "    <tr>\n",
       "      <th>1930902</th>\n",
       "      <td>/scratch/WIT_Dataset/images/9/93/Gisborne_nz_2...</td>\n",
       "      <td>[Geography.Regions.Oceania, Geography.Geograph...</td>\n",
       "    </tr>\n",
       "    <tr>\n",
       "      <th>1373350</th>\n",
       "      <td>/scratch/WIT_Dataset/images/1/1d/Rear_Admiral_...</td>\n",
       "      <td>[Geography.Regions.Europe.Europe*, History and...</td>\n",
       "    </tr>\n",
       "    <tr>\n",
       "      <th>...</th>\n",
       "      <td>...</td>\n",
       "      <td>...</td>\n",
       "    </tr>\n",
       "    <tr>\n",
       "      <th>3700342</th>\n",
       "      <td>/scratch/WIT_Dataset/images/a/a6/Homme_Castle_...</td>\n",
       "      <td>[History and Society.Military and warfare]</td>\n",
       "    </tr>\n",
       "    <tr>\n",
       "      <th>1899595</th>\n",
       "      <td>/scratch/WIT_Dataset/images/b/bb/Dathshead_haw...</td>\n",
       "      <td>[STEM.Biology, STEM.STEM*]</td>\n",
       "    </tr>\n",
       "    <tr>\n",
       "      <th>3175173</th>\n",
       "      <td>/scratch/WIT_Dataset/images/f/f5/Ahmednagar_fo...</td>\n",
       "      <td>[Geography.Geographical, Geography.Regions.Asi...</td>\n",
       "    </tr>\n",
       "    <tr>\n",
       "      <th>3475017</th>\n",
       "      <td>/scratch/WIT_Dataset/images/c/c4/Félicien_Chap...</td>\n",
       "      <td>[Culture.Biography.Biography*]</td>\n",
       "    </tr>\n",
       "    <tr>\n",
       "      <th>3151310</th>\n",
       "      <td>/scratch/WIT_Dataset/images/c/c2/Brosen_Wawel.jpg</td>\n",
       "      <td>[History and Society.Transportation]</td>\n",
       "    </tr>\n",
       "  </tbody>\n",
       "</table>\n",
       "<p>500000 rows × 2 columns</p>\n",
       "</div>"
      ],
      "text/plain": [
       "                                                 full_path  \\\n",
       "736437   /scratch/WIT_Dataset/images/5/54/The_Return_of...   \n",
       "20148    /scratch/WIT_Dataset/images/a/a2/PIA20862-Cere...   \n",
       "2770647  /scratch/WIT_Dataset/images/f/fa/Grimsby_-_The...   \n",
       "1930902  /scratch/WIT_Dataset/images/9/93/Gisborne_nz_2...   \n",
       "1373350  /scratch/WIT_Dataset/images/1/1d/Rear_Admiral_...   \n",
       "...                                                    ...   \n",
       "3700342  /scratch/WIT_Dataset/images/a/a6/Homme_Castle_...   \n",
       "1899595  /scratch/WIT_Dataset/images/b/bb/Dathshead_haw...   \n",
       "3175173  /scratch/WIT_Dataset/images/f/f5/Ahmednagar_fo...   \n",
       "3475017  /scratch/WIT_Dataset/images/c/c4/Félicien_Chap...   \n",
       "3151310  /scratch/WIT_Dataset/images/c/c2/Brosen_Wawel.jpg   \n",
       "\n",
       "                                                    labels  \n",
       "736437   [Geography.Regions.Europe.Europe*, Geography.R...  \n",
       "20148                             [STEM.Space, STEM.STEM*]  \n",
       "2770647  [Geography.Regions.Europe.Europe*, Geography.R...  \n",
       "1930902  [Geography.Regions.Oceania, Geography.Geograph...  \n",
       "1373350  [Geography.Regions.Europe.Europe*, History and...  \n",
       "...                                                    ...  \n",
       "3700342         [History and Society.Military and warfare]  \n",
       "1899595                         [STEM.Biology, STEM.STEM*]  \n",
       "3175173  [Geography.Geographical, Geography.Regions.Asi...  \n",
       "3475017                     [Culture.Biography.Biography*]  \n",
       "3151310               [History and Society.Transportation]  \n",
       "\n",
       "[500000 rows x 2 columns]"
      ]
     },
     "execution_count": 9,
     "metadata": {},
     "output_type": "execute_result"
    }
   ],
   "source": [
    "training_set = pd.read_pickle(\"/dlabdata1/piccardi/WikipediaImageClassification/training_set.pkl\")\\\n",
    "            .sample(500000, random_state=0)\n",
    "training_set['full_path'] = training_set.image_path.apply(lambda r: '/scratch/WIT_Dataset/images'+r)\n",
    "training_set[['full_path', 'labels']]"
   ]
  },
  {
   "cell_type": "code",
   "execution_count": 10,
   "id": "70d17fcc",
   "metadata": {},
   "outputs": [
    {
     "name": "stdout",
     "output_type": "stream",
     "text": [
      "1\n",
      "2\n"
     ]
    },
    {
     "name": "stderr",
     "output_type": "stream",
     "text": [
      "/home/matvieir/anaconda3/lib/python3.8/site-packages/keras_preprocessing/image/dataframe_iterator.py:279: UserWarning: Found 41468 invalid image filename(s) in x_col=\"full_path\". These filename(s) will be ignored.\n",
      "  warnings.warn(\n"
     ]
    },
    {
     "name": "stdout",
     "output_type": "stream",
     "text": [
      "Found 368133 validated image filenames belonging to 41 classes.\n",
      "3\n"
     ]
    },
    {
     "name": "stderr",
     "output_type": "stream",
     "text": [
      "/home/matvieir/anaconda3/lib/python3.8/site-packages/keras_preprocessing/image/dataframe_iterator.py:279: UserWarning: Found 41468 invalid image filename(s) in x_col=\"full_path\". These filename(s) will be ignored.\n",
      "  warnings.warn(\n"
     ]
    },
    {
     "name": "stdout",
     "output_type": "stream",
     "text": [
      "Found 19375 validated image filenames belonging to 41 classes.\n",
      "4\n"
     ]
    }
   ],
   "source": [
    "from tensorflow import keras \n",
    "from tensorflow.keras.preprocessing.image import ImageDataGenerator\n",
    "\n",
    "width, height = 64, 64\n",
    "target_size = (height, width)\n",
    "print('1')\n",
    "datagen = ImageDataGenerator(rescale=1./255, \n",
    "#                              rotation_range=40, \n",
    "#                              width_shift_range=0.2,\n",
    "#                              height_shift_range=0.2, \n",
    "#                              shear_range=0.2,\n",
    "#                              zoom_range=0.2,\n",
    "#                              horizontal_flip=True,\n",
    "#                              fill_mode='nearest'\n",
    "                             validation_split=0.05, \n",
    "                             ) \n",
    "print('2')\n",
    "\n",
    "train_generator = datagen.flow_from_dataframe(\n",
    "        dataframe=training_set, \n",
    "#         directory='/scratch/WIT_Dataset/images/', \n",
    "        subset='training',\n",
    "        classes=topics,\n",
    "        color_mode='rgb',\n",
    "        x_col='full_path', \n",
    "        y_col='labels', \n",
    "        class_mode='categorical', \n",
    "        batch_size=120,\n",
    "#         validate_filenames=False, \n",
    "        target_size=target_size,\n",
    "        shuffle=False\n",
    "        )\n",
    "print('3')\n",
    "\n",
    "validation_generator = datagen.flow_from_dataframe(\n",
    "        dataframe=training_set, \n",
    "#         directory='/scratch/WIT_Dataset/images/', \n",
    "        subset='validation',\n",
    "        classes=topics,\n",
    "        color_mode='rgb',\n",
    "        x_col='full_path', \n",
    "        y_col='labels', \n",
    "        class_mode='categorical', \n",
    "#         validate_filenames=False, \n",
    "        target_size=target_size,\n",
    "        shuffle=False\n",
    "        )\n",
    "print('4')\n"
   ]
  },
  {
   "cell_type": "code",
   "execution_count": 11,
   "id": "c39deb98",
   "metadata": {},
   "outputs": [],
   "source": [
    "class_indices = train_generator.class_indices"
   ]
  },
  {
   "cell_type": "code",
   "execution_count": 12,
   "id": "a7f14980",
   "metadata": {},
   "outputs": [],
   "source": [
    "CLASS_LABELS = list(class_indices.keys())"
   ]
  },
  {
   "cell_type": "code",
   "execution_count": 13,
   "id": "94788908",
   "metadata": {},
   "outputs": [
    {
     "name": "stdout",
     "output_type": "stream",
     "text": [
      "Model: \"sequential\"\n",
      "_________________________________________________________________\n",
      "Layer (type)                 Output Shape              Param #   \n",
      "=================================================================\n",
      "efficientnetb0 (Functional)  (None, 2, 2, 1280)        4049571   \n",
      "_________________________________________________________________\n",
      "flatten (Flatten)            (None, 5120)              0         \n",
      "_________________________________________________________________\n",
      "dense (Dense)                (None, 128)               655488    \n",
      "_________________________________________________________________\n",
      "dense_1 (Dense)              (None, 41)                5289      \n",
      "=================================================================\n",
      "Total params: 4,710,348\n",
      "Trainable params: 660,777\n",
      "Non-trainable params: 4,049,571\n",
      "_________________________________________________________________\n"
     ]
    }
   ],
   "source": [
    "from tensorflow.keras.applications import EfficientNetB0\n",
    "from tensorflow.keras.layers import GlobalAveragePooling2D, Dense, Dropout\n",
    "from tensorflow.keras.preprocessing.image import ImageDataGenerator\n",
    "from tensorflow.keras import optimizers\n",
    "from tensorflow.keras.callbacks import ModelCheckpoint\n",
    "from tensorflow import keras\n",
    "from tensorflow.keras import layers\n",
    "from tensorflow.keras.models import Sequential\n",
    "\n",
    "efficient_net = EfficientNetB0(include_top=False, weights='imagenet', classes=len(CLASS_LABELS),\n",
    "                                       input_shape=(width, height, 3))\n",
    "efficient_net.trainable = False\n",
    "\n",
    "model = Sequential([\n",
    "    efficient_net,\n",
    "    layers.Flatten(),\n",
    "    layers.Dense(128, activation='relu'),\n",
    "    layers.Dense(len(CLASS_LABELS), activation='sigmoid')\n",
    "])\n",
    "\n",
    "model.compile(optimizer=tf.keras.optimizers.Adam(learning_rate=0.01),\n",
    "              loss=tf.nn.sigmoid_cross_entropy_with_logits,\n",
    "              metrics=['accuracy'])\n",
    "\n",
    "model.summary()"
   ]
  },
  {
   "cell_type": "code",
   "execution_count": 14,
   "id": "9f6394ed",
   "metadata": {},
   "outputs": [
    {
     "name": "stdout",
     "output_type": "stream",
     "text": [
      "Epoch 1/15\n",
      "3068/3068 [==============================] - 5412s 2s/step - loss: 0.6932 - accuracy: 0.2635 - val_loss: 0.6931 - val_accuracy: 0.2632\n",
      "Epoch 2/15\n",
      "3068/3068 [==============================] - 632s 206ms/step - loss: 0.6931 - accuracy: 0.2643 - val_loss: 0.6931 - val_accuracy: 0.2632\n",
      "Epoch 3/15\n",
      "3068/3068 [==============================] - 631s 206ms/step - loss: 0.6931 - accuracy: 0.2643 - val_loss: 0.6931 - val_accuracy: 0.2632\n",
      "Epoch 4/15\n",
      "3068/3068 [==============================] - 629s 205ms/step - loss: 0.6931 - accuracy: 0.2643 - val_loss: 0.6931 - val_accuracy: 0.2632\n",
      "Epoch 5/15\n",
      "3068/3068 [==============================] - 631s 206ms/step - loss: 0.6931 - accuracy: 0.2643 - val_loss: 0.6931 - val_accuracy: 0.2632\n",
      "Epoch 6/15\n",
      "3068/3068 [==============================] - 631s 206ms/step - loss: 0.6931 - accuracy: 0.2643 - val_loss: 0.6931 - val_accuracy: 0.2632\n",
      "Epoch 7/15\n",
      "3068/3068 [==============================] - 631s 206ms/step - loss: 0.6931 - accuracy: 0.2643 - val_loss: 0.6931 - val_accuracy: 0.2632\n",
      "Epoch 8/15\n",
      "3068/3068 [==============================] - 630s 205ms/step - loss: 0.6931 - accuracy: 0.2643 - val_loss: 0.6931 - val_accuracy: 0.2632\n",
      "Epoch 9/15\n",
      "3068/3068 [==============================] - 630s 205ms/step - loss: 0.6931 - accuracy: 0.2643 - val_loss: 0.6931 - val_accuracy: 0.2632\n",
      "Epoch 10/15\n",
      "3068/3068 [==============================] - 628s 205ms/step - loss: 0.6931 - accuracy: 0.2643 - val_loss: 0.6931 - val_accuracy: 0.2632\n",
      "Epoch 11/15\n",
      "3068/3068 [==============================] - 631s 206ms/step - loss: 0.6931 - accuracy: 0.2643 - val_loss: 0.6931 - val_accuracy: 0.2632\n",
      "Epoch 12/15\n",
      "3068/3068 [==============================] - 631s 206ms/step - loss: 0.6931 - accuracy: 0.2643 - val_loss: 0.6931 - val_accuracy: 0.2632\n",
      "Epoch 13/15\n",
      "3068/3068 [==============================] - 628s 205ms/step - loss: 0.6931 - accuracy: 0.2643 - val_loss: 0.6931 - val_accuracy: 0.2632\n",
      "Epoch 14/15\n",
      "3068/3068 [==============================] - 627s 205ms/step - loss: 0.6931 - accuracy: 0.2643 - val_loss: 0.6931 - val_accuracy: 0.2632\n",
      "Epoch 15/15\n",
      "3068/3068 [==============================] - 624s 204ms/step - loss: 0.6931 - accuracy: 0.2643 - val_loss: 0.6931 - val_accuracy: 0.2632\n"
     ]
    }
   ],
   "source": [
    "epochs=15\n",
    "\n",
    "history = model.fit(\n",
    "  train_generator,\n",
    "  verbose=1,\n",
    "#   steps_per_epoch=15,\n",
    "  validation_data=validation_generator,\n",
    "  epochs=epochs,\n",
    "#   validation_steps=7,\n",
    "#   workers=2,\n",
    "#   use_multiprocessing=True,\n",
    ")"
   ]
  },
  {
   "cell_type": "code",
   "execution_count": 16,
   "id": "3ea2d882",
   "metadata": {},
   "outputs": [
    {
     "data": {
      "image/png": "[encoded data removed]",
      "text/plain": [
       "<Figure size 576x288 with 2 Axes>"
      ]
     },
     "metadata": {
      "needs_background": "light"
     },
     "output_type": "display_data"
    }
   ],
   "source": [
    "acc = history.history['accuracy']\n",
    "val_acc = history.history['val_accuracy']\n",
    "\n",
    "loss = history.history['loss']\n",
    "val_loss = history.history['val_loss']\n",
    "\n",
    "epochs_range = range(epochs)\n",
    "\n",
    "plt.figure(figsize=(8, 4))\n",
    "plt.subplot(1, 2, 1)\n",
    "plt.plot(epochs_range, acc, label='Training Accuracy')\n",
    "plt.plot(epochs_range, val_acc, label='Validation Accuracy')\n",
    "plt.legend(loc='lower right')\n",
    "plt.title('Training and Validation Accuracy')\n",
    "\n",
    "plt.subplot(1, 2, 2)\n",
    "plt.plot(epochs_range, loss, label='Training Loss')\n",
    "plt.plot(epochs_range, val_loss, label='Validation Loss')\n",
    "plt.legend(loc='upper right')\n",
    "plt.title('Training and Validation Loss')\n",
    "plt.show()"
   ]
  },
  {
   "cell_type": "code",
   "execution_count": 15,
   "id": "650018f5",
   "metadata": {},
   "outputs": [
    {
     "name": "stdout",
     "output_type": "stream",
     "text": [
      "WARNING:tensorflow:From /home/matvieir/anaconda3/lib/python3.8/site-packages/tensorflow/python/training/tracking/tracking.py:111: Model.state_updates (from tensorflow.python.keras.engine.training) is deprecated and will be removed in a future version.\n",
      "Instructions for updating:\n",
      "This property should not be used in TensorFlow 2.0, as updates are applied automatically.\n",
      "WARNING:tensorflow:From /home/matvieir/anaconda3/lib/python3.8/site-packages/tensorflow/python/training/tracking/tracking.py:111: Layer.updates (from tensorflow.python.keras.engine.base_layer) is deprecated and will be removed in a future version.\n",
      "Instructions for updating:\n",
      "This property should not be used in TensorFlow 2.0, as updates are applied automatically.\n",
      "INFO:tensorflow:Assets written to: saved_model/assets\n"
     ]
    }
   ],
   "source": [
    "model.save('saved_model')"
   ]
  }
 ],
 "metadata": {
  "kernelspec": {
   "display_name": "Python 3",
   "language": "python",
   "name": "python3"
  },
  "language_info": {
   "codemirror_mode": {
    "name": "ipython",
    "version": 3
   },
   "file_extension": ".py",
   "mimetype": "text/x-python",
   "name": "python",
   "nbconvert_exporter": "python",
   "pygments_lexer": "ipython3",
   "version": "3.8.2"
  }
 },
 "nbformat": 4,
 "nbformat_minor": 5
}
