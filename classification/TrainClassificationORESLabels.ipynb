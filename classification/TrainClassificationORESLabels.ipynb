{
 "cells": [
  {
   "cell_type": "code",
   "execution_count": 2,
   "id": "9020661d",
   "metadata": {},
   "outputs": [
    {
     "name": "stdout",
     "output_type": "stream",
     "text": [
      "2.3.0\n"
     ]
    }
   ],
   "source": [
    "# TensorFlow and tf.keras\n",
    "import tensorflow as tf\n",
    "\n",
    "# Helper libraries\n",
    "import numpy as np\n",
    "import json\n",
    "import bz2\n",
    "import pandas as pd\n",
    "import matplotlib.pyplot as plt\n",
    "\n",
    "print(tf.__version__)"
   ]
  },
  {
   "cell_type": "code",
   "execution_count": 3,
   "id": "509667ef",
   "metadata": {},
   "outputs": [],
   "source": [
    "from PIL import PngImagePlugin  \n",
    "LARGE_ENOUGH_NUMBER = 100\n",
    "PngImagePlugin.MAX_TEXT_CHUNK = LARGE_ENOUGH_NUMBER * (1024**2) # to avoid corrupted .png images"
   ]
  },
  {
   "cell_type": "code",
   "execution_count": 4,
   "id": "24c3daed",
   "metadata": {},
   "outputs": [
    {
     "name": "stdout",
     "output_type": "stream",
     "text": [
      "Num GPUs Available:  2\n"
     ]
    }
   ],
   "source": [
    "print(\"Num GPUs Available: \", len(tf.config.list_physical_devices('GPU')))"
   ]
  },
  {
   "cell_type": "code",
   "execution_count": 5,
   "id": "a8078d90",
   "metadata": {},
   "outputs": [],
   "source": [
    "topics = [\n",
    "  'Culture.Biography.Biography*',\n",
    " 'Culture.Food and drink',\n",
    " 'Culture.Internet culture',\n",
    " 'Culture.Linguistics',\n",
    " 'Culture.Literature',\n",
    " 'Culture.Media.Books',\n",
    " 'Culture.Media.Entertainment',\n",
    " 'Culture.Media.Films',\n",
    " 'Culture.Media.Media*',\n",
    " 'Culture.Media.Music',\n",
    " 'Culture.Media.Radio',\n",
    " 'Culture.Media.Software',\n",
    " 'Culture.Media.Television',\n",
    " 'Culture.Media.Video games',\n",
    " 'Culture.Performing arts',\n",
    " 'Culture.Philosophy and religion',\n",
    " 'Culture.Sports',\n",
    " 'Culture.Visual arts.Architecture',\n",
    " 'Culture.Visual arts.Comics and Anime',\n",
    " 'Culture.Visual arts.Fashion',\n",
    " 'Culture.Visual arts.Visual arts*',\n",
    " 'Geography.Geographical',\n",
    " 'History and Society.Business and economics',\n",
    " 'History and Society.Education',\n",
    " 'History and Society.History',\n",
    " 'History and Society.Military and warfare',\n",
    " 'History and Society.Politics and government',\n",
    " 'History and Society.Society',\n",
    " 'History and Society.Transportation',\n",
    " 'STEM.Biology',\n",
    " 'STEM.Chemistry',\n",
    " 'STEM.Computing',\n",
    " 'STEM.Earth and environment',\n",
    " 'STEM.Engineering',\n",
    " 'STEM.Libraries & Information',\n",
    " 'STEM.Mathematics',\n",
    " 'STEM.Medicine & Health',\n",
    " 'STEM.Physics',\n",
    " 'STEM.STEM*',\n",
    " 'STEM.Space',\n",
    " 'STEM.Technology']"
   ]
  },
  {
   "cell_type": "code",
   "execution_count": 20,
   "id": "466d5493",
   "metadata": {},
   "outputs": [
    {
     "data": {
      "text/html": [
       "<div>\n",
       "<style scoped>\n",
       "    .dataframe tbody tr th:only-of-type {\n",
       "        vertical-align: middle;\n",
       "    }\n",
       "\n",
       "    .dataframe tbody tr th {\n",
       "        vertical-align: top;\n",
       "    }\n",
       "\n",
       "    .dataframe thead th {\n",
       "        text-align: right;\n",
       "    }\n",
       "</style>\n",
       "<table border=\"1\" class=\"dataframe\">\n",
       "  <thead>\n",
       "    <tr style=\"text-align: right;\">\n",
       "      <th></th>\n",
       "      <th>full_path</th>\n",
       "      <th>labels</th>\n",
       "    </tr>\n",
       "  </thead>\n",
       "  <tbody>\n",
       "    <tr>\n",
       "      <th>736437</th>\n",
       "      <td>/scratch/WIT_Dataset/images/5/54/The_Return_of...</td>\n",
       "      <td>[Geography.Regions.Europe.Europe*, Geography.R...</td>\n",
       "    </tr>\n",
       "    <tr>\n",
       "      <th>20148</th>\n",
       "      <td>/scratch/WIT_Dataset/images/a/a2/PIA20862-Cere...</td>\n",
       "      <td>[STEM.Space, STEM.STEM*]</td>\n",
       "    </tr>\n",
       "    <tr>\n",
       "      <th>2770647</th>\n",
       "      <td>/scratch/WIT_Dataset/images/f/fa/Grimsby_-_The...</td>\n",
       "      <td>[Geography.Regions.Europe.Europe*, Geography.R...</td>\n",
       "    </tr>\n",
       "    <tr>\n",
       "      <th>1930902</th>\n",
       "      <td>/scratch/WIT_Dataset/images/9/93/Gisborne_nz_2...</td>\n",
       "      <td>[Geography.Regions.Oceania, Geography.Geograph...</td>\n",
       "    </tr>\n",
       "    <tr>\n",
       "      <th>1373350</th>\n",
       "      <td>/scratch/WIT_Dataset/images/1/1d/Rear_Admiral_...</td>\n",
       "      <td>[Geography.Regions.Europe.Europe*, History and...</td>\n",
       "    </tr>\n",
       "    <tr>\n",
       "      <th>...</th>\n",
       "      <td>...</td>\n",
       "      <td>...</td>\n",
       "    </tr>\n",
       "    <tr>\n",
       "      <th>3700342</th>\n",
       "      <td>/scratch/WIT_Dataset/images/a/a6/Homme_Castle_...</td>\n",
       "      <td>[History and Society.Military and warfare]</td>\n",
       "    </tr>\n",
       "    <tr>\n",
       "      <th>1899595</th>\n",
       "      <td>/scratch/WIT_Dataset/images/b/bb/Dathshead_haw...</td>\n",
       "      <td>[STEM.Biology, STEM.STEM*]</td>\n",
       "    </tr>\n",
       "    <tr>\n",
       "      <th>3175173</th>\n",
       "      <td>/scratch/WIT_Dataset/images/f/f5/Ahmednagar_fo...</td>\n",
       "      <td>[Geography.Geographical, Geography.Regions.Asi...</td>\n",
       "    </tr>\n",
       "    <tr>\n",
       "      <th>3475017</th>\n",
       "      <td>/scratch/WIT_Dataset/images/c/c4/Félicien_Chap...</td>\n",
       "      <td>[Culture.Biography.Biography*]</td>\n",
       "    </tr>\n",
       "    <tr>\n",
       "      <th>3151310</th>\n",
       "      <td>/scratch/WIT_Dataset/images/c/c2/Brosen_Wawel.jpg</td>\n",
       "      <td>[History and Society.Transportation]</td>\n",
       "    </tr>\n",
       "  </tbody>\n",
       "</table>\n",
       "<p>500000 rows × 2 columns</p>\n",
       "</div>"
      ],
      "text/plain": [
       "                                                 full_path  \\\n",
       "736437   /scratch/WIT_Dataset/images/5/54/The_Return_of...   \n",
       "20148    /scratch/WIT_Dataset/images/a/a2/PIA20862-Cere...   \n",
       "2770647  /scratch/WIT_Dataset/images/f/fa/Grimsby_-_The...   \n",
       "1930902  /scratch/WIT_Dataset/images/9/93/Gisborne_nz_2...   \n",
       "1373350  /scratch/WIT_Dataset/images/1/1d/Rear_Admiral_...   \n",
       "...                                                    ...   \n",
       "3700342  /scratch/WIT_Dataset/images/a/a6/Homme_Castle_...   \n",
       "1899595  /scratch/WIT_Dataset/images/b/bb/Dathshead_haw...   \n",
       "3175173  /scratch/WIT_Dataset/images/f/f5/Ahmednagar_fo...   \n",
       "3475017  /scratch/WIT_Dataset/images/c/c4/Félicien_Chap...   \n",
       "3151310  /scratch/WIT_Dataset/images/c/c2/Brosen_Wawel.jpg   \n",
       "\n",
       "                                                    labels  \n",
       "736437   [Geography.Regions.Europe.Europe*, Geography.R...  \n",
       "20148                             [STEM.Space, STEM.STEM*]  \n",
       "2770647  [Geography.Regions.Europe.Europe*, Geography.R...  \n",
       "1930902  [Geography.Regions.Oceania, Geography.Geograph...  \n",
       "1373350  [Geography.Regions.Europe.Europe*, History and...  \n",
       "...                                                    ...  \n",
       "3700342         [History and Society.Military and warfare]  \n",
       "1899595                         [STEM.Biology, STEM.STEM*]  \n",
       "3175173  [Geography.Geographical, Geography.Regions.Asi...  \n",
       "3475017                     [Culture.Biography.Biography*]  \n",
       "3151310               [History and Society.Transportation]  \n",
       "\n",
       "[500000 rows x 2 columns]"
      ]
     },
     "execution_count": 20,
     "metadata": {},
     "output_type": "execute_result"
    }
   ],
   "source": [
    "training_set = pd.read_pickle(\"/dlabdata1/piccardi/WikipediaImageClassification/training_set.pkl\")\\\n",
    "            .sample(500000, random_state=0)\n",
    "training_set['full_path'] = training_set.image_path.apply(lambda r: '/scratch/WIT_Dataset/images'+r)\n",
    "training_set[['full_path', 'labels']]"
   ]
  },
  {
   "cell_type": "code",
   "execution_count": 7,
   "id": "af66ed20",
   "metadata": {},
   "outputs": [
    {
     "data": {
      "text/html": [
       "<div>\n",
       "<style scoped>\n",
       "    .dataframe tbody tr th:only-of-type {\n",
       "        vertical-align: middle;\n",
       "    }\n",
       "\n",
       "    .dataframe tbody tr th {\n",
       "        vertical-align: top;\n",
       "    }\n",
       "\n",
       "    .dataframe thead th {\n",
       "        text-align: right;\n",
       "    }\n",
       "</style>\n",
       "<table border=\"1\" class=\"dataframe\">\n",
       "  <thead>\n",
       "    <tr style=\"text-align: right;\">\n",
       "      <th></th>\n",
       "      <th>labels</th>\n",
       "      <th>proportion</th>\n",
       "      <th>weight</th>\n",
       "    </tr>\n",
       "  </thead>\n",
       "  <tbody>\n",
       "    <tr>\n",
       "      <th>0</th>\n",
       "      <td>Culture.Biography.Biography*</td>\n",
       "      <td>0.077474</td>\n",
       "      <td>0.314819</td>\n",
       "    </tr>\n",
       "    <tr>\n",
       "      <th>1</th>\n",
       "      <td>Culture.Biography.Women</td>\n",
       "      <td>0.011208</td>\n",
       "      <td>2.176237</td>\n",
       "    </tr>\n",
       "    <tr>\n",
       "      <th>2</th>\n",
       "      <td>Culture.Food and drink</td>\n",
       "      <td>0.005613</td>\n",
       "      <td>4.345038</td>\n",
       "    </tr>\n",
       "    <tr>\n",
       "      <th>3</th>\n",
       "      <td>Culture.Internet culture</td>\n",
       "      <td>0.000943</td>\n",
       "      <td>25.872341</td>\n",
       "    </tr>\n",
       "    <tr>\n",
       "      <th>4</th>\n",
       "      <td>Culture.Linguistics</td>\n",
       "      <td>0.001174</td>\n",
       "      <td>20.770328</td>\n",
       "    </tr>\n",
       "    <tr>\n",
       "      <th>...</th>\n",
       "      <td>...</td>\n",
       "      <td>...</td>\n",
       "      <td>...</td>\n",
       "    </tr>\n",
       "    <tr>\n",
       "      <th>59</th>\n",
       "      <td>STEM.Medicine &amp; Health</td>\n",
       "      <td>0.003968</td>\n",
       "      <td>6.146468</td>\n",
       "    </tr>\n",
       "    <tr>\n",
       "      <th>60</th>\n",
       "      <td>STEM.Physics</td>\n",
       "      <td>0.000990</td>\n",
       "      <td>24.631233</td>\n",
       "    </tr>\n",
       "    <tr>\n",
       "      <th>61</th>\n",
       "      <td>STEM.STEM*</td>\n",
       "      <td>0.060826</td>\n",
       "      <td>0.400983</td>\n",
       "    </tr>\n",
       "    <tr>\n",
       "      <th>62</th>\n",
       "      <td>STEM.Space</td>\n",
       "      <td>0.003626</td>\n",
       "      <td>6.727200</td>\n",
       "    </tr>\n",
       "    <tr>\n",
       "      <th>63</th>\n",
       "      <td>STEM.Technology</td>\n",
       "      <td>0.006891</td>\n",
       "      <td>3.539505</td>\n",
       "    </tr>\n",
       "  </tbody>\n",
       "</table>\n",
       "<p>64 rows × 3 columns</p>\n",
       "</div>"
      ],
      "text/plain": [
       "                          labels  proportion     weight\n",
       "0   Culture.Biography.Biography*    0.077474   0.314819\n",
       "1        Culture.Biography.Women    0.011208   2.176237\n",
       "2         Culture.Food and drink    0.005613   4.345038\n",
       "3       Culture.Internet culture    0.000943  25.872341\n",
       "4            Culture.Linguistics    0.001174  20.770328\n",
       "..                           ...         ...        ...\n",
       "59        STEM.Medicine & Health    0.003968   6.146468\n",
       "60                  STEM.Physics    0.000990  24.631233\n",
       "61                    STEM.STEM*    0.060826   0.400983\n",
       "62                    STEM.Space    0.003626   6.727200\n",
       "63               STEM.Technology    0.006891   3.539505\n",
       "\n",
       "[64 rows x 3 columns]"
      ]
     },
     "execution_count": 7,
     "metadata": {},
     "output_type": "execute_result"
    }
   ],
   "source": [
    "weights = training_set[[\"labels\", \"page_title\"]].explode(\"labels\")\\\n",
    "        .groupby(\"labels\").agg(\"count\").reset_index()\n",
    "total = weights.page_title.sum()\n",
    "weights['proportion'] = weights.page_title.apply(lambda r: r/total)\n",
    "weights['weight'] = weights.page_title.apply(lambda r: (1/r)*(total/41))\n",
    "# weights['weight'] = weights.page_title.apply(lambda r: np.log((1/r)*(total/2)))\n",
    "\n",
    "weights = weights[['labels', 'proportion', 'weight']]\n",
    "weights"
   ]
  },
  {
   "cell_type": "code",
   "execution_count": 21,
   "id": "70d17fcc",
   "metadata": {},
   "outputs": [
    {
     "name": "stderr",
     "output_type": "stream",
     "text": [
      "/home/matvieir/anaconda3/lib/python3.8/site-packages/keras_preprocessing/image/dataframe_iterator.py:279: UserWarning: Found 41468 invalid image filename(s) in x_col=\"full_path\". These filename(s) will be ignored.\n",
      "  warnings.warn(\n"
     ]
    },
    {
     "name": "stdout",
     "output_type": "stream",
     "text": [
      "Found 368133 validated image filenames belonging to 41 classes.\n"
     ]
    },
    {
     "name": "stderr",
     "output_type": "stream",
     "text": [
      "/home/matvieir/anaconda3/lib/python3.8/site-packages/keras_preprocessing/image/dataframe_iterator.py:279: UserWarning: Found 41468 invalid image filename(s) in x_col=\"full_path\". These filename(s) will be ignored.\n",
      "  warnings.warn(\n"
     ]
    },
    {
     "name": "stdout",
     "output_type": "stream",
     "text": [
      "Found 19375 validated image filenames belonging to 41 classes.\n"
     ]
    }
   ],
   "source": [
    "from tensorflow import keras \n",
    "from tensorflow.keras.preprocessing.image import ImageDataGenerator\n",
    "\n",
    "width, height = 64, 64\n",
    "target_size = (height, width)\n",
    "datagen = ImageDataGenerator(rotation_range=40, \n",
    "                             width_shift_range=0.2,\n",
    "                             height_shift_range=0.2, \n",
    "#                              shear_range=0.2,\n",
    "                             zoom_range=0.2,\n",
    "                             horizontal_flip=True,\n",
    "                             fill_mode='nearest',\n",
    "                             validation_split=0.05, \n",
    "                             ) \n",
    "\n",
    "train_generator = datagen.flow_from_dataframe(\n",
    "        dataframe=training_set, \n",
    "#         directory='/scratch/WIT_Dataset/images/', \n",
    "        subset='training',\n",
    "        classes=topics,\n",
    "        color_mode='rgb',\n",
    "        x_col='full_path', \n",
    "        y_col='labels', \n",
    "        class_mode='categorical', \n",
    "        batch_size=32,\n",
    "        target_size=target_size,\n",
    "#         shuffle=False\n",
    "        )\n",
    "\n",
    "validation_generator = datagen.flow_from_dataframe(\n",
    "        dataframe=training_set, \n",
    "#         directory='/scratch/WIT_Dataset/images/', \n",
    "        subset='validation',\n",
    "        classes=topics,\n",
    "        color_mode='rgb',\n",
    "        x_col='full_path', \n",
    "        y_col='labels', \n",
    "        class_mode='categorical', \n",
    "        target_size=target_size,\n",
    "#         shuffle=False\n",
    "        )\n"
   ]
  },
  {
   "cell_type": "code",
   "execution_count": 9,
   "id": "c39deb98",
   "metadata": {},
   "outputs": [],
   "source": [
    "name_id_map = train_generator.class_indices\n",
    "class_names = len(name_id_map)*[0]\n",
    "for k in name_id_map.keys():\n",
    "    class_names[name_id_map[k]] = k"
   ]
  },
  {
   "cell_type": "code",
   "execution_count": 10,
   "id": "a7f14980",
   "metadata": {},
   "outputs": [],
   "source": [
    "CLASS_LABELS = list(name_id_map.keys())"
   ]
  },
  {
   "cell_type": "code",
   "execution_count": 11,
   "id": "c725e381",
   "metadata": {},
   "outputs": [
    {
     "name": "stdout",
     "output_type": "stream",
     "text": [
      "Number of layers in the base model:  237\n"
     ]
    }
   ],
   "source": [
    "from tensorflow.keras.applications import EfficientNetB0\n",
    "from tensorflow.keras.layers import GlobalAveragePooling2D, Dense, Dropout\n",
    "from tensorflow.keras.preprocessing.image import ImageDataGenerator\n",
    "from tensorflow.keras import optimizers\n",
    "from tensorflow.keras.callbacks import ModelCheckpoint\n",
    "from tensorflow import keras\n",
    "from tensorflow.keras import layers\n",
    "from tensorflow.keras.models import Sequential\n",
    "\n",
    "efficient_net = EfficientNetB0(include_top=False, weights='imagenet', classes=len(CLASS_LABELS),\n",
    "                                       input_shape=(width, height, 3))\n",
    "\n",
    "# Let's take a look to see how many layers are in the base model\n",
    "print(\"Number of layers in the base model: \", len(efficient_net.layers))"
   ]
  },
  {
   "cell_type": "code",
   "execution_count": 12,
   "id": "94788908",
   "metadata": {},
   "outputs": [
    {
     "name": "stdout",
     "output_type": "stream",
     "text": [
      "Model: \"sequential\"\n",
      "_________________________________________________________________\n",
      "Layer (type)                 Output Shape              Param #   \n",
      "=================================================================\n",
      "efficientnetb0 (Functional)  (None, 2, 2, 1280)        4049571   \n",
      "_________________________________________________________________\n",
      "flatten (Flatten)            (None, 5120)              0         \n",
      "_________________________________________________________________\n",
      "dense (Dense)                (None, 128)               655488    \n",
      "_________________________________________________________________\n",
      "dense_1 (Dense)              (None, 41)                5289      \n",
      "=================================================================\n",
      "Total params: 4,710,348\n",
      "Trainable params: 1,073,577\n",
      "Non-trainable params: 3,636,771\n",
      "_________________________________________________________________\n"
     ]
    }
   ],
   "source": [
    "# Fine-tune from this layer onwards\n",
    "fine_tune_at = 233\n",
    "\n",
    "# Freeze all the layers before the `fine_tune_at` layer\n",
    "for layer in efficient_net.layers[:fine_tune_at]:\n",
    "    layer.trainable = False\n",
    "# efficient_net.trainable = False\n",
    "\n",
    "model = Sequential([\n",
    "    efficient_net,\n",
    "    layers.Flatten(),\n",
    "    layers.Dense(128, activation='relu'),\n",
    "    layers.Dense(len(CLASS_LABELS), activation='sigmoid')\n",
    "])\n",
    "\n",
    "model.compile(optimizer=tf.keras.optimizers.Adam(),\n",
    "              loss=tf.nn.sigmoid_cross_entropy_with_logits,\n",
    "              metrics=['accuracy'])\n",
    "\n",
    "model.summary()"
   ]
  },
  {
   "cell_type": "markdown",
   "id": "53bc9724",
   "metadata": {},
   "source": [
    "To test later: train also some layers of EfficientNet. https://www.tensorflow.org/tutorials/images/transfer_learning#un-freeze_the_top_layers_of_the_model"
   ]
  },
  {
   "cell_type": "code",
   "execution_count": 13,
   "id": "7d706ca3",
   "metadata": {},
   "outputs": [],
   "source": [
    "# class_weight={}\n",
    "# for l in name_id_map.keys():\n",
    "#     w = weights[weights.labels==l].weight.iloc[0]\n",
    "#     class_weight[train_generator.class_indices[l]] = w\n",
    "# class_weight"
   ]
  },
  {
   "cell_type": "code",
   "execution_count": null,
   "id": "9f6394ed",
   "metadata": {},
   "outputs": [
    {
     "name": "stdout",
     "output_type": "stream",
     "text": [
      "Epoch 1/15\n"
     ]
    }
   ],
   "source": [
    "epochs = 15\n",
    "\n",
    "import os\n",
    "# # Save model in between epochs\n",
    "checkpoint_path = \"checkpoints/cp.ckpt\"\n",
    "checkpoint_dir = os.path.dirname(checkpoint_path)\n",
    "cp_callback = tf.keras.callbacks.ModelCheckpoint(filepath=checkpoint_path,\n",
    "                                                 save_weights_only=True,\n",
    "                                                 verbose=1)\n",
    "\n",
    "history = model.fit(\n",
    "  train_generator,\n",
    "  verbose=2,\n",
    "  validation_data=validation_generator,\n",
    "  epochs=epochs,\n",
    "  callbacks=[cp_callback]\n",
    "#   class_weight=class_weight\n",
    ")"
   ]
  },
  {
   "cell_type": "code",
   "execution_count": 17,
   "id": "3ea2d882",
   "metadata": {},
   "outputs": [
    {
     "data": {
      "image/png": "[encoded data removed]",
      "text/plain": [
       "<Figure size 576x288 with 2 Axes>"
      ]
     },
     "metadata": {
      "needs_background": "light"
     },
     "output_type": "display_data"
    }
   ],
   "source": [
    "acc = history.history['accuracy']\n",
    "val_acc = history.history['val_accuracy']\n",
    "\n",
    "loss = history.history['loss']\n",
    "val_loss = history.history['val_loss']\n",
    "\n",
    "epochs_range = range(epochs)\n",
    "\n",
    "plt.figure(figsize=(8, 4))\n",
    "plt.subplot(1, 2, 1)\n",
    "plt.plot(epochs_range, acc, label='Training Accuracy')\n",
    "plt.plot(epochs_range, val_acc, label='Validation Accuracy')\n",
    "plt.legend(loc='lower right')\n",
    "plt.title('Training and Validation Accuracy')\n",
    "\n",
    "plt.subplot(1, 2, 2)\n",
    "plt.plot(epochs_range, loss, label='Training Loss')\n",
    "plt.plot(epochs_range, val_loss, label='Validation Loss')\n",
    "plt.legend(loc='upper right')\n",
    "plt.title('Training and Validation Loss')\n",
    "plt.show()"
   ]
  },
  {
   "cell_type": "code",
   "execution_count": 18,
   "id": "d51f5b71",
   "metadata": {},
   "outputs": [
    {
     "name": "stderr",
     "output_type": "stream",
     "text": [
      "/home/matvieir/anaconda3/lib/python3.8/site-packages/keras_preprocessing/image/dataframe_iterator.py:279: UserWarning: Found 61995 invalid image filename(s) in x_col=\"full_path\". These filename(s) will be ignored.\n",
      "  warnings.warn(\n"
     ]
    },
    {
     "name": "stdout",
     "output_type": "stream",
     "text": [
      "Found 29055 validated image filenames belonging to 41 classes.\n"
     ]
    }
   ],
   "source": [
    "vg = datagen.flow_from_dataframe(\n",
    "        dataframe=training_set, \n",
    "        subset='validation',\n",
    "        classes=topics,\n",
    "        color_mode='rgb',\n",
    "        x_col='full_path', \n",
    "        y_col='labels', \n",
    "        class_mode='categorical', \n",
    "        target_size=target_size,\n",
    "        shuffle=False\n",
    "        )"
   ]
  },
  {
   "cell_type": "code",
   "execution_count": 19,
   "id": "21d070a0",
   "metadata": {},
   "outputs": [
    {
     "ename": "KeyboardInterrupt",
     "evalue": "",
     "output_type": "error",
     "traceback": [
      "\u001b[0;31m----------------------------------------------------\u001b[0m",
      "\u001b[0;31mKeyboardInterrupt\u001b[0m  Traceback (most recent call last)",
      "\u001b[0;32m<ipython-input-19-d68d19be5d3a>\u001b[0m in \u001b[0;36m<module>\u001b[0;34m\u001b[0m\n\u001b[0;32m----> 1\u001b[0;31m \u001b[0mval_predictions\u001b[0m \u001b[0;34m=\u001b[0m \u001b[0mmodel\u001b[0m\u001b[0;34m.\u001b[0m\u001b[0mpredict\u001b[0m\u001b[0;34m(\u001b[0m\u001b[0mvg\u001b[0m\u001b[0;34m)\u001b[0m\u001b[0;34m\u001b[0m\u001b[0;34m\u001b[0m\u001b[0m\n\u001b[0m\u001b[1;32m      2\u001b[0m \u001b[0mval_predictions\u001b[0m\u001b[0;34m\u001b[0m\u001b[0;34m\u001b[0m\u001b[0m\n",
      "\u001b[0;32m~/anaconda3/lib/python3.8/site-packages/tensorflow/python/keras/engine/training.py\u001b[0m in \u001b[0;36m_method_wrapper\u001b[0;34m(self, *args, **kwargs)\u001b[0m\n\u001b[1;32m    128\u001b[0m       raise ValueError('{} is not supported in multi-worker mode.'.format(\n\u001b[1;32m    129\u001b[0m           method.__name__))\n\u001b[0;32m--> 130\u001b[0;31m     \u001b[0;32mreturn\u001b[0m \u001b[0mmethod\u001b[0m\u001b[0;34m(\u001b[0m\u001b[0mself\u001b[0m\u001b[0;34m,\u001b[0m \u001b[0;34m*\u001b[0m\u001b[0margs\u001b[0m\u001b[0;34m,\u001b[0m \u001b[0;34m**\u001b[0m\u001b[0mkwargs\u001b[0m\u001b[0;34m)\u001b[0m\u001b[0;34m\u001b[0m\u001b[0;34m\u001b[0m\u001b[0m\n\u001b[0m\u001b[1;32m    131\u001b[0m \u001b[0;34m\u001b[0m\u001b[0m\n\u001b[1;32m    132\u001b[0m   return tf_decorator.make_decorator(\n",
      "\u001b[0;32m~/anaconda3/lib/python3.8/site-packages/tensorflow/python/keras/engine/training.py\u001b[0m in \u001b[0;36mpredict\u001b[0;34m(self, x, batch_size, verbose, steps, callbacks, max_queue_size, workers, use_multiprocessing)\u001b[0m\n\u001b[1;32m   1597\u001b[0m           \u001b[0;32mfor\u001b[0m \u001b[0mstep\u001b[0m \u001b[0;32min\u001b[0m \u001b[0mdata_handler\u001b[0m\u001b[0;34m.\u001b[0m\u001b[0msteps\u001b[0m\u001b[0;34m(\u001b[0m\u001b[0;34m)\u001b[0m\u001b[0;34m:\u001b[0m\u001b[0;34m\u001b[0m\u001b[0;34m\u001b[0m\u001b[0m\n\u001b[1;32m   1598\u001b[0m             \u001b[0mcallbacks\u001b[0m\u001b[0;34m.\u001b[0m\u001b[0mon_predict_batch_begin\u001b[0m\u001b[0;34m(\u001b[0m\u001b[0mstep\u001b[0m\u001b[0;34m)\u001b[0m\u001b[0;34m\u001b[0m\u001b[0;34m\u001b[0m\u001b[0m\n\u001b[0;32m-> 1599\u001b[0;31m             \u001b[0mtmp_batch_outputs\u001b[0m \u001b[0;34m=\u001b[0m \u001b[0mpredict_function\u001b[0m\u001b[0;34m(\u001b[0m\u001b[0miterator\u001b[0m\u001b[0;34m)\u001b[0m\u001b[0;34m\u001b[0m\u001b[0;34m\u001b[0m\u001b[0m\n\u001b[0m\u001b[1;32m   1600\u001b[0m             \u001b[0;32mif\u001b[0m \u001b[0mdata_handler\u001b[0m\u001b[0;34m.\u001b[0m\u001b[0mshould_sync\u001b[0m\u001b[0;34m:\u001b[0m\u001b[0;34m\u001b[0m\u001b[0;34m\u001b[0m\u001b[0m\n\u001b[1;32m   1601\u001b[0m               \u001b[0mcontext\u001b[0m\u001b[0;34m.\u001b[0m\u001b[0masync_wait\u001b[0m\u001b[0;34m(\u001b[0m\u001b[0;34m)\u001b[0m\u001b[0;34m\u001b[0m\u001b[0;34m\u001b[0m\u001b[0m\n",
      "\u001b[0;32m~/anaconda3/lib/python3.8/site-packages/tensorflow/python/eager/def_function.py\u001b[0m in \u001b[0;36m__call__\u001b[0;34m(self, *args, **kwds)\u001b[0m\n\u001b[1;32m    778\u001b[0m       \u001b[0;32melse\u001b[0m\u001b[0;34m:\u001b[0m\u001b[0;34m\u001b[0m\u001b[0;34m\u001b[0m\u001b[0m\n\u001b[1;32m    779\u001b[0m         \u001b[0mcompiler\u001b[0m \u001b[0;34m=\u001b[0m \u001b[0;34m\"nonXla\"\u001b[0m\u001b[0;34m\u001b[0m\u001b[0;34m\u001b[0m\u001b[0m\n\u001b[0;32m--> 780\u001b[0;31m         \u001b[0mresult\u001b[0m \u001b[0;34m=\u001b[0m \u001b[0mself\u001b[0m\u001b[0;34m.\u001b[0m\u001b[0m_call\u001b[0m\u001b[0;34m(\u001b[0m\u001b[0;34m*\u001b[0m\u001b[0margs\u001b[0m\u001b[0;34m,\u001b[0m \u001b[0;34m**\u001b[0m\u001b[0mkwds\u001b[0m\u001b[0;34m)\u001b[0m\u001b[0;34m\u001b[0m\u001b[0;34m\u001b[0m\u001b[0m\n\u001b[0m\u001b[1;32m    781\u001b[0m \u001b[0;34m\u001b[0m\u001b[0m\n\u001b[1;32m    782\u001b[0m       \u001b[0mnew_tracing_count\u001b[0m \u001b[0;34m=\u001b[0m \u001b[0mself\u001b[0m\u001b[0;34m.\u001b[0m\u001b[0m_get_tracing_count\u001b[0m\u001b[0;34m(\u001b[0m\u001b[0;34m)\u001b[0m\u001b[0;34m\u001b[0m\u001b[0;34m\u001b[0m\u001b[0m\n",
      "\u001b[0;32m~/anaconda3/lib/python3.8/site-packages/tensorflow/python/eager/def_function.py\u001b[0m in \u001b[0;36m_call\u001b[0;34m(self, *args, **kwds)\u001b[0m\n\u001b[1;32m    812\u001b[0m       \u001b[0;31m# In this case we have not created variables on the first call. So we can\u001b[0m\u001b[0;34m\u001b[0m\u001b[0;34m\u001b[0m\u001b[0;34m\u001b[0m\u001b[0m\n\u001b[1;32m    813\u001b[0m       \u001b[0;31m# run the first trace but we should fail if variables are created.\u001b[0m\u001b[0;34m\u001b[0m\u001b[0;34m\u001b[0m\u001b[0;34m\u001b[0m\u001b[0m\n\u001b[0;32m--> 814\u001b[0;31m       \u001b[0mresults\u001b[0m \u001b[0;34m=\u001b[0m \u001b[0mself\u001b[0m\u001b[0;34m.\u001b[0m\u001b[0m_stateful_fn\u001b[0m\u001b[0;34m(\u001b[0m\u001b[0;34m*\u001b[0m\u001b[0margs\u001b[0m\u001b[0;34m,\u001b[0m \u001b[0;34m**\u001b[0m\u001b[0mkwds\u001b[0m\u001b[0;34m)\u001b[0m\u001b[0;34m\u001b[0m\u001b[0;34m\u001b[0m\u001b[0m\n\u001b[0m\u001b[1;32m    815\u001b[0m       \u001b[0;32mif\u001b[0m \u001b[0mself\u001b[0m\u001b[0;34m.\u001b[0m\u001b[0m_created_variables\u001b[0m\u001b[0;34m:\u001b[0m\u001b[0;34m\u001b[0m\u001b[0;34m\u001b[0m\u001b[0m\n\u001b[1;32m    816\u001b[0m         raise ValueError(\"Creating variables on a non-first call to a function\"\n",
      "\u001b[0;32m~/anaconda3/lib/python3.8/site-packages/tensorflow/python/eager/function.py\u001b[0m in \u001b[0;36m__call__\u001b[0;34m(self, *args, **kwargs)\u001b[0m\n\u001b[1;32m   2827\u001b[0m     \u001b[0;32mwith\u001b[0m \u001b[0mself\u001b[0m\u001b[0;34m.\u001b[0m\u001b[0m_lock\u001b[0m\u001b[0;34m:\u001b[0m\u001b[0;34m\u001b[0m\u001b[0;34m\u001b[0m\u001b[0m\n\u001b[1;32m   2828\u001b[0m       \u001b[0mgraph_function\u001b[0m\u001b[0;34m,\u001b[0m \u001b[0margs\u001b[0m\u001b[0;34m,\u001b[0m \u001b[0mkwargs\u001b[0m \u001b[0;34m=\u001b[0m \u001b[0mself\u001b[0m\u001b[0;34m.\u001b[0m\u001b[0m_maybe_define_function\u001b[0m\u001b[0;34m(\u001b[0m\u001b[0margs\u001b[0m\u001b[0;34m,\u001b[0m \u001b[0mkwargs\u001b[0m\u001b[0;34m)\u001b[0m\u001b[0;34m\u001b[0m\u001b[0;34m\u001b[0m\u001b[0m\n\u001b[0;32m-> 2829\u001b[0;31m     \u001b[0;32mreturn\u001b[0m \u001b[0mgraph_function\u001b[0m\u001b[0;34m.\u001b[0m\u001b[0m_filtered_call\u001b[0m\u001b[0;34m(\u001b[0m\u001b[0margs\u001b[0m\u001b[0;34m,\u001b[0m \u001b[0mkwargs\u001b[0m\u001b[0;34m)\u001b[0m  \u001b[0;31m# pylint: disable=protected-access\u001b[0m\u001b[0;34m\u001b[0m\u001b[0;34m\u001b[0m\u001b[0m\n\u001b[0m\u001b[1;32m   2830\u001b[0m \u001b[0;34m\u001b[0m\u001b[0m\n\u001b[1;32m   2831\u001b[0m   \u001b[0;34m@\u001b[0m\u001b[0mproperty\u001b[0m\u001b[0;34m\u001b[0m\u001b[0;34m\u001b[0m\u001b[0m\n",
      "\u001b[0;32m~/anaconda3/lib/python3.8/site-packages/tensorflow/python/eager/function.py\u001b[0m in \u001b[0;36m_filtered_call\u001b[0;34m(self, args, kwargs, cancellation_manager)\u001b[0m\n\u001b[1;32m   1841\u001b[0m       \u001b[0;31m`\u001b[0m\u001b[0margs\u001b[0m\u001b[0;31m`\u001b[0m \u001b[0;32mand\u001b[0m\u001b[0;31m \u001b[0m\u001b[0;31m`\u001b[0m\u001b[0mkwargs\u001b[0m\u001b[0;31m`\u001b[0m\u001b[0;34m.\u001b[0m\u001b[0;34m\u001b[0m\u001b[0;34m\u001b[0m\u001b[0m\n\u001b[1;32m   1842\u001b[0m     \"\"\"\n\u001b[0;32m-> 1843\u001b[0;31m     return self._call_flat(\n\u001b[0m\u001b[1;32m   1844\u001b[0m         [t for t in nest.flatten((args, kwargs), expand_composites=True)\n\u001b[1;32m   1845\u001b[0m          if isinstance(t, (ops.Tensor,\n",
      "\u001b[0;32m~/anaconda3/lib/python3.8/site-packages/tensorflow/python/eager/function.py\u001b[0m in \u001b[0;36m_call_flat\u001b[0;34m(self, args, captured_inputs, cancellation_manager)\u001b[0m\n\u001b[1;32m   1921\u001b[0m         and executing_eagerly):\n\u001b[1;32m   1922\u001b[0m       \u001b[0;31m# No tape is watching; skip to running the function.\u001b[0m\u001b[0;34m\u001b[0m\u001b[0;34m\u001b[0m\u001b[0;34m\u001b[0m\u001b[0m\n\u001b[0;32m-> 1923\u001b[0;31m       return self._build_call_outputs(self._inference_function.call(\n\u001b[0m\u001b[1;32m   1924\u001b[0m           ctx, args, cancellation_manager=cancellation_manager))\n\u001b[1;32m   1925\u001b[0m     forward_backward = self._select_forward_and_backward_functions(\n",
      "\u001b[0;32m~/anaconda3/lib/python3.8/site-packages/tensorflow/python/eager/function.py\u001b[0m in \u001b[0;36mcall\u001b[0;34m(self, ctx, args, cancellation_manager)\u001b[0m\n\u001b[1;32m    543\u001b[0m       \u001b[0;32mwith\u001b[0m \u001b[0m_InterpolateFunctionError\u001b[0m\u001b[0;34m(\u001b[0m\u001b[0mself\u001b[0m\u001b[0;34m)\u001b[0m\u001b[0;34m:\u001b[0m\u001b[0;34m\u001b[0m\u001b[0;34m\u001b[0m\u001b[0m\n\u001b[1;32m    544\u001b[0m         \u001b[0;32mif\u001b[0m \u001b[0mcancellation_manager\u001b[0m \u001b[0;32mis\u001b[0m \u001b[0;32mNone\u001b[0m\u001b[0;34m:\u001b[0m\u001b[0;34m\u001b[0m\u001b[0;34m\u001b[0m\u001b[0m\n\u001b[0;32m--> 545\u001b[0;31m           outputs = execute.execute(\n\u001b[0m\u001b[1;32m    546\u001b[0m               \u001b[0mstr\u001b[0m\u001b[0;34m(\u001b[0m\u001b[0mself\u001b[0m\u001b[0;34m.\u001b[0m\u001b[0msignature\u001b[0m\u001b[0;34m.\u001b[0m\u001b[0mname\u001b[0m\u001b[0;34m)\u001b[0m\u001b[0;34m,\u001b[0m\u001b[0;34m\u001b[0m\u001b[0;34m\u001b[0m\u001b[0m\n\u001b[1;32m    547\u001b[0m               \u001b[0mnum_outputs\u001b[0m\u001b[0;34m=\u001b[0m\u001b[0mself\u001b[0m\u001b[0;34m.\u001b[0m\u001b[0m_num_outputs\u001b[0m\u001b[0;34m,\u001b[0m\u001b[0;34m\u001b[0m\u001b[0;34m\u001b[0m\u001b[0m\n",
      "\u001b[0;32m~/anaconda3/lib/python3.8/site-packages/tensorflow/python/eager/execute.py\u001b[0m in \u001b[0;36mquick_execute\u001b[0;34m(op_name, num_outputs, inputs, attrs, ctx, name)\u001b[0m\n\u001b[1;32m     57\u001b[0m   \u001b[0;32mtry\u001b[0m\u001b[0;34m:\u001b[0m\u001b[0;34m\u001b[0m\u001b[0;34m\u001b[0m\u001b[0m\n\u001b[1;32m     58\u001b[0m     \u001b[0mctx\u001b[0m\u001b[0;34m.\u001b[0m\u001b[0mensure_initialized\u001b[0m\u001b[0;34m(\u001b[0m\u001b[0;34m)\u001b[0m\u001b[0;34m\u001b[0m\u001b[0;34m\u001b[0m\u001b[0m\n\u001b[0;32m---> 59\u001b[0;31m     tensors = pywrap_tfe.TFE_Py_Execute(ctx._handle, device_name, op_name,\n\u001b[0m\u001b[1;32m     60\u001b[0m                                         inputs, attrs, num_outputs)\n\u001b[1;32m     61\u001b[0m   \u001b[0;32mexcept\u001b[0m \u001b[0mcore\u001b[0m\u001b[0;34m.\u001b[0m\u001b[0m_NotOkStatusException\u001b[0m \u001b[0;32mas\u001b[0m \u001b[0me\u001b[0m\u001b[0;34m:\u001b[0m\u001b[0;34m\u001b[0m\u001b[0;34m\u001b[0m\u001b[0m\n",
      "\u001b[0;31mKeyboardInterrupt\u001b[0m: "
     ]
    }
   ],
   "source": [
    "val_predictions = model.predict(vg)\n",
    "val_predictions"
   ]
  },
  {
   "cell_type": "code",
   "execution_count": null,
   "id": "512a4078",
   "metadata": {},
   "outputs": [],
   "source": [
    "from collections import Counter\n",
    "\n",
    "total = Counter()\n",
    "correct = Counter()\n",
    "for i in range(len(vg.classes)):\n",
    "    true_y = vg.classes[i]\n",
    "    for l in true_y:\n",
    "        total[l]+=1\n",
    "    predicted_y = np.argwhere(val_predictions[i]>=0.5)\n",
    "    for p in predicted_y:\n",
    "        if p[0] in true_y:\n",
    "            correct[p[0]]+=1\n",
    "\n",
    "for k in sorted(total.keys()):\n",
    "    print(class_names[k].split(\".\")[-1], \"{}/{} == {}\".format(correct[k], total[k], correct[k]/total[k]))"
   ]
  },
  {
   "cell_type": "code",
   "execution_count": null,
   "id": "6715df40",
   "metadata": {},
   "outputs": [],
   "source": [
    "name_id_map"
   ]
  },
  {
   "cell_type": "code",
   "execution_count": null,
   "id": "5e33bdc3",
   "metadata": {},
   "outputs": [],
   "source": [
    "def get_y_true(classes, preset_nr_classes=0):\n",
    "    \"\"\"Gets one-hot encoded matrix of format (nr_images)x(nr_classes).\"\"\"\n",
    "    nr_images = len(classes)\n",
    "    if not preset_nr_classes:\n",
    "        nr_classes = len(set([item for sublist in classes for item in sublist]))\n",
    "    else:\n",
    "        nr_classes = preset_nr_classes\n",
    "    y_true = np.zeros((nr_images, nr_classes))\n",
    "    for row_idx, row in enumerate(classes):\n",
    "        for idx in row:\n",
    "            y_true[row_idx, idx] = 1\n",
    "    return y_true"
   ]
  },
  {
   "cell_type": "code",
   "execution_count": null,
   "id": "ba93944c",
   "metadata": {},
   "outputs": [],
   "source": [
    "from sklearn.metrics import classification_report, average_precision_score, roc_auc_score\n",
    "\n",
    "threshold = 0.2\n",
    "\n",
    "y_pred = 1 * (val_predictions > threshold)\n",
    "\n",
    "y_true = get_y_true(vg.classes)\n",
    "\n",
    "n_classes = y_true.shape[1]\n",
    "metrics_df = pd.DataFrame(classification_report(y_true, y_pred, target_names=list(vg.class_indices), output_dict=True)).transpose()\n",
    "metrics_df['index'] = np.concatenate((np.arange(start=0, stop=n_classes), [None, None, None, None]))\n",
    "\n",
    "# Output macro and micro accuracies\n",
    "# with open(f'{self.results_path}/per_class_metrics', 'w') as f:\n",
    "#     metrics_df.to_string(f)\n",
    "# print(metrics_df.tail(4))\n",
    "\n",
    "# Average precision score\n",
    "# The average_precision_score function computes the average precision (AP) from prediction scores. The value is between 0 and 1 and higher is better. With random predictions, the AP is the fraction of positive samples.\n",
    "print('\\nAverage precision scores (macro):')\n",
    "print(average_precision_score(y_true, y_pred, average='macro'))\n",
    "# print(average_precision_score(y_true, y_pred, average='weighted'))\n",
    "\n",
    "# ROC AUC score\n",
    "print('\\n ROC AUC score:')\n",
    "print(roc_auc_score(y_true, val_predictions))\n",
    "\n",
    "# Precision and recall for each class\n",
    "fig, axs = plt.subplots(1, 2, figsize=(12,12))\n",
    "\n",
    "# Precision\n",
    "sorted_indices_precision = np.argsort(metrics_df.precision[0:n_classes])\n",
    "sorted_precisions_per_class = metrics_df.precision[0:n_classes][sorted_indices_precision]\n",
    "# Recall\n",
    "sorted_indices_recall = np.argsort(metrics_df.recall[0:n_classes])\n",
    "sorted_recalls_per_class = metrics_df.recall[0:n_classes][sorted_indices_recall]\n",
    "# Plot!\n",
    "axs[0].set_title('Precision per class')\n",
    "axs[0].barh(range(y_true.shape[1]), sorted_precisions_per_class, color='blue', alpha=0.6)\n",
    "axs[0].set_yticks(range(n_classes))\n",
    "axs[0].set_yticklabels(np.array(list(vg.class_indices.keys()))[sorted_indices_precision])\n",
    "axs[0].set_xlabel('Precision')\n",
    "axs[0].grid(True)\n",
    "axs[1].set_title('Recall per class')\n",
    "axs[1].barh(range(y_true.shape[1]), sorted_recalls_per_class, color='blue', alpha=0.6)\n",
    "axs[1].set_yticks(range(n_classes))\n",
    "axs[1].set_yticklabels([])\n",
    "axs[1].set_xlabel('Recall')\n",
    "axs[1].grid(True)\n",
    "plt.savefig(f'precision_recall.png')"
   ]
  },
  {
   "cell_type": "code",
   "execution_count": null,
   "id": "76119ca1",
   "metadata": {},
   "outputs": [],
   "source": []
  }
 ],
 "metadata": {
  "kernelspec": {
   "display_name": "Python 3",
   "language": "python",
   "name": "python3"
  },
  "language_info": {
   "codemirror_mode": {
    "name": "ipython",
    "version": 3
   },
   "file_extension": ".py",
   "mimetype": "text/x-python",
   "name": "python",
   "nbconvert_exporter": "python",
   "pygments_lexer": "ipython3",
   "version": "3.8.2"
  }
 },
 "nbformat": 4,
 "nbformat_minor": 5
}
