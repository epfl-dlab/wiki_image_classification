{
 "cells": [
  {
   "cell_type": "code",
   "execution_count": 1,
   "id": "9020661d",
   "metadata": {},
   "outputs": [
    {
     "name": "stdout",
     "output_type": "stream",
     "text": [
      "2.3.0\n"
     ]
    }
   ],
   "source": [
    "# TensorFlow and tf.keras\n",
    "import tensorflow as tf\n",
    "\n",
    "# Helper libraries\n",
    "import numpy as np\n",
    "import json\n",
    "import bz2\n",
    "import pandas as pd\n",
    "import matplotlib.pyplot as plt\n",
    "\n",
    "print(tf.__version__)"
   ]
  },
  {
   "cell_type": "code",
   "execution_count": 2,
   "id": "509667ef",
   "metadata": {},
   "outputs": [],
   "source": [
    "from PIL import PngImagePlugin  \n",
    "LARGE_ENOUGH_NUMBER = 100\n",
    "PngImagePlugin.MAX_TEXT_CHUNK = LARGE_ENOUGH_NUMBER * (1024**2) # to avoid corrupted .png images"
   ]
  },
  {
   "cell_type": "code",
   "execution_count": 3,
   "id": "24c3daed",
   "metadata": {},
   "outputs": [
    {
     "name": "stdout",
     "output_type": "stream",
     "text": [
      "Num GPUs Available:  2\n"
     ]
    }
   ],
   "source": [
    "print(\"Num GPUs Available: \", len(tf.config.list_physical_devices('GPU')))"
   ]
  },
  {
   "cell_type": "code",
   "execution_count": 4,
   "id": "a8078d90",
   "metadata": {},
   "outputs": [],
   "source": [
    "topics = [\n",
    "  'Culture.Biography.Biography*',\n",
    " 'Culture.Food and drink',\n",
    " 'Culture.Internet culture',\n",
    " 'Culture.Linguistics',\n",
    " 'Culture.Literature',\n",
    " 'Culture.Media.Books',\n",
    " 'Culture.Media.Entertainment',\n",
    " 'Culture.Media.Films',\n",
    " 'Culture.Media.Media*',\n",
    " 'Culture.Media.Music',\n",
    " 'Culture.Media.Radio',\n",
    " 'Culture.Media.Software',\n",
    " 'Culture.Media.Television',\n",
    " 'Culture.Media.Video games',\n",
    " 'Culture.Performing arts',\n",
    " 'Culture.Philosophy and religion',\n",
    " 'Culture.Sports',\n",
    " 'Culture.Visual arts.Architecture',\n",
    " 'Culture.Visual arts.Comics and Anime',\n",
    " 'Culture.Visual arts.Fashion',\n",
    " 'Culture.Visual arts.Visual arts*',\n",
    " 'Geography.Geographical',\n",
    " 'History and Society.Business and economics',\n",
    " 'History and Society.Education',\n",
    " 'History and Society.History',\n",
    " 'History and Society.Military and warfare',\n",
    " 'History and Society.Politics and government',\n",
    " 'History and Society.Society',\n",
    " 'History and Society.Transportation',\n",
    " 'STEM.Biology',\n",
    " 'STEM.Chemistry',\n",
    " 'STEM.Computing',\n",
    " 'STEM.Earth and environment',\n",
    " 'STEM.Engineering',\n",
    " 'STEM.Libraries & Information',\n",
    " 'STEM.Mathematics',\n",
    " 'STEM.Medicine & Health',\n",
    " 'STEM.Physics',\n",
    " 'STEM.STEM*',\n",
    " 'STEM.Space',\n",
    " 'STEM.Technology']"
   ]
  },
  {
   "cell_type": "code",
   "execution_count": 5,
   "id": "466d5493",
   "metadata": {},
   "outputs": [
    {
     "data": {
      "text/html": [
       "<div>\n",
       "<style scoped>\n",
       "    .dataframe tbody tr th:only-of-type {\n",
       "        vertical-align: middle;\n",
       "    }\n",
       "\n",
       "    .dataframe tbody tr th {\n",
       "        vertical-align: top;\n",
       "    }\n",
       "\n",
       "    .dataframe thead th {\n",
       "        text-align: right;\n",
       "    }\n",
       "</style>\n",
       "<table border=\"1\" class=\"dataframe\">\n",
       "  <thead>\n",
       "    <tr style=\"text-align: right;\">\n",
       "      <th></th>\n",
       "      <th>full_path</th>\n",
       "      <th>labels</th>\n",
       "    </tr>\n",
       "  </thead>\n",
       "  <tbody>\n",
       "    <tr>\n",
       "      <th>736437</th>\n",
       "      <td>/scratch/WIT_Dataset/images/5/54/The_Return_of...</td>\n",
       "      <td>[Geography.Regions.Europe.Europe*, Geography.R...</td>\n",
       "    </tr>\n",
       "    <tr>\n",
       "      <th>20148</th>\n",
       "      <td>/scratch/WIT_Dataset/images/a/a2/PIA20862-Cere...</td>\n",
       "      <td>[STEM.Space, STEM.STEM*]</td>\n",
       "    </tr>\n",
       "    <tr>\n",
       "      <th>2770647</th>\n",
       "      <td>/scratch/WIT_Dataset/images/f/fa/Grimsby_-_The...</td>\n",
       "      <td>[Geography.Regions.Europe.Europe*, Geography.R...</td>\n",
       "    </tr>\n",
       "    <tr>\n",
       "      <th>1930902</th>\n",
       "      <td>/scratch/WIT_Dataset/images/9/93/Gisborne_nz_2...</td>\n",
       "      <td>[Geography.Regions.Oceania, Geography.Geograph...</td>\n",
       "    </tr>\n",
       "    <tr>\n",
       "      <th>1373350</th>\n",
       "      <td>/scratch/WIT_Dataset/images/1/1d/Rear_Admiral_...</td>\n",
       "      <td>[Geography.Regions.Europe.Europe*, History and...</td>\n",
       "    </tr>\n",
       "    <tr>\n",
       "      <th>...</th>\n",
       "      <td>...</td>\n",
       "      <td>...</td>\n",
       "    </tr>\n",
       "    <tr>\n",
       "      <th>573330</th>\n",
       "      <td>/scratch/WIT_Dataset/images/c/c9/Michaela_Diet...</td>\n",
       "      <td>[Culture.Media.Television, History and Society...</td>\n",
       "    </tr>\n",
       "    <tr>\n",
       "      <th>1336166</th>\n",
       "      <td>/scratch/WIT_Dataset/images/3/35/HMS_Concorde_...</td>\n",
       "      <td>[History and Society.Military and warfare, His...</td>\n",
       "    </tr>\n",
       "    <tr>\n",
       "      <th>752022</th>\n",
       "      <td>/scratch/WIT_Dataset/images/2/2b/FrozenWaterFa...</td>\n",
       "      <td>[Geography.Geographical, Geography.Regions.Asi...</td>\n",
       "    </tr>\n",
       "    <tr>\n",
       "      <th>985499</th>\n",
       "      <td>/scratch/WIT_Dataset/images/e/ef/Borová_Lada_-...</td>\n",
       "      <td>[Geography.Regions.Europe.Eastern Europe, Geog...</td>\n",
       "    </tr>\n",
       "    <tr>\n",
       "      <th>2309103</th>\n",
       "      <td>/scratch/WIT_Dataset/images/d/df/Tatjana_Josip...</td>\n",
       "      <td>[Geography.Regions.Europe.Europe*, Geography.R...</td>\n",
       "    </tr>\n",
       "  </tbody>\n",
       "</table>\n",
       "<p>750000 rows × 2 columns</p>\n",
       "</div>"
      ],
      "text/plain": [
       "                                                 full_path  \\\n",
       "736437   /scratch/WIT_Dataset/images/5/54/The_Return_of...   \n",
       "20148    /scratch/WIT_Dataset/images/a/a2/PIA20862-Cere...   \n",
       "2770647  /scratch/WIT_Dataset/images/f/fa/Grimsby_-_The...   \n",
       "1930902  /scratch/WIT_Dataset/images/9/93/Gisborne_nz_2...   \n",
       "1373350  /scratch/WIT_Dataset/images/1/1d/Rear_Admiral_...   \n",
       "...                                                    ...   \n",
       "573330   /scratch/WIT_Dataset/images/c/c9/Michaela_Diet...   \n",
       "1336166  /scratch/WIT_Dataset/images/3/35/HMS_Concorde_...   \n",
       "752022   /scratch/WIT_Dataset/images/2/2b/FrozenWaterFa...   \n",
       "985499   /scratch/WIT_Dataset/images/e/ef/Borová_Lada_-...   \n",
       "2309103  /scratch/WIT_Dataset/images/d/df/Tatjana_Josip...   \n",
       "\n",
       "                                                    labels  \n",
       "736437   [Geography.Regions.Europe.Europe*, Geography.R...  \n",
       "20148                             [STEM.Space, STEM.STEM*]  \n",
       "2770647  [Geography.Regions.Europe.Europe*, Geography.R...  \n",
       "1930902  [Geography.Regions.Oceania, Geography.Geograph...  \n",
       "1373350  [Geography.Regions.Europe.Europe*, History and...  \n",
       "...                                                    ...  \n",
       "573330   [Culture.Media.Television, History and Society...  \n",
       "1336166  [History and Society.Military and warfare, His...  \n",
       "752022   [Geography.Geographical, Geography.Regions.Asi...  \n",
       "985499   [Geography.Regions.Europe.Eastern Europe, Geog...  \n",
       "2309103  [Geography.Regions.Europe.Europe*, Geography.R...  \n",
       "\n",
       "[750000 rows x 2 columns]"
      ]
     },
     "execution_count": 5,
     "metadata": {},
     "output_type": "execute_result"
    }
   ],
   "source": [
    "training_set = pd.read_pickle(\"/dlabdata1/piccardi/WikipediaImageClassification/training_set.pkl\")\\\n",
    "            .sample(750000, random_state=0)\n",
    "training_set['full_path'] = training_set.image_path.apply(lambda r: '/scratch/WIT_Dataset/images'+r)\n",
    "training_set[['full_path', 'labels']]"
   ]
  },
  {
   "cell_type": "code",
   "execution_count": 6,
   "id": "af66ed20",
   "metadata": {},
   "outputs": [
    {
     "data": {
      "text/html": [
       "<div>\n",
       "<style scoped>\n",
       "    .dataframe tbody tr th:only-of-type {\n",
       "        vertical-align: middle;\n",
       "    }\n",
       "\n",
       "    .dataframe tbody tr th {\n",
       "        vertical-align: top;\n",
       "    }\n",
       "\n",
       "    .dataframe thead th {\n",
       "        text-align: right;\n",
       "    }\n",
       "</style>\n",
       "<table border=\"1\" class=\"dataframe\">\n",
       "  <thead>\n",
       "    <tr style=\"text-align: right;\">\n",
       "      <th></th>\n",
       "      <th>labels</th>\n",
       "      <th>proportion</th>\n",
       "      <th>weight</th>\n",
       "    </tr>\n",
       "  </thead>\n",
       "  <tbody>\n",
       "    <tr>\n",
       "      <th>0</th>\n",
       "      <td>Culture.Biography.Biography*</td>\n",
       "      <td>0.077474</td>\n",
       "      <td>0.314819</td>\n",
       "    </tr>\n",
       "    <tr>\n",
       "      <th>1</th>\n",
       "      <td>Culture.Biography.Women</td>\n",
       "      <td>0.011208</td>\n",
       "      <td>2.176237</td>\n",
       "    </tr>\n",
       "    <tr>\n",
       "      <th>2</th>\n",
       "      <td>Culture.Food and drink</td>\n",
       "      <td>0.005613</td>\n",
       "      <td>4.345038</td>\n",
       "    </tr>\n",
       "    <tr>\n",
       "      <th>3</th>\n",
       "      <td>Culture.Internet culture</td>\n",
       "      <td>0.000943</td>\n",
       "      <td>25.872341</td>\n",
       "    </tr>\n",
       "    <tr>\n",
       "      <th>4</th>\n",
       "      <td>Culture.Linguistics</td>\n",
       "      <td>0.001174</td>\n",
       "      <td>20.770328</td>\n",
       "    </tr>\n",
       "    <tr>\n",
       "      <th>...</th>\n",
       "      <td>...</td>\n",
       "      <td>...</td>\n",
       "      <td>...</td>\n",
       "    </tr>\n",
       "    <tr>\n",
       "      <th>59</th>\n",
       "      <td>STEM.Medicine &amp; Health</td>\n",
       "      <td>0.003968</td>\n",
       "      <td>6.146468</td>\n",
       "    </tr>\n",
       "    <tr>\n",
       "      <th>60</th>\n",
       "      <td>STEM.Physics</td>\n",
       "      <td>0.000990</td>\n",
       "      <td>24.631233</td>\n",
       "    </tr>\n",
       "    <tr>\n",
       "      <th>61</th>\n",
       "      <td>STEM.STEM*</td>\n",
       "      <td>0.060826</td>\n",
       "      <td>0.400983</td>\n",
       "    </tr>\n",
       "    <tr>\n",
       "      <th>62</th>\n",
       "      <td>STEM.Space</td>\n",
       "      <td>0.003626</td>\n",
       "      <td>6.727200</td>\n",
       "    </tr>\n",
       "    <tr>\n",
       "      <th>63</th>\n",
       "      <td>STEM.Technology</td>\n",
       "      <td>0.006891</td>\n",
       "      <td>3.539505</td>\n",
       "    </tr>\n",
       "  </tbody>\n",
       "</table>\n",
       "<p>64 rows × 3 columns</p>\n",
       "</div>"
      ],
      "text/plain": [
       "                          labels  proportion     weight\n",
       "0   Culture.Biography.Biography*    0.077474   0.314819\n",
       "1        Culture.Biography.Women    0.011208   2.176237\n",
       "2         Culture.Food and drink    0.005613   4.345038\n",
       "3       Culture.Internet culture    0.000943  25.872341\n",
       "4            Culture.Linguistics    0.001174  20.770328\n",
       "..                           ...         ...        ...\n",
       "59        STEM.Medicine & Health    0.003968   6.146468\n",
       "60                  STEM.Physics    0.000990  24.631233\n",
       "61                    STEM.STEM*    0.060826   0.400983\n",
       "62                    STEM.Space    0.003626   6.727200\n",
       "63               STEM.Technology    0.006891   3.539505\n",
       "\n",
       "[64 rows x 3 columns]"
      ]
     },
     "execution_count": 6,
     "metadata": {},
     "output_type": "execute_result"
    }
   ],
   "source": [
    "weights = training_set[[\"labels\", \"page_title\"]].explode(\"labels\")\\\n",
    "        .groupby(\"labels\").agg(\"count\").reset_index()\n",
    "total = weights.page_title.sum()\n",
    "weights['proportion'] = weights.page_title.apply(lambda r: r/total)\n",
    "weights['weight'] = weights.page_title.apply(lambda r: (1/r)*(total/41))\n",
    "# weights['weight'] = weights.page_title.apply(lambda r: np.log((1/r)*(total/2)))\n",
    "\n",
    "weights = weights[['labels', 'proportion', 'weight']]\n",
    "weights"
   ]
  },
  {
   "cell_type": "code",
   "execution_count": null,
   "id": "6890b03b",
   "metadata": {},
   "outputs": [],
   "source": []
  },
  {
   "cell_type": "code",
   "execution_count": 7,
   "id": "70d17fcc",
   "metadata": {},
   "outputs": [
    {
     "name": "stdout",
     "output_type": "stream",
     "text": [
      "1\n",
      "2\n"
     ]
    },
    {
     "name": "stderr",
     "output_type": "stream",
     "text": [
      "/home/matvieir/anaconda3/lib/python3.8/site-packages/keras_preprocessing/image/dataframe_iterator.py:279: UserWarning: Found 61995 invalid image filename(s) in x_col=\"full_path\". These filename(s) will be ignored.\n",
      "  warnings.warn(\n"
     ]
    },
    {
     "name": "stdout",
     "output_type": "stream",
     "text": [
      "Found 552062 validated image filenames belonging to 41 classes.\n",
      "3\n"
     ]
    },
    {
     "name": "stderr",
     "output_type": "stream",
     "text": [
      "/home/matvieir/anaconda3/lib/python3.8/site-packages/keras_preprocessing/image/dataframe_iterator.py:279: UserWarning: Found 61995 invalid image filename(s) in x_col=\"full_path\". These filename(s) will be ignored.\n",
      "  warnings.warn(\n"
     ]
    },
    {
     "name": "stdout",
     "output_type": "stream",
     "text": [
      "Found 29055 validated image filenames belonging to 41 classes.\n",
      "4\n"
     ]
    }
   ],
   "source": [
    "from tensorflow import keras \n",
    "from tensorflow.keras.preprocessing.image import ImageDataGenerator\n",
    "\n",
    "width, height = 64, 64\n",
    "target_size = (height, width)\n",
    "print('1')\n",
    "datagen = ImageDataGenerator(#rescale=1./255, \n",
    "                             rotation_range=40, \n",
    "                             width_shift_range=0.2,\n",
    "                             height_shift_range=0.2, \n",
    "#                              shear_range=0.2,\n",
    "                             zoom_range=0.2,\n",
    "                             horizontal_flip=True,\n",
    "                             fill_mode='nearest',\n",
    "                             validation_split=0.05, \n",
    "                             ) \n",
    "print('2')\n",
    "\n",
    "train_generator = datagen.flow_from_dataframe(\n",
    "        dataframe=training_set, \n",
    "#         directory='/scratch/WIT_Dataset/images/', \n",
    "        subset='training',\n",
    "        classes=topics,\n",
    "        color_mode='rgb',\n",
    "        x_col='full_path', \n",
    "        y_col='labels', \n",
    "        class_mode='categorical', \n",
    "        batch_size=64,\n",
    "#         validate_filenames=False, \n",
    "        target_size=target_size,\n",
    "#         shuffle=False\n",
    "        )\n",
    "print('3')\n",
    "\n",
    "validation_generator = datagen.flow_from_dataframe(\n",
    "        dataframe=training_set, \n",
    "#         directory='/scratch/WIT_Dataset/images/', \n",
    "        subset='validation',\n",
    "        classes=topics,\n",
    "        color_mode='rgb',\n",
    "        x_col='full_path', \n",
    "        y_col='labels', \n",
    "        class_mode='categorical', \n",
    "#         validate_filenames=False, \n",
    "        target_size=target_size,\n",
    "#         shuffle=False\n",
    "        )\n",
    "print('4')\n"
   ]
  },
  {
   "cell_type": "code",
   "execution_count": 8,
   "id": "c39deb98",
   "metadata": {},
   "outputs": [],
   "source": [
    "name_id_map = train_generator.class_indices\n",
    "class_names = len(name_id_map)*[0]\n",
    "for k in name_id_map.keys():\n",
    "    class_names[name_id_map[k]] = k"
   ]
  },
  {
   "cell_type": "code",
   "execution_count": 9,
   "id": "a7f14980",
   "metadata": {},
   "outputs": [],
   "source": [
    "CLASS_LABELS = list(name_id_map.keys())"
   ]
  },
  {
   "cell_type": "code",
   "execution_count": 10,
   "id": "94788908",
   "metadata": {},
   "outputs": [
    {
     "name": "stdout",
     "output_type": "stream",
     "text": [
      "Model: \"sequential\"\n",
      "_________________________________________________________________\n",
      "Layer (type)                 Output Shape              Param #   \n",
      "=================================================================\n",
      "efficientnetb0 (Functional)  (None, 2, 2, 1280)        4049571   \n",
      "_________________________________________________________________\n",
      "flatten (Flatten)            (None, 5120)              0         \n",
      "_________________________________________________________________\n",
      "dense (Dense)                (None, 128)               655488    \n",
      "_________________________________________________________________\n",
      "dense_1 (Dense)              (None, 41)                5289      \n",
      "=================================================================\n",
      "Total params: 4,710,348\n",
      "Trainable params: 660,777\n",
      "Non-trainable params: 4,049,571\n",
      "_________________________________________________________________\n"
     ]
    }
   ],
   "source": [
    "from tensorflow.keras.applications import EfficientNetB0\n",
    "from tensorflow.keras.layers import GlobalAveragePooling2D, Dense, Dropout\n",
    "from tensorflow.keras.preprocessing.image import ImageDataGenerator\n",
    "from tensorflow.keras import optimizers\n",
    "from tensorflow.keras.callbacks import ModelCheckpoint\n",
    "from tensorflow import keras\n",
    "from tensorflow.keras import layers\n",
    "from tensorflow.keras.models import Sequential\n",
    "\n",
    "efficient_net = EfficientNetB0(include_top=False, weights='imagenet', classes=len(CLASS_LABELS),\n",
    "                                       input_shape=(width, height, 3))\n",
    "efficient_net.trainable = False\n",
    "\n",
    "model = Sequential([\n",
    "    efficient_net,\n",
    "    layers.Flatten(),\n",
    "    layers.Dense(128, activation='relu'),\n",
    "    layers.Dense(len(CLASS_LABELS), activation='sigmoid')\n",
    "])\n",
    "\n",
    "model.compile(optimizer=tf.keras.optimizers.Adam(),\n",
    "              loss=tf.nn.sigmoid_cross_entropy_with_logits,\n",
    "              metrics=['accuracy'])\n",
    "\n",
    "model.summary()"
   ]
  },
  {
   "cell_type": "markdown",
   "id": "53bc9724",
   "metadata": {},
   "source": [
    "To test later: train also some layers of EfficientNet. https://www.tensorflow.org/tutorials/images/transfer_learning#un-freeze_the_top_layers_of_the_model"
   ]
  },
  {
   "cell_type": "code",
   "execution_count": 31,
   "id": "ea4ea052",
   "metadata": {},
   "outputs": [
    {
     "name": "stdout",
     "output_type": "stream",
     "text": [
      "Number of layers in the base model:  237\n"
     ]
    }
   ],
   "source": [
    "\n",
    "# Let's take a look to see how many layers are in the base model\n",
    "# print(\"Number of layers in the base model: \", len(efficient_net.layers))\n",
    "\n",
    "# # Let's take a look to see how many layers are in the base model\n",
    "# print(\"Number of layers in the base model: \", len(efficient_net.layers))\n",
    "\n",
    "# # Fine-tune from this layer onwards\n",
    "# fine_tune_at = 100\n",
    "\n",
    "# # Freeze all the layers before the `fine_tune_at` layer\n",
    "# for layer in efficient_net.layers[:fine_tune_at]:\n",
    "#     layer.trainable = False"
   ]
  },
  {
   "cell_type": "code",
   "execution_count": 11,
   "id": "7d706ca3",
   "metadata": {},
   "outputs": [
    {
     "data": {
      "text/plain": [
       "{0: 0.31481881699487657,\n",
       " 1: 4.345037607414316,\n",
       " 2: 25.872341179807144,\n",
       " 3: 20.770327574921023,\n",
       " 4: 3.5779237651673,\n",
       " 5: 18.516127668211496,\n",
       " 6: 7.883157985698546,\n",
       " 7: 7.771869043097357,\n",
       " 8: 1.2119402704171836,\n",
       " 9: 2.788101717491878,\n",
       " 10: 40.639659204811224,\n",
       " 11: 60.407819225251075,\n",
       " 12: 7.674692755838164,\n",
       " 13: 39.70298304470033,\n",
       " 14: 8.50462051204363,\n",
       " 15: 1.3680512423815634,\n",
       " 16: 0.9222249273819071,\n",
       " 17: 0.6538731473174554,\n",
       " 18: 38.225133997939835,\n",
       " 19: 16.466392906297237,\n",
       " 20: 0.5004311931994672,\n",
       " 21: 0.7251267899884843,\n",
       " 22: 2.0706701382419617,\n",
       " 23: 3.284164341643416,\n",
       " 24: 1.1489416970420834,\n",
       " 25: 0.8782690075182058,\n",
       " 26: 0.8955760342650467,\n",
       " 27: 1.901524487950787,\n",
       " 28: 0.7999357689963741,\n",
       " 29: 0.855448420401159,\n",
       " 30: 26.580643203146813,\n",
       " 31: 19.560627177700347,\n",
       " 32: 3.8987013357028513,\n",
       " 33: 1.7957599016417913,\n",
       " 34: 25.985650703222362,\n",
       " 35: 172.81719156997394,\n",
       " 36: 6.1464677940978305,\n",
       " 37: 24.63123256232562,\n",
       " 38: 0.4009830161677351,\n",
       " 39: 6.727199823018639,\n",
       " 40: 3.5395050172414626}"
      ]
     },
     "execution_count": 11,
     "metadata": {},
     "output_type": "execute_result"
    }
   ],
   "source": [
    "class_weight={}\n",
    "for l in name_id_map.keys():\n",
    "    w = weights[weights.labels==l].weight.iloc[0]\n",
    "    class_weight[train_generator.class_indices[l]] = w\n",
    "class_weight"
   ]
  },
  {
   "cell_type": "code",
   "execution_count": 12,
   "id": "9f6394ed",
   "metadata": {},
   "outputs": [
    {
     "name": "stdout",
     "output_type": "stream",
     "text": [
      "Epoch 1/15\n",
      "8626/8626 [==============================] - 4680s 543ms/step - loss: 0.9752 - accuracy: 0.0208 - val_loss: 0.6930 - val_accuracy: 0.0236\n",
      "Epoch 2/15\n",
      "8626/8626 [==============================] - 1542s 179ms/step - loss: 0.9749 - accuracy: 0.0272 - val_loss: 0.6930 - val_accuracy: 0.0272\n",
      "Epoch 3/15\n",
      "8626/8626 [==============================] - 1554s 180ms/step - loss: 0.9748 - accuracy: 0.0325 - val_loss: 0.6929 - val_accuracy: 0.0446\n",
      "Epoch 4/15\n",
      "8626/8626 [==============================] - 1652s 192ms/step - loss: 0.9748 - accuracy: 0.0450 - val_loss: 0.6929 - val_accuracy: 0.0612\n",
      "Epoch 5/15\n",
      "8626/8626 [==============================] - 3056s 354ms/step - loss: 0.9748 - accuracy: 0.0748 - val_loss: 0.6930 - val_accuracy: 0.1080\n",
      "Epoch 6/15\n",
      "8626/8626 [==============================] - 3658s 424ms/step - loss: 0.9749 - accuracy: 0.1103 - val_loss: 0.6929 - val_accuracy: 0.1385\n",
      "Epoch 7/15\n",
      "8626/8626 [==============================] - 1542s 179ms/step - loss: 0.9749 - accuracy: 0.1208 - val_loss: 0.6929 - val_accuracy: 0.1114\n",
      "Epoch 8/15\n",
      "8626/8626 [==============================] - 1534s 178ms/step - loss: 0.9749 - accuracy: 0.1216 - val_loss: 0.6930 - val_accuracy: 0.0955\n",
      "Epoch 9/15\n",
      "8626/8626 [==============================] - 2289s 265ms/step - loss: 0.9748 - accuracy: 0.1903 - val_loss: 0.6929 - val_accuracy: 0.2107\n",
      "Epoch 15/15\n",
      "8626/8626 [==============================] - 1624s 188ms/step - loss: 0.9748 - accuracy: 0.1835 - val_loss: 0.6929 - val_accuracy: 0.2193\n"
     ]
    }
   ],
   "source": [
    "epochs=15\n",
    "\n",
    "history = model.fit(\n",
    "  train_generator,\n",
    "  verbose=1,\n",
    "  validation_data=validation_generator,\n",
    "  epochs=epochs,\n",
    "  class_weight=class_weight\n",
    ")"
   ]
  },
  {
   "cell_type": "code",
   "execution_count": 13,
   "id": "3ea2d882",
   "metadata": {},
   "outputs": [
    {
     "data": {
      "image/png": "[encoded data removed]",
      "text/plain": [
       "<Figure size 576x288 with 2 Axes>"
      ]
     },
     "metadata": {
      "needs_background": "light"
     },
     "output_type": "display_data"
    }
   ],
   "source": [
    "acc = history.history['accuracy']\n",
    "val_acc = history.history['val_accuracy']\n",
    "\n",
    "loss = history.history['loss']\n",
    "val_loss = history.history['val_loss']\n",
    "\n",
    "epochs_range = range(epochs)\n",
    "\n",
    "plt.figure(figsize=(8, 4))\n",
    "plt.subplot(1, 2, 1)\n",
    "plt.plot(epochs_range, acc, label='Training Accuracy')\n",
    "plt.plot(epochs_range, val_acc, label='Validation Accuracy')\n",
    "plt.legend(loc='lower right')\n",
    "plt.title('Training and Validation Accuracy')\n",
    "\n",
    "plt.subplot(1, 2, 2)\n",
    "plt.plot(epochs_range, loss, label='Training Loss')\n",
    "plt.plot(epochs_range, val_loss, label='Validation Loss')\n",
    "plt.legend(loc='upper right')\n",
    "plt.title('Training and Validation Loss')\n",
    "plt.show()"
   ]
  },
  {
   "cell_type": "code",
   "execution_count": 14,
   "id": "650018f5",
   "metadata": {},
   "outputs": [],
   "source": [
    "model.save('saved_model_imagenet')"
   ]
  },
  {
   "cell_type": "code",
   "execution_count": 15,
   "id": "d51f5b71",
   "metadata": {},
   "outputs": [
    {
     "name": "stderr",
     "output_type": "stream",
     "text": [
      "/home/matvieir/anaconda3/lib/python3.8/site-packages/keras_preprocessing/image/dataframe_iterator.py:279: UserWarning: Found 61995 invalid image filename(s) in x_col=\"full_path\". These filename(s) will be ignored.\n",
      "  warnings.warn(\n"
     ]
    },
    {
     "name": "stdout",
     "output_type": "stream",
     "text": [
      "Found 29055 validated image filenames belonging to 41 classes.\n"
     ]
    }
   ],
   "source": [
    "vg = datagen.flow_from_dataframe(\n",
    "        dataframe=training_set, \n",
    "        subset='validation',\n",
    "        classes=topics,\n",
    "        color_mode='rgb',\n",
    "        x_col='full_path', \n",
    "        y_col='labels', \n",
    "        class_mode='categorical', \n",
    "        target_size=target_size,\n",
    "        shuffle=False\n",
    "        )"
   ]
  },
  {
   "cell_type": "code",
   "execution_count": 16,
   "id": "21d070a0",
   "metadata": {},
   "outputs": [
    {
     "data": {
      "text/plain": [
       "array([[0., 0., 0., ..., 0., 0., 0.],\n",
       "       [0., 0., 0., ..., 0., 0., 0.],\n",
       "       [0., 0., 0., ..., 0., 0., 0.],\n",
       "       ...,\n",
       "       [0., 0., 0., ..., 0., 0., 0.],\n",
       "       [0., 0., 0., ..., 0., 0., 0.],\n",
       "       [0., 0., 0., ..., 0., 0., 0.]], dtype=float32)"
      ]
     },
     "execution_count": 16,
     "metadata": {},
     "output_type": "execute_result"
    }
   ],
   "source": [
    "val_predictions = model.predict(vg)\n",
    "val_predictions"
   ]
  },
  {
   "cell_type": "code",
   "execution_count": 17,
   "id": "512a4078",
   "metadata": {},
   "outputs": [
    {
     "name": "stdout",
     "output_type": "stream",
     "text": [
      "Biography* 0/7702 == 0.0\n",
      "Food and drink 0/574 == 0.0\n",
      "Internet culture 0/89 == 0.0\n",
      "Linguistics 0/124 == 0.0\n",
      "Literature 0/694 == 0.0\n",
      "Books 0/141 == 0.0\n",
      "Entertainment 0/328 == 0.0\n",
      "Films 0/323 == 0.0\n",
      "Media* 0/2075 == 0.0\n",
      "Music 0/915 == 0.0\n",
      "Radio 0/69 == 0.0\n",
      "Software 0/28 == 0.0\n",
      "Television 0/321 == 0.0\n",
      "Video games 0/59 == 0.0\n",
      "Performing arts 0/285 == 0.0\n",
      "Philosophy and religion 0/1716 == 0.0\n",
      "Sports 0/2729 == 0.0\n",
      "Architecture 0/3833 == 0.0\n",
      "Comics and Anime 0/67 == 0.0\n",
      "Fashion 0/163 == 0.0\n",
      "Visual arts* 0/5023 == 0.0\n",
      "Geographical 0/3373 == 0.0\n",
      "Business and economics 0/1183 == 0.0\n",
      "Education 0/759 == 0.0\n",
      "History 0/2128 == 0.0\n",
      "Military and warfare 0/2822 == 0.0\n",
      "Politics and government 0/2817 == 0.0\n",
      "Society 0/1278 == 0.0\n",
      "Transportation 0/3178 == 0.0\n",
      "Biology 0/3041 == 0.0\n",
      "Chemistry 0/103 == 0.0\n",
      "Computing 0/111 == 0.0\n",
      "Earth and environment 0/690 == 0.0\n",
      "Engineering 0/1427 == 0.0\n",
      "Libraries & Information 0/95 == 0.0\n",
      "Mathematics 0/11 == 0.0\n",
      "Medicine & Health 0/358 == 0.0\n",
      "Physics 0/109 == 0.0\n",
      "STEM* 1552/6331 == 0.2451429474016743\n",
      "Space 0/358 == 0.0\n",
      "Technology 0/672 == 0.0\n"
     ]
    }
   ],
   "source": [
    "from collections import Counter\n",
    "\n",
    "total = Counter()\n",
    "correct = Counter()\n",
    "for i in range(len(vg.classes)):\n",
    "    true_y = vg.classes[i]\n",
    "    for l in true_y:\n",
    "        total[l]+=1\n",
    "    predicted_y = np.argwhere(val_predictions[i]>=0.5)\n",
    "    for p in predicted_y:\n",
    "        if p[0] in true_y:\n",
    "            correct[p[0]]+=1\n",
    "\n",
    "for k in sorted(total.keys()):\n",
    "    print(class_names[k].split(\".\")[-1], \"{}/{} == {}\".format(correct[k], total[k], correct[k]/total[k]))"
   ]
  },
  {
   "cell_type": "code",
   "execution_count": 18,
   "id": "6715df40",
   "metadata": {},
   "outputs": [
    {
     "data": {
      "text/plain": [
       "{'Culture.Biography.Biography*': 0,\n",
       " 'Culture.Food and drink': 1,\n",
       " 'Culture.Internet culture': 2,\n",
       " 'Culture.Linguistics': 3,\n",
       " 'Culture.Literature': 4,\n",
       " 'Culture.Media.Books': 5,\n",
       " 'Culture.Media.Entertainment': 6,\n",
       " 'Culture.Media.Films': 7,\n",
       " 'Culture.Media.Media*': 8,\n",
       " 'Culture.Media.Music': 9,\n",
       " 'Culture.Media.Radio': 10,\n",
       " 'Culture.Media.Software': 11,\n",
       " 'Culture.Media.Television': 12,\n",
       " 'Culture.Media.Video games': 13,\n",
       " 'Culture.Performing arts': 14,\n",
       " 'Culture.Philosophy and religion': 15,\n",
       " 'Culture.Sports': 16,\n",
       " 'Culture.Visual arts.Architecture': 17,\n",
       " 'Culture.Visual arts.Comics and Anime': 18,\n",
       " 'Culture.Visual arts.Fashion': 19,\n",
       " 'Culture.Visual arts.Visual arts*': 20,\n",
       " 'Geography.Geographical': 21,\n",
       " 'History and Society.Business and economics': 22,\n",
       " 'History and Society.Education': 23,\n",
       " 'History and Society.History': 24,\n",
       " 'History and Society.Military and warfare': 25,\n",
       " 'History and Society.Politics and government': 26,\n",
       " 'History and Society.Society': 27,\n",
       " 'History and Society.Transportation': 28,\n",
       " 'STEM.Biology': 29,\n",
       " 'STEM.Chemistry': 30,\n",
       " 'STEM.Computing': 31,\n",
       " 'STEM.Earth and environment': 32,\n",
       " 'STEM.Engineering': 33,\n",
       " 'STEM.Libraries & Information': 34,\n",
       " 'STEM.Mathematics': 35,\n",
       " 'STEM.Medicine & Health': 36,\n",
       " 'STEM.Physics': 37,\n",
       " 'STEM.STEM*': 38,\n",
       " 'STEM.Space': 39,\n",
       " 'STEM.Technology': 40}"
      ]
     },
     "execution_count": 18,
     "metadata": {},
     "output_type": "execute_result"
    }
   ],
   "source": [
    "name_id_map"
   ]
  },
  {
   "cell_type": "code",
   "execution_count": 19,
   "id": "5e33bdc3",
   "metadata": {},
   "outputs": [],
   "source": [
    "def get_y_true(classes, preset_nr_classes=0):\n",
    "    \"\"\"Gets one-hot encoded matrix of format (nr_images)x(nr_classes).\"\"\"\n",
    "    nr_images = len(classes)\n",
    "    if not preset_nr_classes:\n",
    "        nr_classes = len(set([item for sublist in classes for item in sublist]))\n",
    "    else:\n",
    "        nr_classes = preset_nr_classes\n",
    "    y_true = np.zeros((nr_images, nr_classes))\n",
    "    for row_idx, row in enumerate(classes):\n",
    "        for idx in row:\n",
    "            y_true[row_idx, idx] = 1\n",
    "    return y_true"
   ]
  },
  {
   "cell_type": "code",
   "execution_count": 23,
   "id": "ba93944c",
   "metadata": {},
   "outputs": [
    {
     "name": "stderr",
     "output_type": "stream",
     "text": [
      "/home/matvieir/anaconda3/lib/python3.8/site-packages/sklearn/metrics/_classification.py:1245: UndefinedMetricWarning: Precision and F-score are ill-defined and being set to 0.0 in labels with no predicted samples. Use `zero_division` parameter to control this behavior.\n",
      "  _warn_prf(average, modifier, msg_start, len(result))\n",
      "/home/matvieir/anaconda3/lib/python3.8/site-packages/sklearn/metrics/_classification.py:1245: UndefinedMetricWarning: Precision and F-score are ill-defined and being set to 0.0 in samples with no predicted labels. Use `zero_division` parameter to control this behavior.\n",
      "  _warn_prf(average, modifier, msg_start, len(result))\n"
     ]
    },
    {
     "name": "stdout",
     "output_type": "stream",
     "text": [
      "\n",
      "Average precision scores (macro and weighted):\n",
      "0.052180801375817466\n",
      "\n",
      " ROC AUC score:\n",
      "0.5067817868843082\n"
     ]
    },
    {
     "data": {
      "image/png": "[encoded data removed]",
      "text/plain": [
       "<Figure size 864x864 with 2 Axes>"
      ]
     },
     "metadata": {
      "needs_background": "light"
     },
     "output_type": "display_data"
    }
   ],
   "source": [
    "from sklearn.metrics import classification_report, average_precision_score, roc_auc_score\n",
    "\n",
    "threshold = 0.2\n",
    "\n",
    "y_pred = 1 * (val_predictions > threshold)\n",
    "\n",
    "y_true = get_y_true(vg.classes)\n",
    "\n",
    "n_classes = y_true.shape[1]\n",
    "metrics_df = pd.DataFrame(classification_report(y_true, y_pred, target_names=list(vg.class_indices), output_dict=True)).transpose()\n",
    "metrics_df['index'] = np.concatenate((np.arange(start=0, stop=n_classes), [None, None, None, None]))\n",
    "\n",
    "# Output macro and micro accuracies\n",
    "# with open(f'{self.results_path}/per_class_metrics', 'w') as f:\n",
    "#     metrics_df.to_string(f)\n",
    "# print(metrics_df.tail(4))\n",
    "\n",
    "# Average precision score\n",
    "# The average_precision_score function computes the average precision (AP) from prediction scores. The value is between 0 and 1 and higher is better. With random predictions, the AP is the fraction of positive samples.\n",
    "print('\\nAverage precision scores (macro):')\n",
    "print(average_precision_score(y_true, y_pred, average='macro'))\n",
    "# print(average_precision_score(y_true, y_pred, average='weighted'))\n",
    "\n",
    "# ROC AUC score\n",
    "print('\\n ROC AUC score:')\n",
    "print(roc_auc_score(y_true, val_predictions))\n",
    "\n",
    "# Precision and recall for each class\n",
    "fig, axs = plt.subplots(1, 2, figsize=(12,12))\n",
    "\n",
    "# Precision\n",
    "sorted_indices_precision = np.argsort(metrics_df.precision[0:n_classes])\n",
    "sorted_precisions_per_class = metrics_df.precision[0:n_classes][sorted_indices_precision]\n",
    "# Recall\n",
    "sorted_indices_recall = np.argsort(metrics_df.recall[0:n_classes])\n",
    "sorted_recalls_per_class = metrics_df.recall[0:n_classes][sorted_indices_recall]\n",
    "# Plot!\n",
    "axs[0].set_title('Precision per class')\n",
    "axs[0].barh(range(y_true.shape[1]), sorted_precisions_per_class, color='blue', alpha=0.6)\n",
    "axs[0].set_yticks(range(n_classes))\n",
    "axs[0].set_yticklabels(np.array(list(vg.class_indices.keys()))[sorted_indices_precision])\n",
    "axs[0].set_xlabel('Precision')\n",
    "axs[0].grid(True)\n",
    "axs[1].set_title('Recall per class')\n",
    "axs[1].barh(range(y_true.shape[1]), sorted_recalls_per_class, color='blue', alpha=0.6)\n",
    "axs[1].set_yticks(range(n_classes))\n",
    "axs[1].set_yticklabels([])\n",
    "axs[1].set_xlabel('Recall')\n",
    "axs[1].grid(True)\n",
    "plt.savefig(f'precision_recall.png')"
   ]
  }
 ],
 "metadata": {
  "kernelspec": {
   "display_name": "Python 3",
   "language": "python",
   "name": "python3"
  },
  "language_info": {
   "codemirror_mode": {
    "name": "ipython",
    "version": 3
   },
   "file_extension": ".py",
   "mimetype": "text/x-python",
   "name": "python",
   "nbconvert_exporter": "python",
   "pygments_lexer": "ipython3",
   "version": "3.8.2"
  }
 },
 "nbformat": 4,
 "nbformat_minor": 5
}
