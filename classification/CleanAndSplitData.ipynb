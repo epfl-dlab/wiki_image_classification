{
 "cells": [
  {
   "cell_type": "markdown",
   "id": "a8a12b84",
   "metadata": {},
   "source": [
    "### Load, split and save train, validation and test dataframes\n",
    "As a result, the train, validation and test dataframes are saved in:\n",
    "- Train: 1472559 images (0.81%): _data/splitted_dfs_20220528/train_df.json.bz2_\n",
    "- Val: 181798  images (0.10%): _data/splitted_dfs_20220528/val_df.json.bz2_\n",
    "- Test: 163618  images (0.09%): _data/splitted_dfs_20220528/test_df.json.bz2_"
   ]
  },
  {
   "cell_type": "code",
   "execution_count": 2,
   "id": "fb39959d",
   "metadata": {},
   "outputs": [],
   "source": [
    "import pandas as pd\n",
    "import urllib.parse\n",
    "import os\n",
    "from sklearn.model_selection import train_test_split\n",
    "import numpy as np\n",
    "from matplotlib import pyplot as plt\n",
    "from tensorflow.keras.preprocessing.image import ImageDataGenerator\n",
    "\n",
    "from help_functions import get_y_true"
   ]
  },
  {
   "cell_type": "code",
   "execution_count": 3,
   "id": "63321605",
   "metadata": {},
   "outputs": [],
   "source": [
    "MINIMAL_NR_IMAGES = 1_000"
   ]
  },
  {
   "cell_type": "markdown",
   "id": "250f89a6",
   "metadata": {},
   "source": [
    "Load naive labels, and pre-process urls."
   ]
  },
  {
   "cell_type": "code",
   "execution_count": 22,
   "id": "8fe7ecff",
   "metadata": {},
   "outputs": [
    {
     "name": "stdout",
     "output_type": "stream",
     "text": [
      "Total number of files: 2008312.\n",
      "Total number of files that can be opened: 1817975.\n"
     ]
    }
   ],
   "source": [
    "NAIVE_LABELS_PATH = 'data/commonswiki-20220220-files-naive-labels.json.bz2'\n",
    "naive_labels = pd.read_json(NAIVE_LABELS_PATH)\n",
    "\n",
    "# With this encoded url, only 190k images aren't found, while with \"url\" 790k aren't found\n",
    "naive_labels['url'] = naive_labels['url'].apply(lambda encoded_filename : urllib.parse.unquote(encoded_filename).encode().decode('unicode-escape'))\n",
    "naive_labels['can_be_opened'] = naive_labels['url'].apply(lambda url : os.path.isfile('/scratch/WIT_Dataset/images/' + url))\n",
    "print(f'Total number of files: {naive_labels.shape[0]}.')\n",
    "\n",
    "naive_labels = naive_labels.loc[naive_labels.can_be_opened == True].reset_index(drop=True)\n",
    "\n",
    "naive_labels.rename(columns={'new_labels': 'labels'}, inplace=True)\n",
    "print(f'Total number of files that can be opened: {naive_labels.shape[0]}.')"
   ]
  },
  {
   "cell_type": "markdown",
   "id": "ce81ff5b",
   "metadata": {},
   "source": [
    "#### Extra cleaning \n",
    "\n",
    "When running `model.evaluate()`, it fails with the `PIL.UnidentifiedImageError` exception error. It's mostly images from format .webp, but there are also some .png images. Remove them from the dataset. (Example: `!ls /scratch/WIT_Dataset/images/d/d7/World_Scout_Jamboree_-_Punch_cartoon_-_Project_Gutenberg_eText_16628.png` \n",
    "\n",
    "`PIL.Image.open('/scratch/WIT_Dataset/images/d/d7/World_Scout_Jamboree_-_Punch_cartoon_-_Project_Gutenberg_eText_16628.png')`\n",
    ")"
   ]
  },
  {
   "cell_type": "code",
   "execution_count": 1,
   "id": "b0bd6b51",
   "metadata": {},
   "outputs": [],
   "source": [
    "import PIL\n",
    "from pathlib import Path\n",
    "from PIL import Image, UnidentifiedImageError\n",
    "from tqdm import tqdm\n",
    "\n",
    "for index, row in tqdm(naive_labels.iterrows(), total=naive_labels.shape[0]):\n",
    "    try:\n",
    "        img = Image.open('/scratch/WIT_Dataset/images/' + row.url)\n",
    "    except PIL.UnidentifiedImageError:\n",
    "        print(row.url)\n",
    "        naive_labels.at[index, 'can_be_opened'] = False\n",
    "    except Exception as e:\n",
    "        print(e)\n",
    "        naive_labels.at[index, 'can_be_opened'] = False"
   ]
  },
  {
   "cell_type": "code",
   "execution_count": 35,
   "id": "90d8921e",
   "metadata": {},
   "outputs": [
    {
     "name": "stdout",
     "output_type": "stream",
     "text": [
      "Total number of files that can be opened: 1817901.\n",
      "(1817901, 6)\n"
     ]
    },
    {
     "data": {
      "text/html": [
       "<div>\n",
       "<style scoped>\n",
       "    .dataframe tbody tr th:only-of-type {\n",
       "        vertical-align: middle;\n",
       "    }\n",
       "\n",
       "    .dataframe tbody tr th {\n",
       "        vertical-align: top;\n",
       "    }\n",
       "\n",
       "    .dataframe thead th {\n",
       "        text-align: right;\n",
       "    }\n",
       "</style>\n",
       "<table border=\"1\" class=\"dataframe\">\n",
       "  <thead>\n",
       "    <tr style=\"text-align: right;\">\n",
       "      <th></th>\n",
       "      <th>id</th>\n",
       "      <th>title</th>\n",
       "      <th>url</th>\n",
       "      <th>categories</th>\n",
       "      <th>labels</th>\n",
       "      <th>can_be_opened</th>\n",
       "    </tr>\n",
       "  </thead>\n",
       "  <tbody>\n",
       "    <tr>\n",
       "      <th>0</th>\n",
       "      <td>74785910</td>\n",
       "      <td>\"Carnevale di Torino\". Felice Cerruti - f.lli ...</td>\n",
       "      <td>1/13/\"Carnevale_di_Torino\"._Felice_Cerruti_-_f...</td>\n",
       "      <td>[Felice Cerruti Bauduc, Victor Emmanuel II of ...</td>\n",
       "      <td>[Places, Society]</td>\n",
       "      <td>True</td>\n",
       "    </tr>\n",
       "    <tr>\n",
       "      <th>1</th>\n",
       "      <td>14890941</td>\n",
       "      <td>\"Escena de playa con figura\".jpg</td>\n",
       "      <td>c/c2/\"Escena_de_playa_con_figura\".jpg</td>\n",
       "      <td>[Pedro Lira, People with dogs in art]</td>\n",
       "      <td>[Culture, Entertainment]</td>\n",
       "      <td>True</td>\n",
       "    </tr>\n",
       "  </tbody>\n",
       "</table>\n",
       "</div>"
      ],
      "text/plain": [
       "         id                                              title  \\\n",
       "0  74785910  \"Carnevale di Torino\". Felice Cerruti - f.lli ...   \n",
       "1  14890941                   \"Escena de playa con figura\".jpg   \n",
       "\n",
       "                                                 url  \\\n",
       "0  1/13/\"Carnevale_di_Torino\"._Felice_Cerruti_-_f...   \n",
       "1              c/c2/\"Escena_de_playa_con_figura\".jpg   \n",
       "\n",
       "                                          categories  \\\n",
       "0  [Felice Cerruti Bauduc, Victor Emmanuel II of ...   \n",
       "1              [Pedro Lira, People with dogs in art]   \n",
       "\n",
       "                     labels  can_be_opened  \n",
       "0         [Places, Society]           True  \n",
       "1  [Culture, Entertainment]           True  "
      ]
     },
     "execution_count": 35,
     "metadata": {},
     "output_type": "execute_result"
    }
   ],
   "source": [
    "# Only keep the files that can be opened\n",
    "naive_labels = naive_labels.loc[naive_labels.can_be_opened == True].reset_index(drop=True)\n",
    "naive_labels.to_json('data/commonswiki-20220531-files-naive-labels.json.bz2', compression='bz2')\n",
    "print(f'Total number of files that can be opened: {naive_labels.shape[0]}.')\n",
    "\n",
    "print(naive_labels.shape)\n",
    "naive_labels.head(2)"
   ]
  },
  {
   "cell_type": "markdown",
   "id": "0d9a748c",
   "metadata": {},
   "source": [
    "#### Load dataset that has been cleaned from \"UnidentifiedImage error\" and only keep .jpg files"
   ]
  },
  {
   "cell_type": "code",
   "execution_count": 19,
   "id": "b4095434",
   "metadata": {},
   "outputs": [
    {
     "name": "stdout",
     "output_type": "stream",
     "text": [
      "18235 images of type .jpeg\n",
      "1596269 images of type .jpg\n"
     ]
    }
   ],
   "source": [
    "naive_labels = pd.read_json('data/commonswiki-20220601-files-naive-labels.json.bz2', compression='bz2')\n",
    "print(f\"{naive_labels.loc[naive_labels.url.str.contains('.jpeg', case=False)].shape[0]} images of type .jpeg\")\n",
    "naive_labels_jpg = naive_labels.loc[naive_labels.url.str.contains('.jpg', case=False)]\n",
    "print(f'{naive_labels_jpg.shape[0]} images of type .jpg')"
   ]
  },
  {
   "cell_type": "markdown",
   "id": "6fb05756",
   "metadata": {},
   "source": [
    "Remove labels with less than a certain number of images"
   ]
  },
  {
   "cell_type": "code",
   "execution_count": 20,
   "id": "9e5c5498",
   "metadata": {
    "scrolled": false
   },
   "outputs": [
    {
     "name": "stdout",
     "output_type": "stream",
     "text": [
      "Found 1596269 non-validated image filenames belonging to 42 classes.\n",
      "Removed 887 images that were only labeled as the removed labels. Left with 1.60 M images.\n"
     ]
    },
    {
     "data": {
      "image/png": "[encoded data removed]",
      "text/plain": [
       "<Figure size 864x648 with 1 Axes>"
      ]
     },
     "metadata": {
      "needs_background": "light"
     },
     "output_type": "display_data"
    }
   ],
   "source": [
    "dataframe = naive_labels_jpg.copy()\n",
    "\n",
    "_generator = ImageDataGenerator() \n",
    "_data = _generator.flow_from_dataframe(dataframe=dataframe, \n",
    "                                       directory='/scratch/WIT_Dataset/images', \n",
    "                                       x_col='url', \n",
    "                                       y_col='labels', \n",
    "                                       class_mode='categorical', \n",
    "                                       validate_filenames=False)\n",
    "\n",
    "y_true = get_y_true(_data.samples, _data.class_indices, _data.classes)\n",
    "\n",
    "sorted_indices = np.argsort(np.sum(y_true, axis=0))\n",
    "sorted_images_per_class = y_true.sum(axis=0)[sorted_indices]\n",
    "\n",
    "mask_kept = y_true.sum(axis=0)[sorted_indices] > MINIMAL_NR_IMAGES\n",
    "mask_removed = y_true.sum(axis=0)[sorted_indices] < MINIMAL_NR_IMAGES\n",
    "\n",
    "_ = plt.figure(figsize=(12, 9))\n",
    "_ = plt.title('Number of times a label is assigned to image (log-scale x-axis)')\n",
    "\n",
    "_ = plt.barh(np.array(range(y_true.shape[1]))[mask_kept], sorted_images_per_class[mask_kept], color='blue', alpha=0.6)\n",
    "_ = plt.barh(np.array(range(y_true.shape[1]))[mask_removed], sorted_images_per_class[mask_removed], color='red', alpha=0.6)\n",
    "\n",
    "_ = plt.yticks(range(y_true.shape[1]), np.array(list(_data.class_indices.keys()))[sorted_indices])\n",
    "_ = plt.xscale('log')\n",
    "_ = plt.xlabel('Count')\n",
    "_ = plt.ylabel('Naive labels')\n",
    "_ = plt.grid(True)\n",
    "\n",
    "plt.legend(['Kept', 'Removed'], loc='upper right')\n",
    "\n",
    "indices_of_classes_to_remove = np.where(np.sum(y_true, axis=0) < MINIMAL_NR_IMAGES)\n",
    "classes_to_remove = np.array(list(_data.class_indices.keys()))[indices_of_classes_to_remove]\n",
    "\n",
    "dataframe['labels'] = dataframe['labels'].apply(lambda labels: [el for el in labels if el not in classes_to_remove])\n",
    "naive_labels_clean = dataframe[dataframe['labels'].str.len() != 0]\n",
    "print(f'Removed {dataframe.shape[0] - naive_labels_clean.shape[0]} images that were only labeled as the removed labels. Left with {naive_labels_clean.shape[0]/1e6:.2f} M images.')"
   ]
  },
  {
   "cell_type": "markdown",
   "id": "c50757c2",
   "metadata": {},
   "source": [
    "Split dataset and save so the same training, validation and test sets are used throughout. Sample 500k images first"
   ]
  },
  {
   "cell_type": "code",
   "execution_count": 21,
   "id": "4b140a1c",
   "metadata": {},
   "outputs": [],
   "source": [
    "# Sample 300k images\n",
    "naive_labels_clean_samples = naive_labels_clean.sample(n=500_000)"
   ]
  },
  {
   "cell_type": "code",
   "execution_count": 22,
   "id": "01ee9c9d",
   "metadata": {},
   "outputs": [
    {
     "name": "stdout",
     "output_type": "stream",
     "text": [
      "Train set: 475000 images (0.26%)\n",
      "Test set:  25000  images (0.01%)\n"
     ]
    }
   ],
   "source": [
    "train_df, test_df = train_test_split(naive_labels_clean_samples, test_size=0.05, random_state=17)\n",
    "\n",
    "print(f'Train set: {train_df.shape[0]} images ({train_df.shape[0] / naive_labels.shape[0]:.2f}%)')\n",
    "print(f'Test set:  {test_df.shape[0]}  images ({test_df.shape[0] / naive_labels.shape[0]:.2f}%)')\n",
    "\n",
    "!mkdir data/splitted_dfs_500k_20220602\n",
    "\n",
    "train_df.to_json('data/splitted_dfs_500k_20220602/train_df.json.bz2', compression='bz2')\n",
    "test_df.to_json('data/splitted_dfs_500k_20220602/test_df.json.bz2', compression='bz2')"
   ]
  }
 ],
 "metadata": {
  "kernelspec": {
   "display_name": "Python 3",
   "language": "python",
   "name": "python3"
  },
  "language_info": {
   "codemirror_mode": {
    "name": "ipython",
    "version": 3
   },
   "file_extension": ".py",
   "mimetype": "text/x-python",
   "name": "python",
   "nbconvert_exporter": "python",
   "pygments_lexer": "ipython3",
   "version": "3.8.2"
  }
 },
 "nbformat": 4,
 "nbformat_minor": 5
}
