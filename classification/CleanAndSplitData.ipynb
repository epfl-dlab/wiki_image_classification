{
 "cells": [
  {
   "cell_type": "markdown",
   "id": "a8a12b84",
   "metadata": {},
   "source": [
    "### Load, split and save train and test dataframes\n"
   ]
  },
  {
   "cell_type": "code",
   "execution_count": 1,
   "id": "fb39959d",
   "metadata": {},
   "outputs": [],
   "source": [
    "import pandas as pd\n",
    "import urllib.parse\n",
    "import os\n",
    "from sklearn.model_selection import train_test_split\n",
    "import numpy as np\n",
    "from matplotlib import pyplot as plt\n",
    "from tensorflow.keras.preprocessing.image import ImageDataGenerator\n",
    "\n",
    "from help_functions import get_y_true"
   ]
  },
  {
   "cell_type": "code",
   "execution_count": 2,
   "id": "63321605",
   "metadata": {},
   "outputs": [],
   "source": [
    "MINIMAL_NR_IMAGES = 1_000"
   ]
  },
  {
   "cell_type": "markdown",
   "id": "250f89a6",
   "metadata": {},
   "source": [
    "Load naive labels, and pre-process urls."
   ]
  },
  {
   "cell_type": "code",
   "execution_count": 38,
   "id": "f7eb92f6",
   "metadata": {},
   "outputs": [],
   "source": [
    "# INPUT FILES\n",
    "HEURISTICS_LABELS_PATH = 'data/commonswiki-20220914-files-heuristic-labels.json.bz2'\n",
    "NAIVE_LABELS_PATH = 'data/commonswiki-20220220-files-naive-labels.json.bz2'\n",
    "\n",
    "# OUTPUT FILES\n",
    "SPLIT_DATA_PATH = 'data/split_dataframes_heuristic_labels_20220914' #/train_df.json.bz2 and /test_df.json.bz2 "
   ]
  },
  {
   "cell_type": "code",
   "execution_count": 5,
   "id": "8fe7ecff",
   "metadata": {},
   "outputs": [
    {
     "name": "stdout",
     "output_type": "stream",
     "text": [
      "Total number of files: 3891446.\n",
      "Total number of files that can be opened: 3516309.\n",
      "(3516309, 6)\n"
     ]
    },
    {
     "data": {
      "text/html": [
       "<div>\n",
       "<style scoped>\n",
       "    .dataframe tbody tr th:only-of-type {\n",
       "        vertical-align: middle;\n",
       "    }\n",
       "\n",
       "    .dataframe tbody tr th {\n",
       "        vertical-align: top;\n",
       "    }\n",
       "\n",
       "    .dataframe thead th {\n",
       "        text-align: right;\n",
       "    }\n",
       "</style>\n",
       "<table border=\"1\" class=\"dataframe\">\n",
       "  <thead>\n",
       "    <tr style=\"text-align: right;\">\n",
       "      <th></th>\n",
       "      <th>id</th>\n",
       "      <th>title</th>\n",
       "      <th>url</th>\n",
       "      <th>categories</th>\n",
       "      <th>labels</th>\n",
       "      <th>can_be_opened</th>\n",
       "    </tr>\n",
       "  </thead>\n",
       "  <tbody>\n",
       "    <tr>\n",
       "      <th>0</th>\n",
       "      <td>53631642</td>\n",
       "      <td>\"Akdeniz\" - Aliağa, 2016.jpg</td>\n",
       "      <td>f/f8/\"Akdeniz\"_-_AliaÄa,_2016.jpg</td>\n",
       "      <td>[Akdeniz (ship, 1955), Aliağa ship-breaking yard]</td>\n",
       "      <td>[]</td>\n",
       "      <td>True</td>\n",
       "    </tr>\n",
       "    <tr>\n",
       "      <th>1</th>\n",
       "      <td>74785910</td>\n",
       "      <td>\"Carnevale di Torino\". Felice Cerruti - f.lli ...</td>\n",
       "      <td>1/13/\"Carnevale_di_Torino\"._Felice_Cerruti_-_f...</td>\n",
       "      <td>[Felice Cerruti Bauduc, Victor Emmanuel II of ...</td>\n",
       "      <td>[Places, Art, People, Culture]</td>\n",
       "      <td>True</td>\n",
       "    </tr>\n",
       "    <tr>\n",
       "      <th>2</th>\n",
       "      <td>14890941</td>\n",
       "      <td>\"Escena de playa con figura\".jpg</td>\n",
       "      <td>c/c2/\"Escena_de_playa_con_figura\".jpg</td>\n",
       "      <td>[Pedro Lira, People with dogs in art]</td>\n",
       "      <td>[People]</td>\n",
       "      <td>True</td>\n",
       "    </tr>\n",
       "    <tr>\n",
       "      <th>3</th>\n",
       "      <td>17828296</td>\n",
       "      <td>\"Florero con plátanos, limones y libros\", Juan...</td>\n",
       "      <td>d/da/\"Florero_con_plÃ¡tanos,_limones_y_libros\"...</td>\n",
       "      <td>[Works by Juan de Echevarría, Still-life paint...</td>\n",
       "      <td>[Art, Culture]</td>\n",
       "      <td>True</td>\n",
       "    </tr>\n",
       "    <tr>\n",
       "      <th>4</th>\n",
       "      <td>33628123</td>\n",
       "      <td>\"Keep FDA Off The Farm\" (FDA 140) (8205957369)...</td>\n",
       "      <td>b/bc/\"Keep_FDA_Off_The_Farm\"_(FDA_140)_(820595...</td>\n",
       "      <td>[Food and Drug Administration (United States),...</td>\n",
       "      <td>[Nature, Culture]</td>\n",
       "      <td>True</td>\n",
       "    </tr>\n",
       "  </tbody>\n",
       "</table>\n",
       "</div>"
      ],
      "text/plain": [
       "         id                                              title  \\\n",
       "0  53631642                       \"Akdeniz\" - Aliağa, 2016.jpg   \n",
       "1  74785910  \"Carnevale di Torino\". Felice Cerruti - f.lli ...   \n",
       "2  14890941                   \"Escena de playa con figura\".jpg   \n",
       "3  17828296  \"Florero con plátanos, limones y libros\", Juan...   \n",
       "4  33628123  \"Keep FDA Off The Farm\" (FDA 140) (8205957369)...   \n",
       "\n",
       "                                                 url  \\\n",
       "0                 f/f8/\"Akdeniz\"_-_AliaÄa,_2016.jpg   \n",
       "1  1/13/\"Carnevale_di_Torino\"._Felice_Cerruti_-_f...   \n",
       "2              c/c2/\"Escena_de_playa_con_figura\".jpg   \n",
       "3  d/da/\"Florero_con_plÃ¡tanos,_limones_y_libros\"...   \n",
       "4  b/bc/\"Keep_FDA_Off_The_Farm\"_(FDA_140)_(820595...   \n",
       "\n",
       "                                          categories  \\\n",
       "0  [Akdeniz (ship, 1955), Aliağa ship-breaking yard]   \n",
       "1  [Felice Cerruti Bauduc, Victor Emmanuel II of ...   \n",
       "2              [Pedro Lira, People with dogs in art]   \n",
       "3  [Works by Juan de Echevarría, Still-life paint...   \n",
       "4  [Food and Drug Administration (United States),...   \n",
       "\n",
       "                           labels  can_be_opened  \n",
       "0                              []           True  \n",
       "1  [Places, Art, People, Culture]           True  \n",
       "2                        [People]           True  \n",
       "3                  [Art, Culture]           True  \n",
       "4               [Nature, Culture]           True  "
      ]
     },
     "execution_count": 5,
     "metadata": {},
     "output_type": "execute_result"
    }
   ],
   "source": [
    "labels = pd.read_json(HEURISTICS_LABELS_PATH)\n",
    "\n",
    "# With this encoded url, only 190k images aren't found, while with \"url\" 790k aren't found\n",
    "labels['url'] = labels['url'].apply(lambda encoded_filename : urllib.parse.unquote(encoded_filename).encode().decode('unicode-escape'))\n",
    "labels['can_be_opened'] = labels['url'].apply(lambda url : os.path.isfile('/scratch/WIT_Dataset/images/' + url))\n",
    "print(f'Total number of files: {labels.shape[0]}.')\n",
    "\n",
    "labels = labels.loc[labels.can_be_opened == True].reset_index(drop=True)\n",
    "\n",
    "# labels.rename(columns={'new_labels': 'labels'}, inplace=True)\n",
    "print(f'Total number of files that can be opened: {labels.shape[0]}.')\n",
    "print(labels.shape)\n",
    "labels.head()"
   ]
  },
  {
   "cell_type": "code",
   "execution_count": 7,
   "id": "de78fa40",
   "metadata": {},
   "outputs": [],
   "source": [
    "HEURISTICS_LABELS_CAN_OPEN_PATH = 'data/commonswiki-20220914-files-heuristic-labels-can-be-opened.json.bz2'\n",
    "labels.to_json(HEURISTICS_LABELS_CAN_OPEN_PATH)"
   ]
  },
  {
   "cell_type": "markdown",
   "id": "ce81ff5b",
   "metadata": {},
   "source": [
    "#### Extra cleaning \n",
    "\n",
    "When running `model.evaluate()`, it fails with the `PIL.UnidentifiedImageError` exception error. It's mostly images from format .webp, but there are also some .png images. Remove them from the dataset. (Example: `!ls /scratch/WIT_Dataset/images/d/d7/World_Scout_Jamboree_-_Punch_cartoon_-_Project_Gutenberg_eText_16628.png` \n",
    "\n",
    "`PIL.Image.open('/scratch/WIT_Dataset/images/d/d7/World_Scout_Jamboree_-_Punch_cartoon_-_Project_Gutenberg_eText_16628.png')`\n",
    ")"
   ]
  },
  {
   "cell_type": "code",
   "execution_count": 32,
   "id": "b0bd6b51",
   "metadata": {},
   "outputs": [],
   "source": [
    "# import PIL\n",
    "# from pathlib import Path\n",
    "# from PIL import Image, UnidentifiedImageError\n",
    "# from tqdm import tqdm\n",
    "# for index, row in tqdm(labels.iterrows(), total=labels.shape[0]):\n",
    "#     try:\n",
    "#         img = Image.open('/scratch/WIT_Dataset/images/' + row.url)\n",
    "#     except PIL.UnidentifiedImageError:\n",
    "#         print(row.url)\n",
    "#         labels.at[index, 'can_be_opened'] = False\n",
    "#     except Exception as e:\n",
    "#         print(e)\n",
    "#         labels.at[index, 'can_be_opened'] = False\n",
    "\n",
    "# Work around to avoid 11 hours runtime: use dataset whose images have already been asserted\n",
    "naive_labels = pd.read_json('data/commonswiki-20220601-files-naive-labels.json.bz2')\n",
    "openable_labels = labels.merge(naive_labels, on=['id', 'title', 'url'])\n",
    "openable_labels.drop(labels=['can_be_opened_x', 'can_be_opened_y'], axis=1, inplace=True)\n",
    "# The categories are the same, assert that, and remove one of them\n",
    "assert (openable_labels.categories_x == openable_labels.categories_y).sum() == len(openable_labels)\n",
    "openable_labels.drop(labels='categories_y', axis=1, inplace=True)\n",
    "openable_labels.rename({'categories_x': 'categories', \n",
    "                        'labels_x': 'labels', \n",
    "                        'labels_y': 'naive_labels'}, axis=1, inplace=True)"
   ]
  },
  {
   "cell_type": "code",
   "execution_count": 33,
   "id": "f78a1cba",
   "metadata": {},
   "outputs": [
    {
     "name": "stdout",
     "output_type": "stream",
     "text": [
      "(1817902, 6)\n"
     ]
    },
    {
     "data": {
      "text/html": [
       "<div>\n",
       "<style scoped>\n",
       "    .dataframe tbody tr th:only-of-type {\n",
       "        vertical-align: middle;\n",
       "    }\n",
       "\n",
       "    .dataframe tbody tr th {\n",
       "        vertical-align: top;\n",
       "    }\n",
       "\n",
       "    .dataframe thead th {\n",
       "        text-align: right;\n",
       "    }\n",
       "</style>\n",
       "<table border=\"1\" class=\"dataframe\">\n",
       "  <thead>\n",
       "    <tr style=\"text-align: right;\">\n",
       "      <th></th>\n",
       "      <th>id</th>\n",
       "      <th>title</th>\n",
       "      <th>url</th>\n",
       "      <th>categories</th>\n",
       "      <th>heuristic_labels</th>\n",
       "      <th>naive_labels</th>\n",
       "    </tr>\n",
       "  </thead>\n",
       "  <tbody>\n",
       "    <tr>\n",
       "      <th>0</th>\n",
       "      <td>74785910</td>\n",
       "      <td>\"Carnevale di Torino\". Felice Cerruti - f.lli ...</td>\n",
       "      <td>1/13/\"Carnevale_di_Torino\"._Felice_Cerruti_-_f...</td>\n",
       "      <td>[Felice Cerruti Bauduc, Victor Emmanuel II of ...</td>\n",
       "      <td>[Places, Art, People, Culture]</td>\n",
       "      <td>[Places, Society]</td>\n",
       "    </tr>\n",
       "    <tr>\n",
       "      <th>1</th>\n",
       "      <td>14890941</td>\n",
       "      <td>\"Escena de playa con figura\".jpg</td>\n",
       "      <td>c/c2/\"Escena_de_playa_con_figura\".jpg</td>\n",
       "      <td>[Pedro Lira, People with dogs in art]</td>\n",
       "      <td>[People]</td>\n",
       "      <td>[Culture, Entertainment]</td>\n",
       "    </tr>\n",
       "    <tr>\n",
       "      <th>2</th>\n",
       "      <td>17073242</td>\n",
       "      <td>\"Mary Holiday\" - NARA - 559051.jpg</td>\n",
       "      <td>0/02/\"Mary_Holiday\"_-_NARA_-_559051.jpg</td>\n",
       "      <td>[Art of the United States, Harmon Foundation, ...</td>\n",
       "      <td>[People, Society]</td>\n",
       "      <td>[Culture, History, Society]</td>\n",
       "    </tr>\n",
       "    <tr>\n",
       "      <th>3</th>\n",
       "      <td>5259480</td>\n",
       "      <td>\"The End of the 'Forty Five' Rebellion\".jpg</td>\n",
       "      <td>c/c7/\"The_End_of_the_'Forty_Five'_Rebellion\".jpg</td>\n",
       "      <td>[Battle of Culloden, 1882 engravings, Wounded ...</td>\n",
       "      <td>[History, People, Culture, Society]</td>\n",
       "      <td>[Culture, History]</td>\n",
       "    </tr>\n",
       "    <tr>\n",
       "      <th>4</th>\n",
       "      <td>67898619</td>\n",
       "      <td>\"Woman are too sentimental for jury duty\" -Ant...</td>\n",
       "      <td>f/f0/\"Woman_are_too_sentimental_for_jury_duty\"...</td>\n",
       "      <td>[Pro-suffrage cartoons, Kenneth R. Chamberlain...</td>\n",
       "      <td>[Politics, Culture, Society]</td>\n",
       "      <td>[Culture, Politics, Society]</td>\n",
       "    </tr>\n",
       "  </tbody>\n",
       "</table>\n",
       "</div>"
      ],
      "text/plain": [
       "         id                                              title  \\\n",
       "0  74785910  \"Carnevale di Torino\". Felice Cerruti - f.lli ...   \n",
       "1  14890941                   \"Escena de playa con figura\".jpg   \n",
       "2  17073242                 \"Mary Holiday\" - NARA - 559051.jpg   \n",
       "3   5259480        \"The End of the 'Forty Five' Rebellion\".jpg   \n",
       "4  67898619  \"Woman are too sentimental for jury duty\" -Ant...   \n",
       "\n",
       "                                                 url  \\\n",
       "0  1/13/\"Carnevale_di_Torino\"._Felice_Cerruti_-_f...   \n",
       "1              c/c2/\"Escena_de_playa_con_figura\".jpg   \n",
       "2            0/02/\"Mary_Holiday\"_-_NARA_-_559051.jpg   \n",
       "3   c/c7/\"The_End_of_the_'Forty_Five'_Rebellion\".jpg   \n",
       "4  f/f0/\"Woman_are_too_sentimental_for_jury_duty\"...   \n",
       "\n",
       "                                          categories  \\\n",
       "0  [Felice Cerruti Bauduc, Victor Emmanuel II of ...   \n",
       "1              [Pedro Lira, People with dogs in art]   \n",
       "2  [Art of the United States, Harmon Foundation, ...   \n",
       "3  [Battle of Culloden, 1882 engravings, Wounded ...   \n",
       "4  [Pro-suffrage cartoons, Kenneth R. Chamberlain...   \n",
       "\n",
       "                      heuristic_labels                  naive_labels  \n",
       "0       [Places, Art, People, Culture]             [Places, Society]  \n",
       "1                             [People]      [Culture, Entertainment]  \n",
       "2                    [People, Society]   [Culture, History, Society]  \n",
       "3  [History, People, Culture, Society]            [Culture, History]  \n",
       "4         [Politics, Culture, Society]  [Culture, Politics, Society]  "
      ]
     },
     "execution_count": 33,
     "metadata": {},
     "output_type": "execute_result"
    }
   ],
   "source": [
    "print(openable_labels.shape)\n",
    "openable_labels.head()"
   ]
  },
  {
   "cell_type": "markdown",
   "id": "0d9a748c",
   "metadata": {},
   "source": [
    "Only keep .jpg files"
   ]
  },
  {
   "cell_type": "code",
   "execution_count": 35,
   "id": "b4095434",
   "metadata": {},
   "outputs": [
    {
     "name": "stdout",
     "output_type": "stream",
     "text": [
      "1596269 images of type .jpg\n"
     ]
    }
   ],
   "source": [
    "# print(f\"{naive_labels.loc[naive_labels.url.str.contains('.jpeg', case=False)].shape[0]} images of type .jpeg\")\n",
    "labels_jpg = openable_labels.loc[openable_labels.url.str.contains('.jpg', case=False)]\n",
    "print(f'{labels_jpg.shape[0]} images of type .jpg')"
   ]
  },
  {
   "cell_type": "markdown",
   "id": "c50757c2",
   "metadata": {},
   "source": [
    "Split dataset and save so the same training and test sets are used throughout."
   ]
  },
  {
   "cell_type": "code",
   "execution_count": 37,
   "id": "4b140a1c",
   "metadata": {},
   "outputs": [],
   "source": [
    "# Sample images\n",
    "samples = labels_jpg.sample(n=800_000, random_state=7)"
   ]
  },
  {
   "cell_type": "code",
   "execution_count": 39,
   "id": "01ee9c9d",
   "metadata": {},
   "outputs": [
    {
     "name": "stdout",
     "output_type": "stream",
     "text": [
      "Train set: 760000 images (0.95%)\n",
      "Test set:  40000  images (0.05%)\n"
     ]
    }
   ],
   "source": [
    "train_df, test_df = train_test_split(samples, test_size=0.05, random_state=7)\n",
    "\n",
    "print(f'Train set: {train_df.shape[0]} images ({train_df.shape[0] / samples.shape[0]:.2f}%)')\n",
    "print(f'Test set:  {test_df.shape[0]}  images ({test_df.shape[0] / samples.shape[0]:.2f}%)')\n",
    "\n",
    "os.mkdir(SPLIT_DATA_PATH)\n",
    "\n",
    "train_df.to_json(f'{SPLIT_DATA_PATH}/train_df.json.bz2', compression='bz2')\n",
    "test_df.to_json(f'{SPLIT_DATA_PATH}/test_df.json.bz2', compression='bz2')"
   ]
  }
 ],
 "metadata": {
  "interpreter": {
   "hash": "b7f323a1c2c8b3d38dc94a01188981c510c9b5df10e2cc2d7fa4f2b45d318cbd"
  },
  "kernelspec": {
   "display_name": "Python 3.8.2 ('base')",
   "language": "python",
   "name": "python3"
  },
  "language_info": {
   "codemirror_mode": {
    "name": "ipython",
    "version": 3
   },
   "file_extension": ".py",
   "mimetype": "text/x-python",
   "name": "python",
   "nbconvert_exporter": "python",
   "pygments_lexer": "ipython3",
   "version": "3.8.2"
  }
 },
 "nbformat": 4,
 "nbformat_minor": 5
}
