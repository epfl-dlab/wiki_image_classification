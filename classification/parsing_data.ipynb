{
 "cells": [
  {
   "cell_type": "markdown",
   "metadata": {},
   "source": [
    "## Merging dataframes to get image<->taxo_label dataframe.\n",
    "In this file we merge an image<->article dataframe (segment 0 of WIT_Dataset) with an article<->taxo_label dataframe (training dataset of ORES) to obtain a image<->taxo_label dataframe."
   ]
  },
  {
   "cell_type": "code",
   "execution_count": 3,
   "metadata": {},
   "outputs": [],
   "source": [
    "import pandas as pd"
   ]
  },
  {
   "cell_type": "markdown",
   "metadata": {},
   "source": [
    "### 1. Reading images <-> taxo_label into a dataframe."
   ]
  },
  {
   "cell_type": "markdown",
   "metadata": {},
   "source": [
    "The training images given by the file _wit_v1.train.all-00000-of-00010.tsv.gz_ has 3.7 million images inside."
   ]
  },
  {
   "cell_type": "code",
   "execution_count": 4,
   "metadata": {},
   "outputs": [],
   "source": [
    "# Segment numbers of the WIT_Dataset\n",
    "\n",
    "# Construct segments dataframe\n",
    "\n",
    "segment_numbers = [0, 1, 2, 3, 4, 5, 6, 7, 8, 9]\n",
    "frames = []\n",
    "for nr in segment_numbers:\n",
    "    filename = '/scratch/WIT_Dataset/wit_v1.train.all-0000' + str(nr) + '-of-00010.tsv.gz'\n",
    "    new_frame = pd.read_csv(filename, compression='gzip', sep='\\t')\n",
    "    new_frame.to_json(f'data/images_df_segment_{str(nr)}.json.bz2', compression='bz2')\n",
    "    # frames.append(new_frame)\n",
    "    print(f'Added segment {nr}')\n"
   ]
  },
  {
   "cell_type": "code",
   "execution_count": 3,
   "metadata": {},
   "outputs": [
    {
     "ename": "ValueError",
     "evalue": "DataFrame index must be unique for orient='columns'.",
     "output_type": "error",
     "traceback": [
      "\u001b[0;31m---------------------------------------------------------------------------\u001b[0m",
      "\u001b[0;31mValueError\u001b[0m                                Traceback (most recent call last)",
      "\u001b[0;32m<ipython-input-3-677c29ee2ec2>\u001b[0m in \u001b[0;36m<module>\u001b[0;34m\u001b[0m\n\u001b[0;32m----> 1\u001b[0;31m \u001b[0mimages_df\u001b[0m\u001b[0;34m.\u001b[0m\u001b[0mto_json\u001b[0m\u001b[0;34m(\u001b[0m\u001b[0;34m'data/image_df_all_segments.json.bz2'\u001b[0m\u001b[0;34m,\u001b[0m \u001b[0mcompression\u001b[0m\u001b[0;34m=\u001b[0m\u001b[0;34m'bz2'\u001b[0m\u001b[0;34m)\u001b[0m\u001b[0;34m\u001b[0m\u001b[0;34m\u001b[0m\u001b[0m\n\u001b[0m",
      "\u001b[0;32m~/anaconda3/lib/python3.8/site-packages/pandas/core/generic.py\u001b[0m in \u001b[0;36mto_json\u001b[0;34m(self, path_or_buf, orient, date_format, double_precision, force_ascii, date_unit, default_handler, lines, compression, index, indent, storage_options)\u001b[0m\n\u001b[1;32m   2464\u001b[0m         \u001b[0mindent\u001b[0m \u001b[0;34m=\u001b[0m \u001b[0mindent\u001b[0m \u001b[0;32mor\u001b[0m \u001b[0;36m0\u001b[0m\u001b[0;34m\u001b[0m\u001b[0;34m\u001b[0m\u001b[0m\n\u001b[1;32m   2465\u001b[0m \u001b[0;34m\u001b[0m\u001b[0m\n\u001b[0;32m-> 2466\u001b[0;31m         return json.to_json(\n\u001b[0m\u001b[1;32m   2467\u001b[0m             \u001b[0mpath_or_buf\u001b[0m\u001b[0;34m=\u001b[0m\u001b[0mpath_or_buf\u001b[0m\u001b[0;34m,\u001b[0m\u001b[0;34m\u001b[0m\u001b[0;34m\u001b[0m\u001b[0m\n\u001b[1;32m   2468\u001b[0m             \u001b[0mobj\u001b[0m\u001b[0;34m=\u001b[0m\u001b[0mself\u001b[0m\u001b[0;34m,\u001b[0m\u001b[0;34m\u001b[0m\u001b[0;34m\u001b[0m\u001b[0m\n",
      "\u001b[0;32m~/anaconda3/lib/python3.8/site-packages/pandas/io/json/_json.py\u001b[0m in \u001b[0;36mto_json\u001b[0;34m(path_or_buf, obj, orient, date_format, double_precision, force_ascii, date_unit, default_handler, lines, compression, index, indent, storage_options)\u001b[0m\n\u001b[1;32m     83\u001b[0m         \u001b[0;32mraise\u001b[0m \u001b[0mNotImplementedError\u001b[0m\u001b[0;34m(\u001b[0m\u001b[0;34m\"'obj' should be a Series or a DataFrame\"\u001b[0m\u001b[0;34m)\u001b[0m\u001b[0;34m\u001b[0m\u001b[0;34m\u001b[0m\u001b[0m\n\u001b[1;32m     84\u001b[0m \u001b[0;34m\u001b[0m\u001b[0m\n\u001b[0;32m---> 85\u001b[0;31m     s = writer(\n\u001b[0m\u001b[1;32m     86\u001b[0m         \u001b[0mobj\u001b[0m\u001b[0;34m,\u001b[0m\u001b[0;34m\u001b[0m\u001b[0;34m\u001b[0m\u001b[0m\n\u001b[1;32m     87\u001b[0m         \u001b[0morient\u001b[0m\u001b[0;34m=\u001b[0m\u001b[0morient\u001b[0m\u001b[0;34m,\u001b[0m\u001b[0;34m\u001b[0m\u001b[0;34m\u001b[0m\u001b[0m\n",
      "\u001b[0;32m~/anaconda3/lib/python3.8/site-packages/pandas/io/json/_json.py\u001b[0m in \u001b[0;36m__init__\u001b[0;34m(self, obj, orient, date_format, double_precision, ensure_ascii, date_unit, index, default_handler, indent)\u001b[0m\n\u001b[1;32m    138\u001b[0m \u001b[0;34m\u001b[0m\u001b[0m\n\u001b[1;32m    139\u001b[0m         \u001b[0mself\u001b[0m\u001b[0;34m.\u001b[0m\u001b[0mis_copy\u001b[0m \u001b[0;34m=\u001b[0m \u001b[0;32mNone\u001b[0m\u001b[0;34m\u001b[0m\u001b[0;34m\u001b[0m\u001b[0m\n\u001b[0;32m--> 140\u001b[0;31m         \u001b[0mself\u001b[0m\u001b[0;34m.\u001b[0m\u001b[0m_format_axes\u001b[0m\u001b[0;34m(\u001b[0m\u001b[0;34m)\u001b[0m\u001b[0;34m\u001b[0m\u001b[0;34m\u001b[0m\u001b[0m\n\u001b[0m\u001b[1;32m    141\u001b[0m \u001b[0;34m\u001b[0m\u001b[0m\n\u001b[1;32m    142\u001b[0m     \u001b[0;32mdef\u001b[0m \u001b[0m_format_axes\u001b[0m\u001b[0;34m(\u001b[0m\u001b[0mself\u001b[0m\u001b[0;34m)\u001b[0m\u001b[0;34m:\u001b[0m\u001b[0;34m\u001b[0m\u001b[0;34m\u001b[0m\u001b[0m\n",
      "\u001b[0;32m~/anaconda3/lib/python3.8/site-packages/pandas/io/json/_json.py\u001b[0m in \u001b[0;36m_format_axes\u001b[0;34m(self)\u001b[0m\n\u001b[1;32m    195\u001b[0m         \"\"\"\n\u001b[1;32m    196\u001b[0m         \u001b[0;32mif\u001b[0m \u001b[0;32mnot\u001b[0m \u001b[0mself\u001b[0m\u001b[0;34m.\u001b[0m\u001b[0mobj\u001b[0m\u001b[0;34m.\u001b[0m\u001b[0mindex\u001b[0m\u001b[0;34m.\u001b[0m\u001b[0mis_unique\u001b[0m \u001b[0;32mand\u001b[0m \u001b[0mself\u001b[0m\u001b[0;34m.\u001b[0m\u001b[0morient\u001b[0m \u001b[0;32min\u001b[0m \u001b[0;34m(\u001b[0m\u001b[0;34m\"index\"\u001b[0m\u001b[0;34m,\u001b[0m \u001b[0;34m\"columns\"\u001b[0m\u001b[0;34m)\u001b[0m\u001b[0;34m:\u001b[0m\u001b[0;34m\u001b[0m\u001b[0;34m\u001b[0m\u001b[0m\n\u001b[0;32m--> 197\u001b[0;31m             raise ValueError(\n\u001b[0m\u001b[1;32m    198\u001b[0m                 \u001b[0;34mf\"DataFrame index must be unique for orient='{self.orient}'.\"\u001b[0m\u001b[0;34m\u001b[0m\u001b[0;34m\u001b[0m\u001b[0m\n\u001b[1;32m    199\u001b[0m             )\n",
      "\u001b[0;31mValueError\u001b[0m: DataFrame index must be unique for orient='columns'."
     ]
    }
   ],
   "source": [
    "images_df_ready_to_json = images_df.reset_index()\n",
    "images_df_ready_to_json.to_json('data/image_df_all_segments.json.bz2', compression='bz2')"
   ]
  },
  {
   "cell_type": "markdown",
   "metadata": {},
   "source": [
    "Notice that some images are present in the images_df dataset multiple times in different articles and languages same language."
   ]
  },
  {
   "cell_type": "code",
   "execution_count": null,
   "metadata": {},
   "outputs": [
    {
     "name": "stdout",
     "output_type": "stream",
     "text": [
      "https://upload.wikimedia.org/wikipedia/commons/c/c7/North_Macedonia_relief_location_map.jpg    286\n",
      "https://upload.wikimedia.org/wikipedia/commons/1/1a/E3d_txikia.png                             157\n",
      "https://upload.wikimedia.org/wikipedia/commons/d/db/Moonmap_from_clementine_data.png           126\n",
      "http://upload.wikimedia.org/wikipedia/commons/b/bb/Location_map_South_Georgia.png               95\n",
      "https://upload.wikimedia.org/wikipedia/commons/f/ff/Espa%C3%B1aLoc.svg                          80\n",
      "                                                                                              ... \n",
      "https://upload.wikimedia.org/wikipedia/commons/9/9a/DinmukhametAkhimov.jpg                       1\n",
      "https://upload.wikimedia.org/wikipedia/commons/a/a8/Alessandro_Haber_2007_cropped.jpg            1\n",
      "https://upload.wikimedia.org/wikipedia/commons/2/26/Amsel_mit_Beere.JPG                          1\n",
      "https://upload.wikimedia.org/wikipedia/commons/f/f8/TheAll-Story-June1912.jpg                    1\n",
      "https://upload.wikimedia.org/wikipedia/commons/6/69/200_000_karbovanets_1994_back.jpg            1\n",
      "Name: image_url, Length: 2623494, dtype: int64\n"
     ]
    }
   ],
   "source": [
    "print(images_df.image_url.value_counts())"
   ]
  },
  {
   "cell_type": "markdown",
   "metadata": {},
   "source": [
    "### 2. Reading ORES training data (article<->taxo_label)"
   ]
  },
  {
   "cell_type": "markdown",
   "metadata": {},
   "source": [
    "From this other dataset _enwiki.labeled_article_items.json.bz2_ (apparently ORES training data), we get information about 5.9 million articles (qid, title & taxo_labels)."
   ]
  },
  {
   "cell_type": "code",
   "execution_count": 5,
   "metadata": {},
   "outputs": [
    {
     "name": "stdout",
     "output_type": "stream",
     "text": [
      "(5926244, 9)\n"
     ]
    },
    {
     "data": {
      "text/html": [
       "<div>\n",
       "<style scoped>\n",
       "    .dataframe tbody tr th:only-of-type {\n",
       "        vertical-align: middle;\n",
       "    }\n",
       "\n",
       "    .dataframe tbody tr th {\n",
       "        vertical-align: top;\n",
       "    }\n",
       "\n",
       "    .dataframe thead th {\n",
       "        text-align: right;\n",
       "    }\n",
       "</style>\n",
       "<table border=\"1\" class=\"dataframe\">\n",
       "  <thead>\n",
       "    <tr style=\"text-align: right;\">\n",
       "      <th></th>\n",
       "      <th>article_pid</th>\n",
       "      <th>wp_templates</th>\n",
       "      <th>article_revid</th>\n",
       "      <th>qid</th>\n",
       "      <th>sitelinks</th>\n",
       "      <th>title</th>\n",
       "      <th>talk_revid</th>\n",
       "      <th>talk_pid</th>\n",
       "      <th>taxo_labels</th>\n",
       "    </tr>\n",
       "  </thead>\n",
       "  <tbody>\n",
       "    <tr>\n",
       "      <th>0</th>\n",
       "      <td>18951386.0</td>\n",
       "      <td>[WikiProject Objectivism, WikiProject Novels, ...</td>\n",
       "      <td>926765055.0</td>\n",
       "      <td>Q374098</td>\n",
       "      <td>{'la': 'Atlas Shrugged', 'sv': 'Och världen sk...</td>\n",
       "      <td>Atlas Shrugged</td>\n",
       "      <td>911346471</td>\n",
       "      <td>128</td>\n",
       "      <td>[Culture.Media.Books, History and Society.Poli...</td>\n",
       "    </tr>\n",
       "    <tr>\n",
       "      <th>1</th>\n",
       "      <td>358.0</td>\n",
       "      <td>[WikiProject Africa, WikiProject Countries, Wi...</td>\n",
       "      <td>928541225.0</td>\n",
       "      <td>Q262</td>\n",
       "      <td>{'crh': 'Cezair', 'ku': 'Cezayir', 'et': 'Alže...</td>\n",
       "      <td>Algeria</td>\n",
       "      <td>927128572</td>\n",
       "      <td>354</td>\n",
       "      <td>[Geography.Geographical, History and Society.S...</td>\n",
       "    </tr>\n",
       "    <tr>\n",
       "      <th>2</th>\n",
       "      <td>2482.0</td>\n",
       "      <td>[WikiProject France, WikiProject Architecture,...</td>\n",
       "      <td>924947879.0</td>\n",
       "      <td>Q64436</td>\n",
       "      <td>{'sv': 'Triumfbågen, Paris', 'en': 'Arc de Tri...</td>\n",
       "      <td>Arc de Triomphe</td>\n",
       "      <td>921129575</td>\n",
       "      <td>672</td>\n",
       "      <td>[Culture.Visual arts.Visual arts*, Geography.G...</td>\n",
       "    </tr>\n",
       "    <tr>\n",
       "      <th>3</th>\n",
       "      <td>18951655.0</td>\n",
       "      <td>[WikiProject Archaeology, WikiProject Anthropo...</td>\n",
       "      <td>926027145.0</td>\n",
       "      <td>Q23498</td>\n",
       "      <td>{'ku': 'Arkeolojî', 'tg': 'Бостоншиносӣ', 'ro'...</td>\n",
       "      <td>Archaeology</td>\n",
       "      <td>896487747</td>\n",
       "      <td>692</td>\n",
       "      <td>[History and Society.History, History and Soci...</td>\n",
       "    </tr>\n",
       "    <tr>\n",
       "      <th>4</th>\n",
       "      <td>713.0</td>\n",
       "      <td>[WikiProject Robotics, WikiProject Science Fic...</td>\n",
       "      <td>917854604.0</td>\n",
       "      <td>Q181787</td>\n",
       "      <td>{'sv': 'Android', 'en': 'Android (robot)', 'ja...</td>\n",
       "      <td>Android (robot)</td>\n",
       "      <td>899920932</td>\n",
       "      <td>714</td>\n",
       "      <td>[Culture.Media.Entertainment, STEM.Technology,...</td>\n",
       "    </tr>\n",
       "  </tbody>\n",
       "</table>\n",
       "</div>"
      ],
      "text/plain": [
       "   article_pid                                       wp_templates  \\\n",
       "0   18951386.0  [WikiProject Objectivism, WikiProject Novels, ...   \n",
       "1        358.0  [WikiProject Africa, WikiProject Countries, Wi...   \n",
       "2       2482.0  [WikiProject France, WikiProject Architecture,...   \n",
       "3   18951655.0  [WikiProject Archaeology, WikiProject Anthropo...   \n",
       "4        713.0  [WikiProject Robotics, WikiProject Science Fic...   \n",
       "\n",
       "   article_revid      qid                                          sitelinks  \\\n",
       "0    926765055.0  Q374098  {'la': 'Atlas Shrugged', 'sv': 'Och världen sk...   \n",
       "1    928541225.0     Q262  {'crh': 'Cezair', 'ku': 'Cezayir', 'et': 'Alže...   \n",
       "2    924947879.0   Q64436  {'sv': 'Triumfbågen, Paris', 'en': 'Arc de Tri...   \n",
       "3    926027145.0   Q23498  {'ku': 'Arkeolojî', 'tg': 'Бостоншиносӣ', 'ro'...   \n",
       "4    917854604.0  Q181787  {'sv': 'Android', 'en': 'Android (robot)', 'ja...   \n",
       "\n",
       "             title  talk_revid  talk_pid  \\\n",
       "0   Atlas Shrugged   911346471       128   \n",
       "1          Algeria   927128572       354   \n",
       "2  Arc de Triomphe   921129575       672   \n",
       "3      Archaeology   896487747       692   \n",
       "4  Android (robot)   899920932       714   \n",
       "\n",
       "                                         taxo_labels  \n",
       "0  [Culture.Media.Books, History and Society.Poli...  \n",
       "1  [Geography.Geographical, History and Society.S...  \n",
       "2  [Culture.Visual arts.Visual arts*, Geography.G...  \n",
       "3  [History and Society.History, History and Soci...  \n",
       "4  [Culture.Media.Entertainment, STEM.Technology,...  "
      ]
     },
     "execution_count": 5,
     "metadata": {},
     "output_type": "execute_result"
    }
   ],
   "source": [
    "articles_df = pd.read_json('data/enwiki.labeled_article_items.json.bz2', compression='bz2', lines=True)\n",
    "print(articles_df.shape)\n",
    "articles_df.head(5)"
   ]
  },
  {
   "cell_type": "markdown",
   "metadata": {},
   "source": [
    "### 3. Merging dataframes\n",
    "Merging the dataframes we get categories (known as taxo_labels) for each image. After we are done, we group the dataframe by image_url and then aggregate it so that the images' taxo_labels are equal to a union of the taxo_labels of the articles that reference the images."
   ]
  },
  {
   "cell_type": "code",
   "execution_count": 6,
   "metadata": {},
   "outputs": [
    {
     "name": "stdout",
     "output_type": "stream",
     "text": [
      "(6279903, 5)\n"
     ]
    },
    {
     "data": {
      "text/html": [
       "<div>\n",
       "<style scoped>\n",
       "    .dataframe tbody tr th:only-of-type {\n",
       "        vertical-align: middle;\n",
       "    }\n",
       "\n",
       "    .dataframe tbody tr th {\n",
       "        vertical-align: top;\n",
       "    }\n",
       "\n",
       "    .dataframe thead th {\n",
       "        text-align: right;\n",
       "    }\n",
       "</style>\n",
       "<table border=\"1\" class=\"dataframe\">\n",
       "  <thead>\n",
       "    <tr style=\"text-align: right;\">\n",
       "      <th></th>\n",
       "      <th>page_url</th>\n",
       "      <th>image_url</th>\n",
       "      <th>page_title</th>\n",
       "      <th>title</th>\n",
       "      <th>taxo_labels</th>\n",
       "    </tr>\n",
       "  </thead>\n",
       "  <tbody>\n",
       "    <tr>\n",
       "      <th>0</th>\n",
       "      <td>https://en.wikipedia.org/wiki/Oxydactylus</td>\n",
       "      <td>https://upload.wikimedia.org/wikipedia/commons...</td>\n",
       "      <td>Oxydactylus</td>\n",
       "      <td>Oxydactylus</td>\n",
       "      <td>[STEM.Biology, STEM.STEM*, STEM.Earth and envi...</td>\n",
       "    </tr>\n",
       "    <tr>\n",
       "      <th>1</th>\n",
       "      <td>https://it.wikipedia.org/wiki/Oxydactylus</td>\n",
       "      <td>https://upload.wikimedia.org/wikipedia/commons...</td>\n",
       "      <td>Oxydactylus</td>\n",
       "      <td>Oxydactylus</td>\n",
       "      <td>[STEM.Biology, STEM.STEM*, STEM.Earth and envi...</td>\n",
       "    </tr>\n",
       "  </tbody>\n",
       "</table>\n",
       "</div>"
      ],
      "text/plain": [
       "                                    page_url  \\\n",
       "0  https://en.wikipedia.org/wiki/Oxydactylus   \n",
       "1  https://it.wikipedia.org/wiki/Oxydactylus   \n",
       "\n",
       "                                           image_url   page_title  \\\n",
       "0  https://upload.wikimedia.org/wikipedia/commons...  Oxydactylus   \n",
       "1  https://upload.wikimedia.org/wikipedia/commons...  Oxydactylus   \n",
       "\n",
       "         title                                        taxo_labels  \n",
       "0  Oxydactylus  [STEM.Biology, STEM.STEM*, STEM.Earth and envi...  \n",
       "1  Oxydactylus  [STEM.Biology, STEM.STEM*, STEM.Earth and envi...  "
      ]
     },
     "execution_count": 6,
     "metadata": {},
     "output_type": "execute_result"
    }
   ],
   "source": [
    "image_labels = images_df[['page_url', 'image_url', 'page_title']].merge(articles_df[['title', 'taxo_labels']], left_on=['page_title'], right_on=['title'])\n",
    "print(image_labels.shape)\n",
    "image_labels.head(2)"
   ]
  },
  {
   "cell_type": "code",
   "execution_count": 7,
   "metadata": {},
   "outputs": [
    {
     "data": {
      "text/html": [
       "<div>\n",
       "<style scoped>\n",
       "    .dataframe tbody tr th:only-of-type {\n",
       "        vertical-align: middle;\n",
       "    }\n",
       "\n",
       "    .dataframe tbody tr th {\n",
       "        vertical-align: top;\n",
       "    }\n",
       "\n",
       "    .dataframe thead th {\n",
       "        text-align: right;\n",
       "    }\n",
       "</style>\n",
       "<table border=\"1\" class=\"dataframe\">\n",
       "  <thead>\n",
       "    <tr style=\"text-align: right;\">\n",
       "      <th></th>\n",
       "      <th>image_url</th>\n",
       "      <th>page_url</th>\n",
       "      <th>page_title</th>\n",
       "      <th>title</th>\n",
       "      <th>taxo_labels</th>\n",
       "    </tr>\n",
       "  </thead>\n",
       "  <tbody>\n",
       "    <tr>\n",
       "      <th>0</th>\n",
       "      <td>http://upload.wikimedia.org/wikipedia/commons/...</td>\n",
       "      <td>[https://en.wikipedia.org/wiki/Chevrolet_Bisca...</td>\n",
       "      <td>[Chevrolet Biscayne]</td>\n",
       "      <td>[Chevrolet Biscayne]</td>\n",
       "      <td>[STEM.STEM*, History and Society.Transportatio...</td>\n",
       "    </tr>\n",
       "    <tr>\n",
       "      <th>1</th>\n",
       "      <td>http://upload.wikimedia.org/wikipedia/commons/...</td>\n",
       "      <td>[https://en.wikipedia.org/wiki/Dodge_Colt]</td>\n",
       "      <td>[Dodge Colt]</td>\n",
       "      <td>[Dodge Colt]</td>\n",
       "      <td>[STEM.STEM*, History and Society.Transportatio...</td>\n",
       "    </tr>\n",
       "    <tr>\n",
       "      <th>2</th>\n",
       "      <td>http://upload.wikimedia.org/wikipedia/commons/...</td>\n",
       "      <td>[https://lt.wikipedia.org/wiki/Pontiac_Grand_Am]</td>\n",
       "      <td>[Pontiac Grand Am]</td>\n",
       "      <td>[Pontiac Grand Am]</td>\n",
       "      <td>[STEM.STEM*, History and Society.Transportatio...</td>\n",
       "    </tr>\n",
       "    <tr>\n",
       "      <th>3</th>\n",
       "      <td>http://upload.wikimedia.org/wikipedia/commons/...</td>\n",
       "      <td>[https://en.wikipedia.org/wiki/%C3%89mile_Bayard]</td>\n",
       "      <td>[Émile Bayard]</td>\n",
       "      <td>[Émile Bayard]</td>\n",
       "      <td>[Geography.Regions.Europe.Europe*, Geography.R...</td>\n",
       "    </tr>\n",
       "    <tr>\n",
       "      <th>4</th>\n",
       "      <td>http://upload.wikimedia.org/wikipedia/commons/...</td>\n",
       "      <td>[https://en.wikipedia.org/wiki/March_1st_Movem...</td>\n",
       "      <td>[March 1st Movement]</td>\n",
       "      <td>[March 1st Movement]</td>\n",
       "      <td>[Geography.Regions.Asia.Asia*, Geography.Regio...</td>\n",
       "    </tr>\n",
       "    <tr>\n",
       "      <th>...</th>\n",
       "      <td>...</td>\n",
       "      <td>...</td>\n",
       "      <td>...</td>\n",
       "      <td>...</td>\n",
       "      <td>...</td>\n",
       "    </tr>\n",
       "    <tr>\n",
       "      <th>3527930</th>\n",
       "      <td>https://upload.wikimedia.org/wikipedia/vi/f/f9...</td>\n",
       "      <td>[https://vi.wikipedia.org/wiki/SMS_L%C3%BCtzow]</td>\n",
       "      <td>[SMS Lützow]</td>\n",
       "      <td>[SMS Lützow]</td>\n",
       "      <td>[History and Society.History, History and Soci...</td>\n",
       "    </tr>\n",
       "    <tr>\n",
       "      <th>3527931</th>\n",
       "      <td>https://upload.wikimedia.org/wikipedia/vi/f/fa...</td>\n",
       "      <td>[https://vi.wikipedia.org/wiki/Messerschmitt_M...</td>\n",
       "      <td>[Messerschmitt Me 262]</td>\n",
       "      <td>[Messerschmitt Me 262]</td>\n",
       "      <td>[STEM.Engineering, History and Society.Transpo...</td>\n",
       "    </tr>\n",
       "    <tr>\n",
       "      <th>3527932</th>\n",
       "      <td>https://upload.wikimedia.org/wikipedia/vi/f/fb...</td>\n",
       "      <td>[https://vi.wikipedia.org/wiki/John_Crawfurd]</td>\n",
       "      <td>[John Crawfurd]</td>\n",
       "      <td>[John Crawfurd]</td>\n",
       "      <td>[Geography.Regions.Europe.Northern Europe, Geo...</td>\n",
       "    </tr>\n",
       "    <tr>\n",
       "      <th>3527933</th>\n",
       "      <td>https://upload.wikimedia.org/wikipedia/vi/f/fb...</td>\n",
       "      <td>[https://vi.wikipedia.org/wiki/Mikoyan-Gurevic...</td>\n",
       "      <td>[Mikoyan-Gurevich MiG-17]</td>\n",
       "      <td>[Mikoyan-Gurevich MiG-17]</td>\n",
       "      <td>[Geography.Regions.Asia.Asia*, Geography.Regio...</td>\n",
       "    </tr>\n",
       "    <tr>\n",
       "      <th>3527934</th>\n",
       "      <td>https://upload.wikimedia.org/wikipedia/vi/f/fc...</td>\n",
       "      <td>[https://vi.wikipedia.org/wiki/Archelon]</td>\n",
       "      <td>[Archelon]</td>\n",
       "      <td>[Archelon]</td>\n",
       "      <td>[STEM.Biology, STEM.STEM*, STEM.Earth and envi...</td>\n",
       "    </tr>\n",
       "  </tbody>\n",
       "</table>\n",
       "<p>3527935 rows × 5 columns</p>\n",
       "</div>"
      ],
      "text/plain": [
       "                                                 image_url  \\\n",
       "0        http://upload.wikimedia.org/wikipedia/commons/...   \n",
       "1        http://upload.wikimedia.org/wikipedia/commons/...   \n",
       "2        http://upload.wikimedia.org/wikipedia/commons/...   \n",
       "3        http://upload.wikimedia.org/wikipedia/commons/...   \n",
       "4        http://upload.wikimedia.org/wikipedia/commons/...   \n",
       "...                                                    ...   \n",
       "3527930  https://upload.wikimedia.org/wikipedia/vi/f/f9...   \n",
       "3527931  https://upload.wikimedia.org/wikipedia/vi/f/fa...   \n",
       "3527932  https://upload.wikimedia.org/wikipedia/vi/f/fb...   \n",
       "3527933  https://upload.wikimedia.org/wikipedia/vi/f/fb...   \n",
       "3527934  https://upload.wikimedia.org/wikipedia/vi/f/fc...   \n",
       "\n",
       "                                                  page_url  \\\n",
       "0        [https://en.wikipedia.org/wiki/Chevrolet_Bisca...   \n",
       "1               [https://en.wikipedia.org/wiki/Dodge_Colt]   \n",
       "2         [https://lt.wikipedia.org/wiki/Pontiac_Grand_Am]   \n",
       "3        [https://en.wikipedia.org/wiki/%C3%89mile_Bayard]   \n",
       "4        [https://en.wikipedia.org/wiki/March_1st_Movem...   \n",
       "...                                                    ...   \n",
       "3527930    [https://vi.wikipedia.org/wiki/SMS_L%C3%BCtzow]   \n",
       "3527931  [https://vi.wikipedia.org/wiki/Messerschmitt_M...   \n",
       "3527932      [https://vi.wikipedia.org/wiki/John_Crawfurd]   \n",
       "3527933  [https://vi.wikipedia.org/wiki/Mikoyan-Gurevic...   \n",
       "3527934           [https://vi.wikipedia.org/wiki/Archelon]   \n",
       "\n",
       "                        page_title                      title  \\\n",
       "0             [Chevrolet Biscayne]       [Chevrolet Biscayne]   \n",
       "1                     [Dodge Colt]               [Dodge Colt]   \n",
       "2               [Pontiac Grand Am]         [Pontiac Grand Am]   \n",
       "3                   [Émile Bayard]             [Émile Bayard]   \n",
       "4             [March 1st Movement]       [March 1st Movement]   \n",
       "...                            ...                        ...   \n",
       "3527930               [SMS Lützow]               [SMS Lützow]   \n",
       "3527931     [Messerschmitt Me 262]     [Messerschmitt Me 262]   \n",
       "3527932            [John Crawfurd]            [John Crawfurd]   \n",
       "3527933  [Mikoyan-Gurevich MiG-17]  [Mikoyan-Gurevich MiG-17]   \n",
       "3527934                 [Archelon]                 [Archelon]   \n",
       "\n",
       "                                               taxo_labels  \n",
       "0        [STEM.STEM*, History and Society.Transportatio...  \n",
       "1        [STEM.STEM*, History and Society.Transportatio...  \n",
       "2        [STEM.STEM*, History and Society.Transportatio...  \n",
       "3        [Geography.Regions.Europe.Europe*, Geography.R...  \n",
       "4        [Geography.Regions.Asia.Asia*, Geography.Regio...  \n",
       "...                                                    ...  \n",
       "3527930  [History and Society.History, History and Soci...  \n",
       "3527931  [STEM.Engineering, History and Society.Transpo...  \n",
       "3527932  [Geography.Regions.Europe.Northern Europe, Geo...  \n",
       "3527933  [Geography.Regions.Asia.Asia*, Geography.Regio...  \n",
       "3527934  [STEM.Biology, STEM.STEM*, STEM.Earth and envi...  \n",
       "\n",
       "[3527935 rows x 5 columns]"
      ]
     },
     "execution_count": 7,
     "metadata": {},
     "output_type": "execute_result"
    }
   ],
   "source": [
    "grouped = image_labels.groupby('image_url').agg(lambda x: list(x)).reset_index() # https://stackoverflow.com/questions/34962104/how-can-i-use-the-apply-function-for-a-single-column & https://stackoverflow.com/questions/22219004/how-to-group-dataframe-rows-into-list-in-pandas-groupby\n",
    "grouped.taxo_labels = grouped.taxo_labels.apply(lambda x : x[0])\n",
    "grouped"
   ]
  },
  {
   "cell_type": "markdown",
   "metadata": {},
   "source": [
    "Finally, we have a dataset with 1 million image <-> taxo_label entries, save it!"
   ]
  },
  {
   "cell_type": "code",
   "execution_count": 8,
   "metadata": {},
   "outputs": [],
   "source": [
    "grouped.to_json('data/image_labels_segments_0_to_4.json.bz2', compression='bz2')"
   ]
  }
 ],
 "metadata": {
  "interpreter": {
   "hash": "b7f323a1c2c8b3d38dc94a01188981c510c9b5df10e2cc2d7fa4f2b45d318cbd"
  },
  "kernelspec": {
   "display_name": "Python 3.8.8 (conda)",
   "language": "python",
   "name": "python3"
  },
  "language_info": {
   "codemirror_mode": {
    "name": "ipython",
    "version": 3
   },
   "file_extension": ".py",
   "mimetype": "text/x-python",
   "name": "python",
   "nbconvert_exporter": "python",
   "pygments_lexer": "ipython3",
   "version": "3.8.8"
  },
  "orig_nbformat": 4
 },
 "nbformat": 4,
 "nbformat_minor": 2
}
