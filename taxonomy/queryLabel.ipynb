{
 "cells": [
  {
   "cell_type": "code",
   "execution_count": 1,
   "metadata": {},
   "outputs": [],
   "source": [
    "import numpy as np \n",
    "import pandas as pd\n",
    "import networkx as nx\n",
    "\n",
    "import logging, sys"
   ]
  },
  {
   "cell_type": "code",
   "execution_count": null,
   "metadata": {},
   "outputs": [],
   "source": [
    "# logging.basicConfig(stream=sys.stderr, level=logging.DEBUG)\n",
    "logging.basicConfig(filename='categories.log',\n",
    "                            filemode='a',\n",
    "                            format='%(asctime)s,%(msecs)d %(name)s %(levelname)s %(message)s',\n",
    "                            datefmt='%H:%M:%S',\n",
    "                            level=logging.DEBUG)\n",
    "\n",
    "logging.info(\"Label querying\")"
   ]
  },
  {
   "cell_type": "code",
   "execution_count": 2,
   "metadata": {},
   "outputs": [],
   "source": [
    "# Inputs\n",
    "CATEGORIES_PATH = '/scratch/WikipediaImagesTaxonomy/commonswiki-20220220-category-network.parquet'\n",
    "FILES_PATH = '/scratch/WikipediaImagesTaxonomy/commonswiki-20220220-files.parquet'"
   ]
  },
  {
   "cell_type": "code",
   "execution_count": 12,
   "metadata": {},
   "outputs": [],
   "source": [
    "class Taxonomy:\n",
    "    def __init__(self, G=None):\n",
    "        if(G):\n",
    "            self.G = G\n",
    "    \n",
    "    def build_category_graph(self, categories):\n",
    "        '''\n",
    "        Build the category graph, starting from the DataFrame extracted by processing dumps\n",
    "        '''\n",
    "        categories = categories.set_index('title')\n",
    "        # Build DiGraph from adjacency matrix\n",
    "        G = nx.DiGraph(categories.parents.to_dict())\n",
    "        nx.set_node_attributes(G, dict(zip(categories.index, categories[['id', 'hiddencat']].to_dict(orient='records'))))\n",
    "        self.G = G\n",
    "\n",
    "    def reset_labels(self):\n",
    "        '''\n",
    "        Reset labels and discovery status for each node.\n",
    "        '''\n",
    "        nx.set_node_attributes(self.G, {node: {'visited': False, 'labels': set()} for node in self.G.nodes})\n",
    "        self.visited_nodes = 0\n",
    "\n",
    "    def set_taxonomy(self, taxonomy):\n",
    "        '''\n",
    "        Set an ORES-like taxonomy, mapping labels to high-level categories.\n",
    "        '''\n",
    "        self.taxonomy = taxonomy\n",
    "        self.reset_labels()\n",
    "        for label, categories in taxonomy.items():\n",
    "            for category in categories:\n",
    "                self.visited_nodes += 1\n",
    "                self.G.nodes[category]['visited'] = True\n",
    "                self.G.nodes[category]['labels'].add(label)\n",
    "    \n",
    "    def get_label(self, category):\n",
    "        '''\n",
    "        Get the label corresponding to a specific category, passed as string\n",
    "        '''\n",
    "        assert isinstance(category, str)\n",
    "\n",
    "        if(self.G.nodes[category]['visited']):\n",
    "            logging.debug('Found ' + category + ' with label ' + str(self.G.nodes[category]['labels']))\n",
    "            return self.G.nodes[category]['labels']\n",
    "        \n",
    "        else:\n",
    "            self.G.nodes[category]['visited'] = True\n",
    "            self.visited_nodes += 1\n",
    "            logging.debug(str(self.visited_nodes) + ' - Searching for ' + category + '...')\n",
    "            for parent in self.G.neighbors(category):\n",
    "                self.G.nodes[category]['labels'].update(self.get_label(parent))\n",
    "            return self.G.nodes[category]['labels']"
   ]
  },
  {
   "cell_type": "code",
   "execution_count": 5,
   "metadata": {},
   "outputs": [
    {
     "data": {
      "text/html": [
       "<div>\n",
       "<style scoped>\n",
       "    .dataframe tbody tr th:only-of-type {\n",
       "        vertical-align: middle;\n",
       "    }\n",
       "\n",
       "    .dataframe tbody tr th {\n",
       "        vertical-align: top;\n",
       "    }\n",
       "\n",
       "    .dataframe thead th {\n",
       "        text-align: right;\n",
       "    }\n",
       "</style>\n",
       "<table border=\"1\" class=\"dataframe\">\n",
       "  <thead>\n",
       "    <tr style=\"text-align: right;\">\n",
       "      <th></th>\n",
       "      <th>id</th>\n",
       "      <th>title</th>\n",
       "      <th>parents</th>\n",
       "      <th>hiddencat</th>\n",
       "      <th>childs</th>\n",
       "    </tr>\n",
       "  </thead>\n",
       "  <tbody>\n",
       "    <tr>\n",
       "      <th>0</th>\n",
       "      <td>89434922</td>\n",
       "      <td>\"Azərişıq\" ASC</td>\n",
       "      <td>[Energy in Azerbaijan]</td>\n",
       "      <td>False</td>\n",
       "      <td>[Vugar Ahmadov, Ilham Aliyev attended opening ...</td>\n",
       "    </tr>\n",
       "    <tr>\n",
       "      <th>1</th>\n",
       "      <td>59340547</td>\n",
       "      <td>\"Flores de María\"</td>\n",
       "      <td>[Folk festivals in the Philippines, Flores de ...</td>\n",
       "      <td>False</td>\n",
       "      <td>[Dapit (May, 2017)]</td>\n",
       "    </tr>\n",
       "    <tr>\n",
       "      <th>2</th>\n",
       "      <td>29072664</td>\n",
       "      <td>'s-Gravenhof, Zutphen</td>\n",
       "      <td>[Streets in Zutphen]</td>\n",
       "      <td>False</td>\n",
       "      <td>[St Walburgis Church (Zutphen), Kuiperstraat 1...</td>\n",
       "    </tr>\n",
       "    <tr>\n",
       "      <th>3</th>\n",
       "      <td>2145396</td>\n",
       "      <td>'s-Heerenberg</td>\n",
       "      <td>[Montferland, Populated places in Gelderland, ...</td>\n",
       "      <td>False</td>\n",
       "      <td>[Patrick Beverloo, Rijksmonumenten in 's-Heere...</td>\n",
       "    </tr>\n",
       "    <tr>\n",
       "      <th>4</th>\n",
       "      <td>114888133</td>\n",
       "      <td>'s-Hertogenbosch in art</td>\n",
       "      <td>['s-Hertogenbosch, Cities in the Netherlands i...</td>\n",
       "      <td>False</td>\n",
       "      <td>[Old maps of 's-Hertogenbosch, Prints and draw...</td>\n",
       "    </tr>\n",
       "  </tbody>\n",
       "</table>\n",
       "</div>"
      ],
      "text/plain": [
       "          id                    title  \\\n",
       "0   89434922           \"Azərişıq\" ASC   \n",
       "1   59340547        \"Flores de María\"   \n",
       "2   29072664    's-Gravenhof, Zutphen   \n",
       "3    2145396            's-Heerenberg   \n",
       "4  114888133  's-Hertogenbosch in art   \n",
       "\n",
       "                                             parents  hiddencat  \\\n",
       "0                             [Energy in Azerbaijan]      False   \n",
       "1  [Folk festivals in the Philippines, Flores de ...      False   \n",
       "2                               [Streets in Zutphen]      False   \n",
       "3  [Montferland, Populated places in Gelderland, ...      False   \n",
       "4  ['s-Hertogenbosch, Cities in the Netherlands i...      False   \n",
       "\n",
       "                                              childs  \n",
       "0  [Vugar Ahmadov, Ilham Aliyev attended opening ...  \n",
       "1                                [Dapit (May, 2017)]  \n",
       "2  [St Walburgis Church (Zutphen), Kuiperstraat 1...  \n",
       "3  [Patrick Beverloo, Rijksmonumenten in 's-Heere...  \n",
       "4  [Old maps of 's-Hertogenbosch, Prints and draw...  "
      ]
     },
     "execution_count": 5,
     "metadata": {},
     "output_type": "execute_result"
    }
   ],
   "source": [
    "categories = pd.read_parquet(CATEGORIES_PATH)\n",
    "categories.head()"
   ]
  },
  {
   "cell_type": "code",
   "execution_count": 6,
   "metadata": {},
   "outputs": [
    {
     "data": {
      "text/plain": [
       "(4048538, 5)"
      ]
     },
     "execution_count": 6,
     "metadata": {},
     "output_type": "execute_result"
    }
   ],
   "source": [
    "categories.shape"
   ]
  },
  {
   "cell_type": "code",
   "execution_count": 13,
   "metadata": {},
   "outputs": [],
   "source": [
    "taxonomy = Taxonomy()\n",
    "taxonomy.build_category_graph(categories)"
   ]
  },
  {
   "cell_type": "code",
   "execution_count": 14,
   "metadata": {},
   "outputs": [
    {
     "name": "stderr",
     "output_type": "stream",
     "text": [
      "/tmp/ipykernel_1867622/2646944930.py:1: DeprecationWarning: info is deprecated and will be removed in version 3.0.\n",
      "\n",
      "  nx.info(taxonomy.G)\n"
     ]
    },
    {
     "data": {
      "text/plain": [
       "'DiGraph with 4097584 nodes and 9923900 edges'"
      ]
     },
     "execution_count": 14,
     "metadata": {},
     "output_type": "execute_result"
    }
   ],
   "source": [
    "nx.info(taxonomy.G)"
   ]
  },
  {
   "cell_type": "code",
   "execution_count": 15,
   "metadata": {},
   "outputs": [],
   "source": [
    "content_dict = {'Nature': ['Animalia', 'Fossils', 'Landscapes', 'Marine organisms', 'Plantae', 'Weather'],\n",
    "                'Society/Culture': ['Art', 'Belief', 'Entertainment', 'Events', 'Flags', 'Food', 'History', 'Language', 'Literature', 'Music', 'Objects', 'People', 'Places', 'Politics', 'Sports'],\n",
    "                'Science': ['Astronomy', 'Biology', 'Chemistry', 'Earth sciences', 'Mathematics', 'Medicine', 'Physics', 'Technology'],\n",
    "                'Engineering': ['Architecture', 'Chemical engineering', 'Civil engineering', 'Electrical engineering', 'Environmental engineering', 'Geophysical engineering', 'Mechanical engineering', 'Process engineering']}"
   ]
  },
  {
   "cell_type": "code",
   "execution_count": 16,
   "metadata": {},
   "outputs": [],
   "source": [
    "taxonomy.set_taxonomy(content_dict)"
   ]
  },
  {
   "cell_type": "code",
   "execution_count": null,
   "metadata": {},
   "outputs": [],
   "source": [
    "taxonomy.get_label('Stellar astronomy')"
   ]
  },
  {
   "cell_type": "code",
   "execution_count": null,
   "metadata": {},
   "outputs": [],
   "source": [
    "taxonomy.get_label('Astronomy by city')"
   ]
  },
  {
   "cell_type": "markdown",
   "metadata": {},
   "source": []
  }
 ],
 "metadata": {
  "interpreter": {
   "hash": "04bf3c03e93e0e94a1d038aa36107c2a70cb015ab0da2208309d202be833925b"
  },
  "kernelspec": {
   "display_name": "Python 3.9.7 ('francesco': conda)",
   "language": "python",
   "name": "python3"
  },
  "language_info": {
   "codemirror_mode": {
    "name": "ipython",
    "version": 3
   },
   "file_extension": ".py",
   "mimetype": "text/x-python",
   "name": "python",
   "nbconvert_exporter": "python",
   "pygments_lexer": "ipython3",
   "version": "3.9.7"
  },
  "orig_nbformat": 4
 },
 "nbformat": 4,
 "nbformat_minor": 2
}
