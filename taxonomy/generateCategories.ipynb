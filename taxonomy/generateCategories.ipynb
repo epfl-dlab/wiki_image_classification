{
 "cells": [
  {
   "cell_type": "code",
   "execution_count": 1,
   "id": "76c4818f-bded-4947-87c0-960bfe19575b",
   "metadata": {},
   "outputs": [],
   "source": [
    "import pyspark\n",
    "from pyspark.sql import *\n",
    "from pyspark.sql.functions import *\n",
    "import numpy as np \n",
    "import pandas as pd\n",
    "\n",
    "conf = pyspark.SparkConf().setMaster(\"local[4]\").setAll([\n",
    "                                   ('spark.jars.packages', 'com.databricks:spark-xml_2.12:0.8.0'),\n",
    "                                   ('spark.executor.memory', '4g'),\n",
    "                                   ('spark.driver.memory','2g'),\n",
    "                                   ('spark.driver.maxResultSize', '5G'),\n",
    "                                   ('spark.executor.heartbeatInterval', '3600s'),\n",
    "                                   ('spark.network.timeout', '4000s')\n",
    "                                  ])\n",
    "# create the session\n",
    "spark = SparkSession.builder.config(conf=conf).getOrCreate()\n",
    "\n",
    "# create the context\n",
    "sc = spark.sparkContext"
   ]
  },
  {
   "cell_type": "code",
   "execution_count": 2,
   "id": "b3decbae-9d5d-44e5-8c4c-2f145f01b90e",
   "metadata": {},
   "outputs": [
    {
     "data": {
      "text/html": [
       "\n",
       "            <div>\n",
       "                <p><b>SparkSession - in-memory</b></p>\n",
       "                \n",
       "        <div>\n",
       "            <p><b>SparkContext</b></p>\n",
       "\n",
       "            <p><a href=\"http://128.179.158.157:4040\">Spark UI</a></p>\n",
       "\n",
       "            <dl>\n",
       "              <dt>Version</dt>\n",
       "                <dd><code>v3.2.0</code></dd>\n",
       "              <dt>Master</dt>\n",
       "                <dd><code>local[4]</code></dd>\n",
       "              <dt>AppName</dt>\n",
       "                <dd><code>pyspark-shell</code></dd>\n",
       "            </dl>\n",
       "        </div>\n",
       "        \n",
       "            </div>\n",
       "        "
      ],
      "text/plain": [
       "<pyspark.sql.session.SparkSession at 0x21796c32700>"
      ]
     },
     "execution_count": 2,
     "metadata": {},
     "output_type": "execute_result"
    }
   ],
   "source": [
    "spark"
   ]
  },
  {
   "cell_type": "code",
   "execution_count": 3,
   "id": "e703d84c-8ad2-41cc-b56b-878e156247b9",
   "metadata": {},
   "outputs": [],
   "source": [
    "COMMONS_DUMP_REDUCED = 'commonswiki-20220220-pages-articles-multistream1.xml-p1p1500000.bz2'"
   ]
  },
  {
   "cell_type": "code",
   "execution_count": 4,
   "id": "7194190e-fb37-41ac-b76f-7f9b0fc29fdd",
   "metadata": {},
   "outputs": [],
   "source": [
    "commons_categories_raw = spark.read.format('com.databricks.spark.xml') \\\n",
    "                                .options(rowTag='page').load(COMMONS_DUMP_REDUCED).filter(\"ns = '14'\")"
   ]
  },
  {
   "cell_type": "code",
   "execution_count": 5,
   "id": "b404d1e2-de8b-4aff-92e4-da006ea15a87",
   "metadata": {},
   "outputs": [
    {
     "name": "stdout",
     "output_type": "stream",
     "text": [
      "root\n",
      " |-- id: long (nullable = true)\n",
      " |-- ns: long (nullable = true)\n",
      " |-- redirect: struct (nullable = true)\n",
      " |    |-- _VALUE: string (nullable = true)\n",
      " |    |-- _title: string (nullable = true)\n",
      " |-- revision: struct (nullable = true)\n",
      " |    |-- comment: struct (nullable = true)\n",
      " |    |    |-- _VALUE: string (nullable = true)\n",
      " |    |    |-- _deleted: string (nullable = true)\n",
      " |    |-- contributor: struct (nullable = true)\n",
      " |    |    |-- id: long (nullable = true)\n",
      " |    |    |-- ip: string (nullable = true)\n",
      " |    |    |-- username: string (nullable = true)\n",
      " |    |-- format: string (nullable = true)\n",
      " |    |-- id: long (nullable = true)\n",
      " |    |-- minor: string (nullable = true)\n",
      " |    |-- model: string (nullable = true)\n",
      " |    |-- parentid: long (nullable = true)\n",
      " |    |-- sha1: string (nullable = true)\n",
      " |    |-- text: struct (nullable = true)\n",
      " |    |    |-- _VALUE: string (nullable = true)\n",
      " |    |    |-- _bytes: long (nullable = true)\n",
      " |    |    |-- _xml:space: string (nullable = true)\n",
      " |    |-- timestamp: string (nullable = true)\n",
      " |-- title: string (nullable = true)\n",
      "\n"
     ]
    }
   ],
   "source": [
    "commons_categories_raw.printSchema()"
   ]
  },
  {
   "cell_type": "code",
   "execution_count": 6,
   "id": "87add3bb-e579-4b33-9088-a5509ddbae5f",
   "metadata": {},
   "outputs": [],
   "source": [
    "import urllib"
   ]
  },
  {
   "cell_type": "code",
   "execution_count": 7,
   "id": "bcb88d1b-3633-45c2-8b12-003f27ae5418",
   "metadata": {},
   "outputs": [],
   "source": [
    "# Adapted from https://github.com/epfl-dlab/WikiPDA/blob/master/PaperAndCode/TopicsExtractionPipeline/GenerateDataframes.py\n",
    "def normalize_title(title):\n",
    "    \"\"\" Replace _ with space, remove anchor and namespace prefix, capitalize \"\"\"\n",
    "    title = urllib.parse.unquote(title)\n",
    "    title = title.split(':')[1]\n",
    "    title = title.strip()\n",
    "    if len(title) > 0:\n",
    "        title = title[0].upper() + title[1:]\n",
    "    n_title = title.replace(\"_\", \" \")\n",
    "    if '#' in n_title:\n",
    "        n_title = n_title.split('#')[0]\n",
    "    return n_title"
   ]
  },
  {
   "cell_type": "code",
   "execution_count": 9,
   "id": "a91a28ca-faa4-46cc-8ee4-3e8532e4abe3",
   "metadata": {},
   "outputs": [],
   "source": [
    "from collections import defaultdict"
   ]
  },
  {
   "cell_type": "code",
   "execution_count": 10,
   "id": "55b6d41d-d11d-4ff8-ad2c-ba7f2c431073",
   "metadata": {},
   "outputs": [],
   "source": [
    "from pyspark.accumulators import AccumulatorParam\n",
    "class ParentsAccumulator(AccumulatorParam):\n",
    "    def zero(self, value):\n",
    "        return defaultdict(list)\n",
    "\n",
    "    def addInPlace(self, val1, val2):\n",
    "        for key, value in val2.items():\n",
    "            val1[key] += value\n",
    "        return val1"
   ]
  },
  {
   "cell_type": "code",
   "execution_count": 8,
   "id": "18fedf60-5a16-4114-82f6-19a760646f89",
   "metadata": {},
   "outputs": [],
   "source": [
    "import re"
   ]
  },
  {
   "cell_type": "code",
   "execution_count": 11,
   "id": "57f5b9ed-8f71-4725-86fb-39a5745d1072",
   "metadata": {},
   "outputs": [],
   "source": [
    "categories_regex = re.compile('\\[\\[Category:([^\\|]*?)(?:\\|.*?)*\\]\\]')\n",
    "hiddencat_regex = re.compile('__HIDDENCAT__')"
   ]
  },
  {
   "cell_type": "code",
   "execution_count": 12,
   "id": "03bf2dad-11f8-4400-8304-7d767b297193",
   "metadata": {},
   "outputs": [],
   "source": [
    "acc = sc.accumulator(defaultdict(list), ParentsAccumulator())\n",
    "\n",
    "def extract_category(row):\n",
    "    \"\"\" Extract the details of a category \"\"\"\n",
    "    title=normalize_title(row.title)\n",
    "    text=row.revision.text._VALUE\n",
    "    parents=re.findall(categories_regex, text) if text else []\n",
    "    global acc\n",
    "    if parents:\n",
    "        acc += {parent: [title] for parent in parents}\n",
    "    return Row(\n",
    "        id=row.id,\n",
    "        title=title,\n",
    "        redirect=row.redirect._title if row.redirect is not None else None,\n",
    "        parents=parents,\n",
    "        hiddencat=re.search(hiddencat_regex, text) is not None if text else False\n",
    "    )"
   ]
  },
  {
   "cell_type": "code",
   "execution_count": 13,
   "id": "562fa86b-1ed3-4d36-84cc-76d3d16a79b8",
   "metadata": {},
   "outputs": [],
   "source": [
    "from pyspark.sql.types import StructType, StructField, StringType, IntegerType, BooleanType, ArrayType\n",
    "\n",
    "schema = StructType([StructField(\"id\", IntegerType(), True),\n",
    "                     StructField(\"title\", StringType(), True),\n",
    "                     StructField(\"redirect\", StringType(), True),\n",
    "                     StructField(\"parents\", ArrayType(StringType()), True),\n",
    "                     StructField(\"hiddencat\", BooleanType(), True)])"
   ]
  },
  {
   "cell_type": "code",
   "execution_count": 14,
   "id": "fd88f17e-9c3a-432a-bd73-8e10848623e4",
   "metadata": {},
   "outputs": [],
   "source": [
    "commons_categories = spark.createDataFrame(commons_categories_raw.rdd.map(extract_category).filter(lambda r: r is not None), schema=schema)"
   ]
  },
  {
   "cell_type": "code",
   "execution_count": 35,
   "id": "0b54405a-86cc-4617-a770-75987e4f0415",
   "metadata": {},
   "outputs": [],
   "source": [
    "parents = spark.createDataFrame(acc.value.items(), ['title', 'childs'])"
   ]
  },
  {
   "cell_type": "code",
   "execution_count": 37,
   "id": "1291a1a4-a05f-4480-b23a-24971a5f82a6",
   "metadata": {},
   "outputs": [],
   "source": [
    "categories = commons_categories.alias('c').join(parents, commons_categories.title==parents.title).select('c.*', 'childs')"
   ]
  },
  {
   "cell_type": "code",
   "execution_count": 39,
   "id": "6d881abd-86c6-4fe8-9cab-65a18d027466",
   "metadata": {},
   "outputs": [
    {
     "name": "stdout",
     "output_type": "stream",
     "text": [
      "+-------+--------------------+--------+--------------------+---------+--------------------+\n",
      "|     id|               title|redirect|             parents|hiddencat|              childs|\n",
      "+-------+--------------------+--------+--------------------+---------+--------------------+\n",
      "|  27767|        10th century|    null|[Centuries, 1st m...|    false|[Maps showing 10t...|\n",
      "| 759228|         1215 births|    null|                  []|    false|     [Nicola Pisano]|\n",
      "|1275954|         1267 births|    null|                  []|    false| [Giotto di Bondone]|\n",
      "| 764453|12th dynasty of E...|    null|[Egyptian Middle ...|    false|     [Amenemhat III]|\n",
      "| 775578|             13 June|    null|                  []|    false|[Saint Anthony of...|\n",
      "| 775874|          13 October|    null|                  []|    false|[Edward the Confe...|\n",
      "|1430116|      1397 paintings|    null|                  []|    false|    [Kyivan Psalter]|\n",
      "|1340410|             14 July|    null|                  []|    false|[Fête de la Fédér...|\n",
      "|1063635|         1400 births|    null|                  []|    false|[Domenico Venezia...|\n",
      "|1217321|         1401 births|    null|                  []|    false|     [Jacques Daret]|\n",
      "|1036918|               1410s|    null|                  []|    false|[Council of Const...|\n",
      "|1217330|         1430 births|    null|                  []|    false|[Michael Pacher, ...|\n",
      "|1033348|         1440 births|    null|                  []|    false|         [Dionisius]|\n",
      "|1217312|         1444 births|    null|                  []|    false|   [Donato Bramante]|\n",
      "|1217315|         1446 deaths|    null|                  []|    false|[Filippo Brunelle...|\n",
      "|1067758|         1459 births|    null|                  []|    false|  [Lorenzo di Credi]|\n",
      "|1217293|         1462 births|    null|                  []|    false|   [Caterina Sforza]|\n",
      "|1217220|         1483 births|    null|                  []|    false|      [Franciabigio]|\n",
      "|1028759|         1484 deaths|    null|                  []|    false|[Antonio Vivarini...|\n",
      "|1217205|         1494 deaths|    null|                  []|    false|    [Carlo Crivelli]|\n",
      "+-------+--------------------+--------+--------------------+---------+--------------------+\n",
      "only showing top 20 rows\n",
      "\n"
     ]
    }
   ],
   "source": [
    "categories.show()"
   ]
  }
 ],
 "metadata": {
  "kernelspec": {
   "display_name": "Python [conda env:ada] *",
   "language": "python",
   "name": "conda-env-ada-py"
  },
  "language_info": {
   "codemirror_mode": {
    "name": "ipython",
    "version": 3
   },
   "file_extension": ".py",
   "mimetype": "text/x-python",
   "name": "python",
   "nbconvert_exporter": "python",
   "pygments_lexer": "ipython3",
   "version": "3.8.11"
  }
 },
 "nbformat": 4,
 "nbformat_minor": 5
}
