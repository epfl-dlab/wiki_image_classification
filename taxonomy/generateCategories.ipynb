{
 "cells": [
  {
   "cell_type": "markdown",
   "id": "be6877c6",
   "metadata": {},
   "source": [
    "## Imports"
   ]
  },
  {
   "cell_type": "code",
   "execution_count": 2,
   "id": "76c4818f-bded-4947-87c0-960bfe19575b",
   "metadata": {},
   "outputs": [
    {
     "name": "stderr",
     "output_type": "stream",
     "text": [
      "22/04/24 20:40:29 WARN Utils: Your hostname, iccluster039 resolves to a loopback address: 127.0.1.1; using 10.90.38.15 instead (on interface ens786f0)\n",
      "22/04/24 20:40:29 WARN Utils: Set SPARK_LOCAL_IP if you need to bind to another address\n",
      "WARNING: An illegal reflective access operation has occurred\n",
      "WARNING: Illegal reflective access by org.apache.spark.unsafe.Platform (file:/home/salvi/.conda/envs/francesco/lib/python3.9/site-packages/pyspark/jars/spark-unsafe_2.12-3.2.1.jar) to constructor java.nio.DirectByteBuffer(long,int)\n",
      "WARNING: Please consider reporting this to the maintainers of org.apache.spark.unsafe.Platform\n",
      "WARNING: Use --illegal-access=warn to enable warnings of further illegal reflective access operations\n",
      "WARNING: All illegal access operations will be denied in a future release\n"
     ]
    },
    {
     "name": "stdout",
     "output_type": "stream",
     "text": [
      ":: loading settings :: url = jar:file:/home/salvi/.conda/envs/francesco/lib/python3.9/site-packages/pyspark/jars/ivy-2.5.0.jar!/org/apache/ivy/core/settings/ivysettings.xml\n"
     ]
    },
    {
     "name": "stderr",
     "output_type": "stream",
     "text": [
      "Ivy Default Cache set to: /home/salvi/.ivy2/cache\n",
      "The jars for the packages stored in: /home/salvi/.ivy2/jars\n",
      "com.databricks#spark-xml_2.12 added as a dependency\n",
      ":: resolving dependencies :: org.apache.spark#spark-submit-parent-8adc8c95-9f23-4f56-b71c-97e66dd4d6a2;1.0\n",
      "\tconfs: [default]\n",
      "\tfound com.databricks#spark-xml_2.12;0.8.0 in central\n",
      "\tfound commons-io#commons-io;2.6 in central\n",
      "\tfound org.glassfish.jaxb#txw2;2.3.2 in central\n",
      ":: resolution report :: resolve 278ms :: artifacts dl 19ms\n",
      "\t:: modules in use:\n",
      "\tcom.databricks#spark-xml_2.12;0.8.0 from central in [default]\n",
      "\tcommons-io#commons-io;2.6 from central in [default]\n",
      "\torg.glassfish.jaxb#txw2;2.3.2 from central in [default]\n",
      "\t---------------------------------------------------------------------\n",
      "\t|                  |            modules            ||   artifacts   |\n",
      "\t|       conf       | number| search|dwnlded|evicted|| number|dwnlded|\n",
      "\t---------------------------------------------------------------------\n",
      "\t|      default     |   3   |   0   |   0   |   0   ||   3   |   0   |\n",
      "\t---------------------------------------------------------------------\n",
      ":: retrieving :: org.apache.spark#spark-submit-parent-8adc8c95-9f23-4f56-b71c-97e66dd4d6a2\n",
      "\tconfs: [default]\n",
      "\t0 artifacts copied, 3 already retrieved (0kB/9ms)\n",
      "22/04/24 20:40:31 WARN NativeCodeLoader: Unable to load native-hadoop library for your platform... using builtin-java classes where applicable\n",
      "Using Spark's default log4j profile: org/apache/spark/log4j-defaults.properties\n",
      "Setting default log level to \"WARN\".\n",
      "To adjust logging level use sc.setLogLevel(newLevel). For SparkR, use setLogLevel(newLevel).\n"
     ]
    }
   ],
   "source": [
    "import numpy as np \n",
    "import pandas as pd\n",
    "import urllib\n",
    "import re\n",
    "from collections import defaultdict\n",
    "\n",
    "import os\n",
    "import shutil\n",
    "\n",
    "import wikitextprocessor as wtp\n",
    "\n",
    "import pyspark\n",
    "from pyspark.sql import *\n",
    "from pyspark.sql.functions import *\n",
    "from pyspark.sql.types import StructType, StructField, StringType, IntegerType, BooleanType, ArrayType\n",
    "from pyspark.accumulators import AccumulatorParam\n",
    "\n",
    "conf = pyspark.SparkConf().setMaster(\"local[10]\").setAll([\n",
    "                                   ('spark.jars.packages', 'com.databricks:spark-xml_2.12:0.8.0'),\n",
    "                                   ('spark.executor.memory', '4g'),\n",
    "                                   ('spark.driver.memory','5g'),\n",
    "                                   ('spark.driver.maxResultSize', '20G'),\n",
    "                                   ('spark.executor.heartbeatInterval', '60s'),\n",
    "                                   ('spark.network.timeout', '61s')\n",
    "                                  ])\n",
    "# create the session\n",
    "spark = SparkSession.builder.config(conf=conf).getOrCreate()\n",
    "\n",
    "# create the context\n",
    "sc = spark.sparkContext"
   ]
  },
  {
   "cell_type": "code",
   "execution_count": 2,
   "id": "5cb00d2f",
   "metadata": {},
   "outputs": [],
   "source": [
    "# sc.setLogLevel('DEBUG')"
   ]
  },
  {
   "cell_type": "code",
   "execution_count": 3,
   "id": "b3decbae-9d5d-44e5-8c4c-2f145f01b90e",
   "metadata": {},
   "outputs": [
    {
     "data": {
      "text/html": [
       "\n",
       "            <div>\n",
       "                <p><b>SparkSession - in-memory</b></p>\n",
       "                \n",
       "        <div>\n",
       "            <p><b>SparkContext</b></p>\n",
       "\n",
       "            <p><a href=\"http://10.90.38.15:4043\">Spark UI</a></p>\n",
       "\n",
       "            <dl>\n",
       "              <dt>Version</dt>\n",
       "                <dd><code>v3.2.1</code></dd>\n",
       "              <dt>Master</dt>\n",
       "                <dd><code>local[10]</code></dd>\n",
       "              <dt>AppName</dt>\n",
       "                <dd><code>pyspark-shell</code></dd>\n",
       "            </dl>\n",
       "        </div>\n",
       "        \n",
       "            </div>\n",
       "        "
      ],
      "text/plain": [
       "<pyspark.sql.session.SparkSession at 0x7f33aeca2c10>"
      ]
     },
     "execution_count": 3,
     "metadata": {},
     "output_type": "execute_result"
    }
   ],
   "source": [
    "spark"
   ]
  },
  {
   "cell_type": "code",
   "execution_count": 4,
   "id": "e703d84c-8ad2-41cc-b56b-878e156247b9",
   "metadata": {},
   "outputs": [],
   "source": [
    "# Inputs\n",
    "\n",
    "COMMONS_DUMP = '/scratch/WikipediaImagesTaxonomy/commonswiki-20220220-pages-articles-multistream.xml.bz2'\n",
    "CATEGORIES_DUMP = '/scratch/WikipediaImagesTaxonomy/commonswiki-20220220-categories-multistream.xml.bz2'\n",
    "# COMMONS_DUMP_REDUCED = '../../commonswiki-20220220-pages-articles-multistream1.xml-p1p1500000.bz2'\n",
    "# COMMONS_DUMP_REDUCED = '../../commonswiki-20220220-pages-articles-multistream6.xml-p114543930p115400363.bz2'\n",
    "\n",
    "# list of chunks of the WIT dataset\n",
    "WIT_DATASET = ['../../wit_v1.train.all-1percent_sample.tsv.gz']\n",
    "\n",
    "# Outputs (ideally in scratch/, but I don't have permissions)\n",
    "CATEGORIES_PATH = '/scratch/WikipediaImagesTaxonomy/commonswiki-20220220-category-network.parquet'\n",
    "FILES_PATH = '/scratch/WikipediaImagesTaxonomy/commonswiki-20220220-files.parquet'"
   ]
  },
  {
   "cell_type": "code",
   "execution_count": 5,
   "id": "bcb88d1b-3633-45c2-8b12-003f27ae5418",
   "metadata": {},
   "outputs": [],
   "source": [
    "# Adapted from https://github.com/epfl-dlab/WikiPDA/blob/master/PaperAndCode/TopicsExtractionPipeline/GenerateDataframes.py\n",
    "def normalize_title(title, dumps=True):\n",
    "    \"\"\" Replace _ with space, remove anchor and namespace prefix, capitalize \"\"\"\n",
    "    title = urllib.parse.unquote(title)\n",
    "    if(dumps):\n",
    "        title = title.split(':', 1)[1]\n",
    "    title = title.strip()\n",
    "    if len(title) > 0:\n",
    "        title = title[0].upper() + title[1:]\n",
    "    n_title = title.replace(\"_\", \" \")\n",
    "    if '#' in n_title:\n",
    "        n_title = n_title.split('#')[0]\n",
    "    return n_title"
   ]
  },
  {
   "cell_type": "markdown",
   "id": "1ff9e356-a201-4e56-af32-15d5908a6e40",
   "metadata": {},
   "source": [
    "## Categories"
   ]
  },
  {
   "cell_type": "code",
   "execution_count": 6,
   "id": "5ba4845f-bf35-4e09-9408-400b9e571eb6",
   "metadata": {},
   "outputs": [
    {
     "name": "stderr",
     "output_type": "stream",
     "text": [
      "                                                                                \r"
     ]
    }
   ],
   "source": [
    "commons_categories_raw = spark.read.format('com.databricks.spark.xml') \\\n",
    "                                .options(rowTag='page').load(COMMONS_DUMP).filter(\"ns = '14'\")\n",
    "# commons_categories_raw.persist()"
   ]
  },
  {
   "cell_type": "code",
   "execution_count": 7,
   "id": "b404d1e2-de8b-4aff-92e4-da006ea15a87",
   "metadata": {},
   "outputs": [
    {
     "name": "stdout",
     "output_type": "stream",
     "text": [
      "root\n",
      " |-- id: long (nullable = true)\n",
      " |-- ns: long (nullable = true)\n",
      " |-- redirect: struct (nullable = true)\n",
      " |    |-- _VALUE: string (nullable = true)\n",
      " |    |-- _title: string (nullable = true)\n",
      " |-- revision: struct (nullable = true)\n",
      " |    |-- comment: struct (nullable = true)\n",
      " |    |    |-- _VALUE: string (nullable = true)\n",
      " |    |    |-- _deleted: string (nullable = true)\n",
      " |    |-- contributor: struct (nullable = true)\n",
      " |    |    |-- _VALUE: string (nullable = true)\n",
      " |    |    |-- _deleted: string (nullable = true)\n",
      " |    |    |-- id: long (nullable = true)\n",
      " |    |    |-- ip: string (nullable = true)\n",
      " |    |    |-- username: string (nullable = true)\n",
      " |    |-- format: string (nullable = true)\n",
      " |    |-- id: long (nullable = true)\n",
      " |    |-- minor: string (nullable = true)\n",
      " |    |-- model: string (nullable = true)\n",
      " |    |-- parentid: long (nullable = true)\n",
      " |    |-- sha1: string (nullable = true)\n",
      " |    |-- text: struct (nullable = true)\n",
      " |    |    |-- _VALUE: string (nullable = true)\n",
      " |    |    |-- _bytes: long (nullable = true)\n",
      " |    |    |-- _xml:space: string (nullable = true)\n",
      " |    |-- timestamp: string (nullable = true)\n",
      " |-- title: string (nullable = true)\n",
      "\n"
     ]
    }
   ],
   "source": [
    "commons_categories_raw.printSchema()"
   ]
  },
  {
   "cell_type": "code",
   "execution_count": 10,
   "id": "91f5c8bf",
   "metadata": {},
   "outputs": [
    {
     "name": "stderr",
     "output_type": "stream",
     "text": [
      "                                                                                \r"
     ]
    }
   ],
   "source": [
    "commons_categories_raw.write.mode(\"overwrite\").parquet(CATEGORIES_DUMP)"
   ]
  },
  {
   "cell_type": "code",
   "execution_count": 27,
   "id": "46d117ea",
   "metadata": {},
   "outputs": [],
   "source": [
    "commons_categories_raw = spark.read.parquet(CATEGORIES_DUMP)"
   ]
  },
  {
   "cell_type": "code",
   "execution_count": 28,
   "id": "4e7fac7b",
   "metadata": {},
   "outputs": [
    {
     "name": "stderr",
     "output_type": "stream",
     "text": [
      "                                                                                \r"
     ]
    },
    {
     "data": {
      "text/plain": [
       "{'Arthur D. Little Building': 'Arthur D. Little Building (MIT Building E60)',\n",
       " 'Harry K. Thaw': 'Harry Kendall Thaw',\n",
       " 'Arnold Brunner': 'Arnold W. Brunner',\n",
       " 'The Netherlands': 'Netherlands',\n",
       " 'New York State Education Department Building': 'New York State Education Building',\n",
       " \"Old Saint Mary's Cathedral\": \"Old St. Mary's Cathedral\",\n",
       " 'SPEEDY': 'Candidates for speedy deletion',\n",
       " 'Institute of Contemporary Art Boston': 'Institute of Contemporary Art, Boston',\n",
       " 'Jean Paul Sartre': 'Jean-Paul Sartre',\n",
       " 'RENAME': 'Media requiring renaming',\n",
       " 'Greek Orthodox Cathedral of the Annunciation (Boston)': 'Annunciation Greek Orthodox Cathedral of New England',\n",
       " 'Dornier Delphin': 'Dornier Do L Delphin',\n",
       " 'Elastane': 'Spandex',\n",
       " 'Clothing in Elastane': 'Spandex clothing',\n",
       " 'Images by Beyond My Ken/': 'Images by Beyond My Ken',\n",
       " 'Earl Hall at Columbia University': 'Earl Hall (Columbia University)',\n",
       " 'Hamilton Hall': 'Hamilton Hall (Columbia University)',\n",
       " 'Alumni of the Hunter College': 'Alumni of Hunter College',\n",
       " 'Tunnels of Prague Metro': 'Prague Metro tunnels',\n",
       " 'New York City Carl Schurz memorial by Karl Bitter': 'Carl Schurz Monument (Morningside Park)',\n",
       " 'Macondray Lane': 'Macondray Lane (San Francisco)',\n",
       " 'Ramath Orah': 'Congregation Ramath Orah',\n",
       " 'Church of St. Luke in the Fields, Greenwich Village': 'Church of St. Luke in the Fields',\n",
       " 'Meseritz Synagogue': 'Meserich Synagogue',\n",
       " 'Tunel Blanka': 'Blanka (tunnel)',\n",
       " 'HMS': 'Media requiring a split up',\n",
       " 'Road transport by country by city': 'Road transport by city by country',\n",
       " 'Roadblock barriers': 'Road blocking barriers',\n",
       " 'The Bahamas': 'Bahamas',\n",
       " 'Sansome Street, San Francisco': 'Sansome Street (San Francisco)',\n",
       " 'Sutter Street, San Francisco': 'Sutter Street (San Francisco)',\n",
       " 'City Lights bookstore, San Francisco': 'City Lights Booksellers',\n",
       " 'East-West University': 'East-West University (Chicago)',\n",
       " 'Union Theological Seminary in the City of New York': 'Union Theological Seminary (New York City)',\n",
       " 'Roads in Kingston Upon Hull': 'Roads in Kingston upon Hull',\n",
       " 'Tunel Lahovice': 'Lochkovský tunel',\n",
       " 'Survey markers': 'Geodetic control points',\n",
       " 'Tulgheş, Harghita': 'Tulgheș, Harghita',\n",
       " 'Collections of Musée Rodin': 'Collections of the Musée Rodin',\n",
       " 'Asian Art Museum of San Francisco - Building': 'Asian Art Museum Building (San Francisco)',\n",
       " 'Rocks of Jizera Mountains': 'Rocks of the Jizera Mountains',\n",
       " '1753 house': '1753 House',\n",
       " 'Church of St. Bernard': 'Church of St. Bernard (Manhattan)',\n",
       " 'Mohawk River': 'Mohawk River (New York)',\n",
       " 'Mânzăleşti': 'Mânzălești, Buzău',\n",
       " 'Geography of North Rhine-Westphalia by district': 'Geography of North Rhine-Westphalia by location',\n",
       " 'Malcolm X Boulevard (Harlem)': 'Lenox Avenue',\n",
       " 'Malcolm X Boulevard (Manhattan)': 'Lenox Avenue',\n",
       " 'Inland Terminal 1': '111 Eighth Avenue',\n",
       " 'Windsor Terrace': 'Windsor Terrace, Brooklyn',\n",
       " 'William Rawn': 'William Rawn Associates',\n",
       " 'Flowers in Japanese Tray on Mahogany Table by John LaFarge': 'Flowers in Japanese Tray on Mahogany Table by John La Farge',\n",
       " 'Exterior of the Schwarzman Building of the New York Public Library': 'Exterior of the New York Public Library main building',\n",
       " 'Waldorf–Astoria Cigar Company': 'Waldorf-Astoria Cigar Company',\n",
       " 'Plaza Hotel, Manhattan': 'Plaza Hotel',\n",
       " 'Kings Theater (Brooklyn, New York)': 'Kings Theater (Brooklyn)',\n",
       " 'Public baths in New York City': 'Baths in New York City',\n",
       " 'Lincoln Depot Museum': 'Peekskill Freight Depot',\n",
       " 'Waldorf–Astoria (1897–1929)': 'Waldorf-Astoria (1893-1929)',\n",
       " 'Williamsport Sun-Gazette Building': 'Williamsport Sun Building',\n",
       " 'United States Post Office (Williamsport, Pennsylvania)': 'City Hall (Williamsport, Pennsylvania)',\n",
       " 'United Nations headquarters': 'Headquarters of the United Nations',\n",
       " 'Consolidated PBY Catalina in Australian service': 'Consolidated Catalina (RAAF)',\n",
       " 'Georgian Revival architecture in New York City': 'Colonial Revival architecture in New York City',\n",
       " 'John LaFarge': 'John La Farge',\n",
       " 'Harlem, New York City': 'Harlem, Manhattan',\n",
       " 'Curtiss P-40 Warhawk in Australian service': 'Curtiss Warhawk (RAAF)',\n",
       " 'Auditoria in New Mexico': 'Auditoriums in New Mexico',\n",
       " 'OS2U Kingfisher in Australian service': 'Vought Kingfisher (RAAF)',\n",
       " 'Art of Spain by city': 'Art in Spain by city',\n",
       " 'The Northern Mariana Islands': 'Northern Mariana Islands',\n",
       " 'Brooklyn Fire Headquarters': 'Old Brooklyn Fire Headquarters',\n",
       " 'St. James Church (Cambridge, Massachusetts)': 'St. James Episcopal Church (Cambridge, Massachusetts)',\n",
       " 'COPYVIO': 'Copyright violations',\n",
       " 'Buildings in Upper East Side': 'Buildings in the Upper East Side',\n",
       " 'Schools in Upper East Side': 'Schools in the Upper East Side',\n",
       " 'East West University': 'East West University (Dhaka, Bangladesh)',\n",
       " 'Religious buildings in Upper East Side': 'Religious buildings in the Upper East Side',\n",
       " 'Alexander M. Welch': 'Alexander McMillan Welch',\n",
       " 'First Trust Company Building': 'Albany Trust Company Building',\n",
       " 'Sherry Netherland Hotel': 'The Sherry-Netherland',\n",
       " 'Geary Boulevard, San Francisco': 'Geary Boulevard (San Francisco)',\n",
       " 'Roggenernte (DDR)': 'Rye harvest in the German Democratic Republic',\n",
       " 'Rohožník Housing Estate': 'Sídliště Rohožník',\n",
       " 'Bras': 'Brassieres',\n",
       " 'Bush Street, San Francisco': 'Bush Street (San Francisco)',\n",
       " 'California Street, San Francisco': 'California Street (San Francisco)',\n",
       " 'Montgomery Street': 'Montgomery Street (San Francisco)',\n",
       " 'Van Ness Avenue, San Francisco': 'Van Ness Avenue (San Francisco)',\n",
       " 'The Embarcadero, San Francisco': 'The Embarcadero (San Francisco)',\n",
       " 'Alumni of Simmons College': 'Alumni of Simmons University',\n",
       " 'E.B. Green': 'Edward Brodhead Green',\n",
       " 'Hyatt Boston Harbor': 'Hyatt Regency Boston Harbor',\n",
       " 'Cast-iron architecture in the United States': 'Cast-iron buildings in the United States',\n",
       " 'Coco Vandeweghe': 'CoCo Vandeweghe',\n",
       " 'NYPD': 'New York City Police Department',\n",
       " 'Severino Di Giovanni': 'Severino di Giovanni',\n",
       " 'High Pressure Fire Service Pump House': 'FringeArts (Philadelphia)',\n",
       " 'St. Augustine Church, Philadelphia': 'St. Augustine Church (Philadelphia)',\n",
       " 'Churches in Sunset Park, Brooklyn': 'Religious buildings in Sunset Park, Brooklyn',\n",
       " 'LaGuardia High School': 'Fiorello H. LaGuardia High School of Music & Art and Performing Arts',\n",
       " 'Long Wharf, Boston': 'Long Wharf (Boston)',\n",
       " 'Holy Name of Jesus Roman Catholic Church 245 Prospect Park West': 'Holy Name of Jesus Roman Catholic Church (Brooklyn)',\n",
       " 'Hyde Street, San Francisco': 'Hyde Street (San Francisco)',\n",
       " 'Elastane fibers': 'Spandex fibers',\n",
       " 'Architecture firms in the United States': 'Architecture firms of the United States',\n",
       " 'Dyckman Street': 'Dyckman Street (Manhattan)',\n",
       " 'Carl G. Fisher': 'Carl Graham Fisher',\n",
       " 'Les Bourgeois de Calais (Jardin du musée Rodin)': 'Les Bourgeois de Calais by Auguste Rodin (Jardin du Musée Rodin)',\n",
       " 'Regional council of French Guiana': 'Assembly of French Guiana',\n",
       " 'French Compasses': 'Romanic compasses',\n",
       " 'P-51 Mustang in Canadian service': 'North American Mustang (RCAF)',\n",
       " 'USS Constitution (ship, 1797)': 'USS Constitution (\"Old Ironsides\")',\n",
       " 'Union Square (New York City)': 'Union Square, Manhattan, New York City',\n",
       " 'Little Italy, New York City': 'Little Italy, Manhattan',\n",
       " 'Lincoln Square (Manhattan)': 'Lincoln Square, Manhattan',\n",
       " 'Mankato State University': 'Minnesota State University, Mankato',\n",
       " 'Greenwich Street (Manhattan)': 'Greenwich Street',\n",
       " 'Maps of Australian Electoral Divisions in the Australian Capital Territory': 'Maps of Australian Electoral Divisions in Australian territories',\n",
       " 'H. Van Buren Magonigle': 'Harold Van Buren Magonigle',\n",
       " 'Gustave Steinback': 'Gustave E. Steinback',\n",
       " 'Photographs taken from the Prudential Tower': 'Views from the Prudential Tower',\n",
       " 'Kearny Street, San Francisco': 'Kearny Street (San Francisco)',\n",
       " \"L'Âge d'airain\": 'The Bronze Age by Auguste Rodin',\n",
       " 'Asian Art Museum of San Francisco': 'Asian Art Museum (San Francisco)',\n",
       " 'Flautists': 'Flutists',\n",
       " 'Departmental council of Martinique': 'Assembly of Martinique',\n",
       " 'Regional council of Martinique': 'Assembly of Martinique',\n",
       " 'Departmental council of French Guiana': 'Assembly of French Guiana',\n",
       " 'Auditorium Building': 'Auditorium Building, Chicago',\n",
       " 'Doors in New York (state)': 'Entrances in New York (state)',\n",
       " 'Doors in New York City': 'Entrances in New York City',\n",
       " 'Richmond, San Francisco': 'Richmond District, San Francisco',\n",
       " 'A-36 Apache': 'North American A-36 Apache',\n",
       " 'Cooper Square Hotel': 'The Standard, East Village',\n",
       " 'Green-Wood Cemetery Chapel': 'Green-Wood Chapel',\n",
       " 'Mercantile Library Association': 'Mercantile Library Association (New York City)',\n",
       " 'The Warfield Theatre': 'Warfield Theatre',\n",
       " 'Studebaker Building (Brooklyn)': 'Studebaker Building (Crown Heights, Brooklyn)',\n",
       " 'Schwarzman Building of the New York Public Library': 'New York Public Library main building',\n",
       " 'Entrance of the Schwarzman Building of the New York Public Library': 'Front of the Schwarzman Building of the New York Public Library',\n",
       " 'Interior of the Schwarzman Building of the New York Public Library': 'Interior of the New York Public Library main building',\n",
       " 'Scott Street, San Francisco': 'Scott Street (San Francisco)',\n",
       " 'Steiner Street, San Francisco': 'Steiner Street (San Francisco)',\n",
       " 'TP 47 Catalina': 'Consolidated TP 47 Catalina (Sweden)',\n",
       " 'Consolidated PBY Catalina in Swedish service': 'Consolidated TP 47 Catalina (Sweden)',\n",
       " 'J 9': 'Seversky J-9 (Sweden)',\n",
       " 'Seversky P-35 in Swedish service': 'Seversky J-9 (Sweden)',\n",
       " 'Church for All Nations': 'Our Saviour New York',\n",
       " 'CocoCay': 'Little Stirrup Cay',\n",
       " 'Dornier K': 'Dornier Do K',\n",
       " 'Dornier R': 'Dornier Do R',\n",
       " 'Whitehall Terminal': 'Staten Island Ferry Whitehall Terminal',\n",
       " 'Saint George Terminal': 'St. George Terminal',\n",
       " 'Renaissance Revival architecture in New York City': 'Neo-Renaissance architecture in New York City',\n",
       " 'Departmental councils of Martinique': 'Assembly of Martinique',\n",
       " 'Departmental councils of French Guiana': 'Assembly of French Guiana',\n",
       " 'The Waldorf–Astoria Orchestra': 'Waldorf-Astoria Orchestra',\n",
       " 'Organizations of England': 'Organisations of England',\n",
       " 'Mason Street, San Francisco': 'Mason Street (San Francisco)',\n",
       " 'Organizations of Northern Ireland': 'Organisations of Northern Ireland',\n",
       " 'Geary Theatre (San Francisco)': 'Geary Theater (San Francisco)',\n",
       " 'Market Street, San Francisco': 'Market Street (San Francisco)',\n",
       " 'Columbia University campus': 'Columbia University campuses',\n",
       " 'Boston gaol': 'Boston Gaol',\n",
       " 'Queens Museum of Art': 'Queens Museum',\n",
       " 'Powell Street, San Francisco': 'Powell Street (San Francisco)',\n",
       " 'Landmarks in San Francisco': 'San Francisco Designated Landmarks',\n",
       " 'Mír (ship at Brno Reservoir)': 'Mír (ship, 1952)',\n",
       " 'Grant Avenue, San Francisco': 'Grant Avenue (San Francisco)',\n",
       " 'Maiden Lane, San Francisco': 'Maiden Lane (San Francisco)',\n",
       " 'F-80 Shooting Star': 'Lockheed P-80 Shooting Star',\n",
       " 'Ventilation towers of the Holland Tunnel': 'Holland Tunnel ventilation buildings',\n",
       " 'Derivative works of the Scream by Edvard Munch': \"Derivative works of Edvard Munch's The Scream\",\n",
       " 'British overseas territories': 'British Overseas Territories',\n",
       " 'Athenaeum (Alexandria, Virginia)': 'Old Dominion Bank Building (Alexandria, Virginia)',\n",
       " 'Roho Yukio': 'Rohō Yukio',\n",
       " 'Cheques of the United States': 'Checks of the United States',\n",
       " 'Das eherne Zeitalter (Auguste Rodin)': 'The Bronze Age by Auguste Rodin',\n",
       " 'C-82 Packet': 'Fairchild C-82 Packet',\n",
       " 'Parks in Queens, New York City': 'Parks in Queens',\n",
       " 'Charlottetown airport': 'Charlottetown Airport',\n",
       " 'DUP': 'Duplicate',\n",
       " 'SUNY System Administration Building': 'SUNY Plaza',\n",
       " '2005 in Falkenberg': '2005 in Falkenberg, Sweden',\n",
       " 'Adelsö-Björkö-Birka': 'Birka and Hovgården',\n",
       " 'Skalstuguvägen': 'Swedish county road 322',\n",
       " 'Stjärnarp': 'Stjernarp',\n",
       " 'Ås, Mörbylånga Municipality': 'Ås District, Mörbylånga Municipality',\n",
       " 'Sylarna': 'Sylan',\n",
       " 'Suorva': 'Suorvadammen',\n",
       " 'Silverfallet-Karlsfors naturreservat': 'Silverfallet-Karlsfors',\n",
       " 'Streets in Queens, New York': 'Streets in Queens, New York City',\n",
       " 'Angelina Grimké Weld': 'Angelina Emily Grimké',\n",
       " 'Angelina Grimké': 'Angelina Emily Grimké',\n",
       " \"Commanding Officer's House, Governors Island\": \"Admiral's House (Governors Island)\",\n",
       " 'Stuyvesant Town-Peter Cooper Village': 'Stuyvesant Town–Peter Cooper Village',\n",
       " 'VA Medical Center, Manhattan, New York City': 'VA Medical Center (Manhattan)',\n",
       " 'B-25 Mitchell in Australian service': 'North American Mitchell (RAAF)',\n",
       " 'Vultee A-31 Vengeance in Australian service': 'Vultee Vengeance (RAAF)',\n",
       " 'Paintings and drawings of the Waldorf–Astoria (1897–1929)': 'Paintings and drawings of the Waldorf-Astoria (1897-1929)',\n",
       " 'Alexander R. Esty': 'Alexander Rice Esty',\n",
       " 'Auditoria in Washington, D.C.': 'Auditoriums in Washington, D.C.',\n",
       " 'Münster': 'Munster',\n",
       " 'Henry F. Kilburn': 'Henry Franklin Kilburn',\n",
       " 'Ethnic groups in Mississippi (state)': 'Ethnic groups in Mississippi',\n",
       " 'Culture of Mississippi (state)': 'Culture of Mississippi',\n",
       " 'Southern Illinois University system': 'Southern Illinois University System',\n",
       " 'Du Page County, Illinois': 'DuPage County, Illinois',\n",
       " 'La Salle County, Illinois': 'LaSalle County, Illinois',\n",
       " 'Persian silk tree': 'Albizia julibrissin',\n",
       " 'Church of St. Catherine of Genoa (New York City)': 'Church of St. Catherine of Genoa (Manhattan)',\n",
       " 'Wilson County courthouse (North Carolina)': 'Wilson County Courthouse (North Carolina)',\n",
       " 'Branch Banking Company building (Wilson, North Carolina)': 'Branch Banking Company Building (Wilson, North Carolina)',\n",
       " 'Fort Washington Avenue subway entrance': 'Fort Washington Avenue subway entrance (190th Street station)',\n",
       " 'Broadway Melody (1929 film)': 'The Broadway Melody',\n",
       " 'Astor Office Building': 'Astor House Building',\n",
       " 'Astor Building (New York City)': 'Astor House Building',\n",
       " 'Trinity Church (New York City)': 'Trinity Church (Manhattan)',\n",
       " 'Cathedral Parkway': 'Cathedral Parkway (Manhattan)',\n",
       " 'Kimlau Square': 'Chatham Square',\n",
       " 'Lin Ze Xu Square': 'Chatham Square',\n",
       " 'William Kendall': 'William M. Kendall',\n",
       " 'Lucy Dahlgren House': 'Lucy Drexel Dahlgren House',\n",
       " 'Hamilton Park Historic District': 'Hamilton Park',\n",
       " 'CFD': 'Categories for discussion',\n",
       " 'Himalayan art in Asian Art Museum of San Francisco': 'Himalayan art in the Asian Art Museum (San Francisco)',\n",
       " 'Chapel of San Lorenzo Ruiz': 'San Lorenzo Ruiz Chapel (New York City)',\n",
       " 'Holy Name of Jesus R.C. Church': 'Holy Name of Jesus Roman Catholic Church (Manhattan)',\n",
       " \"St. Michael's Church (99th Street, Manhattan)\": \"St. Michael's Episcopal Church (Manhattan)\",\n",
       " 'Boroughs of Alaska': 'Boroughs in Alaska',\n",
       " 'Jack Kerouac Alley': 'Jack Kerouac Alley (San Francisco)',\n",
       " 'Schutzstaffel': 'SS (Nazi Germany)',\n",
       " 'Măgireşti': 'Măgirești',\n",
       " 'Regions of Slovenia': 'Regions in Slovenia',\n",
       " 'Free boxes': 'Giveboxes',\n",
       " 'Seventh-Day Adventist churches in New York City': 'Seventh-day Adventist churches in New York City',\n",
       " 'Dornier Libelle': 'Dornier Do A Libelle',\n",
       " 'Dornier P': 'Dornier Do P',\n",
       " 'Dornier J': 'Dornier Do J Wal',\n",
       " 'Dornier Y': 'Dornier Do Y',\n",
       " 'Dornier X': 'Dornier Do X',\n",
       " 'Fritz-X': 'Fritz X',\n",
       " 'North American XB-28': 'North American XB-28 Dragon',\n",
       " 'Daily Illini': 'The Daily Illini',\n",
       " 'Larkin Street, San Francisco': 'Larkin Street (San Francisco)',\n",
       " 'Palace \"Modello\" in Rijeka': 'Modello Palace, Rijeka',\n",
       " 'Isaac L. Rice Mansion': 'Isaac L. and Julia B. Rice House',\n",
       " \"Jeffrey's Hook Lighthouse\": 'Little Red Lighthouse',\n",
       " 'Federal Building and United States Courthouse (Peoria, Illinois)': 'Federal Building and U.S. Courthouse (Peoria, Illinois)',\n",
       " 'Counties of Louisiana by micropolitan area': 'Parishes of Louisiana by micropolitan area',\n",
       " 'Scholars of Albania': 'Scholars from Albania',\n",
       " 'Dornier Do F': 'Dornier Do 11',\n",
       " 'San Francisco City Hall - at night': 'San Francisco City Hall at night',\n",
       " 'Irving Plaza (Manhattan)': 'Irving Plaza',\n",
       " 'Choco cornet': 'Chocolate corone',\n",
       " 'Chocolate cornet': 'Chocolate corone',\n",
       " 'Choco corone': 'Chocolate corone',\n",
       " 'Auditoria in Florida': 'Auditoriums in Florida',\n",
       " 'Public School 9': 'P.S. 9 (Manhattan)',\n",
       " 'Public School 9 and Public School 9 Annex': 'P.S. 9 and P.S. 9 Annex (Brooklyn)',\n",
       " 'United Palace Theater': 'United Palace',\n",
       " 'Trump International Hotel and Tower (New York)': 'Trump International Hotel and Tower (New York City)',\n",
       " 'The Dominican Republic': 'Dominican Republic',\n",
       " 'The Falkland Islands': 'Falkland Islands',\n",
       " 'The Cayman Islands': 'Cayman Islands',\n",
       " 'The Dutch Caribbean': 'Dutch Caribbean',\n",
       " 'The Turks and Caicos Islands': 'Turks and Caicos Islands',\n",
       " 'The British Virgin Islands': 'British Virgin Islands',\n",
       " 'The United States Virgin Islands': 'United States Virgin Islands',\n",
       " 'Organizations of the British Virgin Islands': 'Organisations of the British Virgin Islands',\n",
       " 'Organizations of the Cayman Islands': 'Organisations of the Cayman Islands',\n",
       " 'Organizations of the Turks and Caicos Islands': 'Organisations of the Turks and Caicos Islands',\n",
       " 'Organizations of Anguilla': 'Organisations of Anguilla',\n",
       " 'Google Art Project works by John LaFarge': 'Google Art Project works by John La Farge',\n",
       " 'County seats in Louisiana': 'Parish seats in Louisiana',\n",
       " 'County seats in Alaska': 'Borough seats in Alaska',\n",
       " 'Lasker Biomedical Research Building': 'Audubon Ballroom (Shabazz Center, Lasker Building)',\n",
       " 'Malcolm X and Dr. Betty Shabazz Memorial and Education Center': 'Audubon Ballroom (Shabazz Center, Lasker Building)',\n",
       " 'Shabazz Center': 'Audubon Ballroom (Shabazz Center, Lasker Building)',\n",
       " 'Gregorio Luperon': 'Gregorio Luperón',\n",
       " 'Robert J. Reilly': 'Robert J. Reiley',\n",
       " 'Joseph H. McGuire': 'Joseph Hubert McGuire',\n",
       " 'Manhattan Ensemble Theatre': 'Manhattan Ensemble Theater',\n",
       " 'The Palace of Auburn Hills': 'Palace of Auburn Hills',\n",
       " 'Firehouse, Battalion 13 Engine 93 Ladder 45': 'Firehouse, Battalion 13 Engine Company 93 Ladder Company 45',\n",
       " 'Carroll H. Pratt': 'Carroll Pratt',\n",
       " 'Audubon Ballroom': 'Audubon Ballroom (Shabazz Center, Lasker Building)',\n",
       " 'Most Holy Crucifix Church (Manhattan)': 'San Lorenzo Ruiz Chapel (New York City)',\n",
       " 'IRT Substation 17': 'Dyckman-Hillside Substation (Substation 17)',\n",
       " '701 Fifth Avenue': 'St. Regis New York',\n",
       " 'Samuel William Reynolds the younger': 'Samuel William Reynolds II',\n",
       " 'Restaurant logos': 'Logos of restaurants',\n",
       " 'LRN': 'License review needed',\n",
       " 'Medieval European Jewish dress': 'Medieval European Jewish clothing',\n",
       " 'Chinese cuisine': 'Cuisine of China',\n",
       " \"Freemason's cipher\": 'Pigpen cipher',\n",
       " 'Queen bees': 'Apis mellifera queen',\n",
       " 'Cathedral of Holy Virgin, San Francisco, California': 'Holy Virgin Cathedral',\n",
       " 'American Civil War memorial (Hartford, Ind)': 'Monument to Veterans of the Civil War',\n",
       " 'DUPE': 'Duplicate',\n",
       " 'OSD': 'Other speedy deletions',\n",
       " 'New York–Penn League teams': 'New York-Penn League teams',\n",
       " 'Trump Place': 'Riverside South, Manhattan',\n",
       " 'Spectrum (Philadelphia)': 'Wachovia Spectrum',\n",
       " 'Boylston Street (Boston, Massachusetts)': 'Boylston Street',\n",
       " 'Buildings in the Upper East Side, New York City': 'Buildings in the Upper East Side',\n",
       " 'MIT Media Lab Complex, Building E14': 'MIT Building E14',\n",
       " 'Recorder (musical instrument)': 'Recorders (musical instrument)',\n",
       " 'EU license tags': 'License tags of the European Union',\n",
       " 'Stockton Street, San Francisco': 'Stockton Street (San Francisco)',\n",
       " 'Doneztebe': 'Doneztebe/Santesteban',\n",
       " 'Follies': 'Follies (architecture)',\n",
       " 'Mission Street, San Francisco': 'Mission Street (San Francisco)',\n",
       " 'Civil servants of Australia': 'Public servants of Australia',\n",
       " 'Zaventem Airport': 'Brussels Airport',\n",
       " 'Adlai E. Stevenson': 'Adlai Stevenson',\n",
       " 'Åland Islands': 'Åland',\n",
       " 'Trinity Church Cemetery (Riverside Drive)': 'Trinity Church Cemetery (Hamilton Heights)',\n",
       " 'Roads in Auckland': 'Streets in Auckland',\n",
       " 'Clarion Alley': 'Clarion Alley (San Francisco)',\n",
       " 'Sciurus carolinensis of the Central Park': 'Sciurus carolinensis in Central Park',\n",
       " 'Nobska Lighthouse': 'Nobska Light',\n",
       " 'Harvard Coop': 'The Coop (Cambridge, Massachusetts)',\n",
       " 'Camille Caudel en Minerve au casque (Musée Rodin)': 'Camille Claudel en Minerve au casque by Auguste Rodin (Musée Rodin)',\n",
       " 'Prince William, Duke of Cambridge in 2010': 'Prince William of Wales in 2010',\n",
       " '301 Park Avenue Waldorf–Astoria': 'Waldorf-Astoria 301 Park Avenue',\n",
       " 'Houses in Upper East Side': 'Houses in the Upper East Side',\n",
       " '1860s architecture in Upper East Side': '1860s architecture in the Upper East Side',\n",
       " 'Architecture of Upper East Side': 'Architecture of the Upper East Side',\n",
       " '1900s architecture in Upper East Side': '1900s architecture in the Upper East Side',\n",
       " '1850s architecture in Upper East Side': '1850s architecture in the Upper East Side',\n",
       " 'Apartment buildings in Upper East Side': 'Apartment buildings in the Upper East Side',\n",
       " 'Café Wha?': 'Cafe Wha?',\n",
       " 'William H. Seward statue (Madison Square)': 'William H. Seward by Randolph Rogers',\n",
       " 'Whitney Museum of American Art (West Village building)': 'Whitney Museum of American Art (Meatpacking District building)',\n",
       " 'Rail service vehicles of the New York City Subway system': 'Rail service vehicles of the New York City Subway',\n",
       " \"8th Street/St. Mark's Place\": \"8th Street and St. Mark's Place\",\n",
       " 'Filbert Street, San Francisco': 'Filbert Street (San Francisco)',\n",
       " 'Blue Condominium Tower': 'Blue Condominium',\n",
       " 'Asser Levy Recreation Center': 'Asser Levy Public Baths',\n",
       " \"St. Paul's Chapel (Weinebene, Austria)\": 'Saint Paul chapel Austria Weinebene',\n",
       " 'Singer Bowl': 'Louis Armstrong Stadium',\n",
       " 'Rock bands by country': 'Rock music groups by country',\n",
       " 'Renaissance Revival architecture in the United States': 'Neo-Renaissance architecture in the United States',\n",
       " 'North Avenue Congregational Church': 'Moriarty Library, Lunder Arts Center',\n",
       " 'Prospect Hall': 'Moriarty Library, Lunder Arts Center',\n",
       " 'North Prospect Congregational Church': 'Moriarty Library, Lunder Arts Center',\n",
       " 'Flowers in New York (city)': 'Flowers in New York City',\n",
       " 'Wenling City': 'Wenling',\n",
       " 'St. Vincent de Paul Catholic Church (New York)': 'St. Vincent de Paul Catholic Church (Manhattan)',\n",
       " 'Fritz-X at RAF Museum London': 'Fritz X at RAF Museum London',\n",
       " 'Maps of Région Occitanie': 'Maps of Occitanie',\n",
       " 'Old maps of Nord-Pas-de-Calais-Picardie': 'Old maps of Hauts-de-France',\n",
       " 'B-24 Liberator': 'Consolidated B-24 Liberator',\n",
       " 'C-46 Commando': 'Curtiss C-46 Commando',\n",
       " 'P-47 Thunderbolt': 'Republic P-47 Thunderbolt',\n",
       " 'B-29 Superfortress': 'Boeing B-29 Superfortress',\n",
       " 'Northrop XP-56': 'Northrop XP-56 Black Bullet',\n",
       " 'Republic P-43': 'Republic P-43 Lancer',\n",
       " 'OV-10 Bronco': 'North American OV-10 Bronco',\n",
       " 'Lombard Street, San Francisco': 'Lombard Street (San Francisco)',\n",
       " 'Máje': 'Maypoles in the Czech Republic',\n",
       " 'Distrito Capital': 'Capital District',\n",
       " 'Cities and villages in Bogotá': 'Localities of Bogotá',\n",
       " 'Counties of Louisiana by metropolitan area': 'Parishes of Louisiana by metropolitan area',\n",
       " 'Maryland State Normal School': 'Towson University',\n",
       " 'Lenox Avenue (Manhattan)': 'Lenox Avenue',\n",
       " 'William Beaver House': '15 William New York',\n",
       " 'Willie and Eugene Howard': 'Howard Brothers',\n",
       " 'Carlton Hotel 88 Madison Avenue': 'Seville Hotel (New York City)',\n",
       " \"St. Augustine's Church, Manhattan\": \"St. Augustine's Church (Manhattan)\",\n",
       " 'T-6 Texan N800SH': 'N800SH (aircraft)',\n",
       " 'Mănăstirea Lupșa': 'Lupșa Monastery',\n",
       " 'Counties of District of Columbia': 'District of Columbia',\n",
       " 'Counties of Washington, D.C.': 'Washington, D.C.',\n",
       " 'Categories of Washington, D.C. by county': 'Categories of Washington, D.C.',\n",
       " 'Categories of District of Columbia by county': 'Categories of Washington, D.C.',\n",
       " 'Reservoir in Central Park': 'Jacqueline Kennedy Onassis Reservoir',\n",
       " 'Apartment buildings in Brooklyn': 'Apartment buildings in Brooklyn, New York City',\n",
       " 'Houses in Brooklyn': 'Houses in Brooklyn, New York City',\n",
       " 'Houses in Manhattan': 'Houses in Manhattan, New York City',\n",
       " 'Bretton Hall, Manhattan': 'Bretton Hall',\n",
       " 'Mercantile Library Association (New York, New York)': 'Mercantile Library Association (New York City)',\n",
       " 'Manhattan streetscapes': 'Streetscapes of Manhattan',\n",
       " 'Brooklyn streetscapes': 'Streetscapes of Brooklyn',\n",
       " 'New York City water supply system': 'Water supply system of New York City',\n",
       " 'Waldorf–Astoria': 'Waldorf-Astoria',\n",
       " 'School of Visual Arts, New York': 'School of Visual Arts',\n",
       " 'Polytechnic University, New York': 'New York University Polytechnic School of Engineering',\n",
       " 'New York Public Library main building exterior': 'Exterior of the New York Public Library main building',\n",
       " 'New York Public Library main building interior': 'Interior of the New York Public Library main building',\n",
       " 'Maps of Nord-Pas-de-Calais-Picardie': 'Maps of Hauts-de-France',\n",
       " 'Hanoi - Amsterdam High School': 'Hanoi – Amsterdam High School',\n",
       " 'East 233rd Street': 'East 233rd Street (Bronx)',\n",
       " 'Organizations of Scotland': 'Organisations of Scotland',\n",
       " 'Organizations of Bermuda': 'Organisations of Bermuda',\n",
       " 'Cornforth reagent': 'Pyridinium dichromate',\n",
       " 'Civil servants of New Zealand': 'Public servants of New Zealand',\n",
       " 'User dbiu': 'Category:User dbiu',\n",
       " 'PBM Mariner in Australian service': 'Martin Mariner (RAAF)',\n",
       " 'Jackson Street, San Francisco': 'Jackson Street (San Francisco)',\n",
       " \"St. Michael's Church, New York City\": \"St. Michael's Episcopal Church (Manhattan)\",\n",
       " 'San Francisco City Hall - Interior': 'Interior of San Francisco City Hall',\n",
       " 'Vine.co': 'Vine (service)',\n",
       " 'Chesapeake and Delaware Canal': 'Chesapeake & Delaware Canal',\n",
       " 'Mabel Wisse Smit': 'Princess Mabel of Orange-Nassau',\n",
       " 'History of Belgium by city': 'History of Belgium by location',\n",
       " '1009 Fifth Avenue': 'Benjamin N. Duke House',\n",
       " 'Seaport, Boston': 'Seaport District, Boston',\n",
       " 'OMA': 'Office for Metropolitan Architecture',\n",
       " 'NYPL Branch libraries': 'New York Public Library branch libraries',\n",
       " \"Orpheum Children's Science Museum\": 'New Orpheum Theatre (Champaign, Illinois)',\n",
       " 'Bmw': 'BMW',\n",
       " 'Roast sirloin in sour cream sauce with dumplings': 'Svíčková omáčka',\n",
       " 'Simmons College': 'Simmons University',\n",
       " 'Maps of Australian Electoral Divisions in the Northern Territory': 'Maps of Australian Electoral Divisions in Australian territories',\n",
       " 'Standard Hotel': 'Standard Hotels',\n",
       " 'O Obrotach Ciał Niebieskich': 'De revolutionibus',\n",
       " '2017 Sakhir 1 FIA Formula 2 round': '2020 Sakhir 1 FIA Formula 2 round',\n",
       " 'Ministry buildings of Bavaria': 'Ministries of Bavaria',\n",
       " 'Ministry buildings of Lower Saxony': 'Ministries of Lower Saxony',\n",
       " 'Historic views of Munich': 'Old views of Munich',\n",
       " 'McKim, Mead, and White buildings': 'McKim, Mead & White buildings',\n",
       " 'Geography of Belgium by city': 'Geography of Belgium by location',\n",
       " 'Maps of Région Nouvelle-Aquitaine': 'Maps of Nouvelle-Aquitaine',\n",
       " 'Geography of Aube (department)': 'Geography of Aube',\n",
       " 'Maps of Marne (department)': 'Maps of Marne',\n",
       " 'Geography of Marne (department)': 'Geography of Marne',\n",
       " 'Methodist Book Concern': '150 Fifth Avenue',\n",
       " 'Westmorly Hall': 'Westmorly Court',\n",
       " 'American Repertory Theatre': 'American Repertory Theater',\n",
       " 'Live Nation': 'Live Nation Entertainment',\n",
       " '150 Newbury Street': 'Snowden International School',\n",
       " 'Central Reform Temple (Boston)': 'Emmanuel Church (Boston)',\n",
       " 'Ralph Landau Building': 'Landau Building (MIT Building 66)',\n",
       " 'Lincoln Laboratory': 'MIT Lincoln Laboratory',\n",
       " 'Former MIT campus in Boston': 'MIT former Boston campus',\n",
       " 'Wiesner Building': 'Wiesner Building (MIT Building E15)',\n",
       " 'Interiors of MIT buildings': 'MIT building interiors',\n",
       " 'MIT Nuclear Reactor Laboratory (Building NW12)': 'Nuclear Reactor Laboratory (MIT Building NW12)',\n",
       " 'Saint-Pierre-et-Miquelon': 'Saint-Pierre and Miquelon',\n",
       " '177 Huntington Avenue': 'Christian Science Administration Building',\n",
       " 'Marquees (signage) in New York': 'Marquees (signage) in New York (state)',\n",
       " 'Regional council of Corsica': 'Assembly of Corsica',\n",
       " 'Regional council of Corse': 'Assembly of Corsica',\n",
       " 'St. Augustine Church, New Orleans': 'St. Augustine Church (New Orleans)',\n",
       " 'Madison Square Fountain': 'Madison Square Park Fountain',\n",
       " 'MIT Stata Center': 'Stata Center (MIT Building 32)',\n",
       " 'Douglas B-23': 'Douglas B-23 Dragon',\n",
       " 'Josephine Baker': 'Joséphine Baker',\n",
       " 'Curtiss XP-55': 'Curtiss-Wright XP-55 Ascender',\n",
       " 'Lockheed XP-58': 'Lockheed XP-58 Chain Lightning',\n",
       " 'Rockefeller Center flags': 'Flagpoles at Rockefeller Center',\n",
       " 'Rockefeller Center art': 'Art at Rockefeller Center',\n",
       " 'Avon Cinema (Providence, Rhode Island)': 'Avon Cinema',\n",
       " 'Engine Company 226 Firehouse': 'Firehouse, Engine Company 226',\n",
       " 'Engine Company 6 (FDNY)': 'Firehouse, Engine Company 6',\n",
       " 'Firehouse, Engine Company 7 / Hook & Ladder Company 1': 'Firehouse, Engine Company 7 Hook & Ladder Company 1',\n",
       " 'Hook & Ladder 13 159 East 87th Street': 'Firehouse, Hook & Ladder Company 13',\n",
       " 'Hook and Ladder Company 8 (FDNY)': 'Firehouse, Hook & Ladder Company 8',\n",
       " 'Ladder 3 Firehouse': 'Firehouse, Ladder Company 3',\n",
       " 'Waldorf–Astoria (1893–1929)': 'Waldorf-Astoria (1893-1929)',\n",
       " 'Waldorf–Astoria (1897–1929) interior': 'Waldorf-Astoria (1897-1929) interior',\n",
       " 'Waldorf-Astoria Hotel (old)': 'Waldorf-Astoria (1893-1929)',\n",
       " 'Waldorf-Astoria Hotel (1897-1929)': 'Waldorf-Astoria (1893-1929)',\n",
       " 'Waldorf-Astoria Hotel interior (old)': 'Waldorf-Astoria (1897-1929) interior',\n",
       " 'Waldorf-Astoria Hotel': 'Waldorf-Astoria',\n",
       " 'Interior of the Waldorf-Astoria Hotel': 'Waldorf–Astoria interior',\n",
       " 'Paintings of the Waldorf-Astoria Hotel': 'Paintings and drawings of the Waldorf-Astoria (1897-1929)',\n",
       " 'Payne Whitney Psychiatry Clinic': 'Bloomingdale Insane Asylum',\n",
       " 'Columbia-Presbyterian Medical Center': 'Columbia University Medical Center',\n",
       " 'Harborside Financial Center': 'Harborside (Jersey City)',\n",
       " 'St. Gregory the Illuminator Armenian church in New York': \"St. Illuminator's Armenian Apostolic Cathedral\",\n",
       " 'St. Vartan Cathedral in New York City': 'St. Vartan Armenian Cathedral',\n",
       " 'Community Synagogue formerly St. Matthews Evangelical Lutheran Church': \"Community Synagogue formerly St. Mark's Evangelical Lutheran Church\",\n",
       " 'Pershing Square (Manhattan, New York)': 'Pershing Square (New York City)',\n",
       " 'Greenwich Village': 'Greenwich Village, Manhattan',\n",
       " 'Architectural styles': 'Architecture by style',\n",
       " 'The United States': 'United States',\n",
       " 'Werwolf (NS-Organisation)': 'Werwolf (Nazi organization)',\n",
       " 'Martin V.B. Bostetter, Jr. United States Courthouse': 'Martin V. B. Bostetter, Jr. United States Courthouse',\n",
       " 'Swann-Dangerfield House': 'Swann-Daingerfield House',\n",
       " 'Remote views of Flatiron Building (New York City)': 'Distant views of the Flatiron Building (New York City)',\n",
       " 'Dewey Library (MIT)': 'Hermann Building (MIT Building E53)',\n",
       " 'Bardavon': 'Bardavon Theater (Poughkeepsie, New York)',\n",
       " 'Theater interiors in New York': 'Theater interiors in New York (state)',\n",
       " 'MRR': 'Media requiring renaming',\n",
       " 'São Paulo city': 'São Paulo (city)',\n",
       " 'Hudson Heights': 'Hudson Heights, Manhattan',\n",
       " 'CAT': 'Categories',\n",
       " 'Washington Heights': 'Washington Heights, Manhattan',\n",
       " 'Irish Hunger Memorial (New York City)': 'Irish Hunger Memorial',\n",
       " 'B-24 Liberator in Australian service': 'Consolidated Liberator (RAAF)',\n",
       " '177-199 State Street, Boston': 'State Street Block',\n",
       " 'Keystone Building': 'Keystone Building (Boston, Massachusetts)',\n",
       " '160 Federal Street': 'Landmark at Federal',\n",
       " 'State Street Financial Center': 'One Lincoln Street',\n",
       " 'State Street Bank Building': '225 Franklin Street',\n",
       " 'People of Alaska by county': 'People of Alaska by borough',\n",
       " 'C-54 Skymaster': 'Douglas C-54 Skymaster',\n",
       " 'Tunnels in nature': 'Tunnels',\n",
       " 'Monument des Bourgeois de Calais by Auguste Rodin (Musée Rodin)': 'Les Bourgeois de Calais by Auguste Rodin (Jardin du Musée Rodin)',\n",
       " 'Sculptures in the Musée Rodin by name': 'Sculptures in the Musée Rodin',\n",
       " 'Muse Whistler nue, bras coupés by Auguste Rodin (Musée Rodin)': 'La muse Whistler, grand modèle nu, bras coupés by Auguste Rodin (Jardin du Musée Rodin)',\n",
       " 'La Méditation by Auguste Rodin (Musée Rodin)': 'Méditation, dite voix intérieure, avec bras by Auguste Rodin (Jardin du Musée Rodin)',\n",
       " 'Maps of former State Electoral Districts in Tasmania': 'Maps of State Electoral Districts in Tasmania',\n",
       " 'Assemblée de la Polynésie française': 'Assembly of French Polynesia',\n",
       " 'Regional council of Polynésie française': 'Assembly of French Polynesia',\n",
       " 'Regional council of Nouvelle-Calédonie': 'Congress of New Caledonia',\n",
       " 'Regional council of New Caledonia': 'Congress of New Caledonia',\n",
       " 'Benches in the Paris Metro': 'Benches and chairs in the Paris Metro',\n",
       " 'Lewis P. Hobart': 'Lewis Parsons Hobart',\n",
       " 'San Francisco Public Library - Old Main Branch': 'Asian Art Museum Building (San Francisco)',\n",
       " 'Fourth Church of Christ, Scientist (San Francisco)': 'Internet Archive headquarters',\n",
       " 'National Guard Armory and Arsenal (San Francisco)': 'San Francisco Armory',\n",
       " '935 St. Nicholas Avenue': 'Duke Ellington House',\n",
       " 'Wolof in Gambia': 'Wolof people in Gambia',\n",
       " 'DAR American Redoubt 1776 marker': 'DAR American Redout 1776 marker',\n",
       " 'Daughters of the American Revolution American Redoubt marker': 'DAR American Redout 1776 marker',\n",
       " 'American redout market': 'DAR American Redout 1776 marker',\n",
       " 'American Redoubt marker': 'DAR American Redout 1776 marker',\n",
       " 'Battle of Fort Washington American Redoubt marker': 'DAR American Redout 1776 marker',\n",
       " 'D.A.R. American redout marker': 'DAR American Redout 1776 marker',\n",
       " '23rd Street, New York City': '23rd Street (Manhattan)',\n",
       " 'Madison Square': 'Madison Square and Madison Square Park',\n",
       " 'Great Dome (MIT)': 'Maclaurin Buildings (MIT Buildings 3, 4 and 10)',\n",
       " 'Old Ironsides (USS Constitution)': 'USS Constitution (\"Old Ironsides\")',\n",
       " 'United States Coast Guard Base Boston': 'Coast Guard Station Boston',\n",
       " 'Great Dome and Maclaurin Buildings (Building 10), Massachusetts Institute of Technology': 'Maclaurin Buildings (MIT Buildings 3, 4 and 10)',\n",
       " 'Maclaurin Buildings (MIT Building 10)': 'Maclaurin Buildings (MIT Buildings 3, 4 and 10)',\n",
       " 'Charles V. Paterno': 'Charles Paterno',\n",
       " 'Northern Boulevard (Manhattan)': 'Cabrini Boulevard (Manhattan)',\n",
       " \"St. Ann's and the Holy Trinity Church\": 'St. Ann & the Holy Trinity Church',\n",
       " 'Stoughton and Stoughton': 'Stoughton & Stoughton',\n",
       " 'Philosophical Hall': 'American Philosophical Society Hall',\n",
       " 'Paintings of flowers by John LaFarge': 'Paintings of flowers by John La Farge',\n",
       " 'Seril Dodge House': 'Seril Dodge House (10 Thomas Street)',\n",
       " 'Events in San Francisco City Hall': 'Events inside San Francisco City Hall',\n",
       " 'Church Street in San Francisco': 'Church Street (San Francisco)',\n",
       " 'United States Post Office-Canal Street Station': 'United States Post Office (Canal Street Station)',\n",
       " 'United States Post Office - Inwood Station': 'United States Post Office (Inwood Station)',\n",
       " 'United States Post Office–Cooper Station': 'United States Post Office (Cooper Station)',\n",
       " 'Madison Square Station United States Post Office': 'United States Post Office (Madison Square Station)',\n",
       " 'Old Chelsea Station Post Office': 'United States Post Office (Old Chelsea Station)',\n",
       " 'Lenox Hill Station, United States Post Office': 'United States Post Office (Lenox Hill Station)',\n",
       " 'Cast-iron architecture in St. Louis': 'Cast-iron buildings in St. Louis, Missouri',\n",
       " 'Cast-iron buildings in St. Louis': 'Cast-iron buildings in St. Louis, Missouri',\n",
       " 'Stained glass windows by John LaFarge': 'Stained glass windows by John La Farge',\n",
       " 'Paintings by John LaFarge': 'Paintings by John La Farge',\n",
       " 'Wreath of Flowers by John LaFarge': 'Wreath of Flowers by John La Farge',\n",
       " 'Greenwood Cemetery entrances': 'Green-Wood Cemetery entrances',\n",
       " 'Art of Tibet in the Museum of San Francisco': 'Art of Tibet in the Asian Art Museum (San Francisco)',\n",
       " 'Matt & Kim': 'Matt and Kim',\n",
       " 'Massachusetts College of Pharmacy and Health Sciences': 'MCPHS University',\n",
       " 'Spread arms': 'Arms spread',\n",
       " 'Old maps of Munich': 'Old city maps of Munich',\n",
       " 'Exits and entrances of the Paris Metro': 'Entrances and exits of the Paris Metro',\n",
       " '111 Second Avenue NYU Tisch School of the Arts': 'Tisch School of the Arts',\n",
       " 'York & Sawyer': 'York and Sawyer',\n",
       " 'Enemas': 'Enema (disambiguation)',\n",
       " 'Bookstores in Paris': 'Bookshops in Paris',\n",
       " 'Muse Whistler nue, bras coupés by Auguste Rodin (Jardin du Musée Rodin)': 'La muse Whistler, grand modèle nu, bras coupés by Auguste Rodin (Jardin du Musée Rodin)',\n",
       " 'William Welles Bosworth': 'William W. Bosworth',\n",
       " 'Church of Holy Transfiguration (Woodstock, New York)': 'Church of the Holy Transfiguration of Christ-on-the-Mount',\n",
       " 'Black Horse Tavern (Johnstown, New York)': \"James Burk's Inn (Johnstown, New York)\",\n",
       " 'Northville, Fulton County, New York': 'Northville, New York',\n",
       " 'Renaissance Revival architecture in New York (state)': 'Neo-Renaissance architecture in New York (state)',\n",
       " 'Fort Johnstown': 'Fulton County Jail (Johnstown, New York)',\n",
       " 'Johnson Hall State Historic Site': 'Johnson Hall (Johnstown, New York)',\n",
       " 'Boulevard Saint-Germain': 'Boulevard Saint-Germain (Paris)',\n",
       " 'Irvington Town Hall Theater': 'Irvington Town Hall',\n",
       " 'GE Building': 'General Electric Building',\n",
       " 'Auditoria in Massachusetts': 'Auditoriums in Massachusetts',\n",
       " 'San Francisco, California': 'San Francisco',\n",
       " 'John Lester Wallack': 'Lester Wallack',\n",
       " 'Images from the New York Mirror': 'Images from the New-York Mirror',\n",
       " 'Ohm (312 11th Avenue)': 'Ohm 312 Eleventh Avenue',\n",
       " 'Categories of Alaska by county': 'Categories of Alaska by borough',\n",
       " 'Categories of Louisiana by county': 'Categories of Louisiana by parish',\n",
       " '207th Street (IND Eighth Avenue line)': 'Inwood – 207th Street (IND Eighth Avenue Line)',\n",
       " 'David J. Huntoon Jr.': 'David Huntoon',\n",
       " 'Downtowns in Philadelphia': 'Center City, Philadelphia',\n",
       " 'NY-5S Schoharie Creek Bridge': 'NY-5S Schoharie Creek Bridges',\n",
       " 'Erie Canal Lock E32': 'Lock E32, Pittsford',\n",
       " 'Erie Canal Lock E33': 'Lock E33, Rochester',\n",
       " 'Months in New York by city': 'Months in New York (state) by city',\n",
       " 'Rudolph L. Daus': 'Rudolphe L. Daus',\n",
       " 'National Shrine of Saint Francis of Assisi, Little Italy, San Francisco, California, USA': 'National Shrine of St. Francis of Assisi (San Francisco)',\n",
       " 'Church Missions House': 'Federation of Protestant Welfare Agencies Building 281 Park Avenue South',\n",
       " 'Maps of Unorganized Borough, Alaska': 'Maps of the Unorganized Borough, Alaska',\n",
       " 'Fillmore Street': 'Fillmore Street (San Francisco)',\n",
       " 'VIA 57 WEST': 'VIA 57 West',\n",
       " 'Balmy Alley': 'Balmy Alley (San Francisco)',\n",
       " 'William H. Seward statue (Madison Square Park)': 'William H. Seward by Randolph Rogers',\n",
       " 'People with pigs': 'People with Sus scrofa',\n",
       " 'Regions of Azerbaijan': 'Historical regions in Azerbaijan',\n",
       " 'COM:T': 'Commons templates',\n",
       " 'Katahdin': 'Mount Katahdin',\n",
       " 'The Canary Islands': 'Canary Islands',\n",
       " 'The British Overseas Territories': 'British Overseas Territories',\n",
       " 'The Cocos (Keeling) Islands': 'Cocos (Keeling) Islands',\n",
       " 'The Cook Islands': 'Cook Islands',\n",
       " 'The British Antarctic Territory': 'British Antarctic Territory',\n",
       " 'Crenshaw Christian Center East': 'First Church of Christ, Scientist (Manhattan)',\n",
       " 'New York–Penn League': 'New York-Penn League',\n",
       " 'Deaths in Alaska by county': 'Deaths in Alaska by borough',\n",
       " 'Maps of Région Hauts-de-France': 'Maps of Hauts-de-France',\n",
       " 'The Gayborhood (Washington Square West)': 'Washington Square West, Philadelphia',\n",
       " 'Greene Mansion (Amsterdam (city), New York)': 'Greene Mansion',\n",
       " 'Saint Stanislaus Church (Amsterdam, New York)': 'Saint Stanislaus Roman Catholic Church Complex',\n",
       " 'Sanford Clock Tower': 'Clock Tower Complex, Amsterdam',\n",
       " 'John Street Building No. 170-176': '170-176 John Street',\n",
       " 'Symbols of municipalities of Ceuta': 'Symbols of Ceuta',\n",
       " 'Symbols of municipalities of Melilla': 'Symbols of Melilla',\n",
       " 'Flags of populated places in Ceuta': 'Flags of Ceuta',\n",
       " 'Flags of populated places in Melilla': 'Flags of Melilla',\n",
       " 'Maps of municipalities in Ceuta': 'Maps of Ceuta',\n",
       " 'Maps of municipalities in Melilla': 'Maps of Melilla',\n",
       " 'Locator maps of municipalities in Ceuta': 'Locator maps of Ceuta',\n",
       " 'Locator maps of municipalities in Melilla': 'Locator maps of Melilla',\n",
       " 'Maps of municipalities of Ceuta': 'Maps of Ceuta',\n",
       " 'Maps of municipalities of Melilla': 'Maps of Melilla',\n",
       " 'Municipalities in Ceuta by province': 'Ceuta',\n",
       " 'Municipalities in Melilla by province': 'Melilla',\n",
       " 'Municipalities in the Community of Madrid by province': 'Municipalities in the Community of Madrid',\n",
       " 'Municipalities in Asturias by province': 'Municipalities in Asturias',\n",
       " 'Municipalities in the Balearic Islands by province': 'Municipalities in the Balearic Islands',\n",
       " 'Municipalities in Cantabria by province': 'Municipalities in Cantabria',\n",
       " 'Municipalities in the Region of Murcia by province': 'Municipalities in the Region of Murcia',\n",
       " 'Municipalities in Navarre by province': 'Municipalities in Navarre',\n",
       " 'Municipalities in La Rioja (Spain) by province': 'Municipalities in La Rioja (Spain)',\n",
       " 'Provinces of Ceuta': 'Ceuta',\n",
       " 'Provinces of Melilla': 'Melilla',\n",
       " 'Provinces of Asturias': 'Asturias',\n",
       " 'Provinces of the Balearic Islands': 'Balearic Islands',\n",
       " 'Provinces of Cantabria': 'Cantabria',\n",
       " 'Provinces of the Community of Madrid': 'Community of Madrid',\n",
       " 'Provinces of the Region of Murcia': 'Region of Murcia',\n",
       " 'Provinces of Navarre': 'Navarre',\n",
       " 'Provinces of La Rioja (Spain)': 'La Rioja (Spain)',\n",
       " 'Union Street, San Francisco': 'Union Street (San Francisco)',\n",
       " 'Buildings of the former MIT campus in Boston': 'MIT former Boston campus buildings',\n",
       " 'A. Wyatt Howell': 'A. Wynn Howell',\n",
       " 'Maps of Région Centre-Val de Loire': 'Maps of Centre-Val de Loire',\n",
       " 'Ainsworth Building': 'S. W. Ainsworth Building',\n",
       " 'OpenStreetMap maps of communes in Paris': 'OpenStreetMap maps of Paris',\n",
       " 'Maps of regions of Austria': 'Maps of states of Austria',\n",
       " 'Maps of regions of Germany': 'Maps of Germany by state',\n",
       " 'RENAME1': 'Media requiring renaming - rationale 1',\n",
       " 'RENAME2': 'Media requiring renaming - rationale 2',\n",
       " 'RENAME3': 'Media requiring renaming - rationale 3',\n",
       " 'RENAME4': 'Media requiring renaming - rationale 4',\n",
       " 'RENAME5': 'Media requiring renaming - rationale 5',\n",
       " 'RENAME6': 'Media requiring renaming - rationale 6',\n",
       " 'Princess Elizabeth (United Kingdom) in 1947': 'Princess Elizabeth, Duchess of Edinburgh in 1947',\n",
       " 'Princess Elizabeth (United Kingdom) in 1950': 'Princess Elizabeth, Duchess of Edinburgh in 1950',\n",
       " 'Princess Elizabeth (United Kingdom) in 1951': 'Princess Elizabeth, Duchess of Edinburgh in 1951',\n",
       " 'Categories of New York by county': 'Categories of New York (state) by county',\n",
       " 'Vote fraud': 'Voter fraud',\n",
       " 'Municipalities in Ceuta': 'Ceuta',\n",
       " 'Municipalities in Melilla': 'Melilla',\n",
       " 'Populated places in Ceuta': 'Ceuta',\n",
       " 'Populated places in Melilla': 'Melilla',\n",
       " 'American robin': 'Turdus migratorius',\n",
       " 'Geography of La Rioja (Spain) by province': 'Geography of La Rioja (Spain)',\n",
       " 'Geography of the Community of Madrid by province': 'Geography of the Community of Madrid',\n",
       " 'Geography of the Region of Murcia by province': 'Geography of the Region of Murcia',\n",
       " 'Geography of Navarre by province': 'Geography of Navarre',\n",
       " 'Geography of Asturias by province': 'Geography of Asturias',\n",
       " 'Geography of the Balearic Islands by province': 'Geography of the Balearic Islands',\n",
       " 'Geography of Cantabria by province': 'Geography of Cantabria',\n",
       " 'Geography of Ceuta by province': 'Geography of Ceuta',\n",
       " 'Geography of Melilla by province': 'Geography of Melilla',\n",
       " 'New York City Criminal Courts Building': 'New York City Criminal Courts Building and The Tombs',\n",
       " 'Fred C. Aitken House': 'Fred C. Aiken House',\n",
       " 'Improved Order of Redmen': 'Improved Order of Red Men',\n",
       " 'Little Compton Commons': 'Little Compton Common Historic District',\n",
       " \"Loew's Philadelphia Hotel\": 'PSFS Building',\n",
       " 'Loews Philadelphia Hotel': 'PSFS Building',\n",
       " 'Bea Fuller Rodgers School I.S. 528M': 'I.S. 528 Bea Fuller Rodgers School',\n",
       " 'Eleanor Roosevelt JHS 143': 'J.H.S. 143 Eleanor Roosevelt',\n",
       " 'Quest to Learn': 'Bayard Rustin Educational Complex',\n",
       " 'Metropolitan Avenue': 'Metropolitan Avenue (New York City)',\n",
       " 'Consolidated Catalina': 'Consolidated PBY Catalina',\n",
       " 'Burlington House, New York': '1345 Avenue of the Americas',\n",
       " 'Charles Fisher': 'Charles Fisher (actor)',\n",
       " 'Whirligig': 'Whirligigs',\n",
       " 'Constitutional isomerism': 'Structural isomerism',\n",
       " 'Culture of Rees, am Rhein': 'Culture of Rees',\n",
       " 'History of Rees, am Rhein': 'History of Rees',\n",
       " 'Nature of Rees, am Rhein': 'Nature of Rees',\n",
       " 'Nature of Carabobo': 'Nature of Carabobo (state)',\n",
       " 'Maps of cities in Ceuta': 'Maps of Ceuta',\n",
       " 'Maps of cities in Melilla': 'Maps of Melilla',\n",
       " 'Cities in San Francisco': 'San Francisco',\n",
       " 'Populated places in District of Columbia': 'Populated places in Washington, D.C.',\n",
       " 'City walls of Málaga 11st-century': 'Medieval walls of Málaga',\n",
       " 'Gyaincain Norbu, 11th Panchen Lama': 'Choskyi Gyalpo, 11th Panchen Lama',\n",
       " 'Mystic Seaport': 'Mystic Seaport Museum',\n",
       " 'SPLIT': 'Media requiring a split up',\n",
       " 'MERGE': 'Requested merges',\n",
       " 'Tag von Potsdam': 'Potsdam Day',\n",
       " 'Cultural heritage monuments in Rees, am Rhein': 'Cultural heritage monuments in Rees',\n",
       " 'Monuments and memorials in Rees, am Rhein': 'Monuments and memorials in Rees',\n",
       " 'Wells Fargo Bank Building 1 Montgomery Street': 'Union Trust Company Building 744 Market Street',\n",
       " 'Saint Anne Church (Fall River, Massachusetts)': \"St. Anne's Church and Parish Complex (Fall River, Massachusetts)\",\n",
       " 'Beechwood (Newport, Rhode Island)': 'Beechwood (Astor mansion)',\n",
       " 'Tennis Hall of Fame': 'International Tennis Hall of Fame',\n",
       " 'John Griswold House': 'John N. A. Griswold House',\n",
       " 'Cushing Gallery': 'Morris/Cushing Gallery',\n",
       " 'Maps of islands of the Federal dependencies of Venezuela': 'Maps of the Federal dependencies of Venezuela',\n",
       " 'Maps of islands of Nueva Esparta': 'Maps of Nueva Esparta',\n",
       " 'The Federated States of Micronesia': 'Federated States of Micronesia',\n",
       " 'The Republic of China': 'Republic of China',\n",
       " 'The Republic of China (1912–1949)': 'Republic of China (1912–1949)',\n",
       " 'The Saar Protectorate': 'Saar Protectorate',\n",
       " 'The Marshall Islands': 'Marshall Islands',\n",
       " 'The Solomon Islands': 'Solomon Islands',\n",
       " 'The British Indian Ocean Territory': 'British Indian Ocean Territory',\n",
       " 'The Soviet Union': 'Soviet Union',\n",
       " 'The United Nations': 'United Nations',\n",
       " 'The Andean Community': 'Andean Community',\n",
       " 'The Free City of Danzig': 'Free City of Danzig',\n",
       " 'The Ottoman Empire': 'Ottoman Empire',\n",
       " 'The British Gold Coast': 'British Gold Coast',\n",
       " 'The Dutch East Indies': 'Dutch East Indies',\n",
       " 'US Virgin Islands': 'United States Virgin Islands',\n",
       " 'The Khmer Republic': 'Khmer Republic',\n",
       " 'The Niger': 'Niger',\n",
       " 'The United Arab Republic': 'United Arab Republic',\n",
       " 'The Russian Olympic Committee': 'Russian Olympic Committee',\n",
       " 'The Russian Paralympic Committee': 'Russian Paralympic Committee',\n",
       " 'College Hill Historic District (Providence, Rhode Island)': 'College Hill, Providence',\n",
       " 'Samuel J.F. Thayer': 'Samuel J. F. Thayer',\n",
       " 'Old Providence Journal building (1906)': 'Old Providence Journal Building (1906)',\n",
       " 'Captain John Huyler Homestead': 'Peter Huyler House',\n",
       " 'Adams Gristmill Museum': 'Adams Gristmill Warehouse',\n",
       " 'Federal Office Building (San Francisco, California)': '50 United Nations Plaza Federal Office Building (San Francisco)',\n",
       " 'The State of Palestine': 'State of Palestine',\n",
       " 'Fredric R. Mann Auditorium': 'Charles Bronfman Auditorium',\n",
       " 'Drawings by John LaFarge': 'Drawings by John La Farge',\n",
       " 'Despairing Adolescent by Auguste Rodin': 'The Prodigal Son by Auguste Rodin',\n",
       " 'Genie of Eternal Rest by Auguste Rodin': 'The Spirit of Eternal Repose by Auguste Rodin',\n",
       " \"Miller's New York as it is, or, Stranger's guide-book to the cities of New York, Brooklyn and adjacent places - comprising notices of every object of interest to strangers (1876)\": \"Miller's New York (1876)\",\n",
       " 'New Montgomery Street': 'New Montgomery Street (San Francisco)',\n",
       " 'Metropolitan Storage Warehouse': 'Metropolitan Storage Warehouse (MIT Building W41)',\n",
       " 'Adolf Hitler with kids': 'Adolf Hitler with children',\n",
       " 'Tietig and Lee': 'Tietig & Lee',\n",
       " 'NYPL': 'New York Public Library',\n",
       " 'Congregation Adas Yisroel Anshe Mezeritz': 'Meserich Synagogue'}"
      ]
     },
     "execution_count": 28,
     "metadata": {},
     "output_type": "execute_result"
    }
   ],
   "source": [
    "# Build a dictionary of redirects (old_title -> redirect_title)\n",
    "category_redirects = {normalize_title(r.title): normalize_title(r.redirect._title) \n",
    "                      for r in commons_categories_raw.filter('redirect is not null').collect()}\n",
    "category_redirects"
   ]
  },
  {
   "cell_type": "code",
   "execution_count": null,
   "id": "5ef081ed",
   "metadata": {},
   "outputs": [],
   "source": [
    "categories_regex = re.compile('(?<!wpTextbox1\\.value\\+=\\')(?<!wpTextbox1\\.value=\\')\\[\\[(Category:[^\\|]*?)(?:\\|.*?)*\\]\\]')\n",
    "hiddencat_regex = re.compile('__HIDDENCAT__' + \n",
    "                             '|\\{\\{[hH]iddencat\\}\\}' + \n",
    "                             '|\\{\\{[uU]ser category.*?\\}\\}' +\n",
    "                             '|\\{\\{[gG]lobal maintenance category\\}\\}' +\n",
    "                             '|\\[\\[(Category:Categories for discussion[^\\|]*?)(?:\\|.*?)*\\]\\]' +\n",
    "                             '|\\[\\[(Category:Media contributed by[^\\|]*?)(?:\\|.*?)*\\]\\]')"
   ]
  },
  {
   "cell_type": "code",
   "execution_count": 30,
   "id": "55b6d41d-d11d-4ff8-ad2c-ba7f2c431073",
   "metadata": {},
   "outputs": [],
   "source": [
    "class ChildsAccumulator(AccumulatorParam):\n",
    "    '''\n",
    "    Accumulator for childs: a dictionary mapping each category to its childs\n",
    "    '''\n",
    "    def zero(self, value):\n",
    "        return defaultdict(list)\n",
    "\n",
    "    def addInPlace(self, val1, val2):\n",
    "        for key, value in val2.items():\n",
    "            val1[key] += value\n",
    "        return val1"
   ]
  },
  {
   "cell_type": "code",
   "execution_count": 31,
   "id": "03bf2dad-11f8-4400-8304-7d767b297193",
   "metadata": {
    "tags": []
   },
   "outputs": [],
   "source": [
    "def extract_category(row):\n",
    "    '''\n",
    "    Extract the details of a category\n",
    "    '''\n",
    "    title = normalize_title(row.title)\n",
    "    text = row.revision.text._VALUE\n",
    "        \n",
    "    parents = re.findall(categories_regex, text) if text else []\n",
    "    parents = [category_redirects[normalize_title(parent)] if normalize_title(parent) \n",
    "               in category_redirects.keys() else normalize_title(parent) for parent in parents]\n",
    "    global acc\n",
    "    if parents:\n",
    "        acc += {parent: [title] for parent in parents}\n",
    "    return Row(\n",
    "        id=row.id,\n",
    "        title=title,\n",
    "        parents=parents,\n",
    "        hiddencat=re.search(hiddencat_regex, text) is not None if text else False\n",
    "    )"
   ]
  },
  {
   "cell_type": "code",
   "execution_count": 32,
   "id": "562fa86b-1ed3-4d36-84cc-76d3d16a79b8",
   "metadata": {},
   "outputs": [],
   "source": [
    "# Schema of the processed categories DataFrame\n",
    "schema_cat = StructType([StructField(\"id\", IntegerType(), True),\n",
    "                         StructField(\"title\", StringType(), True),\n",
    "                         StructField(\"parents\", ArrayType(StringType()), True),\n",
    "                         StructField(\"hiddencat\", BooleanType(), True)])"
   ]
  },
  {
   "cell_type": "code",
   "execution_count": 33,
   "id": "fd88f17e-9c3a-432a-bd73-8e10848623e4",
   "metadata": {},
   "outputs": [],
   "source": [
    "# We ignore redirect categories, eventually remapping parents to their redirects\n",
    "acc = sc.accumulator(defaultdict(list), ChildsAccumulator())\n",
    "categories_clean = spark.createDataFrame(commons_categories_raw.filter('redirect is null')\\\n",
    "                                            .rdd.map(extract_category).filter(lambda r: r is not None), \n",
    "                                         schema=schema_cat)\n",
    "\n",
    "# commons_categories_raw.unpersist()\n",
    "# categories_clean.persist();"
   ]
  },
  {
   "cell_type": "code",
   "execution_count": 34,
   "id": "9160c232",
   "metadata": {},
   "outputs": [
    {
     "name": "stderr",
     "output_type": "stream",
     "text": [
      "                                                                                \r"
     ]
    }
   ],
   "source": [
    "# Workaround for the fact that the value of acc is used before it is filled\n",
    "\n",
    "TEMP_PATH = '../../dump.xml'\n",
    "\n",
    "categories_clean.write.format(\"com.databricks.spark.xml\").mode(\"overwrite\")\\\n",
    "                                         .options(rowTag='page', rootTag='pages').save(TEMP_PATH)\n",
    "\n",
    "# Remove files\n",
    "shutil.rmtree(TEMP_PATH)"
   ]
  },
  {
   "cell_type": "code",
   "execution_count": 35,
   "id": "2ca709dc-e7d5-4391-98ea-6dbc6c69888d",
   "metadata": {},
   "outputs": [],
   "source": [
    "schema_childs = StructType([StructField('title', StringType(), True),\n",
    "                            StructField('childs', ArrayType(StringType(), True), True)])"
   ]
  },
  {
   "cell_type": "code",
   "execution_count": 36,
   "id": "0b54405a-86cc-4617-a770-75987e4f0415",
   "metadata": {},
   "outputs": [],
   "source": [
    "childs_df = spark.createDataFrame(acc.value.items(), schema=schema_childs)"
   ]
  },
  {
   "cell_type": "code",
   "execution_count": 37,
   "id": "1291a1a4-a05f-4480-b23a-24971a5f82a6",
   "metadata": {},
   "outputs": [],
   "source": [
    "categories = categories_clean.alias('c').join(childs_df, categories_clean.title==childs_df.title).select('c.*', 'childs')\n",
    "# categories_clean.unpersist();\n",
    "# categories.persist();"
   ]
  },
  {
   "cell_type": "code",
   "execution_count": 38,
   "id": "6ee01b91",
   "metadata": {},
   "outputs": [
    {
     "name": "stderr",
     "output_type": "stream",
     "text": [
      "22/04/24 20:37:57 WARN TaskSetManager: Stage 17 contains a task of very large size (254960 KiB). The maximum recommended task size is 1000 KiB.\n",
      "                                                                                \r"
     ]
    }
   ],
   "source": [
    "categories.write.mode(\"overwrite\").parquet(CATEGORIES_PATH)"
   ]
  },
  {
   "cell_type": "code",
   "execution_count": 5,
   "id": "8dba6f37",
   "metadata": {},
   "outputs": [
    {
     "name": "stderr",
     "output_type": "stream",
     "text": [
      "                                                                                \r"
     ]
    }
   ],
   "source": [
    "categories = spark.read.parquet(CATEGORIES_PATH)"
   ]
  },
  {
   "cell_type": "code",
   "execution_count": 6,
   "id": "2104faf9",
   "metadata": {},
   "outputs": [
    {
     "name": "stdout",
     "output_type": "stream",
     "text": [
      "+---------+--------------------+--------------------+---------+--------------------+\n",
      "|       id|               title|             parents|hiddencat|              childs|\n",
      "+---------+--------------------+--------------------+---------+--------------------+\n",
      "| 23177791|        'Allo 'Allo!|[Television serie...|    false|[David Croft (TV ...|\n",
      "|115348453|  't Loo (Oldebroek)|[Oldebroek, Popul...|    false|[Landgoed 't Loo ...|\n",
      "| 27181563|            't Rooth|[Eijsden-Margrate...|    false|[Wayside cross Sm...|\n",
      "| 12768111|       't Sas, Breda|[Buildings in Bre...|    false|[Voormalige Horec...|\n",
      "| 97762284|'t Vissertje (Dor...|[Neighbourhoods o...|    false|[Kyck over den Dyck]|\n",
      "| 70902081|(1′B)+(B1′) locom...|[Locomotives by U...|    false|[(1Bo)+(Bo1) loco...|\n",
      "| 61949648|               -10°C|                  []|    false|[Thermometers sho...|\n",
      "|  2535673|         .357 Magnum|[Pistol and rifle...|    false|[Colt Trooper, Co...|\n",
      "|  3359431|0-6-2+2-6-0 locom...|[Locomotives by W...|    false|[Du Bousquet loco...|\n",
      "| 90943757|0.1 kilometers br...|[Bridges in Iran ...|    false|[Felezi Bridge (I...|\n",
      "| 91933582|0.4 kilometers br...|[Bridges in Iran ...|    false|[Qotur Bridge, Ah...|\n",
      "| 36386359|0.5 United States...|[Money of the Uni...|    false|[Half dollar (Uni...|\n",
      "| 46494766|         01 (number)|[Number 1 by depi...|    false|[Number 01 on aut...|\n",
      "| 55606466|03 yellow (bort n...|                  []|    false|  [03 yellow (Mi-2)]|\n",
      "| 55583582|08 red (bort number)|                  []|    false|    [08 red (Il-14)]|\n",
      "|  2406701|               0s BC|                  []|    false|[0s BC art, 0s BC...|\n",
      "| 87288012|1 Maja Street in ...|[Streets in Biała...|    false|[Rectory in Biała...|\n",
      "| 14862576|1 Maja Street in ...|[Streets in Katow...|    false|[50, 1 Maja Stree...|\n",
      "|  7201828|1 Maja Street in ...|[Streets in Słubice]|    false|[Virgin Mary Quee...|\n",
      "| 12353889| 1 Place Ville-Marie|[Place Ville-Mari...|    false|[1 Place Ville-Ma...|\n",
      "+---------+--------------------+--------------------+---------+--------------------+\n",
      "only showing top 20 rows\n",
      "\n"
     ]
    },
    {
     "name": "stderr",
     "output_type": "stream",
     "text": [
      "                                                                                \r"
     ]
    }
   ],
   "source": [
    "categories.show()"
   ]
  },
  {
   "cell_type": "code",
   "execution_count": 7,
   "id": "8aaa645e-3028-4e98-a1da-0010cdbb4aa8",
   "metadata": {},
   "outputs": [
    {
     "name": "stderr",
     "output_type": "stream",
     "text": [
      "                                                                                \r"
     ]
    }
   ],
   "source": [
    "hidden_categories = categories.filter('hiddencat is True').select('title').rdd.flatMap(lambda x: x).collect()"
   ]
  },
  {
   "cell_type": "code",
   "execution_count": 8,
   "id": "105b43b1-da14-42e7-b0a3-71562e36f974",
   "metadata": {},
   "outputs": [
    {
     "data": {
      "text/plain": [
       "16352"
      ]
     },
     "execution_count": 8,
     "metadata": {},
     "output_type": "execute_result"
    }
   ],
   "source": [
    "len(hidden_categories)"
   ]
  },
  {
   "cell_type": "markdown",
   "id": "56cba5ca-1e47-4740-beb3-7cd854dd3cde",
   "metadata": {},
   "source": [
    "## Files"
   ]
  },
  {
   "cell_type": "code",
   "execution_count": 31,
   "id": "ae495bfe-99a2-4735-b105-cfc50d424494",
   "metadata": {},
   "outputs": [
    {
     "name": "stderr",
     "output_type": "stream",
     "text": [
      "                                                                                \r"
     ]
    }
   ],
   "source": [
    "commons_files_raw = spark.read.format('com.databricks.spark.xml') \\\n",
    "                                .options(rowTag='page').load(COMMONS_DUMP)\\\n",
    "                                .filter(\"ns = '6'\")\n",
    "# commons_files_raw.persist();"
   ]
  },
  {
   "cell_type": "code",
   "execution_count": 32,
   "id": "0437442b-9d70-4a6f-a20c-bd386a343332",
   "metadata": {},
   "outputs": [
    {
     "name": "stderr",
     "output_type": "stream",
     "text": [
      "                                                                                \r"
     ]
    }
   ],
   "source": [
    "# Build a dictionary of redirects\n",
    "file_redirects = {normalize_title(r.title): normalize_title(r.redirect._title)\n",
    "                  for r in commons_files_raw.filter('redirect is not null').collect()}\n",
    "# file_redirects"
   ]
  },
  {
   "cell_type": "markdown",
   "id": "1a698ca9-9a92-40ec-8d44-0148c12050f5",
   "metadata": {},
   "source": [
    "For now, we consider only the images that appear in en.wikipedia, discarding all the others. We can also ignore redirects."
   ]
  },
  {
   "cell_type": "code",
   "execution_count": 33,
   "id": "a214f82d-6ea7-4fc5-9bb6-7d8746af67be",
   "metadata": {},
   "outputs": [],
   "source": [
    "wiki_image_names = []\n",
    "\n",
    "for chunk in WIT_DATASET:\n",
    "    wiki_image_names += pd.read_csv(chunk, sep=\"\\t\").query(\"language == 'en'\")\\\n",
    "                            .image_url.apply(lambda r: normalize_title(r.split('/')[-1], False)).tolist()"
   ]
  },
  {
   "cell_type": "code",
   "execution_count": 34,
   "id": "21abc0dd-f651-444a-95c5-6c9bb7cde966",
   "metadata": {},
   "outputs": [],
   "source": [
    "# Keep only unique values\n",
    "wiki_image_names = set(wiki_image_names)\n",
    "\n",
    "# Remap redirects\n",
    "wiki_image_names = {file_redirects[name] if name in file_redirects.keys() else name for name in wiki_image_names}"
   ]
  },
  {
   "cell_type": "code",
   "execution_count": 35,
   "id": "6412de9f-8ad7-4c82-b49f-2599081fc790",
   "metadata": {},
   "outputs": [],
   "source": [
    "def extract_file(row):\n",
    "    '''\n",
    "    Extract the details of a file\n",
    "    '''\n",
    "    text = row.revision.text._VALUE\n",
    "\n",
    "    categories = re.findall(categories_regex, text) if text else []\n",
    "    \n",
    "    # No way to do this with a list comprehension (nested conditions work only if there is always an else)\n",
    "    # Remap categories to their redirect and filter hidden categories\n",
    "    categories_nohidd = []\n",
    "    for category in categories:\n",
    "        category_norm = normalize_title(category)\n",
    "        if(category_norm not in hidden_categories):\n",
    "            if(category_norm in category_redirects.keys()):\n",
    "                if((c:=category_redirects[category_norm]) not in hidden_categories):\n",
    "                    categories_nohidd.append(c)\n",
    "            else:\n",
    "                categories_nohidd.append(category_norm)\n",
    "\n",
    "    return Row(\n",
    "        id=row.id,\n",
    "        title=normalize_title(row.title),\n",
    "        categories=categories_nohidd\n",
    "    )"
   ]
  },
  {
   "cell_type": "code",
   "execution_count": 36,
   "id": "d08b05a6-7d88-4dfb-a937-2387898b8002",
   "metadata": {},
   "outputs": [],
   "source": [
    "# Schema of the processed files DataFrame\n",
    "schema_files = StructType([StructField(\"id\", IntegerType(), True),\n",
    "                           StructField(\"title\", StringType(), True),\n",
    "                           StructField(\"categories\", ArrayType(StringType()), True)])"
   ]
  },
  {
   "cell_type": "code",
   "execution_count": 37,
   "id": "db49e495-8be0-465e-8d87-9e9ca4f82ae7",
   "metadata": {},
   "outputs": [],
   "source": [
    "# Also for files, we ignore redirects\n",
    "files = spark.createDataFrame(commons_files_raw.filter('redirect is null')\\\n",
    "                                        .rdd.map(extract_file).filter(lambda r: r is not None), \n",
    "                              schema=schema_files)\n",
    "# commons_files_raw.unpersist();"
   ]
  },
  {
   "cell_type": "code",
   "execution_count": 38,
   "id": "71f1a788",
   "metadata": {},
   "outputs": [
    {
     "name": "stderr",
     "output_type": "stream",
     "text": [
      "                                                                                \r"
     ]
    }
   ],
   "source": [
    "files.write.mode(\"overwrite\").parquet(FILES_PATH)"
   ]
  },
  {
   "cell_type": "code",
   "execution_count": 39,
   "id": "1d237794",
   "metadata": {},
   "outputs": [],
   "source": [
    "files = spark.read.parquet(FILES_PATH)"
   ]
  },
  {
   "cell_type": "code",
   "execution_count": 40,
   "id": "1b67dc79",
   "metadata": {},
   "outputs": [
    {
     "name": "stdout",
     "output_type": "stream",
     "text": [
      "+---------+--------------------+--------------------+\n",
      "|       id|               title|          categories|\n",
      "+---------+--------------------+--------------------+\n",
      "|114792323|PATRICK MAGO (179...|[Players of Mount...|\n",
      "|114792324|RETURN TO REDFERN...|[Photographs by N...|\n",
      "|114792325|View from the Sev...|         [Arlingham]|\n",
      "|114792326|RETURN TO REDFERN...|[Photographs by N...|\n",
      "|114792328|RETURN TO REDFERN...|[Photographs by N...|\n",
      "|114792329| Marina Goliasse.jpg|                  []|\n",
      "|114792330|Downtown Ferndale...|                  []|\n",
      "|114792331|MATT PLACE (18392...|[Players of Mount...|\n",
      "|114792332|Benchmark on Citi...|[Richmond, North ...|\n",
      "|114792334|Portrait photogra...|  [Joséphin Péladan]|\n",
      "|114792335|SONNY BRISTOW (18...|[Players of Mount...|\n",
      "|114792336|The River Ayr - g...|[Ayr (civil paris...|\n",
      "|114792337|MATT PLACE (18370...|[Players of Mount...|\n",
      "|114792338|Path to Coton - g...|[Coton, Cambridge...|\n",
      "|114792339|MICHAEL MORRIS (1...|[Players of Mount...|\n",
      "|114792340|On top of A'Bhuid...|[Blair Atholl (ci...|\n",
      "|114792341|North Ave looking...|[Bank of America ...|\n",
      "|114792342|North Ave looking...|[Atlanta in the 2...|\n",
      "|114792343|Atlanta Women’s C...|[Atlanta Women's ...|\n",
      "|114792345|Woodruff Arts Cen...|[Woodruff Arts Ce...|\n",
      "+---------+--------------------+--------------------+\n",
      "only showing top 20 rows\n",
      "\n"
     ]
    }
   ],
   "source": [
    "files.show()"
   ]
  },
  {
   "cell_type": "markdown",
   "id": "a257d802",
   "metadata": {},
   "source": [
    "## Categories/2"
   ]
  },
  {
   "cell_type": "code",
   "execution_count": 41,
   "id": "428a4d7f",
   "metadata": {},
   "outputs": [
    {
     "name": "stderr",
     "output_type": "stream",
     "text": [
      "                                                                                \r"
     ]
    }
   ],
   "source": [
    "# List of categories that appear in en.wikipedia\n",
    "categories_in_wikipedia = files.rdd.flatMap(lambda x: x.categories).distinct().map(Row(\"title\")).toDF()\n",
    "categories_in_wikipedia = categories_in_wikipedia.withColumn('in_en_wiki', lit(True))"
   ]
  },
  {
   "cell_type": "code",
   "execution_count": 42,
   "id": "fbdec4f8",
   "metadata": {},
   "outputs": [
    {
     "name": "stdout",
     "output_type": "stream",
     "text": [
      "+--------------------+----------+\n",
      "|               title|in_en_wiki|\n",
      "+--------------------+----------+\n",
      "| Santon, Isle of Man|      true|\n",
      "|Christmas 2020 in...|      true|\n",
      "|Pacific Sogo Depa...|      true|\n",
      "|Players (men) by ...|      true|\n",
      "|Songs of the Beatles|      true|\n",
      "+--------------------+----------+\n",
      "only showing top 5 rows\n",
      "\n"
     ]
    }
   ],
   "source": [
    "categories_in_wikipedia.show(5)"
   ]
  },
  {
   "cell_type": "code",
   "execution_count": 43,
   "id": "ef66f2a5",
   "metadata": {},
   "outputs": [
    {
     "data": {
      "text/plain": [
       "190009"
      ]
     },
     "execution_count": 43,
     "metadata": {},
     "output_type": "execute_result"
    }
   ],
   "source": [
    "categories_in_wikipedia.count()"
   ]
  },
  {
   "cell_type": "code",
   "execution_count": 44,
   "id": "251f82a7",
   "metadata": {},
   "outputs": [],
   "source": [
    "categories = categories.alias('c').join(categories_in_wikipedia, 'title', 'left').select('c.*', categories_in_wikipedia.in_en_wiki)\n",
    "categories = categories.na.fill(False, subset=[\"in_en_wiki\"])"
   ]
  },
  {
   "cell_type": "code",
   "execution_count": 45,
   "id": "481d61c7",
   "metadata": {},
   "outputs": [
    {
     "data": {
      "text/plain": [
       "1746"
      ]
     },
     "execution_count": 45,
     "metadata": {},
     "output_type": "execute_result"
    }
   ],
   "source": [
    "categories.filter('in_en_wiki == True').count()"
   ]
  },
  {
   "cell_type": "code",
   "execution_count": 48,
   "id": "e8214b6f",
   "metadata": {},
   "outputs": [],
   "source": [
    "temp_path = '.'.join(CATEGORIES_PATH.split('.')[:-1]) + '-temp.parquet'\n",
    "categories.write.mode(\"overwrite\").parquet(temp_path)\n",
    "\n",
    "shutil.rmtree(CATEGORIES_PATH)\n",
    "os.rename(temp_path, CATEGORIES_PATH)"
   ]
  },
  {
   "cell_type": "markdown",
   "id": "6c3db6c0-c58e-4aac-89f7-c661bb1ead51",
   "metadata": {},
   "source": [
    "## Close"
   ]
  },
  {
   "cell_type": "code",
   "execution_count": null,
   "id": "7b371038-b617-4b6c-93b9-caa9a61f82d1",
   "metadata": {},
   "outputs": [],
   "source": [
    "spark.stop()"
   ]
  }
 ],
 "metadata": {
  "interpreter": {
   "hash": "04bf3c03e93e0e94a1d038aa36107c2a70cb015ab0da2208309d202be833925b"
  },
  "kernelspec": {
   "display_name": "Python [conda env:ada] *",
   "language": "python",
   "name": "python3"
  },
  "language_info": {
   "codemirror_mode": {
    "name": "ipython",
    "version": 3
   },
   "file_extension": ".py",
   "mimetype": "text/x-python",
   "name": "python",
   "nbconvert_exporter": "python",
   "pygments_lexer": "ipython3",
   "version": "3.9.7"
  }
 },
 "nbformat": 4,
 "nbformat_minor": 5
}
