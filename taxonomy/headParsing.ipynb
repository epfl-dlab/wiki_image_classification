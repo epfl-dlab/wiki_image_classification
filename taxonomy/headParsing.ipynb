{
 "cells": [
  {
   "cell_type": "code",
   "execution_count": 1,
   "metadata": {},
   "outputs": [],
   "source": [
    "from headParsing import find_head"
   ]
  },
  {
   "cell_type": "code",
   "execution_count": 2,
   "metadata": {},
   "outputs": [
    {
     "data": {
      "application/vnd.jupyter.widget-view+json": {
       "model_id": "e2b0932d88044676a9ba06b18dda22bf",
       "version_major": 2,
       "version_minor": 0
      },
      "text/plain": [
       "Downloading https://raw.githubusercontent.com/stanfordnlp/stanza-resources/main/resources_1.4.0.json:   0%|   …"
      ]
     },
     "metadata": {},
     "output_type": "display_data"
    },
    {
     "name": "stderr",
     "output_type": "stream",
     "text": [
      "2022-04-30 18:20:06 INFO: Loading these models for language: en (English):\n",
      "===========================\n",
      "| Processor    | Package  |\n",
      "---------------------------\n",
      "| tokenize     | combined |\n",
      "| pos          | combined |\n",
      "| constituency | wsj      |\n",
      "===========================\n",
      "\n",
      "2022-04-30 18:20:06 INFO: Use device: gpu\n",
      "2022-04-30 18:20:06 INFO: Loading: tokenize\n",
      "2022-04-30 18:20:10 INFO: Loading: pos\n",
      "2022-04-30 18:20:10 INFO: Loading: constituency\n",
      "2022-04-30 18:20:11 INFO: Done loading processors!\n"
     ]
    }
   ],
   "source": [
    "import stanza\n",
    "nlp = stanza.Pipeline(lang='en', processors='tokenize,pos,constituency')\n"
   ]
  },
  {
   "cell_type": "code",
   "execution_count": 7,
   "metadata": {},
   "outputs": [
    {
     "name": "stdout",
     "output_type": "stream",
     "text": [
      "Films shot in New Jersey \t- head: Films\n",
      "American comedy films \t- head: comedy films\n",
      "1978 debut albums \t- head: debut albums\n",
      "Allegories of humility \t- head: Allegories\n",
      "1983 in water transport in Japan \t- head: 1983\n",
      "Civil parishes in North Yorkshire \t- head: parishes\n",
      "The New Orleans Bee October 1908 \t- head: New Orleans Bee October\n",
      "Socata TB-10 at Flugplatz Uetersen \t- head: Socata TB\n",
      "Portrait paintings by Alexei Harlamov \t- head: Portrait paintings\n",
      "Family portraits of Russia \t- head: Family portraits\n",
      "Maria Pavlovna Abamelik-Lazareva (Demidova) \t- head: Lazareva\n",
      "Historical photographs of Kano \t- head: photographs\n",
      "Maps of Vigneux-sur-Seine \t- head: Maps\n",
      "California Digital Library \t- head: Library\n",
      "Old books from American Libraries \t- head: books\n",
      "Schlosspark Vösendorf \t- head: Schlosspark Vösendorf\n",
      "Comedy films of the United States \t- head: Comedy films\n"
     ]
    }
   ],
   "source": [
    "tests= ['Films shot in New Jersey', 'American comedy films', '1978 debut albums', 'Allegories of humility',\n",
    "        '1983 in water transport in Japan', 'Civil parishes in North Yorkshire', 'The New Orleans Bee October 1908',\n",
    "        'Socata TB-10 at Flugplatz Uetersen', 'Portrait paintings by Alexei Harlamov', 'Family portraits of Russia',\n",
    "        'Maria Pavlovna Abamelik-Lazareva (Demidova)',  'Historical photographs of Kano', 'Maps of Vigneux-sur-Seine', \n",
    "        'California Digital Library', 'Old books from American Libraries', 'Schlosspark Vösendorf', 'Comedy films of the United States']\n",
    "\n",
    "\n",
    "for test in tests:\n",
    "    print(test, '\\t- head: ' + find_head(test, nlp))"
   ]
  },
  {
   "cell_type": "code",
   "execution_count": 8,
   "metadata": {},
   "outputs": [
    {
     "data": {
      "text/plain": [
       "(ROOT (NP (NP (NN Comedy) (NNS films)) (PP (IN of) (NP (DT the) (NNP United) (NNPS States)))))"
      ]
     },
     "execution_count": 8,
     "metadata": {},
     "output_type": "execute_result"
    }
   ],
   "source": [
    "nlp('Comedy films of the United States').sentences[0].constituency"
   ]
  }
 ],
 "metadata": {
  "interpreter": {
   "hash": "04bf3c03e93e0e94a1d038aa36107c2a70cb015ab0da2208309d202be833925b"
  },
  "kernelspec": {
   "display_name": "Python 3.9.7 ('francesco': conda)",
   "language": "python",
   "name": "python3"
  },
  "language_info": {
   "codemirror_mode": {
    "name": "ipython",
    "version": 3
   },
   "file_extension": ".py",
   "mimetype": "text/x-python",
   "name": "python",
   "nbconvert_exporter": "python",
   "pygments_lexer": "ipython3",
   "version": "3.9.7"
  },
  "orig_nbformat": 4
 },
 "nbformat": 4,
 "nbformat_minor": 2
}
