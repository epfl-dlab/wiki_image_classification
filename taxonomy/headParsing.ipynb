{
 "cells": [
  {
   "cell_type": "code",
   "execution_count": 1,
   "metadata": {},
   "outputs": [],
   "source": [
    "import stanza"
   ]
  },
  {
   "cell_type": "code",
   "execution_count": 2,
   "metadata": {},
   "outputs": [
    {
     "data": {
      "application/vnd.jupyter.widget-view+json": {
       "model_id": "718a791948ea442da88886e12174a434",
       "version_major": 2,
       "version_minor": 0
      },
      "text/plain": [
       "Downloading https://raw.githubusercontent.com/stanfordnlp/stanza-resources/main/resources_1.4.0.json:   0%|   …"
      ]
     },
     "metadata": {},
     "output_type": "display_data"
    },
    {
     "name": "stderr",
     "output_type": "stream",
     "text": [
      "2022-04-27 21:36:46 INFO: Loading these models for language: en (English):\n",
      "===========================\n",
      "| Processor    | Package  |\n",
      "---------------------------\n",
      "| tokenize     | combined |\n",
      "| pos          | combined |\n",
      "| constituency | wsj      |\n",
      "===========================\n",
      "\n",
      "/home/salvi/.conda/envs/francesco/lib/python3.9/site-packages/torch/cuda/__init__.py:82: UserWarning: CUDA initialization: The NVIDIA driver on your system is too old (found version 10010). Please update your GPU driver by downloading and installing a new version from the URL: http://www.nvidia.com/Download/index.aspx Alternatively, go to: https://pytorch.org to install a PyTorch version that has been compiled with your version of the CUDA driver. (Triggered internally at  ../c10/cuda/CUDAFunctions.cpp:112.)\n",
      "  return torch._C._cuda_getDeviceCount() > 0\n",
      "2022-04-27 21:36:46 INFO: Use device: cpu\n",
      "2022-04-27 21:36:46 INFO: Loading: tokenize\n",
      "2022-04-27 21:36:46 INFO: Loading: pos\n",
      "2022-04-27 21:36:47 INFO: Loading: constituency\n",
      "2022-04-27 21:36:48 INFO: Done loading processors!\n"
     ]
    }
   ],
   "source": [
    "nlp = stanza.Pipeline(lang='en', processors='tokenize,pos,constituency')"
   ]
  },
  {
   "cell_type": "code",
   "execution_count": 9,
   "metadata": {},
   "outputs": [],
   "source": [
    "def find_head(tree):\n",
    "    '''\n",
    "    Get head of a Noun Phrase. Based on a simplified version of Michael Collins' 1999 rules.\n",
    "    Returns the maximal sequence of noun-tagged words, instead of a 1-word head.\n",
    "    Cf https://stackoverflow.com/questions/32654704/finding-head-of-a-noun-phrase-in-nltk-and-stanford-parse-according-to-the-rules\n",
    "    '''\n",
    "\n",
    "    # Get the first NP\n",
    "    while(tree.label != 'NP'):\n",
    "        tree = tree.children[0]\n",
    "    \n",
    "    # Break compound sentence\n",
    "    while(tree.children[0].label == 'NP'):\n",
    "        tree = tree.children[0]\n",
    "    \n",
    "\n",
    "    if(tree.children[-1].label == 'POS'):\n",
    "        return tree.children[-1]\n",
    "    \n",
    "    head = []\n",
    "    for child in tree.children[::-1]:\n",
    "\n",
    "        if(child.label in ['NN', 'NNS', 'NNP', 'NNPS', 'NNS', 'POS', 'JJR']):\n",
    "            head += child.leaf_labels()\n",
    "        elif(child.label in ['NML']):\n",
    "            head += child.leaf_labels()[::-1]\n",
    "        elif(head):\n",
    "            break\n",
    "    \n",
    "    if head:\n",
    "        return ' '.join(head[::-1])\n",
    "\n",
    "    for child in tree.children:\n",
    "        if(child.label in ['ADJP', 'PRN']):\n",
    "            return child.leaf_labels()[0]\n",
    "\n",
    "    for child in tree.children:\n",
    "        if(child.label in ['CD']):\n",
    "            return child.leaf_labels()[0]\n",
    "\n",
    "    for child in tree.children:\n",
    "        if(child.label in ['JJ', 'JJS', 'RB', 'QP']):\n",
    "            return child.leaf_labels()[0]\n",
    "    \n",
    "    return tree.children[-1].leaf_labels()[0]\n",
    "    "
   ]
  },
  {
   "cell_type": "code",
   "execution_count": 12,
   "metadata": {},
   "outputs": [
    {
     "name": "stdout",
     "output_type": "stream",
     "text": [
      "Films shot in New Jersey \t- head: Films\n",
      "American comedy films \t- head: comedy films\n",
      "1978 debut albums \t- head: debut albums\n",
      "Allegories of humility \t- head: Allegories\n",
      "1983 in water transport in Japan \t- head: 1983\n",
      "Civil parishes in North Yorkshire \t- head: parishes\n",
      "The New Orleans Bee October 1908 \t- head: New Orleans Bee October\n",
      "Socata TB-10 at Flugplatz Uetersen \t- head: Socata TB\n",
      "Portrait paintings by Alexei Harlamov \t- head: Portrait paintings\n",
      "Family portraits of Russia \t- head: Family portraits\n",
      "Maria Pavlovna Abamelik-Lazareva (Demidova) \t- head: Lazareva\n",
      "Historical photographs of Kano \t- head: photographs\n",
      "Maps of Vigneux-sur-Seine \t- head: Maps\n",
      "California Digital Library \t- head: Library\n",
      "Old books from American Libraries \t- head: books\n",
      "Schlosspark Vösendorf \t- head: Schlosspark Vösendorf\n"
     ]
    }
   ],
   "source": [
    "tests= ['Films shot in New Jersey', 'American comedy films', '1978 debut albums', 'Allegories of humility',\n",
    "        '1983 in water transport in Japan', 'Civil parishes in North Yorkshire', 'The New Orleans Bee October 1908',\n",
    "        'Socata TB-10 at Flugplatz Uetersen', 'Portrait paintings by Alexei Harlamov', 'Family portraits of Russia',\n",
    "        'Maria Pavlovna Abamelik-Lazareva (Demidova)',  'Historical photographs of Kano', 'Maps of Vigneux-sur-Seine', \n",
    "        'California Digital Library', 'Old books from American Libraries', 'Schlosspark Vösendorf']\n",
    "\n",
    "\n",
    "for test in tests:\n",
    "    doc = nlp(test)\n",
    "    tree = doc.sentences[0].constituency\n",
    "    print(test, '\\t- head: ' + find_head(tree))"
   ]
  },
  {
   "cell_type": "code",
   "execution_count": 11,
   "metadata": {},
   "outputs": [
    {
     "data": {
      "text/plain": [
       "(ROOT (NP (NP (NNP Socata) (NNP TB) (, -) (CD 10)) (PP (IN at) (NP (NNP Flugplatz) (NNP Uetersen)))))"
      ]
     },
     "execution_count": 11,
     "metadata": {},
     "output_type": "execute_result"
    }
   ],
   "source": [
    "nlp('Socata TB-10 at Flugplatz Uetersen').sentences[0].constituency"
   ]
  }
 ],
 "metadata": {
  "interpreter": {
   "hash": "04bf3c03e93e0e94a1d038aa36107c2a70cb015ab0da2208309d202be833925b"
  },
  "kernelspec": {
   "display_name": "Python 3.9.7 ('francesco': conda)",
   "language": "python",
   "name": "python3"
  },
  "language_info": {
   "codemirror_mode": {
    "name": "ipython",
    "version": 3
   },
   "file_extension": ".py",
   "mimetype": "text/x-python",
   "name": "python",
   "nbconvert_exporter": "python",
   "pygments_lexer": "ipython3",
   "version": "3.9.7"
  },
  "orig_nbformat": 4
 },
 "nbformat": 4,
 "nbformat_minor": 2
}
