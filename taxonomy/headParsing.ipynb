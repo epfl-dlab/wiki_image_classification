{
 "cells": [
  {
   "cell_type": "code",
   "execution_count": 1,
   "metadata": {},
   "outputs": [],
   "source": [
    "from headParsing import find_head"
   ]
  },
  {
   "cell_type": "code",
   "execution_count": 2,
   "metadata": {},
   "outputs": [
    {
     "data": {
      "application/vnd.jupyter.widget-view+json": {
       "model_id": "4e99a856dfeb4d87ac04cd2f547fb8b4",
       "version_major": 2,
       "version_minor": 0
      },
      "text/plain": [
       "Downloading https://raw.githubusercontent.com/stanfordnlp/stanza-resources/main/resources_1.4.0.json:   0%|   …"
      ]
     },
     "metadata": {},
     "output_type": "display_data"
    },
    {
     "name": "stderr",
     "output_type": "stream",
     "text": [
      "2022-05-16 20:19:12 INFO: Loading these models for language: en (English):\n",
      "===========================\n",
      "| Processor    | Package  |\n",
      "---------------------------\n",
      "| tokenize     | combined |\n",
      "| pos          | combined |\n",
      "| constituency | wsj      |\n",
      "===========================\n",
      "\n",
      "2022-05-16 20:19:13 INFO: Use device: gpu\n",
      "2022-05-16 20:19:13 INFO: Loading: tokenize\n",
      "2022-05-16 20:19:24 INFO: Loading: pos\n",
      "2022-05-16 20:19:24 INFO: Loading: constituency\n",
      "2022-05-16 20:19:25 INFO: Done loading processors!\n"
     ]
    },
    {
     "data": {
      "text/plain": [
       "'Commonsroot'"
      ]
     },
     "execution_count": 2,
     "metadata": {},
     "output_type": "execute_result"
    }
   ],
   "source": [
    "find_head(\"CommonsRoot\")"
   ]
  },
  {
   "cell_type": "code",
   "execution_count": 6,
   "metadata": {},
   "outputs": [
    {
     "name": "stdout",
     "output_type": "stream",
     "text": [
      "Films shot in New Jersey \t- head: Films\n",
      "American comedy films \t- head: Comedy films\n",
      "1978 debut albums \t- head: Debut albums\n",
      "Allegories of humility \t- head: Allegories\n",
      "1983 in water transport in Japan \t- head: 1983\n",
      "Civil parishes in North Yorkshire \t- head: Parishes\n",
      "The New Orleans Bee October 1908 \t- head: New orleans bee october\n",
      "Socata TB-10 at Flugplatz Uetersen \t- head: Socata tb\n",
      "Portrait paintings by Alexei Harlamov \t- head: Portrait paintings\n",
      "Family portraits of Russia \t- head: Family portraits\n",
      "Maria Pavlovna Abamelik-Lazareva (Demidova) \t- head: Lazareva\n",
      "Historical photographs of Kano \t- head: Photographs\n",
      "Maps of Vigneux-sur-Seine \t- head: Maps\n",
      "California Digital Library \t- head: Library\n",
      "Old books from American Libraries \t- head: Books\n",
      "Schlosspark Vösendorf \t- head: Schlosspark vösendorf\n",
      "Comedy films of the United States \t- head: Comedy films\n"
     ]
    }
   ],
   "source": [
    "tests= ['Films shot in New Jersey', 'American comedy films', '1978 debut albums', 'Allegories of humility',\n",
    "        '1983 in water transport in Japan', 'Civil parishes in North Yorkshire', 'The New Orleans Bee October 1908',\n",
    "        'Socata TB-10 at Flugplatz Uetersen', 'Portrait paintings by Alexei Harlamov', 'Family portraits of Russia',\n",
    "        'Maria Pavlovna Abamelik-Lazareva (Demidova)',  'Historical photographs of Kano', 'Maps of Vigneux-sur-Seine', \n",
    "        'California Digital Library', 'Old books from American Libraries', 'Schlosspark Vösendorf', 'Comedy films of the United States']\n",
    "\n",
    "\n",
    "for test in tests:\n",
    "    print(test, '\\t- head: ' + find_head(test))"
   ]
  },
  {
   "cell_type": "code",
   "execution_count": 5,
   "metadata": {},
   "outputs": [
    {
     "data": {
      "application/vnd.jupyter.widget-view+json": {
       "model_id": "f4d025fc81bc410aa67fbff32b54c1f2",
       "version_major": 2,
       "version_minor": 0
      },
      "text/plain": [
       "Downloading https://raw.githubusercontent.com/stanfordnlp/stanza-resources/main/resources_1.4.0.json:   0%|   …"
      ]
     },
     "metadata": {},
     "output_type": "display_data"
    },
    {
     "name": "stderr",
     "output_type": "stream",
     "text": [
      "2022-05-12 13:43:07 INFO: Loading these models for language: en (English):\n",
      "===========================\n",
      "| Processor    | Package  |\n",
      "---------------------------\n",
      "| tokenize     | combined |\n",
      "| pos          | combined |\n",
      "| constituency | wsj      |\n",
      "===========================\n",
      "\n",
      "2022-05-12 13:43:07 INFO: Use device: gpu\n",
      "2022-05-12 13:43:07 INFO: Loading: tokenize\n",
      "2022-05-12 13:43:07 INFO: Loading: pos\n",
      "2022-05-12 13:43:07 INFO: Loading: constituency\n",
      "2022-05-12 13:43:08 INFO: Done loading processors!\n"
     ]
    }
   ],
   "source": [
    "import stanza \n",
    "nlp = stanza.Pipeline(lang='en', processors='tokenize,pos,constituency')"
   ]
  },
  {
   "cell_type": "code",
   "execution_count": 14,
   "metadata": {},
   "outputs": [
    {
     "data": {
      "text/plain": [
       "(ROOT (NP (NP (NN Comedy) (NNS films)) (PP (IN of) (NP (DT the) (NNP United) (NNPS States)))))"
      ]
     },
     "execution_count": 14,
     "metadata": {},
     "output_type": "execute_result"
    }
   ],
   "source": [
    "nlp('Comedy films of the United States').sentences[0].constituency"
   ]
  }
 ],
 "metadata": {
  "interpreter": {
   "hash": "34f60d5170725bcbcfda4a62157b57e82ac38cc8c7dde2cd8e2d1e80481a9b69"
  },
  "kernelspec": {
   "display_name": "Python 3.9.12 ('wikiclassification': conda)",
   "language": "python",
   "name": "python3"
  },
  "language_info": {
   "codemirror_mode": {
    "name": "ipython",
    "version": 3
   },
   "file_extension": ".py",
   "mimetype": "text/x-python",
   "name": "python",
   "nbconvert_exporter": "python",
   "pygments_lexer": "ipython3",
   "version": "3.9.12"
  },
  "orig_nbformat": 4
 },
 "nbformat": 4,
 "nbformat_minor": 2
}
