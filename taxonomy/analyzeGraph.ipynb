{
 "cells": [
  {
   "cell_type": "code",
   "execution_count": 1,
   "metadata": {},
   "outputs": [],
   "source": [
    "import numpy as np \n",
    "import pandas as pd\n",
    "import networkx as nx\n",
    "import matplotlib.pyplot as plt\n",
    "import seaborn as sns\n",
    "from collections import Counter"
   ]
  },
  {
   "cell_type": "code",
   "execution_count": 2,
   "metadata": {},
   "outputs": [],
   "source": [
    "# Inputs\n",
    "CATEGORIES_PATH = '/scratch/WikipediaImagesTaxonomy/commonswiki-20220220-category-network.parquet'"
   ]
  },
  {
   "cell_type": "code",
   "execution_count": 20,
   "metadata": {},
   "outputs": [],
   "source": [
    "def build_category_graph(categories):\n",
    "        '''\n",
    "        Build the category graph, starting from the DataFrame extracted by processing dumps\n",
    "        '''\n",
    "        categories = categories.set_index('title')\n",
    "        # Build DiGraph from adjacency matrix\n",
    "        G = nx.DiGraph(categories.parents.to_dict())\n",
    "        nx.set_node_attributes(G, dict(zip(categories.index, categories[['id', 'hiddencat', 'in_en_wiki']].to_dict(orient='records'))))\n",
    "        depth = {node: len(sps) for node, sps in nx.shortest_path(G, target='CommonsRoot').items()}\n",
    "        nx.set_node_attributes(G, depth, name='depth')\n",
    "        return G"
   ]
  },
  {
   "cell_type": "code",
   "execution_count": 4,
   "metadata": {},
   "outputs": [
    {
     "data": {
      "text/html": [
       "<div>\n",
       "<style scoped>\n",
       "    .dataframe tbody tr th:only-of-type {\n",
       "        vertical-align: middle;\n",
       "    }\n",
       "\n",
       "    .dataframe tbody tr th {\n",
       "        vertical-align: top;\n",
       "    }\n",
       "\n",
       "    .dataframe thead th {\n",
       "        text-align: right;\n",
       "    }\n",
       "</style>\n",
       "<table border=\"1\" class=\"dataframe\">\n",
       "  <thead>\n",
       "    <tr style=\"text-align: right;\">\n",
       "      <th></th>\n",
       "      <th>title</th>\n",
       "      <th>id</th>\n",
       "      <th>parents</th>\n",
       "      <th>hiddencat</th>\n",
       "      <th>childs</th>\n",
       "      <th>in_en_wiki</th>\n",
       "    </tr>\n",
       "  </thead>\n",
       "  <tbody>\n",
       "    <tr>\n",
       "      <th>0</th>\n",
       "      <td>\"A decent story\", by James Gillray</td>\n",
       "      <td>97241532</td>\n",
       "      <td>[James Gillray, Wine drinking in art, Hannah H...</td>\n",
       "      <td>False</td>\n",
       "      <td>None</td>\n",
       "      <td>False</td>\n",
       "    </tr>\n",
       "    <tr>\n",
       "      <th>1</th>\n",
       "      <td>\"Alte Wache\" (Tierpark Berlin)</td>\n",
       "      <td>19337992</td>\n",
       "      <td>[Buildings in Tierpark Berlin, Eingang Schloss...</td>\n",
       "      <td>False</td>\n",
       "      <td>None</td>\n",
       "      <td>False</td>\n",
       "    </tr>\n",
       "    <tr>\n",
       "      <th>2</th>\n",
       "      <td>\"Azərişıq\" ASC</td>\n",
       "      <td>89434922</td>\n",
       "      <td>[Energy in Azerbaijan]</td>\n",
       "      <td>False</td>\n",
       "      <td>[Vugar Ahmadov, Ilham Aliyev attended opening ...</td>\n",
       "      <td>True</td>\n",
       "    </tr>\n",
       "    <tr>\n",
       "      <th>3</th>\n",
       "      <td>\"Das Feuer\" (Schlossgarten Bruchsal)</td>\n",
       "      <td>76472979</td>\n",
       "      <td>[Statues of the elements in Schlossgarten Bruc...</td>\n",
       "      <td>False</td>\n",
       "      <td>None</td>\n",
       "      <td>False</td>\n",
       "    </tr>\n",
       "    <tr>\n",
       "      <th>4</th>\n",
       "      <td>\"Der Weltkrieg\" (Cigarette card album) - Enemy...</td>\n",
       "      <td>97496426</td>\n",
       "      <td>[\"Der Weltkrieg\" (Cigarette card album)]</td>\n",
       "      <td>False</td>\n",
       "      <td>None</td>\n",
       "      <td>False</td>\n",
       "    </tr>\n",
       "  </tbody>\n",
       "</table>\n",
       "</div>"
      ],
      "text/plain": [
       "                                               title        id  \\\n",
       "0                 \"A decent story\", by James Gillray  97241532   \n",
       "1                     \"Alte Wache\" (Tierpark Berlin)  19337992   \n",
       "2                                     \"Azərişıq\" ASC  89434922   \n",
       "3               \"Das Feuer\" (Schlossgarten Bruchsal)  76472979   \n",
       "4  \"Der Weltkrieg\" (Cigarette card album) - Enemy...  97496426   \n",
       "\n",
       "                                             parents  hiddencat  \\\n",
       "0  [James Gillray, Wine drinking in art, Hannah H...      False   \n",
       "1  [Buildings in Tierpark Berlin, Eingang Schloss...      False   \n",
       "2                             [Energy in Azerbaijan]      False   \n",
       "3  [Statues of the elements in Schlossgarten Bruc...      False   \n",
       "4           [\"Der Weltkrieg\" (Cigarette card album)]      False   \n",
       "\n",
       "                                              childs  in_en_wiki  \n",
       "0                                               None       False  \n",
       "1                                               None       False  \n",
       "2  [Vugar Ahmadov, Ilham Aliyev attended opening ...        True  \n",
       "3                                               None       False  \n",
       "4                                               None       False  "
      ]
     },
     "execution_count": 4,
     "metadata": {},
     "output_type": "execute_result"
    }
   ],
   "source": [
    "categories = pd.read_parquet(CATEGORIES_PATH)\n",
    "categories.head()"
   ]
  },
  {
   "cell_type": "code",
   "execution_count": 21,
   "metadata": {},
   "outputs": [],
   "source": [
    "G = build_category_graph(categories)"
   ]
  },
  {
   "cell_type": "code",
   "execution_count": 22,
   "metadata": {},
   "outputs": [
    {
     "name": "stderr",
     "output_type": "stream",
     "text": [
      "/tmp/ipykernel_1594862/1064119803.py:1: DeprecationWarning: info is deprecated and will be removed in version 3.0.\n",
      "\n",
      "  nx.info(G)\n"
     ]
    },
    {
     "data": {
      "text/plain": [
       "'DiGraph with 11197990 nodes and 24643074 edges'"
      ]
     },
     "execution_count": 22,
     "metadata": {},
     "output_type": "execute_result"
    }
   ],
   "source": [
    "nx.info(G)"
   ]
  },
  {
   "cell_type": "code",
   "execution_count": 23,
   "metadata": {},
   "outputs": [
    {
     "name": "stdout",
     "output_type": "stream",
     "text": [
      "There are 137447 identified hidden categories, corresponding to the 1.23% of all categories\n"
     ]
    }
   ],
   "source": [
    "hiddencats = [node for node, hiddencat in nx.get_node_attributes(G, 'hiddencat').items() if hiddencat]\n",
    "print(f'There are {len(hiddencats)} identified hidden categories, corresponding to the ' +\n",
    "      f'{len(hiddencats) / G.number_of_nodes() * 100 :.2f}% of all categories')"
   ]
  },
  {
   "cell_type": "code",
   "execution_count": 25,
   "metadata": {},
   "outputs": [
    {
     "name": "stdout",
     "output_type": "stream",
     "text": [
      "There are 2921404 categories with images appearing in en.wiki, corresponding to the 26.09% of all categories\n"
     ]
    }
   ],
   "source": [
    "in_wiki_cats = [node for node, in_wiki in nx.get_node_attributes(G, 'in_en_wiki').items() if in_wiki]\n",
    "print(f'There are {len(in_wiki_cats)} categories with images appearing in en.wiki, corresponding to the ' +\n",
    "      f'{len(in_wiki_cats) / G.number_of_nodes() * 100 :.2f}% of all categories')"
   ]
  },
  {
   "cell_type": "code",
   "execution_count": 26,
   "metadata": {},
   "outputs": [],
   "source": [
    "depth = nx.get_node_attributes(G, 'depth')"
   ]
  },
  {
   "cell_type": "code",
   "execution_count": 27,
   "metadata": {},
   "outputs": [
    {
     "name": "stdout",
     "output_type": "stream",
     "text": [
      "There are 8522433 nodes connected to CommonsRoot, corresponding to the 76.11% of all categories\n"
     ]
    }
   ],
   "source": [
    "print(f'There are {len(depth)} nodes connected to CommonsRoot, corresponding to the ' +\n",
    "      f'{len(depth) / G.number_of_nodes() * 100 :.2f}% of all categories')"
   ]
  },
  {
   "cell_type": "code",
   "execution_count": 28,
   "metadata": {},
   "outputs": [
    {
     "data": {
      "text/plain": [
       "[(1, 1),\n",
       " (2, 7),\n",
       " (3, 124),\n",
       " (4, 2964),\n",
       " (5, 180965),\n",
       " (6, 455397),\n",
       " (7, 1304298),\n",
       " (8, 2133584),\n",
       " (9, 2357983),\n",
       " (10, 1334780),\n",
       " (11, 494834),\n",
       " (12, 105615),\n",
       " (13, 28322),\n",
       " (14, 17101),\n",
       " (15, 16148),\n",
       " (16, 20381),\n",
       " (17, 22943),\n",
       " (18, 14505),\n",
       " (19, 15301),\n",
       " (20, 6743),\n",
       " (21, 1485),\n",
       " (22, 1335),\n",
       " (23, 1842),\n",
       " (24, 1586),\n",
       " (25, 2497),\n",
       " (26, 835),\n",
       " (27, 574),\n",
       " (28, 258),\n",
       " (29, 10),\n",
       " (30, 10),\n",
       " (31, 5)]"
      ]
     },
     "execution_count": 28,
     "metadata": {},
     "output_type": "execute_result"
    }
   ],
   "source": [
    "sorted(Counter(depth.values()).items(), key=lambda x: x[0])"
   ]
  },
  {
   "cell_type": "code",
   "execution_count": 29,
   "metadata": {},
   "outputs": [
    {
     "data": {
      "image/png": "[encoded data removed]",
      "text/plain": [
       "<Figure size 432x288 with 1 Axes>"
      ]
     },
     "metadata": {
      "needs_background": "light"
     },
     "output_type": "display_data"
    }
   ],
   "source": [
    "counts = pd.Series(depth).value_counts(sort=False, normalize=True)\n",
    "sns.barplot(x=counts.index, y=counts.values)\n",
    "plt.xlabel('Shortest path length')\n",
    "plt.ylabel('Frequency')\n",
    "plt.show()"
   ]
  },
  {
   "cell_type": "code",
   "execution_count": 30,
   "metadata": {},
   "outputs": [],
   "source": [
    "not_connected_nodes = set(G.nodes) - set(depth.keys())"
   ]
  },
  {
   "cell_type": "code",
   "execution_count": 31,
   "metadata": {},
   "outputs": [
    {
     "data": {
      "text/plain": [
       "['',\n",
       " 'Photographs taken on 1947-04-17',\n",
       " 'Italy photographs taken on 2021-08-20',\n",
       " 'Quinquelingual English-German-Hebrew-Hungarian-Polish signs',\n",
       " 'Italy photographs taken on 2016-03-18',\n",
       " 'Afghanistan photographs taken on 2007-08-11',\n",
       " '2001 in mining in North Rhine-Westphalia',\n",
       " 'People from Monongalia County, West Virginia',\n",
       " '50005 (number)',\n",
       " \"Saint-Aignan (Loir-et-Cher) in Médiathèque de l'architecture et du patrimoine\"]"
      ]
     },
     "execution_count": 31,
     "metadata": {},
     "output_type": "execute_result"
    }
   ],
   "source": [
    "# Examples of nodes that cannot reach CommonsRoot\n",
    "list(not_connected_nodes)[:10]"
   ]
  },
  {
   "cell_type": "markdown",
   "metadata": {},
   "source": [
    "Almost all those categories in reality are connected, but they have ancestors added via templates (ex. Virginia State Route 7298 or Religious organizations established in 1123). For now, we didn't manage to get the template expansion working, so categories added through templates are not available."
   ]
  },
  {
   "cell_type": "code",
   "execution_count": 32,
   "metadata": {},
   "outputs": [
    {
     "data": {
      "text/plain": [
       "OutEdgeDataView([])"
      ]
     },
     "execution_count": 32,
     "metadata": {},
     "output_type": "execute_result"
    }
   ],
   "source": [
    "G.out_edges('Virginia State Route 7298')"
   ]
  },
  {
   "cell_type": "code",
   "execution_count": 37,
   "metadata": {},
   "outputs": [
    {
     "name": "stdout",
     "output_type": "stream",
     "text": [
      "There are 6999277 leaf nodes, corresponding to the 62.50% of all categories\n",
      "There are 1767036 leaf nodes containing images appearing in en.wiki, corresponding to the 60.49% of categories in en.wiki, to the 25.25% of leaf nodes, and to the 15.78% of all categories\n"
     ]
    }
   ],
   "source": [
    "leaf_it = (x for x in G.nodes() if G.in_degree(x) == 0)\n",
    "wiki_leaf_it = (x for x in G.nodes() if G.in_degree(x) == 0 and G.nodes[x].get('in_en_wiki', 0))\n",
    "nleaves = sum(1 for _ in leaf_it)\n",
    "nleaves_wiki = sum(1 for _ in wiki_leaf_it)\n",
    "\n",
    "print(f'There are {nleaves} leaf nodes, corresponding to the ' +\n",
    "      f'{nleaves / G.number_of_nodes() * 100 :.2f}% of all categories')\n",
    "\n",
    "print(f'There are {nleaves_wiki} leaf nodes containing images appearing in en.wiki, corresponding to the ' + \n",
    "      f'{nleaves_wiki / len(in_wiki_cats) * 100 :.2f}% of categories in en.wiki, to the ' +\n",
    "      f'{nleaves_wiki / nleaves * 100 :.2f}% of leaf nodes, and to the ' +\n",
    "      f'{nleaves_wiki / G.number_of_nodes() * 100 :.2f}% of all categories')"
   ]
  },
  {
   "cell_type": "code",
   "execution_count": 38,
   "metadata": {},
   "outputs": [
    {
     "data": {
      "image/png": "[encoded data removed]",
      "text/plain": [
       "<Figure size 432x288 with 1 Axes>"
      ]
     },
     "metadata": {
      "needs_background": "light"
     },
     "output_type": "display_data"
    }
   ],
   "source": [
    "counts = Counter(d for n, d in G.in_degree())\n",
    "in_degree_freq = [counts.get(i, 0) for i in range(max(counts) + 1)]\n",
    "\n",
    "plt.loglog(range(len(in_degree_freq)), in_degree_freq)\n",
    "plt.xlabel('in_degree')\n",
    "plt.ylabel('frequency')\n",
    "plt.show()"
   ]
  },
  {
   "cell_type": "code",
   "execution_count": 39,
   "metadata": {},
   "outputs": [
    {
     "data": {
      "image/png": "[encoded data removed]",
      "text/plain": [
       "<Figure size 432x288 with 1 Axes>"
      ]
     },
     "metadata": {
      "needs_background": "light"
     },
     "output_type": "display_data"
    }
   ],
   "source": [
    "counts = Counter(d for n, d in G.out_degree())\n",
    "out_degree_freq = [counts.get(i, 0) for i in range(max(counts) + 1)]\n",
    "\n",
    "plt.loglog(range(len(out_degree_freq)), out_degree_freq)\n",
    "plt.xlabel('out_degree')\n",
    "plt.ylabel('frequency')\n",
    "plt.show()"
   ]
  },
  {
   "cell_type": "code",
   "execution_count": 40,
   "metadata": {},
   "outputs": [],
   "source": [
    "# [(n, depth[n]) for n in G.successors('Chairs')]"
   ]
  },
  {
   "cell_type": "code",
   "execution_count": 41,
   "metadata": {},
   "outputs": [],
   "source": [
    "# descendants_by_depth = [(len(nx.descendants(G, node)), depth[node]) for node in depth.keys()]"
   ]
  }
 ],
 "metadata": {
  "interpreter": {
   "hash": "04bf3c03e93e0e94a1d038aa36107c2a70cb015ab0da2208309d202be833925b"
  },
  "kernelspec": {
   "display_name": "Python 3.9.7 ('francesco': conda)",
   "language": "python",
   "name": "python3"
  },
  "language_info": {
   "codemirror_mode": {
    "name": "ipython",
    "version": 3
   },
   "file_extension": ".py",
   "mimetype": "text/x-python",
   "name": "python",
   "nbconvert_exporter": "python",
   "pygments_lexer": "ipython3",
   "version": "3.9.7"
  },
  "orig_nbformat": 4
 },
 "nbformat": 4,
 "nbformat_minor": 2
}
