{
 "cells": [
  {
   "cell_type": "code",
   "execution_count": 1,
   "metadata": {},
   "outputs": [],
   "source": [
    "import numpy as np \n",
    "import pandas as pd\n",
    "import networkx as nx\n",
    "import matplotlib.pyplot as plt\n",
    "import seaborn as sns\n",
    "from collections import Counter"
   ]
  },
  {
   "cell_type": "code",
   "execution_count": 2,
   "metadata": {},
   "outputs": [],
   "source": [
    "# Inputs\n",
    "CATEGORIES_PATH = '/scratch/WikipediaImagesTaxonomy/commonswiki-20220220-category-network.parquet'"
   ]
  },
  {
   "cell_type": "code",
   "execution_count": 3,
   "metadata": {},
   "outputs": [],
   "source": [
    "def build_category_graph(categories):\n",
    "        '''\n",
    "        Build the category graph, starting from the DataFrame extracted by processing dumps\n",
    "        '''\n",
    "        categories = categories.set_index('title')\n",
    "        # Build DiGraph from adjacency matrix\n",
    "        G = nx.DiGraph(categories.parents.to_dict())\n",
    "        nx.set_node_attributes(G, dict(zip(categories.index, categories[['id', 'hiddencat']].to_dict(orient='records'))))\n",
    "        depth = {node: len(sps) for node, sps in nx.shortest_path(G, target='CommonsRoot').items()}\n",
    "        nx.set_node_attributes(G, depth, name='depth')\n",
    "        return G"
   ]
  },
  {
   "cell_type": "code",
   "execution_count": 4,
   "metadata": {},
   "outputs": [
    {
     "data": {
      "text/html": [
       "<div>\n",
       "<style scoped>\n",
       "    .dataframe tbody tr th:only-of-type {\n",
       "        vertical-align: middle;\n",
       "    }\n",
       "\n",
       "    .dataframe tbody tr th {\n",
       "        vertical-align: top;\n",
       "    }\n",
       "\n",
       "    .dataframe thead th {\n",
       "        text-align: right;\n",
       "    }\n",
       "</style>\n",
       "<table border=\"1\" class=\"dataframe\">\n",
       "  <thead>\n",
       "    <tr style=\"text-align: right;\">\n",
       "      <th></th>\n",
       "      <th>id</th>\n",
       "      <th>title</th>\n",
       "      <th>parents</th>\n",
       "      <th>hiddencat</th>\n",
       "      <th>childs</th>\n",
       "    </tr>\n",
       "  </thead>\n",
       "  <tbody>\n",
       "    <tr>\n",
       "      <th>0</th>\n",
       "      <td>89434922</td>\n",
       "      <td>\"Azərişıq\" ASC</td>\n",
       "      <td>[Energy in Azerbaijan]</td>\n",
       "      <td>False</td>\n",
       "      <td>[Vugar Ahmadov, Ilham Aliyev attended opening ...</td>\n",
       "    </tr>\n",
       "    <tr>\n",
       "      <th>1</th>\n",
       "      <td>59340547</td>\n",
       "      <td>\"Flores de María\"</td>\n",
       "      <td>[Folk festivals in the Philippines, Flores de ...</td>\n",
       "      <td>False</td>\n",
       "      <td>[Dapit (May, 2017)]</td>\n",
       "    </tr>\n",
       "    <tr>\n",
       "      <th>2</th>\n",
       "      <td>29072664</td>\n",
       "      <td>'s-Gravenhof, Zutphen</td>\n",
       "      <td>[Streets in Zutphen]</td>\n",
       "      <td>False</td>\n",
       "      <td>[St Walburgis Church (Zutphen), Town hall of Z...</td>\n",
       "    </tr>\n",
       "    <tr>\n",
       "      <th>3</th>\n",
       "      <td>2145396</td>\n",
       "      <td>'s-Heerenberg</td>\n",
       "      <td>[Montferland, Populated places in Gelderland, ...</td>\n",
       "      <td>False</td>\n",
       "      <td>[Patrick Beverloo, De heks van 's-Heerenberg, ...</td>\n",
       "    </tr>\n",
       "    <tr>\n",
       "      <th>4</th>\n",
       "      <td>114888133</td>\n",
       "      <td>'s-Hertogenbosch in art</td>\n",
       "      <td>['s-Hertogenbosch, Cities in the Netherlands i...</td>\n",
       "      <td>False</td>\n",
       "      <td>[Prints and drawings of 's-Hertogenbosch, Old ...</td>\n",
       "    </tr>\n",
       "  </tbody>\n",
       "</table>\n",
       "</div>"
      ],
      "text/plain": [
       "          id                    title  \\\n",
       "0   89434922           \"Azərişıq\" ASC   \n",
       "1   59340547        \"Flores de María\"   \n",
       "2   29072664    's-Gravenhof, Zutphen   \n",
       "3    2145396            's-Heerenberg   \n",
       "4  114888133  's-Hertogenbosch in art   \n",
       "\n",
       "                                             parents  hiddencat  \\\n",
       "0                             [Energy in Azerbaijan]      False   \n",
       "1  [Folk festivals in the Philippines, Flores de ...      False   \n",
       "2                               [Streets in Zutphen]      False   \n",
       "3  [Montferland, Populated places in Gelderland, ...      False   \n",
       "4  ['s-Hertogenbosch, Cities in the Netherlands i...      False   \n",
       "\n",
       "                                              childs  \n",
       "0  [Vugar Ahmadov, Ilham Aliyev attended opening ...  \n",
       "1                                [Dapit (May, 2017)]  \n",
       "2  [St Walburgis Church (Zutphen), Town hall of Z...  \n",
       "3  [Patrick Beverloo, De heks van 's-Heerenberg, ...  \n",
       "4  [Prints and drawings of 's-Hertogenbosch, Old ...  "
      ]
     },
     "execution_count": 4,
     "metadata": {},
     "output_type": "execute_result"
    }
   ],
   "source": [
    "categories = pd.read_parquet(CATEGORIES_PATH)\n",
    "categories.head()"
   ]
  },
  {
   "cell_type": "code",
   "execution_count": 5,
   "metadata": {},
   "outputs": [],
   "source": [
    "G = build_category_graph(categories)"
   ]
  },
  {
   "cell_type": "code",
   "execution_count": 6,
   "metadata": {},
   "outputs": [
    {
     "name": "stderr",
     "output_type": "stream",
     "text": [
      "/tmp/ipykernel_6211/1064119803.py:1: DeprecationWarning: info is deprecated and will be removed in version 3.0.\n",
      "\n",
      "  nx.info(G)\n"
     ]
    },
    {
     "data": {
      "text/plain": [
       "'DiGraph with 4100496 nodes and 9930927 edges'"
      ]
     },
     "execution_count": 6,
     "metadata": {},
     "output_type": "execute_result"
    }
   ],
   "source": [
    "nx.info(G)"
   ]
  },
  {
   "cell_type": "code",
   "execution_count": 7,
   "metadata": {},
   "outputs": [
    {
     "name": "stdout",
     "output_type": "stream",
     "text": [
      "There are 16352 identified hidden categories, corresponding to the 0.40% of all categories\n"
     ]
    }
   ],
   "source": [
    "hiddencats = [node for node, hiddencat in nx.get_node_attributes(G, 'hiddencat').items() if hiddencat]\n",
    "print(f'There are {len(hiddencats)} identified hidden categories, corresponding to the ' +\n",
    "      f'{len(hiddencats) / G.number_of_nodes() * 100 :.2f}% of all categories')"
   ]
  },
  {
   "cell_type": "code",
   "execution_count": 8,
   "metadata": {},
   "outputs": [],
   "source": [
    "depth = nx.get_node_attributes(G, 'depth')"
   ]
  },
  {
   "cell_type": "code",
   "execution_count": 9,
   "metadata": {},
   "outputs": [
    {
     "name": "stdout",
     "output_type": "stream",
     "text": [
      "There are 3578565 nodes connected to CommonsRoot, corresponding to the 87.27% of all categories\n"
     ]
    }
   ],
   "source": [
    "print(f'There are {len(depth)} nodes connected to CommonsRoot, corresponding to the ' +\n",
    "      f'{len(depth) / G.number_of_nodes() * 100 :.2f}% of all categories')"
   ]
  },
  {
   "cell_type": "code",
   "execution_count": 10,
   "metadata": {},
   "outputs": [
    {
     "data": {
      "text/plain": [
       "[(1, 1),\n",
       " (2, 7),\n",
       " (3, 118),\n",
       " (4, 2329),\n",
       " (5, 49610),\n",
       " (6, 202450),\n",
       " (7, 595676),\n",
       " (8, 1003921),\n",
       " (9, 930657),\n",
       " (10, 518453),\n",
       " (11, 190100),\n",
       " (12, 38510),\n",
       " (13, 10015),\n",
       " (14, 6026),\n",
       " (15, 6420),\n",
       " (16, 6034),\n",
       " (17, 3926),\n",
       " (18, 5138),\n",
       " (19, 4574),\n",
       " (20, 1614),\n",
       " (21, 551),\n",
       " (22, 626),\n",
       " (23, 472),\n",
       " (24, 685),\n",
       " (25, 317),\n",
       " (26, 225),\n",
       " (27, 87),\n",
       " (28, 16),\n",
       " (29, 5),\n",
       " (30, 2)]"
      ]
     },
     "execution_count": 10,
     "metadata": {},
     "output_type": "execute_result"
    }
   ],
   "source": [
    "sorted(Counter(depth.values()).items(), key=lambda x: x[0])"
   ]
  },
  {
   "cell_type": "code",
   "execution_count": 11,
   "metadata": {},
   "outputs": [
    {
     "data": {
      "image/png": "[encoded data removed]",
      "text/plain": [
       "<Figure size 432x288 with 1 Axes>"
      ]
     },
     "metadata": {
      "needs_background": "light"
     },
     "output_type": "display_data"
    }
   ],
   "source": [
    "counts = pd.Series(depth).value_counts(sort=False, normalize=True)\n",
    "sns.barplot(x=counts.index, y=counts.values)\n",
    "plt.xlabel('Shortest path length')\n",
    "plt.ylabel('Frequency')\n",
    "plt.show()"
   ]
  },
  {
   "cell_type": "code",
   "execution_count": 12,
   "metadata": {},
   "outputs": [],
   "source": [
    "not_connected_nodes = set(G.nodes) - set(depth.keys())"
   ]
  },
  {
   "cell_type": "code",
   "execution_count": 13,
   "metadata": {},
   "outputs": [
    {
     "data": {
      "text/plain": [
       "['',\n",
       " 'Structures in Chechnya',\n",
       " 'Aircraft at Cranfield Airport',\n",
       " 'Actors in 2017',\n",
       " 'Comedians in 1983',\n",
       " 'Number 1 on objects',\n",
       " 'Number 7751 on vehicles',\n",
       " '2021 photographs of the United States',\n",
       " '2020 in Tərtər Rayon',\n",
       " '2011 establishments in Japan']"
      ]
     },
     "execution_count": 13,
     "metadata": {},
     "output_type": "execute_result"
    }
   ],
   "source": [
    "# Examples of nodes that cannot reach CommonsRoot\n",
    "list(not_connected_nodes)[:10]"
   ]
  },
  {
   "cell_type": "markdown",
   "metadata": {},
   "source": [
    "Almost all those categories in reality are connected, but they have ancestors added via templates (ex. Virginia State Route 7298 or Religious organizations established in 1123). For now, we didn't manage to get the template expansion working, so categories added through templates are not available."
   ]
  },
  {
   "cell_type": "code",
   "execution_count": 14,
   "metadata": {},
   "outputs": [
    {
     "data": {
      "text/plain": [
       "OutEdgeDataView([])"
      ]
     },
     "execution_count": 14,
     "metadata": {},
     "output_type": "execute_result"
    }
   ],
   "source": [
    "G.out_edges('Virginia State Route 7298')"
   ]
  },
  {
   "cell_type": "code",
   "execution_count": 15,
   "metadata": {},
   "outputs": [
    {
     "name": "stdout",
     "output_type": "stream",
     "text": [
      "There are 1908918 leaf nodes, corresponding to the 46.55% of all categories\n"
     ]
    }
   ],
   "source": [
    "leaf_it = (x for x in G.nodes() if G.in_degree(x) == 0)\n",
    "nleaves = sum(1 for _ in leaf_it)\n",
    "\n",
    "print(f'There are {nleaves} leaf nodes, corresponding to the ' +\n",
    "      f'{nleaves / G.number_of_nodes() * 100 :.2f}% of all categories')"
   ]
  },
  {
   "cell_type": "code",
   "execution_count": 16,
   "metadata": {},
   "outputs": [
    {
     "data": {
      "image/png": "[encoded data removed]",
      "text/plain": [
       "<Figure size 432x288 with 1 Axes>"
      ]
     },
     "metadata": {
      "needs_background": "light"
     },
     "output_type": "display_data"
    }
   ],
   "source": [
    "counts = Counter(d for n, d in G.in_degree())\n",
    "in_degree_freq = [counts.get(i, 0) for i in range(max(counts) + 1)]\n",
    "\n",
    "plt.loglog(range(len(in_degree_freq)), in_degree_freq)\n",
    "plt.xlabel('in_degree')\n",
    "plt.ylabel('frequency')\n",
    "plt.show()"
   ]
  },
  {
   "cell_type": "code",
   "execution_count": 17,
   "metadata": {},
   "outputs": [
    {
     "data": {
      "image/png": "[encoded data removed]",
      "text/plain": [
       "<Figure size 432x288 with 1 Axes>"
      ]
     },
     "metadata": {
      "needs_background": "light"
     },
     "output_type": "display_data"
    }
   ],
   "source": [
    "counts = Counter(d for n, d in G.out_degree())\n",
    "out_degree_freq = [counts.get(i, 0) for i in range(max(counts) + 1)]\n",
    "\n",
    "plt.loglog(range(len(out_degree_freq)), out_degree_freq)\n",
    "plt.xlabel('out_degree')\n",
    "plt.ylabel('frequency')\n",
    "plt.show()"
   ]
  },
  {
   "cell_type": "code",
   "execution_count": 18,
   "metadata": {},
   "outputs": [
    {
     "data": {
      "text/plain": [
       "[('Seats', 8), ('Single seating furniture', 8)]"
      ]
     },
     "execution_count": 18,
     "metadata": {},
     "output_type": "execute_result"
    }
   ],
   "source": [
    "[(n, depth[n]) for n in G.successors('Chairs')]"
   ]
  },
  {
   "cell_type": "code",
   "execution_count": 20,
   "metadata": {},
   "outputs": [],
   "source": [
    "descendants_by_depth = [(len(nx.descendants(G, node)), depth[node]) for node in depth.keys()]"
   ]
  },
  {
   "cell_type": "code",
   "execution_count": null,
   "metadata": {},
   "outputs": [],
   "source": [
    "descendants_by_depth[:10]"
   ]
  }
 ],
 "metadata": {
  "interpreter": {
   "hash": "04bf3c03e93e0e94a1d038aa36107c2a70cb015ab0da2208309d202be833925b"
  },
  "kernelspec": {
   "display_name": "Python 3.9.7 ('francesco': conda)",
   "language": "python",
   "name": "python3"
  },
  "language_info": {
   "codemirror_mode": {
    "name": "ipython",
    "version": 3
   },
   "file_extension": ".py",
   "mimetype": "text/x-python",
   "name": "python",
   "nbconvert_exporter": "python",
   "pygments_lexer": "ipython3",
   "version": "3.9.7"
  },
  "orig_nbformat": 4
 },
 "nbformat": 4,
 "nbformat_minor": 2
}
